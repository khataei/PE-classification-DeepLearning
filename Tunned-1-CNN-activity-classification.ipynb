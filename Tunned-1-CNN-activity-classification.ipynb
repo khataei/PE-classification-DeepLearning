{
 "cells": [
  {
   "cell_type": "markdown",
   "metadata": {
    "colab_type": "text",
    "id": "view-in-github"
   },
   "source": [
    "<a href=\"https://colab.research.google.com/github/jonkrohn/DLTFpT/blob/master/notebooks/dense_sentiment_classifier.ipynb\" target=\"_parent\"><img src=\"https://colab.research.google.com/assets/colab-badge.svg\" alt=\"Open In Colab\"/></a>"
   ]
  },
  {
   "cell_type": "markdown",
   "metadata": {
    "colab_type": "text",
    "id": "ahUZuAfz8Jje"
   },
   "source": [
    "# CNN Activity Classifier"
   ]
  },
  {
   "cell_type": "markdown",
   "metadata": {
    "colab_type": "text",
    "id": "Re0ecmVI8Jjk"
   },
   "source": [
    "In this notebook, we build a CNN neural net to classify PE activity."
   ]
  },
  {
   "cell_type": "markdown",
   "metadata": {
    "colab_type": "text",
    "id": "ixsGb9tY8Jjm"
   },
   "source": [
    "#### Load dependencies"
   ]
  },
  {
   "cell_type": "code",
   "execution_count": 119,
   "metadata": {
    "colab": {},
    "colab_type": "code",
    "id": "5At1PKQp8Jjp"
   },
   "outputs": [],
   "source": [
    "import tensorflow\n",
    "from tensorflow.keras.utils import to_categorical\n",
    "from tensorflow.keras.models import Sequential\n",
    "from tensorflow.keras.layers import Dense, Flatten, Dropout, Conv1D, GlobalMaxPooling1D, MaxPool1D, GlobalAveragePooling1D\n",
    "from tensorflow.keras.layers import AveragePooling1D, LeakyReLU\n",
    "from tensorflow.keras.callbacks import ModelCheckpoint \n",
    "import os  \n",
    "from sklearn.metrics import roc_auc_score, roc_curve \n",
    "from sklearn.model_selection import train_test_split\n",
    "import pandas as pd\n",
    "import numpy as np\n",
    "import matplotlib.pyplot as plt "
   ]
  },
  {
   "cell_type": "markdown",
   "metadata": {
    "colab_type": "text",
    "id": "Hg5wX2Dd8Jjz"
   },
   "source": [
    "#### Set hyperparameters"
   ]
  },
  {
   "cell_type": "code",
   "execution_count": 120,
   "metadata": {
    "colab": {},
    "colab_type": "code",
    "id": "lYLOM99-8Jj2"
   },
   "outputs": [],
   "source": [
    "# output directory name:\n",
    "output_dir = 'model_output/cnn2'\n",
    "input_dir =  'Z:/Research/dfuller/Walkabilly/studies/smarphone_accel/data/Ethica_Jaeger_Merged/pocket/'\n",
    "input_file_name = 'pocket-NN-data.npz'\n",
    "\n",
    "# from the data preparation section we have:\n",
    "window_size_second = 3\n",
    "frequency = 30\n",
    "lenght_of_each_seq = window_size_second * frequency\n",
    "\n",
    "# pooling layer parameters\n",
    "maxpooling_pool_size = 2\n",
    "avepooling_pool_size = 2\n",
    "\n",
    "\n",
    "# convolutional layer architecture:\n",
    "n_conv_1 = 256 # filters, a.k.a. kernels\n",
    "k_conv_1 = 3 # kernel length\n",
    "n_conv_2 = 256\n",
    "k_conv_2 = 3 # kernel length\n",
    "n_conv_3 = 256 # filters, a.k.a. kernels\n",
    "k_conv_3 = 2 # kernel length\n",
    "\n",
    "# dense layer architecture: \n",
    "n_dense_1 = 512\n",
    "dropout_1 = 0.3\n",
    "n_dense_2 = 256\n",
    "dropout_2 = 0.25\n",
    "\n",
    "# training:\n",
    "epochs = 60\n",
    "batch_size = 256\n"
   ]
  },
  {
   "cell_type": "markdown",
   "metadata": {
    "colab_type": "text",
    "id": "DaLx4yZ48Jj9"
   },
   "source": [
    "#### Load data"
   ]
  },
  {
   "cell_type": "markdown",
   "metadata": {
    "colab_type": "text",
    "id": "CD9X0yJg8Jj_"
   },
   "source": [
    "##### For this notebook we use the acceleration data gathered from the pocket location. It was prepared in the DataPrep-Deep notebook"
   ]
  },
  {
   "cell_type": "code",
   "execution_count": 121,
   "metadata": {
    "colab": {},
    "colab_type": "code",
    "id": "6r44JKj-8JkA"
   },
   "outputs": [
    {
     "name": "stdout",
     "output_type": "stream",
     "text": [
      "acceleration_data\n",
      "metadata\n",
      "labels\n"
     ]
    }
   ],
   "source": [
    "# read the raw file and get the keys:\n",
    "raw_data = np.load(file=input_dir+input_file_name,allow_pickle=True)\n",
    "for k in raw_data.keys():\n",
    "    print(k)"
   ]
  },
  {
   "cell_type": "code",
   "execution_count": 122,
   "metadata": {},
   "outputs": [],
   "source": [
    "# import the data\n",
    "\n",
    "accel_array = raw_data['acceleration_data']\n",
    "meta_array = raw_data['metadata']\n",
    "labels_array = raw_data['labels']\n"
   ]
  },
  {
   "cell_type": "markdown",
   "metadata": {
    "colab_type": "text",
    "id": "WWq3ipbu8JlG"
   },
   "source": [
    "#### Preprocess data"
   ]
  },
  {
   "cell_type": "markdown",
   "metadata": {},
   "source": [
    "#### Convert the  labels to integer.\n",
    "In the raw data format of the labels is String and there are 6 classes. 'Lying', 'Sitting', 'Self Pace walk', 'Running 3 METs',\n",
    "       'Running 5 METs', 'Running 7 METs' <br>\n",
    "\n",
    "\n"
   ]
  },
  {
   "cell_type": "code",
   "execution_count": 123,
   "metadata": {
    "colab": {},
    "colab_type": "code",
    "id": "LyReiequ8Jln"
   },
   "outputs": [
    {
     "data": {
      "text/plain": [
       "array([[ True],\n",
       "       [ True],\n",
       "       [ True],\n",
       "       ...,\n",
       "       [ True],\n",
       "       [ True],\n",
       "       [ True]])"
      ]
     },
     "execution_count": 123,
     "metadata": {},
     "output_type": "execute_result"
    }
   ],
   "source": [
    "# change from string to integer so keras.to_categorical can consume it\n",
    "\n",
    "# could do with factorize method as well\n",
    "n_class = len(np.unique(labels_array))\n",
    "class_list, labels_array_int = np.unique(labels_array,return_inverse=True)\n",
    "labels_array_int\n",
    "\n",
    "# check if the result is consistant with the original input\n",
    "class_list[labels_array_int].reshape(len(labels_array_int), 1) == labels_array\n",
    "\n",
    "# Note: to get the reverse, i.e converting integer array to string use class_list[labels_array_int]"
   ]
  },
  {
   "cell_type": "code",
   "execution_count": 124,
   "metadata": {},
   "outputs": [
    {
     "data": {
      "text/plain": [
       "(64754, 6)"
      ]
     },
     "execution_count": 124,
     "metadata": {},
     "output_type": "execute_result"
    }
   ],
   "source": [
    "# labels to categorical\n",
    "\n",
    "y = to_categorical(labels_array_int, num_classes=n_class)\n",
    "y.shape"
   ]
  },
  {
   "cell_type": "code",
   "execution_count": 125,
   "metadata": {},
   "outputs": [
    {
     "data": {
      "text/plain": [
       "[64754, 90, 3]"
      ]
     },
     "execution_count": 125,
     "metadata": {},
     "output_type": "execute_result"
    }
   ],
   "source": [
    "input_shape = list(accel_array.shape)\n",
    "input_shape"
   ]
  },
  {
   "cell_type": "markdown",
   "metadata": {
    "colab_type": "text",
    "collapsed": true,
    "id": "GscSnCpk8Jlm"
   },
   "source": [
    "\n",
    "#### Design neural network architecture"
   ]
  },
  {
   "cell_type": "code",
   "execution_count": 127,
   "metadata": {},
   "outputs": [
    {
     "name": "stdout",
     "output_type": "stream",
     "text": [
      "Model: \"sequential_18\"\n",
      "_________________________________________________________________\n",
      "Layer (type)                 Output Shape              Param #   \n",
      "=================================================================\n",
      "conv1d_44 (Conv1D)           (None, 88, 256)           2560      \n",
      "_________________________________________________________________\n",
      "max_pooling1d_18 (MaxPooling (None, 44, 256)           0         \n",
      "_________________________________________________________________\n",
      "conv1d_45 (Conv1D)           (None, 42, 256)           196864    \n",
      "_________________________________________________________________\n",
      "average_pooling1d_8 (Average (None, 21, 256)           0         \n",
      "_________________________________________________________________\n",
      "conv1d_46 (Conv1D)           (None, 20, 256)           131328    \n",
      "_________________________________________________________________\n",
      "global_average_pooling1d_10  (None, 256)               0         \n",
      "_________________________________________________________________\n",
      "dense_36 (Dense)             (None, 512)               131584    \n",
      "_________________________________________________________________\n",
      "dropout_22 (Dropout)         (None, 512)               0         \n",
      "_________________________________________________________________\n",
      "dense_37 (Dense)             (None, 256)               131328    \n",
      "_________________________________________________________________\n",
      "dropout_23 (Dropout)         (None, 256)               0         \n",
      "_________________________________________________________________\n",
      "dense_38 (Dense)             (None, 6)                 1542      \n",
      "=================================================================\n",
      "Total params: 595,206\n",
      "Trainable params: 595,206\n",
      "Non-trainable params: 0\n",
      "_________________________________________________________________\n"
     ]
    }
   ],
   "source": [
    "# a conv model!\n",
    "\n",
    "model = Sequential()\n",
    "model.add(Conv1D(n_conv_1, k_conv_1, activation='relu', input_shape=input_shape[1:]))\n",
    "model.add(MaxPool1D(pool_size = maxpooling_pool_size))\n",
    "model.add(Conv1D(n_conv_2, k_conv_2, activation='relu'))\n",
    "model.add(AveragePooling1D(pool_size = avepooling_pool_size))\n",
    "model.add(Conv1D(n_conv_3, k_conv_3, activation='relu'))\n",
    "# model.add(GlobalMaxPooling1D())\n",
    "model.add(GlobalAveragePooling1D())\n",
    "model.add(Dense(n_dense_1, activation=LeakyReLU(alpha=0.1)))\n",
    "model.add(Dropout(dropout_1))\n",
    "model.add(Dense(n_dense_2, activation='relu'))\n",
    "model.add(Dropout(dropout_2))\n",
    "model.add(Dense(n_class, activation='softmax'))\n",
    "model.summary()"
   ]
  },
  {
   "cell_type": "markdown",
   "metadata": {
    "colab": {},
    "colab_type": "code",
    "id": "40x3s0KY8Jlv",
    "outputId": "d3ac3e31-3c47-4b01-c2f9-ada0684b31b7"
   },
   "source": [
    "### Splitting and shuffeling the data"
   ]
  },
  {
   "cell_type": "code",
   "execution_count": 128,
   "metadata": {
    "colab": {},
    "colab_type": "code",
    "id": "f5grc2H78Jlz",
    "outputId": "3f7eeb55-f851-4796-de4e-0c68eb9df88d"
   },
   "outputs": [],
   "source": [
    "# split and shuffle\n",
    "x_train, x_valid, y_train, y_valid = train_test_split(\n",
    "     accel_array, y, test_size=0.1, random_state=65)"
   ]
  },
  {
   "cell_type": "markdown",
   "metadata": {
    "colab_type": "text",
    "id": "JkbhJMox8Jl9"
   },
   "source": [
    "#### Configure model"
   ]
  },
  {
   "cell_type": "code",
   "execution_count": 129,
   "metadata": {
    "colab": {},
    "colab_type": "code",
    "id": "QodbQvQh8Jl_"
   },
   "outputs": [],
   "source": [
    "model.compile(loss='categorical_crossentropy', optimizer='nadam', metrics=['accuracy'])"
   ]
  },
  {
   "cell_type": "code",
   "execution_count": 130,
   "metadata": {
    "colab": {},
    "colab_type": "code",
    "id": "zHjvYe288JmE"
   },
   "outputs": [],
   "source": [
    "modelcheckpoint = ModelCheckpoint(filepath=output_dir+\n",
    "                                  \"/weights.{epoch:02d}.hdf5\")"
   ]
  },
  {
   "cell_type": "code",
   "execution_count": 131,
   "metadata": {
    "colab": {},
    "colab_type": "code",
    "id": "esUwodZA8JmI"
   },
   "outputs": [],
   "source": [
    "if not os.path.exists(output_dir):\n",
    "    os.makedirs(output_dir)"
   ]
  },
  {
   "cell_type": "markdown",
   "metadata": {
    "colab_type": "text",
    "id": "TEYpX7968JmL"
   },
   "source": [
    "#### Train!"
   ]
  },
  {
   "cell_type": "code",
   "execution_count": 132,
   "metadata": {
    "colab": {},
    "colab_type": "code",
    "id": "QaD1W7Ka8JmM",
    "outputId": "f0c30141-0962-48f6-a000-d136af50af79"
   },
   "outputs": [
    {
     "name": "stdout",
     "output_type": "stream",
     "text": [
      "Epoch 1/60\n",
      "228/228 [==============================] - 6s 25ms/step - loss: 1.0732 - accuracy: 0.5505 - val_loss: 0.8005 - val_accuracy: 0.6805\n",
      "Epoch 2/60\n",
      "228/228 [==============================] - 5s 23ms/step - loss: 0.7005 - accuracy: 0.7145 - val_loss: 0.5832 - val_accuracy: 0.7648\n",
      "Epoch 3/60\n",
      "228/228 [==============================] - 5s 23ms/step - loss: 0.4800 - accuracy: 0.8212 - val_loss: 0.6195 - val_accuracy: 0.7773\n",
      "Epoch 4/60\n",
      "228/228 [==============================] - 5s 23ms/step - loss: 0.3663 - accuracy: 0.8636 - val_loss: 0.3177 - val_accuracy: 0.8885\n",
      "Epoch 5/60\n",
      "228/228 [==============================] - 5s 23ms/step - loss: 0.3118 - accuracy: 0.8855 - val_loss: 0.2939 - val_accuracy: 0.8931\n",
      "Epoch 6/60\n",
      "228/228 [==============================] - 5s 23ms/step - loss: 0.2833 - accuracy: 0.8956 - val_loss: 0.3149 - val_accuracy: 0.8792\n",
      "Epoch 7/60\n",
      "228/228 [==============================] - 5s 23ms/step - loss: 0.2762 - accuracy: 0.9000 - val_loss: 0.2445 - val_accuracy: 0.9070\n",
      "Epoch 8/60\n",
      "228/228 [==============================] - 5s 23ms/step - loss: 0.2468 - accuracy: 0.9110 - val_loss: 0.2336 - val_accuracy: 0.9141\n",
      "Epoch 9/60\n",
      "228/228 [==============================] - 5s 23ms/step - loss: 0.2295 - accuracy: 0.9166 - val_loss: 0.2303 - val_accuracy: 0.9143\n",
      "Epoch 10/60\n",
      "228/228 [==============================] - 5s 23ms/step - loss: 0.2222 - accuracy: 0.9191 - val_loss: 0.2336 - val_accuracy: 0.9165\n",
      "Epoch 11/60\n",
      "228/228 [==============================] - 5s 23ms/step - loss: 0.2206 - accuracy: 0.9212 - val_loss: 0.2123 - val_accuracy: 0.9197\n",
      "Epoch 12/60\n",
      "228/228 [==============================] - 5s 23ms/step - loss: 0.2425 - accuracy: 0.9164 - val_loss: 0.2086 - val_accuracy: 0.9259\n",
      "Epoch 13/60\n",
      "228/228 [==============================] - 5s 23ms/step - loss: 0.1970 - accuracy: 0.9291 - val_loss: 0.2036 - val_accuracy: 0.9316\n",
      "Epoch 14/60\n",
      "228/228 [==============================] - 5s 23ms/step - loss: 0.1942 - accuracy: 0.9299 - val_loss: 0.1896 - val_accuracy: 0.9293\n",
      "Epoch 15/60\n",
      "228/228 [==============================] - 5s 23ms/step - loss: 0.1822 - accuracy: 0.9338 - val_loss: 0.2001 - val_accuracy: 0.9317\n",
      "Epoch 16/60\n",
      "228/228 [==============================] - 5s 23ms/step - loss: 0.1771 - accuracy: 0.9353 - val_loss: 0.1979 - val_accuracy: 0.9302\n",
      "Epoch 17/60\n",
      "228/228 [==============================] - 5s 23ms/step - loss: 0.1822 - accuracy: 0.9357 - val_loss: 0.1879 - val_accuracy: 0.9336\n",
      "Epoch 18/60\n",
      "228/228 [==============================] - 5s 23ms/step - loss: 0.1649 - accuracy: 0.9405 - val_loss: 0.1816 - val_accuracy: 0.9384\n",
      "Epoch 19/60\n",
      "228/228 [==============================] - 5s 23ms/step - loss: 0.1627 - accuracy: 0.9418 - val_loss: 0.1670 - val_accuracy: 0.9424\n",
      "Epoch 20/60\n",
      "228/228 [==============================] - 5s 23ms/step - loss: 0.1559 - accuracy: 0.9442 - val_loss: 0.1672 - val_accuracy: 0.9396\n",
      "Epoch 21/60\n",
      "228/228 [==============================] - 5s 23ms/step - loss: 0.1488 - accuracy: 0.9466 - val_loss: 0.1615 - val_accuracy: 0.9398\n",
      "Epoch 22/60\n",
      "228/228 [==============================] - 5s 23ms/step - loss: 0.1477 - accuracy: 0.9458 - val_loss: 0.1746 - val_accuracy: 0.9389\n",
      "Epoch 23/60\n",
      "228/228 [==============================] - 5s 23ms/step - loss: 0.1431 - accuracy: 0.9486 - val_loss: 0.1907 - val_accuracy: 0.9345\n",
      "Epoch 24/60\n",
      "228/228 [==============================] - 5s 23ms/step - loss: 0.1380 - accuracy: 0.9498 - val_loss: 0.1648 - val_accuracy: 0.9481\n",
      "Epoch 25/60\n",
      "228/228 [==============================] - 5s 23ms/step - loss: 0.1323 - accuracy: 0.9521 - val_loss: 0.1671 - val_accuracy: 0.9472\n",
      "Epoch 26/60\n",
      "228/228 [==============================] - 5s 23ms/step - loss: 0.1332 - accuracy: 0.9520 - val_loss: 0.1606 - val_accuracy: 0.9492\n",
      "Epoch 27/60\n",
      "228/228 [==============================] - 5s 23ms/step - loss: 0.1321 - accuracy: 0.9530 - val_loss: 0.1458 - val_accuracy: 0.9518\n",
      "Epoch 28/60\n",
      "228/228 [==============================] - 5s 23ms/step - loss: 0.1222 - accuracy: 0.9552 - val_loss: 0.1757 - val_accuracy: 0.9412\n",
      "Epoch 29/60\n",
      "228/228 [==============================] - 5s 23ms/step - loss: 0.1226 - accuracy: 0.9551 - val_loss: 0.1515 - val_accuracy: 0.9487\n",
      "Epoch 30/60\n",
      "228/228 [==============================] - 5s 23ms/step - loss: 0.1191 - accuracy: 0.9567 - val_loss: 0.1662 - val_accuracy: 0.9452\n",
      "Epoch 31/60\n",
      "228/228 [==============================] - 5s 23ms/step - loss: 0.1157 - accuracy: 0.9581 - val_loss: 0.1546 - val_accuracy: 0.9484\n",
      "Epoch 32/60\n",
      "228/228 [==============================] - 5s 23ms/step - loss: 0.1151 - accuracy: 0.9575 - val_loss: 0.1555 - val_accuracy: 0.9497\n",
      "Epoch 33/60\n",
      "228/228 [==============================] - 5s 23ms/step - loss: 0.1101 - accuracy: 0.9600 - val_loss: 0.1393 - val_accuracy: 0.9560\n",
      "Epoch 34/60\n",
      "228/228 [==============================] - 5s 23ms/step - loss: 0.1091 - accuracy: 0.9595 - val_loss: 0.1573 - val_accuracy: 0.9486\n",
      "Epoch 35/60\n",
      "228/228 [==============================] - 5s 23ms/step - loss: 0.1081 - accuracy: 0.9603 - val_loss: 0.1608 - val_accuracy: 0.9494\n",
      "Epoch 36/60\n",
      "228/228 [==============================] - 5s 23ms/step - loss: 0.1034 - accuracy: 0.9617 - val_loss: 0.1484 - val_accuracy: 0.9549\n",
      "Epoch 37/60\n",
      "228/228 [==============================] - 5s 23ms/step - loss: 0.1006 - accuracy: 0.9625 - val_loss: 0.1487 - val_accuracy: 0.9526\n",
      "Epoch 38/60\n",
      "228/228 [==============================] - 5s 23ms/step - loss: 0.1000 - accuracy: 0.9627 - val_loss: 0.1457 - val_accuracy: 0.9507\n",
      "Epoch 39/60\n",
      "228/228 [==============================] - 5s 23ms/step - loss: 0.0970 - accuracy: 0.9635 - val_loss: 0.1557 - val_accuracy: 0.9506\n",
      "Epoch 40/60\n",
      "228/228 [==============================] - 5s 24ms/step - loss: 0.0996 - accuracy: 0.9637 - val_loss: 0.1490 - val_accuracy: 0.9560\n",
      "Epoch 41/60\n",
      "228/228 [==============================] - 5s 24ms/step - loss: 0.0993 - accuracy: 0.9629 - val_loss: 0.1462 - val_accuracy: 0.9549\n",
      "Epoch 42/60\n",
      "228/228 [==============================] - 5s 23ms/step - loss: 0.0934 - accuracy: 0.9652 - val_loss: 0.1435 - val_accuracy: 0.9554\n",
      "Epoch 43/60\n",
      "228/228 [==============================] - 5s 23ms/step - loss: 0.0916 - accuracy: 0.9660 - val_loss: 0.1437 - val_accuracy: 0.9588\n",
      "Epoch 44/60\n",
      "228/228 [==============================] - 5s 23ms/step - loss: 0.0882 - accuracy: 0.9666 - val_loss: 0.1413 - val_accuracy: 0.9575\n",
      "Epoch 45/60\n",
      "228/228 [==============================] - 5s 23ms/step - loss: 0.1011 - accuracy: 0.9653 - val_loss: 0.1478 - val_accuracy: 0.9575\n",
      "Epoch 46/60\n",
      "228/228 [==============================] - 5s 23ms/step - loss: 0.0882 - accuracy: 0.9669 - val_loss: 0.1381 - val_accuracy: 0.9582\n",
      "Epoch 47/60\n",
      "228/228 [==============================] - 5s 23ms/step - loss: 0.0877 - accuracy: 0.9678 - val_loss: 0.1435 - val_accuracy: 0.9574\n",
      "Epoch 48/60\n",
      "228/228 [==============================] - 5s 23ms/step - loss: 0.0836 - accuracy: 0.9689 - val_loss: 0.1652 - val_accuracy: 0.9514\n",
      "Epoch 49/60\n",
      "228/228 [==============================] - 5s 23ms/step - loss: 0.0822 - accuracy: 0.9690 - val_loss: 0.1425 - val_accuracy: 0.9619\n",
      "Epoch 50/60\n",
      "228/228 [==============================] - 5s 23ms/step - loss: 0.0846 - accuracy: 0.9688 - val_loss: 0.1454 - val_accuracy: 0.9555\n",
      "Epoch 51/60\n",
      "228/228 [==============================] - 5s 23ms/step - loss: 0.0807 - accuracy: 0.9697 - val_loss: 0.1479 - val_accuracy: 0.9569\n",
      "Epoch 52/60\n",
      "228/228 [==============================] - 5s 23ms/step - loss: 0.0817 - accuracy: 0.9688 - val_loss: 0.1639 - val_accuracy: 0.9523\n",
      "Epoch 53/60\n",
      "228/228 [==============================] - 5s 23ms/step - loss: 0.0829 - accuracy: 0.9695 - val_loss: 0.1491 - val_accuracy: 0.9572\n",
      "Epoch 54/60\n",
      "228/228 [==============================] - 5s 23ms/step - loss: 0.0791 - accuracy: 0.9703 - val_loss: 0.1545 - val_accuracy: 0.9591\n",
      "Epoch 55/60\n",
      "228/228 [==============================] - 5s 23ms/step - loss: 0.0798 - accuracy: 0.9702 - val_loss: 0.1488 - val_accuracy: 0.9591\n",
      "Epoch 56/60\n",
      "228/228 [==============================] - 5s 23ms/step - loss: 0.0748 - accuracy: 0.9716 - val_loss: 0.1537 - val_accuracy: 0.9575\n",
      "Epoch 57/60\n",
      "228/228 [==============================] - 5s 23ms/step - loss: 0.0760 - accuracy: 0.9709 - val_loss: 0.1706 - val_accuracy: 0.9563\n"
     ]
    },
    {
     "name": "stdout",
     "output_type": "stream",
     "text": [
      "Epoch 58/60\n",
      "228/228 [==============================] - 5s 23ms/step - loss: 0.0781 - accuracy: 0.9705 - val_loss: 0.1600 - val_accuracy: 0.9575\n",
      "Epoch 59/60\n",
      "228/228 [==============================] - 5s 23ms/step - loss: 0.0762 - accuracy: 0.9711 - val_loss: 0.1673 - val_accuracy: 0.9541\n",
      "Epoch 60/60\n",
      "228/228 [==============================] - 5s 24ms/step - loss: 0.0720 - accuracy: 0.9727 - val_loss: 0.1595 - val_accuracy: 0.9594\n"
     ]
    },
    {
     "data": {
      "text/plain": [
       "<tensorflow.python.keras.callbacks.History at 0x1272684a988>"
      ]
     },
     "execution_count": 132,
     "metadata": {},
     "output_type": "execute_result"
    }
   ],
   "source": [
    "model.fit(x_train, y_train, \n",
    "         batch_size=batch_size, epochs=epochs, verbose=1, \n",
    "         validation_data=(x_valid, y_valid), \n",
    "         callbacks=[modelcheckpoint])\n",
    "\n",
    "# model.fit(x_train, y_train, \n",
    "#           batch_size=batch_size, epochs=epochs, verbose=1, \n",
    "#           validation_data=(x_valid, y_valid))"
   ]
  },
  {
   "cell_type": "markdown",
   "metadata": {
    "colab_type": "text",
    "id": "7PWlH5SJ8JmP"
   },
   "source": [
    "#### Evaluate"
   ]
  },
  {
   "cell_type": "code",
   "execution_count": 149,
   "metadata": {
    "colab": {},
    "colab_type": "code",
    "id": "z8t0nVCw8JmP"
   },
   "outputs": [],
   "source": [
    "model.load_weights(output_dir+\"/weights.49.hdf5\") # 96.19 val accuracy"
   ]
  },
  {
   "cell_type": "code",
   "execution_count": 150,
   "metadata": {
    "colab": {},
    "colab_type": "code",
    "id": "kZwGk5dR8JmS"
   },
   "outputs": [],
   "source": [
    "y_hat = model.predict(x_valid)"
   ]
  },
  {
   "cell_type": "code",
   "execution_count": 151,
   "metadata": {
    "colab": {},
    "colab_type": "code",
    "id": "EPc5_h6K8JmW",
    "outputId": "cad99da9-9f89-437f-854b-a315616ed50f"
   },
   "outputs": [
    {
     "data": {
      "text/plain": [
       "6476"
      ]
     },
     "execution_count": 151,
     "metadata": {},
     "output_type": "execute_result"
    }
   ],
   "source": [
    "len(y_hat)"
   ]
  },
  {
   "cell_type": "code",
   "execution_count": 152,
   "metadata": {
    "colab": {},
    "colab_type": "code",
    "id": "E_GNq-R_8JmZ",
    "outputId": "0fc16efe-7739-4394-f1a3-46da92e79584"
   },
   "outputs": [
    {
     "data": {
      "text/plain": [
       "array([3.2657222e-03, 1.1235670e-08, 2.5627809e-09, 1.4760160e-09,\n",
       "       1.3126909e-05, 9.9672121e-01], dtype=float32)"
      ]
     },
     "execution_count": 152,
     "metadata": {},
     "output_type": "execute_result"
    }
   ],
   "source": [
    "y_hat[0]"
   ]
  },
  {
   "cell_type": "code",
   "execution_count": 153,
   "metadata": {
    "colab": {},
    "colab_type": "code",
    "id": "SFqRQ5XB8Jmc",
    "outputId": "a957fbed-92f8-4bdd-d24b-5df3361a8bac"
   },
   "outputs": [
    {
     "data": {
      "text/plain": [
       "array([0., 0., 0., 0., 0., 1.], dtype=float32)"
      ]
     },
     "execution_count": 153,
     "metadata": {},
     "output_type": "execute_result"
    }
   ],
   "source": [
    "y_valid[0]"
   ]
  },
  {
   "cell_type": "code",
   "execution_count": 154,
   "metadata": {
    "colab": {},
    "colab_type": "code",
    "id": "FTWf6Cf-8Jme",
    "outputId": "1256b170-33dc-4171-f2ff-7a3d7ddd74e3"
   },
   "outputs": [
    {
     "data": {
      "image/png": "[encoded data removed]",
      "text/plain": [
       "<Figure size 432x288 with 1 Axes>"
      ]
     },
     "metadata": {
      "needs_background": "light"
     },
     "output_type": "display_data"
    }
   ],
   "source": [
    "plt.hist(y_hat)\n",
    "_ = plt.axvline(x=0.5, color='orange')"
   ]
  },
  {
   "cell_type": "code",
   "execution_count": 155,
   "metadata": {
    "colab": {},
    "colab_type": "code",
    "id": "RNljSx3v8Jmh"
   },
   "outputs": [],
   "source": [
    "pct_auc = roc_auc_score(y_valid, y_hat)*100.0"
   ]
  },
  {
   "cell_type": "code",
   "execution_count": 156,
   "metadata": {
    "colab": {},
    "colab_type": "code",
    "id": "SO_N9lJG8Jmj",
    "outputId": "20968a52-8ca0-44d3-abf6-a1382bba5cde"
   },
   "outputs": [
    {
     "data": {
      "text/plain": [
       "'99.79'"
      ]
     },
     "execution_count": 156,
     "metadata": {},
     "output_type": "execute_result"
    }
   ],
   "source": [
    "\"{:0.2f}\".format(pct_auc)"
   ]
  },
  {
   "cell_type": "code",
   "execution_count": 157,
   "metadata": {
    "colab": {},
    "colab_type": "code",
    "id": "vU3hnA298Jmo"
   },
   "outputs": [],
   "source": [
    "float_y_hat = []\n",
    "for y in y_hat:\n",
    "    float_y_hat.append(y[0])"
   ]
  },
  {
   "cell_type": "code",
   "execution_count": 158,
   "metadata": {
    "colab": {},
    "colab_type": "code",
    "id": "zrTf-aQl8Jmr"
   },
   "outputs": [],
   "source": [
    "ydf = pd.DataFrame(list(zip(float_y_hat, y_valid)), columns=['y_hat', 'y'])"
   ]
  },
  {
   "cell_type": "code",
   "execution_count": 159,
   "metadata": {
    "colab": {},
    "colab_type": "code",
    "id": "zAyKh_mX8Jmu",
    "outputId": "611224b8-f980-47df-d596-9aa3a5811009"
   },
   "outputs": [
    {
     "data": {
      "text/html": [
       "<div>\n",
       "<style scoped>\n",
       "    .dataframe tbody tr th:only-of-type {\n",
       "        vertical-align: middle;\n",
       "    }\n",
       "\n",
       "    .dataframe tbody tr th {\n",
       "        vertical-align: top;\n",
       "    }\n",
       "\n",
       "    .dataframe thead th {\n",
       "        text-align: right;\n",
       "    }\n",
       "</style>\n",
       "<table border=\"1\" class=\"dataframe\">\n",
       "  <thead>\n",
       "    <tr style=\"text-align: right;\">\n",
       "      <th></th>\n",
       "      <th>y_hat</th>\n",
       "      <th>y</th>\n",
       "    </tr>\n",
       "  </thead>\n",
       "  <tbody>\n",
       "    <tr>\n",
       "      <th>0</th>\n",
       "      <td>3.265722e-03</td>\n",
       "      <td>[0.0, 0.0, 0.0, 0.0, 0.0, 1.0]</td>\n",
       "    </tr>\n",
       "    <tr>\n",
       "      <th>1</th>\n",
       "      <td>1.317523e-29</td>\n",
       "      <td>[0.0, 0.0, 1.0, 0.0, 0.0, 0.0]</td>\n",
       "    </tr>\n",
       "    <tr>\n",
       "      <th>2</th>\n",
       "      <td>8.489454e-09</td>\n",
       "      <td>[0.0, 1.0, 0.0, 0.0, 0.0, 0.0]</td>\n",
       "    </tr>\n",
       "    <tr>\n",
       "      <th>3</th>\n",
       "      <td>9.999703e-01</td>\n",
       "      <td>[1.0, 0.0, 0.0, 0.0, 0.0, 0.0]</td>\n",
       "    </tr>\n",
       "    <tr>\n",
       "      <th>4</th>\n",
       "      <td>7.741981e-07</td>\n",
       "      <td>[0.0, 1.0, 0.0, 0.0, 0.0, 0.0]</td>\n",
       "    </tr>\n",
       "    <tr>\n",
       "      <th>5</th>\n",
       "      <td>2.786986e-03</td>\n",
       "      <td>[0.0, 0.0, 0.0, 0.0, 0.0, 1.0]</td>\n",
       "    </tr>\n",
       "    <tr>\n",
       "      <th>6</th>\n",
       "      <td>2.301731e-27</td>\n",
       "      <td>[0.0, 0.0, 0.0, 1.0, 0.0, 0.0]</td>\n",
       "    </tr>\n",
       "    <tr>\n",
       "      <th>7</th>\n",
       "      <td>2.157759e-03</td>\n",
       "      <td>[0.0, 1.0, 0.0, 0.0, 0.0, 0.0]</td>\n",
       "    </tr>\n",
       "    <tr>\n",
       "      <th>8</th>\n",
       "      <td>9.999918e-01</td>\n",
       "      <td>[1.0, 0.0, 0.0, 0.0, 0.0, 0.0]</td>\n",
       "    </tr>\n",
       "    <tr>\n",
       "      <th>9</th>\n",
       "      <td>1.824784e-04</td>\n",
       "      <td>[0.0, 1.0, 0.0, 0.0, 0.0, 0.0]</td>\n",
       "    </tr>\n",
       "  </tbody>\n",
       "</table>\n",
       "</div>"
      ],
      "text/plain": [
       "          y_hat                               y\n",
       "0  3.265722e-03  [0.0, 0.0, 0.0, 0.0, 0.0, 1.0]\n",
       "1  1.317523e-29  [0.0, 0.0, 1.0, 0.0, 0.0, 0.0]\n",
       "2  8.489454e-09  [0.0, 1.0, 0.0, 0.0, 0.0, 0.0]\n",
       "3  9.999703e-01  [1.0, 0.0, 0.0, 0.0, 0.0, 0.0]\n",
       "4  7.741981e-07  [0.0, 1.0, 0.0, 0.0, 0.0, 0.0]\n",
       "5  2.786986e-03  [0.0, 0.0, 0.0, 0.0, 0.0, 1.0]\n",
       "6  2.301731e-27  [0.0, 0.0, 0.0, 1.0, 0.0, 0.0]\n",
       "7  2.157759e-03  [0.0, 1.0, 0.0, 0.0, 0.0, 0.0]\n",
       "8  9.999918e-01  [1.0, 0.0, 0.0, 0.0, 0.0, 0.0]\n",
       "9  1.824784e-04  [0.0, 1.0, 0.0, 0.0, 0.0, 0.0]"
      ]
     },
     "execution_count": 159,
     "metadata": {},
     "output_type": "execute_result"
    }
   ],
   "source": [
    "ydf.head(10)"
   ]
  },
  {
   "cell_type": "code",
   "execution_count": null,
   "metadata": {},
   "outputs": [],
   "source": []
  },
  {
   "cell_type": "code",
   "execution_count": null,
   "metadata": {},
   "outputs": [],
   "source": []
  }
 ],
 "metadata": {
  "colab": {
   "include_colab_link": true,
   "name": "dense_sentiment_classifier.ipynb",
   "provenance": []
  },
  "kernelspec": {
   "display_name": "Python 3",
   "language": "python",
   "name": "python3"
  },
  "language_info": {
   "codemirror_mode": {
    "name": "ipython",
    "version": 3
   },
   "file_extension": ".py",
   "mimetype": "text/x-python",
   "name": "python",
   "nbconvert_exporter": "python",
   "pygments_lexer": "ipython3",
   "version": "3.7.9"
  }
 },
 "nbformat": 4,
 "nbformat_minor": 1
}
