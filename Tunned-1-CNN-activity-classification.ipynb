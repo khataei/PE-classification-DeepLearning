{
 "cells": [
  {
   "cell_type": "markdown",
   "metadata": {
    "colab_type": "text",
    "id": "view-in-github"
   },
   "source": [
    "<a href=\"https://colab.research.google.com/github/khataei/PE-classification-DeepLearning/blob/master/Tunned-1-CNN-activity-classification.ipynb\" target=\"_parent\"><img src=\"https://colab.research.google.com/assets/colab-badge.svg\" alt=\"Open In Colab\"/></a>"
   ]
  },
  {
   "cell_type": "markdown",
   "metadata": {
    "colab_type": "text",
    "id": "ahUZuAfz8Jje"
   },
   "source": [
    "# CNN Activity Classifier"
   ]
  },
  {
   "cell_type": "markdown",
   "metadata": {
    "colab_type": "text",
    "id": "Re0ecmVI8Jjk"
   },
   "source": [
    "In this notebook, we build a CNN neural net to classify PE activity."
   ]
  },
  {
   "cell_type": "markdown",
   "metadata": {
    "colab_type": "text",
    "id": "ixsGb9tY8Jjm"
   },
   "source": [
    "#### Load dependencies"
   ]
  },
  {
   "cell_type": "code",
   "execution_count": 1,
   "metadata": {
    "colab": {},
    "colab_type": "code",
    "id": "5At1PKQp8Jjp"
   },
   "outputs": [],
   "source": [
    "import tensorflow\n",
    "from tensorflow.keras.utils import to_categorical\n",
    "from tensorflow.keras.models import Sequential\n",
    "from tensorflow.keras.layers import Dense, Flatten, Dropout, Conv1D, GlobalMaxPooling1D, MaxPool1D, GlobalAveragePooling1D\n",
    "from tensorflow.keras.layers import AveragePooling1D, LeakyReLU\n",
    "from tensorflow.keras.callbacks import ModelCheckpoint \n",
    "import os  \n",
    "from sklearn.metrics import roc_auc_score, roc_curve \n",
    "from sklearn.model_selection import train_test_split\n",
    "import pandas as pd\n",
    "import numpy as np\n",
    "import matplotlib.pyplot as plt \n",
    "\n",
    "\n",
    "import kerastuner as kt\n",
    "import IPython"
   ]
  },
  {
   "cell_type": "markdown",
   "metadata": {
    "colab_type": "text",
    "id": "Hg5wX2Dd8Jjz"
   },
   "source": [
    "#### Set hyperparameters"
   ]
  },
  {
   "cell_type": "code",
   "execution_count": 2,
   "metadata": {
    "colab": {},
    "colab_type": "code",
    "id": "lYLOM99-8Jj2"
   },
   "outputs": [],
   "source": [
    "# output directory name:\n",
    "output_dir = 'model_output/cnn2'\n",
    "input_dir =  'Z:/Research/dfuller/Walkabilly/studies/smarphone_accel/data/Ethica_Jaeger_Merged/pocket/'\n",
    "input_file_name = 'pocket-NN-data.npz'\n",
    "\n",
    "# from the data preparation section we have:\n",
    "window_size_second = 3\n",
    "frequency = 30\n",
    "lenght_of_each_seq = window_size_second * frequency\n",
    "\n",
    "# pooling layer parameters\n",
    "maxpooling_pool_size = 2\n",
    "avepooling_pool_size = 2\n",
    "\n",
    "\n",
    "# convolutional layer architecture:\n",
    "n_conv_1 = 256 # filters, a.k.a. kernels\n",
    "k_conv_1 = 3 # kernel length\n",
    "n_conv_2 = 256\n",
    "k_conv_2 = 3 # kernel length\n",
    "n_conv_3 = 256 # filters, a.k.a. kernels\n",
    "k_conv_3 = 2 # kernel length\n",
    "\n",
    "# dense layer architecture: \n",
    "n_dense_1 = 512\n",
    "dropout_1 = 0.3\n",
    "n_dense_2 = 256\n",
    "dropout_2 = 0.25\n",
    "\n",
    "# training:\n",
    "epochs = 60\n",
    "batch_size = 256\n"
   ]
  },
  {
   "cell_type": "markdown",
   "metadata": {
    "colab_type": "text",
    "id": "DaLx4yZ48Jj9"
   },
   "source": [
    "#### Load data"
   ]
  },
  {
   "cell_type": "markdown",
   "metadata": {
    "colab_type": "text",
    "id": "CD9X0yJg8Jj_"
   },
   "source": [
    "##### For this notebook we use the acceleration data gathered from the pocket location. It was prepared in the DataPrep-Deep notebook"
   ]
  },
  {
   "cell_type": "code",
   "execution_count": 3,
   "metadata": {
    "colab": {},
    "colab_type": "code",
    "id": "6r44JKj-8JkA"
   },
   "outputs": [
    {
     "name": "stdout",
     "output_type": "stream",
     "text": [
      "acceleration_data\n",
      "metadata\n",
      "labels\n"
     ]
    }
   ],
   "source": [
    "# read the raw file and get the keys:\n",
    "raw_data = np.load(file=input_dir+input_file_name,allow_pickle=True)\n",
    "for k in raw_data.keys():\n",
    "    print(k)"
   ]
  },
  {
   "cell_type": "code",
   "execution_count": 4,
   "metadata": {},
   "outputs": [],
   "source": [
    "# import the data\n",
    "\n",
    "accel_array = raw_data['acceleration_data']\n",
    "meta_array = raw_data['metadata']\n",
    "labels_array = raw_data['labels']\n"
   ]
  },
  {
   "cell_type": "markdown",
   "metadata": {
    "colab_type": "text",
    "id": "WWq3ipbu8JlG"
   },
   "source": [
    "#### Preprocess data"
   ]
  },
  {
   "cell_type": "markdown",
   "metadata": {},
   "source": [
    "#### Convert the  labels to integer.\n",
    "In the raw data format of the labels is String and there are 6 classes. 'Lying', 'Sitting', 'Self Pace walk', 'Running 3 METs',\n",
    "       'Running 5 METs', 'Running 7 METs' <br>\n",
    "\n",
    "\n"
   ]
  },
  {
   "cell_type": "code",
   "execution_count": 5,
   "metadata": {
    "colab": {},
    "colab_type": "code",
    "id": "LyReiequ8Jln"
   },
   "outputs": [
    {
     "data": {
      "text/plain": [
       "array([[ True],\n",
       "       [ True],\n",
       "       [ True],\n",
       "       ...,\n",
       "       [ True],\n",
       "       [ True],\n",
       "       [ True]])"
      ]
     },
     "execution_count": 5,
     "metadata": {},
     "output_type": "execute_result"
    }
   ],
   "source": [
    "# change from string to integer so keras.to_categorical can consume it\n",
    "\n",
    "# could do with factorize method as well\n",
    "n_class = len(np.unique(labels_array))\n",
    "class_list, labels_array_int = np.unique(labels_array,return_inverse=True)\n",
    "labels_array_int\n",
    "\n",
    "# check if the result is consistant with the original input\n",
    "class_list[labels_array_int].reshape(len(labels_array_int), 1) == labels_array\n",
    "\n",
    "# Note: to get the reverse, i.e converting integer array to string use class_list[labels_array_int]"
   ]
  },
  {
   "cell_type": "code",
   "execution_count": 6,
   "metadata": {},
   "outputs": [
    {
     "data": {
      "text/plain": [
       "(64754, 6)"
      ]
     },
     "execution_count": 6,
     "metadata": {},
     "output_type": "execute_result"
    }
   ],
   "source": [
    "# labels to categorical\n",
    "\n",
    "y = to_categorical(labels_array_int, num_classes=n_class)\n",
    "y.shape"
   ]
  },
  {
   "cell_type": "code",
   "execution_count": 7,
   "metadata": {},
   "outputs": [
    {
     "data": {
      "text/plain": [
       "[64754, 90, 3]"
      ]
     },
     "execution_count": 7,
     "metadata": {},
     "output_type": "execute_result"
    }
   ],
   "source": [
    "input_shape = list(accel_array.shape)\n",
    "input_shape"
   ]
  },
  {
   "cell_type": "markdown",
   "metadata": {
    "colab": {},
    "colab_type": "code",
    "id": "40x3s0KY8Jlv",
    "outputId": "d3ac3e31-3c47-4b01-c2f9-ada0684b31b7"
   },
   "source": [
    "### Splitting and shuffeling the data"
   ]
  },
  {
   "cell_type": "code",
   "execution_count": 8,
   "metadata": {
    "colab": {},
    "colab_type": "code",
    "id": "f5grc2H78Jlz",
    "outputId": "3f7eeb55-f851-4796-de4e-0c68eb9df88d"
   },
   "outputs": [],
   "source": [
    "# split and shuffle\n",
    "X_train, X_valid, y_train, y_valid = train_test_split(\n",
    "     accel_array, y, test_size=0.1, random_state=65)"
   ]
  },
  {
   "cell_type": "markdown",
   "metadata": {
    "colab_type": "text",
    "collapsed": true,
    "id": "GscSnCpk8Jlm"
   },
   "source": [
    "\n",
    "#### Design neural network architecture"
   ]
  },
  {
   "cell_type": "code",
   "execution_count": 9,
   "metadata": {},
   "outputs": [
    {
     "name": "stdout",
     "output_type": "stream",
     "text": [
      "Model: \"sequential\"\n",
      "_________________________________________________________________\n",
      "Layer (type)                 Output Shape              Param #   \n",
      "=================================================================\n",
      "conv1d (Conv1D)              (None, 88, 256)           2560      \n",
      "_________________________________________________________________\n",
      "max_pooling1d (MaxPooling1D) (None, 44, 256)           0         \n",
      "_________________________________________________________________\n",
      "conv1d_1 (Conv1D)            (None, 42, 256)           196864    \n",
      "_________________________________________________________________\n",
      "average_pooling1d (AveragePo (None, 21, 256)           0         \n",
      "_________________________________________________________________\n",
      "conv1d_2 (Conv1D)            (None, 20, 256)           131328    \n",
      "_________________________________________________________________\n",
      "global_average_pooling1d (Gl (None, 256)               0         \n",
      "_________________________________________________________________\n",
      "dense (Dense)                (None, 512)               131584    \n",
      "_________________________________________________________________\n",
      "dropout (Dropout)            (None, 512)               0         \n",
      "_________________________________________________________________\n",
      "dense_1 (Dense)              (None, 256)               131328    \n",
      "_________________________________________________________________\n",
      "dropout_1 (Dropout)          (None, 256)               0         \n",
      "_________________________________________________________________\n",
      "dense_2 (Dense)              (None, 6)                 1542      \n",
      "=================================================================\n",
      "Total params: 595,206\n",
      "Trainable params: 595,206\n",
      "Non-trainable params: 0\n",
      "_________________________________________________________________\n"
     ]
    }
   ],
   "source": [
    "# a conv model!\n",
    "\n",
    "model = Sequential()\n",
    "model.add(Conv1D(n_conv_1, k_conv_1, activation='relu', input_shape=input_shape[1:]))\n",
    "model.add(MaxPool1D(pool_size = maxpooling_pool_size))\n",
    "model.add(Conv1D(n_conv_2, k_conv_2, activation='relu'))\n",
    "model.add(AveragePooling1D(pool_size = avepooling_pool_size))\n",
    "model.add(Conv1D(n_conv_3, k_conv_3, activation='relu'))\n",
    "# model.add(GlobalMaxPooling1D())\n",
    "model.add(GlobalAveragePooling1D())\n",
    "model.add(Dense(n_dense_1, activation=LeakyReLU(alpha=0.1)))\n",
    "model.add(Dropout(dropout_1))\n",
    "model.add(Dense(n_dense_2, activation='relu'))\n",
    "model.add(Dropout(dropout_2))\n",
    "model.add(Dense(n_class, activation='softmax'))\n",
    "model.summary()"
   ]
  },
  {
   "cell_type": "markdown",
   "metadata": {
    "colab_type": "text",
    "id": "JkbhJMox8Jl9"
   },
   "source": [
    "#### Configure model"
   ]
  },
  {
   "cell_type": "code",
   "execution_count": 10,
   "metadata": {
    "colab": {},
    "colab_type": "code",
    "id": "QodbQvQh8Jl_"
   },
   "outputs": [],
   "source": [
    "model.compile(loss='categorical_crossentropy', optimizer='nadam', metrics=['accuracy'])"
   ]
  },
  {
   "cell_type": "code",
   "execution_count": 11,
   "metadata": {
    "colab": {},
    "colab_type": "code",
    "id": "zHjvYe288JmE"
   },
   "outputs": [],
   "source": [
    "modelcheckpoint = ModelCheckpoint(filepath=output_dir+\n",
    "                                  \"/weights.{epoch:02d}.hdf5\")"
   ]
  },
  {
   "cell_type": "code",
   "execution_count": 12,
   "metadata": {
    "colab": {},
    "colab_type": "code",
    "id": "esUwodZA8JmI"
   },
   "outputs": [],
   "source": [
    "if not os.path.exists(output_dir):\n",
    "    os.makedirs(output_dir)"
   ]
  },
  {
   "cell_type": "markdown",
   "metadata": {
    "colab_type": "text",
    "id": "TEYpX7968JmL"
   },
   "source": [
    "#### Train!"
   ]
  },
  {
   "cell_type": "code",
   "execution_count": 13,
   "metadata": {
    "colab": {},
    "colab_type": "code",
    "id": "QaD1W7Ka8JmM",
    "outputId": "f0c30141-0962-48f6-a000-d136af50af79"
   },
   "outputs": [
    {
     "name": "stdout",
     "output_type": "stream",
     "text": [
      "Epoch 1/60\n",
      "228/228 [==============================] - ETA: 0s - loss: 1.7915 - accuracy: 0.15 - ETA: 4s - loss: 1.7625 - accuracy: 0.17 - ETA: 4s - loss: 1.7382 - accuracy: 0.20 - ETA: 4s - loss: 1.7074 - accuracy: 0.23 - ETA: 4s - loss: 1.6587 - accuracy: 0.27 - ETA: 4s - loss: 1.6163 - accuracy: 0.29 - ETA: 4s - loss: 1.5657 - accuracy: 0.31 - ETA: 4s - loss: 1.5395 - accuracy: 0.32 - ETA: 4s - loss: 1.5049 - accuracy: 0.34 - ETA: 4s - loss: 1.4804 - accuracy: 0.35 - ETA: 4s - loss: 1.4567 - accuracy: 0.36 - ETA: 4s - loss: 1.4334 - accuracy: 0.37 - ETA: 4s - loss: 1.4300 - accuracy: 0.37 - ETA: 4s - loss: 1.4141 - accuracy: 0.38 - ETA: 4s - loss: 1.3931 - accuracy: 0.39 - ETA: 4s - loss: 1.3751 - accuracy: 0.40 - ETA: 4s - loss: 1.3598 - accuracy: 0.41 - ETA: 4s - loss: 1.3504 - accuracy: 0.41 - ETA: 3s - loss: 1.3377 - accuracy: 0.42 - ETA: 3s - loss: 1.3253 - accuracy: 0.42 - ETA: 3s - loss: 1.3192 - accuracy: 0.43 - ETA: 3s - loss: 1.3095 - accuracy: 0.43 - ETA: 3s - loss: 1.3013 - accuracy: 0.44 - ETA: 3s - loss: 1.2932 - accuracy: 0.44 - ETA: 3s - loss: 1.2868 - accuracy: 0.44 - ETA: 3s - loss: 1.2781 - accuracy: 0.45 - ETA: 3s - loss: 1.2693 - accuracy: 0.45 - ETA: 3s - loss: 1.2668 - accuracy: 0.46 - ETA: 3s - loss: 1.2613 - accuracy: 0.46 - ETA: 3s - loss: 1.2537 - accuracy: 0.46 - ETA: 3s - loss: 1.2498 - accuracy: 0.46 - ETA: 3s - loss: 1.2437 - accuracy: 0.47 - ETA: 2s - loss: 1.2362 - accuracy: 0.47 - ETA: 2s - loss: 1.2284 - accuracy: 0.48 - ETA: 2s - loss: 1.2259 - accuracy: 0.48 - ETA: 2s - loss: 1.2189 - accuracy: 0.48 - ETA: 2s - loss: 1.2120 - accuracy: 0.48 - ETA: 2s - loss: 1.2108 - accuracy: 0.48 - ETA: 2s - loss: 1.2050 - accuracy: 0.49 - ETA: 2s - loss: 1.2006 - accuracy: 0.49 - ETA: 2s - loss: 1.1946 - accuracy: 0.49 - ETA: 2s - loss: 1.1892 - accuracy: 0.49 - ETA: 2s - loss: 1.1834 - accuracy: 0.49 - ETA: 2s - loss: 1.1791 - accuracy: 0.50 - ETA: 2s - loss: 1.1760 - accuracy: 0.50 - ETA: 2s - loss: 1.1699 - accuracy: 0.50 - ETA: 2s - loss: 1.1660 - accuracy: 0.50 - ETA: 1s - loss: 1.1644 - accuracy: 0.50 - ETA: 1s - loss: 1.1601 - accuracy: 0.51 - ETA: 1s - loss: 1.1557 - accuracy: 0.51 - ETA: 1s - loss: 1.1516 - accuracy: 0.51 - ETA: 1s - loss: 1.1491 - accuracy: 0.51 - ETA: 1s - loss: 1.1469 - accuracy: 0.51 - ETA: 1s - loss: 1.1428 - accuracy: 0.51 - ETA: 1s - loss: 1.1389 - accuracy: 0.52 - ETA: 1s - loss: 1.1348 - accuracy: 0.52 - ETA: 1s - loss: 1.1327 - accuracy: 0.52 - ETA: 1s - loss: 1.1285 - accuracy: 0.52 - ETA: 1s - loss: 1.1255 - accuracy: 0.52 - ETA: 1s - loss: 1.1213 - accuracy: 0.52 - ETA: 1s - loss: 1.1179 - accuracy: 0.52 - ETA: 1s - loss: 1.1145 - accuracy: 0.53 - ETA: 0s - loss: 1.1114 - accuracy: 0.53 - ETA: 0s - loss: 1.1091 - accuracy: 0.53 - ETA: 0s - loss: 1.1041 - accuracy: 0.53 - ETA: 0s - loss: 1.0994 - accuracy: 0.53 - ETA: 0s - loss: 1.0960 - accuracy: 0.53 - ETA: 0s - loss: 1.0943 - accuracy: 0.53 - ETA: 0s - loss: 1.0902 - accuracy: 0.54 - ETA: 0s - loss: 1.0858 - accuracy: 0.54 - ETA: 0s - loss: 1.0820 - accuracy: 0.54 - ETA: 0s - loss: 1.0778 - accuracy: 0.54 - ETA: 0s - loss: 1.0757 - accuracy: 0.54 - ETA: 0s - loss: 1.0732 - accuracy: 0.54 - ETA: 0s - loss: 1.0697 - accuracy: 0.54 - ETA: 0s - loss: 1.0653 - accuracy: 0.55 - ETA: 0s - loss: 1.0627 - accuracy: 0.55 - ETA: 0s - loss: 1.0609 - accuracy: 0.55 - 6s 28ms/step - loss: 1.0609 - accuracy: 0.5534 - val_loss: 0.8280 - val_accuracy: 0.6360\n",
      "Epoch 2/60\n",
      "228/228 [==============================] - ETA: 3s - loss: 0.7801 - accuracy: 0.69 - ETA: 4s - loss: 0.9110 - accuracy: 0.59 - ETA: 4s - loss: 0.8828 - accuracy: 0.61 - ETA: 4s - loss: 0.8534 - accuracy: 0.63 - ETA: 4s - loss: 0.8399 - accuracy: 0.63 - ETA: 4s - loss: 0.8472 - accuracy: 0.63 - ETA: 4s - loss: 0.8444 - accuracy: 0.64 - ETA: 4s - loss: 0.8337 - accuracy: 0.64 - ETA: 4s - loss: 0.8252 - accuracy: 0.65 - ETA: 4s - loss: 0.8435 - accuracy: 0.64 - ETA: 4s - loss: 0.8371 - accuracy: 0.65 - ETA: 4s - loss: 0.8299 - accuracy: 0.65 - ETA: 4s - loss: 0.8353 - accuracy: 0.65 - ETA: 4s - loss: 0.8398 - accuracy: 0.65 - ETA: 4s - loss: 0.8333 - accuracy: 0.65 - ETA: 4s - loss: 0.8250 - accuracy: 0.65 - ETA: 3s - loss: 0.8188 - accuracy: 0.65 - ETA: 3s - loss: 0.8135 - accuracy: 0.66 - ETA: 3s - loss: 0.8048 - accuracy: 0.66 - ETA: 3s - loss: 0.8213 - accuracy: 0.65 - ETA: 3s - loss: 0.8161 - accuracy: 0.66 - ETA: 3s - loss: 0.8124 - accuracy: 0.66 - ETA: 3s - loss: 0.8088 - accuracy: 0.66 - ETA: 3s - loss: 0.8042 - accuracy: 0.66 - ETA: 3s - loss: 0.8045 - accuracy: 0.66 - ETA: 3s - loss: 0.8009 - accuracy: 0.66 - ETA: 3s - loss: 0.7980 - accuracy: 0.67 - ETA: 3s - loss: 0.7941 - accuracy: 0.67 - ETA: 3s - loss: 0.7959 - accuracy: 0.67 - ETA: 3s - loss: 0.7958 - accuracy: 0.67 - ETA: 3s - loss: 0.7920 - accuracy: 0.67 - ETA: 2s - loss: 0.7875 - accuracy: 0.67 - ETA: 2s - loss: 0.7838 - accuracy: 0.67 - ETA: 2s - loss: 0.7819 - accuracy: 0.67 - ETA: 2s - loss: 0.7790 - accuracy: 0.67 - ETA: 2s - loss: 0.7770 - accuracy: 0.68 - ETA: 2s - loss: 0.7744 - accuracy: 0.68 - ETA: 2s - loss: 0.7718 - accuracy: 0.68 - ETA: 2s - loss: 0.7695 - accuracy: 0.68 - ETA: 2s - loss: 0.7668 - accuracy: 0.68 - ETA: 2s - loss: 0.7634 - accuracy: 0.68 - ETA: 2s - loss: 0.7598 - accuracy: 0.68 - ETA: 2s - loss: 0.7585 - accuracy: 0.69 - ETA: 2s - loss: 0.7546 - accuracy: 0.69 - ETA: 2s - loss: 0.7531 - accuracy: 0.69 - ETA: 2s - loss: 0.7549 - accuracy: 0.69 - ETA: 1s - loss: 0.7544 - accuracy: 0.69 - ETA: 1s - loss: 0.7511 - accuracy: 0.69 - ETA: 1s - loss: 0.7488 - accuracy: 0.69 - ETA: 1s - loss: 0.7459 - accuracy: 0.69 - ETA: 1s - loss: 0.7426 - accuracy: 0.69 - ETA: 1s - loss: 0.7431 - accuracy: 0.69 - ETA: 1s - loss: 0.7412 - accuracy: 0.69 - ETA: 1s - loss: 0.7383 - accuracy: 0.69 - ETA: 1s - loss: 0.7354 - accuracy: 0.70 - ETA: 1s - loss: 0.7334 - accuracy: 0.70 - ETA: 1s - loss: 0.7309 - accuracy: 0.70 - ETA: 1s - loss: 0.7297 - accuracy: 0.70 - ETA: 1s - loss: 0.7275 - accuracy: 0.70 - ETA: 1s - loss: 0.7242 - accuracy: 0.70 - ETA: 1s - loss: 0.7233 - accuracy: 0.70 - ETA: 1s - loss: 0.7213 - accuracy: 0.70 - ETA: 0s - loss: 0.7185 - accuracy: 0.70 - ETA: 0s - loss: 0.7172 - accuracy: 0.71 - ETA: 0s - loss: 0.7170 - accuracy: 0.71 - ETA: 0s - loss: 0.7138 - accuracy: 0.71 - ETA: 0s - loss: 0.7114 - accuracy: 0.71 - ETA: 0s - loss: 0.7079 - accuracy: 0.71 - ETA: 0s - loss: 0.7056 - accuracy: 0.71 - ETA: 0s - loss: 0.7031 - accuracy: 0.71 - ETA: 0s - loss: 0.7044 - accuracy: 0.71 - ETA: 0s - loss: 0.7069 - accuracy: 0.71 - ETA: 0s - loss: 0.7053 - accuracy: 0.71 - ETA: 0s - loss: 0.7030 - accuracy: 0.71 - ETA: 0s - loss: 0.7019 - accuracy: 0.71 - ETA: 0s - loss: 0.7004 - accuracy: 0.71 - ETA: 0s - loss: 0.6989 - accuracy: 0.72 - 5s 24ms/step - loss: 0.6983 - accuracy: 0.7206 - val_loss: 0.5341 - val_accuracy: 0.7945\n",
      "Epoch 3/60\n"
     ]
    },
    {
     "name": "stdout",
     "output_type": "stream",
     "text": [
      "228/228 [==============================] - ETA: 2s - loss: 0.5076 - accuracy: 0.81 - ETA: 4s - loss: 0.4851 - accuracy: 0.82 - ETA: 4s - loss: 0.4821 - accuracy: 0.82 - ETA: 4s - loss: 0.5008 - accuracy: 0.81 - ETA: 4s - loss: 0.5361 - accuracy: 0.79 - ETA: 4s - loss: 0.5487 - accuracy: 0.78 - ETA: 4s - loss: 0.5560 - accuracy: 0.78 - ETA: 4s - loss: 0.5442 - accuracy: 0.78 - ETA: 4s - loss: 0.5452 - accuracy: 0.79 - ETA: 4s - loss: 0.5351 - accuracy: 0.79 - ETA: 4s - loss: 0.5318 - accuracy: 0.79 - ETA: 4s - loss: 0.5365 - accuracy: 0.79 - ETA: 4s - loss: 0.5473 - accuracy: 0.79 - ETA: 4s - loss: 0.5474 - accuracy: 0.79 - ETA: 4s - loss: 0.5445 - accuracy: 0.79 - ETA: 4s - loss: 0.5381 - accuracy: 0.80 - ETA: 3s - loss: 0.5389 - accuracy: 0.80 - ETA: 3s - loss: 0.5353 - accuracy: 0.80 - ETA: 3s - loss: 0.5341 - accuracy: 0.80 - ETA: 3s - loss: 0.5312 - accuracy: 0.80 - ETA: 3s - loss: 0.5279 - accuracy: 0.80 - ETA: 3s - loss: 0.5237 - accuracy: 0.80 - ETA: 3s - loss: 0.5218 - accuracy: 0.80 - ETA: 3s - loss: 0.5228 - accuracy: 0.80 - ETA: 3s - loss: 0.5244 - accuracy: 0.80 - ETA: 3s - loss: 0.5236 - accuracy: 0.80 - ETA: 3s - loss: 0.5207 - accuracy: 0.80 - ETA: 3s - loss: 0.5203 - accuracy: 0.80 - ETA: 3s - loss: 0.5185 - accuracy: 0.80 - ETA: 3s - loss: 0.5193 - accuracy: 0.80 - ETA: 3s - loss: 0.5165 - accuracy: 0.80 - ETA: 2s - loss: 0.5124 - accuracy: 0.80 - ETA: 2s - loss: 0.5104 - accuracy: 0.81 - ETA: 2s - loss: 0.5077 - accuracy: 0.81 - ETA: 2s - loss: 0.5058 - accuracy: 0.81 - ETA: 2s - loss: 0.5043 - accuracy: 0.81 - ETA: 2s - loss: 0.5055 - accuracy: 0.81 - ETA: 2s - loss: 0.5024 - accuracy: 0.81 - ETA: 2s - loss: 0.4993 - accuracy: 0.81 - ETA: 2s - loss: 0.4973 - accuracy: 0.81 - ETA: 2s - loss: 0.4963 - accuracy: 0.81 - ETA: 2s - loss: 0.4959 - accuracy: 0.81 - ETA: 2s - loss: 0.4925 - accuracy: 0.81 - ETA: 2s - loss: 0.4903 - accuracy: 0.81 - ETA: 2s - loss: 0.4889 - accuracy: 0.81 - ETA: 2s - loss: 0.4877 - accuracy: 0.81 - ETA: 1s - loss: 0.4854 - accuracy: 0.82 - ETA: 1s - loss: 0.4843 - accuracy: 0.82 - ETA: 1s - loss: 0.4819 - accuracy: 0.82 - ETA: 1s - loss: 0.4804 - accuracy: 0.82 - ETA: 1s - loss: 0.4847 - accuracy: 0.82 - ETA: 1s - loss: 0.4853 - accuracy: 0.82 - ETA: 1s - loss: 0.4837 - accuracy: 0.82 - ETA: 1s - loss: 0.4824 - accuracy: 0.82 - ETA: 1s - loss: 0.4815 - accuracy: 0.82 - ETA: 1s - loss: 0.4791 - accuracy: 0.82 - ETA: 1s - loss: 0.4779 - accuracy: 0.82 - ETA: 1s - loss: 0.4771 - accuracy: 0.82 - ETA: 1s - loss: 0.4785 - accuracy: 0.82 - ETA: 1s - loss: 0.4785 - accuracy: 0.82 - ETA: 1s - loss: 0.4776 - accuracy: 0.82 - ETA: 1s - loss: 0.4762 - accuracy: 0.82 - ETA: 0s - loss: 0.4756 - accuracy: 0.82 - ETA: 0s - loss: 0.4749 - accuracy: 0.82 - ETA: 0s - loss: 0.4753 - accuracy: 0.82 - ETA: 0s - loss: 0.4746 - accuracy: 0.82 - ETA: 0s - loss: 0.4744 - accuracy: 0.82 - ETA: 0s - loss: 0.4727 - accuracy: 0.82 - ETA: 0s - loss: 0.4716 - accuracy: 0.82 - ETA: 0s - loss: 0.4697 - accuracy: 0.82 - ETA: 0s - loss: 0.4684 - accuracy: 0.82 - ETA: 0s - loss: 0.4670 - accuracy: 0.82 - ETA: 0s - loss: 0.4654 - accuracy: 0.82 - ETA: 0s - loss: 0.4645 - accuracy: 0.82 - ETA: 0s - loss: 0.4624 - accuracy: 0.82 - ETA: 0s - loss: 0.4608 - accuracy: 0.82 - ETA: 0s - loss: 0.4603 - accuracy: 0.82 - 5s 24ms/step - loss: 0.4603 - accuracy: 0.8292 - val_loss: 0.3885 - val_accuracy: 0.8530\n",
      "Epoch 4/60\n",
      "228/228 [==============================] - ETA: 2s - loss: 0.4083 - accuracy: 0.81 - ETA: 4s - loss: 0.4109 - accuracy: 0.83 - ETA: 4s - loss: 0.3640 - accuracy: 0.85 - ETA: 4s - loss: 0.3841 - accuracy: 0.84 - ETA: 4s - loss: 0.3976 - accuracy: 0.84 - ETA: 4s - loss: 0.4144 - accuracy: 0.84 - ETA: 4s - loss: 0.4216 - accuracy: 0.83 - ETA: 4s - loss: 0.4240 - accuracy: 0.83 - ETA: 4s - loss: 0.4176 - accuracy: 0.84 - ETA: 4s - loss: 0.4109 - accuracy: 0.84 - ETA: 4s - loss: 0.4039 - accuracy: 0.84 - ETA: 4s - loss: 0.3969 - accuracy: 0.85 - ETA: 4s - loss: 0.3990 - accuracy: 0.85 - ETA: 4s - loss: 0.3957 - accuracy: 0.85 - ETA: 4s - loss: 0.3951 - accuracy: 0.85 - ETA: 4s - loss: 0.3898 - accuracy: 0.85 - ETA: 3s - loss: 0.3879 - accuracy: 0.85 - ETA: 3s - loss: 0.3865 - accuracy: 0.85 - ETA: 3s - loss: 0.3874 - accuracy: 0.85 - ETA: 3s - loss: 0.3867 - accuracy: 0.85 - ETA: 3s - loss: 0.3838 - accuracy: 0.85 - ETA: 3s - loss: 0.3828 - accuracy: 0.85 - ETA: 3s - loss: 0.3814 - accuracy: 0.85 - ETA: 3s - loss: 0.3893 - accuracy: 0.85 - ETA: 3s - loss: 0.3925 - accuracy: 0.85 - ETA: 3s - loss: 0.3931 - accuracy: 0.85 - ETA: 3s - loss: 0.3914 - accuracy: 0.85 - ETA: 3s - loss: 0.3906 - accuracy: 0.85 - ETA: 3s - loss: 0.3884 - accuracy: 0.85 - ETA: 3s - loss: 0.3866 - accuracy: 0.85 - ETA: 3s - loss: 0.3842 - accuracy: 0.85 - ETA: 2s - loss: 0.3843 - accuracy: 0.85 - ETA: 2s - loss: 0.3824 - accuracy: 0.85 - ETA: 2s - loss: 0.3818 - accuracy: 0.85 - ETA: 2s - loss: 0.3808 - accuracy: 0.85 - ETA: 2s - loss: 0.3806 - accuracy: 0.85 - ETA: 2s - loss: 0.3815 - accuracy: 0.85 - ETA: 2s - loss: 0.3807 - accuracy: 0.85 - ETA: 2s - loss: 0.3801 - accuracy: 0.85 - ETA: 2s - loss: 0.3780 - accuracy: 0.86 - ETA: 2s - loss: 0.3760 - accuracy: 0.86 - ETA: 2s - loss: 0.3752 - accuracy: 0.86 - ETA: 2s - loss: 0.3745 - accuracy: 0.86 - ETA: 2s - loss: 0.3741 - accuracy: 0.86 - ETA: 2s - loss: 0.3729 - accuracy: 0.86 - ETA: 2s - loss: 0.3725 - accuracy: 0.86 - ETA: 1s - loss: 0.3713 - accuracy: 0.86 - ETA: 1s - loss: 0.3715 - accuracy: 0.86 - ETA: 1s - loss: 0.3715 - accuracy: 0.86 - ETA: 1s - loss: 0.3702 - accuracy: 0.86 - ETA: 1s - loss: 0.3696 - accuracy: 0.86 - ETA: 1s - loss: 0.3687 - accuracy: 0.86 - ETA: 1s - loss: 0.3702 - accuracy: 0.86 - ETA: 1s - loss: 0.3703 - accuracy: 0.86 - ETA: 1s - loss: 0.3697 - accuracy: 0.86 - ETA: 1s - loss: 0.3690 - accuracy: 0.86 - ETA: 1s - loss: 0.3682 - accuracy: 0.86 - ETA: 1s - loss: 0.3668 - accuracy: 0.86 - ETA: 1s - loss: 0.3666 - accuracy: 0.86 - ETA: 1s - loss: 0.3663 - accuracy: 0.86 - ETA: 1s - loss: 0.3658 - accuracy: 0.86 - ETA: 0s - loss: 0.3650 - accuracy: 0.86 - ETA: 0s - loss: 0.3643 - accuracy: 0.86 - ETA: 0s - loss: 0.3647 - accuracy: 0.86 - ETA: 0s - loss: 0.3637 - accuracy: 0.86 - ETA: 0s - loss: 0.3625 - accuracy: 0.86 - ETA: 0s - loss: 0.3623 - accuracy: 0.86 - ETA: 0s - loss: 0.3622 - accuracy: 0.86 - ETA: 0s - loss: 0.3615 - accuracy: 0.86 - ETA: 0s - loss: 0.3616 - accuracy: 0.86 - ETA: 0s - loss: 0.3624 - accuracy: 0.86 - ETA: 0s - loss: 0.3626 - accuracy: 0.86 - ETA: 0s - loss: 0.3623 - accuracy: 0.86 - ETA: 0s - loss: 0.3619 - accuracy: 0.86 - ETA: 0s - loss: 0.3615 - accuracy: 0.86 - ETA: 0s - loss: 0.3621 - accuracy: 0.86 - 5s 24ms/step - loss: 0.3624 - accuracy: 0.8675 - val_loss: 0.3211 - val_accuracy: 0.8748\n",
      "Epoch 5/60\n"
     ]
    },
    {
     "name": "stdout",
     "output_type": "stream",
     "text": [
      "228/228 [==============================] - ETA: 2s - loss: 0.3222 - accuracy: 0.85 - ETA: 4s - loss: 0.3376 - accuracy: 0.86 - ETA: 4s - loss: 0.3378 - accuracy: 0.86 - ETA: 4s - loss: 0.3227 - accuracy: 0.87 - ETA: 4s - loss: 0.3118 - accuracy: 0.87 - ETA: 4s - loss: 0.3130 - accuracy: 0.87 - ETA: 4s - loss: 0.3036 - accuracy: 0.88 - ETA: 4s - loss: 0.3028 - accuracy: 0.88 - ETA: 4s - loss: 0.3036 - accuracy: 0.88 - ETA: 4s - loss: 0.3126 - accuracy: 0.88 - ETA: 4s - loss: 0.3136 - accuracy: 0.88 - ETA: 4s - loss: 0.3227 - accuracy: 0.87 - ETA: 4s - loss: 0.3340 - accuracy: 0.87 - ETA: 4s - loss: 0.3438 - accuracy: 0.86 - ETA: 4s - loss: 0.3835 - accuracy: 0.85 - ETA: 4s - loss: 0.3819 - accuracy: 0.85 - ETA: 4s - loss: 0.3767 - accuracy: 0.86 - ETA: 4s - loss: 0.3746 - accuracy: 0.86 - ETA: 3s - loss: 0.3692 - accuracy: 0.86 - ETA: 3s - loss: 0.3666 - accuracy: 0.86 - ETA: 3s - loss: 0.3662 - accuracy: 0.86 - ETA: 3s - loss: 0.3644 - accuracy: 0.86 - ETA: 3s - loss: 0.3601 - accuracy: 0.86 - ETA: 3s - loss: 0.3574 - accuracy: 0.86 - ETA: 3s - loss: 0.3574 - accuracy: 0.86 - ETA: 3s - loss: 0.3560 - accuracy: 0.87 - ETA: 3s - loss: 0.3546 - accuracy: 0.87 - ETA: 3s - loss: 0.3546 - accuracy: 0.87 - ETA: 3s - loss: 0.3527 - accuracy: 0.87 - ETA: 3s - loss: 0.3511 - accuracy: 0.87 - ETA: 3s - loss: 0.3511 - accuracy: 0.87 - ETA: 3s - loss: 0.3483 - accuracy: 0.87 - ETA: 2s - loss: 0.3475 - accuracy: 0.87 - ETA: 2s - loss: 0.3476 - accuracy: 0.87 - ETA: 2s - loss: 0.3475 - accuracy: 0.87 - ETA: 2s - loss: 0.3446 - accuracy: 0.87 - ETA: 2s - loss: 0.3441 - accuracy: 0.87 - ETA: 2s - loss: 0.3436 - accuracy: 0.87 - ETA: 2s - loss: 0.3419 - accuracy: 0.87 - ETA: 2s - loss: 0.3441 - accuracy: 0.87 - ETA: 2s - loss: 0.3430 - accuracy: 0.87 - ETA: 2s - loss: 0.3415 - accuracy: 0.87 - ETA: 2s - loss: 0.3416 - accuracy: 0.87 - ETA: 2s - loss: 0.3406 - accuracy: 0.87 - ETA: 2s - loss: 0.3394 - accuracy: 0.87 - ETA: 2s - loss: 0.3378 - accuracy: 0.87 - ETA: 2s - loss: 0.3372 - accuracy: 0.87 - ETA: 1s - loss: 0.3367 - accuracy: 0.87 - ETA: 1s - loss: 0.3352 - accuracy: 0.87 - ETA: 1s - loss: 0.3346 - accuracy: 0.87 - ETA: 1s - loss: 0.3336 - accuracy: 0.87 - ETA: 1s - loss: 0.3331 - accuracy: 0.87 - ETA: 1s - loss: 0.3319 - accuracy: 0.87 - ETA: 1s - loss: 0.3310 - accuracy: 0.87 - ETA: 1s - loss: 0.3301 - accuracy: 0.87 - ETA: 1s - loss: 0.3302 - accuracy: 0.87 - ETA: 1s - loss: 0.3308 - accuracy: 0.87 - ETA: 1s - loss: 0.3309 - accuracy: 0.87 - ETA: 1s - loss: 0.3302 - accuracy: 0.87 - ETA: 1s - loss: 0.3299 - accuracy: 0.87 - ETA: 1s - loss: 0.3297 - accuracy: 0.87 - ETA: 1s - loss: 0.3295 - accuracy: 0.87 - ETA: 0s - loss: 0.3290 - accuracy: 0.87 - ETA: 0s - loss: 0.3293 - accuracy: 0.87 - ETA: 0s - loss: 0.3290 - accuracy: 0.87 - ETA: 0s - loss: 0.3281 - accuracy: 0.87 - ETA: 0s - loss: 0.3278 - accuracy: 0.87 - ETA: 0s - loss: 0.3278 - accuracy: 0.88 - ETA: 0s - loss: 0.3274 - accuracy: 0.88 - ETA: 0s - loss: 0.3271 - accuracy: 0.87 - ETA: 0s - loss: 0.3267 - accuracy: 0.87 - ETA: 0s - loss: 0.3257 - accuracy: 0.88 - ETA: 0s - loss: 0.3250 - accuracy: 0.88 - ETA: 0s - loss: 0.3242 - accuracy: 0.88 - ETA: 0s - loss: 0.3237 - accuracy: 0.88 - ETA: 0s - loss: 0.3232 - accuracy: 0.88 - 5s 24ms/step - loss: 0.3229 - accuracy: 0.8815 - val_loss: 0.2873 - val_accuracy: 0.8984\n",
      "Epoch 6/60\n",
      "228/228 [==============================] - ETA: 2s - loss: 0.3219 - accuracy: 0.91 - ETA: 4s - loss: 0.3089 - accuracy: 0.89 - ETA: 4s - loss: 0.2918 - accuracy: 0.90 - ETA: 4s - loss: 0.3114 - accuracy: 0.89 - ETA: 4s - loss: 0.3926 - accuracy: 0.87 - ETA: 4s - loss: 0.3795 - accuracy: 0.87 - ETA: 4s - loss: 0.3682 - accuracy: 0.87 - ETA: 4s - loss: 0.3602 - accuracy: 0.88 - ETA: 4s - loss: 0.3558 - accuracy: 0.87 - ETA: 4s - loss: 0.3494 - accuracy: 0.87 - ETA: 4s - loss: 0.3451 - accuracy: 0.88 - ETA: 4s - loss: 0.3391 - accuracy: 0.88 - ETA: 4s - loss: 0.3333 - accuracy: 0.88 - ETA: 4s - loss: 0.3261 - accuracy: 0.88 - ETA: 4s - loss: 0.3246 - accuracy: 0.88 - ETA: 4s - loss: 0.3234 - accuracy: 0.88 - ETA: 4s - loss: 0.3217 - accuracy: 0.88 - ETA: 4s - loss: 0.3220 - accuracy: 0.88 - ETA: 4s - loss: 0.3198 - accuracy: 0.88 - ETA: 3s - loss: 0.3166 - accuracy: 0.88 - ETA: 3s - loss: 0.3173 - accuracy: 0.88 - ETA: 3s - loss: 0.3151 - accuracy: 0.88 - ETA: 3s - loss: 0.3133 - accuracy: 0.88 - ETA: 3s - loss: 0.3121 - accuracy: 0.88 - ETA: 3s - loss: 0.3119 - accuracy: 0.88 - ETA: 3s - loss: 0.3110 - accuracy: 0.88 - ETA: 3s - loss: 0.3096 - accuracy: 0.88 - ETA: 3s - loss: 0.3083 - accuracy: 0.88 - ETA: 3s - loss: 0.3081 - accuracy: 0.88 - ETA: 3s - loss: 0.3073 - accuracy: 0.88 - ETA: 3s - loss: 0.3053 - accuracy: 0.88 - ETA: 3s - loss: 0.3055 - accuracy: 0.88 - ETA: 3s - loss: 0.3049 - accuracy: 0.88 - ETA: 3s - loss: 0.3057 - accuracy: 0.88 - ETA: 2s - loss: 0.3068 - accuracy: 0.88 - ETA: 2s - loss: 0.3057 - accuracy: 0.88 - ETA: 2s - loss: 0.3039 - accuracy: 0.88 - ETA: 2s - loss: 0.3037 - accuracy: 0.88 - ETA: 2s - loss: 0.3040 - accuracy: 0.88 - ETA: 2s - loss: 0.3030 - accuracy: 0.88 - ETA: 2s - loss: 0.3024 - accuracy: 0.88 - ETA: 2s - loss: 0.3017 - accuracy: 0.88 - ETA: 2s - loss: 0.3010 - accuracy: 0.89 - ETA: 2s - loss: 0.3009 - accuracy: 0.89 - ETA: 2s - loss: 0.2994 - accuracy: 0.89 - ETA: 2s - loss: 0.2989 - accuracy: 0.89 - ETA: 2s - loss: 0.2991 - accuracy: 0.89 - ETA: 2s - loss: 0.2983 - accuracy: 0.89 - ETA: 2s - loss: 0.2973 - accuracy: 0.89 - ETA: 1s - loss: 0.2972 - accuracy: 0.89 - ETA: 1s - loss: 0.2975 - accuracy: 0.89 - ETA: 1s - loss: 0.2981 - accuracy: 0.89 - ETA: 1s - loss: 0.2979 - accuracy: 0.89 - ETA: 1s - loss: 0.2979 - accuracy: 0.89 - ETA: 1s - loss: 0.3000 - accuracy: 0.89 - ETA: 1s - loss: 0.3002 - accuracy: 0.89 - ETA: 1s - loss: 0.3003 - accuracy: 0.89 - ETA: 1s - loss: 0.2998 - accuracy: 0.89 - ETA: 1s - loss: 0.2991 - accuracy: 0.89 - ETA: 1s - loss: 0.2991 - accuracy: 0.89 - ETA: 1s - loss: 0.2992 - accuracy: 0.89 - ETA: 1s - loss: 0.2981 - accuracy: 0.89 - ETA: 1s - loss: 0.2976 - accuracy: 0.89 - ETA: 1s - loss: 0.2969 - accuracy: 0.89 - ETA: 0s - loss: 0.2961 - accuracy: 0.89 - ETA: 0s - loss: 0.2952 - accuracy: 0.89 - ETA: 0s - loss: 0.2944 - accuracy: 0.89 - ETA: 0s - loss: 0.2945 - accuracy: 0.89 - ETA: 0s - loss: 0.2943 - accuracy: 0.89 - ETA: 0s - loss: 0.2941 - accuracy: 0.89 - ETA: 0s - loss: 0.2940 - accuracy: 0.89 - ETA: 0s - loss: 0.2940 - accuracy: 0.89 - ETA: 0s - loss: 0.2943 - accuracy: 0.89 - ETA: 0s - loss: 0.2941 - accuracy: 0.89 - ETA: 0s - loss: 0.2946 - accuracy: 0.89 - ETA: 0s - loss: 0.2949 - accuracy: 0.89 - ETA: 0s - loss: 0.2941 - accuracy: 0.89 - ETA: 0s - loss: 0.2932 - accuracy: 0.89 - 6s 24ms/step - loss: 0.2929 - accuracy: 0.8929 - val_loss: 0.2661 - val_accuracy: 0.8979\n",
      "Epoch 7/60\n"
     ]
    },
    {
     "name": "stdout",
     "output_type": "stream",
     "text": [
      "228/228 [==============================] - ETA: 3s - loss: 0.2863 - accuracy: 0.90 - ETA: 4s - loss: 0.2857 - accuracy: 0.90 - ETA: 4s - loss: 0.2975 - accuracy: 0.89 - ETA: 4s - loss: 0.2848 - accuracy: 0.89 - ETA: 4s - loss: 0.2803 - accuracy: 0.89 - ETA: 4s - loss: 0.2780 - accuracy: 0.89 - ETA: 4s - loss: 0.2731 - accuracy: 0.89 - ETA: 4s - loss: 0.2678 - accuracy: 0.90 - ETA: 4s - loss: 0.2677 - accuracy: 0.90 - ETA: 4s - loss: 0.2721 - accuracy: 0.90 - ETA: 4s - loss: 0.2799 - accuracy: 0.89 - ETA: 4s - loss: 0.2779 - accuracy: 0.89 - ETA: 4s - loss: 0.2769 - accuracy: 0.89 - ETA: 4s - loss: 0.2772 - accuracy: 0.89 - ETA: 4s - loss: 0.2727 - accuracy: 0.89 - ETA: 4s - loss: 0.2704 - accuracy: 0.89 - ETA: 4s - loss: 0.2712 - accuracy: 0.89 - ETA: 4s - loss: 0.2734 - accuracy: 0.89 - ETA: 3s - loss: 0.2937 - accuracy: 0.89 - ETA: 3s - loss: 0.3055 - accuracy: 0.88 - ETA: 3s - loss: 0.3067 - accuracy: 0.88 - ETA: 3s - loss: 0.3067 - accuracy: 0.88 - ETA: 3s - loss: 0.3064 - accuracy: 0.88 - ETA: 3s - loss: 0.3063 - accuracy: 0.88 - ETA: 3s - loss: 0.3054 - accuracy: 0.88 - ETA: 3s - loss: 0.3034 - accuracy: 0.88 - ETA: 3s - loss: 0.3013 - accuracy: 0.88 - ETA: 3s - loss: 0.3004 - accuracy: 0.88 - ETA: 3s - loss: 0.3004 - accuracy: 0.88 - ETA: 3s - loss: 0.2989 - accuracy: 0.88 - ETA: 3s - loss: 0.2977 - accuracy: 0.89 - ETA: 3s - loss: 0.2972 - accuracy: 0.89 - ETA: 3s - loss: 0.2956 - accuracy: 0.89 - ETA: 3s - loss: 0.2933 - accuracy: 0.89 - ETA: 2s - loss: 0.2929 - accuracy: 0.89 - ETA: 2s - loss: 0.2930 - accuracy: 0.89 - ETA: 2s - loss: 0.2936 - accuracy: 0.89 - ETA: 2s - loss: 0.2930 - accuracy: 0.89 - ETA: 2s - loss: 0.2929 - accuracy: 0.89 - ETA: 2s - loss: 0.2927 - accuracy: 0.89 - ETA: 2s - loss: 0.2911 - accuracy: 0.89 - ETA: 2s - loss: 0.2895 - accuracy: 0.89 - ETA: 2s - loss: 0.2888 - accuracy: 0.89 - ETA: 2s - loss: 0.2884 - accuracy: 0.89 - ETA: 2s - loss: 0.2873 - accuracy: 0.89 - ETA: 2s - loss: 0.2871 - accuracy: 0.89 - ETA: 2s - loss: 0.2865 - accuracy: 0.89 - ETA: 2s - loss: 0.2853 - accuracy: 0.89 - ETA: 2s - loss: 0.2847 - accuracy: 0.89 - ETA: 1s - loss: 0.2837 - accuracy: 0.89 - ETA: 1s - loss: 0.2827 - accuracy: 0.89 - ETA: 1s - loss: 0.2823 - accuracy: 0.89 - ETA: 1s - loss: 0.2819 - accuracy: 0.89 - ETA: 1s - loss: 0.2817 - accuracy: 0.89 - ETA: 1s - loss: 0.2816 - accuracy: 0.89 - ETA: 1s - loss: 0.2810 - accuracy: 0.89 - ETA: 1s - loss: 0.2807 - accuracy: 0.89 - ETA: 1s - loss: 0.2800 - accuracy: 0.89 - ETA: 1s - loss: 0.2798 - accuracy: 0.89 - ETA: 1s - loss: 0.2801 - accuracy: 0.89 - ETA: 1s - loss: 0.2795 - accuracy: 0.89 - ETA: 1s - loss: 0.2784 - accuracy: 0.89 - ETA: 1s - loss: 0.2780 - accuracy: 0.89 - ETA: 0s - loss: 0.2786 - accuracy: 0.89 - ETA: 0s - loss: 0.2781 - accuracy: 0.89 - ETA: 0s - loss: 0.2771 - accuracy: 0.89 - ETA: 0s - loss: 0.2770 - accuracy: 0.89 - ETA: 0s - loss: 0.2764 - accuracy: 0.89 - ETA: 0s - loss: 0.2760 - accuracy: 0.89 - ETA: 0s - loss: 0.2762 - accuracy: 0.89 - ETA: 0s - loss: 0.2758 - accuracy: 0.89 - ETA: 0s - loss: 0.2753 - accuracy: 0.89 - ETA: 0s - loss: 0.2754 - accuracy: 0.89 - ETA: 0s - loss: 0.2754 - accuracy: 0.89 - ETA: 0s - loss: 0.2758 - accuracy: 0.89 - ETA: 0s - loss: 0.2760 - accuracy: 0.89 - ETA: 0s - loss: 0.2765 - accuracy: 0.89 - ETA: 0s - loss: 0.2757 - accuracy: 0.89 - ETA: 0s - loss: 0.2760 - accuracy: 0.89 - 6s 24ms/step - loss: 0.2758 - accuracy: 0.8974 - val_loss: 0.2519 - val_accuracy: 0.9104\n",
      "Epoch 8/60\n",
      "228/228 [==============================] - ETA: 2s - loss: 0.2191 - accuracy: 0.91 - ETA: 4s - loss: 0.2391 - accuracy: 0.90 - ETA: 4s - loss: 0.2521 - accuracy: 0.90 - ETA: 4s - loss: 0.2563 - accuracy: 0.90 - ETA: 4s - loss: 0.2549 - accuracy: 0.90 - ETA: 4s - loss: 0.2551 - accuracy: 0.90 - ETA: 4s - loss: 0.2456 - accuracy: 0.90 - ETA: 4s - loss: 0.2383 - accuracy: 0.90 - ETA: 4s - loss: 0.2380 - accuracy: 0.90 - ETA: 4s - loss: 0.2422 - accuracy: 0.90 - ETA: 4s - loss: 0.2465 - accuracy: 0.90 - ETA: 4s - loss: 0.2474 - accuracy: 0.90 - ETA: 4s - loss: 0.2467 - accuracy: 0.90 - ETA: 4s - loss: 0.2474 - accuracy: 0.90 - ETA: 4s - loss: 0.2490 - accuracy: 0.90 - ETA: 4s - loss: 0.2466 - accuracy: 0.90 - ETA: 4s - loss: 0.2464 - accuracy: 0.90 - ETA: 4s - loss: 0.2476 - accuracy: 0.90 - ETA: 3s - loss: 0.2472 - accuracy: 0.90 - ETA: 3s - loss: 0.2474 - accuracy: 0.90 - ETA: 3s - loss: 0.2457 - accuracy: 0.90 - ETA: 3s - loss: 0.2447 - accuracy: 0.91 - ETA: 3s - loss: 0.2433 - accuracy: 0.91 - ETA: 3s - loss: 0.2438 - accuracy: 0.91 - ETA: 3s - loss: 0.2431 - accuracy: 0.91 - ETA: 3s - loss: 0.2428 - accuracy: 0.91 - ETA: 3s - loss: 0.2446 - accuracy: 0.90 - ETA: 3s - loss: 0.2447 - accuracy: 0.90 - ETA: 3s - loss: 0.2454 - accuracy: 0.90 - ETA: 3s - loss: 0.2448 - accuracy: 0.90 - ETA: 3s - loss: 0.2469 - accuracy: 0.90 - ETA: 3s - loss: 0.2492 - accuracy: 0.90 - ETA: 2s - loss: 0.2500 - accuracy: 0.90 - ETA: 2s - loss: 0.2497 - accuracy: 0.90 - ETA: 2s - loss: 0.2494 - accuracy: 0.90 - ETA: 2s - loss: 0.2488 - accuracy: 0.90 - ETA: 2s - loss: 0.2492 - accuracy: 0.90 - ETA: 2s - loss: 0.2481 - accuracy: 0.90 - ETA: 2s - loss: 0.2476 - accuracy: 0.90 - ETA: 2s - loss: 0.2467 - accuracy: 0.90 - ETA: 2s - loss: 0.2451 - accuracy: 0.90 - ETA: 2s - loss: 0.2459 - accuracy: 0.90 - ETA: 2s - loss: 0.2480 - accuracy: 0.90 - ETA: 2s - loss: 0.2478 - accuracy: 0.90 - ETA: 2s - loss: 0.2482 - accuracy: 0.90 - ETA: 2s - loss: 0.2475 - accuracy: 0.90 - ETA: 2s - loss: 0.2478 - accuracy: 0.90 - ETA: 2s - loss: 0.2481 - accuracy: 0.90 - ETA: 1s - loss: 0.2473 - accuracy: 0.90 - ETA: 1s - loss: 0.2465 - accuracy: 0.90 - ETA: 1s - loss: 0.2470 - accuracy: 0.90 - ETA: 1s - loss: 0.2464 - accuracy: 0.90 - ETA: 1s - loss: 0.2465 - accuracy: 0.90 - ETA: 1s - loss: 0.2468 - accuracy: 0.90 - ETA: 1s - loss: 0.2466 - accuracy: 0.90 - ETA: 1s - loss: 0.2480 - accuracy: 0.90 - ETA: 1s - loss: 0.2482 - accuracy: 0.90 - ETA: 1s - loss: 0.2481 - accuracy: 0.90 - ETA: 1s - loss: 0.2473 - accuracy: 0.90 - ETA: 1s - loss: 0.2477 - accuracy: 0.90 - ETA: 1s - loss: 0.2474 - accuracy: 0.90 - ETA: 1s - loss: 0.2467 - accuracy: 0.90 - ETA: 0s - loss: 0.2471 - accuracy: 0.90 - ETA: 0s - loss: 0.2471 - accuracy: 0.90 - ETA: 0s - loss: 0.2474 - accuracy: 0.90 - ETA: 0s - loss: 0.2473 - accuracy: 0.90 - ETA: 0s - loss: 0.2471 - accuracy: 0.90 - ETA: 0s - loss: 0.2472 - accuracy: 0.90 - ETA: 0s - loss: 0.2473 - accuracy: 0.90 - ETA: 0s - loss: 0.2471 - accuracy: 0.90 - ETA: 0s - loss: 0.2463 - accuracy: 0.90 - ETA: 0s - loss: 0.2461 - accuracy: 0.90 - ETA: 0s - loss: 0.2460 - accuracy: 0.90 - ETA: 0s - loss: 0.2459 - accuracy: 0.90 - ETA: 0s - loss: 0.2459 - accuracy: 0.90 - ETA: 0s - loss: 0.2453 - accuracy: 0.90 - ETA: 0s - loss: 0.2451 - accuracy: 0.90 - ETA: 0s - loss: 0.2449 - accuracy: 0.90 - 6s 24ms/step - loss: 0.2449 - accuracy: 0.9090 - val_loss: 0.2551 - val_accuracy: 0.9095\n",
      "Epoch 9/60\n"
     ]
    },
    {
     "name": "stdout",
     "output_type": "stream",
     "text": [
      "228/228 [==============================] - ETA: 3s - loss: 0.2221 - accuracy: 0.92 - ETA: 4s - loss: 0.2482 - accuracy: 0.90 - ETA: 4s - loss: 0.2340 - accuracy: 0.90 - ETA: 4s - loss: 0.2284 - accuracy: 0.90 - ETA: 4s - loss: 0.2335 - accuracy: 0.90 - ETA: 4s - loss: 0.2283 - accuracy: 0.91 - ETA: 4s - loss: 0.2277 - accuracy: 0.91 - ETA: 4s - loss: 0.2279 - accuracy: 0.91 - ETA: 4s - loss: 0.2296 - accuracy: 0.91 - ETA: 4s - loss: 0.2324 - accuracy: 0.91 - ETA: 4s - loss: 0.2328 - accuracy: 0.91 - ETA: 4s - loss: 0.2295 - accuracy: 0.91 - ETA: 4s - loss: 0.2279 - accuracy: 0.91 - ETA: 4s - loss: 0.2334 - accuracy: 0.91 - ETA: 4s - loss: 0.2654 - accuracy: 0.90 - ETA: 4s - loss: 0.2696 - accuracy: 0.90 - ETA: 3s - loss: 0.2726 - accuracy: 0.90 - ETA: 3s - loss: 0.2753 - accuracy: 0.90 - ETA: 3s - loss: 0.2740 - accuracy: 0.90 - ETA: 3s - loss: 0.2761 - accuracy: 0.90 - ETA: 3s - loss: 0.2749 - accuracy: 0.90 - ETA: 3s - loss: 0.2745 - accuracy: 0.90 - ETA: 3s - loss: 0.2731 - accuracy: 0.90 - ETA: 3s - loss: 0.2708 - accuracy: 0.90 - ETA: 3s - loss: 0.2699 - accuracy: 0.90 - ETA: 3s - loss: 0.2718 - accuracy: 0.90 - ETA: 3s - loss: 0.2706 - accuracy: 0.90 - ETA: 3s - loss: 0.2698 - accuracy: 0.90 - ETA: 3s - loss: 0.2692 - accuracy: 0.90 - ETA: 3s - loss: 0.2688 - accuracy: 0.90 - ETA: 3s - loss: 0.2679 - accuracy: 0.90 - ETA: 2s - loss: 0.2688 - accuracy: 0.90 - ETA: 2s - loss: 0.2695 - accuracy: 0.90 - ETA: 2s - loss: 0.2691 - accuracy: 0.90 - ETA: 2s - loss: 0.2674 - accuracy: 0.90 - ETA: 2s - loss: 0.2672 - accuracy: 0.90 - ETA: 2s - loss: 0.2656 - accuracy: 0.90 - ETA: 2s - loss: 0.2649 - accuracy: 0.90 - ETA: 2s - loss: 0.2630 - accuracy: 0.90 - ETA: 2s - loss: 0.2621 - accuracy: 0.90 - ETA: 2s - loss: 0.2628 - accuracy: 0.90 - ETA: 2s - loss: 0.2629 - accuracy: 0.90 - ETA: 2s - loss: 0.2613 - accuracy: 0.90 - ETA: 2s - loss: 0.2596 - accuracy: 0.90 - ETA: 2s - loss: 0.2582 - accuracy: 0.90 - ETA: 2s - loss: 0.2580 - accuracy: 0.90 - ETA: 1s - loss: 0.2580 - accuracy: 0.90 - ETA: 1s - loss: 0.2562 - accuracy: 0.90 - ETA: 1s - loss: 0.2549 - accuracy: 0.90 - ETA: 1s - loss: 0.2545 - accuracy: 0.90 - ETA: 1s - loss: 0.2538 - accuracy: 0.90 - ETA: 1s - loss: 0.2531 - accuracy: 0.90 - ETA: 1s - loss: 0.2530 - accuracy: 0.90 - ETA: 1s - loss: 0.2528 - accuracy: 0.90 - ETA: 1s - loss: 0.2530 - accuracy: 0.90 - ETA: 1s - loss: 0.2532 - accuracy: 0.90 - ETA: 1s - loss: 0.2528 - accuracy: 0.90 - ETA: 1s - loss: 0.2514 - accuracy: 0.90 - ETA: 1s - loss: 0.2509 - accuracy: 0.90 - ETA: 1s - loss: 0.2504 - accuracy: 0.90 - ETA: 1s - loss: 0.2498 - accuracy: 0.90 - ETA: 1s - loss: 0.2502 - accuracy: 0.90 - ETA: 0s - loss: 0.2504 - accuracy: 0.90 - ETA: 0s - loss: 0.2498 - accuracy: 0.90 - ETA: 0s - loss: 0.2498 - accuracy: 0.90 - ETA: 0s - loss: 0.2501 - accuracy: 0.90 - ETA: 0s - loss: 0.2576 - accuracy: 0.90 - ETA: 0s - loss: 0.2712 - accuracy: 0.90 - ETA: 0s - loss: 0.2731 - accuracy: 0.90 - ETA: 0s - loss: 0.2736 - accuracy: 0.90 - ETA: 0s - loss: 0.2737 - accuracy: 0.90 - ETA: 0s - loss: 0.2739 - accuracy: 0.90 - ETA: 0s - loss: 0.2734 - accuracy: 0.90 - ETA: 0s - loss: 0.2737 - accuracy: 0.90 - ETA: 0s - loss: 0.2734 - accuracy: 0.90 - ETA: 0s - loss: 0.2738 - accuracy: 0.90 - ETA: 0s - loss: 0.2739 - accuracy: 0.90 - 5s 24ms/step - loss: 0.2739 - accuracy: 0.9022 - val_loss: 0.2680 - val_accuracy: 0.9002\n",
      "Epoch 10/60\n",
      "228/228 [==============================] - ETA: 2s - loss: 0.2502 - accuracy: 0.91 - ETA: 4s - loss: 0.2430 - accuracy: 0.91 - ETA: 4s - loss: 0.2568 - accuracy: 0.90 - ETA: 4s - loss: 0.2441 - accuracy: 0.90 - ETA: 4s - loss: 0.2500 - accuracy: 0.90 - ETA: 4s - loss: 0.2539 - accuracy: 0.90 - ETA: 4s - loss: 0.2511 - accuracy: 0.90 - ETA: 4s - loss: 0.2445 - accuracy: 0.90 - ETA: 4s - loss: 0.2445 - accuracy: 0.91 - ETA: 4s - loss: 0.2471 - accuracy: 0.90 - ETA: 4s - loss: 0.2446 - accuracy: 0.91 - ETA: 4s - loss: 0.2436 - accuracy: 0.91 - ETA: 4s - loss: 0.2402 - accuracy: 0.91 - ETA: 4s - loss: 0.2377 - accuracy: 0.91 - ETA: 4s - loss: 0.2376 - accuracy: 0.91 - ETA: 4s - loss: 0.2378 - accuracy: 0.91 - ETA: 3s - loss: 0.2370 - accuracy: 0.91 - ETA: 3s - loss: 0.2367 - accuracy: 0.91 - ETA: 3s - loss: 0.2388 - accuracy: 0.91 - ETA: 3s - loss: 0.2374 - accuracy: 0.91 - ETA: 3s - loss: 0.2351 - accuracy: 0.91 - ETA: 3s - loss: 0.2339 - accuracy: 0.91 - ETA: 3s - loss: 0.2330 - accuracy: 0.91 - ETA: 3s - loss: 0.2341 - accuracy: 0.91 - ETA: 3s - loss: 0.2340 - accuracy: 0.91 - ETA: 3s - loss: 0.2327 - accuracy: 0.91 - ETA: 3s - loss: 0.2314 - accuracy: 0.91 - ETA: 3s - loss: 0.2311 - accuracy: 0.91 - ETA: 3s - loss: 0.2321 - accuracy: 0.91 - ETA: 3s - loss: 0.2323 - accuracy: 0.91 - ETA: 3s - loss: 0.2335 - accuracy: 0.91 - ETA: 2s - loss: 0.2347 - accuracy: 0.91 - ETA: 2s - loss: 0.2355 - accuracy: 0.91 - ETA: 2s - loss: 0.2359 - accuracy: 0.91 - ETA: 2s - loss: 0.2364 - accuracy: 0.91 - ETA: 2s - loss: 0.2368 - accuracy: 0.91 - ETA: 2s - loss: 0.2366 - accuracy: 0.91 - ETA: 2s - loss: 0.2356 - accuracy: 0.91 - ETA: 2s - loss: 0.2359 - accuracy: 0.91 - ETA: 2s - loss: 0.2360 - accuracy: 0.91 - ETA: 2s - loss: 0.2356 - accuracy: 0.91 - ETA: 2s - loss: 0.2361 - accuracy: 0.91 - ETA: 2s - loss: 0.2354 - accuracy: 0.91 - ETA: 2s - loss: 0.2354 - accuracy: 0.91 - ETA: 2s - loss: 0.2359 - accuracy: 0.91 - ETA: 2s - loss: 0.2363 - accuracy: 0.91 - ETA: 1s - loss: 0.2357 - accuracy: 0.91 - ETA: 1s - loss: 0.2345 - accuracy: 0.91 - ETA: 1s - loss: 0.2345 - accuracy: 0.91 - ETA: 1s - loss: 0.2337 - accuracy: 0.91 - ETA: 1s - loss: 0.2344 - accuracy: 0.91 - ETA: 1s - loss: 0.2336 - accuracy: 0.91 - ETA: 1s - loss: 0.2332 - accuracy: 0.91 - ETA: 1s - loss: 0.2331 - accuracy: 0.91 - ETA: 1s - loss: 0.2329 - accuracy: 0.91 - ETA: 1s - loss: 0.2329 - accuracy: 0.91 - ETA: 1s - loss: 0.2330 - accuracy: 0.91 - ETA: 1s - loss: 0.2330 - accuracy: 0.91 - ETA: 1s - loss: 0.2323 - accuracy: 0.91 - ETA: 1s - loss: 0.2321 - accuracy: 0.91 - ETA: 1s - loss: 0.2318 - accuracy: 0.91 - ETA: 0s - loss: 0.2316 - accuracy: 0.91 - ETA: 0s - loss: 0.2318 - accuracy: 0.91 - ETA: 0s - loss: 0.2317 - accuracy: 0.91 - ETA: 0s - loss: 0.2319 - accuracy: 0.91 - ETA: 0s - loss: 0.2310 - accuracy: 0.91 - ETA: 0s - loss: 0.2313 - accuracy: 0.91 - ETA: 0s - loss: 0.2312 - accuracy: 0.91 - ETA: 0s - loss: 0.2309 - accuracy: 0.91 - ETA: 0s - loss: 0.2302 - accuracy: 0.91 - ETA: 0s - loss: 0.2297 - accuracy: 0.91 - ETA: 0s - loss: 0.2297 - accuracy: 0.91 - ETA: 0s - loss: 0.2295 - accuracy: 0.91 - ETA: 0s - loss: 0.2297 - accuracy: 0.91 - ETA: 0s - loss: 0.2291 - accuracy: 0.91 - ETA: 0s - loss: 0.2290 - accuracy: 0.91 - 5s 24ms/step - loss: 0.2292 - accuracy: 0.9161 - val_loss: 0.2356 - val_accuracy: 0.9126\n",
      "Epoch 11/60\n"
     ]
    },
    {
     "name": "stdout",
     "output_type": "stream",
     "text": [
      "228/228 [==============================] - ETA: 2s - loss: 0.2927 - accuracy: 0.89 - ETA: 4s - loss: 0.2686 - accuracy: 0.90 - ETA: 4s - loss: 0.2654 - accuracy: 0.90 - ETA: 4s - loss: 0.2660 - accuracy: 0.89 - ETA: 4s - loss: 0.2461 - accuracy: 0.90 - ETA: 4s - loss: 0.2454 - accuracy: 0.90 - ETA: 4s - loss: 0.2400 - accuracy: 0.90 - ETA: 4s - loss: 0.2397 - accuracy: 0.90 - ETA: 4s - loss: 0.2386 - accuracy: 0.90 - ETA: 4s - loss: 0.2365 - accuracy: 0.90 - ETA: 4s - loss: 0.2373 - accuracy: 0.90 - ETA: 4s - loss: 0.2403 - accuracy: 0.90 - ETA: 4s - loss: 0.2412 - accuracy: 0.90 - ETA: 4s - loss: 0.2404 - accuracy: 0.91 - ETA: 4s - loss: 0.2390 - accuracy: 0.91 - ETA: 4s - loss: 0.2361 - accuracy: 0.91 - ETA: 4s - loss: 0.2363 - accuracy: 0.91 - ETA: 3s - loss: 0.2350 - accuracy: 0.91 - ETA: 3s - loss: 0.2340 - accuracy: 0.91 - ETA: 3s - loss: 0.2336 - accuracy: 0.91 - ETA: 3s - loss: 0.2325 - accuracy: 0.91 - ETA: 3s - loss: 0.2343 - accuracy: 0.91 - ETA: 3s - loss: 0.2328 - accuracy: 0.91 - ETA: 3s - loss: 0.2327 - accuracy: 0.91 - ETA: 3s - loss: 0.2309 - accuracy: 0.91 - ETA: 3s - loss: 0.2304 - accuracy: 0.91 - ETA: 3s - loss: 0.2318 - accuracy: 0.91 - ETA: 3s - loss: 0.2314 - accuracy: 0.91 - ETA: 3s - loss: 0.2297 - accuracy: 0.91 - ETA: 3s - loss: 0.2304 - accuracy: 0.91 - ETA: 3s - loss: 0.2306 - accuracy: 0.91 - ETA: 3s - loss: 0.2297 - accuracy: 0.91 - ETA: 2s - loss: 0.2291 - accuracy: 0.91 - ETA: 2s - loss: 0.2285 - accuracy: 0.91 - ETA: 2s - loss: 0.2282 - accuracy: 0.91 - ETA: 2s - loss: 0.2279 - accuracy: 0.91 - ETA: 2s - loss: 0.2279 - accuracy: 0.91 - ETA: 2s - loss: 0.2269 - accuracy: 0.91 - ETA: 2s - loss: 0.2260 - accuracy: 0.91 - ETA: 2s - loss: 0.2254 - accuracy: 0.91 - ETA: 2s - loss: 0.2249 - accuracy: 0.91 - ETA: 2s - loss: 0.2255 - accuracy: 0.91 - ETA: 2s - loss: 0.2253 - accuracy: 0.91 - ETA: 2s - loss: 0.2255 - accuracy: 0.91 - ETA: 2s - loss: 0.2249 - accuracy: 0.91 - ETA: 2s - loss: 0.2241 - accuracy: 0.91 - ETA: 2s - loss: 0.2240 - accuracy: 0.91 - ETA: 1s - loss: 0.2240 - accuracy: 0.91 - ETA: 1s - loss: 0.2238 - accuracy: 0.91 - ETA: 1s - loss: 0.2226 - accuracy: 0.91 - ETA: 1s - loss: 0.2225 - accuracy: 0.91 - ETA: 1s - loss: 0.2224 - accuracy: 0.91 - ETA: 1s - loss: 0.2224 - accuracy: 0.91 - ETA: 1s - loss: 0.2212 - accuracy: 0.91 - ETA: 1s - loss: 0.2210 - accuracy: 0.91 - ETA: 1s - loss: 0.2221 - accuracy: 0.91 - ETA: 1s - loss: 0.2231 - accuracy: 0.91 - ETA: 1s - loss: 0.2229 - accuracy: 0.91 - ETA: 1s - loss: 0.2233 - accuracy: 0.91 - ETA: 1s - loss: 0.2226 - accuracy: 0.91 - ETA: 1s - loss: 0.2215 - accuracy: 0.91 - ETA: 0s - loss: 0.2208 - accuracy: 0.91 - ETA: 0s - loss: 0.2214 - accuracy: 0.91 - ETA: 0s - loss: 0.2212 - accuracy: 0.91 - ETA: 0s - loss: 0.2205 - accuracy: 0.91 - ETA: 0s - loss: 0.2204 - accuracy: 0.91 - ETA: 0s - loss: 0.2207 - accuracy: 0.91 - ETA: 0s - loss: 0.2209 - accuracy: 0.91 - ETA: 0s - loss: 0.2214 - accuracy: 0.91 - ETA: 0s - loss: 0.2205 - accuracy: 0.91 - ETA: 0s - loss: 0.2207 - accuracy: 0.91 - ETA: 0s - loss: 0.2204 - accuracy: 0.91 - ETA: 0s - loss: 0.2202 - accuracy: 0.91 - ETA: 0s - loss: 0.2200 - accuracy: 0.91 - ETA: 0s - loss: 0.2200 - accuracy: 0.91 - ETA: 0s - loss: 0.2198 - accuracy: 0.91 - 5s 24ms/step - loss: 0.2199 - accuracy: 0.9191 - val_loss: 0.2365 - val_accuracy: 0.9158\n",
      "Epoch 12/60\n",
      "228/228 [==============================] - ETA: 2s - loss: 0.2027 - accuracy: 0.93 - ETA: 4s - loss: 0.1991 - accuracy: 0.92 - ETA: 4s - loss: 0.1861 - accuracy: 0.93 - ETA: 4s - loss: 0.1834 - accuracy: 0.93 - ETA: 4s - loss: 0.1896 - accuracy: 0.93 - ETA: 4s - loss: 0.1878 - accuracy: 0.93 - ETA: 4s - loss: 0.1933 - accuracy: 0.92 - ETA: 4s - loss: 0.1944 - accuracy: 0.92 - ETA: 4s - loss: 0.1984 - accuracy: 0.92 - ETA: 4s - loss: 0.2013 - accuracy: 0.92 - ETA: 4s - loss: 0.2021 - accuracy: 0.92 - ETA: 4s - loss: 0.2037 - accuracy: 0.92 - ETA: 4s - loss: 0.2040 - accuracy: 0.92 - ETA: 4s - loss: 0.2051 - accuracy: 0.92 - ETA: 4s - loss: 0.2082 - accuracy: 0.92 - ETA: 4s - loss: 0.2067 - accuracy: 0.92 - ETA: 4s - loss: 0.2058 - accuracy: 0.92 - ETA: 4s - loss: 0.2057 - accuracy: 0.92 - ETA: 3s - loss: 0.2045 - accuracy: 0.92 - ETA: 3s - loss: 0.2041 - accuracy: 0.92 - ETA: 3s - loss: 0.2029 - accuracy: 0.92 - ETA: 3s - loss: 0.2018 - accuracy: 0.92 - ETA: 3s - loss: 0.2030 - accuracy: 0.92 - ETA: 3s - loss: 0.2030 - accuracy: 0.92 - ETA: 3s - loss: 0.2012 - accuracy: 0.92 - ETA: 3s - loss: 0.2020 - accuracy: 0.92 - ETA: 3s - loss: 0.2029 - accuracy: 0.92 - ETA: 3s - loss: 0.2027 - accuracy: 0.92 - ETA: 3s - loss: 0.2037 - accuracy: 0.92 - ETA: 3s - loss: 0.2034 - accuracy: 0.92 - ETA: 3s - loss: 0.2038 - accuracy: 0.92 - ETA: 3s - loss: 0.2046 - accuracy: 0.92 - ETA: 2s - loss: 0.2056 - accuracy: 0.92 - ETA: 2s - loss: 0.2062 - accuracy: 0.92 - ETA: 2s - loss: 0.2051 - accuracy: 0.92 - ETA: 2s - loss: 0.2055 - accuracy: 0.92 - ETA: 2s - loss: 0.2059 - accuracy: 0.92 - ETA: 2s - loss: 0.2062 - accuracy: 0.92 - ETA: 2s - loss: 0.2060 - accuracy: 0.92 - ETA: 2s - loss: 0.2065 - accuracy: 0.92 - ETA: 2s - loss: 0.2069 - accuracy: 0.92 - ETA: 2s - loss: 0.2064 - accuracy: 0.92 - ETA: 2s - loss: 0.2061 - accuracy: 0.92 - ETA: 2s - loss: 0.2062 - accuracy: 0.92 - ETA: 2s - loss: 0.2068 - accuracy: 0.92 - ETA: 2s - loss: 0.2066 - accuracy: 0.92 - ETA: 2s - loss: 0.2076 - accuracy: 0.92 - ETA: 2s - loss: 0.2080 - accuracy: 0.92 - ETA: 1s - loss: 0.2086 - accuracy: 0.92 - ETA: 1s - loss: 0.2085 - accuracy: 0.92 - ETA: 1s - loss: 0.2083 - accuracy: 0.92 - ETA: 1s - loss: 0.2075 - accuracy: 0.92 - ETA: 1s - loss: 0.2079 - accuracy: 0.92 - ETA: 1s - loss: 0.2074 - accuracy: 0.92 - ETA: 1s - loss: 0.2073 - accuracy: 0.92 - ETA: 1s - loss: 0.2068 - accuracy: 0.92 - ETA: 1s - loss: 0.2077 - accuracy: 0.92 - ETA: 1s - loss: 0.2073 - accuracy: 0.92 - ETA: 1s - loss: 0.2081 - accuracy: 0.92 - ETA: 1s - loss: 0.2082 - accuracy: 0.92 - ETA: 1s - loss: 0.2081 - accuracy: 0.92 - ETA: 1s - loss: 0.2079 - accuracy: 0.92 - ETA: 1s - loss: 0.2076 - accuracy: 0.92 - ETA: 0s - loss: 0.2075 - accuracy: 0.92 - ETA: 0s - loss: 0.2076 - accuracy: 0.92 - ETA: 0s - loss: 0.2070 - accuracy: 0.92 - ETA: 0s - loss: 0.2069 - accuracy: 0.92 - ETA: 0s - loss: 0.2069 - accuracy: 0.92 - ETA: 0s - loss: 0.2063 - accuracy: 0.92 - ETA: 0s - loss: 0.2066 - accuracy: 0.92 - ETA: 0s - loss: 0.2066 - accuracy: 0.92 - ETA: 0s - loss: 0.2065 - accuracy: 0.92 - ETA: 0s - loss: 0.2067 - accuracy: 0.92 - ETA: 0s - loss: 0.2065 - accuracy: 0.92 - ETA: 0s - loss: 0.2066 - accuracy: 0.92 - ETA: 0s - loss: 0.2067 - accuracy: 0.92 - ETA: 0s - loss: 0.2072 - accuracy: 0.92 - ETA: 0s - loss: 0.2071 - accuracy: 0.92 - 5s 24ms/step - loss: 0.2070 - accuracy: 0.9233 - val_loss: 0.2028 - val_accuracy: 0.9245\n",
      "Epoch 13/60\n"
     ]
    },
    {
     "name": "stdout",
     "output_type": "stream",
     "text": [
      "228/228 [==============================] - ETA: 2s - loss: 0.1945 - accuracy: 0.92 - ETA: 4s - loss: 0.1935 - accuracy: 0.92 - ETA: 4s - loss: 0.1959 - accuracy: 0.92 - ETA: 4s - loss: 0.1970 - accuracy: 0.92 - ETA: 4s - loss: 0.1957 - accuracy: 0.92 - ETA: 4s - loss: 0.1973 - accuracy: 0.92 - ETA: 4s - loss: 0.2218 - accuracy: 0.92 - ETA: 4s - loss: 0.2254 - accuracy: 0.91 - ETA: 4s - loss: 0.2281 - accuracy: 0.91 - ETA: 4s - loss: 0.2252 - accuracy: 0.91 - ETA: 4s - loss: 0.2237 - accuracy: 0.91 - ETA: 4s - loss: 0.2244 - accuracy: 0.91 - ETA: 4s - loss: 0.2237 - accuracy: 0.91 - ETA: 4s - loss: 0.2217 - accuracy: 0.91 - ETA: 4s - loss: 0.2177 - accuracy: 0.91 - ETA: 4s - loss: 0.2176 - accuracy: 0.92 - ETA: 4s - loss: 0.2165 - accuracy: 0.92 - ETA: 4s - loss: 0.2161 - accuracy: 0.92 - ETA: 3s - loss: 0.2148 - accuracy: 0.92 - ETA: 3s - loss: 0.2154 - accuracy: 0.92 - ETA: 3s - loss: 0.2155 - accuracy: 0.92 - ETA: 3s - loss: 0.2150 - accuracy: 0.92 - ETA: 3s - loss: 0.2155 - accuracy: 0.92 - ETA: 3s - loss: 0.2128 - accuracy: 0.92 - ETA: 3s - loss: 0.2127 - accuracy: 0.92 - ETA: 3s - loss: 0.2120 - accuracy: 0.92 - ETA: 3s - loss: 0.2114 - accuracy: 0.92 - ETA: 3s - loss: 0.2105 - accuracy: 0.92 - ETA: 3s - loss: 0.2094 - accuracy: 0.92 - ETA: 3s - loss: 0.2089 - accuracy: 0.92 - ETA: 3s - loss: 0.2087 - accuracy: 0.92 - ETA: 3s - loss: 0.2086 - accuracy: 0.92 - ETA: 2s - loss: 0.2077 - accuracy: 0.92 - ETA: 2s - loss: 0.2070 - accuracy: 0.92 - ETA: 2s - loss: 0.2064 - accuracy: 0.92 - ETA: 2s - loss: 0.2065 - accuracy: 0.92 - ETA: 2s - loss: 0.2060 - accuracy: 0.92 - ETA: 2s - loss: 0.2058 - accuracy: 0.92 - ETA: 2s - loss: 0.2048 - accuracy: 0.92 - ETA: 2s - loss: 0.2051 - accuracy: 0.92 - ETA: 2s - loss: 0.2055 - accuracy: 0.92 - ETA: 2s - loss: 0.2055 - accuracy: 0.92 - ETA: 2s - loss: 0.2052 - accuracy: 0.92 - ETA: 2s - loss: 0.2055 - accuracy: 0.92 - ETA: 2s - loss: 0.2055 - accuracy: 0.92 - ETA: 2s - loss: 0.2048 - accuracy: 0.92 - ETA: 2s - loss: 0.2044 - accuracy: 0.92 - ETA: 2s - loss: 0.2040 - accuracy: 0.92 - ETA: 1s - loss: 0.2035 - accuracy: 0.92 - ETA: 1s - loss: 0.2034 - accuracy: 0.92 - ETA: 1s - loss: 0.2028 - accuracy: 0.92 - ETA: 1s - loss: 0.2024 - accuracy: 0.92 - ETA: 1s - loss: 0.2017 - accuracy: 0.92 - ETA: 1s - loss: 0.2011 - accuracy: 0.92 - ETA: 1s - loss: 0.2003 - accuracy: 0.92 - ETA: 1s - loss: 0.2008 - accuracy: 0.92 - ETA: 1s - loss: 0.2009 - accuracy: 0.92 - ETA: 1s - loss: 0.2008 - accuracy: 0.92 - ETA: 1s - loss: 0.2013 - accuracy: 0.92 - ETA: 1s - loss: 0.2010 - accuracy: 0.92 - ETA: 1s - loss: 0.2006 - accuracy: 0.92 - ETA: 1s - loss: 0.2003 - accuracy: 0.92 - ETA: 1s - loss: 0.1994 - accuracy: 0.92 - ETA: 0s - loss: 0.1996 - accuracy: 0.92 - ETA: 0s - loss: 0.1999 - accuracy: 0.92 - ETA: 0s - loss: 0.2001 - accuracy: 0.92 - ETA: 0s - loss: 0.2002 - accuracy: 0.92 - ETA: 0s - loss: 0.2004 - accuracy: 0.92 - ETA: 0s - loss: 0.2001 - accuracy: 0.92 - ETA: 0s - loss: 0.2001 - accuracy: 0.92 - ETA: 0s - loss: 0.2002 - accuracy: 0.92 - ETA: 0s - loss: 0.1998 - accuracy: 0.92 - ETA: 0s - loss: 0.1995 - accuracy: 0.92 - ETA: 0s - loss: 0.1996 - accuracy: 0.92 - ETA: 0s - loss: 0.2003 - accuracy: 0.92 - ETA: 0s - loss: 0.2011 - accuracy: 0.92 - ETA: 0s - loss: 0.2012 - accuracy: 0.92 - 5s 24ms/step - loss: 0.2013 - accuracy: 0.9268 - val_loss: 0.2076 - val_accuracy: 0.9202\n",
      "Epoch 14/60\n",
      "228/228 [==============================] - ETA: 2s - loss: 0.1658 - accuracy: 0.93 - ETA: 4s - loss: 0.1914 - accuracy: 0.92 - ETA: 4s - loss: 0.1936 - accuracy: 0.93 - ETA: 4s - loss: 0.1874 - accuracy: 0.93 - ETA: 4s - loss: 0.1936 - accuracy: 0.93 - ETA: 4s - loss: 0.1921 - accuracy: 0.93 - ETA: 4s - loss: 0.1961 - accuracy: 0.93 - ETA: 4s - loss: 0.1924 - accuracy: 0.93 - ETA: 4s - loss: 0.1934 - accuracy: 0.93 - ETA: 4s - loss: 0.1912 - accuracy: 0.93 - ETA: 4s - loss: 0.1913 - accuracy: 0.93 - ETA: 4s - loss: 0.1906 - accuracy: 0.93 - ETA: 4s - loss: 0.1906 - accuracy: 0.93 - ETA: 4s - loss: 0.1882 - accuracy: 0.93 - ETA: 4s - loss: 0.1894 - accuracy: 0.93 - ETA: 4s - loss: 0.1879 - accuracy: 0.93 - ETA: 4s - loss: 0.1881 - accuracy: 0.93 - ETA: 4s - loss: 0.1886 - accuracy: 0.93 - ETA: 3s - loss: 0.1899 - accuracy: 0.93 - ETA: 3s - loss: 0.1886 - accuracy: 0.93 - ETA: 3s - loss: 0.1897 - accuracy: 0.93 - ETA: 3s - loss: 0.1905 - accuracy: 0.93 - ETA: 3s - loss: 0.1918 - accuracy: 0.92 - ETA: 3s - loss: 0.1922 - accuracy: 0.92 - ETA: 3s - loss: 0.1929 - accuracy: 0.92 - ETA: 3s - loss: 0.1929 - accuracy: 0.92 - ETA: 3s - loss: 0.1922 - accuracy: 0.92 - ETA: 3s - loss: 0.1917 - accuracy: 0.92 - ETA: 3s - loss: 0.1920 - accuracy: 0.92 - ETA: 3s - loss: 0.1906 - accuracy: 0.92 - ETA: 3s - loss: 0.1906 - accuracy: 0.92 - ETA: 3s - loss: 0.1897 - accuracy: 0.93 - ETA: 3s - loss: 0.1894 - accuracy: 0.93 - ETA: 2s - loss: 0.1899 - accuracy: 0.92 - ETA: 2s - loss: 0.1892 - accuracy: 0.92 - ETA: 2s - loss: 0.1887 - accuracy: 0.93 - ETA: 2s - loss: 0.1893 - accuracy: 0.93 - ETA: 2s - loss: 0.1888 - accuracy: 0.93 - ETA: 2s - loss: 0.1880 - accuracy: 0.93 - ETA: 2s - loss: 0.1882 - accuracy: 0.93 - ETA: 2s - loss: 0.1883 - accuracy: 0.93 - ETA: 2s - loss: 0.1882 - accuracy: 0.93 - ETA: 2s - loss: 0.1882 - accuracy: 0.93 - ETA: 2s - loss: 0.1880 - accuracy: 0.93 - ETA: 2s - loss: 0.1875 - accuracy: 0.93 - ETA: 2s - loss: 0.1872 - accuracy: 0.93 - ETA: 2s - loss: 0.1868 - accuracy: 0.93 - ETA: 1s - loss: 0.1870 - accuracy: 0.93 - ETA: 1s - loss: 0.1872 - accuracy: 0.93 - ETA: 1s - loss: 0.1884 - accuracy: 0.93 - ETA: 1s - loss: 0.1907 - accuracy: 0.92 - ETA: 1s - loss: 0.1913 - accuracy: 0.92 - ETA: 1s - loss: 0.1913 - accuracy: 0.92 - ETA: 1s - loss: 0.1909 - accuracy: 0.92 - ETA: 1s - loss: 0.1912 - accuracy: 0.92 - ETA: 1s - loss: 0.1919 - accuracy: 0.92 - ETA: 1s - loss: 0.1918 - accuracy: 0.92 - ETA: 1s - loss: 0.1921 - accuracy: 0.92 - ETA: 1s - loss: 0.1916 - accuracy: 0.92 - ETA: 1s - loss: 0.1913 - accuracy: 0.92 - ETA: 1s - loss: 0.1905 - accuracy: 0.92 - ETA: 1s - loss: 0.1904 - accuracy: 0.93 - ETA: 0s - loss: 0.1897 - accuracy: 0.93 - ETA: 0s - loss: 0.1898 - accuracy: 0.93 - ETA: 0s - loss: 0.1898 - accuracy: 0.93 - ETA: 0s - loss: 0.1897 - accuracy: 0.93 - ETA: 0s - loss: 0.1895 - accuracy: 0.93 - ETA: 0s - loss: 0.1898 - accuracy: 0.93 - ETA: 0s - loss: 0.1897 - accuracy: 0.93 - ETA: 0s - loss: 0.1900 - accuracy: 0.93 - ETA: 0s - loss: 0.1901 - accuracy: 0.93 - ETA: 0s - loss: 0.1904 - accuracy: 0.93 - ETA: 0s - loss: 0.1904 - accuracy: 0.93 - ETA: 0s - loss: 0.1904 - accuracy: 0.93 - ETA: 0s - loss: 0.1908 - accuracy: 0.93 - ETA: 0s - loss: 0.1910 - accuracy: 0.93 - ETA: 0s - loss: 0.1906 - accuracy: 0.93 - 5s 24ms/step - loss: 0.1903 - accuracy: 0.9304 - val_loss: 0.1903 - val_accuracy: 0.9327\n",
      "Epoch 15/60\n"
     ]
    },
    {
     "name": "stdout",
     "output_type": "stream",
     "text": [
      "228/228 [==============================] - ETA: 3s - loss: 0.1939 - accuracy: 0.94 - ETA: 4s - loss: 0.1609 - accuracy: 0.94 - ETA: 4s - loss: 0.1600 - accuracy: 0.94 - ETA: 4s - loss: 0.1710 - accuracy: 0.93 - ETA: 4s - loss: 0.1653 - accuracy: 0.94 - ETA: 4s - loss: 0.1644 - accuracy: 0.94 - ETA: 4s - loss: 0.1655 - accuracy: 0.94 - ETA: 4s - loss: 0.1668 - accuracy: 0.94 - ETA: 4s - loss: 0.1667 - accuracy: 0.93 - ETA: 4s - loss: 0.1652 - accuracy: 0.93 - ETA: 4s - loss: 0.1636 - accuracy: 0.94 - ETA: 4s - loss: 0.1645 - accuracy: 0.94 - ETA: 4s - loss: 0.1658 - accuracy: 0.93 - ETA: 4s - loss: 0.1640 - accuracy: 0.94 - ETA: 4s - loss: 0.1632 - accuracy: 0.94 - ETA: 3s - loss: 0.1640 - accuracy: 0.93 - ETA: 3s - loss: 0.1672 - accuracy: 0.93 - ETA: 3s - loss: 0.1697 - accuracy: 0.93 - ETA: 3s - loss: 0.1703 - accuracy: 0.93 - ETA: 3s - loss: 0.1700 - accuracy: 0.93 - ETA: 3s - loss: 0.1680 - accuracy: 0.93 - ETA: 3s - loss: 0.1717 - accuracy: 0.93 - ETA: 3s - loss: 0.1718 - accuracy: 0.93 - ETA: 3s - loss: 0.1727 - accuracy: 0.93 - ETA: 3s - loss: 0.1722 - accuracy: 0.93 - ETA: 3s - loss: 0.1720 - accuracy: 0.93 - ETA: 3s - loss: 0.1727 - accuracy: 0.93 - ETA: 3s - loss: 0.1731 - accuracy: 0.93 - ETA: 3s - loss: 0.1732 - accuracy: 0.93 - ETA: 3s - loss: 0.1726 - accuracy: 0.93 - ETA: 3s - loss: 0.1718 - accuracy: 0.93 - ETA: 2s - loss: 0.1721 - accuracy: 0.93 - ETA: 2s - loss: 0.1732 - accuracy: 0.93 - ETA: 2s - loss: 0.1743 - accuracy: 0.93 - ETA: 2s - loss: 0.1735 - accuracy: 0.93 - ETA: 2s - loss: 0.1744 - accuracy: 0.93 - ETA: 2s - loss: 0.1746 - accuracy: 0.93 - ETA: 2s - loss: 0.1755 - accuracy: 0.93 - ETA: 2s - loss: 0.1798 - accuracy: 0.93 - ETA: 2s - loss: 0.1809 - accuracy: 0.93 - ETA: 2s - loss: 0.1812 - accuracy: 0.93 - ETA: 2s - loss: 0.1818 - accuracy: 0.93 - ETA: 2s - loss: 0.1820 - accuracy: 0.93 - ETA: 2s - loss: 0.1820 - accuracy: 0.93 - ETA: 2s - loss: 0.1827 - accuracy: 0.93 - ETA: 2s - loss: 0.1839 - accuracy: 0.93 - ETA: 1s - loss: 0.1843 - accuracy: 0.93 - ETA: 1s - loss: 0.1847 - accuracy: 0.93 - ETA: 1s - loss: 0.1845 - accuracy: 0.93 - ETA: 1s - loss: 0.1848 - accuracy: 0.93 - ETA: 1s - loss: 0.1853 - accuracy: 0.93 - ETA: 1s - loss: 0.1855 - accuracy: 0.93 - ETA: 1s - loss: 0.1860 - accuracy: 0.93 - ETA: 1s - loss: 0.1863 - accuracy: 0.93 - ETA: 1s - loss: 0.1860 - accuracy: 0.93 - ETA: 1s - loss: 0.1863 - accuracy: 0.93 - ETA: 1s - loss: 0.1862 - accuracy: 0.93 - ETA: 1s - loss: 0.1852 - accuracy: 0.93 - ETA: 1s - loss: 0.1847 - accuracy: 0.93 - ETA: 1s - loss: 0.1849 - accuracy: 0.93 - ETA: 1s - loss: 0.1845 - accuracy: 0.93 - ETA: 0s - loss: 0.1845 - accuracy: 0.93 - ETA: 0s - loss: 0.1846 - accuracy: 0.93 - ETA: 0s - loss: 0.1843 - accuracy: 0.93 - ETA: 0s - loss: 0.1843 - accuracy: 0.93 - ETA: 0s - loss: 0.1849 - accuracy: 0.93 - ETA: 0s - loss: 0.1856 - accuracy: 0.93 - ETA: 0s - loss: 0.1857 - accuracy: 0.93 - ETA: 0s - loss: 0.1852 - accuracy: 0.93 - ETA: 0s - loss: 0.1853 - accuracy: 0.93 - ETA: 0s - loss: 0.1851 - accuracy: 0.93 - ETA: 0s - loss: 0.1847 - accuracy: 0.93 - ETA: 0s - loss: 0.1844 - accuracy: 0.93 - ETA: 0s - loss: 0.1837 - accuracy: 0.93 - ETA: 0s - loss: 0.1833 - accuracy: 0.93 - ETA: 0s - loss: 0.1829 - accuracy: 0.93 - 5s 23ms/step - loss: 0.1828 - accuracy: 0.9339 - val_loss: 0.1839 - val_accuracy: 0.9321\n",
      "Epoch 16/60\n",
      "228/228 [==============================] - ETA: 2s - loss: 0.1635 - accuracy: 0.94 - ETA: 4s - loss: 0.1358 - accuracy: 0.94 - ETA: 4s - loss: 0.1481 - accuracy: 0.94 - ETA: 4s - loss: 0.1612 - accuracy: 0.93 - ETA: 4s - loss: 0.1662 - accuracy: 0.93 - ETA: 4s - loss: 0.1666 - accuracy: 0.93 - ETA: 4s - loss: 0.1652 - accuracy: 0.93 - ETA: 4s - loss: 0.1639 - accuracy: 0.93 - ETA: 4s - loss: 0.1634 - accuracy: 0.93 - ETA: 4s - loss: 0.1617 - accuracy: 0.93 - ETA: 4s - loss: 0.1602 - accuracy: 0.93 - ETA: 4s - loss: 0.1596 - accuracy: 0.94 - ETA: 4s - loss: 0.1605 - accuracy: 0.94 - ETA: 4s - loss: 0.1632 - accuracy: 0.93 - ETA: 4s - loss: 0.1607 - accuracy: 0.94 - ETA: 4s - loss: 0.1650 - accuracy: 0.93 - ETA: 3s - loss: 0.1665 - accuracy: 0.93 - ETA: 3s - loss: 0.1681 - accuracy: 0.93 - ETA: 3s - loss: 0.1696 - accuracy: 0.93 - ETA: 3s - loss: 0.1704 - accuracy: 0.93 - ETA: 3s - loss: 0.1697 - accuracy: 0.93 - ETA: 3s - loss: 0.1712 - accuracy: 0.93 - ETA: 3s - loss: 0.1741 - accuracy: 0.93 - ETA: 3s - loss: 0.1744 - accuracy: 0.93 - ETA: 3s - loss: 0.1739 - accuracy: 0.93 - ETA: 3s - loss: 0.1732 - accuracy: 0.93 - ETA: 3s - loss: 0.1721 - accuracy: 0.93 - ETA: 3s - loss: 0.1725 - accuracy: 0.93 - ETA: 3s - loss: 0.1726 - accuracy: 0.93 - ETA: 3s - loss: 0.1732 - accuracy: 0.93 - ETA: 3s - loss: 0.1731 - accuracy: 0.93 - ETA: 2s - loss: 0.1719 - accuracy: 0.93 - ETA: 2s - loss: 0.1713 - accuracy: 0.93 - ETA: 2s - loss: 0.1726 - accuracy: 0.93 - ETA: 2s - loss: 0.1717 - accuracy: 0.93 - ETA: 2s - loss: 0.1717 - accuracy: 0.93 - ETA: 2s - loss: 0.1716 - accuracy: 0.93 - ETA: 2s - loss: 0.1719 - accuracy: 0.93 - ETA: 2s - loss: 0.1722 - accuracy: 0.93 - ETA: 2s - loss: 0.1719 - accuracy: 0.93 - ETA: 2s - loss: 0.1719 - accuracy: 0.93 - ETA: 2s - loss: 0.1717 - accuracy: 0.93 - ETA: 2s - loss: 0.1729 - accuracy: 0.93 - ETA: 2s - loss: 0.1730 - accuracy: 0.93 - ETA: 2s - loss: 0.1742 - accuracy: 0.93 - ETA: 2s - loss: 0.1732 - accuracy: 0.93 - ETA: 1s - loss: 0.1731 - accuracy: 0.93 - ETA: 1s - loss: 0.1731 - accuracy: 0.93 - ETA: 1s - loss: 0.1729 - accuracy: 0.93 - ETA: 1s - loss: 0.1740 - accuracy: 0.93 - ETA: 1s - loss: 0.1739 - accuracy: 0.93 - ETA: 1s - loss: 0.1743 - accuracy: 0.93 - ETA: 1s - loss: 0.1747 - accuracy: 0.93 - ETA: 1s - loss: 0.1752 - accuracy: 0.93 - ETA: 1s - loss: 0.1757 - accuracy: 0.93 - ETA: 1s - loss: 0.1761 - accuracy: 0.93 - ETA: 1s - loss: 0.1761 - accuracy: 0.93 - ETA: 1s - loss: 0.1763 - accuracy: 0.93 - ETA: 1s - loss: 0.1763 - accuracy: 0.93 - ETA: 1s - loss: 0.1761 - accuracy: 0.93 - ETA: 1s - loss: 0.1764 - accuracy: 0.93 - ETA: 0s - loss: 0.1764 - accuracy: 0.93 - ETA: 0s - loss: 0.1762 - accuracy: 0.93 - ETA: 0s - loss: 0.1756 - accuracy: 0.93 - ETA: 0s - loss: 0.1754 - accuracy: 0.93 - ETA: 0s - loss: 0.1750 - accuracy: 0.93 - ETA: 0s - loss: 0.1748 - accuracy: 0.93 - ETA: 0s - loss: 0.1752 - accuracy: 0.93 - ETA: 0s - loss: 0.1753 - accuracy: 0.93 - ETA: 0s - loss: 0.1755 - accuracy: 0.93 - ETA: 0s - loss: 0.1759 - accuracy: 0.93 - ETA: 0s - loss: 0.1763 - accuracy: 0.93 - ETA: 0s - loss: 0.1764 - accuracy: 0.93 - ETA: 0s - loss: 0.1769 - accuracy: 0.93 - ETA: 0s - loss: 0.1768 - accuracy: 0.93 - ETA: 0s - loss: 0.1763 - accuracy: 0.93 - 5s 23ms/step - loss: 0.1763 - accuracy: 0.9345 - val_loss: 0.1795 - val_accuracy: 0.9316\n",
      "Epoch 17/60\n"
     ]
    },
    {
     "name": "stdout",
     "output_type": "stream",
     "text": [
      "228/228 [==============================] - ETA: 2s - loss: 0.1507 - accuracy: 0.94 - ETA: 4s - loss: 0.1507 - accuracy: 0.94 - ETA: 4s - loss: 0.1659 - accuracy: 0.94 - ETA: 4s - loss: 0.1762 - accuracy: 0.93 - ETA: 4s - loss: 0.1709 - accuracy: 0.93 - ETA: 4s - loss: 0.1659 - accuracy: 0.93 - ETA: 4s - loss: 0.1676 - accuracy: 0.93 - ETA: 4s - loss: 0.1733 - accuracy: 0.93 - ETA: 4s - loss: 0.1719 - accuracy: 0.93 - ETA: 4s - loss: 0.1780 - accuracy: 0.93 - ETA: 4s - loss: 0.1796 - accuracy: 0.93 - ETA: 4s - loss: 0.1805 - accuracy: 0.93 - ETA: 4s - loss: 0.1783 - accuracy: 0.93 - ETA: 4s - loss: 0.1778 - accuracy: 0.93 - ETA: 4s - loss: 0.1756 - accuracy: 0.93 - ETA: 4s - loss: 0.1738 - accuracy: 0.93 - ETA: 4s - loss: 0.1736 - accuracy: 0.93 - ETA: 3s - loss: 0.1719 - accuracy: 0.93 - ETA: 3s - loss: 0.1723 - accuracy: 0.93 - ETA: 3s - loss: 0.1737 - accuracy: 0.93 - ETA: 3s - loss: 0.1737 - accuracy: 0.93 - ETA: 3s - loss: 0.1737 - accuracy: 0.93 - ETA: 3s - loss: 0.1730 - accuracy: 0.93 - ETA: 3s - loss: 0.1729 - accuracy: 0.93 - ETA: 3s - loss: 0.1723 - accuracy: 0.93 - ETA: 3s - loss: 0.1726 - accuracy: 0.93 - ETA: 3s - loss: 0.1736 - accuracy: 0.93 - ETA: 3s - loss: 0.1750 - accuracy: 0.93 - ETA: 3s - loss: 0.1757 - accuracy: 0.93 - ETA: 3s - loss: 0.1754 - accuracy: 0.93 - ETA: 3s - loss: 0.1751 - accuracy: 0.93 - ETA: 2s - loss: 0.1749 - accuracy: 0.93 - ETA: 2s - loss: 0.1745 - accuracy: 0.93 - ETA: 2s - loss: 0.1748 - accuracy: 0.93 - ETA: 2s - loss: 0.1740 - accuracy: 0.93 - ETA: 2s - loss: 0.1745 - accuracy: 0.93 - ETA: 2s - loss: 0.1753 - accuracy: 0.93 - ETA: 2s - loss: 0.1766 - accuracy: 0.93 - ETA: 2s - loss: 0.1761 - accuracy: 0.93 - ETA: 2s - loss: 0.1767 - accuracy: 0.93 - ETA: 2s - loss: 0.1759 - accuracy: 0.93 - ETA: 2s - loss: 0.1757 - accuracy: 0.93 - ETA: 2s - loss: 0.1759 - accuracy: 0.93 - ETA: 2s - loss: 0.1758 - accuracy: 0.93 - ETA: 2s - loss: 0.1754 - accuracy: 0.93 - ETA: 2s - loss: 0.1755 - accuracy: 0.93 - ETA: 1s - loss: 0.1745 - accuracy: 0.93 - ETA: 1s - loss: 0.1741 - accuracy: 0.93 - ETA: 1s - loss: 0.1736 - accuracy: 0.93 - ETA: 1s - loss: 0.1731 - accuracy: 0.93 - ETA: 1s - loss: 0.1733 - accuracy: 0.93 - ETA: 1s - loss: 0.1728 - accuracy: 0.93 - ETA: 1s - loss: 0.1726 - accuracy: 0.93 - ETA: 1s - loss: 0.1726 - accuracy: 0.93 - ETA: 1s - loss: 0.1749 - accuracy: 0.93 - ETA: 1s - loss: 0.1924 - accuracy: 0.93 - ETA: 1s - loss: 0.1994 - accuracy: 0.93 - ETA: 1s - loss: 0.2010 - accuracy: 0.93 - ETA: 1s - loss: 0.2022 - accuracy: 0.93 - ETA: 1s - loss: 0.2028 - accuracy: 0.93 - ETA: 1s - loss: 0.2033 - accuracy: 0.93 - ETA: 0s - loss: 0.2035 - accuracy: 0.93 - ETA: 0s - loss: 0.2031 - accuracy: 0.93 - ETA: 0s - loss: 0.2029 - accuracy: 0.93 - ETA: 0s - loss: 0.2031 - accuracy: 0.93 - ETA: 0s - loss: 0.2031 - accuracy: 0.92 - ETA: 0s - loss: 0.2029 - accuracy: 0.92 - ETA: 0s - loss: 0.2028 - accuracy: 0.93 - ETA: 0s - loss: 0.2028 - accuracy: 0.93 - ETA: 0s - loss: 0.2025 - accuracy: 0.93 - ETA: 0s - loss: 0.2021 - accuracy: 0.93 - ETA: 0s - loss: 0.2013 - accuracy: 0.93 - ETA: 0s - loss: 0.2012 - accuracy: 0.93 - ETA: 0s - loss: 0.2010 - accuracy: 0.93 - ETA: 0s - loss: 0.2007 - accuracy: 0.93 - ETA: 0s - loss: 0.2001 - accuracy: 0.93 - 5s 23ms/step - loss: 0.1999 - accuracy: 0.9306 - val_loss: 0.2151 - val_accuracy: 0.9276\n",
      "Epoch 18/60\n",
      "228/228 [==============================] - ETA: 2s - loss: 0.1630 - accuracy: 0.94 - ETA: 4s - loss: 0.1977 - accuracy: 0.93 - ETA: 4s - loss: 0.1870 - accuracy: 0.93 - ETA: 4s - loss: 0.1895 - accuracy: 0.93 - ETA: 4s - loss: 0.1901 - accuracy: 0.93 - ETA: 4s - loss: 0.1837 - accuracy: 0.93 - ETA: 4s - loss: 0.1811 - accuracy: 0.93 - ETA: 4s - loss: 0.1794 - accuracy: 0.93 - ETA: 4s - loss: 0.1790 - accuracy: 0.93 - ETA: 4s - loss: 0.1774 - accuracy: 0.93 - ETA: 4s - loss: 0.1832 - accuracy: 0.93 - ETA: 4s - loss: 0.1829 - accuracy: 0.93 - ETA: 4s - loss: 0.1815 - accuracy: 0.93 - ETA: 4s - loss: 0.1789 - accuracy: 0.93 - ETA: 4s - loss: 0.1814 - accuracy: 0.93 - ETA: 4s - loss: 0.1804 - accuracy: 0.93 - ETA: 4s - loss: 0.1782 - accuracy: 0.93 - ETA: 4s - loss: 0.1760 - accuracy: 0.93 - ETA: 4s - loss: 0.1747 - accuracy: 0.93 - ETA: 3s - loss: 0.1739 - accuracy: 0.93 - ETA: 3s - loss: 0.1740 - accuracy: 0.93 - ETA: 3s - loss: 0.1737 - accuracy: 0.93 - ETA: 3s - loss: 0.1738 - accuracy: 0.93 - ETA: 3s - loss: 0.1730 - accuracy: 0.93 - ETA: 3s - loss: 0.1740 - accuracy: 0.93 - ETA: 3s - loss: 0.1743 - accuracy: 0.93 - ETA: 3s - loss: 0.1738 - accuracy: 0.93 - ETA: 3s - loss: 0.1736 - accuracy: 0.93 - ETA: 3s - loss: 0.1734 - accuracy: 0.93 - ETA: 3s - loss: 0.1730 - accuracy: 0.93 - ETA: 3s - loss: 0.1730 - accuracy: 0.93 - ETA: 3s - loss: 0.1719 - accuracy: 0.93 - ETA: 3s - loss: 0.1707 - accuracy: 0.93 - ETA: 2s - loss: 0.1704 - accuracy: 0.93 - ETA: 2s - loss: 0.1699 - accuracy: 0.93 - ETA: 2s - loss: 0.1700 - accuracy: 0.93 - ETA: 2s - loss: 0.1696 - accuracy: 0.93 - ETA: 2s - loss: 0.1696 - accuracy: 0.93 - ETA: 2s - loss: 0.1685 - accuracy: 0.93 - ETA: 2s - loss: 0.1690 - accuracy: 0.93 - ETA: 2s - loss: 0.1691 - accuracy: 0.93 - ETA: 2s - loss: 0.1683 - accuracy: 0.93 - ETA: 2s - loss: 0.1678 - accuracy: 0.93 - ETA: 2s - loss: 0.1674 - accuracy: 0.93 - ETA: 2s - loss: 0.1673 - accuracy: 0.93 - ETA: 2s - loss: 0.1677 - accuracy: 0.93 - ETA: 2s - loss: 0.1671 - accuracy: 0.93 - ETA: 2s - loss: 0.1667 - accuracy: 0.93 - ETA: 1s - loss: 0.1666 - accuracy: 0.93 - ETA: 1s - loss: 0.1664 - accuracy: 0.93 - ETA: 1s - loss: 0.1671 - accuracy: 0.93 - ETA: 1s - loss: 0.1674 - accuracy: 0.93 - ETA: 1s - loss: 0.1679 - accuracy: 0.93 - ETA: 1s - loss: 0.1678 - accuracy: 0.93 - ETA: 1s - loss: 0.1675 - accuracy: 0.93 - ETA: 1s - loss: 0.1681 - accuracy: 0.93 - ETA: 1s - loss: 0.1685 - accuracy: 0.93 - ETA: 1s - loss: 0.1683 - accuracy: 0.93 - ETA: 1s - loss: 0.1682 - accuracy: 0.93 - ETA: 1s - loss: 0.1685 - accuracy: 0.93 - ETA: 1s - loss: 0.1693 - accuracy: 0.93 - ETA: 1s - loss: 0.1691 - accuracy: 0.93 - ETA: 1s - loss: 0.1692 - accuracy: 0.93 - ETA: 0s - loss: 0.1690 - accuracy: 0.93 - ETA: 0s - loss: 0.1689 - accuracy: 0.93 - ETA: 0s - loss: 0.1693 - accuracy: 0.93 - ETA: 0s - loss: 0.1695 - accuracy: 0.93 - ETA: 0s - loss: 0.1693 - accuracy: 0.93 - ETA: 0s - loss: 0.1688 - accuracy: 0.93 - ETA: 0s - loss: 0.1690 - accuracy: 0.93 - ETA: 0s - loss: 0.1684 - accuracy: 0.93 - ETA: 0s - loss: 0.1684 - accuracy: 0.93 - ETA: 0s - loss: 0.1681 - accuracy: 0.93 - ETA: 0s - loss: 0.1680 - accuracy: 0.93 - ETA: 0s - loss: 0.1682 - accuracy: 0.93 - ETA: 0s - loss: 0.1688 - accuracy: 0.93 - ETA: 0s - loss: 0.1686 - accuracy: 0.93 - ETA: 0s - loss: 0.1690 - accuracy: 0.93 - 5s 24ms/step - loss: 0.1690 - accuracy: 0.9379 - val_loss: 0.1742 - val_accuracy: 0.9396\n",
      "Epoch 19/60\n"
     ]
    },
    {
     "name": "stdout",
     "output_type": "stream",
     "text": [
      "228/228 [==============================] - ETA: 2s - loss: 0.1288 - accuracy: 0.95 - ETA: 4s - loss: 0.1673 - accuracy: 0.93 - ETA: 4s - loss: 0.1668 - accuracy: 0.93 - ETA: 4s - loss: 0.1713 - accuracy: 0.93 - ETA: 4s - loss: 0.1687 - accuracy: 0.93 - ETA: 4s - loss: 0.1629 - accuracy: 0.94 - ETA: 4s - loss: 0.1573 - accuracy: 0.94 - ETA: 4s - loss: 0.1562 - accuracy: 0.94 - ETA: 4s - loss: 0.1586 - accuracy: 0.94 - ETA: 4s - loss: 0.1588 - accuracy: 0.94 - ETA: 4s - loss: 0.1584 - accuracy: 0.94 - ETA: 4s - loss: 0.1589 - accuracy: 0.94 - ETA: 4s - loss: 0.1590 - accuracy: 0.94 - ETA: 4s - loss: 0.1549 - accuracy: 0.94 - ETA: 4s - loss: 0.1550 - accuracy: 0.94 - ETA: 4s - loss: 0.1528 - accuracy: 0.94 - ETA: 3s - loss: 0.1546 - accuracy: 0.94 - ETA: 3s - loss: 0.1579 - accuracy: 0.94 - ETA: 3s - loss: 0.1580 - accuracy: 0.94 - ETA: 3s - loss: 0.1580 - accuracy: 0.94 - ETA: 3s - loss: 0.1580 - accuracy: 0.94 - ETA: 3s - loss: 0.1584 - accuracy: 0.94 - ETA: 3s - loss: 0.1590 - accuracy: 0.94 - ETA: 3s - loss: 0.1586 - accuracy: 0.94 - ETA: 3s - loss: 0.1598 - accuracy: 0.94 - ETA: 3s - loss: 0.1598 - accuracy: 0.94 - ETA: 3s - loss: 0.1604 - accuracy: 0.94 - ETA: 3s - loss: 0.1618 - accuracy: 0.94 - ETA: 3s - loss: 0.1617 - accuracy: 0.94 - ETA: 3s - loss: 0.1617 - accuracy: 0.94 - ETA: 3s - loss: 0.1620 - accuracy: 0.94 - ETA: 3s - loss: 0.1611 - accuracy: 0.94 - ETA: 2s - loss: 0.1607 - accuracy: 0.94 - ETA: 2s - loss: 0.1608 - accuracy: 0.94 - ETA: 2s - loss: 0.1610 - accuracy: 0.94 - ETA: 2s - loss: 0.1613 - accuracy: 0.94 - ETA: 2s - loss: 0.1639 - accuracy: 0.94 - ETA: 2s - loss: 0.1640 - accuracy: 0.94 - ETA: 2s - loss: 0.1642 - accuracy: 0.94 - ETA: 2s - loss: 0.1651 - accuracy: 0.94 - ETA: 2s - loss: 0.1658 - accuracy: 0.93 - ETA: 2s - loss: 0.1669 - accuracy: 0.93 - ETA: 2s - loss: 0.1662 - accuracy: 0.93 - ETA: 2s - loss: 0.1665 - accuracy: 0.93 - ETA: 2s - loss: 0.1674 - accuracy: 0.93 - ETA: 2s - loss: 0.1680 - accuracy: 0.93 - ETA: 2s - loss: 0.1680 - accuracy: 0.93 - ETA: 1s - loss: 0.1679 - accuracy: 0.93 - ETA: 1s - loss: 0.1674 - accuracy: 0.93 - ETA: 1s - loss: 0.1676 - accuracy: 0.93 - ETA: 1s - loss: 0.1674 - accuracy: 0.93 - ETA: 1s - loss: 0.1676 - accuracy: 0.93 - ETA: 1s - loss: 0.1674 - accuracy: 0.93 - ETA: 1s - loss: 0.1668 - accuracy: 0.93 - ETA: 1s - loss: 0.1664 - accuracy: 0.93 - ETA: 1s - loss: 0.1668 - accuracy: 0.93 - ETA: 1s - loss: 0.1668 - accuracy: 0.93 - ETA: 1s - loss: 0.1671 - accuracy: 0.93 - ETA: 1s - loss: 0.1668 - accuracy: 0.93 - ETA: 1s - loss: 0.1662 - accuracy: 0.93 - ETA: 1s - loss: 0.1664 - accuracy: 0.93 - ETA: 1s - loss: 0.1665 - accuracy: 0.93 - ETA: 0s - loss: 0.1661 - accuracy: 0.93 - ETA: 0s - loss: 0.1659 - accuracy: 0.93 - ETA: 0s - loss: 0.1661 - accuracy: 0.93 - ETA: 0s - loss: 0.1660 - accuracy: 0.93 - ETA: 0s - loss: 0.1657 - accuracy: 0.93 - ETA: 0s - loss: 0.1654 - accuracy: 0.93 - ETA: 0s - loss: 0.1655 - accuracy: 0.93 - ETA: 0s - loss: 0.1649 - accuracy: 0.93 - ETA: 0s - loss: 0.1653 - accuracy: 0.93 - ETA: 0s - loss: 0.1652 - accuracy: 0.93 - ETA: 0s - loss: 0.1652 - accuracy: 0.93 - ETA: 0s - loss: 0.1654 - accuracy: 0.93 - ETA: 0s - loss: 0.1657 - accuracy: 0.93 - ETA: 0s - loss: 0.1657 - accuracy: 0.93 - ETA: 0s - loss: 0.1655 - accuracy: 0.93 - 5s 24ms/step - loss: 0.1653 - accuracy: 0.9394 - val_loss: 0.1688 - val_accuracy: 0.9378\n",
      "Epoch 20/60\n",
      "228/228 [==============================] - ETA: 2s - loss: 0.1107 - accuracy: 0.95 - ETA: 4s - loss: 0.1368 - accuracy: 0.94 - ETA: 4s - loss: 0.1356 - accuracy: 0.94 - ETA: 4s - loss: 0.1325 - accuracy: 0.94 - ETA: 4s - loss: 0.1312 - accuracy: 0.94 - ETA: 4s - loss: 0.1316 - accuracy: 0.94 - ETA: 4s - loss: 0.1329 - accuracy: 0.94 - ETA: 4s - loss: 0.1393 - accuracy: 0.94 - ETA: 4s - loss: 0.1480 - accuracy: 0.94 - ETA: 4s - loss: 0.1524 - accuracy: 0.94 - ETA: 4s - loss: 0.1540 - accuracy: 0.94 - ETA: 4s - loss: 0.1547 - accuracy: 0.94 - ETA: 4s - loss: 0.1563 - accuracy: 0.94 - ETA: 4s - loss: 0.1559 - accuracy: 0.94 - ETA: 4s - loss: 0.1545 - accuracy: 0.94 - ETA: 4s - loss: 0.1567 - accuracy: 0.94 - ETA: 4s - loss: 0.1571 - accuracy: 0.94 - ETA: 3s - loss: 0.1563 - accuracy: 0.94 - ETA: 3s - loss: 0.1560 - accuracy: 0.94 - ETA: 3s - loss: 0.1553 - accuracy: 0.94 - ETA: 3s - loss: 0.1551 - accuracy: 0.94 - ETA: 3s - loss: 0.1541 - accuracy: 0.94 - ETA: 3s - loss: 0.1532 - accuracy: 0.94 - ETA: 3s - loss: 0.1532 - accuracy: 0.94 - ETA: 3s - loss: 0.1520 - accuracy: 0.94 - ETA: 3s - loss: 0.1512 - accuracy: 0.94 - ETA: 3s - loss: 0.1503 - accuracy: 0.94 - ETA: 3s - loss: 0.1516 - accuracy: 0.94 - ETA: 3s - loss: 0.1512 - accuracy: 0.94 - ETA: 3s - loss: 0.1512 - accuracy: 0.94 - ETA: 3s - loss: 0.1511 - accuracy: 0.94 - ETA: 3s - loss: 0.1513 - accuracy: 0.94 - ETA: 3s - loss: 0.1508 - accuracy: 0.94 - ETA: 3s - loss: 0.1511 - accuracy: 0.94 - ETA: 3s - loss: 0.1516 - accuracy: 0.94 - ETA: 2s - loss: 0.1510 - accuracy: 0.94 - ETA: 2s - loss: 0.1500 - accuracy: 0.94 - ETA: 2s - loss: 0.1509 - accuracy: 0.94 - ETA: 2s - loss: 0.1519 - accuracy: 0.94 - ETA: 2s - loss: 0.1524 - accuracy: 0.94 - ETA: 2s - loss: 0.1531 - accuracy: 0.94 - ETA: 2s - loss: 0.1528 - accuracy: 0.94 - ETA: 2s - loss: 0.1528 - accuracy: 0.94 - ETA: 2s - loss: 0.1534 - accuracy: 0.94 - ETA: 2s - loss: 0.1536 - accuracy: 0.94 - ETA: 2s - loss: 0.1532 - accuracy: 0.94 - ETA: 2s - loss: 0.1539 - accuracy: 0.94 - ETA: 2s - loss: 0.1534 - accuracy: 0.94 - ETA: 2s - loss: 0.1526 - accuracy: 0.94 - ETA: 1s - loss: 0.1528 - accuracy: 0.94 - ETA: 1s - loss: 0.1534 - accuracy: 0.94 - ETA: 1s - loss: 0.1531 - accuracy: 0.94 - ETA: 1s - loss: 0.1540 - accuracy: 0.94 - ETA: 1s - loss: 0.1550 - accuracy: 0.94 - ETA: 1s - loss: 0.1556 - accuracy: 0.94 - ETA: 1s - loss: 0.1550 - accuracy: 0.94 - ETA: 1s - loss: 0.1547 - accuracy: 0.94 - ETA: 1s - loss: 0.1550 - accuracy: 0.94 - ETA: 1s - loss: 0.1550 - accuracy: 0.94 - ETA: 1s - loss: 0.1554 - accuracy: 0.94 - ETA: 1s - loss: 0.1557 - accuracy: 0.94 - ETA: 1s - loss: 0.1559 - accuracy: 0.94 - ETA: 1s - loss: 0.1556 - accuracy: 0.94 - ETA: 0s - loss: 0.1555 - accuracy: 0.94 - ETA: 0s - loss: 0.1559 - accuracy: 0.94 - ETA: 0s - loss: 0.1555 - accuracy: 0.94 - ETA: 0s - loss: 0.1553 - accuracy: 0.94 - ETA: 0s - loss: 0.1554 - accuracy: 0.94 - ETA: 0s - loss: 0.1555 - accuracy: 0.94 - ETA: 0s - loss: 0.1554 - accuracy: 0.94 - ETA: 0s - loss: 0.1548 - accuracy: 0.94 - ETA: 0s - loss: 0.1542 - accuracy: 0.94 - ETA: 0s - loss: 0.1543 - accuracy: 0.94 - ETA: 0s - loss: 0.1541 - accuracy: 0.94 - ETA: 0s - loss: 0.1542 - accuracy: 0.94 - ETA: 0s - loss: 0.1549 - accuracy: 0.94 - ETA: 0s - loss: 0.1548 - accuracy: 0.94 - ETA: 0s - loss: 0.1545 - accuracy: 0.94 - 5s 24ms/step - loss: 0.1545 - accuracy: 0.9441 - val_loss: 0.1628 - val_accuracy: 0.9430\n",
      "Epoch 21/60\n"
     ]
    },
    {
     "name": "stdout",
     "output_type": "stream",
     "text": [
      "228/228 [==============================] - ETA: 3s - loss: 0.1815 - accuracy: 0.92 - ETA: 4s - loss: 0.1909 - accuracy: 0.93 - ETA: 4s - loss: 0.1821 - accuracy: 0.93 - ETA: 5s - loss: 0.1678 - accuracy: 0.94 - ETA: 4s - loss: 0.1692 - accuracy: 0.94 - ETA: 4s - loss: 0.1616 - accuracy: 0.94 - ETA: 4s - loss: 0.1581 - accuracy: 0.94 - ETA: 4s - loss: 0.1580 - accuracy: 0.94 - ETA: 4s - loss: 0.1543 - accuracy: 0.94 - ETA: 4s - loss: 0.1516 - accuracy: 0.94 - ETA: 4s - loss: 0.1536 - accuracy: 0.94 - ETA: 4s - loss: 0.1532 - accuracy: 0.94 - ETA: 4s - loss: 0.1515 - accuracy: 0.94 - ETA: 4s - loss: 0.1490 - accuracy: 0.94 - ETA: 4s - loss: 0.1502 - accuracy: 0.94 - ETA: 4s - loss: 0.1495 - accuracy: 0.94 - ETA: 4s - loss: 0.1485 - accuracy: 0.94 - ETA: 4s - loss: 0.1476 - accuracy: 0.94 - ETA: 3s - loss: 0.1457 - accuracy: 0.94 - ETA: 3s - loss: 0.1470 - accuracy: 0.94 - ETA: 3s - loss: 0.1478 - accuracy: 0.94 - ETA: 3s - loss: 0.1472 - accuracy: 0.94 - ETA: 3s - loss: 0.1468 - accuracy: 0.94 - ETA: 3s - loss: 0.1475 - accuracy: 0.94 - ETA: 3s - loss: 0.1476 - accuracy: 0.94 - ETA: 3s - loss: 0.1482 - accuracy: 0.94 - ETA: 3s - loss: 0.1479 - accuracy: 0.94 - ETA: 3s - loss: 0.1476 - accuracy: 0.94 - ETA: 3s - loss: 0.1482 - accuracy: 0.94 - ETA: 3s - loss: 0.1479 - accuracy: 0.94 - ETA: 3s - loss: 0.1465 - accuracy: 0.94 - ETA: 3s - loss: 0.1463 - accuracy: 0.94 - ETA: 2s - loss: 0.1453 - accuracy: 0.94 - ETA: 2s - loss: 0.1454 - accuracy: 0.94 - ETA: 2s - loss: 0.1450 - accuracy: 0.94 - ETA: 2s - loss: 0.1463 - accuracy: 0.94 - ETA: 2s - loss: 0.1461 - accuracy: 0.94 - ETA: 2s - loss: 0.1459 - accuracy: 0.94 - ETA: 2s - loss: 0.1453 - accuracy: 0.94 - ETA: 2s - loss: 0.1452 - accuracy: 0.94 - ETA: 2s - loss: 0.1450 - accuracy: 0.94 - ETA: 2s - loss: 0.1456 - accuracy: 0.94 - ETA: 2s - loss: 0.1452 - accuracy: 0.94 - ETA: 2s - loss: 0.1453 - accuracy: 0.94 - ETA: 2s - loss: 0.1454 - accuracy: 0.94 - ETA: 2s - loss: 0.1453 - accuracy: 0.94 - ETA: 2s - loss: 0.1451 - accuracy: 0.94 - ETA: 2s - loss: 0.1445 - accuracy: 0.94 - ETA: 1s - loss: 0.1445 - accuracy: 0.94 - ETA: 1s - loss: 0.1452 - accuracy: 0.94 - ETA: 1s - loss: 0.1457 - accuracy: 0.94 - ETA: 1s - loss: 0.1455 - accuracy: 0.94 - ETA: 1s - loss: 0.1447 - accuracy: 0.94 - ETA: 1s - loss: 0.1445 - accuracy: 0.94 - ETA: 1s - loss: 0.1445 - accuracy: 0.94 - ETA: 1s - loss: 0.1447 - accuracy: 0.94 - ETA: 1s - loss: 0.1450 - accuracy: 0.94 - ETA: 1s - loss: 0.1454 - accuracy: 0.94 - ETA: 1s - loss: 0.1454 - accuracy: 0.94 - ETA: 1s - loss: 0.1457 - accuracy: 0.94 - ETA: 1s - loss: 0.1459 - accuracy: 0.94 - ETA: 1s - loss: 0.1470 - accuracy: 0.94 - ETA: 0s - loss: 0.1473 - accuracy: 0.94 - ETA: 0s - loss: 0.1476 - accuracy: 0.94 - ETA: 0s - loss: 0.1479 - accuracy: 0.94 - ETA: 0s - loss: 0.1484 - accuracy: 0.94 - ETA: 0s - loss: 0.1484 - accuracy: 0.94 - ETA: 0s - loss: 0.1484 - accuracy: 0.94 - ETA: 0s - loss: 0.1485 - accuracy: 0.94 - ETA: 0s - loss: 0.1491 - accuracy: 0.94 - ETA: 0s - loss: 0.1489 - accuracy: 0.94 - ETA: 0s - loss: 0.1489 - accuracy: 0.94 - ETA: 0s - loss: 0.1492 - accuracy: 0.94 - ETA: 0s - loss: 0.1494 - accuracy: 0.94 - ETA: 0s - loss: 0.1491 - accuracy: 0.94 - ETA: 0s - loss: 0.1494 - accuracy: 0.94 - ETA: 0s - loss: 0.1495 - accuracy: 0.94 - 5s 24ms/step - loss: 0.1493 - accuracy: 0.9454 - val_loss: 0.1675 - val_accuracy: 0.9426\n",
      "Epoch 22/60\n",
      "228/228 [==============================] - ETA: 2s - loss: 0.1450 - accuracy: 0.95 - ETA: 4s - loss: 0.1447 - accuracy: 0.94 - ETA: 4s - loss: 0.1417 - accuracy: 0.94 - ETA: 4s - loss: 0.1442 - accuracy: 0.94 - ETA: 4s - loss: 0.1393 - accuracy: 0.94 - ETA: 4s - loss: 0.1347 - accuracy: 0.94 - ETA: 4s - loss: 0.1364 - accuracy: 0.95 - ETA: 4s - loss: 0.1337 - accuracy: 0.95 - ETA: 4s - loss: 0.1323 - accuracy: 0.95 - ETA: 4s - loss: 0.1394 - accuracy: 0.95 - ETA: 4s - loss: 0.1404 - accuracy: 0.94 - ETA: 4s - loss: 0.1449 - accuracy: 0.94 - ETA: 4s - loss: 0.1467 - accuracy: 0.94 - ETA: 4s - loss: 0.1477 - accuracy: 0.94 - ETA: 4s - loss: 0.1495 - accuracy: 0.94 - ETA: 4s - loss: 0.1506 - accuracy: 0.94 - ETA: 4s - loss: 0.1508 - accuracy: 0.94 - ETA: 4s - loss: 0.1507 - accuracy: 0.94 - ETA: 3s - loss: 0.1503 - accuracy: 0.94 - ETA: 3s - loss: 0.1512 - accuracy: 0.94 - ETA: 3s - loss: 0.1493 - accuracy: 0.94 - ETA: 3s - loss: 0.1499 - accuracy: 0.94 - ETA: 3s - loss: 0.1484 - accuracy: 0.94 - ETA: 3s - loss: 0.1472 - accuracy: 0.94 - ETA: 3s - loss: 0.1481 - accuracy: 0.94 - ETA: 3s - loss: 0.1479 - accuracy: 0.94 - ETA: 3s - loss: 0.1473 - accuracy: 0.94 - ETA: 3s - loss: 0.1470 - accuracy: 0.94 - ETA: 3s - loss: 0.1471 - accuracy: 0.94 - ETA: 3s - loss: 0.1467 - accuracy: 0.94 - ETA: 3s - loss: 0.1471 - accuracy: 0.94 - ETA: 3s - loss: 0.1482 - accuracy: 0.94 - ETA: 2s - loss: 0.1486 - accuracy: 0.94 - ETA: 2s - loss: 0.1489 - accuracy: 0.94 - ETA: 2s - loss: 0.1488 - accuracy: 0.94 - ETA: 2s - loss: 0.1490 - accuracy: 0.94 - ETA: 2s - loss: 0.1479 - accuracy: 0.94 - ETA: 2s - loss: 0.1480 - accuracy: 0.94 - ETA: 2s - loss: 0.1491 - accuracy: 0.94 - ETA: 2s - loss: 0.1487 - accuracy: 0.94 - ETA: 2s - loss: 0.1498 - accuracy: 0.94 - ETA: 2s - loss: 0.1492 - accuracy: 0.94 - ETA: 2s - loss: 0.1490 - accuracy: 0.94 - ETA: 2s - loss: 0.1492 - accuracy: 0.94 - ETA: 2s - loss: 0.1493 - accuracy: 0.94 - ETA: 2s - loss: 0.1489 - accuracy: 0.94 - ETA: 2s - loss: 0.1494 - accuracy: 0.94 - ETA: 1s - loss: 0.1494 - accuracy: 0.94 - ETA: 1s - loss: 0.1505 - accuracy: 0.94 - ETA: 1s - loss: 0.1507 - accuracy: 0.94 - ETA: 1s - loss: 0.1502 - accuracy: 0.94 - ETA: 1s - loss: 0.1505 - accuracy: 0.94 - ETA: 1s - loss: 0.1507 - accuracy: 0.94 - ETA: 1s - loss: 0.1507 - accuracy: 0.94 - ETA: 1s - loss: 0.1500 - accuracy: 0.94 - ETA: 1s - loss: 0.1498 - accuracy: 0.94 - ETA: 1s - loss: 0.1493 - accuracy: 0.94 - ETA: 1s - loss: 0.1489 - accuracy: 0.94 - ETA: 1s - loss: 0.1484 - accuracy: 0.94 - ETA: 1s - loss: 0.1486 - accuracy: 0.94 - ETA: 1s - loss: 0.1487 - accuracy: 0.94 - ETA: 1s - loss: 0.1494 - accuracy: 0.94 - ETA: 0s - loss: 0.1498 - accuracy: 0.94 - ETA: 0s - loss: 0.1497 - accuracy: 0.94 - ETA: 0s - loss: 0.1497 - accuracy: 0.94 - ETA: 0s - loss: 0.1491 - accuracy: 0.94 - ETA: 0s - loss: 0.1494 - accuracy: 0.94 - ETA: 0s - loss: 0.1498 - accuracy: 0.94 - ETA: 0s - loss: 0.1493 - accuracy: 0.94 - ETA: 0s - loss: 0.1495 - accuracy: 0.94 - ETA: 0s - loss: 0.1496 - accuracy: 0.94 - ETA: 0s - loss: 0.1499 - accuracy: 0.94 - ETA: 0s - loss: 0.1502 - accuracy: 0.94 - ETA: 0s - loss: 0.1505 - accuracy: 0.94 - ETA: 0s - loss: 0.1503 - accuracy: 0.94 - ETA: 0s - loss: 0.1505 - accuracy: 0.94 - 5s 24ms/step - loss: 0.1502 - accuracy: 0.9448 - val_loss: 0.1772 - val_accuracy: 0.9385\n",
      "Epoch 23/60\n"
     ]
    },
    {
     "name": "stdout",
     "output_type": "stream",
     "text": [
      "228/228 [==============================] - ETA: 2s - loss: 0.1365 - accuracy: 0.95 - ETA: 4s - loss: 0.1309 - accuracy: 0.95 - ETA: 4s - loss: 0.1254 - accuracy: 0.95 - ETA: 4s - loss: 0.1346 - accuracy: 0.95 - ETA: 4s - loss: 0.1330 - accuracy: 0.95 - ETA: 4s - loss: 0.1377 - accuracy: 0.95 - ETA: 4s - loss: 0.1430 - accuracy: 0.95 - ETA: 4s - loss: 0.1424 - accuracy: 0.95 - ETA: 4s - loss: 0.1410 - accuracy: 0.95 - ETA: 4s - loss: 0.1506 - accuracy: 0.94 - ETA: 4s - loss: 0.1471 - accuracy: 0.94 - ETA: 4s - loss: 0.1469 - accuracy: 0.94 - ETA: 4s - loss: 0.1470 - accuracy: 0.94 - ETA: 4s - loss: 0.1473 - accuracy: 0.94 - ETA: 4s - loss: 0.1476 - accuracy: 0.94 - ETA: 4s - loss: 0.1475 - accuracy: 0.94 - ETA: 3s - loss: 0.1462 - accuracy: 0.94 - ETA: 3s - loss: 0.1443 - accuracy: 0.94 - ETA: 3s - loss: 0.1444 - accuracy: 0.95 - ETA: 3s - loss: 0.1461 - accuracy: 0.94 - ETA: 3s - loss: 0.1445 - accuracy: 0.95 - ETA: 3s - loss: 0.1440 - accuracy: 0.95 - ETA: 3s - loss: 0.1446 - accuracy: 0.95 - ETA: 3s - loss: 0.1458 - accuracy: 0.94 - ETA: 3s - loss: 0.1474 - accuracy: 0.94 - ETA: 3s - loss: 0.1481 - accuracy: 0.94 - ETA: 3s - loss: 0.1482 - accuracy: 0.94 - ETA: 3s - loss: 0.1483 - accuracy: 0.94 - ETA: 3s - loss: 0.1480 - accuracy: 0.94 - ETA: 3s - loss: 0.1481 - accuracy: 0.94 - ETA: 3s - loss: 0.1486 - accuracy: 0.94 - ETA: 3s - loss: 0.1479 - accuracy: 0.94 - ETA: 2s - loss: 0.1469 - accuracy: 0.94 - ETA: 2s - loss: 0.1476 - accuracy: 0.94 - ETA: 2s - loss: 0.1479 - accuracy: 0.94 - ETA: 2s - loss: 0.1476 - accuracy: 0.94 - ETA: 2s - loss: 0.1476 - accuracy: 0.94 - ETA: 2s - loss: 0.1478 - accuracy: 0.94 - ETA: 2s - loss: 0.1475 - accuracy: 0.94 - ETA: 2s - loss: 0.1475 - accuracy: 0.94 - ETA: 2s - loss: 0.1487 - accuracy: 0.94 - ETA: 2s - loss: 0.1480 - accuracy: 0.94 - ETA: 2s - loss: 0.1489 - accuracy: 0.94 - ETA: 2s - loss: 0.1488 - accuracy: 0.94 - ETA: 2s - loss: 0.1489 - accuracy: 0.94 - ETA: 2s - loss: 0.1487 - accuracy: 0.94 - ETA: 2s - loss: 0.1492 - accuracy: 0.94 - ETA: 1s - loss: 0.1488 - accuracy: 0.94 - ETA: 1s - loss: 0.1492 - accuracy: 0.94 - ETA: 1s - loss: 0.1488 - accuracy: 0.94 - ETA: 1s - loss: 0.1495 - accuracy: 0.94 - ETA: 1s - loss: 0.1490 - accuracy: 0.94 - ETA: 1s - loss: 0.1490 - accuracy: 0.94 - ETA: 1s - loss: 0.1490 - accuracy: 0.94 - ETA: 1s - loss: 0.1489 - accuracy: 0.94 - ETA: 1s - loss: 0.1489 - accuracy: 0.94 - ETA: 1s - loss: 0.1489 - accuracy: 0.94 - ETA: 1s - loss: 0.1487 - accuracy: 0.94 - ETA: 1s - loss: 0.1487 - accuracy: 0.94 - ETA: 1s - loss: 0.1484 - accuracy: 0.94 - ETA: 1s - loss: 0.1485 - accuracy: 0.94 - ETA: 0s - loss: 0.1481 - accuracy: 0.94 - ETA: 0s - loss: 0.1482 - accuracy: 0.94 - ETA: 0s - loss: 0.1483 - accuracy: 0.94 - ETA: 0s - loss: 0.1484 - accuracy: 0.94 - ETA: 0s - loss: 0.1481 - accuracy: 0.94 - ETA: 0s - loss: 0.1479 - accuracy: 0.94 - ETA: 0s - loss: 0.1479 - accuracy: 0.94 - ETA: 0s - loss: 0.1482 - accuracy: 0.94 - ETA: 0s - loss: 0.1484 - accuracy: 0.94 - ETA: 0s - loss: 0.1480 - accuracy: 0.94 - ETA: 0s - loss: 0.1478 - accuracy: 0.94 - ETA: 0s - loss: 0.1477 - accuracy: 0.94 - ETA: 0s - loss: 0.1479 - accuracy: 0.94 - ETA: 0s - loss: 0.1478 - accuracy: 0.94 - ETA: 0s - loss: 0.1475 - accuracy: 0.94 - 5s 24ms/step - loss: 0.1476 - accuracy: 0.9481 - val_loss: 0.1620 - val_accuracy: 0.9419\n",
      "Epoch 24/60\n",
      "228/228 [==============================] - ETA: 2s - loss: 0.0959 - accuracy: 0.96 - ETA: 4s - loss: 0.1223 - accuracy: 0.96 - ETA: 4s - loss: 0.1202 - accuracy: 0.95 - ETA: 4s - loss: 0.1333 - accuracy: 0.95 - ETA: 4s - loss: 0.1414 - accuracy: 0.94 - ETA: 4s - loss: 0.1361 - accuracy: 0.94 - ETA: 4s - loss: 0.1345 - accuracy: 0.94 - ETA: 4s - loss: 0.1346 - accuracy: 0.94 - ETA: 4s - loss: 0.1354 - accuracy: 0.95 - ETA: 4s - loss: 0.1336 - accuracy: 0.95 - ETA: 4s - loss: 0.1334 - accuracy: 0.95 - ETA: 4s - loss: 0.1350 - accuracy: 0.94 - ETA: 4s - loss: 0.1334 - accuracy: 0.95 - ETA: 4s - loss: 0.1326 - accuracy: 0.95 - ETA: 4s - loss: 0.1325 - accuracy: 0.95 - ETA: 4s - loss: 0.1320 - accuracy: 0.95 - ETA: 4s - loss: 0.1312 - accuracy: 0.95 - ETA: 3s - loss: 0.1305 - accuracy: 0.95 - ETA: 3s - loss: 0.1310 - accuracy: 0.95 - ETA: 3s - loss: 0.1311 - accuracy: 0.95 - ETA: 3s - loss: 0.1309 - accuracy: 0.95 - ETA: 3s - loss: 0.1309 - accuracy: 0.95 - ETA: 3s - loss: 0.1308 - accuracy: 0.95 - ETA: 3s - loss: 0.1306 - accuracy: 0.95 - ETA: 3s - loss: 0.1310 - accuracy: 0.95 - ETA: 3s - loss: 0.1303 - accuracy: 0.95 - ETA: 3s - loss: 0.1301 - accuracy: 0.95 - ETA: 3s - loss: 0.1320 - accuracy: 0.95 - ETA: 3s - loss: 0.1324 - accuracy: 0.95 - ETA: 3s - loss: 0.1324 - accuracy: 0.95 - ETA: 3s - loss: 0.1324 - accuracy: 0.95 - ETA: 3s - loss: 0.1328 - accuracy: 0.95 - ETA: 2s - loss: 0.1330 - accuracy: 0.95 - ETA: 2s - loss: 0.1334 - accuracy: 0.95 - ETA: 2s - loss: 0.1330 - accuracy: 0.95 - ETA: 2s - loss: 0.1324 - accuracy: 0.95 - ETA: 2s - loss: 0.1325 - accuracy: 0.95 - ETA: 2s - loss: 0.1318 - accuracy: 0.95 - ETA: 2s - loss: 0.1315 - accuracy: 0.95 - ETA: 2s - loss: 0.1313 - accuracy: 0.95 - ETA: 2s - loss: 0.1317 - accuracy: 0.95 - ETA: 2s - loss: 0.1319 - accuracy: 0.95 - ETA: 2s - loss: 0.1323 - accuracy: 0.95 - ETA: 2s - loss: 0.1333 - accuracy: 0.95 - ETA: 2s - loss: 0.1339 - accuracy: 0.95 - ETA: 2s - loss: 0.1345 - accuracy: 0.95 - ETA: 2s - loss: 0.1352 - accuracy: 0.95 - ETA: 1s - loss: 0.1349 - accuracy: 0.95 - ETA: 1s - loss: 0.1351 - accuracy: 0.95 - ETA: 1s - loss: 0.1343 - accuracy: 0.95 - ETA: 1s - loss: 0.1341 - accuracy: 0.95 - ETA: 1s - loss: 0.1343 - accuracy: 0.95 - ETA: 1s - loss: 0.1342 - accuracy: 0.95 - ETA: 1s - loss: 0.1343 - accuracy: 0.95 - ETA: 1s - loss: 0.1346 - accuracy: 0.95 - ETA: 1s - loss: 0.1343 - accuracy: 0.95 - ETA: 1s - loss: 0.1345 - accuracy: 0.95 - ETA: 1s - loss: 0.1341 - accuracy: 0.95 - ETA: 1s - loss: 0.1347 - accuracy: 0.95 - ETA: 1s - loss: 0.1352 - accuracy: 0.95 - ETA: 1s - loss: 0.1357 - accuracy: 0.95 - ETA: 1s - loss: 0.1362 - accuracy: 0.95 - ETA: 0s - loss: 0.1360 - accuracy: 0.95 - ETA: 0s - loss: 0.1358 - accuracy: 0.95 - ETA: 0s - loss: 0.1358 - accuracy: 0.95 - ETA: 0s - loss: 0.1363 - accuracy: 0.95 - ETA: 0s - loss: 0.1360 - accuracy: 0.95 - ETA: 0s - loss: 0.1366 - accuracy: 0.95 - ETA: 0s - loss: 0.1365 - accuracy: 0.95 - ETA: 0s - loss: 0.1364 - accuracy: 0.95 - ETA: 0s - loss: 0.1367 - accuracy: 0.95 - ETA: 0s - loss: 0.1366 - accuracy: 0.95 - ETA: 0s - loss: 0.1359 - accuracy: 0.95 - ETA: 0s - loss: 0.1354 - accuracy: 0.95 - ETA: 0s - loss: 0.1350 - accuracy: 0.95 - ETA: 0s - loss: 0.1350 - accuracy: 0.95 - ETA: 0s - loss: 0.1353 - accuracy: 0.95 - 5s 24ms/step - loss: 0.1353 - accuracy: 0.9508 - val_loss: 0.1688 - val_accuracy: 0.9402\n",
      "Epoch 25/60\n"
     ]
    },
    {
     "name": "stdout",
     "output_type": "stream",
     "text": [
      "228/228 [==============================] - ETA: 2s - loss: 0.1362 - accuracy: 0.93 - ETA: 4s - loss: 0.1247 - accuracy: 0.94 - ETA: 4s - loss: 0.1255 - accuracy: 0.94 - ETA: 4s - loss: 0.1218 - accuracy: 0.95 - ETA: 4s - loss: 0.1224 - accuracy: 0.94 - ETA: 4s - loss: 0.1234 - accuracy: 0.95 - ETA: 4s - loss: 0.1247 - accuracy: 0.95 - ETA: 4s - loss: 0.1257 - accuracy: 0.95 - ETA: 4s - loss: 0.1276 - accuracy: 0.95 - ETA: 4s - loss: 0.1263 - accuracy: 0.95 - ETA: 4s - loss: 0.1255 - accuracy: 0.95 - ETA: 4s - loss: 0.1260 - accuracy: 0.95 - ETA: 4s - loss: 0.1282 - accuracy: 0.95 - ETA: 4s - loss: 0.1268 - accuracy: 0.95 - ETA: 4s - loss: 0.1249 - accuracy: 0.95 - ETA: 4s - loss: 0.1283 - accuracy: 0.95 - ETA: 4s - loss: 0.1287 - accuracy: 0.95 - ETA: 4s - loss: 0.1288 - accuracy: 0.95 - ETA: 4s - loss: 0.1275 - accuracy: 0.95 - ETA: 3s - loss: 0.1267 - accuracy: 0.95 - ETA: 3s - loss: 0.1260 - accuracy: 0.95 - ETA: 3s - loss: 0.1319 - accuracy: 0.95 - ETA: 3s - loss: 0.1359 - accuracy: 0.95 - ETA: 3s - loss: 0.1368 - accuracy: 0.95 - ETA: 3s - loss: 0.1379 - accuracy: 0.95 - ETA: 3s - loss: 0.1379 - accuracy: 0.95 - ETA: 3s - loss: 0.1364 - accuracy: 0.95 - ETA: 3s - loss: 0.1368 - accuracy: 0.95 - ETA: 3s - loss: 0.1368 - accuracy: 0.95 - ETA: 3s - loss: 0.1361 - accuracy: 0.95 - ETA: 3s - loss: 0.1356 - accuracy: 0.95 - ETA: 3s - loss: 0.1375 - accuracy: 0.95 - ETA: 3s - loss: 0.1371 - accuracy: 0.95 - ETA: 3s - loss: 0.1371 - accuracy: 0.95 - ETA: 2s - loss: 0.1371 - accuracy: 0.95 - ETA: 2s - loss: 0.1370 - accuracy: 0.95 - ETA: 2s - loss: 0.1376 - accuracy: 0.95 - ETA: 2s - loss: 0.1374 - accuracy: 0.95 - ETA: 2s - loss: 0.1371 - accuracy: 0.95 - ETA: 2s - loss: 0.1359 - accuracy: 0.95 - ETA: 2s - loss: 0.1357 - accuracy: 0.95 - ETA: 2s - loss: 0.1356 - accuracy: 0.95 - ETA: 2s - loss: 0.1354 - accuracy: 0.95 - ETA: 2s - loss: 0.1350 - accuracy: 0.95 - ETA: 2s - loss: 0.1350 - accuracy: 0.95 - ETA: 2s - loss: 0.1352 - accuracy: 0.95 - ETA: 2s - loss: 0.1354 - accuracy: 0.95 - ETA: 2s - loss: 0.1362 - accuracy: 0.95 - ETA: 1s - loss: 0.1362 - accuracy: 0.95 - ETA: 1s - loss: 0.1364 - accuracy: 0.95 - ETA: 1s - loss: 0.1361 - accuracy: 0.95 - ETA: 1s - loss: 0.1359 - accuracy: 0.95 - ETA: 1s - loss: 0.1358 - accuracy: 0.95 - ETA: 1s - loss: 0.1359 - accuracy: 0.95 - ETA: 1s - loss: 0.1358 - accuracy: 0.95 - ETA: 1s - loss: 0.1356 - accuracy: 0.95 - ETA: 1s - loss: 0.1356 - accuracy: 0.95 - ETA: 1s - loss: 0.1350 - accuracy: 0.95 - ETA: 1s - loss: 0.1353 - accuracy: 0.95 - ETA: 1s - loss: 0.1359 - accuracy: 0.95 - ETA: 1s - loss: 0.1364 - accuracy: 0.95 - ETA: 1s - loss: 0.1363 - accuracy: 0.95 - ETA: 0s - loss: 0.1368 - accuracy: 0.95 - ETA: 0s - loss: 0.1390 - accuracy: 0.95 - ETA: 0s - loss: 0.1389 - accuracy: 0.95 - ETA: 0s - loss: 0.1393 - accuracy: 0.95 - ETA: 0s - loss: 0.1424 - accuracy: 0.94 - ETA: 0s - loss: 0.1428 - accuracy: 0.94 - ETA: 0s - loss: 0.1426 - accuracy: 0.94 - ETA: 0s - loss: 0.1428 - accuracy: 0.94 - ETA: 0s - loss: 0.1431 - accuracy: 0.94 - ETA: 0s - loss: 0.1431 - accuracy: 0.94 - ETA: 0s - loss: 0.1432 - accuracy: 0.94 - ETA: 0s - loss: 0.1434 - accuracy: 0.94 - ETA: 0s - loss: 0.1431 - accuracy: 0.94 - ETA: 0s - loss: 0.1433 - accuracy: 0.94 - ETA: 0s - loss: 0.1431 - accuracy: 0.94 - 5s 24ms/step - loss: 0.1431 - accuracy: 0.9491 - val_loss: 0.1571 - val_accuracy: 0.9461\n",
      "Epoch 26/60\n",
      "228/228 [==============================] - ETA: 2s - loss: 0.1829 - accuracy: 0.93 - ETA: 4s - loss: 0.1644 - accuracy: 0.94 - ETA: 4s - loss: 0.1389 - accuracy: 0.95 - ETA: 4s - loss: 0.1309 - accuracy: 0.95 - ETA: 4s - loss: 0.1274 - accuracy: 0.95 - ETA: 4s - loss: 0.1291 - accuracy: 0.95 - ETA: 4s - loss: 0.1287 - accuracy: 0.95 - ETA: 4s - loss: 0.1290 - accuracy: 0.95 - ETA: 4s - loss: 0.1271 - accuracy: 0.95 - ETA: 4s - loss: 0.1285 - accuracy: 0.95 - ETA: 4s - loss: 0.1298 - accuracy: 0.95 - ETA: 4s - loss: 0.1285 - accuracy: 0.95 - ETA: 4s - loss: 0.1290 - accuracy: 0.95 - ETA: 4s - loss: 0.1291 - accuracy: 0.95 - ETA: 4s - loss: 0.1318 - accuracy: 0.95 - ETA: 4s - loss: 0.1328 - accuracy: 0.95 - ETA: 3s - loss: 0.1321 - accuracy: 0.95 - ETA: 3s - loss: 0.1322 - accuracy: 0.95 - ETA: 3s - loss: 0.1331 - accuracy: 0.95 - ETA: 3s - loss: 0.1332 - accuracy: 0.95 - ETA: 3s - loss: 0.1344 - accuracy: 0.95 - ETA: 3s - loss: 0.1348 - accuracy: 0.95 - ETA: 3s - loss: 0.1345 - accuracy: 0.95 - ETA: 3s - loss: 0.1327 - accuracy: 0.95 - ETA: 3s - loss: 0.1328 - accuracy: 0.95 - ETA: 3s - loss: 0.1320 - accuracy: 0.95 - ETA: 3s - loss: 0.1313 - accuracy: 0.95 - ETA: 3s - loss: 0.1306 - accuracy: 0.95 - ETA: 3s - loss: 0.1305 - accuracy: 0.95 - ETA: 3s - loss: 0.1308 - accuracy: 0.95 - ETA: 3s - loss: 0.1312 - accuracy: 0.95 - ETA: 2s - loss: 0.1317 - accuracy: 0.95 - ETA: 2s - loss: 0.1318 - accuracy: 0.95 - ETA: 2s - loss: 0.1310 - accuracy: 0.95 - ETA: 2s - loss: 0.1315 - accuracy: 0.95 - ETA: 2s - loss: 0.1311 - accuracy: 0.95 - ETA: 2s - loss: 0.1310 - accuracy: 0.95 - ETA: 2s - loss: 0.1309 - accuracy: 0.95 - ETA: 2s - loss: 0.1306 - accuracy: 0.95 - ETA: 2s - loss: 0.1312 - accuracy: 0.95 - ETA: 2s - loss: 0.1311 - accuracy: 0.95 - ETA: 2s - loss: 0.1309 - accuracy: 0.95 - ETA: 2s - loss: 0.1311 - accuracy: 0.95 - ETA: 2s - loss: 0.1311 - accuracy: 0.95 - ETA: 2s - loss: 0.1312 - accuracy: 0.95 - ETA: 2s - loss: 0.1318 - accuracy: 0.95 - ETA: 1s - loss: 0.1317 - accuracy: 0.95 - ETA: 1s - loss: 0.1316 - accuracy: 0.95 - ETA: 1s - loss: 0.1313 - accuracy: 0.95 - ETA: 1s - loss: 0.1313 - accuracy: 0.95 - ETA: 1s - loss: 0.1309 - accuracy: 0.95 - ETA: 1s - loss: 0.1306 - accuracy: 0.95 - ETA: 1s - loss: 0.1310 - accuracy: 0.95 - ETA: 1s - loss: 0.1302 - accuracy: 0.95 - ETA: 1s - loss: 0.1310 - accuracy: 0.95 - ETA: 1s - loss: 0.1318 - accuracy: 0.95 - ETA: 1s - loss: 0.1320 - accuracy: 0.95 - ETA: 1s - loss: 0.1323 - accuracy: 0.95 - ETA: 1s - loss: 0.1328 - accuracy: 0.95 - ETA: 1s - loss: 0.1325 - accuracy: 0.95 - ETA: 1s - loss: 0.1327 - accuracy: 0.95 - ETA: 0s - loss: 0.1328 - accuracy: 0.95 - ETA: 0s - loss: 0.1327 - accuracy: 0.95 - ETA: 0s - loss: 0.1325 - accuracy: 0.95 - ETA: 0s - loss: 0.1323 - accuracy: 0.95 - ETA: 0s - loss: 0.1319 - accuracy: 0.95 - ETA: 0s - loss: 0.1319 - accuracy: 0.95 - ETA: 0s - loss: 0.1315 - accuracy: 0.95 - ETA: 0s - loss: 0.1315 - accuracy: 0.95 - ETA: 0s - loss: 0.1310 - accuracy: 0.95 - ETA: 0s - loss: 0.1309 - accuracy: 0.95 - ETA: 0s - loss: 0.1308 - accuracy: 0.95 - ETA: 0s - loss: 0.1312 - accuracy: 0.95 - ETA: 0s - loss: 0.1314 - accuracy: 0.95 - ETA: 0s - loss: 0.1316 - accuracy: 0.95 - ETA: 0s - loss: 0.1317 - accuracy: 0.95 - ETA: 0s - loss: 0.1314 - accuracy: 0.95 - 5s 23ms/step - loss: 0.1314 - accuracy: 0.9523 - val_loss: 0.1576 - val_accuracy: 0.9495\n",
      "Epoch 27/60\n"
     ]
    },
    {
     "name": "stdout",
     "output_type": "stream",
     "text": [
      "228/228 [==============================] - ETA: 2s - loss: 0.1622 - accuracy: 0.95 - ETA: 4s - loss: 0.1295 - accuracy: 0.95 - ETA: 4s - loss: 0.1285 - accuracy: 0.95 - ETA: 4s - loss: 0.1254 - accuracy: 0.95 - ETA: 4s - loss: 0.1269 - accuracy: 0.95 - ETA: 4s - loss: 0.1222 - accuracy: 0.95 - ETA: 4s - loss: 0.1238 - accuracy: 0.95 - ETA: 4s - loss: 0.1220 - accuracy: 0.95 - ETA: 4s - loss: 0.1216 - accuracy: 0.95 - ETA: 4s - loss: 0.1245 - accuracy: 0.95 - ETA: 4s - loss: 0.1253 - accuracy: 0.95 - ETA: 4s - loss: 0.1268 - accuracy: 0.95 - ETA: 4s - loss: 0.1257 - accuracy: 0.95 - ETA: 4s - loss: 0.1271 - accuracy: 0.95 - ETA: 4s - loss: 0.1260 - accuracy: 0.95 - ETA: 4s - loss: 0.1267 - accuracy: 0.95 - ETA: 3s - loss: 0.1260 - accuracy: 0.95 - ETA: 3s - loss: 0.1254 - accuracy: 0.95 - ETA: 3s - loss: 0.1248 - accuracy: 0.95 - ETA: 3s - loss: 0.1260 - accuracy: 0.95 - ETA: 3s - loss: 0.1251 - accuracy: 0.95 - ETA: 3s - loss: 0.1247 - accuracy: 0.95 - ETA: 3s - loss: 0.1235 - accuracy: 0.95 - ETA: 3s - loss: 0.1228 - accuracy: 0.95 - ETA: 3s - loss: 0.1237 - accuracy: 0.95 - ETA: 3s - loss: 0.1238 - accuracy: 0.95 - ETA: 3s - loss: 0.1242 - accuracy: 0.95 - ETA: 3s - loss: 0.1252 - accuracy: 0.95 - ETA: 3s - loss: 0.1237 - accuracy: 0.95 - ETA: 3s - loss: 0.1237 - accuracy: 0.95 - ETA: 3s - loss: 0.1238 - accuracy: 0.95 - ETA: 2s - loss: 0.1245 - accuracy: 0.95 - ETA: 2s - loss: 0.1258 - accuracy: 0.95 - ETA: 2s - loss: 0.1253 - accuracy: 0.95 - ETA: 2s - loss: 0.1260 - accuracy: 0.95 - ETA: 2s - loss: 0.1263 - accuracy: 0.95 - ETA: 2s - loss: 0.1257 - accuracy: 0.95 - ETA: 2s - loss: 0.1255 - accuracy: 0.95 - ETA: 2s - loss: 0.1254 - accuracy: 0.95 - ETA: 2s - loss: 0.1250 - accuracy: 0.95 - ETA: 2s - loss: 0.1253 - accuracy: 0.95 - ETA: 2s - loss: 0.1247 - accuracy: 0.95 - ETA: 2s - loss: 0.1246 - accuracy: 0.95 - ETA: 2s - loss: 0.1247 - accuracy: 0.95 - ETA: 2s - loss: 0.1250 - accuracy: 0.95 - ETA: 2s - loss: 0.1253 - accuracy: 0.95 - ETA: 1s - loss: 0.1249 - accuracy: 0.95 - ETA: 1s - loss: 0.1255 - accuracy: 0.95 - ETA: 1s - loss: 0.1254 - accuracy: 0.95 - ETA: 1s - loss: 0.1256 - accuracy: 0.95 - ETA: 1s - loss: 0.1254 - accuracy: 0.95 - ETA: 1s - loss: 0.1253 - accuracy: 0.95 - ETA: 1s - loss: 0.1254 - accuracy: 0.95 - ETA: 1s - loss: 0.1250 - accuracy: 0.95 - ETA: 1s - loss: 0.1247 - accuracy: 0.95 - ETA: 1s - loss: 0.1244 - accuracy: 0.95 - ETA: 1s - loss: 0.1244 - accuracy: 0.95 - ETA: 1s - loss: 0.1245 - accuracy: 0.95 - ETA: 1s - loss: 0.1245 - accuracy: 0.95 - ETA: 1s - loss: 0.1247 - accuracy: 0.95 - ETA: 1s - loss: 0.1244 - accuracy: 0.95 - ETA: 0s - loss: 0.1248 - accuracy: 0.95 - ETA: 0s - loss: 0.1250 - accuracy: 0.95 - ETA: 0s - loss: 0.1249 - accuracy: 0.95 - ETA: 0s - loss: 0.1250 - accuracy: 0.95 - ETA: 0s - loss: 0.1244 - accuracy: 0.95 - ETA: 0s - loss: 0.1244 - accuracy: 0.95 - ETA: 0s - loss: 0.1247 - accuracy: 0.95 - ETA: 0s - loss: 0.1247 - accuracy: 0.95 - ETA: 0s - loss: 0.1250 - accuracy: 0.95 - ETA: 0s - loss: 0.1250 - accuracy: 0.95 - ETA: 0s - loss: 0.1259 - accuracy: 0.95 - ETA: 0s - loss: 0.1256 - accuracy: 0.95 - ETA: 0s - loss: 0.1256 - accuracy: 0.95 - ETA: 0s - loss: 0.1259 - accuracy: 0.95 - ETA: 0s - loss: 0.1261 - accuracy: 0.95 - 5s 24ms/step - loss: 0.1263 - accuracy: 0.9538 - val_loss: 0.1829 - val_accuracy: 0.9389\n",
      "Epoch 28/60\n",
      "228/228 [==============================] - ETA: 2s - loss: 0.1637 - accuracy: 0.92 - ETA: 4s - loss: 0.1509 - accuracy: 0.94 - ETA: 4s - loss: 0.1483 - accuracy: 0.94 - ETA: 4s - loss: 0.1423 - accuracy: 0.94 - ETA: 4s - loss: 0.1396 - accuracy: 0.94 - ETA: 4s - loss: 0.1356 - accuracy: 0.95 - ETA: 4s - loss: 0.1316 - accuracy: 0.95 - ETA: 4s - loss: 0.1308 - accuracy: 0.95 - ETA: 4s - loss: 0.1295 - accuracy: 0.95 - ETA: 4s - loss: 0.1277 - accuracy: 0.95 - ETA: 4s - loss: 0.1289 - accuracy: 0.95 - ETA: 4s - loss: 0.1290 - accuracy: 0.95 - ETA: 4s - loss: 0.1281 - accuracy: 0.95 - ETA: 4s - loss: 0.1293 - accuracy: 0.95 - ETA: 4s - loss: 0.1280 - accuracy: 0.95 - ETA: 4s - loss: 0.1277 - accuracy: 0.95 - ETA: 3s - loss: 0.1283 - accuracy: 0.95 - ETA: 3s - loss: 0.1269 - accuracy: 0.95 - ETA: 3s - loss: 0.1255 - accuracy: 0.95 - ETA: 3s - loss: 0.1262 - accuracy: 0.95 - ETA: 3s - loss: 0.1264 - accuracy: 0.95 - ETA: 3s - loss: 0.1261 - accuracy: 0.95 - ETA: 3s - loss: 0.1258 - accuracy: 0.95 - ETA: 3s - loss: 0.1258 - accuracy: 0.95 - ETA: 3s - loss: 0.1261 - accuracy: 0.95 - ETA: 3s - loss: 0.1247 - accuracy: 0.95 - ETA: 3s - loss: 0.1240 - accuracy: 0.95 - ETA: 3s - loss: 0.1235 - accuracy: 0.95 - ETA: 3s - loss: 0.1237 - accuracy: 0.95 - ETA: 3s - loss: 0.1247 - accuracy: 0.95 - ETA: 3s - loss: 0.1254 - accuracy: 0.95 - ETA: 2s - loss: 0.1259 - accuracy: 0.95 - ETA: 2s - loss: 0.1257 - accuracy: 0.95 - ETA: 2s - loss: 0.1255 - accuracy: 0.95 - ETA: 2s - loss: 0.1257 - accuracy: 0.95 - ETA: 2s - loss: 0.1245 - accuracy: 0.95 - ETA: 2s - loss: 0.1248 - accuracy: 0.95 - ETA: 2s - loss: 0.1249 - accuracy: 0.95 - ETA: 2s - loss: 0.1247 - accuracy: 0.95 - ETA: 2s - loss: 0.1246 - accuracy: 0.95 - ETA: 2s - loss: 0.1253 - accuracy: 0.95 - ETA: 2s - loss: 0.1256 - accuracy: 0.95 - ETA: 2s - loss: 0.1261 - accuracy: 0.95 - ETA: 2s - loss: 0.1263 - accuracy: 0.95 - ETA: 2s - loss: 0.1263 - accuracy: 0.95 - ETA: 2s - loss: 0.1264 - accuracy: 0.95 - ETA: 1s - loss: 0.1264 - accuracy: 0.95 - ETA: 1s - loss: 0.1261 - accuracy: 0.95 - ETA: 1s - loss: 0.1263 - accuracy: 0.95 - ETA: 1s - loss: 0.1256 - accuracy: 0.95 - ETA: 1s - loss: 0.1250 - accuracy: 0.95 - ETA: 1s - loss: 0.1243 - accuracy: 0.95 - ETA: 1s - loss: 0.1235 - accuracy: 0.95 - ETA: 1s - loss: 0.1232 - accuracy: 0.95 - ETA: 1s - loss: 0.1235 - accuracy: 0.95 - ETA: 1s - loss: 0.1229 - accuracy: 0.95 - ETA: 1s - loss: 0.1232 - accuracy: 0.95 - ETA: 1s - loss: 0.1230 - accuracy: 0.95 - ETA: 1s - loss: 0.1229 - accuracy: 0.95 - ETA: 1s - loss: 0.1228 - accuracy: 0.95 - ETA: 1s - loss: 0.1228 - accuracy: 0.95 - ETA: 0s - loss: 0.1230 - accuracy: 0.95 - ETA: 0s - loss: 0.1234 - accuracy: 0.95 - ETA: 0s - loss: 0.1233 - accuracy: 0.95 - ETA: 0s - loss: 0.1236 - accuracy: 0.95 - ETA: 0s - loss: 0.1238 - accuracy: 0.95 - ETA: 0s - loss: 0.1235 - accuracy: 0.95 - ETA: 0s - loss: 0.1243 - accuracy: 0.95 - ETA: 0s - loss: 0.1240 - accuracy: 0.95 - ETA: 0s - loss: 0.1255 - accuracy: 0.95 - ETA: 0s - loss: 0.1255 - accuracy: 0.95 - ETA: 0s - loss: 0.1255 - accuracy: 0.95 - ETA: 0s - loss: 0.1257 - accuracy: 0.95 - ETA: 0s - loss: 0.1263 - accuracy: 0.95 - ETA: 0s - loss: 0.1266 - accuracy: 0.95 - ETA: 0s - loss: 0.1262 - accuracy: 0.95 - 5s 23ms/step - loss: 0.1262 - accuracy: 0.9536 - val_loss: 0.1544 - val_accuracy: 0.9492\n",
      "Epoch 29/60\n"
     ]
    },
    {
     "name": "stdout",
     "output_type": "stream",
     "text": [
      "228/228 [==============================] - ETA: 2s - loss: 0.0798 - accuracy: 0.96 - ETA: 4s - loss: 0.1147 - accuracy: 0.95 - ETA: 4s - loss: 0.1060 - accuracy: 0.95 - ETA: 4s - loss: 0.1055 - accuracy: 0.95 - ETA: 4s - loss: 0.1154 - accuracy: 0.95 - ETA: 4s - loss: 0.1169 - accuracy: 0.95 - ETA: 4s - loss: 0.1158 - accuracy: 0.95 - ETA: 4s - loss: 0.1156 - accuracy: 0.95 - ETA: 4s - loss: 0.1166 - accuracy: 0.95 - ETA: 4s - loss: 0.1198 - accuracy: 0.95 - ETA: 4s - loss: 0.1193 - accuracy: 0.95 - ETA: 4s - loss: 0.1205 - accuracy: 0.95 - ETA: 4s - loss: 0.1198 - accuracy: 0.95 - ETA: 4s - loss: 0.1203 - accuracy: 0.95 - ETA: 4s - loss: 0.1180 - accuracy: 0.95 - ETA: 4s - loss: 0.1178 - accuracy: 0.95 - ETA: 3s - loss: 0.1165 - accuracy: 0.95 - ETA: 3s - loss: 0.1158 - accuracy: 0.95 - ETA: 3s - loss: 0.1153 - accuracy: 0.95 - ETA: 3s - loss: 0.1150 - accuracy: 0.95 - ETA: 3s - loss: 0.1157 - accuracy: 0.95 - ETA: 3s - loss: 0.1159 - accuracy: 0.95 - ETA: 3s - loss: 0.1158 - accuracy: 0.95 - ETA: 3s - loss: 0.1147 - accuracy: 0.95 - ETA: 3s - loss: 0.1137 - accuracy: 0.95 - ETA: 3s - loss: 0.1137 - accuracy: 0.95 - ETA: 3s - loss: 0.1129 - accuracy: 0.95 - ETA: 3s - loss: 0.1136 - accuracy: 0.95 - ETA: 3s - loss: 0.1145 - accuracy: 0.95 - ETA: 3s - loss: 0.1152 - accuracy: 0.95 - ETA: 3s - loss: 0.1162 - accuracy: 0.95 - ETA: 3s - loss: 0.1165 - accuracy: 0.95 - ETA: 2s - loss: 0.1173 - accuracy: 0.95 - ETA: 2s - loss: 0.1182 - accuracy: 0.95 - ETA: 2s - loss: 0.1184 - accuracy: 0.95 - ETA: 2s - loss: 0.1192 - accuracy: 0.95 - ETA: 2s - loss: 0.1190 - accuracy: 0.95 - ETA: 2s - loss: 0.1192 - accuracy: 0.95 - ETA: 2s - loss: 0.1199 - accuracy: 0.95 - ETA: 2s - loss: 0.1196 - accuracy: 0.95 - ETA: 2s - loss: 0.1195 - accuracy: 0.95 - ETA: 2s - loss: 0.1190 - accuracy: 0.95 - ETA: 2s - loss: 0.1187 - accuracy: 0.95 - ETA: 2s - loss: 0.1185 - accuracy: 0.95 - ETA: 2s - loss: 0.1187 - accuracy: 0.95 - ETA: 2s - loss: 0.1191 - accuracy: 0.95 - ETA: 2s - loss: 0.1190 - accuracy: 0.95 - ETA: 1s - loss: 0.1183 - accuracy: 0.95 - ETA: 1s - loss: 0.1183 - accuracy: 0.95 - ETA: 1s - loss: 0.1185 - accuracy: 0.95 - ETA: 1s - loss: 0.1187 - accuracy: 0.95 - ETA: 1s - loss: 0.1185 - accuracy: 0.95 - ETA: 1s - loss: 0.1181 - accuracy: 0.95 - ETA: 1s - loss: 0.1179 - accuracy: 0.95 - ETA: 1s - loss: 0.1177 - accuracy: 0.95 - ETA: 1s - loss: 0.1175 - accuracy: 0.95 - ETA: 1s - loss: 0.1177 - accuracy: 0.95 - ETA: 1s - loss: 0.1174 - accuracy: 0.95 - ETA: 1s - loss: 0.1175 - accuracy: 0.95 - ETA: 1s - loss: 0.1177 - accuracy: 0.95 - ETA: 1s - loss: 0.1179 - accuracy: 0.95 - ETA: 1s - loss: 0.1179 - accuracy: 0.95 - ETA: 0s - loss: 0.1183 - accuracy: 0.95 - ETA: 0s - loss: 0.1184 - accuracy: 0.95 - ETA: 0s - loss: 0.1188 - accuracy: 0.95 - ETA: 0s - loss: 0.1192 - accuracy: 0.95 - ETA: 0s - loss: 0.1193 - accuracy: 0.95 - ETA: 0s - loss: 0.1196 - accuracy: 0.95 - ETA: 0s - loss: 0.1196 - accuracy: 0.95 - ETA: 0s - loss: 0.1197 - accuracy: 0.95 - ETA: 0s - loss: 0.1202 - accuracy: 0.95 - ETA: 0s - loss: 0.1201 - accuracy: 0.95 - ETA: 0s - loss: 0.1202 - accuracy: 0.95 - ETA: 0s - loss: 0.1202 - accuracy: 0.95 - ETA: 0s - loss: 0.1203 - accuracy: 0.95 - ETA: 0s - loss: 0.1206 - accuracy: 0.95 - ETA: 0s - loss: 0.1203 - accuracy: 0.95 - 5s 23ms/step - loss: 0.1203 - accuracy: 0.9555 - val_loss: 0.1456 - val_accuracy: 0.9524\n",
      "Epoch 30/60\n",
      "228/228 [==============================] - ETA: 2s - loss: 0.1206 - accuracy: 0.94 - ETA: 4s - loss: 0.1080 - accuracy: 0.95 - ETA: 4s - loss: 0.1043 - accuracy: 0.96 - ETA: 4s - loss: 0.1041 - accuracy: 0.96 - ETA: 4s - loss: 0.1039 - accuracy: 0.96 - ETA: 4s - loss: 0.1036 - accuracy: 0.96 - ETA: 4s - loss: 0.1053 - accuracy: 0.96 - ETA: 4s - loss: 0.1028 - accuracy: 0.96 - ETA: 4s - loss: 0.1052 - accuracy: 0.96 - ETA: 4s - loss: 0.1075 - accuracy: 0.96 - ETA: 4s - loss: 0.1098 - accuracy: 0.95 - ETA: 4s - loss: 0.1106 - accuracy: 0.95 - ETA: 4s - loss: 0.1107 - accuracy: 0.95 - ETA: 4s - loss: 0.1098 - accuracy: 0.95 - ETA: 4s - loss: 0.1096 - accuracy: 0.95 - ETA: 4s - loss: 0.1080 - accuracy: 0.95 - ETA: 3s - loss: 0.1077 - accuracy: 0.96 - ETA: 3s - loss: 0.1073 - accuracy: 0.96 - ETA: 3s - loss: 0.1081 - accuracy: 0.96 - ETA: 3s - loss: 0.1070 - accuracy: 0.96 - ETA: 3s - loss: 0.1069 - accuracy: 0.96 - ETA: 3s - loss: 0.1072 - accuracy: 0.96 - ETA: 3s - loss: 0.1084 - accuracy: 0.95 - ETA: 3s - loss: 0.1088 - accuracy: 0.95 - ETA: 3s - loss: 0.1097 - accuracy: 0.95 - ETA: 3s - loss: 0.1095 - accuracy: 0.95 - ETA: 3s - loss: 0.1102 - accuracy: 0.95 - ETA: 3s - loss: 0.1100 - accuracy: 0.95 - ETA: 3s - loss: 0.1117 - accuracy: 0.95 - ETA: 3s - loss: 0.1136 - accuracy: 0.95 - ETA: 3s - loss: 0.1145 - accuracy: 0.95 - ETA: 2s - loss: 0.1147 - accuracy: 0.95 - ETA: 2s - loss: 0.1157 - accuracy: 0.95 - ETA: 2s - loss: 0.1181 - accuracy: 0.95 - ETA: 2s - loss: 0.1184 - accuracy: 0.95 - ETA: 2s - loss: 0.1183 - accuracy: 0.95 - ETA: 2s - loss: 0.1185 - accuracy: 0.95 - ETA: 2s - loss: 0.1184 - accuracy: 0.95 - ETA: 2s - loss: 0.1188 - accuracy: 0.95 - ETA: 2s - loss: 0.1196 - accuracy: 0.95 - ETA: 2s - loss: 0.1194 - accuracy: 0.95 - ETA: 2s - loss: 0.1196 - accuracy: 0.95 - ETA: 2s - loss: 0.1200 - accuracy: 0.95 - ETA: 2s - loss: 0.1199 - accuracy: 0.95 - ETA: 2s - loss: 0.1196 - accuracy: 0.95 - ETA: 2s - loss: 0.1198 - accuracy: 0.95 - ETA: 1s - loss: 0.1196 - accuracy: 0.95 - ETA: 1s - loss: 0.1191 - accuracy: 0.95 - ETA: 1s - loss: 0.1194 - accuracy: 0.95 - ETA: 1s - loss: 0.1203 - accuracy: 0.95 - ETA: 1s - loss: 0.1201 - accuracy: 0.95 - ETA: 1s - loss: 0.1203 - accuracy: 0.95 - ETA: 1s - loss: 0.1204 - accuracy: 0.95 - ETA: 1s - loss: 0.1204 - accuracy: 0.95 - ETA: 1s - loss: 0.1203 - accuracy: 0.95 - ETA: 1s - loss: 0.1204 - accuracy: 0.95 - ETA: 1s - loss: 0.1205 - accuracy: 0.95 - ETA: 1s - loss: 0.1203 - accuracy: 0.95 - ETA: 1s - loss: 0.1202 - accuracy: 0.95 - ETA: 1s - loss: 0.1200 - accuracy: 0.95 - ETA: 1s - loss: 0.1199 - accuracy: 0.95 - ETA: 0s - loss: 0.1194 - accuracy: 0.95 - ETA: 0s - loss: 0.1198 - accuracy: 0.95 - ETA: 0s - loss: 0.1199 - accuracy: 0.95 - ETA: 0s - loss: 0.1203 - accuracy: 0.95 - ETA: 0s - loss: 0.1201 - accuracy: 0.95 - ETA: 0s - loss: 0.1202 - accuracy: 0.95 - ETA: 0s - loss: 0.1204 - accuracy: 0.95 - ETA: 0s - loss: 0.1201 - accuracy: 0.95 - ETA: 0s - loss: 0.1199 - accuracy: 0.95 - ETA: 0s - loss: 0.1193 - accuracy: 0.95 - ETA: 0s - loss: 0.1191 - accuracy: 0.95 - ETA: 0s - loss: 0.1193 - accuracy: 0.95 - ETA: 0s - loss: 0.1195 - accuracy: 0.95 - ETA: 0s - loss: 0.1190 - accuracy: 0.95 - ETA: 0s - loss: 0.1190 - accuracy: 0.95 - 5s 23ms/step - loss: 0.1193 - accuracy: 0.9560 - val_loss: 0.1501 - val_accuracy: 0.9487\n",
      "Epoch 31/60\n"
     ]
    },
    {
     "name": "stdout",
     "output_type": "stream",
     "text": [
      "228/228 [==============================] - ETA: 2s - loss: 0.1069 - accuracy: 0.96 - ETA: 4s - loss: 0.1140 - accuracy: 0.96 - ETA: 4s - loss: 0.1036 - accuracy: 0.96 - ETA: 4s - loss: 0.1041 - accuracy: 0.96 - ETA: 4s - loss: 0.1082 - accuracy: 0.96 - ETA: 4s - loss: 0.1131 - accuracy: 0.95 - ETA: 4s - loss: 0.1142 - accuracy: 0.95 - ETA: 4s - loss: 0.1144 - accuracy: 0.95 - ETA: 4s - loss: 0.1155 - accuracy: 0.95 - ETA: 4s - loss: 0.1150 - accuracy: 0.95 - ETA: 4s - loss: 0.1154 - accuracy: 0.95 - ETA: 4s - loss: 0.1155 - accuracy: 0.95 - ETA: 4s - loss: 0.1161 - accuracy: 0.95 - ETA: 4s - loss: 0.1181 - accuracy: 0.95 - ETA: 4s - loss: 0.1170 - accuracy: 0.95 - ETA: 4s - loss: 0.1163 - accuracy: 0.95 - ETA: 3s - loss: 0.1168 - accuracy: 0.95 - ETA: 3s - loss: 0.1162 - accuracy: 0.95 - ETA: 3s - loss: 0.1142 - accuracy: 0.95 - ETA: 3s - loss: 0.1135 - accuracy: 0.95 - ETA: 3s - loss: 0.1134 - accuracy: 0.95 - ETA: 3s - loss: 0.1128 - accuracy: 0.95 - ETA: 3s - loss: 0.1133 - accuracy: 0.95 - ETA: 3s - loss: 0.1135 - accuracy: 0.95 - ETA: 3s - loss: 0.1131 - accuracy: 0.95 - ETA: 3s - loss: 0.1125 - accuracy: 0.95 - ETA: 3s - loss: 0.1133 - accuracy: 0.95 - ETA: 3s - loss: 0.1132 - accuracy: 0.95 - ETA: 3s - loss: 0.1143 - accuracy: 0.95 - ETA: 3s - loss: 0.1142 - accuracy: 0.95 - ETA: 3s - loss: 0.1143 - accuracy: 0.95 - ETA: 2s - loss: 0.1140 - accuracy: 0.95 - ETA: 2s - loss: 0.1139 - accuracy: 0.95 - ETA: 2s - loss: 0.1136 - accuracy: 0.95 - ETA: 2s - loss: 0.1137 - accuracy: 0.95 - ETA: 2s - loss: 0.1133 - accuracy: 0.95 - ETA: 2s - loss: 0.1139 - accuracy: 0.95 - ETA: 2s - loss: 0.1137 - accuracy: 0.95 - ETA: 2s - loss: 0.1133 - accuracy: 0.95 - ETA: 2s - loss: 0.1143 - accuracy: 0.95 - ETA: 2s - loss: 0.1143 - accuracy: 0.95 - ETA: 2s - loss: 0.1153 - accuracy: 0.95 - ETA: 2s - loss: 0.1151 - accuracy: 0.95 - ETA: 2s - loss: 0.1163 - accuracy: 0.95 - ETA: 2s - loss: 0.1171 - accuracy: 0.95 - ETA: 2s - loss: 0.1182 - accuracy: 0.95 - ETA: 1s - loss: 0.1184 - accuracy: 0.95 - ETA: 1s - loss: 0.1184 - accuracy: 0.95 - ETA: 1s - loss: 0.1187 - accuracy: 0.95 - ETA: 1s - loss: 0.1190 - accuracy: 0.95 - ETA: 1s - loss: 0.1187 - accuracy: 0.95 - ETA: 1s - loss: 0.1184 - accuracy: 0.95 - ETA: 1s - loss: 0.1180 - accuracy: 0.95 - ETA: 1s - loss: 0.1185 - accuracy: 0.95 - ETA: 1s - loss: 0.1181 - accuracy: 0.95 - ETA: 1s - loss: 0.1184 - accuracy: 0.95 - ETA: 1s - loss: 0.1191 - accuracy: 0.95 - ETA: 1s - loss: 0.1192 - accuracy: 0.95 - ETA: 1s - loss: 0.1190 - accuracy: 0.95 - ETA: 1s - loss: 0.1187 - accuracy: 0.95 - ETA: 1s - loss: 0.1182 - accuracy: 0.95 - ETA: 0s - loss: 0.1182 - accuracy: 0.95 - ETA: 0s - loss: 0.1180 - accuracy: 0.95 - ETA: 0s - loss: 0.1181 - accuracy: 0.95 - ETA: 0s - loss: 0.1185 - accuracy: 0.95 - ETA: 0s - loss: 0.1186 - accuracy: 0.95 - ETA: 0s - loss: 0.1188 - accuracy: 0.95 - ETA: 0s - loss: 0.1183 - accuracy: 0.95 - ETA: 0s - loss: 0.1186 - accuracy: 0.95 - ETA: 0s - loss: 0.1186 - accuracy: 0.95 - ETA: 0s - loss: 0.1184 - accuracy: 0.95 - ETA: 0s - loss: 0.1183 - accuracy: 0.95 - ETA: 0s - loss: 0.1181 - accuracy: 0.95 - ETA: 0s - loss: 0.1181 - accuracy: 0.95 - ETA: 0s - loss: 0.1175 - accuracy: 0.95 - ETA: 0s - loss: 0.1176 - accuracy: 0.95 - 5s 23ms/step - loss: 0.1177 - accuracy: 0.9572 - val_loss: 0.1466 - val_accuracy: 0.9526\n",
      "Epoch 32/60\n",
      "228/228 [==============================] - ETA: 2s - loss: 0.1275 - accuracy: 0.95 - ETA: 4s - loss: 0.1300 - accuracy: 0.95 - ETA: 4s - loss: 0.1175 - accuracy: 0.95 - ETA: 4s - loss: 0.1112 - accuracy: 0.95 - ETA: 4s - loss: 0.1102 - accuracy: 0.95 - ETA: 4s - loss: 0.1077 - accuracy: 0.95 - ETA: 4s - loss: 0.1074 - accuracy: 0.96 - ETA: 4s - loss: 0.1083 - accuracy: 0.95 - ETA: 4s - loss: 0.1094 - accuracy: 0.96 - ETA: 4s - loss: 0.1133 - accuracy: 0.95 - ETA: 4s - loss: 0.1127 - accuracy: 0.96 - ETA: 4s - loss: 0.1154 - accuracy: 0.95 - ETA: 4s - loss: 0.1158 - accuracy: 0.95 - ETA: 4s - loss: 0.1160 - accuracy: 0.95 - ETA: 4s - loss: 0.1146 - accuracy: 0.95 - ETA: 4s - loss: 0.1156 - accuracy: 0.95 - ETA: 4s - loss: 0.1162 - accuracy: 0.95 - ETA: 3s - loss: 0.1170 - accuracy: 0.95 - ETA: 3s - loss: 0.1180 - accuracy: 0.95 - ETA: 3s - loss: 0.1191 - accuracy: 0.95 - ETA: 3s - loss: 0.1203 - accuracy: 0.95 - ETA: 3s - loss: 0.1210 - accuracy: 0.95 - ETA: 3s - loss: 0.1206 - accuracy: 0.95 - ETA: 3s - loss: 0.1214 - accuracy: 0.95 - ETA: 3s - loss: 0.1198 - accuracy: 0.95 - ETA: 3s - loss: 0.1191 - accuracy: 0.95 - ETA: 3s - loss: 0.1180 - accuracy: 0.95 - ETA: 3s - loss: 0.1176 - accuracy: 0.95 - ETA: 3s - loss: 0.1173 - accuracy: 0.95 - ETA: 3s - loss: 0.1174 - accuracy: 0.95 - ETA: 3s - loss: 0.1171 - accuracy: 0.95 - ETA: 3s - loss: 0.1162 - accuracy: 0.95 - ETA: 2s - loss: 0.1169 - accuracy: 0.95 - ETA: 2s - loss: 0.1178 - accuracy: 0.95 - ETA: 2s - loss: 0.1175 - accuracy: 0.95 - ETA: 2s - loss: 0.1175 - accuracy: 0.95 - ETA: 2s - loss: 0.1175 - accuracy: 0.95 - ETA: 2s - loss: 0.1180 - accuracy: 0.95 - ETA: 2s - loss: 0.1181 - accuracy: 0.95 - ETA: 2s - loss: 0.1176 - accuracy: 0.95 - ETA: 2s - loss: 0.1178 - accuracy: 0.95 - ETA: 2s - loss: 0.1179 - accuracy: 0.95 - ETA: 2s - loss: 0.1177 - accuracy: 0.95 - ETA: 2s - loss: 0.1173 - accuracy: 0.95 - ETA: 2s - loss: 0.1171 - accuracy: 0.95 - ETA: 2s - loss: 0.1171 - accuracy: 0.95 - ETA: 2s - loss: 0.1175 - accuracy: 0.95 - ETA: 1s - loss: 0.1180 - accuracy: 0.95 - ETA: 1s - loss: 0.1180 - accuracy: 0.95 - ETA: 1s - loss: 0.1182 - accuracy: 0.95 - ETA: 1s - loss: 0.1184 - accuracy: 0.95 - ETA: 1s - loss: 0.1182 - accuracy: 0.95 - ETA: 1s - loss: 0.1186 - accuracy: 0.95 - ETA: 1s - loss: 0.1184 - accuracy: 0.95 - ETA: 1s - loss: 0.1192 - accuracy: 0.95 - ETA: 1s - loss: 0.1189 - accuracy: 0.95 - ETA: 1s - loss: 0.1189 - accuracy: 0.95 - ETA: 1s - loss: 0.1190 - accuracy: 0.95 - ETA: 1s - loss: 0.1193 - accuracy: 0.95 - ETA: 1s - loss: 0.1194 - accuracy: 0.95 - ETA: 1s - loss: 0.1190 - accuracy: 0.95 - ETA: 1s - loss: 0.1191 - accuracy: 0.95 - ETA: 0s - loss: 0.1202 - accuracy: 0.95 - ETA: 0s - loss: 0.1199 - accuracy: 0.95 - ETA: 0s - loss: 0.1198 - accuracy: 0.95 - ETA: 0s - loss: 0.1199 - accuracy: 0.95 - ETA: 0s - loss: 0.1199 - accuracy: 0.95 - ETA: 0s - loss: 0.1198 - accuracy: 0.95 - ETA: 0s - loss: 0.1199 - accuracy: 0.95 - ETA: 0s - loss: 0.1200 - accuracy: 0.95 - ETA: 0s - loss: 0.1200 - accuracy: 0.95 - ETA: 0s - loss: 0.1201 - accuracy: 0.95 - ETA: 0s - loss: 0.1197 - accuracy: 0.95 - ETA: 0s - loss: 0.1196 - accuracy: 0.95 - ETA: 0s - loss: 0.1196 - accuracy: 0.95 - ETA: 0s - loss: 0.1194 - accuracy: 0.95 - ETA: 0s - loss: 0.1192 - accuracy: 0.95 - 5s 23ms/step - loss: 0.1192 - accuracy: 0.9569 - val_loss: 0.1463 - val_accuracy: 0.9527\n",
      "Epoch 33/60\n"
     ]
    },
    {
     "name": "stdout",
     "output_type": "stream",
     "text": [
      "228/228 [==============================] - ETA: 2s - loss: 0.0949 - accuracy: 0.96 - ETA: 4s - loss: 0.0823 - accuracy: 0.97 - ETA: 4s - loss: 0.1043 - accuracy: 0.96 - ETA: 4s - loss: 0.1030 - accuracy: 0.96 - ETA: 4s - loss: 0.0995 - accuracy: 0.96 - ETA: 4s - loss: 0.1006 - accuracy: 0.96 - ETA: 4s - loss: 0.0974 - accuracy: 0.96 - ETA: 4s - loss: 0.0973 - accuracy: 0.96 - ETA: 4s - loss: 0.1004 - accuracy: 0.96 - ETA: 4s - loss: 0.0990 - accuracy: 0.96 - ETA: 4s - loss: 0.0978 - accuracy: 0.96 - ETA: 4s - loss: 0.0984 - accuracy: 0.96 - ETA: 4s - loss: 0.0995 - accuracy: 0.96 - ETA: 4s - loss: 0.1010 - accuracy: 0.96 - ETA: 4s - loss: 0.1004 - accuracy: 0.96 - ETA: 4s - loss: 0.1014 - accuracy: 0.96 - ETA: 3s - loss: 0.1032 - accuracy: 0.96 - ETA: 3s - loss: 0.1044 - accuracy: 0.96 - ETA: 3s - loss: 0.1051 - accuracy: 0.96 - ETA: 3s - loss: 0.1044 - accuracy: 0.96 - ETA: 3s - loss: 0.1046 - accuracy: 0.96 - ETA: 3s - loss: 0.1043 - accuracy: 0.96 - ETA: 3s - loss: 0.1033 - accuracy: 0.96 - ETA: 3s - loss: 0.1043 - accuracy: 0.96 - ETA: 3s - loss: 0.1040 - accuracy: 0.96 - ETA: 3s - loss: 0.1033 - accuracy: 0.96 - ETA: 3s - loss: 0.1031 - accuracy: 0.96 - ETA: 3s - loss: 0.1029 - accuracy: 0.96 - ETA: 3s - loss: 0.1025 - accuracy: 0.96 - ETA: 3s - loss: 0.1028 - accuracy: 0.96 - ETA: 3s - loss: 0.1039 - accuracy: 0.96 - ETA: 2s - loss: 0.1047 - accuracy: 0.96 - ETA: 2s - loss: 0.1047 - accuracy: 0.96 - ETA: 2s - loss: 0.1047 - accuracy: 0.96 - ETA: 2s - loss: 0.1041 - accuracy: 0.96 - ETA: 2s - loss: 0.1034 - accuracy: 0.96 - ETA: 2s - loss: 0.1038 - accuracy: 0.96 - ETA: 2s - loss: 0.1038 - accuracy: 0.96 - ETA: 2s - loss: 0.1037 - accuracy: 0.96 - ETA: 2s - loss: 0.1033 - accuracy: 0.96 - ETA: 2s - loss: 0.1037 - accuracy: 0.96 - ETA: 2s - loss: 0.1033 - accuracy: 0.96 - ETA: 2s - loss: 0.1030 - accuracy: 0.96 - ETA: 2s - loss: 0.1029 - accuracy: 0.96 - ETA: 2s - loss: 0.1021 - accuracy: 0.96 - ETA: 2s - loss: 0.1026 - accuracy: 0.96 - ETA: 1s - loss: 0.1030 - accuracy: 0.96 - ETA: 1s - loss: 0.1027 - accuracy: 0.96 - ETA: 1s - loss: 0.1027 - accuracy: 0.96 - ETA: 1s - loss: 0.1030 - accuracy: 0.96 - ETA: 1s - loss: 0.1035 - accuracy: 0.96 - ETA: 1s - loss: 0.1043 - accuracy: 0.96 - ETA: 1s - loss: 0.1051 - accuracy: 0.96 - ETA: 1s - loss: 0.1059 - accuracy: 0.96 - ETA: 1s - loss: 0.1061 - accuracy: 0.96 - ETA: 1s - loss: 0.1063 - accuracy: 0.96 - ETA: 1s - loss: 0.1061 - accuracy: 0.96 - ETA: 1s - loss: 0.1068 - accuracy: 0.96 - ETA: 1s - loss: 0.1067 - accuracy: 0.96 - ETA: 1s - loss: 0.1067 - accuracy: 0.96 - ETA: 1s - loss: 0.1071 - accuracy: 0.96 - ETA: 0s - loss: 0.1073 - accuracy: 0.96 - ETA: 0s - loss: 0.1069 - accuracy: 0.96 - ETA: 0s - loss: 0.1069 - accuracy: 0.96 - ETA: 0s - loss: 0.1068 - accuracy: 0.96 - ETA: 0s - loss: 0.1065 - accuracy: 0.96 - ETA: 0s - loss: 0.1070 - accuracy: 0.96 - ETA: 0s - loss: 0.1069 - accuracy: 0.96 - ETA: 0s - loss: 0.1067 - accuracy: 0.96 - ETA: 0s - loss: 0.1073 - accuracy: 0.96 - ETA: 0s - loss: 0.1079 - accuracy: 0.96 - ETA: 0s - loss: 0.1081 - accuracy: 0.95 - ETA: 0s - loss: 0.1086 - accuracy: 0.95 - ETA: 0s - loss: 0.1085 - accuracy: 0.95 - ETA: 0s - loss: 0.1090 - accuracy: 0.95 - ETA: 0s - loss: 0.1092 - accuracy: 0.95 - 5s 23ms/step - loss: 0.1094 - accuracy: 0.9593 - val_loss: 0.1468 - val_accuracy: 0.9534\n",
      "Epoch 34/60\n",
      "228/228 [==============================] - ETA: 2s - loss: 0.1280 - accuracy: 0.94 - ETA: 4s - loss: 0.1268 - accuracy: 0.95 - ETA: 4s - loss: 0.1207 - accuracy: 0.96 - ETA: 4s - loss: 0.1161 - accuracy: 0.96 - ETA: 4s - loss: 0.1126 - accuracy: 0.96 - ETA: 4s - loss: 0.1112 - accuracy: 0.96 - ETA: 4s - loss: 0.1079 - accuracy: 0.96 - ETA: 4s - loss: 0.1047 - accuracy: 0.96 - ETA: 4s - loss: 0.1038 - accuracy: 0.96 - ETA: 4s - loss: 0.1021 - accuracy: 0.96 - ETA: 4s - loss: 0.1039 - accuracy: 0.96 - ETA: 4s - loss: 0.1028 - accuracy: 0.96 - ETA: 4s - loss: 0.1027 - accuracy: 0.96 - ETA: 4s - loss: 0.1043 - accuracy: 0.96 - ETA: 4s - loss: 0.1070 - accuracy: 0.96 - ETA: 4s - loss: 0.1067 - accuracy: 0.96 - ETA: 4s - loss: 0.1070 - accuracy: 0.96 - ETA: 3s - loss: 0.1070 - accuracy: 0.96 - ETA: 3s - loss: 0.1051 - accuracy: 0.96 - ETA: 3s - loss: 0.1059 - accuracy: 0.96 - ETA: 3s - loss: 0.1066 - accuracy: 0.96 - ETA: 3s - loss: 0.1084 - accuracy: 0.96 - ETA: 3s - loss: 0.1113 - accuracy: 0.95 - ETA: 3s - loss: 0.1112 - accuracy: 0.95 - ETA: 3s - loss: 0.1119 - accuracy: 0.95 - ETA: 3s - loss: 0.1116 - accuracy: 0.95 - ETA: 3s - loss: 0.1112 - accuracy: 0.95 - ETA: 3s - loss: 0.1121 - accuracy: 0.95 - ETA: 3s - loss: 0.1122 - accuracy: 0.95 - ETA: 3s - loss: 0.1128 - accuracy: 0.95 - ETA: 3s - loss: 0.1126 - accuracy: 0.95 - ETA: 3s - loss: 0.1136 - accuracy: 0.95 - ETA: 2s - loss: 0.1142 - accuracy: 0.95 - ETA: 2s - loss: 0.1136 - accuracy: 0.95 - ETA: 2s - loss: 0.1141 - accuracy: 0.95 - ETA: 2s - loss: 0.1151 - accuracy: 0.95 - ETA: 2s - loss: 0.1145 - accuracy: 0.95 - ETA: 2s - loss: 0.1143 - accuracy: 0.95 - ETA: 2s - loss: 0.1140 - accuracy: 0.95 - ETA: 2s - loss: 0.1145 - accuracy: 0.95 - ETA: 2s - loss: 0.1142 - accuracy: 0.95 - ETA: 2s - loss: 0.1142 - accuracy: 0.95 - ETA: 2s - loss: 0.1144 - accuracy: 0.95 - ETA: 2s - loss: 0.1152 - accuracy: 0.95 - ETA: 2s - loss: 0.1155 - accuracy: 0.95 - ETA: 2s - loss: 0.1158 - accuracy: 0.95 - ETA: 2s - loss: 0.1159 - accuracy: 0.95 - ETA: 1s - loss: 0.1152 - accuracy: 0.95 - ETA: 1s - loss: 0.1147 - accuracy: 0.95 - ETA: 1s - loss: 0.1143 - accuracy: 0.95 - ETA: 1s - loss: 0.1139 - accuracy: 0.95 - ETA: 1s - loss: 0.1141 - accuracy: 0.95 - ETA: 1s - loss: 0.1137 - accuracy: 0.95 - ETA: 1s - loss: 0.1139 - accuracy: 0.95 - ETA: 1s - loss: 0.1151 - accuracy: 0.95 - ETA: 1s - loss: 0.1156 - accuracy: 0.95 - ETA: 1s - loss: 0.1175 - accuracy: 0.95 - ETA: 1s - loss: 0.1173 - accuracy: 0.95 - ETA: 1s - loss: 0.1170 - accuracy: 0.95 - ETA: 1s - loss: 0.1168 - accuracy: 0.95 - ETA: 1s - loss: 0.1166 - accuracy: 0.95 - ETA: 1s - loss: 0.1161 - accuracy: 0.95 - ETA: 0s - loss: 0.1161 - accuracy: 0.95 - ETA: 0s - loss: 0.1154 - accuracy: 0.95 - ETA: 0s - loss: 0.1155 - accuracy: 0.95 - ETA: 0s - loss: 0.1155 - accuracy: 0.95 - ETA: 0s - loss: 0.1156 - accuracy: 0.95 - ETA: 0s - loss: 0.1160 - accuracy: 0.95 - ETA: 0s - loss: 0.1160 - accuracy: 0.95 - ETA: 0s - loss: 0.1161 - accuracy: 0.95 - ETA: 0s - loss: 0.1160 - accuracy: 0.95 - ETA: 0s - loss: 0.1162 - accuracy: 0.95 - ETA: 0s - loss: 0.1163 - accuracy: 0.95 - ETA: 0s - loss: 0.1162 - accuracy: 0.95 - ETA: 0s - loss: 0.1163 - accuracy: 0.95 - ETA: 0s - loss: 0.1162 - accuracy: 0.95 - ETA: 0s - loss: 0.1162 - accuracy: 0.95 - 5s 23ms/step - loss: 0.1162 - accuracy: 0.9580 - val_loss: 0.1611 - val_accuracy: 0.9492\n",
      "Epoch 35/60\n"
     ]
    },
    {
     "name": "stdout",
     "output_type": "stream",
     "text": [
      "228/228 [==============================] - ETA: 2s - loss: 0.1247 - accuracy: 0.94 - ETA: 4s - loss: 0.1159 - accuracy: 0.95 - ETA: 4s - loss: 0.1065 - accuracy: 0.96 - ETA: 4s - loss: 0.1073 - accuracy: 0.96 - ETA: 4s - loss: 0.1010 - accuracy: 0.96 - ETA: 4s - loss: 0.0929 - accuracy: 0.96 - ETA: 4s - loss: 0.0972 - accuracy: 0.96 - ETA: 4s - loss: 0.0995 - accuracy: 0.96 - ETA: 4s - loss: 0.1004 - accuracy: 0.96 - ETA: 4s - loss: 0.0986 - accuracy: 0.96 - ETA: 4s - loss: 0.0984 - accuracy: 0.96 - ETA: 4s - loss: 0.0991 - accuracy: 0.96 - ETA: 4s - loss: 0.0979 - accuracy: 0.96 - ETA: 4s - loss: 0.1004 - accuracy: 0.96 - ETA: 4s - loss: 0.1010 - accuracy: 0.96 - ETA: 4s - loss: 0.0999 - accuracy: 0.96 - ETA: 4s - loss: 0.1010 - accuracy: 0.96 - ETA: 4s - loss: 0.1004 - accuracy: 0.96 - ETA: 3s - loss: 0.1012 - accuracy: 0.96 - ETA: 3s - loss: 0.1040 - accuracy: 0.96 - ETA: 3s - loss: 0.1029 - accuracy: 0.96 - ETA: 3s - loss: 0.1019 - accuracy: 0.96 - ETA: 3s - loss: 0.1019 - accuracy: 0.96 - ETA: 3s - loss: 0.1022 - accuracy: 0.96 - ETA: 3s - loss: 0.1030 - accuracy: 0.96 - ETA: 3s - loss: 0.1041 - accuracy: 0.96 - ETA: 3s - loss: 0.1036 - accuracy: 0.96 - ETA: 3s - loss: 0.1035 - accuracy: 0.96 - ETA: 3s - loss: 0.1042 - accuracy: 0.96 - ETA: 3s - loss: 0.1037 - accuracy: 0.96 - ETA: 3s - loss: 0.1033 - accuracy: 0.96 - ETA: 3s - loss: 0.1041 - accuracy: 0.96 - ETA: 2s - loss: 0.1044 - accuracy: 0.96 - ETA: 2s - loss: 0.1038 - accuracy: 0.96 - ETA: 2s - loss: 0.1040 - accuracy: 0.96 - ETA: 2s - loss: 0.1041 - accuracy: 0.96 - ETA: 2s - loss: 0.1047 - accuracy: 0.96 - ETA: 2s - loss: 0.1044 - accuracy: 0.96 - ETA: 2s - loss: 0.1043 - accuracy: 0.96 - ETA: 2s - loss: 0.1041 - accuracy: 0.96 - ETA: 2s - loss: 0.1042 - accuracy: 0.96 - ETA: 2s - loss: 0.1042 - accuracy: 0.96 - ETA: 2s - loss: 0.1040 - accuracy: 0.96 - ETA: 2s - loss: 0.1038 - accuracy: 0.96 - ETA: 2s - loss: 0.1039 - accuracy: 0.96 - ETA: 2s - loss: 0.1040 - accuracy: 0.96 - ETA: 2s - loss: 0.1046 - accuracy: 0.96 - ETA: 1s - loss: 0.1051 - accuracy: 0.96 - ETA: 1s - loss: 0.1050 - accuracy: 0.96 - ETA: 1s - loss: 0.1049 - accuracy: 0.96 - ETA: 1s - loss: 0.1048 - accuracy: 0.96 - ETA: 1s - loss: 0.1049 - accuracy: 0.96 - ETA: 1s - loss: 0.1050 - accuracy: 0.96 - ETA: 1s - loss: 0.1052 - accuracy: 0.96 - ETA: 1s - loss: 0.1054 - accuracy: 0.96 - ETA: 1s - loss: 0.1047 - accuracy: 0.96 - ETA: 1s - loss: 0.1048 - accuracy: 0.96 - ETA: 1s - loss: 0.1046 - accuracy: 0.96 - ETA: 1s - loss: 0.1051 - accuracy: 0.96 - ETA: 1s - loss: 0.1050 - accuracy: 0.96 - ETA: 1s - loss: 0.1047 - accuracy: 0.96 - ETA: 1s - loss: 0.1046 - accuracy: 0.96 - ETA: 0s - loss: 0.1045 - accuracy: 0.96 - ETA: 0s - loss: 0.1043 - accuracy: 0.96 - ETA: 0s - loss: 0.1045 - accuracy: 0.96 - ETA: 0s - loss: 0.1047 - accuracy: 0.96 - ETA: 0s - loss: 0.1050 - accuracy: 0.96 - ETA: 0s - loss: 0.1048 - accuracy: 0.96 - ETA: 0s - loss: 0.1051 - accuracy: 0.96 - ETA: 0s - loss: 0.1047 - accuracy: 0.96 - ETA: 0s - loss: 0.1047 - accuracy: 0.96 - ETA: 0s - loss: 0.1044 - accuracy: 0.96 - ETA: 0s - loss: 0.1044 - accuracy: 0.96 - ETA: 0s - loss: 0.1041 - accuracy: 0.96 - ETA: 0s - loss: 0.1042 - accuracy: 0.96 - ETA: 0s - loss: 0.1044 - accuracy: 0.96 - ETA: 0s - loss: 0.1046 - accuracy: 0.96 - 5s 23ms/step - loss: 0.1048 - accuracy: 0.9619 - val_loss: 0.2213 - val_accuracy: 0.9288\n",
      "Epoch 36/60\n",
      "228/228 [==============================] - ETA: 2s - loss: 0.1820 - accuracy: 0.92 - ETA: 4s - loss: 0.1248 - accuracy: 0.95 - ETA: 4s - loss: 0.1370 - accuracy: 0.94 - ETA: 4s - loss: 0.1267 - accuracy: 0.95 - ETA: 4s - loss: 0.1197 - accuracy: 0.95 - ETA: 4s - loss: 0.1191 - accuracy: 0.95 - ETA: 4s - loss: 0.1188 - accuracy: 0.95 - ETA: 4s - loss: 0.1158 - accuracy: 0.95 - ETA: 4s - loss: 0.1124 - accuracy: 0.95 - ETA: 4s - loss: 0.1126 - accuracy: 0.95 - ETA: 4s - loss: 0.1105 - accuracy: 0.95 - ETA: 4s - loss: 0.1096 - accuracy: 0.96 - ETA: 4s - loss: 0.1113 - accuracy: 0.95 - ETA: 4s - loss: 0.1115 - accuracy: 0.95 - ETA: 4s - loss: 0.1115 - accuracy: 0.95 - ETA: 4s - loss: 0.1125 - accuracy: 0.95 - ETA: 3s - loss: 0.1112 - accuracy: 0.95 - ETA: 3s - loss: 0.1118 - accuracy: 0.95 - ETA: 3s - loss: 0.1099 - accuracy: 0.96 - ETA: 3s - loss: 0.1089 - accuracy: 0.96 - ETA: 3s - loss: 0.1092 - accuracy: 0.96 - ETA: 3s - loss: 0.1086 - accuracy: 0.96 - ETA: 3s - loss: 0.1083 - accuracy: 0.96 - ETA: 3s - loss: 0.1088 - accuracy: 0.96 - ETA: 3s - loss: 0.1086 - accuracy: 0.96 - ETA: 3s - loss: 0.1078 - accuracy: 0.96 - ETA: 3s - loss: 0.1077 - accuracy: 0.96 - ETA: 3s - loss: 0.1083 - accuracy: 0.96 - ETA: 3s - loss: 0.1085 - accuracy: 0.96 - ETA: 3s - loss: 0.1079 - accuracy: 0.96 - ETA: 3s - loss: 0.1077 - accuracy: 0.96 - ETA: 2s - loss: 0.1073 - accuracy: 0.96 - ETA: 2s - loss: 0.1085 - accuracy: 0.96 - ETA: 2s - loss: 0.1083 - accuracy: 0.96 - ETA: 2s - loss: 0.1078 - accuracy: 0.96 - ETA: 2s - loss: 0.1071 - accuracy: 0.96 - ETA: 2s - loss: 0.1066 - accuracy: 0.96 - ETA: 2s - loss: 0.1080 - accuracy: 0.96 - ETA: 2s - loss: 0.1081 - accuracy: 0.96 - ETA: 2s - loss: 0.1083 - accuracy: 0.96 - ETA: 2s - loss: 0.1080 - accuracy: 0.96 - ETA: 2s - loss: 0.1074 - accuracy: 0.96 - ETA: 2s - loss: 0.1082 - accuracy: 0.96 - ETA: 2s - loss: 0.1083 - accuracy: 0.96 - ETA: 2s - loss: 0.1086 - accuracy: 0.96 - ETA: 2s - loss: 0.1083 - accuracy: 0.96 - ETA: 1s - loss: 0.1081 - accuracy: 0.96 - ETA: 1s - loss: 0.1088 - accuracy: 0.96 - ETA: 1s - loss: 0.1084 - accuracy: 0.96 - ETA: 1s - loss: 0.1082 - accuracy: 0.96 - ETA: 1s - loss: 0.1082 - accuracy: 0.96 - ETA: 1s - loss: 0.1083 - accuracy: 0.96 - ETA: 1s - loss: 0.1081 - accuracy: 0.96 - ETA: 1s - loss: 0.1077 - accuracy: 0.96 - ETA: 1s - loss: 0.1080 - accuracy: 0.96 - ETA: 1s - loss: 0.1080 - accuracy: 0.96 - ETA: 1s - loss: 0.1080 - accuracy: 0.96 - ETA: 1s - loss: 0.1081 - accuracy: 0.96 - ETA: 1s - loss: 0.1082 - accuracy: 0.96 - ETA: 1s - loss: 0.1085 - accuracy: 0.96 - ETA: 1s - loss: 0.1084 - accuracy: 0.96 - ETA: 0s - loss: 0.1082 - accuracy: 0.96 - ETA: 0s - loss: 0.1082 - accuracy: 0.96 - ETA: 0s - loss: 0.1082 - accuracy: 0.96 - ETA: 0s - loss: 0.1078 - accuracy: 0.96 - ETA: 0s - loss: 0.1076 - accuracy: 0.96 - ETA: 0s - loss: 0.1075 - accuracy: 0.96 - ETA: 0s - loss: 0.1077 - accuracy: 0.96 - ETA: 0s - loss: 0.1080 - accuracy: 0.96 - ETA: 0s - loss: 0.1077 - accuracy: 0.96 - ETA: 0s - loss: 0.1072 - accuracy: 0.96 - ETA: 0s - loss: 0.1080 - accuracy: 0.96 - ETA: 0s - loss: 0.1082 - accuracy: 0.96 - ETA: 0s - loss: 0.1085 - accuracy: 0.96 - ETA: 0s - loss: 0.1085 - accuracy: 0.96 - ETA: 0s - loss: 0.1082 - accuracy: 0.96 - 5s 23ms/step - loss: 0.1080 - accuracy: 0.9606 - val_loss: 0.1581 - val_accuracy: 0.9501\n",
      "Epoch 37/60\n"
     ]
    },
    {
     "name": "stdout",
     "output_type": "stream",
     "text": [
      "228/228 [==============================] - ETA: 3s - loss: 0.1037 - accuracy: 0.95 - ETA: 4s - loss: 0.0945 - accuracy: 0.96 - ETA: 4s - loss: 0.0906 - accuracy: 0.96 - ETA: 4s - loss: 0.0926 - accuracy: 0.96 - ETA: 4s - loss: 0.0945 - accuracy: 0.96 - ETA: 4s - loss: 0.0957 - accuracy: 0.96 - ETA: 4s - loss: 0.0986 - accuracy: 0.96 - ETA: 4s - loss: 0.1046 - accuracy: 0.96 - ETA: 4s - loss: 0.1047 - accuracy: 0.96 - ETA: 4s - loss: 0.1032 - accuracy: 0.96 - ETA: 4s - loss: 0.1028 - accuracy: 0.96 - ETA: 4s - loss: 0.0999 - accuracy: 0.96 - ETA: 4s - loss: 0.0986 - accuracy: 0.96 - ETA: 4s - loss: 0.1014 - accuracy: 0.96 - ETA: 4s - loss: 0.1005 - accuracy: 0.96 - ETA: 4s - loss: 0.1017 - accuracy: 0.96 - ETA: 3s - loss: 0.1008 - accuracy: 0.96 - ETA: 3s - loss: 0.0999 - accuracy: 0.96 - ETA: 3s - loss: 0.1001 - accuracy: 0.96 - ETA: 3s - loss: 0.0991 - accuracy: 0.96 - ETA: 3s - loss: 0.0991 - accuracy: 0.96 - ETA: 3s - loss: 0.0998 - accuracy: 0.96 - ETA: 3s - loss: 0.0991 - accuracy: 0.96 - ETA: 3s - loss: 0.0995 - accuracy: 0.96 - ETA: 3s - loss: 0.0991 - accuracy: 0.96 - ETA: 3s - loss: 0.0980 - accuracy: 0.96 - ETA: 3s - loss: 0.0978 - accuracy: 0.96 - ETA: 3s - loss: 0.0975 - accuracy: 0.96 - ETA: 3s - loss: 0.0979 - accuracy: 0.96 - ETA: 3s - loss: 0.0980 - accuracy: 0.96 - ETA: 3s - loss: 0.0983 - accuracy: 0.96 - ETA: 2s - loss: 0.0981 - accuracy: 0.96 - ETA: 2s - loss: 0.0979 - accuracy: 0.96 - ETA: 2s - loss: 0.0972 - accuracy: 0.96 - ETA: 2s - loss: 0.0970 - accuracy: 0.96 - ETA: 2s - loss: 0.0976 - accuracy: 0.96 - ETA: 2s - loss: 0.0979 - accuracy: 0.96 - ETA: 2s - loss: 0.0985 - accuracy: 0.96 - ETA: 2s - loss: 0.0987 - accuracy: 0.96 - ETA: 2s - loss: 0.0995 - accuracy: 0.96 - ETA: 2s - loss: 0.0999 - accuracy: 0.96 - ETA: 2s - loss: 0.1004 - accuracy: 0.96 - ETA: 2s - loss: 0.1009 - accuracy: 0.96 - ETA: 2s - loss: 0.1013 - accuracy: 0.96 - ETA: 2s - loss: 0.1014 - accuracy: 0.96 - ETA: 2s - loss: 0.1016 - accuracy: 0.96 - ETA: 1s - loss: 0.1024 - accuracy: 0.96 - ETA: 1s - loss: 0.1026 - accuracy: 0.96 - ETA: 1s - loss: 0.1022 - accuracy: 0.96 - ETA: 1s - loss: 0.1022 - accuracy: 0.96 - ETA: 1s - loss: 0.1014 - accuracy: 0.96 - ETA: 1s - loss: 0.1018 - accuracy: 0.96 - ETA: 1s - loss: 0.1015 - accuracy: 0.96 - ETA: 1s - loss: 0.1009 - accuracy: 0.96 - ETA: 1s - loss: 0.1009 - accuracy: 0.96 - ETA: 1s - loss: 0.1008 - accuracy: 0.96 - ETA: 1s - loss: 0.1007 - accuracy: 0.96 - ETA: 1s - loss: 0.1005 - accuracy: 0.96 - ETA: 1s - loss: 0.1005 - accuracy: 0.96 - ETA: 1s - loss: 0.1006 - accuracy: 0.96 - ETA: 1s - loss: 0.1003 - accuracy: 0.96 - ETA: 0s - loss: 0.1003 - accuracy: 0.96 - ETA: 0s - loss: 0.1004 - accuracy: 0.96 - ETA: 0s - loss: 0.1004 - accuracy: 0.96 - ETA: 0s - loss: 0.1005 - accuracy: 0.96 - ETA: 0s - loss: 0.1006 - accuracy: 0.96 - ETA: 0s - loss: 0.1009 - accuracy: 0.96 - ETA: 0s - loss: 0.1020 - accuracy: 0.96 - ETA: 0s - loss: 0.1020 - accuracy: 0.96 - ETA: 0s - loss: 0.1017 - accuracy: 0.96 - ETA: 0s - loss: 0.1017 - accuracy: 0.96 - ETA: 0s - loss: 0.1017 - accuracy: 0.96 - ETA: 0s - loss: 0.1014 - accuracy: 0.96 - ETA: 0s - loss: 0.1014 - accuracy: 0.96 - ETA: 0s - loss: 0.1014 - accuracy: 0.96 - ETA: 0s - loss: 0.1015 - accuracy: 0.96 - 5s 23ms/step - loss: 0.1013 - accuracy: 0.9624 - val_loss: 0.1435 - val_accuracy: 0.9532\n",
      "Epoch 38/60\n",
      "228/228 [==============================] - ETA: 2s - loss: 0.0660 - accuracy: 0.97 - ETA: 4s - loss: 0.1016 - accuracy: 0.96 - ETA: 4s - loss: 0.0927 - accuracy: 0.96 - ETA: 4s - loss: 0.0887 - accuracy: 0.96 - ETA: 4s - loss: 0.0883 - accuracy: 0.96 - ETA: 4s - loss: 0.0886 - accuracy: 0.96 - ETA: 4s - loss: 0.0927 - accuracy: 0.96 - ETA: 4s - loss: 0.0936 - accuracy: 0.96 - ETA: 4s - loss: 0.0955 - accuracy: 0.96 - ETA: 4s - loss: 0.0961 - accuracy: 0.96 - ETA: 4s - loss: 0.0958 - accuracy: 0.96 - ETA: 4s - loss: 0.0942 - accuracy: 0.96 - ETA: 4s - loss: 0.0938 - accuracy: 0.96 - ETA: 4s - loss: 0.0937 - accuracy: 0.96 - ETA: 4s - loss: 0.0938 - accuracy: 0.96 - ETA: 4s - loss: 0.0923 - accuracy: 0.96 - ETA: 3s - loss: 0.0935 - accuracy: 0.96 - ETA: 3s - loss: 0.0945 - accuracy: 0.96 - ETA: 3s - loss: 0.0952 - accuracy: 0.96 - ETA: 3s - loss: 0.0948 - accuracy: 0.96 - ETA: 3s - loss: 0.0944 - accuracy: 0.96 - ETA: 3s - loss: 0.0947 - accuracy: 0.96 - ETA: 3s - loss: 0.0943 - accuracy: 0.96 - ETA: 3s - loss: 0.0955 - accuracy: 0.96 - ETA: 3s - loss: 0.0951 - accuracy: 0.96 - ETA: 3s - loss: 0.0948 - accuracy: 0.96 - ETA: 3s - loss: 0.0950 - accuracy: 0.96 - ETA: 3s - loss: 0.0950 - accuracy: 0.96 - ETA: 3s - loss: 0.0949 - accuracy: 0.96 - ETA: 3s - loss: 0.0949 - accuracy: 0.96 - ETA: 3s - loss: 0.0945 - accuracy: 0.96 - ETA: 2s - loss: 0.0950 - accuracy: 0.96 - ETA: 2s - loss: 0.0948 - accuracy: 0.96 - ETA: 2s - loss: 0.0942 - accuracy: 0.96 - ETA: 2s - loss: 0.0949 - accuracy: 0.96 - ETA: 2s - loss: 0.0946 - accuracy: 0.96 - ETA: 2s - loss: 0.0946 - accuracy: 0.96 - ETA: 2s - loss: 0.0943 - accuracy: 0.96 - ETA: 2s - loss: 0.0942 - accuracy: 0.96 - ETA: 2s - loss: 0.0939 - accuracy: 0.96 - ETA: 2s - loss: 0.0936 - accuracy: 0.96 - ETA: 2s - loss: 0.0935 - accuracy: 0.96 - ETA: 2s - loss: 0.0943 - accuracy: 0.96 - ETA: 2s - loss: 0.0946 - accuracy: 0.96 - ETA: 2s - loss: 0.0947 - accuracy: 0.96 - ETA: 2s - loss: 0.0950 - accuracy: 0.96 - ETA: 1s - loss: 0.0951 - accuracy: 0.96 - ETA: 1s - loss: 0.0959 - accuracy: 0.96 - ETA: 1s - loss: 0.0964 - accuracy: 0.96 - ETA: 1s - loss: 0.0973 - accuracy: 0.96 - ETA: 1s - loss: 0.0975 - accuracy: 0.96 - ETA: 1s - loss: 0.0974 - accuracy: 0.96 - ETA: 1s - loss: 0.0976 - accuracy: 0.96 - ETA: 1s - loss: 0.0977 - accuracy: 0.96 - ETA: 1s - loss: 0.0979 - accuracy: 0.96 - ETA: 1s - loss: 0.0975 - accuracy: 0.96 - ETA: 1s - loss: 0.0976 - accuracy: 0.96 - ETA: 1s - loss: 0.0975 - accuracy: 0.96 - ETA: 1s - loss: 0.0976 - accuracy: 0.96 - ETA: 1s - loss: 0.0977 - accuracy: 0.96 - ETA: 1s - loss: 0.0979 - accuracy: 0.96 - ETA: 0s - loss: 0.0980 - accuracy: 0.96 - ETA: 0s - loss: 0.0984 - accuracy: 0.96 - ETA: 0s - loss: 0.0987 - accuracy: 0.96 - ETA: 0s - loss: 0.0986 - accuracy: 0.96 - ETA: 0s - loss: 0.0985 - accuracy: 0.96 - ETA: 0s - loss: 0.0987 - accuracy: 0.96 - ETA: 0s - loss: 0.0987 - accuracy: 0.96 - ETA: 0s - loss: 0.0993 - accuracy: 0.96 - ETA: 0s - loss: 0.0988 - accuracy: 0.96 - ETA: 0s - loss: 0.0987 - accuracy: 0.96 - ETA: 0s - loss: 0.0986 - accuracy: 0.96 - ETA: 0s - loss: 0.0986 - accuracy: 0.96 - ETA: 0s - loss: 0.0984 - accuracy: 0.96 - ETA: 0s - loss: 0.0986 - accuracy: 0.96 - ETA: 0s - loss: 0.0986 - accuracy: 0.96 - 5s 23ms/step - loss: 0.0987 - accuracy: 0.9630 - val_loss: 0.1424 - val_accuracy: 0.9526\n",
      "Epoch 39/60\n"
     ]
    },
    {
     "name": "stdout",
     "output_type": "stream",
     "text": [
      "228/228 [==============================] - ETA: 2s - loss: 0.0689 - accuracy: 0.97 - ETA: 4s - loss: 0.0930 - accuracy: 0.96 - ETA: 4s - loss: 0.0910 - accuracy: 0.96 - ETA: 4s - loss: 0.0886 - accuracy: 0.96 - ETA: 4s - loss: 0.0939 - accuracy: 0.96 - ETA: 4s - loss: 0.0914 - accuracy: 0.96 - ETA: 4s - loss: 0.0896 - accuracy: 0.96 - ETA: 4s - loss: 0.0899 - accuracy: 0.96 - ETA: 4s - loss: 0.0899 - accuracy: 0.96 - ETA: 4s - loss: 0.0900 - accuracy: 0.96 - ETA: 4s - loss: 0.0908 - accuracy: 0.96 - ETA: 4s - loss: 0.0893 - accuracy: 0.96 - ETA: 4s - loss: 0.0903 - accuracy: 0.96 - ETA: 4s - loss: 0.0893 - accuracy: 0.96 - ETA: 4s - loss: 0.0908 - accuracy: 0.96 - ETA: 4s - loss: 0.0912 - accuracy: 0.96 - ETA: 4s - loss: 0.0920 - accuracy: 0.96 - ETA: 3s - loss: 0.0909 - accuracy: 0.96 - ETA: 3s - loss: 0.0914 - accuracy: 0.96 - ETA: 3s - loss: 0.0919 - accuracy: 0.96 - ETA: 3s - loss: 0.0917 - accuracy: 0.96 - ETA: 3s - loss: 0.0925 - accuracy: 0.96 - ETA: 3s - loss: 0.0924 - accuracy: 0.96 - ETA: 3s - loss: 0.0923 - accuracy: 0.96 - ETA: 3s - loss: 0.0924 - accuracy: 0.96 - ETA: 3s - loss: 0.0919 - accuracy: 0.96 - ETA: 3s - loss: 0.0917 - accuracy: 0.96 - ETA: 3s - loss: 0.0923 - accuracy: 0.96 - ETA: 3s - loss: 0.0931 - accuracy: 0.96 - ETA: 3s - loss: 0.0928 - accuracy: 0.96 - ETA: 3s - loss: 0.0931 - accuracy: 0.96 - ETA: 2s - loss: 0.0934 - accuracy: 0.96 - ETA: 2s - loss: 0.0933 - accuracy: 0.96 - ETA: 2s - loss: 0.0939 - accuracy: 0.96 - ETA: 2s - loss: 0.0947 - accuracy: 0.96 - ETA: 2s - loss: 0.0941 - accuracy: 0.96 - ETA: 2s - loss: 0.0935 - accuracy: 0.96 - ETA: 2s - loss: 0.0937 - accuracy: 0.96 - ETA: 2s - loss: 0.0939 - accuracy: 0.96 - ETA: 2s - loss: 0.0941 - accuracy: 0.96 - ETA: 2s - loss: 0.0941 - accuracy: 0.96 - ETA: 2s - loss: 0.0942 - accuracy: 0.96 - ETA: 2s - loss: 0.0942 - accuracy: 0.96 - ETA: 2s - loss: 0.0943 - accuracy: 0.96 - ETA: 2s - loss: 0.0947 - accuracy: 0.96 - ETA: 2s - loss: 0.0945 - accuracy: 0.96 - ETA: 1s - loss: 0.0947 - accuracy: 0.96 - ETA: 1s - loss: 0.0947 - accuracy: 0.96 - ETA: 1s - loss: 0.0950 - accuracy: 0.96 - ETA: 1s - loss: 0.0953 - accuracy: 0.96 - ETA: 1s - loss: 0.0954 - accuracy: 0.96 - ETA: 1s - loss: 0.0956 - accuracy: 0.96 - ETA: 1s - loss: 0.0958 - accuracy: 0.96 - ETA: 1s - loss: 0.0963 - accuracy: 0.96 - ETA: 1s - loss: 0.0960 - accuracy: 0.96 - ETA: 1s - loss: 0.0960 - accuracy: 0.96 - ETA: 1s - loss: 0.0961 - accuracy: 0.96 - ETA: 1s - loss: 0.0961 - accuracy: 0.96 - ETA: 1s - loss: 0.0964 - accuracy: 0.96 - ETA: 1s - loss: 0.0966 - accuracy: 0.96 - ETA: 1s - loss: 0.0970 - accuracy: 0.96 - ETA: 0s - loss: 0.0974 - accuracy: 0.96 - ETA: 0s - loss: 0.0975 - accuracy: 0.96 - ETA: 0s - loss: 0.0974 - accuracy: 0.96 - ETA: 0s - loss: 0.0976 - accuracy: 0.96 - ETA: 0s - loss: 0.0977 - accuracy: 0.96 - ETA: 0s - loss: 0.0979 - accuracy: 0.96 - ETA: 0s - loss: 0.0979 - accuracy: 0.96 - ETA: 0s - loss: 0.0975 - accuracy: 0.96 - ETA: 0s - loss: 0.0977 - accuracy: 0.96 - ETA: 0s - loss: 0.0979 - accuracy: 0.96 - ETA: 0s - loss: 0.0987 - accuracy: 0.96 - ETA: 0s - loss: 0.0988 - accuracy: 0.96 - ETA: 0s - loss: 0.0989 - accuracy: 0.96 - ETA: 0s - loss: 0.0989 - accuracy: 0.96 - ETA: 0s - loss: 0.0987 - accuracy: 0.96 - 5s 23ms/step - loss: 0.0987 - accuracy: 0.9632 - val_loss: 0.1378 - val_accuracy: 0.9575\n",
      "Epoch 40/60\n",
      "228/228 [==============================] - ETA: 2s - loss: 0.0635 - accuracy: 0.96 - ETA: 4s - loss: 0.0909 - accuracy: 0.96 - ETA: 4s - loss: 0.0944 - accuracy: 0.96 - ETA: 4s - loss: 0.0926 - accuracy: 0.96 - ETA: 4s - loss: 0.0919 - accuracy: 0.96 - ETA: 4s - loss: 0.0944 - accuracy: 0.96 - ETA: 4s - loss: 0.0973 - accuracy: 0.96 - ETA: 4s - loss: 0.1059 - accuracy: 0.96 - ETA: 4s - loss: 0.1035 - accuracy: 0.96 - ETA: 4s - loss: 0.1040 - accuracy: 0.96 - ETA: 4s - loss: 0.1024 - accuracy: 0.96 - ETA: 4s - loss: 0.1045 - accuracy: 0.96 - ETA: 4s - loss: 0.1038 - accuracy: 0.96 - ETA: 4s - loss: 0.1022 - accuracy: 0.96 - ETA: 4s - loss: 0.1017 - accuracy: 0.96 - ETA: 4s - loss: 0.1023 - accuracy: 0.96 - ETA: 3s - loss: 0.1015 - accuracy: 0.96 - ETA: 3s - loss: 0.1004 - accuracy: 0.96 - ETA: 3s - loss: 0.1003 - accuracy: 0.96 - ETA: 3s - loss: 0.0990 - accuracy: 0.96 - ETA: 3s - loss: 0.0987 - accuracy: 0.96 - ETA: 3s - loss: 0.0981 - accuracy: 0.96 - ETA: 3s - loss: 0.0981 - accuracy: 0.96 - ETA: 3s - loss: 0.0981 - accuracy: 0.96 - ETA: 3s - loss: 0.0983 - accuracy: 0.96 - ETA: 3s - loss: 0.0992 - accuracy: 0.96 - ETA: 3s - loss: 0.0998 - accuracy: 0.96 - ETA: 3s - loss: 0.0994 - accuracy: 0.96 - ETA: 3s - loss: 0.1000 - accuracy: 0.96 - ETA: 3s - loss: 0.0993 - accuracy: 0.96 - ETA: 3s - loss: 0.0988 - accuracy: 0.96 - ETA: 2s - loss: 0.0987 - accuracy: 0.96 - ETA: 2s - loss: 0.0980 - accuracy: 0.96 - ETA: 2s - loss: 0.0978 - accuracy: 0.96 - ETA: 2s - loss: 0.0973 - accuracy: 0.96 - ETA: 2s - loss: 0.0981 - accuracy: 0.96 - ETA: 2s - loss: 0.0980 - accuracy: 0.96 - ETA: 2s - loss: 0.0979 - accuracy: 0.96 - ETA: 2s - loss: 0.0982 - accuracy: 0.96 - ETA: 2s - loss: 0.0984 - accuracy: 0.96 - ETA: 2s - loss: 0.0982 - accuracy: 0.96 - ETA: 2s - loss: 0.0985 - accuracy: 0.96 - ETA: 2s - loss: 0.0987 - accuracy: 0.96 - ETA: 2s - loss: 0.0985 - accuracy: 0.96 - ETA: 2s - loss: 0.0986 - accuracy: 0.96 - ETA: 2s - loss: 0.0986 - accuracy: 0.96 - ETA: 1s - loss: 0.0984 - accuracy: 0.96 - ETA: 1s - loss: 0.0983 - accuracy: 0.96 - ETA: 1s - loss: 0.0985 - accuracy: 0.96 - ETA: 1s - loss: 0.0985 - accuracy: 0.96 - ETA: 1s - loss: 0.0988 - accuracy: 0.96 - ETA: 1s - loss: 0.0994 - accuracy: 0.96 - ETA: 1s - loss: 0.0995 - accuracy: 0.96 - ETA: 1s - loss: 0.0997 - accuracy: 0.96 - ETA: 1s - loss: 0.0993 - accuracy: 0.96 - ETA: 1s - loss: 0.0990 - accuracy: 0.96 - ETA: 1s - loss: 0.0996 - accuracy: 0.96 - ETA: 1s - loss: 0.0996 - accuracy: 0.96 - ETA: 1s - loss: 0.0993 - accuracy: 0.96 - ETA: 1s - loss: 0.0991 - accuracy: 0.96 - ETA: 1s - loss: 0.0988 - accuracy: 0.96 - ETA: 0s - loss: 0.0987 - accuracy: 0.96 - ETA: 0s - loss: 0.0990 - accuracy: 0.96 - ETA: 0s - loss: 0.0991 - accuracy: 0.96 - ETA: 0s - loss: 0.0989 - accuracy: 0.96 - ETA: 0s - loss: 0.0989 - accuracy: 0.96 - ETA: 0s - loss: 0.0987 - accuracy: 0.96 - ETA: 0s - loss: 0.0985 - accuracy: 0.96 - ETA: 0s - loss: 0.0984 - accuracy: 0.96 - ETA: 0s - loss: 0.0985 - accuracy: 0.96 - ETA: 0s - loss: 0.0983 - accuracy: 0.96 - ETA: 0s - loss: 0.0981 - accuracy: 0.96 - ETA: 0s - loss: 0.0983 - accuracy: 0.96 - ETA: 0s - loss: 0.0984 - accuracy: 0.96 - ETA: 0s - loss: 0.0985 - accuracy: 0.96 - ETA: 0s - loss: 0.0984 - accuracy: 0.96 - 5s 23ms/step - loss: 0.0984 - accuracy: 0.9641 - val_loss: 0.1422 - val_accuracy: 0.9552\n",
      "Epoch 41/60\n"
     ]
    },
    {
     "name": "stdout",
     "output_type": "stream",
     "text": [
      "228/228 [==============================] - ETA: 2s - loss: 0.0792 - accuracy: 0.96 - ETA: 4s - loss: 0.0815 - accuracy: 0.96 - ETA: 4s - loss: 0.0849 - accuracy: 0.96 - ETA: 4s - loss: 0.0885 - accuracy: 0.96 - ETA: 4s - loss: 0.0854 - accuracy: 0.96 - ETA: 4s - loss: 0.0818 - accuracy: 0.96 - ETA: 4s - loss: 0.0814 - accuracy: 0.96 - ETA: 4s - loss: 0.0806 - accuracy: 0.96 - ETA: 4s - loss: 0.0805 - accuracy: 0.96 - ETA: 4s - loss: 0.0835 - accuracy: 0.96 - ETA: 4s - loss: 0.0821 - accuracy: 0.96 - ETA: 4s - loss: 0.0825 - accuracy: 0.96 - ETA: 4s - loss: 0.0821 - accuracy: 0.96 - ETA: 4s - loss: 0.0822 - accuracy: 0.96 - ETA: 4s - loss: 0.0815 - accuracy: 0.96 - ETA: 4s - loss: 0.0810 - accuracy: 0.96 - ETA: 3s - loss: 0.0804 - accuracy: 0.96 - ETA: 3s - loss: 0.0801 - accuracy: 0.96 - ETA: 3s - loss: 0.0807 - accuracy: 0.96 - ETA: 3s - loss: 0.0801 - accuracy: 0.96 - ETA: 3s - loss: 0.0804 - accuracy: 0.96 - ETA: 3s - loss: 0.0804 - accuracy: 0.96 - ETA: 3s - loss: 0.0817 - accuracy: 0.96 - ETA: 3s - loss: 0.0820 - accuracy: 0.96 - ETA: 3s - loss: 0.0824 - accuracy: 0.96 - ETA: 3s - loss: 0.0821 - accuracy: 0.96 - ETA: 3s - loss: 0.0822 - accuracy: 0.96 - ETA: 3s - loss: 0.0826 - accuracy: 0.96 - ETA: 3s - loss: 0.0840 - accuracy: 0.96 - ETA: 3s - loss: 0.0844 - accuracy: 0.96 - ETA: 3s - loss: 0.0839 - accuracy: 0.96 - ETA: 2s - loss: 0.0839 - accuracy: 0.96 - ETA: 2s - loss: 0.0837 - accuracy: 0.96 - ETA: 2s - loss: 0.0851 - accuracy: 0.96 - ETA: 2s - loss: 0.0855 - accuracy: 0.96 - ETA: 2s - loss: 0.0867 - accuracy: 0.96 - ETA: 2s - loss: 0.0864 - accuracy: 0.96 - ETA: 2s - loss: 0.0864 - accuracy: 0.96 - ETA: 2s - loss: 0.0870 - accuracy: 0.96 - ETA: 2s - loss: 0.0874 - accuracy: 0.96 - ETA: 2s - loss: 0.0879 - accuracy: 0.96 - ETA: 2s - loss: 0.0884 - accuracy: 0.96 - ETA: 2s - loss: 0.0895 - accuracy: 0.96 - ETA: 2s - loss: 0.0896 - accuracy: 0.96 - ETA: 2s - loss: 0.0893 - accuracy: 0.96 - ETA: 2s - loss: 0.0892 - accuracy: 0.96 - ETA: 1s - loss: 0.0889 - accuracy: 0.96 - ETA: 1s - loss: 0.0888 - accuracy: 0.96 - ETA: 1s - loss: 0.0889 - accuracy: 0.96 - ETA: 1s - loss: 0.0894 - accuracy: 0.96 - ETA: 1s - loss: 0.0895 - accuracy: 0.96 - ETA: 1s - loss: 0.0895 - accuracy: 0.96 - ETA: 1s - loss: 0.0897 - accuracy: 0.96 - ETA: 1s - loss: 0.0897 - accuracy: 0.96 - ETA: 1s - loss: 0.0895 - accuracy: 0.96 - ETA: 1s - loss: 0.0895 - accuracy: 0.96 - ETA: 1s - loss: 0.0901 - accuracy: 0.96 - ETA: 1s - loss: 0.0898 - accuracy: 0.96 - ETA: 1s - loss: 0.0902 - accuracy: 0.96 - ETA: 1s - loss: 0.0906 - accuracy: 0.96 - ETA: 1s - loss: 0.0906 - accuracy: 0.96 - ETA: 0s - loss: 0.0907 - accuracy: 0.96 - ETA: 0s - loss: 0.0911 - accuracy: 0.96 - ETA: 0s - loss: 0.0912 - accuracy: 0.96 - ETA: 0s - loss: 0.0912 - accuracy: 0.96 - ETA: 0s - loss: 0.0914 - accuracy: 0.96 - ETA: 0s - loss: 0.0920 - accuracy: 0.96 - ETA: 0s - loss: 0.0921 - accuracy: 0.96 - ETA: 0s - loss: 0.0921 - accuracy: 0.96 - ETA: 0s - loss: 0.0926 - accuracy: 0.96 - ETA: 0s - loss: 0.0928 - accuracy: 0.96 - ETA: 0s - loss: 0.0934 - accuracy: 0.96 - ETA: 0s - loss: 0.0936 - accuracy: 0.96 - ETA: 0s - loss: 0.0942 - accuracy: 0.96 - ETA: 0s - loss: 0.0942 - accuracy: 0.96 - ETA: 0s - loss: 0.0940 - accuracy: 0.96 - 5s 23ms/step - loss: 0.0941 - accuracy: 0.9653 - val_loss: 0.1433 - val_accuracy: 0.9588\n",
      "Epoch 42/60\n",
      "228/228 [==============================] - ETA: 2s - loss: 0.0874 - accuracy: 0.98 - ETA: 4s - loss: 0.0694 - accuracy: 0.97 - ETA: 4s - loss: 0.0722 - accuracy: 0.97 - ETA: 4s - loss: 0.0709 - accuracy: 0.97 - ETA: 4s - loss: 0.0717 - accuracy: 0.97 - ETA: 4s - loss: 0.0712 - accuracy: 0.97 - ETA: 4s - loss: 0.0751 - accuracy: 0.97 - ETA: 4s - loss: 0.0781 - accuracy: 0.97 - ETA: 4s - loss: 0.0816 - accuracy: 0.97 - ETA: 4s - loss: 0.0837 - accuracy: 0.97 - ETA: 4s - loss: 0.0838 - accuracy: 0.97 - ETA: 4s - loss: 0.0838 - accuracy: 0.96 - ETA: 4s - loss: 0.0832 - accuracy: 0.96 - ETA: 4s - loss: 0.0831 - accuracy: 0.97 - ETA: 4s - loss: 0.0806 - accuracy: 0.97 - ETA: 4s - loss: 0.0791 - accuracy: 0.97 - ETA: 3s - loss: 0.0795 - accuracy: 0.97 - ETA: 3s - loss: 0.0794 - accuracy: 0.97 - ETA: 3s - loss: 0.0800 - accuracy: 0.97 - ETA: 3s - loss: 0.0809 - accuracy: 0.97 - ETA: 3s - loss: 0.0822 - accuracy: 0.97 - ETA: 3s - loss: 0.0817 - accuracy: 0.97 - ETA: 3s - loss: 0.0842 - accuracy: 0.96 - ETA: 3s - loss: 0.0849 - accuracy: 0.96 - ETA: 3s - loss: 0.0865 - accuracy: 0.96 - ETA: 3s - loss: 0.0882 - accuracy: 0.96 - ETA: 3s - loss: 0.0879 - accuracy: 0.96 - ETA: 3s - loss: 0.0873 - accuracy: 0.96 - ETA: 3s - loss: 0.0875 - accuracy: 0.96 - ETA: 3s - loss: 0.0878 - accuracy: 0.96 - ETA: 3s - loss: 0.0876 - accuracy: 0.96 - ETA: 2s - loss: 0.0876 - accuracy: 0.96 - ETA: 2s - loss: 0.0876 - accuracy: 0.96 - ETA: 2s - loss: 0.0875 - accuracy: 0.96 - ETA: 2s - loss: 0.0881 - accuracy: 0.96 - ETA: 2s - loss: 0.0876 - accuracy: 0.96 - ETA: 2s - loss: 0.0880 - accuracy: 0.96 - ETA: 2s - loss: 0.0883 - accuracy: 0.96 - ETA: 2s - loss: 0.0892 - accuracy: 0.96 - ETA: 2s - loss: 0.0907 - accuracy: 0.96 - ETA: 2s - loss: 0.0907 - accuracy: 0.96 - ETA: 2s - loss: 0.0910 - accuracy: 0.96 - ETA: 2s - loss: 0.0910 - accuracy: 0.96 - ETA: 2s - loss: 0.0921 - accuracy: 0.96 - ETA: 2s - loss: 0.0928 - accuracy: 0.96 - ETA: 2s - loss: 0.0936 - accuracy: 0.96 - ETA: 1s - loss: 0.0939 - accuracy: 0.96 - ETA: 1s - loss: 0.0940 - accuracy: 0.96 - ETA: 1s - loss: 0.0948 - accuracy: 0.96 - ETA: 1s - loss: 0.0950 - accuracy: 0.96 - ETA: 1s - loss: 0.0949 - accuracy: 0.96 - ETA: 1s - loss: 0.0951 - accuracy: 0.96 - ETA: 1s - loss: 0.0953 - accuracy: 0.96 - ETA: 1s - loss: 0.0952 - accuracy: 0.96 - ETA: 1s - loss: 0.0945 - accuracy: 0.96 - ETA: 1s - loss: 0.0944 - accuracy: 0.96 - ETA: 1s - loss: 0.0944 - accuracy: 0.96 - ETA: 1s - loss: 0.0945 - accuracy: 0.96 - ETA: 1s - loss: 0.0945 - accuracy: 0.96 - ETA: 1s - loss: 0.0947 - accuracy: 0.96 - ETA: 1s - loss: 0.0950 - accuracy: 0.96 - ETA: 0s - loss: 0.0954 - accuracy: 0.96 - ETA: 0s - loss: 0.0951 - accuracy: 0.96 - ETA: 0s - loss: 0.0948 - accuracy: 0.96 - ETA: 0s - loss: 0.0948 - accuracy: 0.96 - ETA: 0s - loss: 0.0950 - accuracy: 0.96 - ETA: 0s - loss: 0.0948 - accuracy: 0.96 - ETA: 0s - loss: 0.0946 - accuracy: 0.96 - ETA: 0s - loss: 0.0947 - accuracy: 0.96 - ETA: 0s - loss: 0.0948 - accuracy: 0.96 - ETA: 0s - loss: 0.0949 - accuracy: 0.96 - ETA: 0s - loss: 0.0949 - accuracy: 0.96 - ETA: 0s - loss: 0.0946 - accuracy: 0.96 - ETA: 0s - loss: 0.0948 - accuracy: 0.96 - ETA: 0s - loss: 0.0949 - accuracy: 0.96 - ETA: 0s - loss: 0.0945 - accuracy: 0.96 - 5s 23ms/step - loss: 0.0949 - accuracy: 0.9644 - val_loss: 0.1350 - val_accuracy: 0.9591\n",
      "Epoch 43/60\n"
     ]
    },
    {
     "name": "stdout",
     "output_type": "stream",
     "text": [
      "228/228 [==============================] - ETA: 2s - loss: 0.0540 - accuracy: 0.97 - ETA: 4s - loss: 0.0782 - accuracy: 0.96 - ETA: 4s - loss: 0.0842 - accuracy: 0.96 - ETA: 4s - loss: 0.0775 - accuracy: 0.96 - ETA: 4s - loss: 0.0821 - accuracy: 0.96 - ETA: 4s - loss: 0.0848 - accuracy: 0.96 - ETA: 4s - loss: 0.0868 - accuracy: 0.96 - ETA: 4s - loss: 0.0848 - accuracy: 0.96 - ETA: 4s - loss: 0.0844 - accuracy: 0.96 - ETA: 4s - loss: 0.0824 - accuracy: 0.96 - ETA: 4s - loss: 0.0804 - accuracy: 0.96 - ETA: 4s - loss: 0.0803 - accuracy: 0.96 - ETA: 4s - loss: 0.0803 - accuracy: 0.96 - ETA: 4s - loss: 0.0816 - accuracy: 0.96 - ETA: 4s - loss: 0.0828 - accuracy: 0.96 - ETA: 4s - loss: 0.0829 - accuracy: 0.96 - ETA: 3s - loss: 0.0829 - accuracy: 0.96 - ETA: 3s - loss: 0.0817 - accuracy: 0.96 - ETA: 3s - loss: 0.0808 - accuracy: 0.96 - ETA: 3s - loss: 0.0811 - accuracy: 0.96 - ETA: 3s - loss: 0.0806 - accuracy: 0.96 - ETA: 3s - loss: 0.0815 - accuracy: 0.96 - ETA: 3s - loss: 0.0816 - accuracy: 0.96 - ETA: 3s - loss: 0.0828 - accuracy: 0.96 - ETA: 3s - loss: 0.0833 - accuracy: 0.96 - ETA: 3s - loss: 0.0845 - accuracy: 0.96 - ETA: 3s - loss: 0.0845 - accuracy: 0.96 - ETA: 3s - loss: 0.0847 - accuracy: 0.96 - ETA: 3s - loss: 0.0839 - accuracy: 0.96 - ETA: 3s - loss: 0.0847 - accuracy: 0.96 - ETA: 3s - loss: 0.0847 - accuracy: 0.96 - ETA: 2s - loss: 0.0855 - accuracy: 0.96 - ETA: 2s - loss: 0.0857 - accuracy: 0.96 - ETA: 2s - loss: 0.0863 - accuracy: 0.96 - ETA: 2s - loss: 0.0862 - accuracy: 0.96 - ETA: 2s - loss: 0.0868 - accuracy: 0.96 - ETA: 2s - loss: 0.0865 - accuracy: 0.96 - ETA: 2s - loss: 0.0870 - accuracy: 0.96 - ETA: 2s - loss: 0.0872 - accuracy: 0.96 - ETA: 2s - loss: 0.0868 - accuracy: 0.96 - ETA: 2s - loss: 0.0873 - accuracy: 0.96 - ETA: 2s - loss: 0.0872 - accuracy: 0.96 - ETA: 2s - loss: 0.0880 - accuracy: 0.96 - ETA: 2s - loss: 0.0884 - accuracy: 0.96 - ETA: 2s - loss: 0.0890 - accuracy: 0.96 - ETA: 2s - loss: 0.0890 - accuracy: 0.96 - ETA: 1s - loss: 0.0891 - accuracy: 0.96 - ETA: 1s - loss: 0.0888 - accuracy: 0.96 - ETA: 1s - loss: 0.0889 - accuracy: 0.96 - ETA: 1s - loss: 0.0888 - accuracy: 0.96 - ETA: 1s - loss: 0.0890 - accuracy: 0.96 - ETA: 1s - loss: 0.0892 - accuracy: 0.96 - ETA: 1s - loss: 0.0893 - accuracy: 0.96 - ETA: 1s - loss: 0.0892 - accuracy: 0.96 - ETA: 1s - loss: 0.0896 - accuracy: 0.96 - ETA: 1s - loss: 0.0895 - accuracy: 0.96 - ETA: 1s - loss: 0.0894 - accuracy: 0.96 - ETA: 1s - loss: 0.0897 - accuracy: 0.96 - ETA: 1s - loss: 0.0895 - accuracy: 0.96 - ETA: 1s - loss: 0.0899 - accuracy: 0.96 - ETA: 1s - loss: 0.0898 - accuracy: 0.96 - ETA: 0s - loss: 0.0897 - accuracy: 0.96 - ETA: 0s - loss: 0.0898 - accuracy: 0.96 - ETA: 0s - loss: 0.0897 - accuracy: 0.96 - ETA: 0s - loss: 0.0899 - accuracy: 0.96 - ETA: 0s - loss: 0.0903 - accuracy: 0.96 - ETA: 0s - loss: 0.0904 - accuracy: 0.96 - ETA: 0s - loss: 0.0904 - accuracy: 0.96 - ETA: 0s - loss: 0.0907 - accuracy: 0.96 - ETA: 0s - loss: 0.0908 - accuracy: 0.96 - ETA: 0s - loss: 0.0906 - accuracy: 0.96 - ETA: 0s - loss: 0.0905 - accuracy: 0.96 - ETA: 0s - loss: 0.0905 - accuracy: 0.96 - ETA: 0s - loss: 0.0905 - accuracy: 0.96 - ETA: 0s - loss: 0.0905 - accuracy: 0.96 - ETA: 0s - loss: 0.0909 - accuracy: 0.96 - 5s 23ms/step - loss: 0.0911 - accuracy: 0.9665 - val_loss: 0.1415 - val_accuracy: 0.9575\n",
      "Epoch 44/60\n",
      "228/228 [==============================] - ETA: 2s - loss: 0.1066 - accuracy: 0.95 - ETA: 4s - loss: 0.1025 - accuracy: 0.96 - ETA: 4s - loss: 0.0909 - accuracy: 0.96 - ETA: 4s - loss: 0.0906 - accuracy: 0.96 - ETA: 4s - loss: 0.0892 - accuracy: 0.96 - ETA: 4s - loss: 0.0877 - accuracy: 0.96 - ETA: 4s - loss: 0.0895 - accuracy: 0.96 - ETA: 4s - loss: 0.0912 - accuracy: 0.96 - ETA: 4s - loss: 0.0901 - accuracy: 0.96 - ETA: 4s - loss: 0.0895 - accuracy: 0.96 - ETA: 4s - loss: 0.0874 - accuracy: 0.96 - ETA: 4s - loss: 0.0869 - accuracy: 0.96 - ETA: 4s - loss: 0.0886 - accuracy: 0.96 - ETA: 4s - loss: 0.0889 - accuracy: 0.96 - ETA: 4s - loss: 0.0884 - accuracy: 0.96 - ETA: 4s - loss: 0.0868 - accuracy: 0.96 - ETA: 3s - loss: 0.0857 - accuracy: 0.96 - ETA: 3s - loss: 0.0872 - accuracy: 0.96 - ETA: 3s - loss: 0.0872 - accuracy: 0.96 - ETA: 3s - loss: 0.0877 - accuracy: 0.96 - ETA: 3s - loss: 0.0875 - accuracy: 0.96 - ETA: 3s - loss: 0.0865 - accuracy: 0.96 - ETA: 3s - loss: 0.0864 - accuracy: 0.96 - ETA: 3s - loss: 0.0859 - accuracy: 0.96 - ETA: 3s - loss: 0.0864 - accuracy: 0.96 - ETA: 3s - loss: 0.0855 - accuracy: 0.96 - ETA: 3s - loss: 0.0852 - accuracy: 0.96 - ETA: 3s - loss: 0.0850 - accuracy: 0.96 - ETA: 3s - loss: 0.0847 - accuracy: 0.96 - ETA: 3s - loss: 0.0856 - accuracy: 0.96 - ETA: 3s - loss: 0.0869 - accuracy: 0.96 - ETA: 2s - loss: 0.0863 - accuracy: 0.96 - ETA: 2s - loss: 0.0865 - accuracy: 0.96 - ETA: 2s - loss: 0.0872 - accuracy: 0.96 - ETA: 2s - loss: 0.0868 - accuracy: 0.96 - ETA: 2s - loss: 0.0869 - accuracy: 0.96 - ETA: 2s - loss: 0.0866 - accuracy: 0.96 - ETA: 2s - loss: 0.0868 - accuracy: 0.96 - ETA: 2s - loss: 0.0877 - accuracy: 0.96 - ETA: 2s - loss: 0.0880 - accuracy: 0.96 - ETA: 2s - loss: 0.0883 - accuracy: 0.96 - ETA: 2s - loss: 0.0882 - accuracy: 0.96 - ETA: 2s - loss: 0.0877 - accuracy: 0.96 - ETA: 2s - loss: 0.0877 - accuracy: 0.96 - ETA: 2s - loss: 0.0883 - accuracy: 0.96 - ETA: 2s - loss: 0.0881 - accuracy: 0.96 - ETA: 1s - loss: 0.0882 - accuracy: 0.96 - ETA: 1s - loss: 0.0883 - accuracy: 0.96 - ETA: 1s - loss: 0.0887 - accuracy: 0.96 - ETA: 1s - loss: 0.0888 - accuracy: 0.96 - ETA: 1s - loss: 0.0886 - accuracy: 0.96 - ETA: 1s - loss: 0.0886 - accuracy: 0.96 - ETA: 1s - loss: 0.0891 - accuracy: 0.96 - ETA: 1s - loss: 0.0893 - accuracy: 0.96 - ETA: 1s - loss: 0.0890 - accuracy: 0.96 - ETA: 1s - loss: 0.0889 - accuracy: 0.96 - ETA: 1s - loss: 0.0896 - accuracy: 0.96 - ETA: 1s - loss: 0.0894 - accuracy: 0.96 - ETA: 1s - loss: 0.0895 - accuracy: 0.96 - ETA: 1s - loss: 0.0897 - accuracy: 0.96 - ETA: 1s - loss: 0.0901 - accuracy: 0.96 - ETA: 0s - loss: 0.0901 - accuracy: 0.96 - ETA: 0s - loss: 0.0902 - accuracy: 0.96 - ETA: 0s - loss: 0.0906 - accuracy: 0.96 - ETA: 0s - loss: 0.0905 - accuracy: 0.96 - ETA: 0s - loss: 0.0905 - accuracy: 0.96 - ETA: 0s - loss: 0.0907 - accuracy: 0.96 - ETA: 0s - loss: 0.0905 - accuracy: 0.96 - ETA: 0s - loss: 0.0904 - accuracy: 0.96 - ETA: 0s - loss: 0.0902 - accuracy: 0.96 - ETA: 0s - loss: 0.0904 - accuracy: 0.96 - ETA: 0s - loss: 0.0906 - accuracy: 0.96 - ETA: 0s - loss: 0.0908 - accuracy: 0.96 - ETA: 0s - loss: 0.0912 - accuracy: 0.96 - ETA: 0s - loss: 0.0914 - accuracy: 0.96 - ETA: 0s - loss: 0.0914 - accuracy: 0.96 - 5s 23ms/step - loss: 0.0913 - accuracy: 0.9659 - val_loss: 0.1577 - val_accuracy: 0.9557\n",
      "Epoch 45/60\n"
     ]
    },
    {
     "name": "stdout",
     "output_type": "stream",
     "text": [
      "228/228 [==============================] - ETA: 2s - loss: 0.0741 - accuracy: 0.96 - ETA: 4s - loss: 0.1078 - accuracy: 0.97 - ETA: 4s - loss: 0.1145 - accuracy: 0.96 - ETA: 4s - loss: 0.0984 - accuracy: 0.96 - ETA: 4s - loss: 0.1026 - accuracy: 0.96 - ETA: 4s - loss: 0.0986 - accuracy: 0.96 - ETA: 4s - loss: 0.1003 - accuracy: 0.96 - ETA: 4s - loss: 0.0973 - accuracy: 0.96 - ETA: 4s - loss: 0.0986 - accuracy: 0.96 - ETA: 4s - loss: 0.0994 - accuracy: 0.96 - ETA: 4s - loss: 0.0983 - accuracy: 0.96 - ETA: 4s - loss: 0.1000 - accuracy: 0.96 - ETA: 4s - loss: 0.0990 - accuracy: 0.96 - ETA: 4s - loss: 0.0967 - accuracy: 0.96 - ETA: 4s - loss: 0.0961 - accuracy: 0.96 - ETA: 4s - loss: 0.0954 - accuracy: 0.96 - ETA: 3s - loss: 0.0946 - accuracy: 0.96 - ETA: 3s - loss: 0.0940 - accuracy: 0.96 - ETA: 3s - loss: 0.0951 - accuracy: 0.96 - ETA: 3s - loss: 0.0945 - accuracy: 0.96 - ETA: 3s - loss: 0.0946 - accuracy: 0.96 - ETA: 3s - loss: 0.0944 - accuracy: 0.96 - ETA: 3s - loss: 0.0941 - accuracy: 0.96 - ETA: 3s - loss: 0.0946 - accuracy: 0.96 - ETA: 3s - loss: 0.0943 - accuracy: 0.96 - ETA: 3s - loss: 0.0935 - accuracy: 0.96 - ETA: 3s - loss: 0.0930 - accuracy: 0.96 - ETA: 3s - loss: 0.0925 - accuracy: 0.96 - ETA: 3s - loss: 0.0915 - accuracy: 0.96 - ETA: 3s - loss: 0.0910 - accuracy: 0.96 - ETA: 3s - loss: 0.0901 - accuracy: 0.96 - ETA: 2s - loss: 0.0904 - accuracy: 0.96 - ETA: 2s - loss: 0.0904 - accuracy: 0.96 - ETA: 2s - loss: 0.0903 - accuracy: 0.96 - ETA: 2s - loss: 0.0906 - accuracy: 0.96 - ETA: 2s - loss: 0.0908 - accuracy: 0.96 - ETA: 2s - loss: 0.0910 - accuracy: 0.96 - ETA: 2s - loss: 0.0915 - accuracy: 0.96 - ETA: 2s - loss: 0.0905 - accuracy: 0.96 - ETA: 2s - loss: 0.0909 - accuracy: 0.96 - ETA: 2s - loss: 0.0907 - accuracy: 0.96 - ETA: 2s - loss: 0.0909 - accuracy: 0.96 - ETA: 2s - loss: 0.0917 - accuracy: 0.96 - ETA: 2s - loss: 0.0917 - accuracy: 0.96 - ETA: 2s - loss: 0.0921 - accuracy: 0.96 - ETA: 2s - loss: 0.0917 - accuracy: 0.96 - ETA: 1s - loss: 0.0917 - accuracy: 0.96 - ETA: 1s - loss: 0.0921 - accuracy: 0.96 - ETA: 1s - loss: 0.0920 - accuracy: 0.96 - ETA: 1s - loss: 0.0918 - accuracy: 0.96 - ETA: 1s - loss: 0.0922 - accuracy: 0.96 - ETA: 1s - loss: 0.0921 - accuracy: 0.96 - ETA: 1s - loss: 0.0923 - accuracy: 0.96 - ETA: 1s - loss: 0.0919 - accuracy: 0.96 - ETA: 1s - loss: 0.0916 - accuracy: 0.96 - ETA: 1s - loss: 0.0916 - accuracy: 0.96 - ETA: 1s - loss: 0.0916 - accuracy: 0.96 - ETA: 1s - loss: 0.0915 - accuracy: 0.96 - ETA: 1s - loss: 0.0924 - accuracy: 0.96 - ETA: 1s - loss: 0.0921 - accuracy: 0.96 - ETA: 1s - loss: 0.0919 - accuracy: 0.96 - ETA: 0s - loss: 0.0918 - accuracy: 0.96 - ETA: 0s - loss: 0.0919 - accuracy: 0.96 - ETA: 0s - loss: 0.0925 - accuracy: 0.96 - ETA: 0s - loss: 0.0929 - accuracy: 0.96 - ETA: 0s - loss: 0.0924 - accuracy: 0.96 - ETA: 0s - loss: 0.0921 - accuracy: 0.96 - ETA: 0s - loss: 0.0919 - accuracy: 0.96 - ETA: 0s - loss: 0.0921 - accuracy: 0.96 - ETA: 0s - loss: 0.0924 - accuracy: 0.96 - ETA: 0s - loss: 0.0921 - accuracy: 0.96 - ETA: 0s - loss: 0.0928 - accuracy: 0.96 - ETA: 0s - loss: 0.0931 - accuracy: 0.96 - ETA: 0s - loss: 0.0929 - accuracy: 0.96 - ETA: 0s - loss: 0.0931 - accuracy: 0.96 - ETA: 0s - loss: 0.0931 - accuracy: 0.96 - 5s 23ms/step - loss: 0.0928 - accuracy: 0.9662 - val_loss: 0.1414 - val_accuracy: 0.9563\n",
      "Epoch 46/60\n",
      "228/228 [==============================] - ETA: 3s - loss: 0.0734 - accuracy: 0.96 - ETA: 4s - loss: 0.0586 - accuracy: 0.97 - ETA: 4s - loss: 0.0676 - accuracy: 0.97 - ETA: 4s - loss: 0.0691 - accuracy: 0.97 - ETA: 4s - loss: 0.0675 - accuracy: 0.97 - ETA: 4s - loss: 0.0737 - accuracy: 0.97 - ETA: 4s - loss: 0.0736 - accuracy: 0.97 - ETA: 4s - loss: 0.0755 - accuracy: 0.97 - ETA: 4s - loss: 0.0768 - accuracy: 0.96 - ETA: 4s - loss: 0.0771 - accuracy: 0.96 - ETA: 4s - loss: 0.0777 - accuracy: 0.96 - ETA: 4s - loss: 0.0794 - accuracy: 0.96 - ETA: 4s - loss: 0.0778 - accuracy: 0.96 - ETA: 4s - loss: 0.0769 - accuracy: 0.96 - ETA: 4s - loss: 0.0775 - accuracy: 0.96 - ETA: 4s - loss: 0.0774 - accuracy: 0.96 - ETA: 3s - loss: 0.0777 - accuracy: 0.96 - ETA: 3s - loss: 0.0779 - accuracy: 0.96 - ETA: 3s - loss: 0.0778 - accuracy: 0.96 - ETA: 3s - loss: 0.0777 - accuracy: 0.96 - ETA: 3s - loss: 0.0785 - accuracy: 0.96 - ETA: 3s - loss: 0.0778 - accuracy: 0.96 - ETA: 3s - loss: 0.0787 - accuracy: 0.96 - ETA: 3s - loss: 0.0787 - accuracy: 0.96 - ETA: 3s - loss: 0.0794 - accuracy: 0.96 - ETA: 3s - loss: 0.0794 - accuracy: 0.96 - ETA: 3s - loss: 0.0797 - accuracy: 0.96 - ETA: 3s - loss: 0.0802 - accuracy: 0.96 - ETA: 3s - loss: 0.0793 - accuracy: 0.96 - ETA: 3s - loss: 0.0803 - accuracy: 0.96 - ETA: 3s - loss: 0.0811 - accuracy: 0.96 - ETA: 2s - loss: 0.0804 - accuracy: 0.96 - ETA: 2s - loss: 0.0808 - accuracy: 0.96 - ETA: 2s - loss: 0.0811 - accuracy: 0.96 - ETA: 2s - loss: 0.0812 - accuracy: 0.96 - ETA: 2s - loss: 0.0812 - accuracy: 0.96 - ETA: 2s - loss: 0.0810 - accuracy: 0.96 - ETA: 2s - loss: 0.0806 - accuracy: 0.96 - ETA: 2s - loss: 0.0810 - accuracy: 0.96 - ETA: 2s - loss: 0.0809 - accuracy: 0.96 - ETA: 2s - loss: 0.0812 - accuracy: 0.96 - ETA: 2s - loss: 0.0810 - accuracy: 0.96 - ETA: 2s - loss: 0.0814 - accuracy: 0.96 - ETA: 2s - loss: 0.0820 - accuracy: 0.96 - ETA: 2s - loss: 0.0820 - accuracy: 0.96 - ETA: 2s - loss: 0.0823 - accuracy: 0.96 - ETA: 1s - loss: 0.0817 - accuracy: 0.96 - ETA: 1s - loss: 0.0816 - accuracy: 0.96 - ETA: 1s - loss: 0.0818 - accuracy: 0.96 - ETA: 1s - loss: 0.0819 - accuracy: 0.96 - ETA: 1s - loss: 0.0820 - accuracy: 0.96 - ETA: 1s - loss: 0.0824 - accuracy: 0.96 - ETA: 1s - loss: 0.0824 - accuracy: 0.96 - ETA: 1s - loss: 0.0827 - accuracy: 0.96 - ETA: 1s - loss: 0.0830 - accuracy: 0.96 - ETA: 1s - loss: 0.0831 - accuracy: 0.96 - ETA: 1s - loss: 0.0830 - accuracy: 0.96 - ETA: 1s - loss: 0.0831 - accuracy: 0.96 - ETA: 1s - loss: 0.0836 - accuracy: 0.96 - ETA: 1s - loss: 0.0840 - accuracy: 0.96 - ETA: 1s - loss: 0.0843 - accuracy: 0.96 - ETA: 0s - loss: 0.0843 - accuracy: 0.96 - ETA: 0s - loss: 0.0841 - accuracy: 0.96 - ETA: 0s - loss: 0.0844 - accuracy: 0.96 - ETA: 0s - loss: 0.0841 - accuracy: 0.96 - ETA: 0s - loss: 0.0841 - accuracy: 0.96 - ETA: 0s - loss: 0.0842 - accuracy: 0.96 - ETA: 0s - loss: 0.0843 - accuracy: 0.96 - ETA: 0s - loss: 0.0845 - accuracy: 0.96 - ETA: 0s - loss: 0.0845 - accuracy: 0.96 - ETA: 0s - loss: 0.0849 - accuracy: 0.96 - ETA: 0s - loss: 0.0849 - accuracy: 0.96 - ETA: 0s - loss: 0.0848 - accuracy: 0.96 - ETA: 0s - loss: 0.0850 - accuracy: 0.96 - ETA: 0s - loss: 0.0851 - accuracy: 0.96 - ETA: 0s - loss: 0.0850 - accuracy: 0.96 - ETA: 0s - loss: 0.0851 - accuracy: 0.96 - 5s 23ms/step - loss: 0.0851 - accuracy: 0.9673 - val_loss: 0.1426 - val_accuracy: 0.9568\n",
      "Epoch 47/60\n"
     ]
    },
    {
     "name": "stdout",
     "output_type": "stream",
     "text": [
      "228/228 [==============================] - ETA: 2s - loss: 0.0839 - accuracy: 0.96 - ETA: 4s - loss: 0.0763 - accuracy: 0.97 - ETA: 4s - loss: 0.0809 - accuracy: 0.97 - ETA: 4s - loss: 0.0771 - accuracy: 0.97 - ETA: 4s - loss: 0.0735 - accuracy: 0.97 - ETA: 4s - loss: 0.0766 - accuracy: 0.97 - ETA: 4s - loss: 0.0778 - accuracy: 0.96 - ETA: 4s - loss: 0.0775 - accuracy: 0.97 - ETA: 4s - loss: 0.0769 - accuracy: 0.97 - ETA: 4s - loss: 0.0815 - accuracy: 0.96 - ETA: 4s - loss: 0.0826 - accuracy: 0.96 - ETA: 4s - loss: 0.0822 - accuracy: 0.96 - ETA: 4s - loss: 0.0817 - accuracy: 0.96 - ETA: 4s - loss: 0.0813 - accuracy: 0.96 - ETA: 4s - loss: 0.0816 - accuracy: 0.96 - ETA: 4s - loss: 0.0813 - accuracy: 0.96 - ETA: 3s - loss: 0.0819 - accuracy: 0.96 - ETA: 3s - loss: 0.0813 - accuracy: 0.96 - ETA: 3s - loss: 0.0821 - accuracy: 0.96 - ETA: 3s - loss: 0.0815 - accuracy: 0.96 - ETA: 3s - loss: 0.0812 - accuracy: 0.96 - ETA: 3s - loss: 0.0825 - accuracy: 0.96 - ETA: 3s - loss: 0.0829 - accuracy: 0.96 - ETA: 3s - loss: 0.0839 - accuracy: 0.96 - ETA: 3s - loss: 0.0841 - accuracy: 0.96 - ETA: 3s - loss: 0.0843 - accuracy: 0.96 - ETA: 3s - loss: 0.0839 - accuracy: 0.96 - ETA: 3s - loss: 0.0845 - accuracy: 0.96 - ETA: 3s - loss: 0.0851 - accuracy: 0.96 - ETA: 3s - loss: 0.0848 - accuracy: 0.96 - ETA: 3s - loss: 0.0852 - accuracy: 0.96 - ETA: 3s - loss: 0.0854 - accuracy: 0.96 - ETA: 2s - loss: 0.0852 - accuracy: 0.96 - ETA: 2s - loss: 0.0856 - accuracy: 0.96 - ETA: 2s - loss: 0.0853 - accuracy: 0.96 - ETA: 2s - loss: 0.0851 - accuracy: 0.96 - ETA: 2s - loss: 0.0851 - accuracy: 0.96 - ETA: 2s - loss: 0.0847 - accuracy: 0.96 - ETA: 2s - loss: 0.0853 - accuracy: 0.96 - ETA: 2s - loss: 0.0852 - accuracy: 0.96 - ETA: 2s - loss: 0.0851 - accuracy: 0.96 - ETA: 2s - loss: 0.0852 - accuracy: 0.96 - ETA: 2s - loss: 0.0851 - accuracy: 0.96 - ETA: 2s - loss: 0.0854 - accuracy: 0.96 - ETA: 2s - loss: 0.0854 - accuracy: 0.96 - ETA: 2s - loss: 0.0860 - accuracy: 0.96 - ETA: 1s - loss: 0.0868 - accuracy: 0.96 - ETA: 1s - loss: 0.0878 - accuracy: 0.96 - ETA: 1s - loss: 0.0876 - accuracy: 0.96 - ETA: 1s - loss: 0.0871 - accuracy: 0.96 - ETA: 1s - loss: 0.0876 - accuracy: 0.96 - ETA: 1s - loss: 0.0873 - accuracy: 0.96 - ETA: 1s - loss: 0.0871 - accuracy: 0.96 - ETA: 1s - loss: 0.0867 - accuracy: 0.96 - ETA: 1s - loss: 0.0865 - accuracy: 0.96 - ETA: 1s - loss: 0.0868 - accuracy: 0.96 - ETA: 1s - loss: 0.0865 - accuracy: 0.96 - ETA: 1s - loss: 0.0861 - accuracy: 0.96 - ETA: 1s - loss: 0.0858 - accuracy: 0.96 - ETA: 1s - loss: 0.0870 - accuracy: 0.96 - ETA: 1s - loss: 0.0877 - accuracy: 0.96 - ETA: 0s - loss: 0.0874 - accuracy: 0.96 - ETA: 0s - loss: 0.0871 - accuracy: 0.96 - ETA: 0s - loss: 0.0868 - accuracy: 0.96 - ETA: 0s - loss: 0.0866 - accuracy: 0.96 - ETA: 0s - loss: 0.0866 - accuracy: 0.96 - ETA: 0s - loss: 0.0869 - accuracy: 0.96 - ETA: 0s - loss: 0.0867 - accuracy: 0.96 - ETA: 0s - loss: 0.0865 - accuracy: 0.96 - ETA: 0s - loss: 0.0871 - accuracy: 0.96 - ETA: 0s - loss: 0.0874 - accuracy: 0.96 - ETA: 0s - loss: 0.0873 - accuracy: 0.96 - ETA: 0s - loss: 0.0871 - accuracy: 0.96 - ETA: 0s - loss: 0.0874 - accuracy: 0.96 - ETA: 0s - loss: 0.0876 - accuracy: 0.96 - ETA: 0s - loss: 0.0877 - accuracy: 0.96 - 5s 23ms/step - loss: 0.0875 - accuracy: 0.9675 - val_loss: 0.1525 - val_accuracy: 0.9507\n",
      "Epoch 48/60\n",
      "228/228 [==============================] - ETA: 3s - loss: 0.1299 - accuracy: 0.95 - ETA: 4s - loss: 0.0867 - accuracy: 0.96 - ETA: 4s - loss: 0.0854 - accuracy: 0.96 - ETA: 4s - loss: 0.0860 - accuracy: 0.96 - ETA: 4s - loss: 0.0865 - accuracy: 0.96 - ETA: 4s - loss: 0.0844 - accuracy: 0.96 - ETA: 4s - loss: 0.0836 - accuracy: 0.96 - ETA: 4s - loss: 0.0850 - accuracy: 0.96 - ETA: 4s - loss: 0.0831 - accuracy: 0.96 - ETA: 4s - loss: 0.0820 - accuracy: 0.96 - ETA: 4s - loss: 0.0812 - accuracy: 0.96 - ETA: 4s - loss: 0.0808 - accuracy: 0.96 - ETA: 4s - loss: 0.0845 - accuracy: 0.96 - ETA: 4s - loss: 0.0838 - accuracy: 0.96 - ETA: 4s - loss: 0.0822 - accuracy: 0.96 - ETA: 4s - loss: 0.0872 - accuracy: 0.96 - ETA: 3s - loss: 0.0883 - accuracy: 0.96 - ETA: 3s - loss: 0.0873 - accuracy: 0.96 - ETA: 3s - loss: 0.0892 - accuracy: 0.96 - ETA: 3s - loss: 0.0885 - accuracy: 0.96 - ETA: 3s - loss: 0.0884 - accuracy: 0.96 - ETA: 3s - loss: 0.0881 - accuracy: 0.96 - ETA: 3s - loss: 0.0888 - accuracy: 0.96 - ETA: 3s - loss: 0.0878 - accuracy: 0.96 - ETA: 3s - loss: 0.0878 - accuracy: 0.96 - ETA: 3s - loss: 0.0879 - accuracy: 0.96 - ETA: 3s - loss: 0.0880 - accuracy: 0.96 - ETA: 3s - loss: 0.0899 - accuracy: 0.96 - ETA: 3s - loss: 0.0910 - accuracy: 0.96 - ETA: 3s - loss: 0.0911 - accuracy: 0.96 - ETA: 3s - loss: 0.0914 - accuracy: 0.96 - ETA: 2s - loss: 0.0912 - accuracy: 0.96 - ETA: 2s - loss: 0.0906 - accuracy: 0.96 - ETA: 2s - loss: 0.0903 - accuracy: 0.96 - ETA: 2s - loss: 0.0893 - accuracy: 0.96 - ETA: 2s - loss: 0.0889 - accuracy: 0.96 - ETA: 2s - loss: 0.0883 - accuracy: 0.96 - ETA: 2s - loss: 0.0877 - accuracy: 0.96 - ETA: 2s - loss: 0.0878 - accuracy: 0.96 - ETA: 2s - loss: 0.0876 - accuracy: 0.96 - ETA: 2s - loss: 0.0871 - accuracy: 0.96 - ETA: 2s - loss: 0.0866 - accuracy: 0.96 - ETA: 2s - loss: 0.0863 - accuracy: 0.96 - ETA: 2s - loss: 0.0865 - accuracy: 0.96 - ETA: 2s - loss: 0.0864 - accuracy: 0.96 - ETA: 2s - loss: 0.0866 - accuracy: 0.96 - ETA: 1s - loss: 0.0870 - accuracy: 0.96 - ETA: 1s - loss: 0.0867 - accuracy: 0.96 - ETA: 1s - loss: 0.0869 - accuracy: 0.96 - ETA: 1s - loss: 0.0872 - accuracy: 0.96 - ETA: 1s - loss: 0.0872 - accuracy: 0.96 - ETA: 1s - loss: 0.0877 - accuracy: 0.96 - ETA: 1s - loss: 0.0881 - accuracy: 0.96 - ETA: 1s - loss: 0.0877 - accuracy: 0.96 - ETA: 1s - loss: 0.0881 - accuracy: 0.96 - ETA: 1s - loss: 0.0880 - accuracy: 0.96 - ETA: 1s - loss: 0.0877 - accuracy: 0.96 - ETA: 1s - loss: 0.0883 - accuracy: 0.96 - ETA: 1s - loss: 0.0888 - accuracy: 0.96 - ETA: 1s - loss: 0.0891 - accuracy: 0.96 - ETA: 1s - loss: 0.0893 - accuracy: 0.96 - ETA: 0s - loss: 0.0892 - accuracy: 0.96 - ETA: 0s - loss: 0.0898 - accuracy: 0.96 - ETA: 0s - loss: 0.0899 - accuracy: 0.96 - ETA: 0s - loss: 0.0899 - accuracy: 0.96 - ETA: 0s - loss: 0.0905 - accuracy: 0.96 - ETA: 0s - loss: 0.0910 - accuracy: 0.96 - ETA: 0s - loss: 0.0910 - accuracy: 0.96 - ETA: 0s - loss: 0.0909 - accuracy: 0.96 - ETA: 0s - loss: 0.0906 - accuracy: 0.96 - ETA: 0s - loss: 0.0902 - accuracy: 0.96 - ETA: 0s - loss: 0.0896 - accuracy: 0.96 - ETA: 0s - loss: 0.0900 - accuracy: 0.96 - ETA: 0s - loss: 0.0901 - accuracy: 0.96 - ETA: 0s - loss: 0.0896 - accuracy: 0.96 - ETA: 0s - loss: 0.0895 - accuracy: 0.96 - 5s 23ms/step - loss: 0.0894 - accuracy: 0.9671 - val_loss: 0.1520 - val_accuracy: 0.9518\n",
      "Epoch 49/60\n"
     ]
    },
    {
     "name": "stdout",
     "output_type": "stream",
     "text": [
      "228/228 [==============================] - ETA: 2s - loss: 0.0390 - accuracy: 0.98 - ETA: 4s - loss: 0.0793 - accuracy: 0.97 - ETA: 4s - loss: 0.0861 - accuracy: 0.97 - ETA: 4s - loss: 0.0885 - accuracy: 0.97 - ETA: 4s - loss: 0.0855 - accuracy: 0.96 - ETA: 4s - loss: 0.0888 - accuracy: 0.96 - ETA: 4s - loss: 0.0878 - accuracy: 0.96 - ETA: 4s - loss: 0.0885 - accuracy: 0.96 - ETA: 4s - loss: 0.0874 - accuracy: 0.96 - ETA: 4s - loss: 0.0831 - accuracy: 0.96 - ETA: 4s - loss: 0.0850 - accuracy: 0.96 - ETA: 4s - loss: 0.0850 - accuracy: 0.96 - ETA: 4s - loss: 0.0831 - accuracy: 0.96 - ETA: 4s - loss: 0.0823 - accuracy: 0.96 - ETA: 4s - loss: 0.0816 - accuracy: 0.96 - ETA: 4s - loss: 0.0806 - accuracy: 0.96 - ETA: 3s - loss: 0.0818 - accuracy: 0.96 - ETA: 3s - loss: 0.0813 - accuracy: 0.97 - ETA: 3s - loss: 0.0832 - accuracy: 0.96 - ETA: 3s - loss: 0.0824 - accuracy: 0.96 - ETA: 3s - loss: 0.0833 - accuracy: 0.96 - ETA: 3s - loss: 0.0833 - accuracy: 0.96 - ETA: 3s - loss: 0.0831 - accuracy: 0.96 - ETA: 3s - loss: 0.0837 - accuracy: 0.96 - ETA: 3s - loss: 0.0841 - accuracy: 0.96 - ETA: 3s - loss: 0.0828 - accuracy: 0.96 - ETA: 3s - loss: 0.0830 - accuracy: 0.96 - ETA: 3s - loss: 0.0822 - accuracy: 0.96 - ETA: 3s - loss: 0.0819 - accuracy: 0.96 - ETA: 3s - loss: 0.0820 - accuracy: 0.96 - ETA: 3s - loss: 0.0821 - accuracy: 0.96 - ETA: 2s - loss: 0.0826 - accuracy: 0.96 - ETA: 2s - loss: 0.0824 - accuracy: 0.96 - ETA: 2s - loss: 0.0817 - accuracy: 0.96 - ETA: 2s - loss: 0.0816 - accuracy: 0.96 - ETA: 2s - loss: 0.0808 - accuracy: 0.96 - ETA: 2s - loss: 0.0802 - accuracy: 0.96 - ETA: 2s - loss: 0.0798 - accuracy: 0.96 - ETA: 2s - loss: 0.0800 - accuracy: 0.96 - ETA: 2s - loss: 0.0802 - accuracy: 0.96 - ETA: 2s - loss: 0.0801 - accuracy: 0.96 - ETA: 2s - loss: 0.0801 - accuracy: 0.96 - ETA: 2s - loss: 0.0801 - accuracy: 0.96 - ETA: 2s - loss: 0.0799 - accuracy: 0.96 - ETA: 2s - loss: 0.0801 - accuracy: 0.96 - ETA: 2s - loss: 0.0797 - accuracy: 0.96 - ETA: 1s - loss: 0.0797 - accuracy: 0.96 - ETA: 1s - loss: 0.0797 - accuracy: 0.96 - ETA: 1s - loss: 0.0792 - accuracy: 0.96 - ETA: 1s - loss: 0.0791 - accuracy: 0.96 - ETA: 1s - loss: 0.0789 - accuracy: 0.96 - ETA: 1s - loss: 0.0789 - accuracy: 0.96 - ETA: 1s - loss: 0.0786 - accuracy: 0.96 - ETA: 1s - loss: 0.0789 - accuracy: 0.96 - ETA: 1s - loss: 0.0795 - accuracy: 0.96 - ETA: 1s - loss: 0.0792 - accuracy: 0.96 - ETA: 1s - loss: 0.0791 - accuracy: 0.97 - ETA: 1s - loss: 0.0795 - accuracy: 0.96 - ETA: 1s - loss: 0.0798 - accuracy: 0.96 - ETA: 1s - loss: 0.0799 - accuracy: 0.96 - ETA: 1s - loss: 0.0801 - accuracy: 0.96 - ETA: 0s - loss: 0.0803 - accuracy: 0.96 - ETA: 0s - loss: 0.0805 - accuracy: 0.96 - ETA: 0s - loss: 0.0806 - accuracy: 0.96 - ETA: 0s - loss: 0.0808 - accuracy: 0.96 - ETA: 0s - loss: 0.0807 - accuracy: 0.96 - ETA: 0s - loss: 0.0806 - accuracy: 0.96 - ETA: 0s - loss: 0.0806 - accuracy: 0.96 - ETA: 0s - loss: 0.0807 - accuracy: 0.96 - ETA: 0s - loss: 0.0808 - accuracy: 0.96 - ETA: 0s - loss: 0.0806 - accuracy: 0.96 - ETA: 0s - loss: 0.0807 - accuracy: 0.96 - ETA: 0s - loss: 0.0806 - accuracy: 0.96 - ETA: 0s - loss: 0.0805 - accuracy: 0.96 - ETA: 0s - loss: 0.0807 - accuracy: 0.96 - ETA: 0s - loss: 0.0810 - accuracy: 0.96 - 5s 23ms/step - loss: 0.0810 - accuracy: 0.9696 - val_loss: 0.1454 - val_accuracy: 0.9558\n",
      "Epoch 50/60\n",
      "228/228 [==============================] - ETA: 2s - loss: 0.0787 - accuracy: 0.97 - ETA: 4s - loss: 0.0709 - accuracy: 0.97 - ETA: 4s - loss: 0.0710 - accuracy: 0.97 - ETA: 4s - loss: 0.0685 - accuracy: 0.97 - ETA: 4s - loss: 0.0714 - accuracy: 0.97 - ETA: 4s - loss: 0.0738 - accuracy: 0.97 - ETA: 4s - loss: 0.0733 - accuracy: 0.97 - ETA: 4s - loss: 0.0723 - accuracy: 0.97 - ETA: 4s - loss: 0.0729 - accuracy: 0.97 - ETA: 4s - loss: 0.0727 - accuracy: 0.97 - ETA: 4s - loss: 0.0736 - accuracy: 0.97 - ETA: 4s - loss: 0.0736 - accuracy: 0.97 - ETA: 4s - loss: 0.0758 - accuracy: 0.97 - ETA: 4s - loss: 0.0749 - accuracy: 0.97 - ETA: 4s - loss: 0.0731 - accuracy: 0.97 - ETA: 4s - loss: 0.0728 - accuracy: 0.97 - ETA: 3s - loss: 0.0730 - accuracy: 0.97 - ETA: 3s - loss: 0.0737 - accuracy: 0.97 - ETA: 3s - loss: 0.0743 - accuracy: 0.97 - ETA: 3s - loss: 0.0741 - accuracy: 0.97 - ETA: 3s - loss: 0.0739 - accuracy: 0.97 - ETA: 3s - loss: 0.0735 - accuracy: 0.97 - ETA: 3s - loss: 0.0732 - accuracy: 0.97 - ETA: 3s - loss: 0.0738 - accuracy: 0.97 - ETA: 3s - loss: 0.0748 - accuracy: 0.97 - ETA: 3s - loss: 0.0747 - accuracy: 0.97 - ETA: 3s - loss: 0.0753 - accuracy: 0.97 - ETA: 3s - loss: 0.0763 - accuracy: 0.97 - ETA: 3s - loss: 0.0758 - accuracy: 0.97 - ETA: 3s - loss: 0.0770 - accuracy: 0.97 - ETA: 3s - loss: 0.0774 - accuracy: 0.97 - ETA: 3s - loss: 0.0774 - accuracy: 0.97 - ETA: 2s - loss: 0.0788 - accuracy: 0.97 - ETA: 2s - loss: 0.0790 - accuracy: 0.97 - ETA: 2s - loss: 0.0793 - accuracy: 0.97 - ETA: 2s - loss: 0.0798 - accuracy: 0.97 - ETA: 2s - loss: 0.0798 - accuracy: 0.97 - ETA: 2s - loss: 0.0797 - accuracy: 0.97 - ETA: 2s - loss: 0.0796 - accuracy: 0.97 - ETA: 2s - loss: 0.0795 - accuracy: 0.97 - ETA: 2s - loss: 0.0793 - accuracy: 0.97 - ETA: 2s - loss: 0.0796 - accuracy: 0.97 - ETA: 2s - loss: 0.0795 - accuracy: 0.97 - ETA: 2s - loss: 0.0795 - accuracy: 0.97 - ETA: 2s - loss: 0.0794 - accuracy: 0.97 - ETA: 2s - loss: 0.0791 - accuracy: 0.97 - ETA: 1s - loss: 0.0792 - accuracy: 0.97 - ETA: 1s - loss: 0.0787 - accuracy: 0.97 - ETA: 1s - loss: 0.0784 - accuracy: 0.97 - ETA: 1s - loss: 0.0785 - accuracy: 0.97 - ETA: 1s - loss: 0.0790 - accuracy: 0.97 - ETA: 1s - loss: 0.0789 - accuracy: 0.97 - ETA: 1s - loss: 0.0795 - accuracy: 0.96 - ETA: 1s - loss: 0.0794 - accuracy: 0.96 - ETA: 1s - loss: 0.0799 - accuracy: 0.96 - ETA: 1s - loss: 0.0800 - accuracy: 0.96 - ETA: 1s - loss: 0.0799 - accuracy: 0.96 - ETA: 1s - loss: 0.0801 - accuracy: 0.96 - ETA: 1s - loss: 0.0806 - accuracy: 0.96 - ETA: 1s - loss: 0.0806 - accuracy: 0.96 - ETA: 1s - loss: 0.0809 - accuracy: 0.96 - ETA: 0s - loss: 0.0810 - accuracy: 0.96 - ETA: 0s - loss: 0.0811 - accuracy: 0.96 - ETA: 0s - loss: 0.0811 - accuracy: 0.96 - ETA: 0s - loss: 0.0812 - accuracy: 0.96 - ETA: 0s - loss: 0.0811 - accuracy: 0.96 - ETA: 0s - loss: 0.0811 - accuracy: 0.96 - ETA: 0s - loss: 0.0809 - accuracy: 0.96 - ETA: 0s - loss: 0.0810 - accuracy: 0.96 - ETA: 0s - loss: 0.0809 - accuracy: 0.96 - ETA: 0s - loss: 0.0806 - accuracy: 0.96 - ETA: 0s - loss: 0.0808 - accuracy: 0.96 - ETA: 0s - loss: 0.0808 - accuracy: 0.96 - ETA: 0s - loss: 0.0806 - accuracy: 0.96 - ETA: 0s - loss: 0.0804 - accuracy: 0.96 - ETA: 0s - loss: 0.0805 - accuracy: 0.96 - 5s 23ms/step - loss: 0.0803 - accuracy: 0.9697 - val_loss: 0.1376 - val_accuracy: 0.9591\n",
      "Epoch 51/60\n"
     ]
    },
    {
     "name": "stdout",
     "output_type": "stream",
     "text": [
      "228/228 [==============================] - ETA: 2s - loss: 0.0679 - accuracy: 0.98 - ETA: 4s - loss: 0.0645 - accuracy: 0.98 - ETA: 4s - loss: 0.0741 - accuracy: 0.97 - ETA: 4s - loss: 0.0735 - accuracy: 0.97 - ETA: 4s - loss: 0.0696 - accuracy: 0.97 - ETA: 4s - loss: 0.0689 - accuracy: 0.97 - ETA: 4s - loss: 0.0681 - accuracy: 0.97 - ETA: 4s - loss: 0.0695 - accuracy: 0.97 - ETA: 4s - loss: 0.0702 - accuracy: 0.97 - ETA: 4s - loss: 0.0710 - accuracy: 0.97 - ETA: 4s - loss: 0.0697 - accuracy: 0.97 - ETA: 4s - loss: 0.0713 - accuracy: 0.97 - ETA: 4s - loss: 0.0730 - accuracy: 0.97 - ETA: 4s - loss: 0.0724 - accuracy: 0.97 - ETA: 4s - loss: 0.0715 - accuracy: 0.97 - ETA: 4s - loss: 0.0727 - accuracy: 0.97 - ETA: 3s - loss: 0.0714 - accuracy: 0.97 - ETA: 3s - loss: 0.0719 - accuracy: 0.97 - ETA: 3s - loss: 0.0719 - accuracy: 0.97 - ETA: 3s - loss: 0.0726 - accuracy: 0.97 - ETA: 3s - loss: 0.0726 - accuracy: 0.97 - ETA: 3s - loss: 0.0733 - accuracy: 0.97 - ETA: 3s - loss: 0.0737 - accuracy: 0.97 - ETA: 3s - loss: 0.0731 - accuracy: 0.97 - ETA: 3s - loss: 0.0728 - accuracy: 0.97 - ETA: 3s - loss: 0.0729 - accuracy: 0.97 - ETA: 3s - loss: 0.0732 - accuracy: 0.97 - ETA: 3s - loss: 0.0735 - accuracy: 0.97 - ETA: 3s - loss: 0.0733 - accuracy: 0.97 - ETA: 3s - loss: 0.0744 - accuracy: 0.97 - ETA: 3s - loss: 0.0756 - accuracy: 0.97 - ETA: 2s - loss: 0.0751 - accuracy: 0.97 - ETA: 2s - loss: 0.0760 - accuracy: 0.97 - ETA: 2s - loss: 0.0757 - accuracy: 0.97 - ETA: 2s - loss: 0.0761 - accuracy: 0.97 - ETA: 2s - loss: 0.0761 - accuracy: 0.97 - ETA: 2s - loss: 0.0769 - accuracy: 0.97 - ETA: 2s - loss: 0.0772 - accuracy: 0.97 - ETA: 2s - loss: 0.0773 - accuracy: 0.97 - ETA: 2s - loss: 0.0769 - accuracy: 0.97 - ETA: 2s - loss: 0.0774 - accuracy: 0.97 - ETA: 2s - loss: 0.0781 - accuracy: 0.97 - ETA: 2s - loss: 0.0782 - accuracy: 0.97 - ETA: 2s - loss: 0.0781 - accuracy: 0.97 - ETA: 2s - loss: 0.0793 - accuracy: 0.97 - ETA: 2s - loss: 0.0796 - accuracy: 0.97 - ETA: 1s - loss: 0.0794 - accuracy: 0.97 - ETA: 1s - loss: 0.0790 - accuracy: 0.97 - ETA: 1s - loss: 0.0792 - accuracy: 0.97 - ETA: 1s - loss: 0.0794 - accuracy: 0.97 - ETA: 1s - loss: 0.0794 - accuracy: 0.97 - ETA: 1s - loss: 0.0797 - accuracy: 0.97 - ETA: 1s - loss: 0.0797 - accuracy: 0.97 - ETA: 1s - loss: 0.0802 - accuracy: 0.97 - ETA: 1s - loss: 0.0806 - accuracy: 0.97 - ETA: 1s - loss: 0.0813 - accuracy: 0.97 - ETA: 1s - loss: 0.0817 - accuracy: 0.97 - ETA: 1s - loss: 0.0818 - accuracy: 0.96 - ETA: 1s - loss: 0.0822 - accuracy: 0.96 - ETA: 1s - loss: 0.0821 - accuracy: 0.97 - ETA: 1s - loss: 0.0824 - accuracy: 0.96 - ETA: 0s - loss: 0.0822 - accuracy: 0.96 - ETA: 0s - loss: 0.0825 - accuracy: 0.96 - ETA: 0s - loss: 0.0825 - accuracy: 0.96 - ETA: 0s - loss: 0.0827 - accuracy: 0.96 - ETA: 0s - loss: 0.0828 - accuracy: 0.96 - ETA: 0s - loss: 0.0826 - accuracy: 0.96 - ETA: 0s - loss: 0.0827 - accuracy: 0.96 - ETA: 0s - loss: 0.0825 - accuracy: 0.96 - ETA: 0s - loss: 0.0822 - accuracy: 0.96 - ETA: 0s - loss: 0.0820 - accuracy: 0.96 - ETA: 0s - loss: 0.0826 - accuracy: 0.96 - ETA: 0s - loss: 0.0826 - accuracy: 0.96 - ETA: 0s - loss: 0.0825 - accuracy: 0.96 - ETA: 0s - loss: 0.0827 - accuracy: 0.96 - ETA: 0s - loss: 0.0827 - accuracy: 0.96 - 5s 23ms/step - loss: 0.0828 - accuracy: 0.9696 - val_loss: 0.1353 - val_accuracy: 0.9592\n",
      "Epoch 52/60\n",
      "228/228 [==============================] - ETA: 2s - loss: 0.0741 - accuracy: 0.97 - ETA: 4s - loss: 0.0690 - accuracy: 0.97 - ETA: 4s - loss: 0.0738 - accuracy: 0.97 - ETA: 4s - loss: 0.0683 - accuracy: 0.97 - ETA: 4s - loss: 0.0735 - accuracy: 0.97 - ETA: 4s - loss: 0.0773 - accuracy: 0.97 - ETA: 4s - loss: 0.0787 - accuracy: 0.97 - ETA: 4s - loss: 0.0783 - accuracy: 0.97 - ETA: 4s - loss: 0.0808 - accuracy: 0.96 - ETA: 4s - loss: 0.0799 - accuracy: 0.96 - ETA: 4s - loss: 0.0777 - accuracy: 0.97 - ETA: 4s - loss: 0.0792 - accuracy: 0.97 - ETA: 4s - loss: 0.0782 - accuracy: 0.97 - ETA: 4s - loss: 0.0768 - accuracy: 0.97 - ETA: 4s - loss: 0.0769 - accuracy: 0.97 - ETA: 4s - loss: 0.0757 - accuracy: 0.97 - ETA: 3s - loss: 0.0767 - accuracy: 0.97 - ETA: 3s - loss: 0.0755 - accuracy: 0.97 - ETA: 3s - loss: 0.0745 - accuracy: 0.97 - ETA: 3s - loss: 0.0740 - accuracy: 0.97 - ETA: 3s - loss: 0.0746 - accuracy: 0.97 - ETA: 3s - loss: 0.0744 - accuracy: 0.97 - ETA: 3s - loss: 0.0738 - accuracy: 0.97 - ETA: 3s - loss: 0.0745 - accuracy: 0.97 - ETA: 3s - loss: 0.0743 - accuracy: 0.97 - ETA: 3s - loss: 0.0744 - accuracy: 0.97 - ETA: 3s - loss: 0.0741 - accuracy: 0.97 - ETA: 3s - loss: 0.0744 - accuracy: 0.97 - ETA: 3s - loss: 0.0737 - accuracy: 0.97 - ETA: 3s - loss: 0.0742 - accuracy: 0.97 - ETA: 3s - loss: 0.0737 - accuracy: 0.97 - ETA: 2s - loss: 0.0741 - accuracy: 0.97 - ETA: 2s - loss: 0.0745 - accuracy: 0.97 - ETA: 2s - loss: 0.0753 - accuracy: 0.97 - ETA: 2s - loss: 0.0746 - accuracy: 0.97 - ETA: 2s - loss: 0.0744 - accuracy: 0.97 - ETA: 2s - loss: 0.0744 - accuracy: 0.97 - ETA: 2s - loss: 0.0751 - accuracy: 0.97 - ETA: 2s - loss: 0.0754 - accuracy: 0.97 - ETA: 2s - loss: 0.0758 - accuracy: 0.97 - ETA: 2s - loss: 0.0759 - accuracy: 0.97 - ETA: 2s - loss: 0.0764 - accuracy: 0.97 - ETA: 2s - loss: 0.0763 - accuracy: 0.97 - ETA: 2s - loss: 0.0760 - accuracy: 0.97 - ETA: 2s - loss: 0.0761 - accuracy: 0.97 - ETA: 2s - loss: 0.0758 - accuracy: 0.97 - ETA: 1s - loss: 0.0761 - accuracy: 0.97 - ETA: 1s - loss: 0.0766 - accuracy: 0.97 - ETA: 1s - loss: 0.0769 - accuracy: 0.97 - ETA: 1s - loss: 0.0770 - accuracy: 0.97 - ETA: 1s - loss: 0.0768 - accuracy: 0.97 - ETA: 1s - loss: 0.0766 - accuracy: 0.97 - ETA: 1s - loss: 0.0766 - accuracy: 0.97 - ETA: 1s - loss: 0.0766 - accuracy: 0.97 - ETA: 1s - loss: 0.0771 - accuracy: 0.97 - ETA: 1s - loss: 0.0772 - accuracy: 0.97 - ETA: 1s - loss: 0.0773 - accuracy: 0.97 - ETA: 1s - loss: 0.0772 - accuracy: 0.97 - ETA: 1s - loss: 0.0770 - accuracy: 0.97 - ETA: 1s - loss: 0.0768 - accuracy: 0.97 - ETA: 1s - loss: 0.0767 - accuracy: 0.97 - ETA: 0s - loss: 0.0766 - accuracy: 0.97 - ETA: 0s - loss: 0.0769 - accuracy: 0.97 - ETA: 0s - loss: 0.0771 - accuracy: 0.97 - ETA: 0s - loss: 0.0773 - accuracy: 0.97 - ETA: 0s - loss: 0.0776 - accuracy: 0.97 - ETA: 0s - loss: 0.0778 - accuracy: 0.97 - ETA: 0s - loss: 0.0779 - accuracy: 0.97 - ETA: 0s - loss: 0.0779 - accuracy: 0.97 - ETA: 0s - loss: 0.0780 - accuracy: 0.97 - ETA: 0s - loss: 0.0783 - accuracy: 0.97 - ETA: 0s - loss: 0.0784 - accuracy: 0.97 - ETA: 0s - loss: 0.0782 - accuracy: 0.97 - ETA: 0s - loss: 0.0782 - accuracy: 0.97 - ETA: 0s - loss: 0.0786 - accuracy: 0.97 - ETA: 0s - loss: 0.0786 - accuracy: 0.97 - 5s 23ms/step - loss: 0.0789 - accuracy: 0.9711 - val_loss: 0.1548 - val_accuracy: 0.9554\n",
      "Epoch 53/60\n"
     ]
    },
    {
     "name": "stdout",
     "output_type": "stream",
     "text": [
      "228/228 [==============================] - ETA: 2s - loss: 0.0963 - accuracy: 0.95 - ETA: 4s - loss: 0.1051 - accuracy: 0.96 - ETA: 4s - loss: 0.0865 - accuracy: 0.96 - ETA: 4s - loss: 0.0877 - accuracy: 0.96 - ETA: 4s - loss: 0.0827 - accuracy: 0.97 - ETA: 4s - loss: 0.0829 - accuracy: 0.97 - ETA: 4s - loss: 0.0788 - accuracy: 0.97 - ETA: 4s - loss: 0.0763 - accuracy: 0.97 - ETA: 4s - loss: 0.0752 - accuracy: 0.97 - ETA: 4s - loss: 0.0739 - accuracy: 0.97 - ETA: 4s - loss: 0.0734 - accuracy: 0.97 - ETA: 4s - loss: 0.0736 - accuracy: 0.97 - ETA: 4s - loss: 0.0728 - accuracy: 0.97 - ETA: 4s - loss: 0.0730 - accuracy: 0.97 - ETA: 4s - loss: 0.0732 - accuracy: 0.97 - ETA: 4s - loss: 0.0727 - accuracy: 0.97 - ETA: 3s - loss: 0.0725 - accuracy: 0.97 - ETA: 3s - loss: 0.0730 - accuracy: 0.97 - ETA: 3s - loss: 0.0734 - accuracy: 0.97 - ETA: 3s - loss: 0.0730 - accuracy: 0.97 - ETA: 3s - loss: 0.0720 - accuracy: 0.97 - ETA: 3s - loss: 0.0706 - accuracy: 0.97 - ETA: 3s - loss: 0.0712 - accuracy: 0.97 - ETA: 3s - loss: 0.0714 - accuracy: 0.97 - ETA: 3s - loss: 0.0711 - accuracy: 0.97 - ETA: 3s - loss: 0.0704 - accuracy: 0.97 - ETA: 3s - loss: 0.0705 - accuracy: 0.97 - ETA: 3s - loss: 0.0707 - accuracy: 0.97 - ETA: 3s - loss: 0.0705 - accuracy: 0.97 - ETA: 3s - loss: 0.0702 - accuracy: 0.97 - ETA: 3s - loss: 0.0707 - accuracy: 0.97 - ETA: 3s - loss: 0.0708 - accuracy: 0.97 - ETA: 2s - loss: 0.0710 - accuracy: 0.97 - ETA: 2s - loss: 0.0708 - accuracy: 0.97 - ETA: 2s - loss: 0.0712 - accuracy: 0.97 - ETA: 2s - loss: 0.0710 - accuracy: 0.97 - ETA: 2s - loss: 0.0714 - accuracy: 0.97 - ETA: 2s - loss: 0.0711 - accuracy: 0.97 - ETA: 2s - loss: 0.0716 - accuracy: 0.97 - ETA: 2s - loss: 0.0722 - accuracy: 0.97 - ETA: 2s - loss: 0.0729 - accuracy: 0.97 - ETA: 2s - loss: 0.0730 - accuracy: 0.97 - ETA: 2s - loss: 0.0732 - accuracy: 0.97 - ETA: 2s - loss: 0.0735 - accuracy: 0.97 - ETA: 2s - loss: 0.0738 - accuracy: 0.97 - ETA: 2s - loss: 0.0735 - accuracy: 0.97 - ETA: 1s - loss: 0.0736 - accuracy: 0.97 - ETA: 1s - loss: 0.0739 - accuracy: 0.97 - ETA: 1s - loss: 0.0738 - accuracy: 0.97 - ETA: 1s - loss: 0.0738 - accuracy: 0.97 - ETA: 1s - loss: 0.0740 - accuracy: 0.97 - ETA: 1s - loss: 0.0745 - accuracy: 0.97 - ETA: 1s - loss: 0.0747 - accuracy: 0.97 - ETA: 1s - loss: 0.0749 - accuracy: 0.97 - ETA: 1s - loss: 0.0750 - accuracy: 0.97 - ETA: 1s - loss: 0.0748 - accuracy: 0.97 - ETA: 1s - loss: 0.0750 - accuracy: 0.97 - ETA: 1s - loss: 0.0749 - accuracy: 0.97 - ETA: 1s - loss: 0.0747 - accuracy: 0.97 - ETA: 1s - loss: 0.0745 - accuracy: 0.97 - ETA: 1s - loss: 0.0743 - accuracy: 0.97 - ETA: 0s - loss: 0.0746 - accuracy: 0.97 - ETA: 0s - loss: 0.0751 - accuracy: 0.97 - ETA: 0s - loss: 0.0754 - accuracy: 0.97 - ETA: 0s - loss: 0.0753 - accuracy: 0.97 - ETA: 0s - loss: 0.0756 - accuracy: 0.97 - ETA: 0s - loss: 0.0758 - accuracy: 0.97 - ETA: 0s - loss: 0.0756 - accuracy: 0.97 - ETA: 0s - loss: 0.0758 - accuracy: 0.97 - ETA: 0s - loss: 0.0762 - accuracy: 0.97 - ETA: 0s - loss: 0.0767 - accuracy: 0.97 - ETA: 0s - loss: 0.0769 - accuracy: 0.97 - ETA: 0s - loss: 0.0772 - accuracy: 0.97 - ETA: 0s - loss: 0.0774 - accuracy: 0.97 - ETA: 0s - loss: 0.0774 - accuracy: 0.97 - ETA: 0s - loss: 0.0776 - accuracy: 0.97 - 5s 23ms/step - loss: 0.0776 - accuracy: 0.9703 - val_loss: 0.1400 - val_accuracy: 0.9588\n",
      "Epoch 54/60\n",
      "228/228 [==============================] - ETA: 2s - loss: 0.0652 - accuracy: 0.97 - ETA: 4s - loss: 0.0602 - accuracy: 0.97 - ETA: 4s - loss: 0.0630 - accuracy: 0.97 - ETA: 4s - loss: 0.0636 - accuracy: 0.97 - ETA: 4s - loss: 0.0646 - accuracy: 0.97 - ETA: 4s - loss: 0.0660 - accuracy: 0.97 - ETA: 4s - loss: 0.0646 - accuracy: 0.97 - ETA: 4s - loss: 0.0669 - accuracy: 0.97 - ETA: 4s - loss: 0.0703 - accuracy: 0.97 - ETA: 4s - loss: 0.0711 - accuracy: 0.97 - ETA: 4s - loss: 0.0708 - accuracy: 0.97 - ETA: 4s - loss: 0.0716 - accuracy: 0.97 - ETA: 4s - loss: 0.0718 - accuracy: 0.97 - ETA: 4s - loss: 0.0719 - accuracy: 0.97 - ETA: 4s - loss: 0.0714 - accuracy: 0.97 - ETA: 4s - loss: 0.0720 - accuracy: 0.97 - ETA: 3s - loss: 0.0725 - accuracy: 0.97 - ETA: 3s - loss: 0.0720 - accuracy: 0.97 - ETA: 3s - loss: 0.0708 - accuracy: 0.97 - ETA: 3s - loss: 0.0723 - accuracy: 0.97 - ETA: 3s - loss: 0.0719 - accuracy: 0.97 - ETA: 3s - loss: 0.0720 - accuracy: 0.97 - ETA: 3s - loss: 0.0721 - accuracy: 0.97 - ETA: 3s - loss: 0.0722 - accuracy: 0.97 - ETA: 3s - loss: 0.0719 - accuracy: 0.97 - ETA: 3s - loss: 0.0724 - accuracy: 0.97 - ETA: 3s - loss: 0.0722 - accuracy: 0.97 - ETA: 3s - loss: 0.0733 - accuracy: 0.97 - ETA: 3s - loss: 0.0738 - accuracy: 0.97 - ETA: 3s - loss: 0.0745 - accuracy: 0.97 - ETA: 3s - loss: 0.0755 - accuracy: 0.97 - ETA: 2s - loss: 0.0763 - accuracy: 0.97 - ETA: 2s - loss: 0.0768 - accuracy: 0.97 - ETA: 2s - loss: 0.0777 - accuracy: 0.97 - ETA: 2s - loss: 0.0781 - accuracy: 0.97 - ETA: 2s - loss: 0.0782 - accuracy: 0.97 - ETA: 2s - loss: 0.0782 - accuracy: 0.97 - ETA: 2s - loss: 0.0778 - accuracy: 0.97 - ETA: 2s - loss: 0.0778 - accuracy: 0.97 - ETA: 2s - loss: 0.0778 - accuracy: 0.97 - ETA: 2s - loss: 0.0783 - accuracy: 0.96 - ETA: 2s - loss: 0.0784 - accuracy: 0.96 - ETA: 2s - loss: 0.0791 - accuracy: 0.96 - ETA: 2s - loss: 0.0793 - accuracy: 0.96 - ETA: 2s - loss: 0.0798 - accuracy: 0.96 - ETA: 2s - loss: 0.0800 - accuracy: 0.96 - ETA: 1s - loss: 0.0802 - accuracy: 0.96 - ETA: 1s - loss: 0.0797 - accuracy: 0.96 - ETA: 1s - loss: 0.0794 - accuracy: 0.96 - ETA: 1s - loss: 0.0793 - accuracy: 0.96 - ETA: 1s - loss: 0.0796 - accuracy: 0.96 - ETA: 1s - loss: 0.0797 - accuracy: 0.96 - ETA: 1s - loss: 0.0801 - accuracy: 0.96 - ETA: 1s - loss: 0.0800 - accuracy: 0.96 - ETA: 1s - loss: 0.0800 - accuracy: 0.96 - ETA: 1s - loss: 0.0797 - accuracy: 0.96 - ETA: 1s - loss: 0.0800 - accuracy: 0.96 - ETA: 1s - loss: 0.0803 - accuracy: 0.96 - ETA: 1s - loss: 0.0800 - accuracy: 0.96 - ETA: 1s - loss: 0.0800 - accuracy: 0.96 - ETA: 1s - loss: 0.0803 - accuracy: 0.96 - ETA: 0s - loss: 0.0805 - accuracy: 0.96 - ETA: 0s - loss: 0.0804 - accuracy: 0.96 - ETA: 0s - loss: 0.0802 - accuracy: 0.96 - ETA: 0s - loss: 0.0800 - accuracy: 0.96 - ETA: 0s - loss: 0.0799 - accuracy: 0.96 - ETA: 0s - loss: 0.0801 - accuracy: 0.96 - ETA: 0s - loss: 0.0797 - accuracy: 0.96 - ETA: 0s - loss: 0.0796 - accuracy: 0.96 - ETA: 0s - loss: 0.0798 - accuracy: 0.96 - ETA: 0s - loss: 0.0799 - accuracy: 0.96 - ETA: 0s - loss: 0.0800 - accuracy: 0.96 - ETA: 0s - loss: 0.0798 - accuracy: 0.96 - ETA: 0s - loss: 0.0805 - accuracy: 0.96 - ETA: 0s - loss: 0.0806 - accuracy: 0.96 - ETA: 0s - loss: 0.0808 - accuracy: 0.96 - 5s 23ms/step - loss: 0.0809 - accuracy: 0.9693 - val_loss: 0.1620 - val_accuracy: 0.9537\n",
      "Epoch 55/60\n"
     ]
    },
    {
     "name": "stdout",
     "output_type": "stream",
     "text": [
      "228/228 [==============================] - ETA: 2s - loss: 0.0512 - accuracy: 0.98 - ETA: 4s - loss: 0.0720 - accuracy: 0.97 - ETA: 4s - loss: 0.0704 - accuracy: 0.98 - ETA: 4s - loss: 0.0705 - accuracy: 0.97 - ETA: 4s - loss: 0.0670 - accuracy: 0.97 - ETA: 4s - loss: 0.0679 - accuracy: 0.97 - ETA: 4s - loss: 0.0699 - accuracy: 0.97 - ETA: 4s - loss: 0.0692 - accuracy: 0.97 - ETA: 4s - loss: 0.0709 - accuracy: 0.97 - ETA: 4s - loss: 0.0714 - accuracy: 0.97 - ETA: 4s - loss: 0.0723 - accuracy: 0.97 - ETA: 4s - loss: 0.0751 - accuracy: 0.97 - ETA: 4s - loss: 0.0744 - accuracy: 0.97 - ETA: 4s - loss: 0.0749 - accuracy: 0.97 - ETA: 4s - loss: 0.0744 - accuracy: 0.97 - ETA: 4s - loss: 0.0742 - accuracy: 0.97 - ETA: 3s - loss: 0.0736 - accuracy: 0.97 - ETA: 3s - loss: 0.0746 - accuracy: 0.97 - ETA: 3s - loss: 0.0744 - accuracy: 0.97 - ETA: 3s - loss: 0.0743 - accuracy: 0.97 - ETA: 3s - loss: 0.0746 - accuracy: 0.97 - ETA: 3s - loss: 0.0746 - accuracy: 0.97 - ETA: 3s - loss: 0.0748 - accuracy: 0.97 - ETA: 3s - loss: 0.0756 - accuracy: 0.97 - ETA: 3s - loss: 0.0760 - accuracy: 0.97 - ETA: 3s - loss: 0.0760 - accuracy: 0.97 - ETA: 3s - loss: 0.0763 - accuracy: 0.97 - ETA: 3s - loss: 0.0756 - accuracy: 0.97 - ETA: 3s - loss: 0.0759 - accuracy: 0.97 - ETA: 3s - loss: 0.0763 - accuracy: 0.97 - ETA: 3s - loss: 0.0757 - accuracy: 0.97 - ETA: 3s - loss: 0.0755 - accuracy: 0.97 - ETA: 2s - loss: 0.0754 - accuracy: 0.97 - ETA: 2s - loss: 0.0762 - accuracy: 0.97 - ETA: 2s - loss: 0.0762 - accuracy: 0.97 - ETA: 2s - loss: 0.0765 - accuracy: 0.97 - ETA: 2s - loss: 0.0767 - accuracy: 0.97 - ETA: 2s - loss: 0.0768 - accuracy: 0.97 - ETA: 2s - loss: 0.0770 - accuracy: 0.97 - ETA: 2s - loss: 0.0769 - accuracy: 0.97 - ETA: 2s - loss: 0.0765 - accuracy: 0.97 - ETA: 2s - loss: 0.0764 - accuracy: 0.97 - ETA: 2s - loss: 0.0764 - accuracy: 0.97 - ETA: 2s - loss: 0.0764 - accuracy: 0.97 - ETA: 2s - loss: 0.0766 - accuracy: 0.97 - ETA: 2s - loss: 0.0767 - accuracy: 0.97 - ETA: 2s - loss: 0.0765 - accuracy: 0.97 - ETA: 1s - loss: 0.0766 - accuracy: 0.97 - ETA: 1s - loss: 0.0768 - accuracy: 0.97 - ETA: 1s - loss: 0.0768 - accuracy: 0.97 - ETA: 1s - loss: 0.0769 - accuracy: 0.97 - ETA: 1s - loss: 0.0771 - accuracy: 0.97 - ETA: 1s - loss: 0.0772 - accuracy: 0.97 - ETA: 1s - loss: 0.0771 - accuracy: 0.97 - ETA: 1s - loss: 0.0771 - accuracy: 0.97 - ETA: 1s - loss: 0.0770 - accuracy: 0.97 - ETA: 1s - loss: 0.0770 - accuracy: 0.97 - ETA: 1s - loss: 0.0764 - accuracy: 0.97 - ETA: 1s - loss: 0.0765 - accuracy: 0.97 - ETA: 1s - loss: 0.0762 - accuracy: 0.97 - ETA: 1s - loss: 0.0762 - accuracy: 0.97 - ETA: 1s - loss: 0.0763 - accuracy: 0.97 - ETA: 0s - loss: 0.0760 - accuracy: 0.97 - ETA: 0s - loss: 0.0760 - accuracy: 0.97 - ETA: 0s - loss: 0.0758 - accuracy: 0.97 - ETA: 0s - loss: 0.0757 - accuracy: 0.97 - ETA: 0s - loss: 0.0753 - accuracy: 0.97 - ETA: 0s - loss: 0.0753 - accuracy: 0.97 - ETA: 0s - loss: 0.0751 - accuracy: 0.97 - ETA: 0s - loss: 0.0752 - accuracy: 0.97 - ETA: 0s - loss: 0.0752 - accuracy: 0.97 - ETA: 0s - loss: 0.0758 - accuracy: 0.97 - ETA: 0s - loss: 0.0760 - accuracy: 0.97 - ETA: 0s - loss: 0.0760 - accuracy: 0.97 - ETA: 0s - loss: 0.0760 - accuracy: 0.97 - ETA: 0s - loss: 0.0762 - accuracy: 0.97 - ETA: 0s - loss: 0.0761 - accuracy: 0.97 - 5s 23ms/step - loss: 0.0761 - accuracy: 0.9714 - val_loss: 0.1568 - val_accuracy: 0.9575\n",
      "Epoch 56/60\n",
      "228/228 [==============================] - ETA: 2s - loss: 0.1502 - accuracy: 0.97 - ETA: 4s - loss: 0.0866 - accuracy: 0.97 - ETA: 4s - loss: 0.0713 - accuracy: 0.97 - ETA: 4s - loss: 0.0706 - accuracy: 0.97 - ETA: 4s - loss: 0.0678 - accuracy: 0.97 - ETA: 4s - loss: 0.0687 - accuracy: 0.97 - ETA: 4s - loss: 0.0672 - accuracy: 0.97 - ETA: 4s - loss: 0.0683 - accuracy: 0.97 - ETA: 4s - loss: 0.0681 - accuracy: 0.97 - ETA: 4s - loss: 0.0713 - accuracy: 0.97 - ETA: 4s - loss: 0.0702 - accuracy: 0.97 - ETA: 4s - loss: 0.0713 - accuracy: 0.97 - ETA: 4s - loss: 0.0712 - accuracy: 0.97 - ETA: 4s - loss: 0.0721 - accuracy: 0.97 - ETA: 4s - loss: 0.0725 - accuracy: 0.97 - ETA: 4s - loss: 0.0732 - accuracy: 0.97 - ETA: 3s - loss: 0.0741 - accuracy: 0.97 - ETA: 3s - loss: 0.0733 - accuracy: 0.97 - ETA: 3s - loss: 0.0731 - accuracy: 0.97 - ETA: 3s - loss: 0.0728 - accuracy: 0.97 - ETA: 3s - loss: 0.0731 - accuracy: 0.97 - ETA: 3s - loss: 0.0728 - accuracy: 0.97 - ETA: 3s - loss: 0.0735 - accuracy: 0.97 - ETA: 3s - loss: 0.0733 - accuracy: 0.97 - ETA: 3s - loss: 0.0732 - accuracy: 0.97 - ETA: 3s - loss: 0.0732 - accuracy: 0.97 - ETA: 3s - loss: 0.0737 - accuracy: 0.97 - ETA: 3s - loss: 0.0743 - accuracy: 0.97 - ETA: 3s - loss: 0.0742 - accuracy: 0.97 - ETA: 3s - loss: 0.0742 - accuracy: 0.97 - ETA: 3s - loss: 0.0747 - accuracy: 0.97 - ETA: 2s - loss: 0.0739 - accuracy: 0.97 - ETA: 2s - loss: 0.0740 - accuracy: 0.97 - ETA: 2s - loss: 0.0743 - accuracy: 0.97 - ETA: 2s - loss: 0.0754 - accuracy: 0.97 - ETA: 2s - loss: 0.0752 - accuracy: 0.97 - ETA: 2s - loss: 0.0764 - accuracy: 0.97 - ETA: 2s - loss: 0.0759 - accuracy: 0.97 - ETA: 2s - loss: 0.0767 - accuracy: 0.97 - ETA: 2s - loss: 0.0763 - accuracy: 0.97 - ETA: 2s - loss: 0.0761 - accuracy: 0.97 - ETA: 2s - loss: 0.0761 - accuracy: 0.97 - ETA: 2s - loss: 0.0761 - accuracy: 0.97 - ETA: 2s - loss: 0.0764 - accuracy: 0.97 - ETA: 2s - loss: 0.0762 - accuracy: 0.97 - ETA: 2s - loss: 0.0760 - accuracy: 0.97 - ETA: 1s - loss: 0.0766 - accuracy: 0.97 - ETA: 1s - loss: 0.0764 - accuracy: 0.97 - ETA: 1s - loss: 0.0762 - accuracy: 0.97 - ETA: 1s - loss: 0.0761 - accuracy: 0.97 - ETA: 1s - loss: 0.0760 - accuracy: 0.97 - ETA: 1s - loss: 0.0763 - accuracy: 0.97 - ETA: 1s - loss: 0.0763 - accuracy: 0.97 - ETA: 1s - loss: 0.0760 - accuracy: 0.97 - ETA: 1s - loss: 0.0759 - accuracy: 0.97 - ETA: 1s - loss: 0.0756 - accuracy: 0.97 - ETA: 1s - loss: 0.0754 - accuracy: 0.97 - ETA: 1s - loss: 0.0755 - accuracy: 0.97 - ETA: 1s - loss: 0.0758 - accuracy: 0.97 - ETA: 1s - loss: 0.0758 - accuracy: 0.97 - ETA: 1s - loss: 0.0762 - accuracy: 0.97 - ETA: 0s - loss: 0.0764 - accuracy: 0.97 - ETA: 0s - loss: 0.0762 - accuracy: 0.97 - ETA: 0s - loss: 0.0760 - accuracy: 0.97 - ETA: 0s - loss: 0.0763 - accuracy: 0.97 - ETA: 0s - loss: 0.0761 - accuracy: 0.97 - ETA: 0s - loss: 0.0763 - accuracy: 0.97 - ETA: 0s - loss: 0.0761 - accuracy: 0.97 - ETA: 0s - loss: 0.0762 - accuracy: 0.97 - ETA: 0s - loss: 0.0765 - accuracy: 0.97 - ETA: 0s - loss: 0.0767 - accuracy: 0.97 - ETA: 0s - loss: 0.0768 - accuracy: 0.97 - ETA: 0s - loss: 0.0770 - accuracy: 0.97 - ETA: 0s - loss: 0.0770 - accuracy: 0.97 - ETA: 0s - loss: 0.0775 - accuracy: 0.97 - ETA: 0s - loss: 0.0777 - accuracy: 0.97 - 5s 23ms/step - loss: 0.0778 - accuracy: 0.9713 - val_loss: 0.1466 - val_accuracy: 0.9565\n",
      "Epoch 57/60\n"
     ]
    },
    {
     "name": "stdout",
     "output_type": "stream",
     "text": [
      "228/228 [==============================] - ETA: 2s - loss: 0.0851 - accuracy: 0.97 - ETA: 4s - loss: 0.0811 - accuracy: 0.96 - ETA: 4s - loss: 0.0806 - accuracy: 0.96 - ETA: 4s - loss: 0.0733 - accuracy: 0.97 - ETA: 4s - loss: 0.0811 - accuracy: 0.96 - ETA: 4s - loss: 0.0771 - accuracy: 0.97 - ETA: 4s - loss: 0.0757 - accuracy: 0.97 - ETA: 4s - loss: 0.0753 - accuracy: 0.97 - ETA: 4s - loss: 0.0768 - accuracy: 0.97 - ETA: 4s - loss: 0.0778 - accuracy: 0.97 - ETA: 4s - loss: 0.0775 - accuracy: 0.97 - ETA: 4s - loss: 0.0783 - accuracy: 0.97 - ETA: 4s - loss: 0.0770 - accuracy: 0.97 - ETA: 4s - loss: 0.0760 - accuracy: 0.97 - ETA: 4s - loss: 0.0764 - accuracy: 0.97 - ETA: 4s - loss: 0.0759 - accuracy: 0.97 - ETA: 3s - loss: 0.0752 - accuracy: 0.97 - ETA: 3s - loss: 0.0757 - accuracy: 0.97 - ETA: 3s - loss: 0.0756 - accuracy: 0.97 - ETA: 3s - loss: 0.0765 - accuracy: 0.97 - ETA: 3s - loss: 0.0774 - accuracy: 0.97 - ETA: 3s - loss: 0.0776 - accuracy: 0.97 - ETA: 3s - loss: 0.0776 - accuracy: 0.97 - ETA: 3s - loss: 0.0776 - accuracy: 0.97 - ETA: 3s - loss: 0.0774 - accuracy: 0.97 - ETA: 3s - loss: 0.0765 - accuracy: 0.97 - ETA: 3s - loss: 0.0776 - accuracy: 0.97 - ETA: 3s - loss: 0.0771 - accuracy: 0.97 - ETA: 3s - loss: 0.0768 - accuracy: 0.97 - ETA: 3s - loss: 0.0772 - accuracy: 0.97 - ETA: 3s - loss: 0.0769 - accuracy: 0.97 - ETA: 2s - loss: 0.0766 - accuracy: 0.97 - ETA: 2s - loss: 0.0761 - accuracy: 0.97 - ETA: 2s - loss: 0.0769 - accuracy: 0.97 - ETA: 2s - loss: 0.0768 - accuracy: 0.97 - ETA: 2s - loss: 0.0767 - accuracy: 0.97 - ETA: 2s - loss: 0.0775 - accuracy: 0.97 - ETA: 2s - loss: 0.0781 - accuracy: 0.97 - ETA: 2s - loss: 0.0779 - accuracy: 0.97 - ETA: 2s - loss: 0.0778 - accuracy: 0.97 - ETA: 2s - loss: 0.0779 - accuracy: 0.97 - ETA: 2s - loss: 0.0784 - accuracy: 0.97 - ETA: 2s - loss: 0.0785 - accuracy: 0.97 - ETA: 2s - loss: 0.0785 - accuracy: 0.97 - ETA: 2s - loss: 0.0785 - accuracy: 0.97 - ETA: 2s - loss: 0.0784 - accuracy: 0.97 - ETA: 1s - loss: 0.0780 - accuracy: 0.97 - ETA: 1s - loss: 0.0776 - accuracy: 0.97 - ETA: 1s - loss: 0.0775 - accuracy: 0.97 - ETA: 1s - loss: 0.0772 - accuracy: 0.97 - ETA: 1s - loss: 0.0774 - accuracy: 0.97 - ETA: 1s - loss: 0.0777 - accuracy: 0.97 - ETA: 1s - loss: 0.0776 - accuracy: 0.97 - ETA: 1s - loss: 0.0779 - accuracy: 0.97 - ETA: 1s - loss: 0.0777 - accuracy: 0.97 - ETA: 1s - loss: 0.0778 - accuracy: 0.97 - ETA: 1s - loss: 0.0778 - accuracy: 0.97 - ETA: 1s - loss: 0.0782 - accuracy: 0.97 - ETA: 1s - loss: 0.0782 - accuracy: 0.97 - ETA: 1s - loss: 0.0785 - accuracy: 0.97 - ETA: 1s - loss: 0.0784 - accuracy: 0.97 - ETA: 0s - loss: 0.0785 - accuracy: 0.97 - ETA: 0s - loss: 0.0785 - accuracy: 0.97 - ETA: 0s - loss: 0.0783 - accuracy: 0.97 - ETA: 0s - loss: 0.0784 - accuracy: 0.97 - ETA: 0s - loss: 0.0786 - accuracy: 0.97 - ETA: 0s - loss: 0.0788 - accuracy: 0.97 - ETA: 0s - loss: 0.0788 - accuracy: 0.97 - ETA: 0s - loss: 0.0786 - accuracy: 0.97 - ETA: 0s - loss: 0.0786 - accuracy: 0.97 - ETA: 0s - loss: 0.0786 - accuracy: 0.97 - ETA: 0s - loss: 0.0788 - accuracy: 0.97 - ETA: 0s - loss: 0.0788 - accuracy: 0.97 - ETA: 0s - loss: 0.0786 - accuracy: 0.97 - ETA: 0s - loss: 0.0788 - accuracy: 0.97 - ETA: 0s - loss: 0.0790 - accuracy: 0.97 - 5s 23ms/step - loss: 0.0790 - accuracy: 0.9706 - val_loss: 0.1447 - val_accuracy: 0.9609\n",
      "Epoch 58/60\n",
      "228/228 [==============================] - ETA: 2s - loss: 0.0692 - accuracy: 0.97 - ETA: 4s - loss: 0.0707 - accuracy: 0.97 - ETA: 4s - loss: 0.0750 - accuracy: 0.97 - ETA: 4s - loss: 0.0828 - accuracy: 0.97 - ETA: 4s - loss: 0.0836 - accuracy: 0.97 - ETA: 4s - loss: 0.0833 - accuracy: 0.97 - ETA: 4s - loss: 0.0832 - accuracy: 0.97 - ETA: 4s - loss: 0.0796 - accuracy: 0.97 - ETA: 4s - loss: 0.0774 - accuracy: 0.97 - ETA: 4s - loss: 0.0755 - accuracy: 0.97 - ETA: 4s - loss: 0.0745 - accuracy: 0.97 - ETA: 4s - loss: 0.0724 - accuracy: 0.97 - ETA: 4s - loss: 0.0726 - accuracy: 0.97 - ETA: 4s - loss: 0.0735 - accuracy: 0.97 - ETA: 4s - loss: 0.0734 - accuracy: 0.97 - ETA: 4s - loss: 0.0742 - accuracy: 0.97 - ETA: 3s - loss: 0.0741 - accuracy: 0.97 - ETA: 3s - loss: 0.0727 - accuracy: 0.97 - ETA: 3s - loss: 0.0734 - accuracy: 0.97 - ETA: 3s - loss: 0.0728 - accuracy: 0.97 - ETA: 3s - loss: 0.0729 - accuracy: 0.97 - ETA: 3s - loss: 0.0725 - accuracy: 0.97 - ETA: 3s - loss: 0.0729 - accuracy: 0.97 - ETA: 3s - loss: 0.0730 - accuracy: 0.97 - ETA: 3s - loss: 0.0736 - accuracy: 0.97 - ETA: 3s - loss: 0.0731 - accuracy: 0.97 - ETA: 3s - loss: 0.0722 - accuracy: 0.97 - ETA: 3s - loss: 0.0724 - accuracy: 0.97 - ETA: 3s - loss: 0.0721 - accuracy: 0.97 - ETA: 3s - loss: 0.0723 - accuracy: 0.97 - ETA: 3s - loss: 0.0727 - accuracy: 0.97 - ETA: 2s - loss: 0.0729 - accuracy: 0.97 - ETA: 2s - loss: 0.0727 - accuracy: 0.97 - ETA: 2s - loss: 0.0726 - accuracy: 0.97 - ETA: 2s - loss: 0.0723 - accuracy: 0.97 - ETA: 2s - loss: 0.0730 - accuracy: 0.97 - ETA: 2s - loss: 0.0727 - accuracy: 0.97 - ETA: 2s - loss: 0.0729 - accuracy: 0.97 - ETA: 2s - loss: 0.0732 - accuracy: 0.97 - ETA: 2s - loss: 0.0733 - accuracy: 0.97 - ETA: 2s - loss: 0.0733 - accuracy: 0.97 - ETA: 2s - loss: 0.0735 - accuracy: 0.97 - ETA: 2s - loss: 0.0733 - accuracy: 0.97 - ETA: 2s - loss: 0.0733 - accuracy: 0.97 - ETA: 2s - loss: 0.0731 - accuracy: 0.97 - ETA: 2s - loss: 0.0734 - accuracy: 0.97 - ETA: 1s - loss: 0.0731 - accuracy: 0.97 - ETA: 1s - loss: 0.0728 - accuracy: 0.97 - ETA: 1s - loss: 0.0729 - accuracy: 0.97 - ETA: 1s - loss: 0.0728 - accuracy: 0.97 - ETA: 1s - loss: 0.0734 - accuracy: 0.97 - ETA: 1s - loss: 0.0737 - accuracy: 0.97 - ETA: 1s - loss: 0.0736 - accuracy: 0.97 - ETA: 1s - loss: 0.0734 - accuracy: 0.97 - ETA: 1s - loss: 0.0735 - accuracy: 0.97 - ETA: 1s - loss: 0.0734 - accuracy: 0.97 - ETA: 1s - loss: 0.0734 - accuracy: 0.97 - ETA: 1s - loss: 0.0733 - accuracy: 0.97 - ETA: 1s - loss: 0.0733 - accuracy: 0.97 - ETA: 1s - loss: 0.0732 - accuracy: 0.97 - ETA: 1s - loss: 0.0734 - accuracy: 0.97 - ETA: 1s - loss: 0.0734 - accuracy: 0.97 - ETA: 0s - loss: 0.0737 - accuracy: 0.97 - ETA: 0s - loss: 0.0736 - accuracy: 0.97 - ETA: 0s - loss: 0.0736 - accuracy: 0.97 - ETA: 0s - loss: 0.0738 - accuracy: 0.97 - ETA: 0s - loss: 0.0737 - accuracy: 0.97 - ETA: 0s - loss: 0.0736 - accuracy: 0.97 - ETA: 0s - loss: 0.0738 - accuracy: 0.97 - ETA: 0s - loss: 0.0743 - accuracy: 0.97 - ETA: 0s - loss: 0.0746 - accuracy: 0.97 - ETA: 0s - loss: 0.0748 - accuracy: 0.97 - ETA: 0s - loss: 0.0749 - accuracy: 0.97 - ETA: 0s - loss: 0.0746 - accuracy: 0.97 - ETA: 0s - loss: 0.0746 - accuracy: 0.97 - ETA: 0s - loss: 0.0750 - accuracy: 0.97 - ETA: 0s - loss: 0.0746 - accuracy: 0.97 - 5s 23ms/step - loss: 0.0746 - accuracy: 0.9722 - val_loss: 0.1374 - val_accuracy: 0.9611\n",
      "Epoch 59/60\n"
     ]
    },
    {
     "name": "stdout",
     "output_type": "stream",
     "text": [
      "228/228 [==============================] - ETA: 2s - loss: 0.1093 - accuracy: 0.97 - ETA: 4s - loss: 0.0813 - accuracy: 0.97 - ETA: 4s - loss: 0.0793 - accuracy: 0.97 - ETA: 4s - loss: 0.0693 - accuracy: 0.97 - ETA: 4s - loss: 0.0648 - accuracy: 0.97 - ETA: 4s - loss: 0.0635 - accuracy: 0.97 - ETA: 4s - loss: 0.0612 - accuracy: 0.97 - ETA: 4s - loss: 0.0643 - accuracy: 0.97 - ETA: 4s - loss: 0.0641 - accuracy: 0.97 - ETA: 4s - loss: 0.0648 - accuracy: 0.97 - ETA: 4s - loss: 0.0665 - accuracy: 0.97 - ETA: 4s - loss: 0.0667 - accuracy: 0.97 - ETA: 4s - loss: 0.0657 - accuracy: 0.97 - ETA: 4s - loss: 0.0651 - accuracy: 0.97 - ETA: 4s - loss: 0.0681 - accuracy: 0.97 - ETA: 4s - loss: 0.0674 - accuracy: 0.97 - ETA: 3s - loss: 0.0694 - accuracy: 0.97 - ETA: 3s - loss: 0.0699 - accuracy: 0.97 - ETA: 3s - loss: 0.0699 - accuracy: 0.97 - ETA: 3s - loss: 0.0692 - accuracy: 0.97 - ETA: 3s - loss: 0.0703 - accuracy: 0.97 - ETA: 3s - loss: 0.0708 - accuracy: 0.97 - ETA: 3s - loss: 0.0703 - accuracy: 0.97 - ETA: 3s - loss: 0.0701 - accuracy: 0.97 - ETA: 3s - loss: 0.0714 - accuracy: 0.97 - ETA: 3s - loss: 0.0706 - accuracy: 0.97 - ETA: 3s - loss: 0.0708 - accuracy: 0.97 - ETA: 3s - loss: 0.0713 - accuracy: 0.97 - ETA: 3s - loss: 0.0720 - accuracy: 0.97 - ETA: 3s - loss: 0.0722 - accuracy: 0.97 - ETA: 3s - loss: 0.0729 - accuracy: 0.97 - ETA: 2s - loss: 0.0730 - accuracy: 0.97 - ETA: 2s - loss: 0.0728 - accuracy: 0.97 - ETA: 2s - loss: 0.0729 - accuracy: 0.97 - ETA: 2s - loss: 0.0724 - accuracy: 0.97 - ETA: 2s - loss: 0.0728 - accuracy: 0.97 - ETA: 2s - loss: 0.0729 - accuracy: 0.97 - ETA: 2s - loss: 0.0728 - accuracy: 0.97 - ETA: 2s - loss: 0.0729 - accuracy: 0.97 - ETA: 2s - loss: 0.0732 - accuracy: 0.97 - ETA: 2s - loss: 0.0732 - accuracy: 0.97 - ETA: 2s - loss: 0.0735 - accuracy: 0.97 - ETA: 2s - loss: 0.0736 - accuracy: 0.97 - ETA: 2s - loss: 0.0734 - accuracy: 0.97 - ETA: 2s - loss: 0.0732 - accuracy: 0.97 - ETA: 2s - loss: 0.0733 - accuracy: 0.97 - ETA: 1s - loss: 0.0731 - accuracy: 0.97 - ETA: 1s - loss: 0.0730 - accuracy: 0.97 - ETA: 1s - loss: 0.0731 - accuracy: 0.97 - ETA: 1s - loss: 0.0735 - accuracy: 0.97 - ETA: 1s - loss: 0.0736 - accuracy: 0.97 - ETA: 1s - loss: 0.0735 - accuracy: 0.97 - ETA: 1s - loss: 0.0733 - accuracy: 0.97 - ETA: 1s - loss: 0.0734 - accuracy: 0.97 - ETA: 1s - loss: 0.0733 - accuracy: 0.97 - ETA: 1s - loss: 0.0736 - accuracy: 0.97 - ETA: 1s - loss: 0.0734 - accuracy: 0.97 - ETA: 1s - loss: 0.0730 - accuracy: 0.97 - ETA: 1s - loss: 0.0729 - accuracy: 0.97 - ETA: 1s - loss: 0.0729 - accuracy: 0.97 - ETA: 1s - loss: 0.0730 - accuracy: 0.97 - ETA: 0s - loss: 0.0730 - accuracy: 0.97 - ETA: 0s - loss: 0.0731 - accuracy: 0.97 - ETA: 0s - loss: 0.0730 - accuracy: 0.97 - ETA: 0s - loss: 0.0732 - accuracy: 0.97 - ETA: 0s - loss: 0.0732 - accuracy: 0.97 - ETA: 0s - loss: 0.0729 - accuracy: 0.97 - ETA: 0s - loss: 0.0730 - accuracy: 0.97 - ETA: 0s - loss: 0.0727 - accuracy: 0.97 - ETA: 0s - loss: 0.0727 - accuracy: 0.97 - ETA: 0s - loss: 0.0731 - accuracy: 0.97 - ETA: 0s - loss: 0.0732 - accuracy: 0.97 - ETA: 0s - loss: 0.0731 - accuracy: 0.97 - ETA: 0s - loss: 0.0731 - accuracy: 0.97 - ETA: 0s - loss: 0.0728 - accuracy: 0.97 - ETA: 0s - loss: 0.0727 - accuracy: 0.97 - 5s 23ms/step - loss: 0.0727 - accuracy: 0.9719 - val_loss: 0.1432 - val_accuracy: 0.9616\n",
      "Epoch 60/60\n",
      "228/228 [==============================] - ETA: 2s - loss: 0.0835 - accuracy: 0.97 - ETA: 4s - loss: 0.0775 - accuracy: 0.97 - ETA: 4s - loss: 0.0648 - accuracy: 0.97 - ETA: 4s - loss: 0.0650 - accuracy: 0.97 - ETA: 4s - loss: 0.0627 - accuracy: 0.97 - ETA: 4s - loss: 0.0643 - accuracy: 0.97 - ETA: 4s - loss: 0.0674 - accuracy: 0.97 - ETA: 4s - loss: 0.0667 - accuracy: 0.97 - ETA: 4s - loss: 0.0709 - accuracy: 0.97 - ETA: 4s - loss: 0.0700 - accuracy: 0.97 - ETA: 4s - loss: 0.0693 - accuracy: 0.97 - ETA: 4s - loss: 0.0685 - accuracy: 0.97 - ETA: 4s - loss: 0.0661 - accuracy: 0.97 - ETA: 4s - loss: 0.0648 - accuracy: 0.97 - ETA: 4s - loss: 0.0655 - accuracy: 0.97 - ETA: 3s - loss: 0.0654 - accuracy: 0.97 - ETA: 3s - loss: 0.0656 - accuracy: 0.97 - ETA: 3s - loss: 0.0655 - accuracy: 0.97 - ETA: 3s - loss: 0.0660 - accuracy: 0.97 - ETA: 3s - loss: 0.0657 - accuracy: 0.97 - ETA: 3s - loss: 0.0658 - accuracy: 0.97 - ETA: 3s - loss: 0.0657 - accuracy: 0.97 - ETA: 3s - loss: 0.0655 - accuracy: 0.97 - ETA: 3s - loss: 0.0652 - accuracy: 0.97 - ETA: 3s - loss: 0.0654 - accuracy: 0.97 - ETA: 3s - loss: 0.0650 - accuracy: 0.97 - ETA: 3s - loss: 0.0647 - accuracy: 0.97 - ETA: 3s - loss: 0.0657 - accuracy: 0.97 - ETA: 3s - loss: 0.0662 - accuracy: 0.97 - ETA: 3s - loss: 0.0661 - accuracy: 0.97 - ETA: 3s - loss: 0.0663 - accuracy: 0.97 - ETA: 2s - loss: 0.0665 - accuracy: 0.97 - ETA: 2s - loss: 0.0663 - accuracy: 0.97 - ETA: 2s - loss: 0.0666 - accuracy: 0.97 - ETA: 2s - loss: 0.0662 - accuracy: 0.97 - ETA: 2s - loss: 0.0666 - accuracy: 0.97 - ETA: 2s - loss: 0.0661 - accuracy: 0.97 - ETA: 2s - loss: 0.0665 - accuracy: 0.97 - ETA: 2s - loss: 0.0675 - accuracy: 0.97 - ETA: 2s - loss: 0.0674 - accuracy: 0.97 - ETA: 2s - loss: 0.0683 - accuracy: 0.97 - ETA: 2s - loss: 0.0692 - accuracy: 0.97 - ETA: 2s - loss: 0.0691 - accuracy: 0.97 - ETA: 2s - loss: 0.0698 - accuracy: 0.97 - ETA: 2s - loss: 0.0696 - accuracy: 0.97 - ETA: 2s - loss: 0.0698 - accuracy: 0.97 - ETA: 1s - loss: 0.0700 - accuracy: 0.97 - ETA: 1s - loss: 0.0701 - accuracy: 0.97 - ETA: 1s - loss: 0.0699 - accuracy: 0.97 - ETA: 1s - loss: 0.0704 - accuracy: 0.97 - ETA: 1s - loss: 0.0704 - accuracy: 0.97 - ETA: 1s - loss: 0.0702 - accuracy: 0.97 - ETA: 1s - loss: 0.0706 - accuracy: 0.97 - ETA: 1s - loss: 0.0717 - accuracy: 0.97 - ETA: 1s - loss: 0.0719 - accuracy: 0.97 - ETA: 1s - loss: 0.0721 - accuracy: 0.97 - ETA: 1s - loss: 0.0720 - accuracy: 0.97 - ETA: 1s - loss: 0.0724 - accuracy: 0.97 - ETA: 1s - loss: 0.0729 - accuracy: 0.97 - ETA: 1s - loss: 0.0732 - accuracy: 0.97 - ETA: 1s - loss: 0.0734 - accuracy: 0.97 - ETA: 0s - loss: 0.0734 - accuracy: 0.97 - ETA: 0s - loss: 0.0734 - accuracy: 0.97 - ETA: 0s - loss: 0.0735 - accuracy: 0.97 - ETA: 0s - loss: 0.0737 - accuracy: 0.97 - ETA: 0s - loss: 0.0740 - accuracy: 0.97 - ETA: 0s - loss: 0.0740 - accuracy: 0.97 - ETA: 0s - loss: 0.0743 - accuracy: 0.97 - ETA: 0s - loss: 0.0747 - accuracy: 0.97 - ETA: 0s - loss: 0.0745 - accuracy: 0.97 - ETA: 0s - loss: 0.0745 - accuracy: 0.97 - ETA: 0s - loss: 0.0744 - accuracy: 0.97 - ETA: 0s - loss: 0.0745 - accuracy: 0.97 - ETA: 0s - loss: 0.0746 - accuracy: 0.97 - ETA: 0s - loss: 0.0744 - accuracy: 0.97 - ETA: 0s - loss: 0.0740 - accuracy: 0.97 - ETA: 0s - loss: 0.0738 - accuracy: 0.97 - 5s 23ms/step - loss: 0.0738 - accuracy: 0.9725 - val_loss: 0.1349 - val_accuracy: 0.9629\n"
     ]
    },
    {
     "data": {
      "text/plain": [
       "<tensorflow.python.keras.callbacks.History at 0x1421c9a3f98>"
      ]
     },
     "execution_count": 13,
     "metadata": {},
     "output_type": "execute_result"
    }
   ],
   "source": [
    "model.fit(X_train, y_train, \n",
    "         batch_size=batch_size, epochs=epochs, verbose=1, \n",
    "         validation_data=(X_valid, y_valid), \n",
    "         callbacks=[modelcheckpoint])\n",
    "\n",
    "# model.fit(x_train, y_train, \n",
    "#           batch_size=batch_size, epochs=epochs, verbose=1, \n",
    "#           validation_data=(x_valid, y_valid))"
   ]
  },
  {
   "cell_type": "markdown",
   "metadata": {
    "colab_type": "text",
    "id": "7PWlH5SJ8JmP"
   },
   "source": [
    "#### Evaluate"
   ]
  },
  {
   "cell_type": "code",
   "execution_count": 38,
   "metadata": {
    "colab": {},
    "colab_type": "code",
    "id": "z8t0nVCw8JmP"
   },
   "outputs": [],
   "source": [
    "model.load_weights(output_dir+\"/weights.60.hdf5\") # 96.29 val accuracy"
   ]
  },
  {
   "cell_type": "code",
   "execution_count": 39,
   "metadata": {
    "colab": {},
    "colab_type": "code",
    "id": "kZwGk5dR8JmS"
   },
   "outputs": [],
   "source": [
    "y_hat = model.predict(X_valid)"
   ]
  },
  {
   "cell_type": "code",
   "execution_count": 40,
   "metadata": {
    "colab": {},
    "colab_type": "code",
    "id": "EPc5_h6K8JmW",
    "outputId": "cad99da9-9f89-437f-854b-a315616ed50f"
   },
   "outputs": [
    {
     "data": {
      "text/plain": [
       "6476"
      ]
     },
     "execution_count": 40,
     "metadata": {},
     "output_type": "execute_result"
    }
   ],
   "source": [
    "len(y_hat)"
   ]
  },
  {
   "cell_type": "code",
   "execution_count": 41,
   "metadata": {
    "colab": {},
    "colab_type": "code",
    "id": "E_GNq-R_8JmZ",
    "outputId": "0fc16efe-7739-4394-f1a3-46da92e79584"
   },
   "outputs": [
    {
     "data": {
      "text/plain": [
       "array([1.01574382e-03, 2.11948636e-09, 1.23992641e-06, 1.15187495e-08,\n",
       "       9.09587652e-06, 9.98973966e-01], dtype=float32)"
      ]
     },
     "execution_count": 41,
     "metadata": {},
     "output_type": "execute_result"
    }
   ],
   "source": [
    "y_hat[0]"
   ]
  },
  {
   "cell_type": "code",
   "execution_count": 42,
   "metadata": {
    "colab": {},
    "colab_type": "code",
    "id": "SFqRQ5XB8Jmc",
    "outputId": "a957fbed-92f8-4bdd-d24b-5df3361a8bac"
   },
   "outputs": [
    {
     "data": {
      "text/plain": [
       "array([0., 0., 0., 0., 0., 1.], dtype=float32)"
      ]
     },
     "execution_count": 42,
     "metadata": {},
     "output_type": "execute_result"
    }
   ],
   "source": [
    "y_valid[0]"
   ]
  },
  {
   "cell_type": "code",
   "execution_count": 43,
   "metadata": {
    "colab": {},
    "colab_type": "code",
    "id": "FTWf6Cf-8Jme",
    "outputId": "1256b170-33dc-4171-f2ff-7a3d7ddd74e3"
   },
   "outputs": [
    {
     "data": {
      "image/png": "[encoded data removed]",
      "text/plain": [
       "<Figure size 432x288 with 1 Axes>"
      ]
     },
     "metadata": {
      "needs_background": "light"
     },
     "output_type": "display_data"
    }
   ],
   "source": [
    "plt.hist(y_hat)\n",
    "_ = plt.axvline(x=0.5, color='orange')"
   ]
  },
  {
   "cell_type": "code",
   "execution_count": 44,
   "metadata": {
    "colab": {},
    "colab_type": "code",
    "id": "RNljSx3v8Jmh"
   },
   "outputs": [],
   "source": [
    "pct_auc = roc_auc_score(y_valid, y_hat)*100.0"
   ]
  },
  {
   "cell_type": "code",
   "execution_count": 45,
   "metadata": {
    "colab": {},
    "colab_type": "code",
    "id": "SO_N9lJG8Jmj",
    "outputId": "20968a52-8ca0-44d3-abf6-a1382bba5cde"
   },
   "outputs": [
    {
     "data": {
      "text/plain": [
       "'99.82'"
      ]
     },
     "execution_count": 45,
     "metadata": {},
     "output_type": "execute_result"
    }
   ],
   "source": [
    "\"{:0.2f}\".format(pct_auc)"
   ]
  },
  {
   "cell_type": "code",
   "execution_count": 46,
   "metadata": {
    "colab": {},
    "colab_type": "code",
    "id": "vU3hnA298Jmo"
   },
   "outputs": [],
   "source": [
    "float_y_hat = []\n",
    "for y in y_hat:\n",
    "    float_y_hat.append(y[0:6].round(3))"
   ]
  },
  {
   "cell_type": "code",
   "execution_count": 47,
   "metadata": {
    "colab": {},
    "colab_type": "code",
    "id": "zrTf-aQl8Jmr"
   },
   "outputs": [],
   "source": [
    "ydf = pd.DataFrame(list(zip(float_y_hat, y_valid)), columns=['y_hat', 'y'])"
   ]
  },
  {
   "cell_type": "code",
   "execution_count": 48,
   "metadata": {
    "colab": {},
    "colab_type": "code",
    "id": "zAyKh_mX8Jmu",
    "outputId": "611224b8-f980-47df-d596-9aa3a5811009"
   },
   "outputs": [
    {
     "data": {
      "text/html": [
       "<div>\n",
       "<style scoped>\n",
       "    .dataframe tbody tr th:only-of-type {\n",
       "        vertical-align: middle;\n",
       "    }\n",
       "\n",
       "    .dataframe tbody tr th {\n",
       "        vertical-align: top;\n",
       "    }\n",
       "\n",
       "    .dataframe thead th {\n",
       "        text-align: right;\n",
       "    }\n",
       "</style>\n",
       "<table border=\"1\" class=\"dataframe\">\n",
       "  <thead>\n",
       "    <tr style=\"text-align: right;\">\n",
       "      <th></th>\n",
       "      <th>y_hat</th>\n",
       "      <th>y</th>\n",
       "    </tr>\n",
       "  </thead>\n",
       "  <tbody>\n",
       "    <tr>\n",
       "      <th>0</th>\n",
       "      <td>[0.001, 0.0, 0.0, 0.0, 0.0, 0.999]</td>\n",
       "      <td>[0.0, 0.0, 0.0, 0.0, 0.0, 1.0]</td>\n",
       "    </tr>\n",
       "    <tr>\n",
       "      <th>1</th>\n",
       "      <td>[0.0, 0.0, 1.0, 0.0, 0.0, 0.0]</td>\n",
       "      <td>[0.0, 0.0, 1.0, 0.0, 0.0, 0.0]</td>\n",
       "    </tr>\n",
       "    <tr>\n",
       "      <th>2</th>\n",
       "      <td>[0.0, 0.915, 0.084, 0.001, 0.0, 0.0]</td>\n",
       "      <td>[0.0, 1.0, 0.0, 0.0, 0.0, 0.0]</td>\n",
       "    </tr>\n",
       "    <tr>\n",
       "      <th>3</th>\n",
       "      <td>[1.0, 0.0, 0.0, 0.0, 0.0, 0.0]</td>\n",
       "      <td>[1.0, 0.0, 0.0, 0.0, 0.0, 0.0]</td>\n",
       "    </tr>\n",
       "    <tr>\n",
       "      <th>4</th>\n",
       "      <td>[0.0, 1.0, 0.0, 0.0, 0.0, 0.0]</td>\n",
       "      <td>[0.0, 1.0, 0.0, 0.0, 0.0, 0.0]</td>\n",
       "    </tr>\n",
       "    <tr>\n",
       "      <th>5</th>\n",
       "      <td>[0.007, 0.0, 0.0, 0.0, 0.0, 0.993]</td>\n",
       "      <td>[0.0, 0.0, 0.0, 0.0, 0.0, 1.0]</td>\n",
       "    </tr>\n",
       "    <tr>\n",
       "      <th>6</th>\n",
       "      <td>[0.0, 0.0, 0.0, 1.0, 0.0, 0.0]</td>\n",
       "      <td>[0.0, 0.0, 0.0, 1.0, 0.0, 0.0]</td>\n",
       "    </tr>\n",
       "    <tr>\n",
       "      <th>7</th>\n",
       "      <td>[0.001, 0.999, 0.0, 0.0, 0.0, 0.0]</td>\n",
       "      <td>[0.0, 1.0, 0.0, 0.0, 0.0, 0.0]</td>\n",
       "    </tr>\n",
       "    <tr>\n",
       "      <th>8</th>\n",
       "      <td>[1.0, 0.0, 0.0, 0.0, 0.0, 0.0]</td>\n",
       "      <td>[1.0, 0.0, 0.0, 0.0, 0.0, 0.0]</td>\n",
       "    </tr>\n",
       "    <tr>\n",
       "      <th>9</th>\n",
       "      <td>[0.0, 1.0, 0.0, 0.0, 0.0, 0.0]</td>\n",
       "      <td>[0.0, 1.0, 0.0, 0.0, 0.0, 0.0]</td>\n",
       "    </tr>\n",
       "  </tbody>\n",
       "</table>\n",
       "</div>"
      ],
      "text/plain": [
       "                                  y_hat                               y\n",
       "0    [0.001, 0.0, 0.0, 0.0, 0.0, 0.999]  [0.0, 0.0, 0.0, 0.0, 0.0, 1.0]\n",
       "1        [0.0, 0.0, 1.0, 0.0, 0.0, 0.0]  [0.0, 0.0, 1.0, 0.0, 0.0, 0.0]\n",
       "2  [0.0, 0.915, 0.084, 0.001, 0.0, 0.0]  [0.0, 1.0, 0.0, 0.0, 0.0, 0.0]\n",
       "3        [1.0, 0.0, 0.0, 0.0, 0.0, 0.0]  [1.0, 0.0, 0.0, 0.0, 0.0, 0.0]\n",
       "4        [0.0, 1.0, 0.0, 0.0, 0.0, 0.0]  [0.0, 1.0, 0.0, 0.0, 0.0, 0.0]\n",
       "5    [0.007, 0.0, 0.0, 0.0, 0.0, 0.993]  [0.0, 0.0, 0.0, 0.0, 0.0, 1.0]\n",
       "6        [0.0, 0.0, 0.0, 1.0, 0.0, 0.0]  [0.0, 0.0, 0.0, 1.0, 0.0, 0.0]\n",
       "7    [0.001, 0.999, 0.0, 0.0, 0.0, 0.0]  [0.0, 1.0, 0.0, 0.0, 0.0, 0.0]\n",
       "8        [1.0, 0.0, 0.0, 0.0, 0.0, 0.0]  [1.0, 0.0, 0.0, 0.0, 0.0, 0.0]\n",
       "9        [0.0, 1.0, 0.0, 0.0, 0.0, 0.0]  [0.0, 1.0, 0.0, 0.0, 0.0, 0.0]"
      ]
     },
     "execution_count": 48,
     "metadata": {},
     "output_type": "execute_result"
    }
   ],
   "source": [
    "ydf.head(10)"
   ]
  },
  {
   "cell_type": "markdown",
   "metadata": {},
   "source": [
    "## Tuning process\n",
    "\n",
    "Using `for` loops and `checkpoints` to exhaustively search for the best hyperparameters is very time consuming. Therefore, we use the `keras-tuner` module to randomly search for the best model."
   ]
  },
  {
   "cell_type": "code",
   "execution_count": 49,
   "metadata": {},
   "outputs": [
    {
     "data": {
      "text/plain": [
       "(2125764, 'models to train!')"
      ]
     },
     "execution_count": 49,
     "metadata": {},
     "output_type": "execute_result"
    }
   ],
   "source": [
    "#hyperparams to tune\n",
    "\n",
    "layers_number = [2, 3]\n",
    "\n",
    "# pooling layer parameters\n",
    "maxpooling_pool_size = [2, 4, 8]\n",
    "avepooling_pool_size = [2, 4, 8]\n",
    "\n",
    "\n",
    "# convolutional layer architecture:\n",
    "n_conv_1 = [128, 256, 512] # filters, a.k.a. kernels\n",
    "k_conv_1 = [3, 5, 7] # kernel length\n",
    "n_conv_2 = [128, 256, 512]\n",
    "k_conv_2 = [3, 5, 7] # kernel length\n",
    "n_conv_3 = [128, 256, 512] # filters, a.k.a. kernels\n",
    "k_conv_3 = [3, 5, 7] # kernel length\n",
    "\n",
    "# dense layer architecture: \n",
    "n_dense_1 = [256, 512, 1024]\n",
    "dropout_1 = [0.2, 0.3, 0.4]\n",
    "n_dense_2 = [256, 512, 1024]\n",
    "dropout_2 = [0.2, 0.3, 0.4]\n",
    "\n",
    "# training:\n",
    "epochs = 60\n",
    "batch_size = [256, 128]\n",
    "2*3*3*3*3*3*3*3*3*3*3*3*3*2, \"models to train!\""
   ]
  },
  {
   "cell_type": "code",
   "execution_count": 55,
   "metadata": {},
   "outputs": [],
   "source": [
    "# define kerastuner hyper parameters\n",
    "hp = kt.HyperParameters()\n",
    "\n",
    "kt_max_pooling = hp.Int(name='maxpooling', min_value=2, max_value=10, step=2)\n",
    "kt_ave_pooling = hp.Int('avepooling', min_value=2, max_value=10, step=2)\n",
    "kt_n_conv_1 = hp.Int('n_conv_1', min_value = 128, max_value= 1024, step = 256)\n",
    "kt_k_conv_1 = hp.Int('k_conv_1', min_value = 2, max_value= 10, step = 2)\n",
    "kt_n_conv_2 = hp.Int('n_conv_2', min_value = 128, max_value= 1024, step = 256)\n",
    "kt_k_conv_2 = hp.Int('k_conv_2', min_value = 2, max_value= 10, step = 2)\n",
    "kt_n_conv_3 = hp.Int('n_conv_3', min_value = 128, max_value= 1024, step = 256)\n",
    "kt_k_conv_3 = hp.Int('k_conv_3', min_value = 2, max_value= 10, step = 2)\n",
    "kt_activation = hp.Choice('activation', values = ['relu','elu'])\n",
    "kt_n_dense_1 = hp.Int('n_dense_1', min_value = 128, max_value= 1024, step = 256)\n",
    "kt_dropout_1 = hp.Choice('dropout_1', values= [0.2, 0.3, 0.4])\n",
    "kt_n_dense_2 = hp.Int('n_dense_2', min_value = 128, max_value= 1024, step = 256)\n",
    "kt_dropout_2 = hp.Choice('dropout_2', values= [0.2, 0.3, 0.4, 0.5])\n",
    "kt_batch_size = hp.Choice('batch_size', values= [128, 256])\n",
    "kt_learning_rate = hp.Choice('learning_rate', values = [1e-2, 1e-3, 1e-4]) \n",
    "kt_optimizer = hp.Choice('optimizer', values=['adam', 'nadam'])\n",
    "tunning_dir = 'tunning-dir'\n",
    "if not os.path.exists(tunning_dir):\n",
    "    os.makedirs(tunning_dir)"
   ]
  },
  {
   "cell_type": "code",
   "execution_count": 50,
   "metadata": {},
   "outputs": [],
   "source": [
    "def build_model(hp):\n",
    "    model = Sequential()\n",
    "    #\n",
    "    model.add(Conv1D(kt_n_conv_1, kt_k_conv_1, activation=kt_activation, input_shape=input_shape[1:]))\n",
    "    model.add(MaxPool1D(pool_size = kt_max_pooling))\n",
    "    model.add(Conv1D(kt_n_conv_2, kt_k_conv_2, activation=kt_activation))\n",
    "    model.add(AveragePooling1D(pool_size = kt_ave_pooling))\n",
    "    model.add(Conv1D(kt_n_conv_3, kt_k_conv_3, activation=kt_activation))\n",
    "    # model.add(GlobalMaxPooling1D())\n",
    "    model.add(GlobalAveragePooling1D())\n",
    "    model.add(Dense(kt_n_dense_1, kt_activation))\n",
    "    model.add(Dropout(kt_dropout_1))\n",
    "    model.add(Dense(kt_n_dense_2, kt_activation))\n",
    "    model.add(Dropout(kt_dropout_2))\n",
    "    model.add(Dense(n_class, activation='softmax'))\n",
    "    model.compile(loss='categorical_crossentropy', \n",
    "                  optimizer=kt_optimizer,\n",
    "                  metrics=['accuracy'])\n",
    "    return model"
   ]
  },
  {
   "cell_type": "code",
   "execution_count": 51,
   "metadata": {},
   "outputs": [
    {
     "ename": "NameError",
     "evalue": "name 'tunning_dir' is not defined",
     "output_type": "error",
     "traceback": [
      "\u001b[1;31m---------------------------------------------------------------------------\u001b[0m",
      "\u001b[1;31mNameError\u001b[0m                                 Traceback (most recent call last)",
      "\u001b[1;32m<ipython-input-51-870fdc43f7ba>\u001b[0m in \u001b[0;36m<module>\u001b[1;34m\u001b[0m\n\u001b[0;32m      2\u001b[0m                         \u001b[0mobjective\u001b[0m \u001b[1;33m=\u001b[0m \u001b[1;34m'val_accuracy'\u001b[0m\u001b[1;33m,\u001b[0m\u001b[1;33m\u001b[0m\u001b[1;33m\u001b[0m\u001b[0m\n\u001b[0;32m      3\u001b[0m                         \u001b[0mmax_trials\u001b[0m \u001b[1;33m=\u001b[0m \u001b[1;36m1\u001b[0m\u001b[1;33m,\u001b[0m\u001b[1;33m\u001b[0m\u001b[1;33m\u001b[0m\u001b[0m\n\u001b[1;32m----> 4\u001b[1;33m                         \u001b[0mdirectory\u001b[0m \u001b[1;33m=\u001b[0m \u001b[0mtunning_dir\u001b[0m\u001b[1;33m,\u001b[0m\u001b[1;33m\u001b[0m\u001b[1;33m\u001b[0m\u001b[0m\n\u001b[0m\u001b[0;32m      5\u001b[0m                         project_name = 'CNN_tunning') \n\u001b[0;32m      6\u001b[0m \u001b[1;33m\u001b[0m\u001b[0m\n",
      "\u001b[1;31mNameError\u001b[0m: name 'tunning_dir' is not defined"
     ]
    }
   ],
   "source": [
    "tuner = kt.RandomSearch(build_model,\n",
    "                        objective = 'val_accuracy', \n",
    "                        max_trials = 1,\n",
    "                        directory = tunning_dir,\n",
    "                        project_name = 'CNN_tunning') \n",
    "\n",
    "modelcheckpoint = ModelCheckpoint(filepath=tunning_dir, save_best_only=True)"
   ]
  },
  {
   "cell_type": "code",
   "execution_count": null,
   "metadata": {},
   "outputs": [],
   "source": [
    "tuner.search_space_summary()\n"
   ]
  },
  {
   "cell_type": "code",
   "execution_count": null,
   "metadata": {},
   "outputs": [],
   "source": [
    "tuner.search(X_train, y_train, epochs = epochs, validation_data = (X_valid, y_valid),\n",
    "            callbacks=[modelcheckpoint])\n",
    "\n",
    "# Get the optimal hyperparameters\n",
    "best_hps = tuner.get_best_hyperparameters(num_trials = 2)[0]\n",
    "best_model = tuner.get_best_models(1)[0]\n",
    "\n",
    "print(f\"\"\"\n",
    "The hyperparameter search is complete. The optimal number of units in the first densely-connected\n",
    "layer is {best_hps.get('units')} and the optimal learning rate for the optimizer\n",
    "is {best_hps.get('learning_rate')}.\n",
    "\"\"\")"
   ]
  }
 ],
 "metadata": {
  "colab": {
   "include_colab_link": true,
   "name": "dense_sentiment_classifier.ipynb",
   "provenance": []
  },
  "kernelspec": {
   "display_name": "Python 3",
   "language": "python",
   "name": "python3"
  },
  "language_info": {
   "codemirror_mode": {
    "name": "ipython",
    "version": 3
   },
   "file_extension": ".py",
   "mimetype": "text/x-python",
   "name": "python",
   "nbconvert_exporter": "python",
   "pygments_lexer": "ipython3",
   "version": "3.7.3"
  }
 },
 "nbformat": 4,
 "nbformat_minor": 1
}
