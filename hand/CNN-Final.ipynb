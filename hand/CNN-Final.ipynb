{
 "cells": [
  {
   "cell_type": "markdown",
   "metadata": {
    "colab_type": "text",
    "id": "ahUZuAfz8Jje"
   },
   "source": [
    "# Best CNN classifier"
   ]
  },
  {
   "cell_type": "markdown",
   "metadata": {
    "colab_type": "text",
    "id": "Re0ecmVI8Jjk"
   },
   "source": [
    "This model created from the hyper parameters obtained from hyper parameter tuning with SKlearn."
   ]
  },
  {
   "cell_type": "markdown",
   "metadata": {
    "colab_type": "text",
    "id": "ixsGb9tY8Jjm"
   },
   "source": [
    "#### Load dependencies"
   ]
  },
  {
   "cell_type": "code",
   "execution_count": 82,
   "metadata": {
    "colab": {},
    "colab_type": "code",
    "id": "5At1PKQp8Jjp"
   },
   "outputs": [
    {
     "name": "stdout",
     "output_type": "stream",
     "text": [
      "TensorFlow version:  2.3.1\n"
     ]
    },
    {
     "data": {
      "text/plain": [
       "'2.3.0'"
      ]
     },
     "execution_count": 82,
     "metadata": {},
     "output_type": "execute_result"
    }
   ],
   "source": [
    "import os  \n",
    "import pandas as pd\n",
    "import numpy as np\n",
    "import matplotlib.pyplot as plt \n",
    "import seaborn as sns\n",
    "\n",
    "\n",
    "import tensorflow as tf\n",
    "from tensorflow.keras.utils import to_categorical\n",
    "from tensorflow.keras.models import Sequential\n",
    "from tensorflow.keras.layers import Dense, Flatten, Dropout, Conv1D, GlobalMaxPooling1D\n",
    "from tensorflow.keras.layers import AveragePooling1D, LeakyReLU , MaxPool1D, GlobalAveragePooling1D\n",
    "from tensorflow.keras.callbacks import ModelCheckpoint \n",
    "from tensorflow.keras.wrappers.scikit_learn import KerasClassifier\n",
    "\n",
    "from sklearn.metrics import roc_auc_score, roc_curve \n",
    "from sklearn.model_selection import train_test_split\n",
    "from sklearn.model_selection import RandomizedSearchCV\n",
    "from sklearn.metrics import confusion_matrix\n",
    "from sklearn.metrics import  accuracy_score as score\n",
    "from tensorflow.python.client import device_lib\n",
    "\n",
    "\n",
    "# Visiualization imports, Netron and tensorboard:\n",
    "import netron\n",
    "from datetime import datetime\n",
    "from packaging import version\n",
    "from tensorflow import keras\n",
    "\n",
    "print(\"TensorFlow version: \", tf.__version__)\n",
    "assert version.parse(tf.__version__).release[0] >= 2, \\\n",
    "    \"This notebook requires TensorFlow 2.0 or above.\"\n",
    "\n",
    "import tensorboard\n",
    "tensorboard.__version__\n"
   ]
  },
  {
   "cell_type": "code",
   "execution_count": 2,
   "metadata": {},
   "outputs": [],
   "source": [
    "# Try to get reproducable results\n",
    "from numpy.random import seed\n",
    "seed(85)\n",
    "from tensorflow.random import set_seed\n",
    "set_seed(75)"
   ]
  },
  {
   "cell_type": "markdown",
   "metadata": {
    "colab_type": "text",
    "id": "Hg5wX2Dd8Jjz"
   },
   "source": [
    "#### Set hyperparameters"
   ]
  },
  {
   "cell_type": "code",
   "execution_count": 3,
   "metadata": {
    "colab": {},
    "colab_type": "code",
    "id": "lYLOM99-8Jj2"
   },
   "outputs": [],
   "source": [
    "# output directory name:\n",
    "output_dir = 'output/CNN-Final-test/'\n",
    "input_dir =  'Z:/Research/dfuller/Walkabilly/studies/smarphone_accel/data/Ethica_Jaeger_Merged/pocket/'\n",
    "input_file_name = 'pocket-NN-data.npz'\n",
    "\n",
    "# from the data preparation section we have:\n",
    "window_size_second = 3\n",
    "frequency = 30\n",
    "lenght_of_each_seq = window_size_second * frequency\n",
    "\n",
    "n_dense_2= 256\n",
    "n_dense_1= 256\n",
    "n_conv_3= 512\n",
    "n_conv_2= 512\n",
    "n_conv_1= 512\n",
    "maxpooling_pool_size= 3\n",
    "k_conv_3= 2\n",
    "k_conv_2= 2\n",
    "k_conv_1= 3\n",
    "dropout_2= 0.25\n",
    "dropout_1= 0.3\n",
    "avepooling_pool_size= 3\n",
    "activation_dense = 'elu'\n",
    "activation_conv = 'relu'\n",
    "\n",
    "\n",
    "# training:\n",
    "epochs = 120\n",
    "batch_size = 256\n"
   ]
  },
  {
   "cell_type": "markdown",
   "metadata": {
    "colab_type": "text",
    "id": "DaLx4yZ48Jj9"
   },
   "source": [
    "#### Load data"
   ]
  },
  {
   "cell_type": "markdown",
   "metadata": {
    "colab_type": "text",
    "id": "CD9X0yJg8Jj_"
   },
   "source": [
    "For this notebook we use only the **acceleration** data prepared in the DataPrep-Deep notebook."
   ]
  },
  {
   "cell_type": "code",
   "execution_count": 4,
   "metadata": {},
   "outputs": [],
   "source": [
    "# import the data\n",
    "raw_data = np.load(file=input_dir+input_file_name,allow_pickle=True)\n",
    "accel_array = raw_data['acceleration_data']\n",
    "meta_array = raw_data['metadata']\n",
    "labels_array = raw_data['labels']\n"
   ]
  },
  {
   "cell_type": "markdown",
   "metadata": {
    "colab_type": "text",
    "id": "WWq3ipbu8JlG"
   },
   "source": [
    "#### Preprocess data"
   ]
  },
  {
   "cell_type": "markdown",
   "metadata": {},
   "source": [
    "#### Convert the  labels to integer.\n",
    "In the raw data format of the labels is String and there are 6 classes. 'Lying', 'Sitting', 'Self Pace walk', 'Running 3 METs',\n",
    "       'Running 5 METs', 'Running 7 METs' <br>\n",
    "\n",
    "\n"
   ]
  },
  {
   "cell_type": "code",
   "execution_count": 105,
   "metadata": {
    "colab": {},
    "colab_type": "code",
    "id": "LyReiequ8Jln"
   },
   "outputs": [
    {
     "name": "stdout",
     "output_type": "stream",
     "text": [
      "The are 6 classes: ['Lying' 'Running 3 METs' 'Running 5 METs' 'Running 7 METs'\n",
      " 'Self Pace walk' 'Sitting']\n"
     ]
    }
   ],
   "source": [
    "# change from string to integer so keras.to_categorical can consume it\n",
    "\n",
    "# could do with factorize method as well\n",
    "n_class = len(np.unique(labels_array))\n",
    "class_list, labels_array_int = np.unique(labels_array,return_inverse=True)\n",
    "print(f'The are {len(class_list)} classes: {class_list}')"
   ]
  },
  {
   "cell_type": "markdown",
   "metadata": {},
   "source": [
    "#### Convert to categorical values"
   ]
  },
  {
   "cell_type": "code",
   "execution_count": 6,
   "metadata": {},
   "outputs": [],
   "source": [
    "# labels to categorical\n",
    "\n",
    "y = to_categorical(labels_array_int, num_classes=n_class)\n",
    "input_shape = list(accel_array.shape)"
   ]
  },
  {
   "cell_type": "markdown",
   "metadata": {
    "colab_type": "text",
    "collapsed": true,
    "id": "GscSnCpk8Jlm"
   },
   "source": [
    "\n",
    "#### Design neural network architecture"
   ]
  },
  {
   "cell_type": "code",
   "execution_count": 7,
   "metadata": {},
   "outputs": [],
   "source": [
    "# The best conv model!\n",
    "model = Sequential()\n",
    "model.add(Conv1D(n_conv_1, k_conv_1, activation=activation_conv, input_shape=input_shape[1:]))\n",
    "model.add(MaxPool1D(pool_size = maxpooling_pool_size))\n",
    "model.add(Conv1D(n_conv_2, k_conv_2, activation=activation_conv))\n",
    "model.add(AveragePooling1D(pool_size = avepooling_pool_size))\n",
    "model.add(Conv1D(n_conv_3, k_conv_3, activation=activation_conv))\n",
    "model.add(GlobalAveragePooling1D())\n",
    "model.add(Dense(n_dense_1, activation=activation_dense))\n",
    "model.add(Dropout(dropout_1))\n",
    "model.add(Dense(n_dense_2, activation=activation_dense))\n",
    "model.add(Dropout(dropout_2))\n",
    "model.add(Dense(n_class, activation='softmax'))\n",
    "model.compile(loss='categorical_crossentropy', optimizer='adam', metrics=['accuracy'])"
   ]
  },
  {
   "cell_type": "code",
   "execution_count": 8,
   "metadata": {
    "colab": {},
    "colab_type": "code",
    "id": "3nx7eGkg8Jlr",
    "outputId": "76af5145-5c7d-45c1-f292-e9f68a0907a9"
   },
   "outputs": [
    {
     "name": "stdout",
     "output_type": "stream",
     "text": [
      "Model: \"sequential\"\n",
      "_________________________________________________________________\n",
      "Layer (type)                 Output Shape              Param #   \n",
      "=================================================================\n",
      "conv1d (Conv1D)              (None, 88, 512)           5120      \n",
      "_________________________________________________________________\n",
      "max_pooling1d (MaxPooling1D) (None, 29, 512)           0         \n",
      "_________________________________________________________________\n",
      "conv1d_1 (Conv1D)            (None, 28, 512)           524800    \n",
      "_________________________________________________________________\n",
      "average_pooling1d (AveragePo (None, 9, 512)            0         \n",
      "_________________________________________________________________\n",
      "conv1d_2 (Conv1D)            (None, 8, 512)            524800    \n",
      "_________________________________________________________________\n",
      "global_average_pooling1d (Gl (None, 512)               0         \n",
      "_________________________________________________________________\n",
      "dense (Dense)                (None, 256)               131328    \n",
      "_________________________________________________________________\n",
      "dropout (Dropout)            (None, 256)               0         \n",
      "_________________________________________________________________\n",
      "dense_1 (Dense)              (None, 256)               65792     \n",
      "_________________________________________________________________\n",
      "dropout_1 (Dropout)          (None, 256)               0         \n",
      "_________________________________________________________________\n",
      "dense_2 (Dense)              (None, 6)                 1542      \n",
      "=================================================================\n",
      "Total params: 1,253,382\n",
      "Trainable params: 1,253,382\n",
      "Non-trainable params: 0\n",
      "_________________________________________________________________\n"
     ]
    }
   ],
   "source": [
    "model.summary()"
   ]
  },
  {
   "cell_type": "markdown",
   "metadata": {
    "colab": {},
    "colab_type": "code",
    "id": "40x3s0KY8Jlv",
    "outputId": "d3ac3e31-3c47-4b01-c2f9-ada0684b31b7"
   },
   "source": [
    "### Splitting and shuffeling the data"
   ]
  },
  {
   "cell_type": "code",
   "execution_count": 9,
   "metadata": {
    "colab": {},
    "colab_type": "code",
    "id": "f5grc2H78Jlz",
    "outputId": "3f7eeb55-f851-4796-de4e-0c68eb9df88d"
   },
   "outputs": [],
   "source": [
    "# split and shuffle\n",
    "x_train, x_valid, y_train, y_valid = train_test_split(\n",
    "     accel_array, y, test_size=0.1, random_state=65)"
   ]
  },
  {
   "cell_type": "markdown",
   "metadata": {
    "colab_type": "text",
    "id": "JkbhJMox8Jl9"
   },
   "source": [
    "#### Prepare to save each epoch\n",
    "The weights and a log for tensorboard are saved. Later we load back the best model"
   ]
  },
  {
   "cell_type": "code",
   "execution_count": 10,
   "metadata": {
    "colab": {},
    "colab_type": "code",
    "id": "zHjvYe288JmE"
   },
   "outputs": [],
   "source": [
    "modelcheckpoint = ModelCheckpoint(filepath=output_dir+\n",
    "                                  \"/weights.{epoch:02d}.hdf5\")\n",
    "\n",
    "# Define the Keras TensorBoard callback.\n",
    "logdir=  \"logs/fit/\" + datetime.now().strftime(\"%Y%m%d-%H%M%S\")\n",
    "tensorboard_callback = keras.callbacks.TensorBoard(log_dir=logdir)\n"
   ]
  },
  {
   "cell_type": "markdown",
   "metadata": {},
   "source": [
    "#### Create a folder to save each epoch of training"
   ]
  },
  {
   "cell_type": "code",
   "execution_count": 11,
   "metadata": {
    "colab": {},
    "colab_type": "code",
    "id": "esUwodZA8JmI"
   },
   "outputs": [],
   "source": [
    "if not os.path.exists(output_dir):\n",
    "    os.makedirs(output_dir)"
   ]
  },
  {
   "cell_type": "code",
   "execution_count": 12,
   "metadata": {},
   "outputs": [
    {
     "data": {
      "text/plain": [
       "((58278, 90, 3), (58278, 6), (6476, 90, 3), (6476, 6))"
      ]
     },
     "execution_count": 12,
     "metadata": {},
     "output_type": "execute_result"
    }
   ],
   "source": [
    "x_train.shape, y_train.shape, x_valid.shape, y_valid.shape"
   ]
  },
  {
   "cell_type": "markdown",
   "metadata": {
    "colab_type": "text",
    "id": "TEYpX7968JmL"
   },
   "source": [
    "#### Train!"
   ]
  },
  {
   "cell_type": "code",
   "execution_count": 13,
   "metadata": {
    "colab": {},
    "colab_type": "code",
    "id": "QaD1W7Ka8JmM",
    "outputId": "f0c30141-0962-48f6-a000-d136af50af79",
    "scrolled": true
   },
   "outputs": [
    {
     "name": "stdout",
     "output_type": "stream",
     "text": [
      "Epoch 1/120\n",
      "  1/228 [..............................] - ETA: 0s - loss: 1.7956 - accuracy: 0.1406WARNING:tensorflow:From C:\\Users\\dfuller\\AppData\\Local\\Continuum\\anaconda3\\envs\\tf-gpu\\lib\\site-packages\\tensorflow\\python\\ops\\summary_ops_v2.py:1277: stop (from tensorflow.python.eager.profiler) is deprecated and will be removed after 2020-07-01.\n",
      "Instructions for updating:\n",
      "use `tf.profiler.experimental.stop` instead.\n",
      "  2/228 [..............................] - ETA: 9s - loss: 1.7629 - accuracy: 0.1973WARNING:tensorflow:Callbacks method `on_train_batch_end` is slow compared to the batch time (batch time: 0.0160s vs `on_train_batch_end` time: 0.0631s). Check your callbacks.\n",
      "228/228 [==============================] - 9s 38ms/step - loss: 0.9155 - accuracy: 0.6174 - val_loss: 0.5900 - val_accuracy: 0.8027\n",
      "Epoch 2/120\n",
      "228/228 [==============================] - 8s 34ms/step - loss: 0.5161 - accuracy: 0.8052 - val_loss: 0.4452 - val_accuracy: 0.8312\n",
      "Epoch 3/120\n",
      "228/228 [==============================] - 8s 34ms/step - loss: 0.4094 - accuracy: 0.8481 - val_loss: 0.3336 - val_accuracy: 0.8808\n",
      "Epoch 4/120\n",
      "228/228 [==============================] - 8s 34ms/step - loss: 0.3485 - accuracy: 0.8723 - val_loss: 0.2983 - val_accuracy: 0.8854\n",
      "Epoch 5/120\n",
      "228/228 [==============================] - 8s 34ms/step - loss: 0.3170 - accuracy: 0.8832 - val_loss: 0.2895 - val_accuracy: 0.8874\n",
      "Epoch 6/120\n",
      "228/228 [==============================] - 8s 34ms/step - loss: 0.3012 - accuracy: 0.8898 - val_loss: 0.2804 - val_accuracy: 0.8956\n",
      "Epoch 7/120\n",
      "228/228 [==============================] - 8s 34ms/step - loss: 0.2788 - accuracy: 0.8989 - val_loss: 0.2512 - val_accuracy: 0.9089\n",
      "Epoch 8/120\n",
      "228/228 [==============================] - 8s 34ms/step - loss: 0.2695 - accuracy: 0.9012 - val_loss: 0.2741 - val_accuracy: 0.8989\n",
      "Epoch 9/120\n",
      "228/228 [==============================] - 8s 34ms/step - loss: 0.2442 - accuracy: 0.9107 - val_loss: 0.2378 - val_accuracy: 0.9168\n",
      "Epoch 10/120\n",
      "228/228 [==============================] - 8s 34ms/step - loss: 0.2377 - accuracy: 0.9127 - val_loss: 0.2356 - val_accuracy: 0.9109\n",
      "Epoch 11/120\n",
      "228/228 [==============================] - 8s 34ms/step - loss: 0.2337 - accuracy: 0.9142 - val_loss: 0.2280 - val_accuracy: 0.9222\n",
      "Epoch 12/120\n",
      "228/228 [==============================] - 8s 34ms/step - loss: 0.2181 - accuracy: 0.9198 - val_loss: 0.2143 - val_accuracy: 0.9226\n",
      "Epoch 13/120\n",
      "228/228 [==============================] - 8s 34ms/step - loss: 0.2117 - accuracy: 0.9226 - val_loss: 0.2026 - val_accuracy: 0.9288\n",
      "Epoch 14/120\n",
      "228/228 [==============================] - 8s 34ms/step - loss: 0.2034 - accuracy: 0.9253 - val_loss: 0.2597 - val_accuracy: 0.9050\n",
      "Epoch 15/120\n",
      "228/228 [==============================] - 8s 34ms/step - loss: 0.1974 - accuracy: 0.9283 - val_loss: 0.2231 - val_accuracy: 0.9194\n",
      "Epoch 16/120\n",
      "228/228 [==============================] - 8s 34ms/step - loss: 0.1998 - accuracy: 0.9267 - val_loss: 0.2098 - val_accuracy: 0.9274\n",
      "Epoch 17/120\n",
      "228/228 [==============================] - 8s 34ms/step - loss: 0.1813 - accuracy: 0.9337 - val_loss: 0.1924 - val_accuracy: 0.9316\n",
      "Epoch 18/120\n",
      "228/228 [==============================] - 8s 34ms/step - loss: 0.1755 - accuracy: 0.9359 - val_loss: 0.1972 - val_accuracy: 0.9274\n",
      "Epoch 19/120\n",
      "228/228 [==============================] - 8s 35ms/step - loss: 0.1739 - accuracy: 0.9366 - val_loss: 0.1937 - val_accuracy: 0.9279\n",
      "Epoch 20/120\n",
      "228/228 [==============================] - 8s 35ms/step - loss: 0.1706 - accuracy: 0.9378 - val_loss: 0.1919 - val_accuracy: 0.9353\n",
      "Epoch 21/120\n",
      "228/228 [==============================] - 8s 35ms/step - loss: 0.1617 - accuracy: 0.9406 - val_loss: 0.1929 - val_accuracy: 0.9294\n",
      "Epoch 22/120\n",
      "228/228 [==============================] - 8s 34ms/step - loss: 0.1600 - accuracy: 0.9412 - val_loss: 0.2141 - val_accuracy: 0.9267\n",
      "Epoch 23/120\n",
      "228/228 [==============================] - 8s 35ms/step - loss: 0.1523 - accuracy: 0.9447 - val_loss: 0.1905 - val_accuracy: 0.9347\n",
      "Epoch 24/120\n",
      "228/228 [==============================] - 8s 35ms/step - loss: 0.1489 - accuracy: 0.9448 - val_loss: 0.1870 - val_accuracy: 0.9341\n",
      "Epoch 25/120\n",
      "228/228 [==============================] - 8s 34ms/step - loss: 0.1488 - accuracy: 0.9444 - val_loss: 0.1915 - val_accuracy: 0.9370\n",
      "Epoch 26/120\n",
      "228/228 [==============================] - 8s 34ms/step - loss: 0.1461 - accuracy: 0.9459 - val_loss: 0.1837 - val_accuracy: 0.9393\n",
      "Epoch 27/120\n",
      "228/228 [==============================] - 8s 34ms/step - loss: 0.1417 - accuracy: 0.9468 - val_loss: 0.1781 - val_accuracy: 0.9404\n",
      "Epoch 28/120\n",
      "228/228 [==============================] - 8s 35ms/step - loss: 0.1330 - accuracy: 0.9504 - val_loss: 0.1868 - val_accuracy: 0.9344\n",
      "Epoch 29/120\n",
      "228/228 [==============================] - 8s 35ms/step - loss: 0.1319 - accuracy: 0.9514 - val_loss: 0.1687 - val_accuracy: 0.9443\n",
      "Epoch 30/120\n",
      "228/228 [==============================] - 8s 35ms/step - loss: 0.1276 - accuracy: 0.9525 - val_loss: 0.1796 - val_accuracy: 0.9424\n",
      "Epoch 31/120\n",
      "228/228 [==============================] - 8s 35ms/step - loss: 0.1281 - accuracy: 0.9523 - val_loss: 0.1713 - val_accuracy: 0.9435\n",
      "Epoch 32/120\n",
      "228/228 [==============================] - 8s 35ms/step - loss: 0.1179 - accuracy: 0.9557 - val_loss: 0.1767 - val_accuracy: 0.9438\n",
      "Epoch 33/120\n",
      "228/228 [==============================] - 8s 35ms/step - loss: 0.1223 - accuracy: 0.9546 - val_loss: 0.1784 - val_accuracy: 0.9410\n",
      "Epoch 34/120\n",
      "228/228 [==============================] - 8s 35ms/step - loss: 0.1241 - accuracy: 0.9538 - val_loss: 0.1660 - val_accuracy: 0.9433\n",
      "Epoch 35/120\n",
      "228/228 [==============================] - 8s 35ms/step - loss: 0.1181 - accuracy: 0.9556 - val_loss: 0.2113 - val_accuracy: 0.9324\n",
      "Epoch 36/120\n",
      "228/228 [==============================] - 8s 35ms/step - loss: 0.1142 - accuracy: 0.9581 - val_loss: 0.1701 - val_accuracy: 0.9466\n",
      "Epoch 37/120\n",
      "228/228 [==============================] - 8s 35ms/step - loss: 0.1060 - accuracy: 0.9599 - val_loss: 0.1893 - val_accuracy: 0.9421\n",
      "Epoch 38/120\n",
      "228/228 [==============================] - 8s 35ms/step - loss: 0.1105 - accuracy: 0.9578 - val_loss: 0.1694 - val_accuracy: 0.9450\n",
      "Epoch 39/120\n",
      "228/228 [==============================] - 8s 35ms/step - loss: 0.1039 - accuracy: 0.9605 - val_loss: 0.2482 - val_accuracy: 0.9294\n",
      "Epoch 40/120\n",
      "228/228 [==============================] - 8s 35ms/step - loss: 0.1090 - accuracy: 0.9594 - val_loss: 0.1727 - val_accuracy: 0.9447\n",
      "Epoch 41/120\n",
      "228/228 [==============================] - 8s 35ms/step - loss: 0.1014 - accuracy: 0.9619 - val_loss: 0.1708 - val_accuracy: 0.9452\n",
      "Epoch 42/120\n",
      "228/228 [==============================] - 8s 35ms/step - loss: 0.1004 - accuracy: 0.9625 - val_loss: 0.1915 - val_accuracy: 0.9469\n",
      "Epoch 43/120\n",
      "228/228 [==============================] - 8s 35ms/step - loss: 0.0990 - accuracy: 0.9627 - val_loss: 0.1584 - val_accuracy: 0.9518\n",
      "Epoch 44/120\n",
      "228/228 [==============================] - 8s 35ms/step - loss: 0.0965 - accuracy: 0.9633 - val_loss: 0.1754 - val_accuracy: 0.9483\n",
      "Epoch 45/120\n",
      "228/228 [==============================] - 8s 35ms/step - loss: 0.0937 - accuracy: 0.9653 - val_loss: 0.1751 - val_accuracy: 0.9446\n",
      "Epoch 46/120\n",
      "228/228 [==============================] - 8s 35ms/step - loss: 0.0937 - accuracy: 0.9647 - val_loss: 0.1923 - val_accuracy: 0.9472\n",
      "Epoch 47/120\n",
      "228/228 [==============================] - 8s 35ms/step - loss: 0.0937 - accuracy: 0.9650 - val_loss: 0.1834 - val_accuracy: 0.9441\n",
      "Epoch 48/120\n",
      "228/228 [==============================] - 8s 35ms/step - loss: 0.0911 - accuracy: 0.9667 - val_loss: 0.1693 - val_accuracy: 0.9489\n",
      "Epoch 49/120\n",
      "228/228 [==============================] - 8s 35ms/step - loss: 0.0871 - accuracy: 0.9685 - val_loss: 0.1597 - val_accuracy: 0.9531\n",
      "Epoch 50/120\n",
      "228/228 [==============================] - 8s 35ms/step - loss: 0.0876 - accuracy: 0.9675 - val_loss: 0.1604 - val_accuracy: 0.9521\n",
      "Epoch 51/120\n",
      "228/228 [==============================] - 8s 35ms/step - loss: 0.0828 - accuracy: 0.9694 - val_loss: 0.1665 - val_accuracy: 0.9526\n",
      "Epoch 52/120\n",
      "228/228 [==============================] - 8s 35ms/step - loss: 0.0817 - accuracy: 0.9705 - val_loss: 0.1747 - val_accuracy: 0.9534\n"
     ]
    },
    {
     "name": "stdout",
     "output_type": "stream",
     "text": [
      "Epoch 53/120\n",
      "228/228 [==============================] - 8s 35ms/step - loss: 0.0842 - accuracy: 0.9684 - val_loss: 0.1579 - val_accuracy: 0.9526\n",
      "Epoch 54/120\n",
      "228/228 [==============================] - 8s 34ms/step - loss: 0.0797 - accuracy: 0.9698 - val_loss: 0.1695 - val_accuracy: 0.9514\n",
      "Epoch 55/120\n",
      "228/228 [==============================] - 8s 35ms/step - loss: 0.0842 - accuracy: 0.9682 - val_loss: 0.1930 - val_accuracy: 0.9511\n",
      "Epoch 56/120\n",
      "228/228 [==============================] - 8s 34ms/step - loss: 0.0874 - accuracy: 0.9671 - val_loss: 0.1781 - val_accuracy: 0.9498\n",
      "Epoch 57/120\n",
      "228/228 [==============================] - 8s 34ms/step - loss: 0.0804 - accuracy: 0.9708 - val_loss: 0.2129 - val_accuracy: 0.9478\n",
      "Epoch 58/120\n",
      "228/228 [==============================] - 8s 35ms/step - loss: 0.0787 - accuracy: 0.9708 - val_loss: 0.2411 - val_accuracy: 0.9427\n",
      "Epoch 59/120\n",
      "228/228 [==============================] - 8s 34ms/step - loss: 0.0774 - accuracy: 0.9713 - val_loss: 0.1587 - val_accuracy: 0.9583\n",
      "Epoch 60/120\n",
      "228/228 [==============================] - 8s 34ms/step - loss: 0.0713 - accuracy: 0.9730 - val_loss: 0.1769 - val_accuracy: 0.9571\n",
      "Epoch 61/120\n",
      "228/228 [==============================] - 8s 34ms/step - loss: 0.0755 - accuracy: 0.9716 - val_loss: 0.2014 - val_accuracy: 0.9500\n",
      "Epoch 62/120\n",
      "228/228 [==============================] - 8s 35ms/step - loss: 0.0818 - accuracy: 0.9700 - val_loss: 0.1754 - val_accuracy: 0.9537\n",
      "Epoch 63/120\n",
      "228/228 [==============================] - 8s 35ms/step - loss: 0.0716 - accuracy: 0.9734 - val_loss: 0.1814 - val_accuracy: 0.9524\n",
      "Epoch 64/120\n",
      "228/228 [==============================] - 8s 35ms/step - loss: 0.0751 - accuracy: 0.9730 - val_loss: 0.1861 - val_accuracy: 0.9532\n",
      "Epoch 65/120\n",
      "228/228 [==============================] - 8s 35ms/step - loss: 0.0695 - accuracy: 0.9740 - val_loss: 0.1762 - val_accuracy: 0.9520\n",
      "Epoch 66/120\n",
      "228/228 [==============================] - 8s 35ms/step - loss: 0.0729 - accuracy: 0.9734 - val_loss: 0.2026 - val_accuracy: 0.9495\n",
      "Epoch 67/120\n",
      "228/228 [==============================] - 8s 36ms/step - loss: 0.0677 - accuracy: 0.9755 - val_loss: 0.1838 - val_accuracy: 0.9544\n",
      "Epoch 68/120\n",
      "228/228 [==============================] - 8s 36ms/step - loss: 0.0676 - accuracy: 0.9745 - val_loss: 0.1666 - val_accuracy: 0.9591\n",
      "Epoch 69/120\n",
      "228/228 [==============================] - 8s 35ms/step - loss: 0.0658 - accuracy: 0.9758 - val_loss: 0.1853 - val_accuracy: 0.9518\n",
      "Epoch 70/120\n",
      "228/228 [==============================] - 8s 35ms/step - loss: 0.0715 - accuracy: 0.9747 - val_loss: 0.1759 - val_accuracy: 0.9557\n",
      "Epoch 71/120\n",
      "228/228 [==============================] - 8s 35ms/step - loss: 0.0660 - accuracy: 0.9752 - val_loss: 0.1890 - val_accuracy: 0.9543\n",
      "Epoch 72/120\n",
      "228/228 [==============================] - 8s 35ms/step - loss: 0.0715 - accuracy: 0.9743 - val_loss: 0.1710 - val_accuracy: 0.9544\n",
      "Epoch 73/120\n",
      "228/228 [==============================] - 8s 35ms/step - loss: 0.0636 - accuracy: 0.9760 - val_loss: 0.1792 - val_accuracy: 0.9531\n",
      "Epoch 74/120\n",
      "228/228 [==============================] - 8s 35ms/step - loss: 0.0684 - accuracy: 0.9748 - val_loss: 0.1794 - val_accuracy: 0.9514\n",
      "Epoch 75/120\n",
      "228/228 [==============================] - 8s 35ms/step - loss: 0.0628 - accuracy: 0.9762 - val_loss: 0.1847 - val_accuracy: 0.9520\n",
      "Epoch 76/120\n",
      "228/228 [==============================] - 8s 35ms/step - loss: 0.0655 - accuracy: 0.9752 - val_loss: 0.1742 - val_accuracy: 0.9563\n",
      "Epoch 77/120\n",
      "228/228 [==============================] - 8s 35ms/step - loss: 0.0640 - accuracy: 0.9759 - val_loss: 0.1880 - val_accuracy: 0.9535\n",
      "Epoch 78/120\n",
      "228/228 [==============================] - 8s 35ms/step - loss: 0.0625 - accuracy: 0.9772 - val_loss: 0.1751 - val_accuracy: 0.9600\n",
      "Epoch 79/120\n",
      "228/228 [==============================] - 8s 35ms/step - loss: 0.0609 - accuracy: 0.9772 - val_loss: 0.1949 - val_accuracy: 0.9544\n",
      "Epoch 80/120\n",
      "228/228 [==============================] - 8s 35ms/step - loss: 0.0647 - accuracy: 0.9765 - val_loss: 0.1751 - val_accuracy: 0.9555\n",
      "Epoch 81/120\n",
      "228/228 [==============================] - 8s 35ms/step - loss: 0.0600 - accuracy: 0.9783 - val_loss: 0.1893 - val_accuracy: 0.9572\n",
      "Epoch 82/120\n",
      "228/228 [==============================] - 8s 35ms/step - loss: 0.0584 - accuracy: 0.9777 - val_loss: 0.1810 - val_accuracy: 0.9560\n",
      "Epoch 83/120\n",
      "228/228 [==============================] - 8s 35ms/step - loss: 0.0579 - accuracy: 0.9782 - val_loss: 0.1894 - val_accuracy: 0.9580\n",
      "Epoch 84/120\n",
      "228/228 [==============================] - 8s 35ms/step - loss: 0.0625 - accuracy: 0.9768 - val_loss: 0.1877 - val_accuracy: 0.9531\n",
      "Epoch 85/120\n",
      "228/228 [==============================] - 8s 35ms/step - loss: 0.0603 - accuracy: 0.9777 - val_loss: 0.1923 - val_accuracy: 0.9563\n",
      "Epoch 86/120\n",
      "228/228 [==============================] - 8s 35ms/step - loss: 0.0582 - accuracy: 0.9781 - val_loss: 0.1950 - val_accuracy: 0.9560\n",
      "Epoch 87/120\n",
      "228/228 [==============================] - 8s 35ms/step - loss: 0.0586 - accuracy: 0.9779 - val_loss: 0.1966 - val_accuracy: 0.9527\n",
      "Epoch 88/120\n",
      "228/228 [==============================] - 8s 35ms/step - loss: 0.0534 - accuracy: 0.9801 - val_loss: 0.1857 - val_accuracy: 0.9571\n",
      "Epoch 89/120\n",
      "228/228 [==============================] - 8s 35ms/step - loss: 0.0590 - accuracy: 0.9783 - val_loss: 0.1843 - val_accuracy: 0.9555\n",
      "Epoch 90/120\n",
      "228/228 [==============================] - 8s 35ms/step - loss: 0.0605 - accuracy: 0.9778 - val_loss: 0.1831 - val_accuracy: 0.9552\n",
      "Epoch 91/120\n",
      "228/228 [==============================] - 8s 35ms/step - loss: 0.0527 - accuracy: 0.9806 - val_loss: 0.1931 - val_accuracy: 0.9583\n",
      "Epoch 92/120\n",
      "228/228 [==============================] - 8s 35ms/step - loss: 0.0538 - accuracy: 0.9802 - val_loss: 0.1859 - val_accuracy: 0.9595\n",
      "Epoch 93/120\n",
      "228/228 [==============================] - 8s 35ms/step - loss: 0.0505 - accuracy: 0.9813 - val_loss: 0.2189 - val_accuracy: 0.9538\n",
      "Epoch 94/120\n",
      "228/228 [==============================] - 8s 35ms/step - loss: 0.0569 - accuracy: 0.9800 - val_loss: 0.2056 - val_accuracy: 0.9569\n",
      "Epoch 95/120\n",
      "228/228 [==============================] - 8s 35ms/step - loss: 0.0574 - accuracy: 0.9794 - val_loss: 0.1808 - val_accuracy: 0.9578\n",
      "Epoch 96/120\n",
      "228/228 [==============================] - 8s 35ms/step - loss: 0.0547 - accuracy: 0.9801 - val_loss: 0.2035 - val_accuracy: 0.9537\n",
      "Epoch 97/120\n",
      "228/228 [==============================] - 8s 35ms/step - loss: 0.0540 - accuracy: 0.9800 - val_loss: 0.2451 - val_accuracy: 0.9518\n",
      "Epoch 98/120\n",
      "228/228 [==============================] - 8s 35ms/step - loss: 0.0566 - accuracy: 0.9790 - val_loss: 0.1860 - val_accuracy: 0.9583\n",
      "Epoch 99/120\n",
      "228/228 [==============================] - 8s 35ms/step - loss: 0.0519 - accuracy: 0.9805 - val_loss: 0.2084 - val_accuracy: 0.9592\n",
      "Epoch 100/120\n",
      "228/228 [==============================] - 8s 35ms/step - loss: 0.0533 - accuracy: 0.9804 - val_loss: 0.2057 - val_accuracy: 0.9599\n",
      "Epoch 101/120\n",
      "228/228 [==============================] - 8s 35ms/step - loss: 0.0528 - accuracy: 0.9812 - val_loss: 0.1920 - val_accuracy: 0.9546\n",
      "Epoch 102/120\n",
      "228/228 [==============================] - 8s 35ms/step - loss: 0.0536 - accuracy: 0.9795 - val_loss: 0.1834 - val_accuracy: 0.9591\n",
      "Epoch 103/120\n",
      "228/228 [==============================] - 8s 35ms/step - loss: 0.0507 - accuracy: 0.9812 - val_loss: 0.1797 - val_accuracy: 0.9609\n",
      "Epoch 104/120\n",
      "228/228 [==============================] - 8s 35ms/step - loss: 0.0490 - accuracy: 0.9816 - val_loss: 0.1950 - val_accuracy: 0.9540\n",
      "Epoch 105/120\n",
      "228/228 [==============================] - 8s 35ms/step - loss: 0.0499 - accuracy: 0.9821 - val_loss: 0.2093 - val_accuracy: 0.9554\n",
      "Epoch 106/120\n",
      "228/228 [==============================] - 8s 35ms/step - loss: 0.0485 - accuracy: 0.9818 - val_loss: 0.2007 - val_accuracy: 0.9568\n",
      "Epoch 107/120\n",
      "228/228 [==============================] - 8s 35ms/step - loss: 0.0540 - accuracy: 0.9804 - val_loss: 0.1896 - val_accuracy: 0.9572\n",
      "Epoch 108/120\n",
      "228/228 [==============================] - 8s 35ms/step - loss: 0.0485 - accuracy: 0.9816 - val_loss: 0.2001 - val_accuracy: 0.9586\n",
      "Epoch 109/120\n"
     ]
    },
    {
     "name": "stdout",
     "output_type": "stream",
     "text": [
      "228/228 [==============================] - 8s 35ms/step - loss: 0.0489 - accuracy: 0.9812 - val_loss: 0.1813 - val_accuracy: 0.9639\n",
      "Epoch 110/120\n",
      "228/228 [==============================] - 8s 35ms/step - loss: 0.0511 - accuracy: 0.9818 - val_loss: 0.1909 - val_accuracy: 0.9540\n",
      "Epoch 111/120\n",
      "228/228 [==============================] - 8s 35ms/step - loss: 0.0455 - accuracy: 0.9832 - val_loss: 0.1983 - val_accuracy: 0.9575\n",
      "Epoch 112/120\n",
      "228/228 [==============================] - 8s 35ms/step - loss: 0.0467 - accuracy: 0.9828 - val_loss: 0.1998 - val_accuracy: 0.9569\n",
      "Epoch 113/120\n",
      "228/228 [==============================] - 8s 34ms/step - loss: 0.0519 - accuracy: 0.9811 - val_loss: 0.2150 - val_accuracy: 0.9538\n",
      "Epoch 114/120\n",
      "228/228 [==============================] - 8s 35ms/step - loss: 0.0508 - accuracy: 0.9816 - val_loss: 0.1895 - val_accuracy: 0.9616\n",
      "Epoch 115/120\n",
      "228/228 [==============================] - 8s 34ms/step - loss: 0.0428 - accuracy: 0.9839 - val_loss: 0.2010 - val_accuracy: 0.9588\n",
      "Epoch 116/120\n",
      "228/228 [==============================] - 8s 34ms/step - loss: 0.0507 - accuracy: 0.9816 - val_loss: 0.2041 - val_accuracy: 0.9578\n",
      "Epoch 117/120\n",
      "228/228 [==============================] - 8s 34ms/step - loss: 0.0520 - accuracy: 0.9813 - val_loss: 0.1915 - val_accuracy: 0.9578\n",
      "Epoch 118/120\n",
      "228/228 [==============================] - 8s 35ms/step - loss: 0.0450 - accuracy: 0.9833 - val_loss: 0.1958 - val_accuracy: 0.9619\n",
      "Epoch 119/120\n",
      "228/228 [==============================] - 8s 35ms/step - loss: 0.0453 - accuracy: 0.9840 - val_loss: 0.1893 - val_accuracy: 0.9620\n",
      "Epoch 120/120\n",
      "228/228 [==============================] - 8s 35ms/step - loss: 0.0461 - accuracy: 0.9829 - val_loss: 0.2070 - val_accuracy: 0.9609\n"
     ]
    },
    {
     "data": {
      "text/plain": [
       "<tensorflow.python.keras.callbacks.History at 0x20187ee9d08>"
      ]
     },
     "execution_count": 13,
     "metadata": {},
     "output_type": "execute_result"
    }
   ],
   "source": [
    "model.fit(x_train, y_train, \n",
    "         batch_size=batch_size, epochs=epochs, verbose=1, \n",
    "         validation_data=(x_valid, y_valid), \n",
    "         callbacks=[modelcheckpoint, tensorboard_callback])"
   ]
  },
  {
   "cell_type": "markdown",
   "metadata": {},
   "source": [
    "#### Load the best epoch's weight"
   ]
  },
  {
   "cell_type": "code",
   "execution_count": 44,
   "metadata": {
    "colab": {},
    "colab_type": "code",
    "id": "z8t0nVCw8JmP"
   },
   "outputs": [],
   "source": [
    "model.load_weights(output_dir+\"/weights.109.hdf5\") "
   ]
  },
  {
   "cell_type": "markdown",
   "metadata": {
    "colab_type": "text",
    "id": "7PWlH5SJ8JmP"
   },
   "source": [
    "## Evaluate\n",
    "\n",
    "Make predictions and check the results"
   ]
  },
  {
   "cell_type": "code",
   "execution_count": 45,
   "metadata": {
    "colab": {},
    "colab_type": "code",
    "id": "kZwGk5dR8JmS"
   },
   "outputs": [],
   "source": [
    "y_hat = model.predict(x_valid)"
   ]
  },
  {
   "cell_type": "code",
   "execution_count": 49,
   "metadata": {
    "colab": {},
    "colab_type": "code",
    "id": "FTWf6Cf-8Jme",
    "outputId": "1256b170-33dc-4171-f2ff-7a3d7ddd74e3"
   },
   "outputs": [
    {
     "data": {
      "image/png": "[encoded data removed]",
      "text/plain": [
       "<Figure size 432x288 with 1 Axes>"
      ]
     },
     "metadata": {
      "needs_background": "light"
     },
     "output_type": "display_data"
    }
   ],
   "source": [
    "plt.hist(y_hat)\n",
    "_ = plt.axvline(x=0.5, color='orange')"
   ]
  },
  {
   "cell_type": "markdown",
   "metadata": {},
   "source": [
    "#### Histogram of probabilities for each class\n",
    "If most probabilities are around either zero or one, it means the model was confidant in classification"
   ]
  },
  {
   "cell_type": "code",
   "execution_count": 103,
   "metadata": {},
   "outputs": [
    {
     "data": {
      "image/png": "[encoded data removed]",
      "text/plain": [
       "<Figure size 1080x720 with 6 Axes>"
      ]
     },
     "metadata": {
      "needs_background": "light"
     },
     "output_type": "display_data"
    }
   ],
   "source": [
    "df = pd.DataFrame(y_hat, columns=class_list)\n",
    "_ = df.hist(figsize=(15,10), color='brown')"
   ]
  },
  {
   "cell_type": "code",
   "execution_count": 50,
   "metadata": {
    "colab": {},
    "colab_type": "code",
    "id": "RNljSx3v8Jmh"
   },
   "outputs": [],
   "source": [
    "# Calculate ROC and Accuracy\n",
    "pct_auc = roc_auc_score(y_valid, y_hat)*100.0\n",
    "y_pred_classes = y_hat.round()\n",
    "acc = score(y_valid, y_pred_classes) * 100"
   ]
  },
  {
   "cell_type": "code",
   "execution_count": 62,
   "metadata": {
    "colab": {},
    "colab_type": "code",
    "id": "SO_N9lJG8Jmj",
    "outputId": "20968a52-8ca0-44d3-abf6-a1382bba5cde"
   },
   "outputs": [
    {
     "name": "stdout",
     "output_type": "stream",
     "text": [
      "The model accuracy is: 96.31\n",
      "The area under ROC curve is: 99.73\n"
     ]
    }
   ],
   "source": [
    "print(\"The model accuracy is: {:0.2f}\".format(acc))\n",
    "print(\"The area under ROC curve is: {:0.2f}\".format(pct_auc))"
   ]
  },
  {
   "cell_type": "code",
   "execution_count": 106,
   "metadata": {
    "colab": {},
    "colab_type": "code",
    "id": "vU3hnA298Jmo"
   },
   "outputs": [],
   "source": [
    "# Convert the predicted outcomes to categorical variable to compare with validation data, just for checking\n",
    "\n",
    "float_y_hat = []\n",
    "for y in y_hat:\n",
    "    float_y_hat.append(y[0:7].round(3))"
   ]
  },
  {
   "cell_type": "code",
   "execution_count": 79,
   "metadata": {
    "colab": {},
    "colab_type": "code",
    "id": "zrTf-aQl8Jmr"
   },
   "outputs": [],
   "source": [
    "ydf = pd.DataFrame(list(zip(float_y_hat, y_valid)), columns=['y_hat', 'y'])"
   ]
  },
  {
   "cell_type": "code",
   "execution_count": 80,
   "metadata": {
    "colab": {},
    "colab_type": "code",
    "id": "zAyKh_mX8Jmu",
    "outputId": "611224b8-f980-47df-d596-9aa3a5811009"
   },
   "outputs": [
    {
     "data": {
      "text/html": [
       "<div>\n",
       "<style scoped>\n",
       "    .dataframe tbody tr th:only-of-type {\n",
       "        vertical-align: middle;\n",
       "    }\n",
       "\n",
       "    .dataframe tbody tr th {\n",
       "        vertical-align: top;\n",
       "    }\n",
       "\n",
       "    .dataframe thead th {\n",
       "        text-align: right;\n",
       "    }\n",
       "</style>\n",
       "<table border=\"1\" class=\"dataframe\">\n",
       "  <thead>\n",
       "    <tr style=\"text-align: right;\">\n",
       "      <th></th>\n",
       "      <th>y_hat</th>\n",
       "      <th>y</th>\n",
       "    </tr>\n",
       "  </thead>\n",
       "  <tbody>\n",
       "    <tr>\n",
       "      <th>0</th>\n",
       "      <td>[0.0, 0.0, 0.0, 0.0, 0.0, 1.0]</td>\n",
       "      <td>[0.0, 0.0, 0.0, 0.0, 0.0, 1.0]</td>\n",
       "    </tr>\n",
       "    <tr>\n",
       "      <th>1</th>\n",
       "      <td>[0.0, 0.0, 1.0, 0.0, 0.0, 0.0]</td>\n",
       "      <td>[0.0, 0.0, 1.0, 0.0, 0.0, 0.0]</td>\n",
       "    </tr>\n",
       "    <tr>\n",
       "      <th>2</th>\n",
       "      <td>[0.0, 1.0, 0.0, 0.0, 0.0, 0.0]</td>\n",
       "      <td>[0.0, 1.0, 0.0, 0.0, 0.0, 0.0]</td>\n",
       "    </tr>\n",
       "    <tr>\n",
       "      <th>3</th>\n",
       "      <td>[1.0, 0.0, 0.0, 0.0, 0.0, 0.0]</td>\n",
       "      <td>[1.0, 0.0, 0.0, 0.0, 0.0, 0.0]</td>\n",
       "    </tr>\n",
       "    <tr>\n",
       "      <th>4</th>\n",
       "      <td>[0.0, 1.0, 0.0, 0.0, 0.0, 0.0]</td>\n",
       "      <td>[0.0, 1.0, 0.0, 0.0, 0.0, 0.0]</td>\n",
       "    </tr>\n",
       "  </tbody>\n",
       "</table>\n",
       "</div>"
      ],
      "text/plain": [
       "                            y_hat                               y\n",
       "0  [0.0, 0.0, 0.0, 0.0, 0.0, 1.0]  [0.0, 0.0, 0.0, 0.0, 0.0, 1.0]\n",
       "1  [0.0, 0.0, 1.0, 0.0, 0.0, 0.0]  [0.0, 0.0, 1.0, 0.0, 0.0, 0.0]\n",
       "2  [0.0, 1.0, 0.0, 0.0, 0.0, 0.0]  [0.0, 1.0, 0.0, 0.0, 0.0, 0.0]\n",
       "3  [1.0, 0.0, 0.0, 0.0, 0.0, 0.0]  [1.0, 0.0, 0.0, 0.0, 0.0, 0.0]\n",
       "4  [0.0, 1.0, 0.0, 0.0, 0.0, 0.0]  [0.0, 1.0, 0.0, 0.0, 0.0, 0.0]"
      ]
     },
     "execution_count": 80,
     "metadata": {},
     "output_type": "execute_result"
    }
   ],
   "source": [
    "ydf.head()"
   ]
  },
  {
   "cell_type": "code",
   "execution_count": 57,
   "metadata": {},
   "outputs": [],
   "source": [
    "# convert probability to class\n",
    "y_pred_class = np.argmax(y_hat, axis=1)\n",
    "y_class = np.argmax(y_valid, axis = 1)"
   ]
  },
  {
   "cell_type": "code",
   "execution_count": 108,
   "metadata": {},
   "outputs": [
    {
     "data": {
      "text/plain": [
       "<AxesSubplot:>"
      ]
     },
     "execution_count": 108,
     "metadata": {},
     "output_type": "execute_result"
    },
    {
     "data": {
      "image/png": "[encoded data removed]",
      "text/plain": [
       "<Figure size 432x288 with 2 Axes>"
      ]
     },
     "metadata": {
      "needs_background": "light"
     },
     "output_type": "display_data"
    }
   ],
   "source": [
    "sns.heatmap(cf_matrix, annot=True, fmt = '1', xticklabels=class_list, yticklabels=class_list, cmap='ocean')\n",
    "# cf_matrix"
   ]
  },
  {
   "cell_type": "markdown",
   "metadata": {},
   "source": [
    "### plot confusion matrix\n",
    "First use seaborn, then a custom stript."
   ]
  },
  {
   "cell_type": "code",
   "execution_count": 113,
   "metadata": {},
   "outputs": [],
   "source": [
    "# Create confucion matrix:\n",
    "cf_matrix = confusion_matrix(y_class, y_pred_class, labels=range(len(class_list)))\n",
    "\n",
    "\n",
    "# the classes are not in order, for example 'sitting' is not following 'lying'. Sort them:\n",
    "\n",
    "confusion_matrix_df = pd.DataFrame(cf_matrix, index=class_list, columns=class_list)\n",
    "confusion_matrix_df = confusion_matrix_df[['Lying','Sitting', 'Self Pace walk',\\\n",
    "                                           'Running 3 METs','Running 5 METs', 'Running 7 METs']]\n",
    "confusion_matrix_df = confusion_matrix_df.reindex(['Lying', 'Sitting', 'Self Pace walk',\\\n",
    "                                                   'Running 3 METs','Running 5 METs', 'Running 7 METs'])"
   ]
  },
  {
   "cell_type": "code",
   "execution_count": 130,
   "metadata": {},
   "outputs": [
    {
     "data": {
      "image/png": "[encoded data removed]",
      "text/plain": [
       "<Figure size 936x720 with 2 Axes>"
      ]
     },
     "metadata": {
      "needs_background": "light"
     },
     "output_type": "display_data"
    }
   ],
   "source": [
    "plt.figure(figsize = (13,10))\n",
    "\n",
    "_ = sns.heatmap(confusion_matrix_df, annot=True, fmt = '1', cmap='rocket_r') # try cmap='rocket', 'PuBuGn', 'magma'\n"
   ]
  },
  {
   "cell_type": "code",
   "execution_count": 132,
   "metadata": {},
   "outputs": [
    {
     "data": {
      "image/png": "[encoded data removed]",
      "text/plain": [
       "<Figure size 864x864 with 2 Axes>"
      ]
     },
     "metadata": {
      "needs_background": "light"
     },
     "output_type": "display_data"
    }
   ],
   "source": [
    "import prettyconfusion as pf\n",
    "pf.pretty_plot_confusion_matrix(confusion_matrix_df,cmap='PuBuGn', cbar='oranges'\n",
    "                                ,fz = 13, lw=1, figsize=[12,12])"
   ]
  },
  {
   "cell_type": "markdown",
   "metadata": {},
   "source": [
    "## Visualize performance metrics and the model's structure"
   ]
  },
  {
   "cell_type": "code",
   "execution_count": 104,
   "metadata": {},
   "outputs": [
    {
     "name": "stdout",
     "output_type": "stream",
     "text": [
      "The tensorboard extension is already loaded. To reload it, use:\n",
      "  %reload_ext tensorboard\n"
     ]
    }
   ],
   "source": [
    "# Load the TensorBoard notebook extension.\n",
    "%load_ext tensorboard"
   ]
  },
  {
   "cell_type": "code",
   "execution_count": 33,
   "metadata": {},
   "outputs": [],
   "source": [
    "# Clear any logs from previous runs if you don't want to see it in tensorflow"
   ]
  },
  {
   "cell_type": "code",
   "execution_count": 34,
   "metadata": {},
   "outputs": [
    {
     "data": {
      "text/plain": [
       "Reusing TensorBoard on port 6006 (pid 11604), started 0:38:02 ago. (Use '!kill 11604' to kill it.)"
      ]
     },
     "metadata": {},
     "output_type": "display_data"
    },
    {
     "data": {
      "text/html": [
       "\n",
       "      <iframe id=\"tensorboard-frame-94cebd858b96bd7f\" width=\"100%\" height=\"800\" frameborder=\"0\">\n",
       "      </iframe>\n",
       "      <script>\n",
       "        (function() {\n",
       "          const frame = document.getElementById(\"tensorboard-frame-94cebd858b96bd7f\");\n",
       "          const url = new URL(\"/\", window.location);\n",
       "          const port = 6006;\n",
       "          if (port) {\n",
       "            url.port = port;\n",
       "          }\n",
       "          frame.src = url;\n",
       "        })();\n",
       "      </script>\n",
       "    "
      ],
      "text/plain": [
       "<IPython.core.display.HTML object>"
      ]
     },
     "metadata": {},
     "output_type": "display_data"
    }
   ],
   "source": [
    "%tensorboard --logdir logs"
   ]
  },
  {
   "cell_type": "code",
   "execution_count": 41,
   "metadata": {},
   "outputs": [
    {
     "name": "stdout",
     "output_type": "stream",
     "text": [
      "\n",
      "Stopping http://localhost:8080\n",
      "Serving 'output/CNN-Final-test//weights.114.hdf5' at http://localhost:8080\n"
     ]
    }
   ],
   "source": [
    "# All stored weights have the same structure. Load one of them to netron and save the image \n",
    "netron.start(file=output_dir+\"/weights.109.hdf5\")"
   ]
  }
 ],
 "metadata": {
  "colab": {
   "include_colab_link": true,
   "name": "dense_sentiment_classifier.ipynb",
   "provenance": []
  },
  "kernelspec": {
   "display_name": "Python 3",
   "language": "python",
   "name": "python3"
  },
  "language_info": {
   "codemirror_mode": {
    "name": "ipython",
    "version": 3
   },
   "file_extension": ".py",
   "mimetype": "text/x-python",
   "name": "python",
   "nbconvert_exporter": "python",
   "pygments_lexer": "ipython3",
   "version": "3.7.9"
  }
 },
 "nbformat": 4,
 "nbformat_minor": 1
}
