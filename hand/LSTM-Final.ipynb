{
 "cells": [
  {
   "cell_type": "markdown",
   "metadata": {
    "colab_type": "text",
    "id": "ahUZuAfz8Jje"
   },
   "source": [
    "# Best LSTM classifier"
   ]
  },
  {
   "cell_type": "markdown",
   "metadata": {
    "colab_type": "text",
    "id": "Re0ecmVI8Jjk"
   },
   "source": [
    "This model created from the hyper parameters obtained from hyper parameter tuning with SKlearn."
   ]
  },
  {
   "cell_type": "markdown",
   "metadata": {
    "colab_type": "text",
    "id": "ixsGb9tY8Jjm"
   },
   "source": [
    "#### Load dependencies"
   ]
  },
  {
   "cell_type": "code",
   "execution_count": 1,
   "metadata": {
    "colab": {},
    "colab_type": "code",
    "id": "5At1PKQp8Jjp"
   },
   "outputs": [
    {
     "name": "stdout",
     "output_type": "stream",
     "text": [
      "TensorFlow version:  2.3.1\n"
     ]
    },
    {
     "data": {
      "text/plain": [
       "'2.3.0'"
      ]
     },
     "execution_count": 1,
     "metadata": {},
     "output_type": "execute_result"
    }
   ],
   "source": [
    "import os  \n",
    "import pandas as pd\n",
    "import numpy as np\n",
    "import matplotlib.pyplot as plt \n",
    "import seaborn as sns\n",
    "\n",
    "\n",
    "import tensorflow as tf\n",
    "from tensorflow.keras.utils import to_categorical\n",
    "from tensorflow.keras.models import Sequential\n",
    "from tensorflow.keras.layers import Dense, Flatten, Dropout, LSTM\n",
    "from tensorflow.keras.layers import LeakyReLU \n",
    "from tensorflow.keras.callbacks import ModelCheckpoint \n",
    "from tensorflow.keras.wrappers.scikit_learn import KerasClassifier\n",
    "\n",
    "from sklearn.metrics import roc_auc_score, roc_curve \n",
    "from sklearn.model_selection import train_test_split\n",
    "from sklearn.model_selection import RandomizedSearchCV\n",
    "from sklearn.metrics import confusion_matrix\n",
    "from sklearn.metrics import  accuracy_score as score\n",
    "from tensorflow.python.client import device_lib\n",
    "\n",
    "\n",
    "# Visiualization imports, Netron and tensorboard:\n",
    "import netron\n",
    "from datetime import datetime\n",
    "from packaging import version\n",
    "from tensorflow import keras\n",
    "\n",
    "print(\"TensorFlow version: \", tf.__version__)\n",
    "assert version.parse(tf.__version__).release[0] >= 2, \\\n",
    "    \"This notebook requires TensorFlow 2.0 or above.\"\n",
    "\n",
    "import tensorboard\n",
    "tensorboard.__version__\n"
   ]
  },
  {
   "cell_type": "code",
   "execution_count": 2,
   "metadata": {},
   "outputs": [],
   "source": [
    "# Try to get reproducable results\n",
    "from numpy.random import seed\n",
    "seed(85)\n",
    "from tensorflow.random import set_seed\n",
    "set_seed(75)"
   ]
  },
  {
   "cell_type": "markdown",
   "metadata": {
    "colab_type": "text",
    "id": "Hg5wX2Dd8Jjz"
   },
   "source": [
    "#### Set hyperparameters"
   ]
  },
  {
   "cell_type": "code",
   "execution_count": 3,
   "metadata": {
    "colab": {},
    "colab_type": "code",
    "id": "lYLOM99-8Jj2"
   },
   "outputs": [],
   "source": [
    "# output directory name:\n",
    "output_dir = 'output/LSTM-Final/'\n",
    "input_dir =  'Z:/Research/dfuller/Walkabilly/studies/smarphone_accel/data/Ethica_Jaeger_Merged/hand/'\n",
    "input_file_name = 'hand-NN-data.npz'\n",
    "\n",
    "# from the data preparation section we have:\n",
    "window_size_second = 3\n",
    "frequency = 30\n",
    "lenght_of_each_seq = window_size_second * frequency\n",
    "\n",
    "n_lstm_4 = 256\n",
    "n_lstm_3 = 256\n",
    "n_lstm_2 = 256\n",
    "n_lstm_1 = 128\n",
    "n_dense_2 = 512\n",
    "n_dense_1 = 512\n",
    "dropout_2 = 0.2\n",
    "dropout_1 = 0.3\n",
    "drop_lstm_4 = 0.02\n",
    "drop_lstm_3 = 0.1\n",
    "drop_lstm_2 = 0.02\n",
    "drop_lstm_1 = 0.02\n",
    "activation_dense = LeakyReLU()\n",
    "activation_conv = 'elu'\n",
    "\n",
    "# training:\n",
    "epochs = 120\n",
    "batch_size = 256\n"
   ]
  },
  {
   "cell_type": "markdown",
   "metadata": {
    "colab_type": "text",
    "id": "DaLx4yZ48Jj9"
   },
   "source": [
    "#### Load data"
   ]
  },
  {
   "cell_type": "markdown",
   "metadata": {
    "colab_type": "text",
    "id": "CD9X0yJg8Jj_"
   },
   "source": [
    "For this notebook we use only the **acceleration** data prepared in the DataPrep-Deep notebook."
   ]
  },
  {
   "cell_type": "code",
   "execution_count": 4,
   "metadata": {},
   "outputs": [],
   "source": [
    "# import the data\n",
    "raw_data = np.load(file=input_dir+input_file_name,allow_pickle=True)\n",
    "accel_array = raw_data['acceleration_data']\n",
    "meta_array = raw_data['metadata']\n",
    "labels_array = raw_data['labels']\n"
   ]
  },
  {
   "cell_type": "markdown",
   "metadata": {
    "colab_type": "text",
    "id": "WWq3ipbu8JlG"
   },
   "source": [
    "#### Preprocess data"
   ]
  },
  {
   "cell_type": "markdown",
   "metadata": {},
   "source": [
    "#### Convert the  labels to integer.\n",
    "In the raw data format of the labels is String and there are 6 classes. 'Lying', 'Sitting', 'Self Pace walk', 'Running 3 METs',\n",
    "       'Running 5 METs', 'Running 7 METs' <br>\n",
    "\n",
    "\n"
   ]
  },
  {
   "cell_type": "code",
   "execution_count": 5,
   "metadata": {
    "colab": {},
    "colab_type": "code",
    "id": "LyReiequ8Jln"
   },
   "outputs": [
    {
     "name": "stdout",
     "output_type": "stream",
     "text": [
      "The are 6 classes: ['Lying' 'Running 3 METs' 'Running 5 METs' 'Running 7 METs'\n",
      " 'Self Pace walk' 'Sitting']\n"
     ]
    }
   ],
   "source": [
    "# change from string to integer so keras.to_categorical can consume it\n",
    "\n",
    "# could do with factorize method as well\n",
    "n_class = len(np.unique(labels_array))\n",
    "class_list, labels_array_int = np.unique(labels_array,return_inverse=True)\n",
    "print(f'The are {len(class_list)} classes: {class_list}')"
   ]
  },
  {
   "cell_type": "markdown",
   "metadata": {},
   "source": [
    "#### Convert to categorical values"
   ]
  },
  {
   "cell_type": "code",
   "execution_count": 6,
   "metadata": {},
   "outputs": [],
   "source": [
    "# labels to categorical\n",
    "\n",
    "y = to_categorical(labels_array_int, num_classes=n_class)\n",
    "input_shape = list(accel_array.shape)"
   ]
  },
  {
   "cell_type": "markdown",
   "metadata": {
    "colab_type": "text",
    "collapsed": true,
    "id": "GscSnCpk8Jlm"
   },
   "source": [
    "\n",
    "#### Design neural network architecture"
   ]
  },
  {
   "cell_type": "code",
   "execution_count": 7,
   "metadata": {},
   "outputs": [],
   "source": [
    "# The best lstm model!\n",
    "\n",
    "model = Sequential()\n",
    "# LSTM layers\n",
    "model.add(LSTM(n_lstm_1, dropout=drop_lstm_1, \n",
    "                         return_sequences=True, input_shape=input_shape[1:])) \n",
    "model.add(LSTM(n_lstm_2, dropout=drop_lstm_2, \n",
    "                         return_sequences=True))\n",
    "model.add(LSTM(n_lstm_3, dropout=drop_lstm_3, \n",
    "                         return_sequences=True)) \n",
    "model.add(LSTM(n_lstm_4, dropout=drop_lstm_4, \n",
    "                         return_sequences=True))\n",
    "\n",
    "# Dense layers\n",
    "model.add(Flatten())\n",
    "model.add(Dense(n_dense_1, activation=activation_dense))\n",
    "model.add(Dropout(dropout_1))\n",
    "model.add(Dense(n_dense_2, activation=activation_dense))\n",
    "model.add(Dropout(dropout_2))\n",
    "model.add(Dense(n_class, activation='softmax'))\n",
    "\n",
    "model.compile(loss='categorical_crossentropy', optimizer='adam', metrics=['accuracy'])"
   ]
  },
  {
   "cell_type": "code",
   "execution_count": 8,
   "metadata": {
    "colab": {},
    "colab_type": "code",
    "id": "3nx7eGkg8Jlr",
    "outputId": "76af5145-5c7d-45c1-f292-e9f68a0907a9"
   },
   "outputs": [
    {
     "name": "stdout",
     "output_type": "stream",
     "text": [
      "Model: \"sequential\"\n",
      "_________________________________________________________________\n",
      "Layer (type)                 Output Shape              Param #   \n",
      "=================================================================\n",
      "lstm (LSTM)                  (None, 90, 128)           67584     \n",
      "_________________________________________________________________\n",
      "lstm_1 (LSTM)                (None, 90, 256)           394240    \n",
      "_________________________________________________________________\n",
      "lstm_2 (LSTM)                (None, 90, 256)           525312    \n",
      "_________________________________________________________________\n",
      "lstm_3 (LSTM)                (None, 90, 256)           525312    \n",
      "_________________________________________________________________\n",
      "flatten (Flatten)            (None, 23040)             0         \n",
      "_________________________________________________________________\n",
      "dense (Dense)                (None, 512)               11796992  \n",
      "_________________________________________________________________\n",
      "dropout (Dropout)            (None, 512)               0         \n",
      "_________________________________________________________________\n",
      "dense_1 (Dense)              (None, 512)               262656    \n",
      "_________________________________________________________________\n",
      "dropout_1 (Dropout)          (None, 512)               0         \n",
      "_________________________________________________________________\n",
      "dense_2 (Dense)              (None, 6)                 3078      \n",
      "=================================================================\n",
      "Total params: 13,575,174\n",
      "Trainable params: 13,575,174\n",
      "Non-trainable params: 0\n",
      "_________________________________________________________________\n"
     ]
    }
   ],
   "source": [
    "model.summary()"
   ]
  },
  {
   "cell_type": "markdown",
   "metadata": {
    "colab": {},
    "colab_type": "code",
    "id": "40x3s0KY8Jlv",
    "outputId": "d3ac3e31-3c47-4b01-c2f9-ada0684b31b7"
   },
   "source": [
    "### Splitting and shuffeling the data"
   ]
  },
  {
   "cell_type": "code",
   "execution_count": 9,
   "metadata": {
    "colab": {},
    "colab_type": "code",
    "id": "f5grc2H78Jlz",
    "outputId": "3f7eeb55-f851-4796-de4e-0c68eb9df88d"
   },
   "outputs": [],
   "source": [
    "# split and shuffle\n",
    "x_train, x_valid, y_train, y_valid = train_test_split(\n",
    "     accel_array, y, test_size=0.1, random_state=65)"
   ]
  },
  {
   "cell_type": "markdown",
   "metadata": {
    "colab_type": "text",
    "id": "JkbhJMox8Jl9"
   },
   "source": [
    "#### Prepare to save each epoch\n",
    "The weights and a log for tensorboard are saved. Later we load back the best model"
   ]
  },
  {
   "cell_type": "code",
   "execution_count": 10,
   "metadata": {
    "colab": {},
    "colab_type": "code",
    "id": "zHjvYe288JmE"
   },
   "outputs": [],
   "source": [
    "modelcheckpoint = ModelCheckpoint(filepath=output_dir+\n",
    "                                  \"/weights.{epoch:02d}.hdf5\")\n",
    "\n",
    "# Define the Keras TensorBoard callback.\n",
    "logdir=  \"logs/fit/\" + datetime.now().strftime(\"%Y%m%d-%H%M%S\")\n",
    "tensorboard_callback = keras.callbacks.TensorBoard(log_dir=logdir)\n"
   ]
  },
  {
   "cell_type": "markdown",
   "metadata": {},
   "source": [
    "#### Create a folder to save each epoch of training"
   ]
  },
  {
   "cell_type": "code",
   "execution_count": 11,
   "metadata": {
    "colab": {},
    "colab_type": "code",
    "id": "esUwodZA8JmI"
   },
   "outputs": [],
   "source": [
    "if not os.path.exists(output_dir):\n",
    "    os.makedirs(output_dir)"
   ]
  },
  {
   "cell_type": "code",
   "execution_count": 12,
   "metadata": {},
   "outputs": [
    {
     "data": {
      "text/plain": [
       "((58253, 90, 3), (58253, 6), (6473, 90, 3), (6473, 6))"
      ]
     },
     "execution_count": 12,
     "metadata": {},
     "output_type": "execute_result"
    }
   ],
   "source": [
    "x_train.shape, y_train.shape, x_valid.shape, y_valid.shape"
   ]
  },
  {
   "cell_type": "markdown",
   "metadata": {
    "colab_type": "text",
    "id": "TEYpX7968JmL"
   },
   "source": [
    "#### Train!"
   ]
  },
  {
   "cell_type": "code",
   "execution_count": 13,
   "metadata": {
    "colab": {},
    "colab_type": "code",
    "id": "QaD1W7Ka8JmM",
    "outputId": "f0c30141-0962-48f6-a000-d136af50af79",
    "scrolled": true
   },
   "outputs": [
    {
     "name": "stdout",
     "output_type": "stream",
     "text": [
      "Epoch 1/120\n",
      "  1/228 [..............................] - ETA: 5s - loss: 1.7925 - accuracy: 0.1836WARNING:tensorflow:From C:\\Users\\dfuller\\AppData\\Local\\Continuum\\anaconda3\\envs\\tf-gpu\\lib\\site-packages\\tensorflow\\python\\ops\\summary_ops_v2.py:1277: stop (from tensorflow.python.eager.profiler) is deprecated and will be removed after 2020-07-01.\n",
      "Instructions for updating:\n",
      "use `tf.profiler.experimental.stop` instead.\n",
      "  2/228 [..............................] - ETA: 27s - loss: 1.7463 - accuracy: 0.2188WARNING:tensorflow:Callbacks method `on_train_batch_end` is slow compared to the batch time (batch time: 0.0718s vs `on_train_batch_end` time: 0.1456s). Check your callbacks.\n",
      "228/228 [==============================] - 36s 157ms/step - loss: 1.1729 - accuracy: 0.5394 - val_loss: 0.9443 - val_accuracy: 0.6326\n",
      "Epoch 2/120\n",
      "228/228 [==============================] - 35s 155ms/step - loss: 0.8648 - accuracy: 0.6682 - val_loss: 0.7497 - val_accuracy: 0.7099\n",
      "Epoch 3/120\n",
      "228/228 [==============================] - 36s 156ms/step - loss: 0.7165 - accuracy: 0.7320 - val_loss: 0.6382 - val_accuracy: 0.7678\n",
      "Epoch 4/120\n",
      "228/228 [==============================] - 36s 157ms/step - loss: 0.6403 - accuracy: 0.7626 - val_loss: 0.5905 - val_accuracy: 0.7785\n",
      "Epoch 5/120\n",
      "228/228 [==============================] - 36s 157ms/step - loss: 0.5895 - accuracy: 0.7837 - val_loss: 0.5764 - val_accuracy: 0.7862\n",
      "Epoch 6/120\n",
      "228/228 [==============================] - 36s 158ms/step - loss: 0.5447 - accuracy: 0.8018 - val_loss: 0.5516 - val_accuracy: 0.7955\n",
      "Epoch 7/120\n",
      "228/228 [==============================] - 36s 158ms/step - loss: 0.5146 - accuracy: 0.8144 - val_loss: 0.5272 - val_accuracy: 0.8103\n",
      "Epoch 8/120\n",
      "228/228 [==============================] - 36s 158ms/step - loss: 0.4888 - accuracy: 0.8228 - val_loss: 0.5029 - val_accuracy: 0.8179\n",
      "Epoch 9/120\n",
      "228/228 [==============================] - 36s 158ms/step - loss: 0.4624 - accuracy: 0.8317 - val_loss: 0.4576 - val_accuracy: 0.8342\n",
      "Epoch 10/120\n",
      "228/228 [==============================] - 36s 159ms/step - loss: 0.4414 - accuracy: 0.8405 - val_loss: 0.4644 - val_accuracy: 0.8253\n",
      "Epoch 11/120\n",
      "228/228 [==============================] - 36s 159ms/step - loss: 0.4263 - accuracy: 0.8440 - val_loss: 0.4536 - val_accuracy: 0.8379\n",
      "Epoch 12/120\n",
      "228/228 [==============================] - 36s 159ms/step - loss: 0.4142 - accuracy: 0.8489 - val_loss: 0.4475 - val_accuracy: 0.8421\n",
      "Epoch 13/120\n",
      "228/228 [==============================] - 36s 159ms/step - loss: 0.3966 - accuracy: 0.8547 - val_loss: 0.4525 - val_accuracy: 0.8372\n",
      "Epoch 14/120\n",
      "228/228 [==============================] - 36s 159ms/step - loss: 0.3841 - accuracy: 0.8598 - val_loss: 0.4525 - val_accuracy: 0.8356\n",
      "Epoch 15/120\n",
      "228/228 [==============================] - 36s 159ms/step - loss: 0.3679 - accuracy: 0.8650 - val_loss: 0.4568 - val_accuracy: 0.8433\n",
      "Epoch 16/120\n",
      "228/228 [==============================] - 36s 159ms/step - loss: 0.3597 - accuracy: 0.8664 - val_loss: 0.4224 - val_accuracy: 0.8469\n",
      "Epoch 17/120\n",
      "228/228 [==============================] - 36s 159ms/step - loss: 0.3468 - accuracy: 0.8723 - val_loss: 0.4416 - val_accuracy: 0.8506\n",
      "Epoch 18/120\n",
      "228/228 [==============================] - 36s 159ms/step - loss: 0.3376 - accuracy: 0.8756 - val_loss: 0.4145 - val_accuracy: 0.8563\n",
      "Epoch 19/120\n",
      "228/228 [==============================] - 36s 159ms/step - loss: 0.3296 - accuracy: 0.8781 - val_loss: 0.4463 - val_accuracy: 0.8433\n",
      "Epoch 20/120\n",
      "228/228 [==============================] - 36s 160ms/step - loss: 0.3133 - accuracy: 0.8850 - val_loss: 0.4282 - val_accuracy: 0.8597\n",
      "Epoch 21/120\n",
      "228/228 [==============================] - 36s 160ms/step - loss: 0.3055 - accuracy: 0.8879 - val_loss: 0.4434 - val_accuracy: 0.8590\n",
      "Epoch 22/120\n",
      "228/228 [==============================] - 36s 160ms/step - loss: 0.2897 - accuracy: 0.8929 - val_loss: 0.4355 - val_accuracy: 0.8619\n",
      "Epoch 23/120\n",
      "228/228 [==============================] - 36s 160ms/step - loss: 0.2864 - accuracy: 0.8932 - val_loss: 0.4342 - val_accuracy: 0.8622\n",
      "Epoch 24/120\n",
      "228/228 [==============================] - 36s 159ms/step - loss: 0.2773 - accuracy: 0.8974 - val_loss: 0.4135 - val_accuracy: 0.8650\n",
      "Epoch 25/120\n",
      "228/228 [==============================] - 36s 160ms/step - loss: 0.2720 - accuracy: 0.8997 - val_loss: 0.4586 - val_accuracy: 0.8557\n",
      "Epoch 26/120\n",
      "228/228 [==============================] - 36s 160ms/step - loss: 0.2591 - accuracy: 0.9035 - val_loss: 0.4453 - val_accuracy: 0.8620\n",
      "Epoch 27/120\n",
      "228/228 [==============================] - 36s 160ms/step - loss: 0.2541 - accuracy: 0.9071 - val_loss: 0.4459 - val_accuracy: 0.8585\n",
      "Epoch 28/120\n",
      "228/228 [==============================] - 36s 160ms/step - loss: 0.2471 - accuracy: 0.9098 - val_loss: 0.4624 - val_accuracy: 0.8636\n",
      "Epoch 29/120\n",
      "228/228 [==============================] - 36s 159ms/step - loss: 0.2359 - accuracy: 0.9129 - val_loss: 0.4446 - val_accuracy: 0.8658\n",
      "Epoch 30/120\n",
      "228/228 [==============================] - 36s 160ms/step - loss: 0.2313 - accuracy: 0.9150 - val_loss: 0.4820 - val_accuracy: 0.8648\n",
      "Epoch 31/120\n",
      "228/228 [==============================] - 36s 160ms/step - loss: 0.2280 - accuracy: 0.9150 - val_loss: 0.4529 - val_accuracy: 0.8710\n",
      "Epoch 32/120\n",
      "228/228 [==============================] - 36s 160ms/step - loss: 0.2201 - accuracy: 0.9172 - val_loss: 0.4609 - val_accuracy: 0.8722\n",
      "Epoch 33/120\n",
      "228/228 [==============================] - 36s 160ms/step - loss: 0.2189 - accuracy: 0.9200 - val_loss: 0.4401 - val_accuracy: 0.8739\n",
      "Epoch 34/120\n",
      "228/228 [==============================] - 36s 160ms/step - loss: 0.2151 - accuracy: 0.9204 - val_loss: 0.4937 - val_accuracy: 0.8617\n",
      "Epoch 35/120\n",
      "228/228 [==============================] - 36s 160ms/step - loss: 0.2053 - accuracy: 0.9231 - val_loss: 0.4877 - val_accuracy: 0.8702\n",
      "Epoch 36/120\n",
      "228/228 [==============================] - 36s 160ms/step - loss: 0.2038 - accuracy: 0.9256 - val_loss: 0.4459 - val_accuracy: 0.8806\n",
      "Epoch 37/120\n",
      "228/228 [==============================] - 36s 160ms/step - loss: 0.1940 - accuracy: 0.9283 - val_loss: 0.4792 - val_accuracy: 0.8752\n",
      "Epoch 38/120\n",
      "228/228 [==============================] - 36s 160ms/step - loss: 0.1979 - accuracy: 0.9276 - val_loss: 0.4656 - val_accuracy: 0.8747\n",
      "Epoch 39/120\n",
      "228/228 [==============================] - 36s 159ms/step - loss: 0.1918 - accuracy: 0.9293 - val_loss: 0.4944 - val_accuracy: 0.8732\n",
      "Epoch 40/120\n",
      "228/228 [==============================] - 36s 160ms/step - loss: 0.1831 - accuracy: 0.9319 - val_loss: 0.4825 - val_accuracy: 0.8742\n",
      "Epoch 41/120\n",
      "228/228 [==============================] - 36s 160ms/step - loss: 0.1796 - accuracy: 0.9339 - val_loss: 0.5221 - val_accuracy: 0.8759\n",
      "Epoch 42/120\n",
      "228/228 [==============================] - 36s 160ms/step - loss: 0.1777 - accuracy: 0.9357 - val_loss: 0.4875 - val_accuracy: 0.8844\n",
      "Epoch 43/120\n",
      "228/228 [==============================] - 36s 160ms/step - loss: 0.1764 - accuracy: 0.9352 - val_loss: 0.4975 - val_accuracy: 0.8787\n",
      "Epoch 44/120\n",
      "228/228 [==============================] - 36s 160ms/step - loss: 0.1726 - accuracy: 0.9356 - val_loss: 0.4979 - val_accuracy: 0.8820\n",
      "Epoch 45/120\n",
      "228/228 [==============================] - 36s 160ms/step - loss: 0.1667 - accuracy: 0.9383 - val_loss: 0.4892 - val_accuracy: 0.8817\n",
      "Epoch 46/120\n",
      "228/228 [==============================] - 36s 160ms/step - loss: 0.1615 - accuracy: 0.9403 - val_loss: 0.5140 - val_accuracy: 0.8746\n",
      "Epoch 47/120\n",
      "228/228 [==============================] - 36s 160ms/step - loss: 0.1624 - accuracy: 0.9402 - val_loss: 0.4970 - val_accuracy: 0.8817\n",
      "Epoch 48/120\n",
      "228/228 [==============================] - 36s 160ms/step - loss: 0.1589 - accuracy: 0.9415 - val_loss: 0.4942 - val_accuracy: 0.8759\n",
      "Epoch 49/120\n",
      "228/228 [==============================] - 36s 160ms/step - loss: 0.1558 - accuracy: 0.9431 - val_loss: 0.5371 - val_accuracy: 0.8837\n",
      "Epoch 50/120\n",
      "228/228 [==============================] - 36s 160ms/step - loss: 0.1535 - accuracy: 0.9438 - val_loss: 0.5262 - val_accuracy: 0.8821\n",
      "Epoch 51/120\n",
      "228/228 [==============================] - 36s 160ms/step - loss: 0.1531 - accuracy: 0.9440 - val_loss: 0.5188 - val_accuracy: 0.8755\n",
      "Epoch 52/120\n"
     ]
    },
    {
     "name": "stdout",
     "output_type": "stream",
     "text": [
      "228/228 [==============================] - 36s 159ms/step - loss: 0.1492 - accuracy: 0.9449 - val_loss: 0.5257 - val_accuracy: 0.8863\n",
      "Epoch 53/120\n",
      "228/228 [==============================] - 36s 159ms/step - loss: 0.1464 - accuracy: 0.9467 - val_loss: 0.5027 - val_accuracy: 0.8872\n",
      "Epoch 54/120\n",
      "228/228 [==============================] - 37s 160ms/step - loss: 0.1371 - accuracy: 0.9488 - val_loss: 0.5330 - val_accuracy: 0.8883\n",
      "Epoch 55/120\n",
      "228/228 [==============================] - 36s 160ms/step - loss: 0.1428 - accuracy: 0.9477 - val_loss: 0.5218 - val_accuracy: 0.8844\n",
      "Epoch 56/120\n",
      "228/228 [==============================] - 36s 159ms/step - loss: 0.1352 - accuracy: 0.9506 - val_loss: 0.5238 - val_accuracy: 0.8875\n",
      "Epoch 57/120\n",
      "228/228 [==============================] - 36s 160ms/step - loss: 0.1329 - accuracy: 0.9510 - val_loss: 0.5501 - val_accuracy: 0.8817\n",
      "Epoch 58/120\n",
      "228/228 [==============================] - 36s 160ms/step - loss: 0.1341 - accuracy: 0.9502 - val_loss: 0.5631 - val_accuracy: 0.8840\n",
      "Epoch 59/120\n",
      "228/228 [==============================] - 36s 160ms/step - loss: 0.1321 - accuracy: 0.9509 - val_loss: 0.5348 - val_accuracy: 0.8837\n",
      "Epoch 60/120\n",
      "228/228 [==============================] - 36s 159ms/step - loss: 0.1261 - accuracy: 0.9535 - val_loss: 0.5561 - val_accuracy: 0.8848\n",
      "Epoch 61/120\n",
      "228/228 [==============================] - 36s 160ms/step - loss: 0.1281 - accuracy: 0.9525 - val_loss: 0.5448 - val_accuracy: 0.8855\n",
      "Epoch 62/120\n",
      "228/228 [==============================] - 36s 159ms/step - loss: 0.1296 - accuracy: 0.9520 - val_loss: 0.5144 - val_accuracy: 0.8844\n",
      "Epoch 63/120\n",
      "228/228 [==============================] - 36s 160ms/step - loss: 0.1228 - accuracy: 0.9543 - val_loss: 0.5313 - val_accuracy: 0.8905\n",
      "Epoch 64/120\n",
      "228/228 [==============================] - 36s 160ms/step - loss: 0.1236 - accuracy: 0.9545 - val_loss: 0.5607 - val_accuracy: 0.8937\n",
      "Epoch 65/120\n",
      "228/228 [==============================] - 36s 160ms/step - loss: 0.1168 - accuracy: 0.9559 - val_loss: 0.5434 - val_accuracy: 0.8878\n",
      "Epoch 66/120\n",
      "228/228 [==============================] - 36s 159ms/step - loss: 0.1219 - accuracy: 0.9561 - val_loss: 0.5489 - val_accuracy: 0.8899\n",
      "Epoch 67/120\n",
      "228/228 [==============================] - 36s 160ms/step - loss: 0.1176 - accuracy: 0.9562 - val_loss: 0.6137 - val_accuracy: 0.8897\n",
      "Epoch 68/120\n",
      "228/228 [==============================] - 36s 160ms/step - loss: 0.1156 - accuracy: 0.9581 - val_loss: 0.5770 - val_accuracy: 0.8911\n",
      "Epoch 69/120\n",
      "228/228 [==============================] - 36s 160ms/step - loss: 0.1143 - accuracy: 0.9580 - val_loss: 0.5912 - val_accuracy: 0.8868\n",
      "Epoch 70/120\n",
      "228/228 [==============================] - 36s 160ms/step - loss: 0.1067 - accuracy: 0.9597 - val_loss: 0.5894 - val_accuracy: 0.8891\n",
      "Epoch 71/120\n",
      "228/228 [==============================] - 36s 160ms/step - loss: 0.1097 - accuracy: 0.9589 - val_loss: 0.5694 - val_accuracy: 0.8899\n",
      "Epoch 72/120\n",
      "228/228 [==============================] - 36s 159ms/step - loss: 0.1093 - accuracy: 0.9598 - val_loss: 0.5472 - val_accuracy: 0.8922\n",
      "Epoch 73/120\n",
      "228/228 [==============================] - 36s 160ms/step - loss: 0.1094 - accuracy: 0.9603 - val_loss: 0.5511 - val_accuracy: 0.8954\n",
      "Epoch 74/120\n",
      "228/228 [==============================] - 36s 160ms/step - loss: 0.1084 - accuracy: 0.9602 - val_loss: 0.5530 - val_accuracy: 0.8895\n",
      "Epoch 75/120\n",
      "228/228 [==============================] - 36s 160ms/step - loss: 0.1020 - accuracy: 0.9625 - val_loss: 0.5890 - val_accuracy: 0.8936\n",
      "Epoch 76/120\n",
      "228/228 [==============================] - 36s 159ms/step - loss: 0.1032 - accuracy: 0.9618 - val_loss: 0.6128 - val_accuracy: 0.8914\n",
      "Epoch 77/120\n",
      "228/228 [==============================] - 36s 160ms/step - loss: 0.1065 - accuracy: 0.9610 - val_loss: 0.5639 - val_accuracy: 0.8946\n",
      "Epoch 78/120\n",
      "228/228 [==============================] - 36s 160ms/step - loss: 0.0995 - accuracy: 0.9636 - val_loss: 0.6225 - val_accuracy: 0.8915\n",
      "Epoch 79/120\n",
      "228/228 [==============================] - 36s 160ms/step - loss: 0.0940 - accuracy: 0.9651 - val_loss: 0.5892 - val_accuracy: 0.8897\n",
      "Epoch 80/120\n",
      "228/228 [==============================] - 36s 160ms/step - loss: 0.0937 - accuracy: 0.9649 - val_loss: 0.5499 - val_accuracy: 0.8951\n",
      "Epoch 81/120\n",
      "228/228 [==============================] - 36s 160ms/step - loss: 0.0961 - accuracy: 0.9651 - val_loss: 0.5992 - val_accuracy: 0.8835\n",
      "Epoch 82/120\n",
      "228/228 [==============================] - 36s 160ms/step - loss: 0.1028 - accuracy: 0.9628 - val_loss: 0.5606 - val_accuracy: 0.8994\n",
      "Epoch 83/120\n",
      "228/228 [==============================] - 36s 160ms/step - loss: 0.0882 - accuracy: 0.9675 - val_loss: 0.5686 - val_accuracy: 0.8948\n",
      "Epoch 84/120\n",
      "228/228 [==============================] - 36s 160ms/step - loss: 0.0890 - accuracy: 0.9682 - val_loss: 0.5535 - val_accuracy: 0.8962\n",
      "Epoch 85/120\n",
      "228/228 [==============================] - 36s 160ms/step - loss: 0.0915 - accuracy: 0.9667 - val_loss: 0.5863 - val_accuracy: 0.8949\n",
      "Epoch 86/120\n",
      "228/228 [==============================] - 36s 160ms/step - loss: 0.0893 - accuracy: 0.9674 - val_loss: 0.5908 - val_accuracy: 0.8882\n",
      "Epoch 87/120\n",
      "228/228 [==============================] - 36s 160ms/step - loss: 0.0882 - accuracy: 0.9671 - val_loss: 0.6045 - val_accuracy: 0.8917\n",
      "Epoch 88/120\n",
      "228/228 [==============================] - 36s 159ms/step - loss: 0.0920 - accuracy: 0.9668 - val_loss: 0.6238 - val_accuracy: 0.8939\n",
      "Epoch 89/120\n",
      "228/228 [==============================] - 36s 160ms/step - loss: 0.0883 - accuracy: 0.9680 - val_loss: 0.5992 - val_accuracy: 0.8937\n",
      "Epoch 90/120\n",
      "228/228 [==============================] - 36s 160ms/step - loss: 0.0849 - accuracy: 0.9693 - val_loss: 0.5859 - val_accuracy: 0.8922\n",
      "Epoch 91/120\n",
      "228/228 [==============================] - 36s 160ms/step - loss: 0.0814 - accuracy: 0.9705 - val_loss: 0.5750 - val_accuracy: 0.8953\n",
      "Epoch 92/120\n",
      "228/228 [==============================] - 36s 160ms/step - loss: 0.0836 - accuracy: 0.9694 - val_loss: 0.5917 - val_accuracy: 0.8911\n",
      "Epoch 93/120\n",
      "228/228 [==============================] - 36s 160ms/step - loss: 0.0779 - accuracy: 0.9720 - val_loss: 0.6286 - val_accuracy: 0.8960\n",
      "Epoch 94/120\n",
      "228/228 [==============================] - 36s 160ms/step - loss: 0.0800 - accuracy: 0.9710 - val_loss: 0.6274 - val_accuracy: 0.8858\n",
      "Epoch 95/120\n",
      "228/228 [==============================] - 36s 160ms/step - loss: 0.0788 - accuracy: 0.9721 - val_loss: 0.6176 - val_accuracy: 0.8968\n",
      "Epoch 96/120\n",
      "228/228 [==============================] - 36s 160ms/step - loss: 0.0773 - accuracy: 0.9712 - val_loss: 0.5998 - val_accuracy: 0.8971\n",
      "Epoch 97/120\n",
      "228/228 [==============================] - 36s 160ms/step - loss: 0.0794 - accuracy: 0.9711 - val_loss: 0.5738 - val_accuracy: 0.8980\n",
      "Epoch 98/120\n",
      "228/228 [==============================] - 36s 160ms/step - loss: 0.0772 - accuracy: 0.9719 - val_loss: 0.5999 - val_accuracy: 0.9002\n",
      "Epoch 99/120\n",
      "228/228 [==============================] - 36s 160ms/step - loss: 0.0745 - accuracy: 0.9738 - val_loss: 0.6353 - val_accuracy: 0.8982\n",
      "Epoch 100/120\n",
      "228/228 [==============================] - 36s 160ms/step - loss: 0.0691 - accuracy: 0.9740 - val_loss: 0.6509 - val_accuracy: 0.8920\n",
      "Epoch 101/120\n",
      "228/228 [==============================] - 36s 160ms/step - loss: 0.0687 - accuracy: 0.9749 - val_loss: 0.6514 - val_accuracy: 0.9016\n",
      "Epoch 102/120\n",
      "228/228 [==============================] - 36s 160ms/step - loss: 0.0726 - accuracy: 0.9742 - val_loss: 0.5935 - val_accuracy: 0.8970\n",
      "Epoch 103/120\n",
      "228/228 [==============================] - 36s 160ms/step - loss: 0.0700 - accuracy: 0.9752 - val_loss: 0.6688 - val_accuracy: 0.8928\n",
      "Epoch 104/120\n",
      "228/228 [==============================] - 36s 160ms/step - loss: 0.0724 - accuracy: 0.9738 - val_loss: 0.5825 - val_accuracy: 0.8990\n",
      "Epoch 105/120\n",
      "228/228 [==============================] - 36s 159ms/step - loss: 0.0686 - accuracy: 0.9744 - val_loss: 0.6739 - val_accuracy: 0.8990\n",
      "Epoch 106/120\n",
      "228/228 [==============================] - 36s 160ms/step - loss: 0.0632 - accuracy: 0.9770 - val_loss: 0.7936 - val_accuracy: 0.8954\n",
      "Epoch 107/120\n",
      "228/228 [==============================] - 36s 160ms/step - loss: 0.0735 - accuracy: 0.9749 - val_loss: 0.6319 - val_accuracy: 0.8970\n"
     ]
    },
    {
     "name": "stdout",
     "output_type": "stream",
     "text": [
      "Epoch 108/120\n",
      "228/228 [==============================] - 36s 159ms/step - loss: 0.0683 - accuracy: 0.9761 - val_loss: 0.6300 - val_accuracy: 0.8971\n",
      "Epoch 109/120\n",
      "228/228 [==============================] - 36s 160ms/step - loss: 0.0642 - accuracy: 0.9770 - val_loss: 0.6774 - val_accuracy: 0.9010\n",
      "Epoch 110/120\n",
      "228/228 [==============================] - 36s 159ms/step - loss: 0.0641 - accuracy: 0.9767 - val_loss: 0.7055 - val_accuracy: 0.8939\n",
      "Epoch 111/120\n",
      "228/228 [==============================] - 36s 159ms/step - loss: 0.0683 - accuracy: 0.9762 - val_loss: 0.6726 - val_accuracy: 0.8960\n",
      "Epoch 112/120\n",
      "228/228 [==============================] - 36s 160ms/step - loss: 0.0659 - accuracy: 0.9764 - val_loss: 0.6886 - val_accuracy: 0.8962\n",
      "Epoch 113/120\n",
      "228/228 [==============================] - 36s 159ms/step - loss: 0.0651 - accuracy: 0.9770 - val_loss: 0.6177 - val_accuracy: 0.8960\n",
      "Epoch 114/120\n",
      "228/228 [==============================] - 36s 160ms/step - loss: 0.0623 - accuracy: 0.9784 - val_loss: 0.6785 - val_accuracy: 0.9017\n",
      "Epoch 115/120\n",
      "228/228 [==============================] - 36s 159ms/step - loss: 0.0598 - accuracy: 0.9782 - val_loss: 0.6966 - val_accuracy: 0.9011\n",
      "Epoch 116/120\n",
      "228/228 [==============================] - 36s 160ms/step - loss: 0.0590 - accuracy: 0.9793 - val_loss: 0.6755 - val_accuracy: 0.8985\n",
      "Epoch 117/120\n",
      "228/228 [==============================] - 36s 160ms/step - loss: 0.0620 - accuracy: 0.9783 - val_loss: 0.6377 - val_accuracy: 0.8974\n",
      "Epoch 118/120\n",
      "228/228 [==============================] - 36s 159ms/step - loss: 0.0592 - accuracy: 0.9782 - val_loss: 0.6360 - val_accuracy: 0.9021\n",
      "Epoch 119/120\n",
      "228/228 [==============================] - 36s 159ms/step - loss: 0.0593 - accuracy: 0.9795 - val_loss: 0.6145 - val_accuracy: 0.9041\n",
      "Epoch 120/120\n",
      "228/228 [==============================] - 36s 160ms/step - loss: 0.0545 - accuracy: 0.9807 - val_loss: 0.6734 - val_accuracy: 0.9017\n"
     ]
    },
    {
     "data": {
      "text/plain": [
       "<tensorflow.python.keras.callbacks.History at 0x1b940e92648>"
      ]
     },
     "execution_count": 13,
     "metadata": {},
     "output_type": "execute_result"
    }
   ],
   "source": [
    "model.fit(x_train, y_train, \n",
    "         batch_size=batch_size, epochs=epochs, verbose=1, \n",
    "         validation_data=(x_valid, y_valid), \n",
    "         callbacks=[modelcheckpoint, tensorboard_callback])"
   ]
  },
  {
   "cell_type": "markdown",
   "metadata": {},
   "source": [
    "#### Load the best epoch's weight"
   ]
  },
  {
   "cell_type": "code",
   "execution_count": 32,
   "metadata": {
    "colab": {},
    "colab_type": "code",
    "id": "z8t0nVCw8JmP"
   },
   "outputs": [],
   "source": [
    "model.load_weights(output_dir+\"/weights.119.hdf5\") #90.41"
   ]
  },
  {
   "cell_type": "markdown",
   "metadata": {
    "colab_type": "text",
    "id": "7PWlH5SJ8JmP"
   },
   "source": [
    "## Evaluate\n",
    "\n",
    "Make predictions and check the results"
   ]
  },
  {
   "cell_type": "code",
   "execution_count": 33,
   "metadata": {
    "colab": {},
    "colab_type": "code",
    "id": "kZwGk5dR8JmS"
   },
   "outputs": [],
   "source": [
    "y_hat = model.predict(x_valid)"
   ]
  },
  {
   "cell_type": "code",
   "execution_count": 34,
   "metadata": {
    "colab": {},
    "colab_type": "code",
    "id": "FTWf6Cf-8Jme",
    "outputId": "1256b170-33dc-4171-f2ff-7a3d7ddd74e3"
   },
   "outputs": [
    {
     "data": {
      "image/png": "[encoded data removed]",
      "text/plain": [
       "<Figure size 432x288 with 1 Axes>"
      ]
     },
     "metadata": {
      "needs_background": "light"
     },
     "output_type": "display_data"
    }
   ],
   "source": [
    "plt.hist(y_hat)\n",
    "_ = plt.axvline(x=0.5, color='orange')"
   ]
  },
  {
   "cell_type": "markdown",
   "metadata": {},
   "source": [
    "#### Histogram of probabilities for each class\n",
    "If most probabilities are around either zero or one, it means the model was confidant in classification"
   ]
  },
  {
   "cell_type": "code",
   "execution_count": 35,
   "metadata": {},
   "outputs": [
    {
     "data": {
      "image/png": "[encoded data removed]",
      "text/plain": [
       "<Figure size 1080x720 with 6 Axes>"
      ]
     },
     "metadata": {
      "needs_background": "light"
     },
     "output_type": "display_data"
    }
   ],
   "source": [
    "df = pd.DataFrame(y_hat, columns=class_list)\n",
    "_ = df.hist(figsize=(15,10), color='brown')"
   ]
  },
  {
   "cell_type": "code",
   "execution_count": 36,
   "metadata": {
    "colab": {},
    "colab_type": "code",
    "id": "RNljSx3v8Jmh"
   },
   "outputs": [],
   "source": [
    "# Calculate ROC and Accuracy\n",
    "pct_auc = roc_auc_score(y_valid, y_hat)*100.0\n",
    "y_pred_classes = y_hat.round()\n",
    "acc = score(y_valid, y_pred_classes) * 100"
   ]
  },
  {
   "cell_type": "code",
   "execution_count": 37,
   "metadata": {
    "colab": {},
    "colab_type": "code",
    "id": "SO_N9lJG8Jmj",
    "outputId": "20968a52-8ca0-44d3-abf6-a1382bba5cde"
   },
   "outputs": [
    {
     "name": "stdout",
     "output_type": "stream",
     "text": [
      "The model accuracy is: 90.16\n",
      "The area under ROC curve is: 98.33\n"
     ]
    }
   ],
   "source": [
    "print(\"The model accuracy is: {:0.2f}\".format(acc))\n",
    "print(\"The area under ROC curve is: {:0.2f}\".format(pct_auc))"
   ]
  },
  {
   "cell_type": "code",
   "execution_count": 38,
   "metadata": {
    "colab": {},
    "colab_type": "code",
    "id": "vU3hnA298Jmo"
   },
   "outputs": [],
   "source": [
    "# Convert the predicted outcomes to categorical variable to compare with validation data, just for checking\n",
    "\n",
    "float_y_hat = []\n",
    "for y in y_hat:\n",
    "    float_y_hat.append(y[0:7].round(3))"
   ]
  },
  {
   "cell_type": "code",
   "execution_count": 39,
   "metadata": {
    "colab": {},
    "colab_type": "code",
    "id": "zrTf-aQl8Jmr"
   },
   "outputs": [],
   "source": [
    "ydf = pd.DataFrame(list(zip(float_y_hat, y_valid)), columns=['y_hat', 'y'])"
   ]
  },
  {
   "cell_type": "code",
   "execution_count": 40,
   "metadata": {
    "colab": {},
    "colab_type": "code",
    "id": "zAyKh_mX8Jmu",
    "outputId": "611224b8-f980-47df-d596-9aa3a5811009"
   },
   "outputs": [
    {
     "data": {
      "text/html": [
       "<div>\n",
       "<style scoped>\n",
       "    .dataframe tbody tr th:only-of-type {\n",
       "        vertical-align: middle;\n",
       "    }\n",
       "\n",
       "    .dataframe tbody tr th {\n",
       "        vertical-align: top;\n",
       "    }\n",
       "\n",
       "    .dataframe thead th {\n",
       "        text-align: right;\n",
       "    }\n",
       "</style>\n",
       "<table border=\"1\" class=\"dataframe\">\n",
       "  <thead>\n",
       "    <tr style=\"text-align: right;\">\n",
       "      <th></th>\n",
       "      <th>y_hat</th>\n",
       "      <th>y</th>\n",
       "    </tr>\n",
       "  </thead>\n",
       "  <tbody>\n",
       "    <tr>\n",
       "      <th>0</th>\n",
       "      <td>[0.0, 0.0, 0.0, 0.0, 0.0, 1.0]</td>\n",
       "      <td>[0.0, 0.0, 0.0, 0.0, 0.0, 1.0]</td>\n",
       "    </tr>\n",
       "    <tr>\n",
       "      <th>1</th>\n",
       "      <td>[0.0, 0.0, 0.0, 0.0, 0.0, 1.0]</td>\n",
       "      <td>[0.0, 0.0, 0.0, 0.0, 0.0, 1.0]</td>\n",
       "    </tr>\n",
       "    <tr>\n",
       "      <th>2</th>\n",
       "      <td>[0.0, 0.0, 1.0, 0.0, 0.0, 0.0]</td>\n",
       "      <td>[0.0, 0.0, 1.0, 0.0, 0.0, 0.0]</td>\n",
       "    </tr>\n",
       "    <tr>\n",
       "      <th>3</th>\n",
       "      <td>[0.0, 0.0, 0.001, 0.0, 0.0, 0.999]</td>\n",
       "      <td>[0.0, 0.0, 0.0, 0.0, 0.0, 1.0]</td>\n",
       "    </tr>\n",
       "    <tr>\n",
       "      <th>4</th>\n",
       "      <td>[0.0, 0.0, 0.906, 0.0, 0.0, 0.094]</td>\n",
       "      <td>[0.0, 0.0, 1.0, 0.0, 0.0, 0.0]</td>\n",
       "    </tr>\n",
       "  </tbody>\n",
       "</table>\n",
       "</div>"
      ],
      "text/plain": [
       "                                y_hat                               y\n",
       "0      [0.0, 0.0, 0.0, 0.0, 0.0, 1.0]  [0.0, 0.0, 0.0, 0.0, 0.0, 1.0]\n",
       "1      [0.0, 0.0, 0.0, 0.0, 0.0, 1.0]  [0.0, 0.0, 0.0, 0.0, 0.0, 1.0]\n",
       "2      [0.0, 0.0, 1.0, 0.0, 0.0, 0.0]  [0.0, 0.0, 1.0, 0.0, 0.0, 0.0]\n",
       "3  [0.0, 0.0, 0.001, 0.0, 0.0, 0.999]  [0.0, 0.0, 0.0, 0.0, 0.0, 1.0]\n",
       "4  [0.0, 0.0, 0.906, 0.0, 0.0, 0.094]  [0.0, 0.0, 1.0, 0.0, 0.0, 0.0]"
      ]
     },
     "execution_count": 40,
     "metadata": {},
     "output_type": "execute_result"
    }
   ],
   "source": [
    "ydf.head()"
   ]
  },
  {
   "cell_type": "code",
   "execution_count": 41,
   "metadata": {},
   "outputs": [],
   "source": [
    "# convert probability to class\n",
    "y_pred_class = np.argmax(y_hat, axis=1)\n",
    "y_class = np.argmax(y_valid, axis = 1)"
   ]
  },
  {
   "cell_type": "markdown",
   "metadata": {},
   "source": [
    "### plot confusion matrix\n",
    "First use seaborn, then a custom stript."
   ]
  },
  {
   "cell_type": "code",
   "execution_count": 42,
   "metadata": {},
   "outputs": [],
   "source": [
    "# Create confucion matrix:\n",
    "cf_matrix = confusion_matrix(y_class, y_pred_class, labels=range(len(class_list)))\n",
    "\n",
    "\n",
    "# the classes are not in order, for example 'sitting' is not following 'lying'. Sort them:\n",
    "\n",
    "confusion_matrix_df = pd.DataFrame(cf_matrix, index=class_list, columns=class_list)\n",
    "confusion_matrix_df = confusion_matrix_df[['Lying','Sitting', 'Self Pace walk',\\\n",
    "                                           'Running 3 METs','Running 5 METs', 'Running 7 METs']]\n",
    "confusion_matrix_df = confusion_matrix_df.reindex(['Lying', 'Sitting', 'Self Pace walk',\\\n",
    "                                                   'Running 3 METs','Running 5 METs', 'Running 7 METs'])"
   ]
  },
  {
   "cell_type": "code",
   "execution_count": 44,
   "metadata": {},
   "outputs": [
    {
     "data": {
      "text/plain": [
       "<AxesSubplot:>"
      ]
     },
     "execution_count": 44,
     "metadata": {},
     "output_type": "execute_result"
    },
    {
     "data": {
      "image/png": "[encoded data removed]",
      "text/plain": [
       "<Figure size 432x288 with 2 Axes>"
      ]
     },
     "metadata": {
      "needs_background": "light"
     },
     "output_type": "display_data"
    }
   ],
   "source": [
    "sns.heatmap(cf_matrix, annot=True, fmt = '1', xticklabels=class_list, yticklabels=class_list, cmap='ocean')\n",
    "# cf_matrix"
   ]
  },
  {
   "cell_type": "code",
   "execution_count": 46,
   "metadata": {},
   "outputs": [
    {
     "data": {
      "image/png": "[encoded data removed]",
      "text/plain": [
       "<Figure size 936x720 with 2 Axes>"
      ]
     },
     "metadata": {
      "needs_background": "light"
     },
     "output_type": "display_data"
    }
   ],
   "source": [
    "plt.figure(figsize = (13,10))\n",
    "\n",
    "_ = sns.heatmap(confusion_matrix_df, annot=True, fmt = '1', cmap='rocket_r') # try cmap='rocket', 'PuBuGn', 'magma'\n"
   ]
  },
  {
   "cell_type": "code",
   "execution_count": 47,
   "metadata": {},
   "outputs": [
    {
     "data": {
      "image/png": "[encoded data removed]",
      "text/plain": [
       "<Figure size 864x864 with 2 Axes>"
      ]
     },
     "metadata": {
      "needs_background": "light"
     },
     "output_type": "display_data"
    }
   ],
   "source": [
    "import prettyconfusion as pf\n",
    "pf.pretty_plot_confusion_matrix(confusion_matrix_df,cmap='PuBuGn', cbar='oranges'\n",
    "                                ,fz = 13, lw=1, figsize=[12,12])"
   ]
  },
  {
   "cell_type": "markdown",
   "metadata": {},
   "source": [
    "## Visualize performance metrics and the model's structure"
   ]
  },
  {
   "cell_type": "code",
   "execution_count": 28,
   "metadata": {},
   "outputs": [],
   "source": [
    "# Load the TensorBoard notebook extension.\n",
    "%load_ext tensorboard"
   ]
  },
  {
   "cell_type": "code",
   "execution_count": 29,
   "metadata": {},
   "outputs": [],
   "source": [
    "# Clear any logs from previous runs if you don't want to see it in tensorflow"
   ]
  },
  {
   "cell_type": "code",
   "execution_count": 30,
   "metadata": {},
   "outputs": [
    {
     "data": {
      "text/plain": [
       "Reusing TensorBoard on port 6006 (pid 8404), started 13:08:09 ago. (Use '!kill 8404' to kill it.)"
      ]
     },
     "metadata": {},
     "output_type": "display_data"
    },
    {
     "data": {
      "text/html": [
       "\n",
       "      <iframe id=\"tensorboard-frame-69d6be45200c631c\" width=\"100%\" height=\"800\" frameborder=\"0\">\n",
       "      </iframe>\n",
       "      <script>\n",
       "        (function() {\n",
       "          const frame = document.getElementById(\"tensorboard-frame-69d6be45200c631c\");\n",
       "          const url = new URL(\"/\", window.location);\n",
       "          const port = 6006;\n",
       "          if (port) {\n",
       "            url.port = port;\n",
       "          }\n",
       "          frame.src = url;\n",
       "        })();\n",
       "      </script>\n",
       "    "
      ],
      "text/plain": [
       "<IPython.core.display.HTML object>"
      ]
     },
     "metadata": {},
     "output_type": "display_data"
    }
   ],
   "source": [
    "%tensorboard --logdir logs"
   ]
  },
  {
   "cell_type": "code",
   "execution_count": 31,
   "metadata": {},
   "outputs": [
    {
     "name": "stdout",
     "output_type": "stream",
     "text": [
      "Serving 'output/LSTM-Final//weights.117.hdf5' at http://localhost:8080\n"
     ]
    }
   ],
   "source": [
    "# All stored weights have the same structure. Load one of them to netron and save the image \n",
    "netron.start(file=output_dir+\"/weights.119.hdf5\")"
   ]
  },
  {
   "cell_type": "code",
   "execution_count": null,
   "metadata": {},
   "outputs": [],
   "source": []
  }
 ],
 "metadata": {
  "colab": {
   "include_colab_link": true,
   "name": "dense_sentiment_classifier.ipynb",
   "provenance": []
  },
  "kernelspec": {
   "display_name": "Python 3",
   "language": "python",
   "name": "python3"
  },
  "language_info": {
   "codemirror_mode": {
    "name": "ipython",
    "version": 3
   },
   "file_extension": ".py",
   "mimetype": "text/x-python",
   "name": "python",
   "nbconvert_exporter": "python",
   "pygments_lexer": "ipython3",
   "version": "3.7.9"
  }
 },
 "nbformat": 4,
 "nbformat_minor": 1
}
