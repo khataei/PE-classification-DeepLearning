{
 "cells": [
  {
   "cell_type": "markdown",
   "metadata": {
    "colab_type": "text",
    "id": "ahUZuAfz8Jje"
   },
   "source": [
    "# Best CNN-LSTM classifier"
   ]
  },
  {
   "cell_type": "markdown",
   "metadata": {
    "colab_type": "text",
    "id": "Re0ecmVI8Jjk"
   },
   "source": [
    "This model created from the hyper parameters obtained from hyper parameter tuning with SKlearn."
   ]
  },
  {
   "cell_type": "markdown",
   "metadata": {
    "colab_type": "text",
    "id": "ixsGb9tY8Jjm"
   },
   "source": [
    "#### Load dependencies"
   ]
  },
  {
   "cell_type": "code",
   "execution_count": 35,
   "metadata": {
    "colab": {},
    "colab_type": "code",
    "id": "5At1PKQp8Jjp"
   },
   "outputs": [
    {
     "name": "stdout",
     "output_type": "stream",
     "text": [
      "TensorFlow version:  2.3.1\n"
     ]
    },
    {
     "data": {
      "text/plain": [
       "'2.3.0'"
      ]
     },
     "execution_count": 35,
     "metadata": {},
     "output_type": "execute_result"
    }
   ],
   "source": [
    "import os  \n",
    "import pandas as pd\n",
    "import numpy as np\n",
    "import matplotlib.pyplot as plt \n",
    "import seaborn as sns\n",
    "\n",
    "\n",
    "import tensorflow as tf\n",
    "from tensorflow.keras.utils import to_categorical\n",
    "from tensorflow.keras.models import Sequential\n",
    "from tensorflow.keras.layers import Dense, Flatten, Dropout, Conv1D, GlobalMaxPooling1D, LSTM\n",
    "from tensorflow.keras.layers import AveragePooling1D, LeakyReLU , MaxPool1D, GlobalAveragePooling1D\n",
    "from tensorflow.keras.callbacks import ModelCheckpoint \n",
    "from tensorflow.keras.wrappers.scikit_learn import KerasClassifier\n",
    "\n",
    "from sklearn.metrics import roc_auc_score, roc_curve \n",
    "from sklearn.model_selection import train_test_split\n",
    "from sklearn.model_selection import RandomizedSearchCV\n",
    "from sklearn.metrics import confusion_matrix\n",
    "from sklearn.metrics import  accuracy_score as score\n",
    "from tensorflow.python.client import device_lib\n",
    "\n",
    "\n",
    "# Visiualization imports, Netron and tensorboard:\n",
    "import netron\n",
    "from datetime import datetime\n",
    "from packaging import version\n",
    "from tensorflow import keras\n",
    "\n",
    "print(\"TensorFlow version: \", tf.__version__)\n",
    "assert version.parse(tf.__version__).release[0] >= 2, \\\n",
    "    \"This notebook requires TensorFlow 2.0 or above.\"\n",
    "\n",
    "import tensorboard\n",
    "tensorboard.__version__\n"
   ]
  },
  {
   "cell_type": "code",
   "execution_count": 2,
   "metadata": {},
   "outputs": [],
   "source": [
    "# Try to get reproducable results\n",
    "from numpy.random import seed\n",
    "seed(85)\n",
    "from tensorflow.random import set_seed\n",
    "set_seed(75)"
   ]
  },
  {
   "cell_type": "markdown",
   "metadata": {
    "colab_type": "text",
    "id": "Hg5wX2Dd8Jjz"
   },
   "source": [
    "#### Set hyperparameters"
   ]
  },
  {
   "cell_type": "code",
   "execution_count": 3,
   "metadata": {
    "colab": {},
    "colab_type": "code",
    "id": "lYLOM99-8Jj2"
   },
   "outputs": [],
   "source": [
    "# output directory name:\n",
    "output_dir = 'output/CNN-LSTM-Final/'\n",
    "input_dir =  'Z:/Research/dfuller/Walkabilly/studies/smarphone_accel/data/Ethica_Jaeger_Merged/pocket/'\n",
    "input_file_name = 'pocket-NN-data.npz'\n",
    "\n",
    "# from the data preparation section we have:\n",
    "window_size_second = 3\n",
    "frequency = 30\n",
    "lenght_of_each_seq = window_size_second * frequency\n",
    "\n",
    "n_lstm_2 = 128\n",
    "n_lstm_1 = 128\n",
    "n_dense_2= 384\n",
    "n_dense_1= 384\n",
    "n_conv_3= 512\n",
    "n_conv_2= 512\n",
    "n_conv_1= 768\n",
    "maxpooling_pool_size= 2\n",
    "k_conv_3= 2\n",
    "k_conv_2= 2\n",
    "k_conv_1= 2\n",
    "dropout_2= 0.2\n",
    "dropout_1= 0.2\n",
    "drop_lstm_2 = 0.02\n",
    "drop_lstm_1 = 0.1\n",
    "avepooling_pool_size= 2\n",
    "activation_dense = LeakyReLU()\n",
    "activation_conv = 'relu'\n",
    "\n",
    "\n",
    "\n",
    "# training:\n",
    "epochs = 120\n",
    "batch_size = 256\n"
   ]
  },
  {
   "cell_type": "markdown",
   "metadata": {
    "colab_type": "text",
    "id": "DaLx4yZ48Jj9"
   },
   "source": [
    "#### Load data"
   ]
  },
  {
   "cell_type": "markdown",
   "metadata": {
    "colab_type": "text",
    "id": "CD9X0yJg8Jj_"
   },
   "source": [
    "For this notebook we use only the **acceleration** data prepared in the DataPrep-Deep notebook."
   ]
  },
  {
   "cell_type": "code",
   "execution_count": 4,
   "metadata": {},
   "outputs": [],
   "source": [
    "# import the data\n",
    "raw_data = np.load(file=input_dir+input_file_name,allow_pickle=True)\n",
    "accel_array = raw_data['acceleration_data']\n",
    "meta_array = raw_data['metadata']\n",
    "labels_array = raw_data['labels']\n"
   ]
  },
  {
   "cell_type": "markdown",
   "metadata": {
    "colab_type": "text",
    "id": "WWq3ipbu8JlG"
   },
   "source": [
    "#### Preprocess data"
   ]
  },
  {
   "cell_type": "markdown",
   "metadata": {},
   "source": [
    "#### Convert the  labels to integer.\n",
    "In the raw data format of the labels is String and there are 6 classes. 'Lying', 'Sitting', 'Self Pace walk', 'Running 3 METs',\n",
    "       'Running 5 METs', 'Running 7 METs' <br>\n",
    "\n",
    "\n"
   ]
  },
  {
   "cell_type": "code",
   "execution_count": 5,
   "metadata": {
    "colab": {},
    "colab_type": "code",
    "id": "LyReiequ8Jln"
   },
   "outputs": [
    {
     "name": "stdout",
     "output_type": "stream",
     "text": [
      "The are 6 classes: ['Lying' 'Running 3 METs' 'Running 5 METs' 'Running 7 METs'\n",
      " 'Self Pace walk' 'Sitting']\n"
     ]
    }
   ],
   "source": [
    "# change from string to integer so keras.to_categorical can consume it\n",
    "\n",
    "# could do with factorize method as well\n",
    "n_class = len(np.unique(labels_array))\n",
    "class_list, labels_array_int = np.unique(labels_array,return_inverse=True)\n",
    "print(f'The are {len(class_list)} classes: {class_list}')"
   ]
  },
  {
   "cell_type": "markdown",
   "metadata": {},
   "source": [
    "#### Convert to categorical values"
   ]
  },
  {
   "cell_type": "code",
   "execution_count": 6,
   "metadata": {},
   "outputs": [],
   "source": [
    "# labels to categorical\n",
    "\n",
    "y = to_categorical(labels_array_int, num_classes=n_class)\n",
    "input_shape = list(accel_array.shape)"
   ]
  },
  {
   "cell_type": "markdown",
   "metadata": {
    "colab_type": "text",
    "collapsed": true,
    "id": "GscSnCpk8Jlm"
   },
   "source": [
    "\n",
    "#### Design neural network architecture"
   ]
  },
  {
   "cell_type": "code",
   "execution_count": 7,
   "metadata": {},
   "outputs": [],
   "source": [
    "# The best conv-lstm model!\n",
    "model = Sequential()\n",
    "model.add(Conv1D(n_conv_1, k_conv_1, activation=activation_conv, input_shape=input_shape[1:]))\n",
    "model.add(MaxPool1D(pool_size = maxpooling_pool_size))\n",
    "model.add(Conv1D(n_conv_2, k_conv_2, activation=activation_conv))\n",
    "model.add(AveragePooling1D(pool_size = avepooling_pool_size))\n",
    "model.add(Conv1D(n_conv_3, k_conv_3, activation=activation_conv))\n",
    "\n",
    "# LSTM layers\n",
    "model.add(LSTM(n_lstm_1, dropout=drop_lstm_1, return_sequences=True)) \n",
    "model.add(LSTM(n_lstm_2, dropout=drop_lstm_2, return_sequences=True))\n",
    "\n",
    "# Dense layers\n",
    "model.add(Flatten())\n",
    "model.add(Dense(n_dense_1, activation=activation_dense))\n",
    "model.add(Dropout(dropout_1))\n",
    "model.add(Dense(n_dense_2, activation=activation_dense))\n",
    "model.add(Dropout(dropout_2))\n",
    "model.add(Dense(n_class, activation='softmax'))\n",
    "\n",
    "\n",
    "model.compile(loss='categorical_crossentropy', optimizer='adam', metrics=['accuracy'])\n"
   ]
  },
  {
   "cell_type": "code",
   "execution_count": 8,
   "metadata": {
    "colab": {},
    "colab_type": "code",
    "id": "3nx7eGkg8Jlr",
    "outputId": "76af5145-5c7d-45c1-f292-e9f68a0907a9"
   },
   "outputs": [
    {
     "name": "stdout",
     "output_type": "stream",
     "text": [
      "Model: \"sequential\"\n",
      "_________________________________________________________________\n",
      "Layer (type)                 Output Shape              Param #   \n",
      "=================================================================\n",
      "conv1d (Conv1D)              (None, 89, 768)           5376      \n",
      "_________________________________________________________________\n",
      "max_pooling1d (MaxPooling1D) (None, 44, 768)           0         \n",
      "_________________________________________________________________\n",
      "conv1d_1 (Conv1D)            (None, 43, 512)           786944    \n",
      "_________________________________________________________________\n",
      "average_pooling1d (AveragePo (None, 21, 512)           0         \n",
      "_________________________________________________________________\n",
      "conv1d_2 (Conv1D)            (None, 20, 512)           524800    \n",
      "_________________________________________________________________\n",
      "lstm (LSTM)                  (None, 20, 128)           328192    \n",
      "_________________________________________________________________\n",
      "lstm_1 (LSTM)                (None, 20, 128)           131584    \n",
      "_________________________________________________________________\n",
      "flatten (Flatten)            (None, 2560)              0         \n",
      "_________________________________________________________________\n",
      "dense (Dense)                (None, 384)               983424    \n",
      "_________________________________________________________________\n",
      "dropout (Dropout)            (None, 384)               0         \n",
      "_________________________________________________________________\n",
      "dense_1 (Dense)              (None, 384)               147840    \n",
      "_________________________________________________________________\n",
      "dropout_1 (Dropout)          (None, 384)               0         \n",
      "_________________________________________________________________\n",
      "dense_2 (Dense)              (None, 6)                 2310      \n",
      "=================================================================\n",
      "Total params: 2,910,470\n",
      "Trainable params: 2,910,470\n",
      "Non-trainable params: 0\n",
      "_________________________________________________________________\n"
     ]
    }
   ],
   "source": [
    "model.summary()"
   ]
  },
  {
   "cell_type": "markdown",
   "metadata": {
    "colab": {},
    "colab_type": "code",
    "id": "40x3s0KY8Jlv",
    "outputId": "d3ac3e31-3c47-4b01-c2f9-ada0684b31b7"
   },
   "source": [
    "### Splitting and shuffeling the data"
   ]
  },
  {
   "cell_type": "code",
   "execution_count": 9,
   "metadata": {
    "colab": {},
    "colab_type": "code",
    "id": "f5grc2H78Jlz",
    "outputId": "3f7eeb55-f851-4796-de4e-0c68eb9df88d"
   },
   "outputs": [],
   "source": [
    "# split and shuffle\n",
    "x_train, x_valid, y_train, y_valid = train_test_split(\n",
    "     accel_array, y, test_size=0.1, random_state=65)"
   ]
  },
  {
   "cell_type": "markdown",
   "metadata": {
    "colab_type": "text",
    "id": "JkbhJMox8Jl9"
   },
   "source": [
    "#### Prepare to save each epoch\n",
    "The weights and a log for tensorboard are saved. Later we load back the best model"
   ]
  },
  {
   "cell_type": "code",
   "execution_count": 10,
   "metadata": {
    "colab": {},
    "colab_type": "code",
    "id": "zHjvYe288JmE"
   },
   "outputs": [],
   "source": [
    "modelcheckpoint = ModelCheckpoint(filepath=output_dir+\n",
    "                                  \"/weights.{epoch:02d}.hdf5\")\n",
    "\n",
    "# Define the Keras TensorBoard callback.\n",
    "logdir=  \"logs/fit/\" + datetime.now().strftime(\"%Y%m%d-%H%M%S\")\n",
    "tensorboard_callback = keras.callbacks.TensorBoard(log_dir=logdir)\n"
   ]
  },
  {
   "cell_type": "markdown",
   "metadata": {},
   "source": [
    "#### Create a folder to save each epoch of training"
   ]
  },
  {
   "cell_type": "code",
   "execution_count": 11,
   "metadata": {
    "colab": {},
    "colab_type": "code",
    "id": "esUwodZA8JmI"
   },
   "outputs": [],
   "source": [
    "if not os.path.exists(output_dir):\n",
    "    os.makedirs(output_dir)"
   ]
  },
  {
   "cell_type": "code",
   "execution_count": 12,
   "metadata": {},
   "outputs": [
    {
     "data": {
      "text/plain": [
       "((58278, 90, 3), (58278, 6), (6476, 90, 3), (6476, 6))"
      ]
     },
     "execution_count": 12,
     "metadata": {},
     "output_type": "execute_result"
    }
   ],
   "source": [
    "x_train.shape, y_train.shape, x_valid.shape, y_valid.shape"
   ]
  },
  {
   "cell_type": "markdown",
   "metadata": {
    "colab_type": "text",
    "id": "TEYpX7968JmL"
   },
   "source": [
    "#### Train!"
   ]
  },
  {
   "cell_type": "code",
   "execution_count": 13,
   "metadata": {
    "colab": {},
    "colab_type": "code",
    "id": "QaD1W7Ka8JmM",
    "outputId": "f0c30141-0962-48f6-a000-d136af50af79",
    "scrolled": true
   },
   "outputs": [
    {
     "name": "stdout",
     "output_type": "stream",
     "text": [
      "Epoch 1/120\n",
      "  1/228 [..............................] - ETA: 0s - loss: 1.7924 - accuracy: 0.1914WARNING:tensorflow:From C:\\Users\\dfuller\\AppData\\Local\\Continuum\\anaconda3\\envs\\tf-gpu\\lib\\site-packages\\tensorflow\\python\\ops\\summary_ops_v2.py:1277: stop (from tensorflow.python.eager.profiler) is deprecated and will be removed after 2020-07-01.\n",
      "Instructions for updating:\n",
      "use `tf.profiler.experimental.stop` instead.\n",
      "  2/228 [..............................] - ETA: 14s - loss: 1.7750 - accuracy: 0.2539WARNING:tensorflow:Callbacks method `on_train_batch_end` is slow compared to the batch time (batch time: 0.0319s vs `on_train_batch_end` time: 0.0934s). Check your callbacks.\n",
      "228/228 [==============================] - 18s 79ms/step - loss: 0.9398 - accuracy: 0.6033 - val_loss: 0.6706 - val_accuracy: 0.7353\n",
      "Epoch 2/120\n",
      "228/228 [==============================] - 17s 74ms/step - loss: 0.5654 - accuracy: 0.7771 - val_loss: 0.4588 - val_accuracy: 0.8173\n",
      "Epoch 3/120\n",
      "228/228 [==============================] - 16s 72ms/step - loss: 0.4089 - accuracy: 0.8427 - val_loss: 0.3703 - val_accuracy: 0.8544\n",
      "Epoch 4/120\n",
      "228/228 [==============================] - 17s 73ms/step - loss: 0.3639 - accuracy: 0.8586 - val_loss: 0.3382 - val_accuracy: 0.8698\n",
      "Epoch 5/120\n",
      "228/228 [==============================] - 17s 73ms/step - loss: 0.3203 - accuracy: 0.8753 - val_loss: 0.2788 - val_accuracy: 0.8930\n",
      "Epoch 6/120\n",
      "228/228 [==============================] - 17s 73ms/step - loss: 0.2905 - accuracy: 0.8873 - val_loss: 0.2626 - val_accuracy: 0.9021\n",
      "Epoch 7/120\n",
      "228/228 [==============================] - 17s 73ms/step - loss: 0.2711 - accuracy: 0.8968 - val_loss: 0.2676 - val_accuracy: 0.8972\n",
      "Epoch 8/120\n",
      "228/228 [==============================] - 17s 73ms/step - loss: 0.2574 - accuracy: 0.9024 - val_loss: 0.2855 - val_accuracy: 0.8911\n",
      "Epoch 9/120\n",
      "228/228 [==============================] - 17s 74ms/step - loss: 0.2452 - accuracy: 0.9069 - val_loss: 0.2694 - val_accuracy: 0.9012\n",
      "Epoch 10/120\n",
      "228/228 [==============================] - 17s 73ms/step - loss: 0.2314 - accuracy: 0.9123 - val_loss: 0.2294 - val_accuracy: 0.9117\n",
      "Epoch 11/120\n",
      "228/228 [==============================] - 17s 73ms/step - loss: 0.2203 - accuracy: 0.9158 - val_loss: 0.2283 - val_accuracy: 0.9134\n",
      "Epoch 12/120\n",
      "228/228 [==============================] - 17s 73ms/step - loss: 0.2114 - accuracy: 0.9198 - val_loss: 0.2115 - val_accuracy: 0.9200\n",
      "Epoch 13/120\n",
      "228/228 [==============================] - 17s 74ms/step - loss: 0.2078 - accuracy: 0.9209 - val_loss: 0.2189 - val_accuracy: 0.9250\n",
      "Epoch 14/120\n",
      "228/228 [==============================] - 17s 73ms/step - loss: 0.2035 - accuracy: 0.9228 - val_loss: 0.2425 - val_accuracy: 0.9162\n",
      "Epoch 15/120\n",
      "228/228 [==============================] - 17s 74ms/step - loss: 0.1902 - accuracy: 0.9269 - val_loss: 0.2006 - val_accuracy: 0.9279\n",
      "Epoch 16/120\n",
      "228/228 [==============================] - 17s 73ms/step - loss: 0.1829 - accuracy: 0.9299 - val_loss: 0.1965 - val_accuracy: 0.9279\n",
      "Epoch 17/120\n",
      "228/228 [==============================] - 17s 74ms/step - loss: 0.1735 - accuracy: 0.9341 - val_loss: 0.1970 - val_accuracy: 0.9294\n",
      "Epoch 18/120\n",
      "228/228 [==============================] - 17s 74ms/step - loss: 0.1765 - accuracy: 0.9319 - val_loss: 0.2135 - val_accuracy: 0.9256\n",
      "Epoch 19/120\n",
      "228/228 [==============================] - 17s 75ms/step - loss: 0.1629 - accuracy: 0.9378 - val_loss: 0.2046 - val_accuracy: 0.9279\n",
      "Epoch 20/120\n",
      "228/228 [==============================] - 17s 73ms/step - loss: 0.1591 - accuracy: 0.9396 - val_loss: 0.1790 - val_accuracy: 0.9350\n",
      "Epoch 21/120\n",
      "228/228 [==============================] - 17s 72ms/step - loss: 0.1520 - accuracy: 0.9421 - val_loss: 0.2312 - val_accuracy: 0.9174\n",
      "Epoch 22/120\n",
      "228/228 [==============================] - 17s 73ms/step - loss: 0.1477 - accuracy: 0.9434 - val_loss: 0.1969 - val_accuracy: 0.9313\n",
      "Epoch 23/120\n",
      "228/228 [==============================] - 17s 73ms/step - loss: 0.1441 - accuracy: 0.9445 - val_loss: 0.1946 - val_accuracy: 0.9322\n",
      "Epoch 24/120\n",
      "228/228 [==============================] - 17s 73ms/step - loss: 0.1399 - accuracy: 0.9459 - val_loss: 0.1931 - val_accuracy: 0.9296\n",
      "Epoch 25/120\n",
      "228/228 [==============================] - 17s 73ms/step - loss: 0.1338 - accuracy: 0.9485 - val_loss: 0.1707 - val_accuracy: 0.9426\n",
      "Epoch 26/120\n",
      "228/228 [==============================] - 17s 73ms/step - loss: 0.1291 - accuracy: 0.9496 - val_loss: 0.1748 - val_accuracy: 0.9342\n",
      "Epoch 27/120\n",
      "228/228 [==============================] - 17s 73ms/step - loss: 0.1244 - accuracy: 0.9517 - val_loss: 0.1880 - val_accuracy: 0.9399\n",
      "Epoch 28/120\n",
      "228/228 [==============================] - 17s 73ms/step - loss: 0.1187 - accuracy: 0.9543 - val_loss: 0.1797 - val_accuracy: 0.9405\n",
      "Epoch 29/120\n",
      "228/228 [==============================] - 17s 73ms/step - loss: 0.1208 - accuracy: 0.9536 - val_loss: 0.1739 - val_accuracy: 0.9435\n",
      "Epoch 30/120\n",
      "228/228 [==============================] - 17s 73ms/step - loss: 0.1169 - accuracy: 0.9548 - val_loss: 0.1738 - val_accuracy: 0.9452\n",
      "Epoch 31/120\n",
      "228/228 [==============================] - 17s 73ms/step - loss: 0.1074 - accuracy: 0.9589 - val_loss: 0.1906 - val_accuracy: 0.9439\n",
      "Epoch 32/120\n",
      "228/228 [==============================] - 17s 73ms/step - loss: 0.1034 - accuracy: 0.9602 - val_loss: 0.2254 - val_accuracy: 0.9378\n",
      "Epoch 33/120\n",
      "228/228 [==============================] - 17s 73ms/step - loss: 0.1039 - accuracy: 0.9606 - val_loss: 0.1787 - val_accuracy: 0.9472\n",
      "Epoch 34/120\n",
      "228/228 [==============================] - 17s 73ms/step - loss: 0.0980 - accuracy: 0.9634 - val_loss: 0.1867 - val_accuracy: 0.9475\n",
      "Epoch 35/120\n",
      "228/228 [==============================] - 17s 73ms/step - loss: 0.0948 - accuracy: 0.9632 - val_loss: 0.1740 - val_accuracy: 0.9506\n",
      "Epoch 36/120\n",
      "228/228 [==============================] - 17s 73ms/step - loss: 0.0920 - accuracy: 0.9653 - val_loss: 0.1936 - val_accuracy: 0.9480\n",
      "Epoch 37/120\n",
      "228/228 [==============================] - 17s 73ms/step - loss: 0.0971 - accuracy: 0.9635 - val_loss: 0.1962 - val_accuracy: 0.9484\n",
      "Epoch 38/120\n",
      "228/228 [==============================] - 17s 73ms/step - loss: 0.0933 - accuracy: 0.9648 - val_loss: 0.1927 - val_accuracy: 0.9480\n",
      "Epoch 39/120\n",
      "228/228 [==============================] - 17s 73ms/step - loss: 0.0856 - accuracy: 0.9671 - val_loss: 0.1872 - val_accuracy: 0.9512\n",
      "Epoch 40/120\n",
      "228/228 [==============================] - 17s 73ms/step - loss: 0.0844 - accuracy: 0.9682 - val_loss: 0.1938 - val_accuracy: 0.9432\n",
      "Epoch 41/120\n",
      "228/228 [==============================] - 17s 73ms/step - loss: 0.0853 - accuracy: 0.9685 - val_loss: 0.1926 - val_accuracy: 0.9463\n",
      "Epoch 42/120\n",
      "228/228 [==============================] - 17s 73ms/step - loss: 0.0783 - accuracy: 0.9699 - val_loss: 0.1745 - val_accuracy: 0.9557\n",
      "Epoch 43/120\n",
      "228/228 [==============================] - 17s 73ms/step - loss: 0.0764 - accuracy: 0.9717 - val_loss: 0.1929 - val_accuracy: 0.9514\n",
      "Epoch 44/120\n",
      "228/228 [==============================] - 17s 73ms/step - loss: 0.0831 - accuracy: 0.9688 - val_loss: 0.1956 - val_accuracy: 0.9514\n",
      "Epoch 45/120\n",
      "228/228 [==============================] - 17s 73ms/step - loss: 0.0786 - accuracy: 0.9698 - val_loss: 0.1923 - val_accuracy: 0.9532\n",
      "Epoch 46/120\n",
      "228/228 [==============================] - 17s 73ms/step - loss: 0.0709 - accuracy: 0.9740 - val_loss: 0.1965 - val_accuracy: 0.9524\n",
      "Epoch 47/120\n",
      "228/228 [==============================] - 17s 73ms/step - loss: 0.0754 - accuracy: 0.9716 - val_loss: 0.1771 - val_accuracy: 0.9557\n",
      "Epoch 48/120\n",
      "228/228 [==============================] - 17s 73ms/step - loss: 0.0640 - accuracy: 0.9761 - val_loss: 0.1835 - val_accuracy: 0.9563\n",
      "Epoch 49/120\n",
      "228/228 [==============================] - 17s 73ms/step - loss: 0.0650 - accuracy: 0.9759 - val_loss: 0.2008 - val_accuracy: 0.9551\n",
      "Epoch 50/120\n",
      "228/228 [==============================] - 17s 73ms/step - loss: 0.0702 - accuracy: 0.9735 - val_loss: 0.1969 - val_accuracy: 0.9537\n",
      "Epoch 51/120\n",
      "228/228 [==============================] - 17s 73ms/step - loss: 0.0675 - accuracy: 0.9746 - val_loss: 0.2011 - val_accuracy: 0.9523\n",
      "Epoch 52/120\n"
     ]
    },
    {
     "name": "stdout",
     "output_type": "stream",
     "text": [
      "228/228 [==============================] - 16s 72ms/step - loss: 0.0654 - accuracy: 0.9758 - val_loss: 0.1960 - val_accuracy: 0.9523\n",
      "Epoch 53/120\n",
      "228/228 [==============================] - 17s 72ms/step - loss: 0.0638 - accuracy: 0.9765 - val_loss: 0.1919 - val_accuracy: 0.9524\n",
      "Epoch 54/120\n",
      "228/228 [==============================] - 17s 72ms/step - loss: 0.0602 - accuracy: 0.9781 - val_loss: 0.2107 - val_accuracy: 0.9501\n",
      "Epoch 55/120\n",
      "228/228 [==============================] - 17s 72ms/step - loss: 0.0646 - accuracy: 0.9761 - val_loss: 0.2007 - val_accuracy: 0.9544\n",
      "Epoch 56/120\n",
      "228/228 [==============================] - 16s 72ms/step - loss: 0.0611 - accuracy: 0.9778 - val_loss: 0.2082 - val_accuracy: 0.9583\n",
      "Epoch 57/120\n",
      "228/228 [==============================] - 17s 72ms/step - loss: 0.0655 - accuracy: 0.9774 - val_loss: 0.2086 - val_accuracy: 0.9500\n",
      "Epoch 58/120\n",
      "228/228 [==============================] - 16s 72ms/step - loss: 0.0613 - accuracy: 0.9770 - val_loss: 0.2128 - val_accuracy: 0.9543\n",
      "Epoch 59/120\n",
      "228/228 [==============================] - 17s 72ms/step - loss: 0.0572 - accuracy: 0.9787 - val_loss: 0.2231 - val_accuracy: 0.9498\n",
      "Epoch 60/120\n",
      "228/228 [==============================] - 17s 72ms/step - loss: 0.0571 - accuracy: 0.9786 - val_loss: 0.2196 - val_accuracy: 0.9537\n",
      "Epoch 61/120\n",
      "228/228 [==============================] - 16s 72ms/step - loss: 0.0517 - accuracy: 0.9804 - val_loss: 0.2259 - val_accuracy: 0.9531\n",
      "Epoch 62/120\n",
      "228/228 [==============================] - 17s 73ms/step - loss: 0.0517 - accuracy: 0.9802 - val_loss: 0.2197 - val_accuracy: 0.9583\n",
      "Epoch 63/120\n",
      "228/228 [==============================] - 16s 72ms/step - loss: 0.0595 - accuracy: 0.9786 - val_loss: 0.2216 - val_accuracy: 0.9544\n",
      "Epoch 64/120\n",
      "228/228 [==============================] - 16s 72ms/step - loss: 0.0557 - accuracy: 0.9798 - val_loss: 0.2294 - val_accuracy: 0.9548\n",
      "Epoch 65/120\n",
      "228/228 [==============================] - 17s 72ms/step - loss: 0.0574 - accuracy: 0.9800 - val_loss: 0.2175 - val_accuracy: 0.9560\n",
      "Epoch 66/120\n",
      "228/228 [==============================] - 16s 72ms/step - loss: 0.0458 - accuracy: 0.9828 - val_loss: 0.2085 - val_accuracy: 0.9580\n",
      "Epoch 67/120\n",
      "228/228 [==============================] - 16s 72ms/step - loss: 0.0493 - accuracy: 0.9811 - val_loss: 0.2036 - val_accuracy: 0.9578\n",
      "Epoch 68/120\n",
      "228/228 [==============================] - 17s 72ms/step - loss: 0.0517 - accuracy: 0.9815 - val_loss: 0.2107 - val_accuracy: 0.9551\n",
      "Epoch 69/120\n",
      "228/228 [==============================] - 17s 72ms/step - loss: 0.0501 - accuracy: 0.9813 - val_loss: 0.2075 - val_accuracy: 0.9534\n",
      "Epoch 70/120\n",
      "228/228 [==============================] - 16s 72ms/step - loss: 0.0468 - accuracy: 0.9829 - val_loss: 0.2015 - val_accuracy: 0.9592\n",
      "Epoch 71/120\n",
      "228/228 [==============================] - 16s 72ms/step - loss: 0.0474 - accuracy: 0.9831 - val_loss: 0.2213 - val_accuracy: 0.9548\n",
      "Epoch 72/120\n",
      "228/228 [==============================] - 16s 72ms/step - loss: 0.0492 - accuracy: 0.9826 - val_loss: 0.2223 - val_accuracy: 0.9582\n",
      "Epoch 73/120\n",
      "228/228 [==============================] - 17s 72ms/step - loss: 0.0453 - accuracy: 0.9830 - val_loss: 0.2508 - val_accuracy: 0.9526\n",
      "Epoch 74/120\n",
      "228/228 [==============================] - 17s 72ms/step - loss: 0.0485 - accuracy: 0.9825 - val_loss: 0.2162 - val_accuracy: 0.9582\n",
      "Epoch 75/120\n",
      "228/228 [==============================] - 17s 72ms/step - loss: 0.0431 - accuracy: 0.9840 - val_loss: 0.2074 - val_accuracy: 0.9578\n",
      "Epoch 76/120\n",
      "228/228 [==============================] - 16s 72ms/step - loss: 0.0448 - accuracy: 0.9836 - val_loss: 0.2425 - val_accuracy: 0.9558\n",
      "Epoch 77/120\n",
      "228/228 [==============================] - 16s 72ms/step - loss: 0.0488 - accuracy: 0.9828 - val_loss: 0.2122 - val_accuracy: 0.9558\n",
      "Epoch 78/120\n",
      "228/228 [==============================] - 16s 72ms/step - loss: 0.0467 - accuracy: 0.9833 - val_loss: 0.2291 - val_accuracy: 0.9524\n",
      "Epoch 79/120\n",
      "228/228 [==============================] - 16s 72ms/step - loss: 0.0465 - accuracy: 0.9833 - val_loss: 0.2111 - val_accuracy: 0.9565\n",
      "Epoch 80/120\n",
      "228/228 [==============================] - 16s 72ms/step - loss: 0.0458 - accuracy: 0.9838 - val_loss: 0.1976 - val_accuracy: 0.9585\n",
      "Epoch 81/120\n",
      "228/228 [==============================] - 17s 72ms/step - loss: 0.0421 - accuracy: 0.9844 - val_loss: 0.2198 - val_accuracy: 0.9595\n",
      "Epoch 82/120\n",
      "228/228 [==============================] - 16s 72ms/step - loss: 0.0374 - accuracy: 0.9863 - val_loss: 0.2403 - val_accuracy: 0.9588\n",
      "Epoch 83/120\n",
      "228/228 [==============================] - 16s 72ms/step - loss: 0.0396 - accuracy: 0.9863 - val_loss: 0.2176 - val_accuracy: 0.9599\n",
      "Epoch 84/120\n",
      "228/228 [==============================] - 16s 72ms/step - loss: 0.0373 - accuracy: 0.9862 - val_loss: 0.2211 - val_accuracy: 0.9602\n",
      "Epoch 85/120\n",
      "228/228 [==============================] - 16s 72ms/step - loss: 0.0424 - accuracy: 0.9845 - val_loss: 0.2065 - val_accuracy: 0.9546\n",
      "Epoch 86/120\n",
      "228/228 [==============================] - 16s 72ms/step - loss: 0.0387 - accuracy: 0.9862 - val_loss: 0.2186 - val_accuracy: 0.9578\n",
      "Epoch 87/120\n",
      "228/228 [==============================] - 16s 72ms/step - loss: 0.0375 - accuracy: 0.9860 - val_loss: 0.2565 - val_accuracy: 0.9548\n",
      "Epoch 88/120\n",
      "228/228 [==============================] - 16s 72ms/step - loss: 0.0377 - accuracy: 0.9867 - val_loss: 0.2321 - val_accuracy: 0.9571\n",
      "Epoch 89/120\n",
      "228/228 [==============================] - 16s 72ms/step - loss: 0.0390 - accuracy: 0.9860 - val_loss: 0.2228 - val_accuracy: 0.9572\n",
      "Epoch 90/120\n",
      "228/228 [==============================] - 16s 72ms/step - loss: 0.0351 - accuracy: 0.9876 - val_loss: 0.2583 - val_accuracy: 0.9589\n",
      "Epoch 91/120\n",
      "228/228 [==============================] - 16s 72ms/step - loss: 0.0377 - accuracy: 0.9867 - val_loss: 0.2686 - val_accuracy: 0.9544\n",
      "Epoch 92/120\n",
      "228/228 [==============================] - 16s 72ms/step - loss: 0.0381 - accuracy: 0.9867 - val_loss: 0.2543 - val_accuracy: 0.9589\n",
      "Epoch 93/120\n",
      "228/228 [==============================] - 16s 72ms/step - loss: 0.0354 - accuracy: 0.9878 - val_loss: 0.2398 - val_accuracy: 0.9515\n",
      "Epoch 94/120\n",
      "228/228 [==============================] - 16s 72ms/step - loss: 0.0352 - accuracy: 0.9873 - val_loss: 0.2440 - val_accuracy: 0.9588\n",
      "Epoch 95/120\n",
      "228/228 [==============================] - 16s 72ms/step - loss: 0.0388 - accuracy: 0.9861 - val_loss: 0.2184 - val_accuracy: 0.9572\n",
      "Epoch 96/120\n",
      "228/228 [==============================] - 16s 72ms/step - loss: 0.0345 - accuracy: 0.9873 - val_loss: 0.2173 - val_accuracy: 0.9620\n",
      "Epoch 97/120\n",
      "228/228 [==============================] - 16s 72ms/step - loss: 0.0347 - accuracy: 0.9876 - val_loss: 0.2114 - val_accuracy: 0.9616\n",
      "Epoch 98/120\n",
      "228/228 [==============================] - 16s 72ms/step - loss: 0.0404 - accuracy: 0.9858 - val_loss: 0.2304 - val_accuracy: 0.9611\n",
      "Epoch 99/120\n",
      "228/228 [==============================] - 16s 72ms/step - loss: 0.0355 - accuracy: 0.9873 - val_loss: 0.2377 - val_accuracy: 0.9632\n",
      "Epoch 100/120\n",
      "228/228 [==============================] - 16s 72ms/step - loss: 0.0342 - accuracy: 0.9879 - val_loss: 0.2237 - val_accuracy: 0.9608\n",
      "Epoch 101/120\n",
      "228/228 [==============================] - 16s 72ms/step - loss: 0.0347 - accuracy: 0.9874 - val_loss: 0.2423 - val_accuracy: 0.9582\n",
      "Epoch 102/120\n",
      "228/228 [==============================] - 16s 72ms/step - loss: 0.0370 - accuracy: 0.9873 - val_loss: 0.2330 - val_accuracy: 0.9600\n",
      "Epoch 103/120\n",
      "228/228 [==============================] - 16s 72ms/step - loss: 0.0366 - accuracy: 0.9869 - val_loss: 0.2579 - val_accuracy: 0.9511\n",
      "Epoch 104/120\n",
      "228/228 [==============================] - 16s 72ms/step - loss: 0.0302 - accuracy: 0.9890 - val_loss: 0.2398 - val_accuracy: 0.9609\n",
      "Epoch 105/120\n",
      "228/228 [==============================] - 16s 72ms/step - loss: 0.0309 - accuracy: 0.9891 - val_loss: 0.2426 - val_accuracy: 0.9617\n",
      "Epoch 106/120\n",
      "228/228 [==============================] - 16s 72ms/step - loss: 0.0281 - accuracy: 0.9896 - val_loss: 0.2371 - val_accuracy: 0.9603\n",
      "Epoch 107/120\n",
      "228/228 [==============================] - 16s 72ms/step - loss: 0.0305 - accuracy: 0.9891 - val_loss: 0.2608 - val_accuracy: 0.9563\n",
      "Epoch 108/120\n"
     ]
    },
    {
     "name": "stdout",
     "output_type": "stream",
     "text": [
      "228/228 [==============================] - 16s 72ms/step - loss: 0.0350 - accuracy: 0.9879 - val_loss: 0.2689 - val_accuracy: 0.9555\n",
      "Epoch 109/120\n",
      "228/228 [==============================] - 16s 72ms/step - loss: 0.0351 - accuracy: 0.9874 - val_loss: 0.2810 - val_accuracy: 0.9558\n",
      "Epoch 110/120\n",
      "228/228 [==============================] - 16s 72ms/step - loss: 0.0371 - accuracy: 0.9873 - val_loss: 0.2425 - val_accuracy: 0.9580\n",
      "Epoch 111/120\n",
      "228/228 [==============================] - 16s 72ms/step - loss: 0.0337 - accuracy: 0.9879 - val_loss: 0.2453 - val_accuracy: 0.9605\n",
      "Epoch 112/120\n",
      "228/228 [==============================] - 16s 72ms/step - loss: 0.0273 - accuracy: 0.9904 - val_loss: 0.2602 - val_accuracy: 0.9575\n",
      "Epoch 113/120\n",
      "228/228 [==============================] - 16s 72ms/step - loss: 0.0316 - accuracy: 0.9886 - val_loss: 0.2604 - val_accuracy: 0.9608\n",
      "Epoch 114/120\n",
      "228/228 [==============================] - 16s 72ms/step - loss: 0.0333 - accuracy: 0.9879 - val_loss: 0.2389 - val_accuracy: 0.9603\n",
      "Epoch 115/120\n",
      "228/228 [==============================] - 16s 72ms/step - loss: 0.0322 - accuracy: 0.9886 - val_loss: 0.2296 - val_accuracy: 0.9603\n",
      "Epoch 116/120\n",
      "228/228 [==============================] - 16s 72ms/step - loss: 0.0273 - accuracy: 0.9903 - val_loss: 0.2659 - val_accuracy: 0.9632\n",
      "Epoch 117/120\n",
      "228/228 [==============================] - 16s 72ms/step - loss: 0.0308 - accuracy: 0.9897 - val_loss: 0.2528 - val_accuracy: 0.9605\n",
      "Epoch 118/120\n",
      "228/228 [==============================] - 16s 72ms/step - loss: 0.0279 - accuracy: 0.9899 - val_loss: 0.2851 - val_accuracy: 0.9592\n",
      "Epoch 119/120\n",
      "228/228 [==============================] - 16s 72ms/step - loss: 0.0323 - accuracy: 0.9891 - val_loss: 0.2528 - val_accuracy: 0.9620\n",
      "Epoch 120/120\n",
      "228/228 [==============================] - 16s 72ms/step - loss: 0.0266 - accuracy: 0.9907 - val_loss: 0.2610 - val_accuracy: 0.9616\n"
     ]
    },
    {
     "data": {
      "text/plain": [
       "<tensorflow.python.keras.callbacks.History at 0x20b23596348>"
      ]
     },
     "execution_count": 13,
     "metadata": {},
     "output_type": "execute_result"
    }
   ],
   "source": [
    "model.fit(x_train, y_train, \n",
    "         batch_size=batch_size, epochs=epochs, verbose=1, \n",
    "         validation_data=(x_valid, y_valid), \n",
    "         callbacks=[modelcheckpoint, tensorboard_callback])"
   ]
  },
  {
   "cell_type": "markdown",
   "metadata": {},
   "source": [
    "#### Load the best epoch's weight"
   ]
  },
  {
   "cell_type": "code",
   "execution_count": 25,
   "metadata": {
    "colab": {},
    "colab_type": "code",
    "id": "z8t0nVCw8JmP"
   },
   "outputs": [],
   "source": [
    "model.load_weights(output_dir+\"/weights.99.hdf5\") #96.32"
   ]
  },
  {
   "cell_type": "markdown",
   "metadata": {
    "colab_type": "text",
    "id": "7PWlH5SJ8JmP"
   },
   "source": [
    "## Evaluate\n",
    "\n",
    "Make predictions and check the results"
   ]
  },
  {
   "cell_type": "code",
   "execution_count": 26,
   "metadata": {
    "colab": {},
    "colab_type": "code",
    "id": "kZwGk5dR8JmS"
   },
   "outputs": [],
   "source": [
    "y_hat = model.predict(x_valid)"
   ]
  },
  {
   "cell_type": "code",
   "execution_count": 27,
   "metadata": {
    "colab": {},
    "colab_type": "code",
    "id": "FTWf6Cf-8Jme",
    "outputId": "1256b170-33dc-4171-f2ff-7a3d7ddd74e3"
   },
   "outputs": [
    {
     "data": {
      "image/png": "[encoded data removed]",
      "text/plain": [
       "<Figure size 432x288 with 1 Axes>"
      ]
     },
     "metadata": {
      "needs_background": "light"
     },
     "output_type": "display_data"
    }
   ],
   "source": [
    "plt.hist(y_hat)\n",
    "_ = plt.axvline(x=0.5, color='orange')"
   ]
  },
  {
   "cell_type": "markdown",
   "metadata": {},
   "source": [
    "#### Histogram of probabilities for each class\n",
    "If most probabilities are around either zero or one, it means the model was confidant in classification"
   ]
  },
  {
   "cell_type": "code",
   "execution_count": 28,
   "metadata": {},
   "outputs": [
    {
     "data": {
      "image/png": "[encoded data removed]",
      "text/plain": [
       "<Figure size 1080x720 with 6 Axes>"
      ]
     },
     "metadata": {
      "needs_background": "light"
     },
     "output_type": "display_data"
    }
   ],
   "source": [
    "df = pd.DataFrame(y_hat, columns=class_list)\n",
    "_ = df.hist(figsize=(15,10), color='brown')"
   ]
  },
  {
   "cell_type": "code",
   "execution_count": 29,
   "metadata": {
    "colab": {},
    "colab_type": "code",
    "id": "RNljSx3v8Jmh"
   },
   "outputs": [],
   "source": [
    "# Calculate ROC and Accuracy\n",
    "pct_auc = roc_auc_score(y_valid, y_hat)*100.0\n",
    "y_pred_classes = y_hat.round()\n",
    "acc = score(y_valid, y_pred_classes) * 100"
   ]
  },
  {
   "cell_type": "code",
   "execution_count": 30,
   "metadata": {
    "colab": {},
    "colab_type": "code",
    "id": "SO_N9lJG8Jmj",
    "outputId": "20968a52-8ca0-44d3-abf6-a1382bba5cde"
   },
   "outputs": [
    {
     "name": "stdout",
     "output_type": "stream",
     "text": [
      "The model accuracy is: 96.23\n",
      "The area under ROC curve is: 99.68\n"
     ]
    }
   ],
   "source": [
    "print(\"The model accuracy is: {:0.2f}\".format(acc))\n",
    "print(\"The area under ROC curve is: {:0.2f}\".format(pct_auc))"
   ]
  },
  {
   "cell_type": "code",
   "execution_count": 31,
   "metadata": {
    "colab": {},
    "colab_type": "code",
    "id": "vU3hnA298Jmo"
   },
   "outputs": [],
   "source": [
    "# Convert the predicted outcomes to categorical variable to compare with validation data, just for checking\n",
    "\n",
    "float_y_hat = []\n",
    "for y in y_hat:\n",
    "    float_y_hat.append(y[0:7].round(3))"
   ]
  },
  {
   "cell_type": "code",
   "execution_count": 32,
   "metadata": {
    "colab": {},
    "colab_type": "code",
    "id": "zrTf-aQl8Jmr"
   },
   "outputs": [],
   "source": [
    "ydf = pd.DataFrame(list(zip(float_y_hat, y_valid)), columns=['y_hat', 'y'])"
   ]
  },
  {
   "cell_type": "code",
   "execution_count": 33,
   "metadata": {
    "colab": {},
    "colab_type": "code",
    "id": "zAyKh_mX8Jmu",
    "outputId": "611224b8-f980-47df-d596-9aa3a5811009"
   },
   "outputs": [
    {
     "data": {
      "text/html": [
       "<div>\n",
       "<style scoped>\n",
       "    .dataframe tbody tr th:only-of-type {\n",
       "        vertical-align: middle;\n",
       "    }\n",
       "\n",
       "    .dataframe tbody tr th {\n",
       "        vertical-align: top;\n",
       "    }\n",
       "\n",
       "    .dataframe thead th {\n",
       "        text-align: right;\n",
       "    }\n",
       "</style>\n",
       "<table border=\"1\" class=\"dataframe\">\n",
       "  <thead>\n",
       "    <tr style=\"text-align: right;\">\n",
       "      <th></th>\n",
       "      <th>y_hat</th>\n",
       "      <th>y</th>\n",
       "    </tr>\n",
       "  </thead>\n",
       "  <tbody>\n",
       "    <tr>\n",
       "      <th>0</th>\n",
       "      <td>[0.0, 0.0, 0.0, 0.0, 0.0, 1.0]</td>\n",
       "      <td>[0.0, 0.0, 0.0, 0.0, 0.0, 1.0]</td>\n",
       "    </tr>\n",
       "    <tr>\n",
       "      <th>1</th>\n",
       "      <td>[0.0, 0.0, 1.0, 0.0, 0.0, 0.0]</td>\n",
       "      <td>[0.0, 0.0, 1.0, 0.0, 0.0, 0.0]</td>\n",
       "    </tr>\n",
       "    <tr>\n",
       "      <th>2</th>\n",
       "      <td>[0.0, 0.99, 0.01, 0.0, 0.0, 0.0]</td>\n",
       "      <td>[0.0, 1.0, 0.0, 0.0, 0.0, 0.0]</td>\n",
       "    </tr>\n",
       "    <tr>\n",
       "      <th>3</th>\n",
       "      <td>[1.0, 0.0, 0.0, 0.0, 0.0, 0.0]</td>\n",
       "      <td>[1.0, 0.0, 0.0, 0.0, 0.0, 0.0]</td>\n",
       "    </tr>\n",
       "    <tr>\n",
       "      <th>4</th>\n",
       "      <td>[0.0, 0.58, 0.42, 0.0, 0.0, 0.0]</td>\n",
       "      <td>[0.0, 1.0, 0.0, 0.0, 0.0, 0.0]</td>\n",
       "    </tr>\n",
       "  </tbody>\n",
       "</table>\n",
       "</div>"
      ],
      "text/plain": [
       "                              y_hat                               y\n",
       "0    [0.0, 0.0, 0.0, 0.0, 0.0, 1.0]  [0.0, 0.0, 0.0, 0.0, 0.0, 1.0]\n",
       "1    [0.0, 0.0, 1.0, 0.0, 0.0, 0.0]  [0.0, 0.0, 1.0, 0.0, 0.0, 0.0]\n",
       "2  [0.0, 0.99, 0.01, 0.0, 0.0, 0.0]  [0.0, 1.0, 0.0, 0.0, 0.0, 0.0]\n",
       "3    [1.0, 0.0, 0.0, 0.0, 0.0, 0.0]  [1.0, 0.0, 0.0, 0.0, 0.0, 0.0]\n",
       "4  [0.0, 0.58, 0.42, 0.0, 0.0, 0.0]  [0.0, 1.0, 0.0, 0.0, 0.0, 0.0]"
      ]
     },
     "execution_count": 33,
     "metadata": {},
     "output_type": "execute_result"
    }
   ],
   "source": [
    "ydf.head()"
   ]
  },
  {
   "cell_type": "code",
   "execution_count": 34,
   "metadata": {},
   "outputs": [],
   "source": [
    "# convert probability to class\n",
    "y_pred_class = np.argmax(y_hat, axis=1)\n",
    "y_class = np.argmax(y_valid, axis = 1)"
   ]
  },
  {
   "cell_type": "markdown",
   "metadata": {},
   "source": [
    "### plot confusion matrix\n",
    "First use seaborn, then a custom stript."
   ]
  },
  {
   "cell_type": "code",
   "execution_count": 36,
   "metadata": {},
   "outputs": [],
   "source": [
    "# Create confucion matrix:\n",
    "cf_matrix = confusion_matrix(y_class, y_pred_class, labels=range(len(class_list)))\n",
    "\n",
    "\n",
    "# the classes are not in order, for example 'sitting' is not following 'lying'. Sort them:\n",
    "\n",
    "confusion_matrix_df = pd.DataFrame(cf_matrix, index=class_list, columns=class_list)\n",
    "confusion_matrix_df = confusion_matrix_df[['Lying','Sitting', 'Self Pace walk',\\\n",
    "                                           'Running 3 METs','Running 5 METs', 'Running 7 METs']]\n",
    "confusion_matrix_df = confusion_matrix_df.reindex(['Lying', 'Sitting', 'Self Pace walk',\\\n",
    "                                                   'Running 3 METs','Running 5 METs', 'Running 7 METs'])"
   ]
  },
  {
   "cell_type": "code",
   "execution_count": 37,
   "metadata": {},
   "outputs": [
    {
     "data": {
      "text/plain": [
       "<AxesSubplot:>"
      ]
     },
     "execution_count": 37,
     "metadata": {},
     "output_type": "execute_result"
    },
    {
     "data": {
      "image/png": "[encoded data removed]",
      "text/plain": [
       "<Figure size 432x288 with 2 Axes>"
      ]
     },
     "metadata": {
      "needs_background": "light"
     },
     "output_type": "display_data"
    }
   ],
   "source": [
    "sns.heatmap(cf_matrix, annot=True, fmt = '1', xticklabels=class_list, yticklabels=class_list, cmap='ocean')\n",
    "# cf_matrix"
   ]
  },
  {
   "cell_type": "code",
   "execution_count": 38,
   "metadata": {},
   "outputs": [
    {
     "data": {
      "image/png": "[encoded data removed]",
      "text/plain": [
       "<Figure size 936x720 with 2 Axes>"
      ]
     },
     "metadata": {
      "needs_background": "light"
     },
     "output_type": "display_data"
    }
   ],
   "source": [
    "plt.figure(figsize = (13,10))\n",
    "\n",
    "_ = sns.heatmap(confusion_matrix_df, annot=True, fmt = '1', cmap='rocket_r') # try cmap='rocket', 'PuBuGn', 'magma'\n"
   ]
  },
  {
   "cell_type": "code",
   "execution_count": 39,
   "metadata": {},
   "outputs": [
    {
     "data": {
      "image/png": "[encoded data removed]",
      "text/plain": [
       "<Figure size 864x864 with 2 Axes>"
      ]
     },
     "metadata": {
      "needs_background": "light"
     },
     "output_type": "display_data"
    }
   ],
   "source": [
    "import prettyconfusion as pf\n",
    "pf.pretty_plot_confusion_matrix(confusion_matrix_df,cmap='PuBuGn', cbar='oranges'\n",
    "                                ,fz = 13, lw=1, figsize=[12,12])"
   ]
  },
  {
   "cell_type": "markdown",
   "metadata": {},
   "source": [
    "## Visualize performance metrics and the model's structure"
   ]
  },
  {
   "cell_type": "code",
   "execution_count": 45,
   "metadata": {},
   "outputs": [],
   "source": [
    "# Load the TensorBoard notebook extension.\n",
    "%load_ext tensorboard"
   ]
  },
  {
   "cell_type": "code",
   "execution_count": 41,
   "metadata": {},
   "outputs": [],
   "source": [
    "# Clear any logs from previous runs if you don't want to see it in tensorflow"
   ]
  },
  {
   "cell_type": "code",
   "execution_count": null,
   "metadata": {},
   "outputs": [],
   "source": [
    "%tensorboard --logdir logs"
   ]
  },
  {
   "cell_type": "code",
   "execution_count": 42,
   "metadata": {},
   "outputs": [
    {
     "name": "stdout",
     "output_type": "stream",
     "text": [
      "Serving 'output/CNN-LSTM-Final//weights.99.hdf5' at http://localhost:8080\n"
     ]
    }
   ],
   "source": [
    "# All stored weights have the same structure. Load one of them to netron and save the image \n",
    "netron.start(file=output_dir+\"/weights.99.hdf5\")"
   ]
  },
  {
   "cell_type": "code",
   "execution_count": null,
   "metadata": {},
   "outputs": [],
   "source": []
  }
 ],
 "metadata": {
  "colab": {
   "include_colab_link": true,
   "name": "dense_sentiment_classifier.ipynb",
   "provenance": []
  },
  "kernelspec": {
   "display_name": "Python 3",
   "language": "python",
   "name": "python3"
  },
  "language_info": {
   "codemirror_mode": {
    "name": "ipython",
    "version": 3
   },
   "file_extension": ".py",
   "mimetype": "text/x-python",
   "name": "python",
   "nbconvert_exporter": "python",
   "pygments_lexer": "ipython3",
   "version": "3.7.9"
  }
 },
 "nbformat": 4,
 "nbformat_minor": 1
}
