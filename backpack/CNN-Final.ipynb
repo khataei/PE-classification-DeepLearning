{
 "cells": [
  {
   "cell_type": "markdown",
   "metadata": {
    "colab_type": "text",
    "id": "ahUZuAfz8Jje"
   },
   "source": [
    "# Best CNN classifier"
   ]
  },
  {
   "cell_type": "markdown",
   "metadata": {
    "colab_type": "text",
    "id": "Re0ecmVI8Jjk"
   },
   "source": [
    "This model created from the hyper parameters obtained from hyper parameter tuning with SKlearn."
   ]
  },
  {
   "cell_type": "markdown",
   "metadata": {
    "colab_type": "text",
    "id": "ixsGb9tY8Jjm"
   },
   "source": [
    "#### Load dependencies"
   ]
  },
  {
   "cell_type": "code",
   "execution_count": 1,
   "metadata": {
    "colab": {},
    "colab_type": "code",
    "id": "5At1PKQp8Jjp"
   },
   "outputs": [
    {
     "name": "stdout",
     "output_type": "stream",
     "text": [
      "TensorFlow version:  2.3.1\n"
     ]
    },
    {
     "data": {
      "text/plain": [
       "'2.3.0'"
      ]
     },
     "execution_count": 1,
     "metadata": {},
     "output_type": "execute_result"
    }
   ],
   "source": [
    "import os  \n",
    "import pandas as pd\n",
    "import numpy as np\n",
    "import matplotlib.pyplot as plt \n",
    "import seaborn as sns\n",
    "\n",
    "\n",
    "import tensorflow as tf\n",
    "from tensorflow.keras.utils import to_categorical\n",
    "from tensorflow.keras.models import Sequential\n",
    "from tensorflow.keras.layers import Dense, Flatten, Dropout, Conv1D, GlobalMaxPooling1D\n",
    "from tensorflow.keras.layers import AveragePooling1D, LeakyReLU , MaxPool1D, GlobalAveragePooling1D\n",
    "from tensorflow.keras.callbacks import ModelCheckpoint \n",
    "from tensorflow.keras.wrappers.scikit_learn import KerasClassifier\n",
    "\n",
    "from sklearn.metrics import roc_auc_score, roc_curve \n",
    "from sklearn.model_selection import train_test_split\n",
    "from sklearn.model_selection import RandomizedSearchCV\n",
    "from sklearn.metrics import confusion_matrix\n",
    "from sklearn.metrics import  accuracy_score as score\n",
    "from tensorflow.python.client import device_lib\n",
    "\n",
    "\n",
    "# Visiualization imports, Netron and tensorboard:\n",
    "import netron\n",
    "from datetime import datetime\n",
    "from packaging import version\n",
    "from tensorflow import keras\n",
    "\n",
    "print(\"TensorFlow version: \", tf.__version__)\n",
    "assert version.parse(tf.__version__).release[0] >= 2, \\\n",
    "    \"This notebook requires TensorFlow 2.0 or above.\"\n",
    "\n",
    "import tensorboard\n",
    "tensorboard.__version__\n"
   ]
  },
  {
   "cell_type": "code",
   "execution_count": 2,
   "metadata": {},
   "outputs": [],
   "source": [
    "# Try to get reproducable results\n",
    "from numpy.random import seed\n",
    "seed(85)\n",
    "from tensorflow.random import set_seed\n",
    "set_seed(75)"
   ]
  },
  {
   "cell_type": "markdown",
   "metadata": {
    "colab_type": "text",
    "id": "Hg5wX2Dd8Jjz"
   },
   "source": [
    "#### Set hyperparameters"
   ]
  },
  {
   "cell_type": "code",
   "execution_count": 3,
   "metadata": {
    "colab": {},
    "colab_type": "code",
    "id": "lYLOM99-8Jj2"
   },
   "outputs": [],
   "source": [
    "# output directory name:\n",
    "output_dir = 'output/CNN-Final-test/'\n",
    "input_dir =  'Z:/Research/dfuller/Walkabilly/studies/smarphone_accel/data/Ethica_Jaeger_Merged/backpack/'\n",
    "input_file_name = 'backpack-NN-data.npz'\n",
    "\n",
    "# from the data preparation section we have:\n",
    "window_size_second = 3\n",
    "frequency = 30\n",
    "lenght_of_each_seq = window_size_second * frequency\n",
    "\n",
    "n_dense_2= 256\n",
    "n_dense_1= 256\n",
    "n_conv_3= 512\n",
    "n_conv_2= 512\n",
    "n_conv_1= 512\n",
    "maxpooling_pool_size= 3\n",
    "k_conv_3= 2\n",
    "k_conv_2= 2\n",
    "k_conv_1= 3\n",
    "dropout_2= 0.25\n",
    "dropout_1= 0.3\n",
    "avepooling_pool_size= 3\n",
    "activation_dense = 'elu'\n",
    "activation_conv = 'relu'\n",
    "\n",
    "\n",
    "# training:\n",
    "epochs = 120\n",
    "batch_size = 256\n"
   ]
  },
  {
   "cell_type": "markdown",
   "metadata": {
    "colab_type": "text",
    "id": "DaLx4yZ48Jj9"
   },
   "source": [
    "#### Load data"
   ]
  },
  {
   "cell_type": "markdown",
   "metadata": {
    "colab_type": "text",
    "id": "CD9X0yJg8Jj_"
   },
   "source": [
    "For this notebook we use only the **acceleration** data prepared in the DataPrep-Deep notebook."
   ]
  },
  {
   "cell_type": "code",
   "execution_count": 4,
   "metadata": {},
   "outputs": [],
   "source": [
    "# import the data\n",
    "raw_data = np.load(file=input_dir+input_file_name,allow_pickle=True)\n",
    "accel_array = raw_data['acceleration_data']\n",
    "meta_array = raw_data['metadata']\n",
    "labels_array = raw_data['labels']\n"
   ]
  },
  {
   "cell_type": "markdown",
   "metadata": {
    "colab_type": "text",
    "id": "WWq3ipbu8JlG"
   },
   "source": [
    "#### Preprocess data"
   ]
  },
  {
   "cell_type": "markdown",
   "metadata": {},
   "source": [
    "#### Convert the  labels to integer.\n",
    "In the raw data format of the labels is String and there are 6 classes. 'Lying', 'Sitting', 'Self Pace walk', 'Running 3 METs',\n",
    "       'Running 5 METs', 'Running 7 METs' <br>\n",
    "\n",
    "\n"
   ]
  },
  {
   "cell_type": "code",
   "execution_count": 5,
   "metadata": {
    "colab": {},
    "colab_type": "code",
    "id": "LyReiequ8Jln"
   },
   "outputs": [
    {
     "name": "stdout",
     "output_type": "stream",
     "text": [
      "The are 6 classes: ['Lying' 'Running 3 METs' 'Running 5 METs' 'Running 7 METs'\n",
      " 'Self Pace walk' 'Sitting']\n"
     ]
    }
   ],
   "source": [
    "# change from string to integer so keras.to_categorical can consume it\n",
    "\n",
    "# could do with factorize method as well\n",
    "n_class = len(np.unique(labels_array))\n",
    "class_list, labels_array_int = np.unique(labels_array,return_inverse=True)\n",
    "print(f'The are {len(class_list)} classes: {class_list}')"
   ]
  },
  {
   "cell_type": "markdown",
   "metadata": {},
   "source": [
    "#### Convert to categorical values"
   ]
  },
  {
   "cell_type": "code",
   "execution_count": 6,
   "metadata": {},
   "outputs": [],
   "source": [
    "# labels to categorical\n",
    "\n",
    "y = to_categorical(labels_array_int, num_classes=n_class)\n",
    "input_shape = list(accel_array.shape)"
   ]
  },
  {
   "cell_type": "markdown",
   "metadata": {
    "colab_type": "text",
    "collapsed": true,
    "id": "GscSnCpk8Jlm"
   },
   "source": [
    "\n",
    "#### Design neural network architecture"
   ]
  },
  {
   "cell_type": "code",
   "execution_count": 7,
   "metadata": {},
   "outputs": [],
   "source": [
    "# The best conv model!\n",
    "model = Sequential()\n",
    "model.add(Conv1D(n_conv_1, k_conv_1, activation=activation_conv, input_shape=input_shape[1:]))\n",
    "model.add(MaxPool1D(pool_size = maxpooling_pool_size))\n",
    "model.add(Conv1D(n_conv_2, k_conv_2, activation=activation_conv))\n",
    "model.add(AveragePooling1D(pool_size = avepooling_pool_size))\n",
    "model.add(Conv1D(n_conv_3, k_conv_3, activation=activation_conv))\n",
    "model.add(GlobalAveragePooling1D())\n",
    "model.add(Dense(n_dense_1, activation=activation_dense))\n",
    "model.add(Dropout(dropout_1))\n",
    "model.add(Dense(n_dense_2, activation=activation_dense))\n",
    "model.add(Dropout(dropout_2))\n",
    "model.add(Dense(n_class, activation='softmax'))\n",
    "model.compile(loss='categorical_crossentropy', optimizer='adam', metrics=['accuracy'])"
   ]
  },
  {
   "cell_type": "code",
   "execution_count": 8,
   "metadata": {
    "colab": {},
    "colab_type": "code",
    "id": "3nx7eGkg8Jlr",
    "outputId": "76af5145-5c7d-45c1-f292-e9f68a0907a9"
   },
   "outputs": [
    {
     "name": "stdout",
     "output_type": "stream",
     "text": [
      "Model: \"sequential\"\n",
      "_________________________________________________________________\n",
      "Layer (type)                 Output Shape              Param #   \n",
      "=================================================================\n",
      "conv1d (Conv1D)              (None, 88, 512)           5120      \n",
      "_________________________________________________________________\n",
      "max_pooling1d (MaxPooling1D) (None, 29, 512)           0         \n",
      "_________________________________________________________________\n",
      "conv1d_1 (Conv1D)            (None, 28, 512)           524800    \n",
      "_________________________________________________________________\n",
      "average_pooling1d (AveragePo (None, 9, 512)            0         \n",
      "_________________________________________________________________\n",
      "conv1d_2 (Conv1D)            (None, 8, 512)            524800    \n",
      "_________________________________________________________________\n",
      "global_average_pooling1d (Gl (None, 512)               0         \n",
      "_________________________________________________________________\n",
      "dense (Dense)                (None, 256)               131328    \n",
      "_________________________________________________________________\n",
      "dropout (Dropout)            (None, 256)               0         \n",
      "_________________________________________________________________\n",
      "dense_1 (Dense)              (None, 256)               65792     \n",
      "_________________________________________________________________\n",
      "dropout_1 (Dropout)          (None, 256)               0         \n",
      "_________________________________________________________________\n",
      "dense_2 (Dense)              (None, 6)                 1542      \n",
      "=================================================================\n",
      "Total params: 1,253,382\n",
      "Trainable params: 1,253,382\n",
      "Non-trainable params: 0\n",
      "_________________________________________________________________\n"
     ]
    }
   ],
   "source": [
    "model.summary()"
   ]
  },
  {
   "cell_type": "markdown",
   "metadata": {
    "colab": {},
    "colab_type": "code",
    "id": "40x3s0KY8Jlv",
    "outputId": "d3ac3e31-3c47-4b01-c2f9-ada0684b31b7"
   },
   "source": [
    "### Splitting and shuffeling the data"
   ]
  },
  {
   "cell_type": "code",
   "execution_count": 9,
   "metadata": {
    "colab": {},
    "colab_type": "code",
    "id": "f5grc2H78Jlz",
    "outputId": "3f7eeb55-f851-4796-de4e-0c68eb9df88d"
   },
   "outputs": [],
   "source": [
    "# split and shuffle\n",
    "x_train, x_valid, y_train, y_valid = train_test_split(\n",
    "     accel_array, y, test_size=0.1, random_state=65)"
   ]
  },
  {
   "cell_type": "markdown",
   "metadata": {
    "colab_type": "text",
    "id": "JkbhJMox8Jl9"
   },
   "source": [
    "#### Prepare to save each epoch\n",
    "The weights and a log for tensorboard are saved. Later we load back the best model"
   ]
  },
  {
   "cell_type": "code",
   "execution_count": 10,
   "metadata": {
    "colab": {},
    "colab_type": "code",
    "id": "zHjvYe288JmE"
   },
   "outputs": [],
   "source": [
    "modelcheckpoint = ModelCheckpoint(filepath=output_dir+\n",
    "                                  \"/weights.{epoch:02d}.hdf5\")\n",
    "\n",
    "# Define the Keras TensorBoard callback.\n",
    "logdir=  \"logs/fit/\" + datetime.now().strftime(\"%Y%m%d-%H%M%S\")\n",
    "tensorboard_callback = keras.callbacks.TensorBoard(log_dir=logdir)\n"
   ]
  },
  {
   "cell_type": "markdown",
   "metadata": {},
   "source": [
    "#### Create a folder to save each epoch of training"
   ]
  },
  {
   "cell_type": "code",
   "execution_count": 11,
   "metadata": {
    "colab": {},
    "colab_type": "code",
    "id": "esUwodZA8JmI"
   },
   "outputs": [],
   "source": [
    "if not os.path.exists(output_dir):\n",
    "    os.makedirs(output_dir)"
   ]
  },
  {
   "cell_type": "code",
   "execution_count": 12,
   "metadata": {},
   "outputs": [
    {
     "data": {
      "text/plain": [
       "((58290, 90, 3), (58290, 6), (6477, 90, 3), (6477, 6))"
      ]
     },
     "execution_count": 12,
     "metadata": {},
     "output_type": "execute_result"
    }
   ],
   "source": [
    "x_train.shape, y_train.shape, x_valid.shape, y_valid.shape"
   ]
  },
  {
   "cell_type": "markdown",
   "metadata": {
    "colab_type": "text",
    "id": "TEYpX7968JmL"
   },
   "source": [
    "#### Train!"
   ]
  },
  {
   "cell_type": "code",
   "execution_count": 13,
   "metadata": {
    "colab": {},
    "colab_type": "code",
    "id": "QaD1W7Ka8JmM",
    "outputId": "f0c30141-0962-48f6-a000-d136af50af79",
    "scrolled": true
   },
   "outputs": [
    {
     "name": "stdout",
     "output_type": "stream",
     "text": [
      "Epoch 1/120\n",
      "  1/228 [..............................] - ETA: 0s - loss: 1.7934 - accuracy: 0.1523WARNING:tensorflow:From C:\\Users\\dfuller\\AppData\\Local\\Continuum\\anaconda3\\envs\\tf-gpu\\lib\\site-packages\\tensorflow\\python\\ops\\summary_ops_v2.py:1277: stop (from tensorflow.python.eager.profiler) is deprecated and will be removed after 2020-07-01.\n",
      "Instructions for updating:\n",
      "use `tf.profiler.experimental.stop` instead.\n",
      "  2/228 [..............................] - ETA: 10s - loss: 1.7547 - accuracy: 0.2285WARNING:tensorflow:Callbacks method `on_train_batch_end` is slow compared to the batch time (batch time: 0.0159s vs `on_train_batch_end` time: 0.0718s). Check your callbacks.\n",
      "228/228 [==============================] - 8s 37ms/step - loss: 0.8330 - accuracy: 0.6969 - val_loss: 0.6093 - val_accuracy: 0.7880\n",
      "Epoch 2/120\n",
      "228/228 [==============================] - 8s 33ms/step - loss: 0.4856 - accuracy: 0.8441 - val_loss: 0.4303 - val_accuracy: 0.8632\n",
      "Epoch 3/120\n",
      "228/228 [==============================] - 8s 33ms/step - loss: 0.3986 - accuracy: 0.8764 - val_loss: 0.3776 - val_accuracy: 0.8790\n",
      "Epoch 4/120\n",
      "228/228 [==============================] - 8s 33ms/step - loss: 0.3578 - accuracy: 0.8896 - val_loss: 0.3701 - val_accuracy: 0.8871\n",
      "Epoch 5/120\n",
      "228/228 [==============================] - 8s 33ms/step - loss: 0.3478 - accuracy: 0.8916 - val_loss: 0.3398 - val_accuracy: 0.8913\n",
      "Epoch 6/120\n",
      "228/228 [==============================] - 8s 33ms/step - loss: 0.3222 - accuracy: 0.9009 - val_loss: 0.3406 - val_accuracy: 0.8904\n",
      "Epoch 7/120\n",
      "228/228 [==============================] - 8s 33ms/step - loss: 0.3056 - accuracy: 0.9052 - val_loss: 0.3344 - val_accuracy: 0.8925\n",
      "Epoch 8/120\n",
      "228/228 [==============================] - 8s 33ms/step - loss: 0.3015 - accuracy: 0.9066 - val_loss: 0.3025 - val_accuracy: 0.9074\n",
      "Epoch 9/120\n",
      "228/228 [==============================] - 8s 33ms/step - loss: 0.2880 - accuracy: 0.9110 - val_loss: 0.3158 - val_accuracy: 0.9061\n",
      "Epoch 10/120\n",
      "228/228 [==============================] - 8s 33ms/step - loss: 0.2830 - accuracy: 0.9128 - val_loss: 0.3102 - val_accuracy: 0.9040\n",
      "Epoch 11/120\n",
      "228/228 [==============================] - 8s 33ms/step - loss: 0.2722 - accuracy: 0.9159 - val_loss: 0.3034 - val_accuracy: 0.9047\n",
      "Epoch 12/120\n",
      "228/228 [==============================] - 8s 33ms/step - loss: 0.2659 - accuracy: 0.9166 - val_loss: 0.2812 - val_accuracy: 0.9088\n",
      "Epoch 13/120\n",
      "228/228 [==============================] - 8s 33ms/step - loss: 0.2589 - accuracy: 0.9195 - val_loss: 0.2789 - val_accuracy: 0.9122\n",
      "Epoch 14/120\n",
      "228/228 [==============================] - 8s 33ms/step - loss: 0.2534 - accuracy: 0.9206 - val_loss: 0.2735 - val_accuracy: 0.9166\n",
      "Epoch 15/120\n",
      "228/228 [==============================] - 8s 33ms/step - loss: 0.2502 - accuracy: 0.9208 - val_loss: 0.2820 - val_accuracy: 0.9135\n",
      "Epoch 16/120\n",
      "228/228 [==============================] - 8s 33ms/step - loss: 0.2409 - accuracy: 0.9251 - val_loss: 0.2652 - val_accuracy: 0.9162\n",
      "Epoch 17/120\n",
      "228/228 [==============================] - 8s 33ms/step - loss: 0.2370 - accuracy: 0.9249 - val_loss: 0.2751 - val_accuracy: 0.9111\n",
      "Epoch 18/120\n",
      "228/228 [==============================] - 8s 33ms/step - loss: 0.2343 - accuracy: 0.9259 - val_loss: 0.2740 - val_accuracy: 0.9131\n",
      "Epoch 19/120\n",
      "228/228 [==============================] - 8s 33ms/step - loss: 0.2273 - accuracy: 0.9268 - val_loss: 0.2621 - val_accuracy: 0.9172\n",
      "Epoch 20/120\n",
      "228/228 [==============================] - 8s 33ms/step - loss: 0.2223 - accuracy: 0.9282 - val_loss: 0.2587 - val_accuracy: 0.9154\n",
      "Epoch 21/120\n",
      "228/228 [==============================] - 8s 33ms/step - loss: 0.2193 - accuracy: 0.9286 - val_loss: 0.2537 - val_accuracy: 0.9165\n",
      "Epoch 22/120\n",
      "228/228 [==============================] - 8s 33ms/step - loss: 0.2138 - accuracy: 0.9313 - val_loss: 0.2711 - val_accuracy: 0.9171\n",
      "Epoch 23/120\n",
      "228/228 [==============================] - 8s 34ms/step - loss: 0.2055 - accuracy: 0.9319 - val_loss: 0.2608 - val_accuracy: 0.9189\n",
      "Epoch 24/120\n",
      "228/228 [==============================] - 8s 34ms/step - loss: 0.2048 - accuracy: 0.9325 - val_loss: 0.2617 - val_accuracy: 0.9206\n",
      "Epoch 25/120\n",
      "228/228 [==============================] - 8s 35ms/step - loss: 0.1972 - accuracy: 0.9345 - val_loss: 0.2556 - val_accuracy: 0.9240\n",
      "Epoch 26/120\n",
      "228/228 [==============================] - 8s 33ms/step - loss: 0.1971 - accuracy: 0.9335 - val_loss: 0.2558 - val_accuracy: 0.9208\n",
      "Epoch 27/120\n",
      "228/228 [==============================] - 8s 33ms/step - loss: 0.1895 - accuracy: 0.9364 - val_loss: 0.2412 - val_accuracy: 0.9216\n",
      "Epoch 28/120\n",
      "228/228 [==============================] - 8s 34ms/step - loss: 0.1831 - accuracy: 0.9390 - val_loss: 0.2457 - val_accuracy: 0.9236\n",
      "Epoch 29/120\n",
      "228/228 [==============================] - 8s 33ms/step - loss: 0.1804 - accuracy: 0.9388 - val_loss: 0.2600 - val_accuracy: 0.9214\n",
      "Epoch 30/120\n",
      "228/228 [==============================] - 8s 33ms/step - loss: 0.1764 - accuracy: 0.9404 - val_loss: 0.2657 - val_accuracy: 0.9203\n",
      "Epoch 31/120\n",
      "228/228 [==============================] - 8s 33ms/step - loss: 0.1671 - accuracy: 0.9432 - val_loss: 0.2684 - val_accuracy: 0.9254\n",
      "Epoch 32/120\n",
      "228/228 [==============================] - 8s 33ms/step - loss: 0.1651 - accuracy: 0.9435 - val_loss: 0.2519 - val_accuracy: 0.9230\n",
      "Epoch 33/120\n",
      "228/228 [==============================] - 8s 33ms/step - loss: 0.1621 - accuracy: 0.9441 - val_loss: 0.2521 - val_accuracy: 0.9234\n",
      "Epoch 34/120\n",
      "228/228 [==============================] - 8s 33ms/step - loss: 0.1571 - accuracy: 0.9467 - val_loss: 0.2606 - val_accuracy: 0.9237\n",
      "Epoch 35/120\n",
      "228/228 [==============================] - 8s 33ms/step - loss: 0.1523 - accuracy: 0.9479 - val_loss: 0.2651 - val_accuracy: 0.9237\n",
      "Epoch 36/120\n",
      "228/228 [==============================] - 8s 33ms/step - loss: 0.1485 - accuracy: 0.9492 - val_loss: 0.2613 - val_accuracy: 0.9200\n",
      "Epoch 37/120\n",
      "228/228 [==============================] - 8s 33ms/step - loss: 0.1413 - accuracy: 0.9514 - val_loss: 0.2922 - val_accuracy: 0.9145\n",
      "Epoch 38/120\n",
      "228/228 [==============================] - 8s 33ms/step - loss: 0.1398 - accuracy: 0.9521 - val_loss: 0.2768 - val_accuracy: 0.9264\n",
      "Epoch 39/120\n",
      "228/228 [==============================] - 8s 33ms/step - loss: 0.1346 - accuracy: 0.9536 - val_loss: 0.2703 - val_accuracy: 0.9236\n",
      "Epoch 40/120\n",
      "228/228 [==============================] - 8s 34ms/step - loss: 0.1291 - accuracy: 0.9557 - val_loss: 0.2992 - val_accuracy: 0.9217\n",
      "Epoch 41/120\n",
      "228/228 [==============================] - 8s 33ms/step - loss: 0.1305 - accuracy: 0.9561 - val_loss: 0.2716 - val_accuracy: 0.9196\n",
      "Epoch 42/120\n",
      "228/228 [==============================] - 8s 33ms/step - loss: 0.1292 - accuracy: 0.9548 - val_loss: 0.2755 - val_accuracy: 0.9296\n",
      "Epoch 43/120\n",
      "228/228 [==============================] - 8s 33ms/step - loss: 0.1250 - accuracy: 0.9581 - val_loss: 0.2814 - val_accuracy: 0.9210\n",
      "Epoch 44/120\n",
      "228/228 [==============================] - 8s 33ms/step - loss: 0.1209 - accuracy: 0.9588 - val_loss: 0.2931 - val_accuracy: 0.9242\n",
      "Epoch 45/120\n",
      "228/228 [==============================] - 8s 34ms/step - loss: 0.1191 - accuracy: 0.9588 - val_loss: 0.2906 - val_accuracy: 0.9222\n",
      "Epoch 46/120\n",
      "228/228 [==============================] - 8s 33ms/step - loss: 0.1169 - accuracy: 0.9600 - val_loss: 0.3181 - val_accuracy: 0.9160\n",
      "Epoch 47/120\n",
      "228/228 [==============================] - 8s 33ms/step - loss: 0.1178 - accuracy: 0.9593 - val_loss: 0.3021 - val_accuracy: 0.9248\n",
      "Epoch 48/120\n",
      "228/228 [==============================] - 8s 33ms/step - loss: 0.1085 - accuracy: 0.9627 - val_loss: 0.2996 - val_accuracy: 0.9210\n",
      "Epoch 49/120\n",
      "228/228 [==============================] - 8s 33ms/step - loss: 0.1074 - accuracy: 0.9631 - val_loss: 0.3000 - val_accuracy: 0.9282\n",
      "Epoch 50/120\n",
      "228/228 [==============================] - 8s 33ms/step - loss: 0.1093 - accuracy: 0.9624 - val_loss: 0.3047 - val_accuracy: 0.9271\n",
      "Epoch 51/120\n",
      "228/228 [==============================] - 8s 33ms/step - loss: 0.1117 - accuracy: 0.9613 - val_loss: 0.3020 - val_accuracy: 0.9267\n",
      "Epoch 52/120\n",
      "228/228 [==============================] - 8s 33ms/step - loss: 0.1079 - accuracy: 0.9630 - val_loss: 0.3155 - val_accuracy: 0.9242\n"
     ]
    },
    {
     "name": "stdout",
     "output_type": "stream",
     "text": [
      "Epoch 53/120\n",
      "228/228 [==============================] - 8s 33ms/step - loss: 0.1030 - accuracy: 0.9644 - val_loss: 0.3403 - val_accuracy: 0.9230\n",
      "Epoch 54/120\n",
      "228/228 [==============================] - 8s 33ms/step - loss: 0.1070 - accuracy: 0.9627 - val_loss: 0.3717 - val_accuracy: 0.9284\n",
      "Epoch 55/120\n",
      "228/228 [==============================] - 8s 33ms/step - loss: 0.1049 - accuracy: 0.9649 - val_loss: 0.5058 - val_accuracy: 0.9037\n",
      "Epoch 56/120\n",
      "228/228 [==============================] - 8s 33ms/step - loss: 0.1045 - accuracy: 0.9651 - val_loss: 0.3506 - val_accuracy: 0.9216\n",
      "Epoch 57/120\n",
      "228/228 [==============================] - 8s 33ms/step - loss: 0.0972 - accuracy: 0.9662 - val_loss: 0.3315 - val_accuracy: 0.9313\n",
      "Epoch 58/120\n",
      "228/228 [==============================] - 8s 33ms/step - loss: 0.0966 - accuracy: 0.9677 - val_loss: 0.3620 - val_accuracy: 0.9318\n",
      "Epoch 59/120\n",
      "228/228 [==============================] - 8s 33ms/step - loss: 0.0948 - accuracy: 0.9685 - val_loss: 0.3335 - val_accuracy: 0.9259\n",
      "Epoch 60/120\n",
      "228/228 [==============================] - 8s 33ms/step - loss: 0.0951 - accuracy: 0.9680 - val_loss: 0.3211 - val_accuracy: 0.9260\n",
      "Epoch 61/120\n",
      "228/228 [==============================] - 8s 33ms/step - loss: 0.0923 - accuracy: 0.9694 - val_loss: 0.3227 - val_accuracy: 0.9271\n",
      "Epoch 62/120\n",
      "228/228 [==============================] - 8s 33ms/step - loss: 0.0891 - accuracy: 0.9703 - val_loss: 0.3495 - val_accuracy: 0.9245\n",
      "Epoch 63/120\n",
      "228/228 [==============================] - 8s 33ms/step - loss: 0.0887 - accuracy: 0.9703 - val_loss: 0.3220 - val_accuracy: 0.9279\n",
      "Epoch 64/120\n",
      "228/228 [==============================] - 8s 33ms/step - loss: 0.0909 - accuracy: 0.9700 - val_loss: 0.3211 - val_accuracy: 0.9265\n",
      "Epoch 65/120\n",
      "228/228 [==============================] - 8s 33ms/step - loss: 0.0874 - accuracy: 0.9711 - val_loss: 0.3331 - val_accuracy: 0.9274\n",
      "Epoch 66/120\n",
      "228/228 [==============================] - 8s 33ms/step - loss: 0.0897 - accuracy: 0.9695 - val_loss: 0.3331 - val_accuracy: 0.9268\n",
      "Epoch 67/120\n",
      "228/228 [==============================] - 8s 33ms/step - loss: 0.0814 - accuracy: 0.9733 - val_loss: 0.3352 - val_accuracy: 0.9304\n",
      "Epoch 68/120\n",
      "228/228 [==============================] - 8s 34ms/step - loss: 0.0825 - accuracy: 0.9721 - val_loss: 0.3536 - val_accuracy: 0.9281\n",
      "Epoch 69/120\n",
      "228/228 [==============================] - 8s 33ms/step - loss: 0.0867 - accuracy: 0.9712 - val_loss: 0.3371 - val_accuracy: 0.9308\n",
      "Epoch 70/120\n",
      "228/228 [==============================] - 8s 33ms/step - loss: 0.0841 - accuracy: 0.9714 - val_loss: 0.3425 - val_accuracy: 0.9291\n",
      "Epoch 71/120\n",
      "228/228 [==============================] - 8s 33ms/step - loss: 0.0800 - accuracy: 0.9731 - val_loss: 0.3808 - val_accuracy: 0.9316\n",
      "Epoch 72/120\n",
      "228/228 [==============================] - 8s 33ms/step - loss: 0.0817 - accuracy: 0.9730 - val_loss: 0.3124 - val_accuracy: 0.9293\n",
      "Epoch 73/120\n",
      "228/228 [==============================] - 8s 33ms/step - loss: 0.0787 - accuracy: 0.9733 - val_loss: 0.3350 - val_accuracy: 0.9298\n",
      "Epoch 74/120\n",
      "228/228 [==============================] - 8s 33ms/step - loss: 0.0781 - accuracy: 0.9739 - val_loss: 0.3813 - val_accuracy: 0.9308\n",
      "Epoch 75/120\n",
      "228/228 [==============================] - 8s 33ms/step - loss: 0.0766 - accuracy: 0.9741 - val_loss: 0.3345 - val_accuracy: 0.9298\n",
      "Epoch 76/120\n",
      "228/228 [==============================] - 8s 33ms/step - loss: 0.0812 - accuracy: 0.9724 - val_loss: 0.3421 - val_accuracy: 0.9301\n",
      "Epoch 77/120\n",
      "228/228 [==============================] - 8s 33ms/step - loss: 0.0790 - accuracy: 0.9734 - val_loss: 0.3520 - val_accuracy: 0.9330\n",
      "Epoch 78/120\n",
      "228/228 [==============================] - 8s 33ms/step - loss: 0.0792 - accuracy: 0.9737 - val_loss: 0.3692 - val_accuracy: 0.9331\n",
      "Epoch 79/120\n",
      "228/228 [==============================] - 8s 33ms/step - loss: 0.0753 - accuracy: 0.9741 - val_loss: 0.3671 - val_accuracy: 0.9313\n",
      "Epoch 80/120\n",
      "228/228 [==============================] - 8s 33ms/step - loss: 0.0762 - accuracy: 0.9739 - val_loss: 0.3309 - val_accuracy: 0.9296\n",
      "Epoch 81/120\n",
      "228/228 [==============================] - 8s 33ms/step - loss: 0.0767 - accuracy: 0.9737 - val_loss: 0.3583 - val_accuracy: 0.9291\n",
      "Epoch 82/120\n",
      "228/228 [==============================] - 8s 33ms/step - loss: 0.0761 - accuracy: 0.9739 - val_loss: 0.3489 - val_accuracy: 0.9338\n",
      "Epoch 83/120\n",
      "228/228 [==============================] - 8s 33ms/step - loss: 0.0736 - accuracy: 0.9750 - val_loss: 0.3612 - val_accuracy: 0.9290\n",
      "Epoch 84/120\n",
      "228/228 [==============================] - 8s 33ms/step - loss: 0.0687 - accuracy: 0.9768 - val_loss: 0.3647 - val_accuracy: 0.9328\n",
      "Epoch 85/120\n",
      "228/228 [==============================] - 8s 33ms/step - loss: 0.0735 - accuracy: 0.9753 - val_loss: 0.3792 - val_accuracy: 0.9324\n",
      "Epoch 86/120\n",
      "228/228 [==============================] - 8s 33ms/step - loss: 0.0723 - accuracy: 0.9757 - val_loss: 0.3601 - val_accuracy: 0.9307\n",
      "Epoch 87/120\n",
      "228/228 [==============================] - 8s 33ms/step - loss: 0.0731 - accuracy: 0.9753 - val_loss: 0.3476 - val_accuracy: 0.9331\n",
      "Epoch 88/120\n",
      "228/228 [==============================] - 8s 34ms/step - loss: 0.0693 - accuracy: 0.9766 - val_loss: 0.3310 - val_accuracy: 0.9342\n",
      "Epoch 89/120\n",
      "228/228 [==============================] - 8s 33ms/step - loss: 0.0649 - accuracy: 0.9779 - val_loss: 0.3875 - val_accuracy: 0.9330\n",
      "Epoch 90/120\n",
      "228/228 [==============================] - 8s 33ms/step - loss: 0.0699 - accuracy: 0.9763 - val_loss: 0.3801 - val_accuracy: 0.9253\n",
      "Epoch 91/120\n",
      "228/228 [==============================] - 8s 33ms/step - loss: 0.0769 - accuracy: 0.9739 - val_loss: 0.3232 - val_accuracy: 0.9288\n",
      "Epoch 92/120\n",
      "228/228 [==============================] - 8s 33ms/step - loss: 0.0731 - accuracy: 0.9751 - val_loss: 0.3565 - val_accuracy: 0.9270\n",
      "Epoch 93/120\n",
      "228/228 [==============================] - 8s 33ms/step - loss: 0.0697 - accuracy: 0.9762 - val_loss: 0.3543 - val_accuracy: 0.9310\n",
      "Epoch 94/120\n",
      "228/228 [==============================] - 8s 33ms/step - loss: 0.0631 - accuracy: 0.9779 - val_loss: 0.3562 - val_accuracy: 0.9355\n",
      "Epoch 95/120\n",
      "228/228 [==============================] - 8s 33ms/step - loss: 0.0689 - accuracy: 0.9768 - val_loss: 0.3645 - val_accuracy: 0.9348\n",
      "Epoch 96/120\n",
      "228/228 [==============================] - 8s 33ms/step - loss: 0.0669 - accuracy: 0.9770 - val_loss: 0.3573 - val_accuracy: 0.9268\n",
      "Epoch 97/120\n",
      "228/228 [==============================] - 8s 33ms/step - loss: 0.0658 - accuracy: 0.9771 - val_loss: 0.3825 - val_accuracy: 0.9250\n",
      "Epoch 98/120\n",
      "228/228 [==============================] - 8s 33ms/step - loss: 0.0606 - accuracy: 0.9793 - val_loss: 0.3759 - val_accuracy: 0.9308\n",
      "Epoch 99/120\n",
      "228/228 [==============================] - 8s 33ms/step - loss: 0.0675 - accuracy: 0.9768 - val_loss: 0.3510 - val_accuracy: 0.9350\n",
      "Epoch 100/120\n",
      "228/228 [==============================] - 8s 33ms/step - loss: 0.0668 - accuracy: 0.9765 - val_loss: 0.3323 - val_accuracy: 0.9284\n",
      "Epoch 101/120\n",
      "228/228 [==============================] - 8s 33ms/step - loss: 0.0608 - accuracy: 0.9788 - val_loss: 0.3751 - val_accuracy: 0.9324\n",
      "Epoch 102/120\n",
      "228/228 [==============================] - 8s 33ms/step - loss: 0.0670 - accuracy: 0.9772 - val_loss: 0.3454 - val_accuracy: 0.9347\n",
      "Epoch 103/120\n",
      "228/228 [==============================] - 8s 33ms/step - loss: 0.0623 - accuracy: 0.9787 - val_loss: 0.3868 - val_accuracy: 0.9314\n",
      "Epoch 104/120\n",
      "228/228 [==============================] - 8s 33ms/step - loss: 0.0689 - accuracy: 0.9766 - val_loss: 0.3547 - val_accuracy: 0.9348\n",
      "Epoch 105/120\n",
      "228/228 [==============================] - 8s 33ms/step - loss: 0.0602 - accuracy: 0.9792 - val_loss: 0.3926 - val_accuracy: 0.9310\n",
      "Epoch 106/120\n",
      "228/228 [==============================] - 8s 33ms/step - loss: 0.0580 - accuracy: 0.9798 - val_loss: 0.3986 - val_accuracy: 0.9335\n",
      "Epoch 107/120\n",
      "228/228 [==============================] - 8s 33ms/step - loss: 0.0635 - accuracy: 0.9784 - val_loss: 0.3760 - val_accuracy: 0.9203\n",
      "Epoch 108/120\n",
      "228/228 [==============================] - 8s 33ms/step - loss: 0.0677 - accuracy: 0.9769 - val_loss: 0.3791 - val_accuracy: 0.9281\n",
      "Epoch 109/120\n"
     ]
    },
    {
     "name": "stdout",
     "output_type": "stream",
     "text": [
      "228/228 [==============================] - 8s 33ms/step - loss: 0.0587 - accuracy: 0.9797 - val_loss: 0.4005 - val_accuracy: 0.9314\n",
      "Epoch 110/120\n",
      "228/228 [==============================] - 8s 34ms/step - loss: 0.0646 - accuracy: 0.9779 - val_loss: 0.3689 - val_accuracy: 0.9350\n",
      "Epoch 111/120\n",
      "228/228 [==============================] - 8s 33ms/step - loss: 0.0634 - accuracy: 0.9785 - val_loss: 0.3734 - val_accuracy: 0.9365\n",
      "Epoch 112/120\n",
      "228/228 [==============================] - 8s 33ms/step - loss: 0.0584 - accuracy: 0.9794 - val_loss: 0.3796 - val_accuracy: 0.9344\n",
      "Epoch 113/120\n",
      "228/228 [==============================] - 8s 33ms/step - loss: 0.0608 - accuracy: 0.9791 - val_loss: 0.3430 - val_accuracy: 0.9341\n",
      "Epoch 114/120\n",
      "228/228 [==============================] - 8s 33ms/step - loss: 0.0606 - accuracy: 0.9794 - val_loss: 0.3886 - val_accuracy: 0.9301\n",
      "Epoch 115/120\n",
      "228/228 [==============================] - 8s 33ms/step - loss: 0.0597 - accuracy: 0.9793 - val_loss: 0.3896 - val_accuracy: 0.9331\n",
      "Epoch 116/120\n",
      "228/228 [==============================] - 8s 33ms/step - loss: 0.0605 - accuracy: 0.9796 - val_loss: 0.3841 - val_accuracy: 0.9345\n",
      "Epoch 117/120\n",
      "228/228 [==============================] - 8s 33ms/step - loss: 0.0591 - accuracy: 0.9797 - val_loss: 0.4056 - val_accuracy: 0.9308\n",
      "Epoch 118/120\n",
      "228/228 [==============================] - 8s 33ms/step - loss: 0.0567 - accuracy: 0.9809 - val_loss: 0.4265 - val_accuracy: 0.9350\n",
      "Epoch 119/120\n",
      "228/228 [==============================] - 8s 33ms/step - loss: 0.0574 - accuracy: 0.9801 - val_loss: 0.4079 - val_accuracy: 0.9308\n",
      "Epoch 120/120\n",
      "228/228 [==============================] - 8s 33ms/step - loss: 0.0586 - accuracy: 0.9796 - val_loss: 0.4451 - val_accuracy: 0.9328\n"
     ]
    },
    {
     "data": {
      "text/plain": [
       "<tensorflow.python.keras.callbacks.History at 0x2261cc3e688>"
      ]
     },
     "execution_count": 13,
     "metadata": {},
     "output_type": "execute_result"
    }
   ],
   "source": [
    "model.fit(x_train, y_train, \n",
    "         batch_size=batch_size, epochs=epochs, verbose=1, \n",
    "         validation_data=(x_valid, y_valid), \n",
    "         callbacks=[modelcheckpoint, tensorboard_callback])"
   ]
  },
  {
   "cell_type": "markdown",
   "metadata": {},
   "source": [
    "#### Load the best epoch's weight"
   ]
  },
  {
   "cell_type": "code",
   "execution_count": 32,
   "metadata": {
    "colab": {},
    "colab_type": "code",
    "id": "z8t0nVCw8JmP"
   },
   "outputs": [],
   "source": [
    "model.load_weights(output_dir+\"/weights.111.hdf5\")  # 93.65"
   ]
  },
  {
   "cell_type": "markdown",
   "metadata": {
    "colab_type": "text",
    "id": "7PWlH5SJ8JmP"
   },
   "source": [
    "## Evaluate\n",
    "\n",
    "Make predictions and check the results"
   ]
  },
  {
   "cell_type": "code",
   "execution_count": 33,
   "metadata": {
    "colab": {},
    "colab_type": "code",
    "id": "kZwGk5dR8JmS"
   },
   "outputs": [],
   "source": [
    "y_hat = model.predict(x_valid)"
   ]
  },
  {
   "cell_type": "code",
   "execution_count": 34,
   "metadata": {
    "colab": {},
    "colab_type": "code",
    "id": "FTWf6Cf-8Jme",
    "outputId": "1256b170-33dc-4171-f2ff-7a3d7ddd74e3"
   },
   "outputs": [
    {
     "data": {
      "image/png": "[encoded data removed]",
      "text/plain": [
       "<Figure size 432x288 with 1 Axes>"
      ]
     },
     "metadata": {
      "needs_background": "light"
     },
     "output_type": "display_data"
    }
   ],
   "source": [
    "plt.hist(y_hat)\n",
    "_ = plt.axvline(x=0.5, color='orange')"
   ]
  },
  {
   "cell_type": "markdown",
   "metadata": {},
   "source": [
    "#### Histogram of probabilities for each class\n",
    "If most probabilities are around either zero or one, it means the model was confidant in classification"
   ]
  },
  {
   "cell_type": "code",
   "execution_count": 35,
   "metadata": {},
   "outputs": [
    {
     "data": {
      "image/png": "[encoded data removed]",
      "text/plain": [
       "<Figure size 1080x720 with 6 Axes>"
      ]
     },
     "metadata": {
      "needs_background": "light"
     },
     "output_type": "display_data"
    }
   ],
   "source": [
    "df = pd.DataFrame(y_hat, columns=class_list)\n",
    "_ = df.hist(figsize=(15,10), color='brown')"
   ]
  },
  {
   "cell_type": "code",
   "execution_count": 36,
   "metadata": {
    "colab": {},
    "colab_type": "code",
    "id": "RNljSx3v8Jmh"
   },
   "outputs": [],
   "source": [
    "# Calculate ROC and Accuracy\n",
    "pct_auc = roc_auc_score(y_valid, y_hat)*100.0\n",
    "y_pred_classes = y_hat.round()\n",
    "acc = score(y_valid, y_pred_classes) * 100"
   ]
  },
  {
   "cell_type": "code",
   "execution_count": 37,
   "metadata": {
    "colab": {},
    "colab_type": "code",
    "id": "SO_N9lJG8Jmj",
    "outputId": "20968a52-8ca0-44d3-abf6-a1382bba5cde"
   },
   "outputs": [
    {
     "name": "stdout",
     "output_type": "stream",
     "text": [
      "The model accuracy is: 93.19\n",
      "The area under ROC curve is: 99.17\n"
     ]
    }
   ],
   "source": [
    "print(\"The model accuracy is: {:0.2f}\".format(acc))\n",
    "print(\"The area under ROC curve is: {:0.2f}\".format(pct_auc))"
   ]
  },
  {
   "cell_type": "code",
   "execution_count": 38,
   "metadata": {
    "colab": {},
    "colab_type": "code",
    "id": "vU3hnA298Jmo"
   },
   "outputs": [],
   "source": [
    "# Convert the predicted outcomes to categorical variable to compare with validation data, just for checking\n",
    "\n",
    "float_y_hat = []\n",
    "for y in y_hat:\n",
    "    float_y_hat.append(y[0:7].round(3))"
   ]
  },
  {
   "cell_type": "code",
   "execution_count": 39,
   "metadata": {
    "colab": {},
    "colab_type": "code",
    "id": "zrTf-aQl8Jmr"
   },
   "outputs": [],
   "source": [
    "ydf = pd.DataFrame(list(zip(float_y_hat, y_valid)), columns=['y_hat', 'y'])"
   ]
  },
  {
   "cell_type": "code",
   "execution_count": 40,
   "metadata": {
    "colab": {},
    "colab_type": "code",
    "id": "zAyKh_mX8Jmu",
    "outputId": "611224b8-f980-47df-d596-9aa3a5811009"
   },
   "outputs": [
    {
     "data": {
      "text/html": [
       "<div>\n",
       "<style scoped>\n",
       "    .dataframe tbody tr th:only-of-type {\n",
       "        vertical-align: middle;\n",
       "    }\n",
       "\n",
       "    .dataframe tbody tr th {\n",
       "        vertical-align: top;\n",
       "    }\n",
       "\n",
       "    .dataframe thead th {\n",
       "        text-align: right;\n",
       "    }\n",
       "</style>\n",
       "<table border=\"1\" class=\"dataframe\">\n",
       "  <thead>\n",
       "    <tr style=\"text-align: right;\">\n",
       "      <th></th>\n",
       "      <th>y_hat</th>\n",
       "      <th>y</th>\n",
       "    </tr>\n",
       "  </thead>\n",
       "  <tbody>\n",
       "    <tr>\n",
       "      <th>0</th>\n",
       "      <td>[0.0, 0.0, 1.0, 0.0, 0.0, 0.0]</td>\n",
       "      <td>[0.0, 0.0, 1.0, 0.0, 0.0, 0.0]</td>\n",
       "    </tr>\n",
       "    <tr>\n",
       "      <th>1</th>\n",
       "      <td>[0.114, 0.0, 0.885, 0.0, 0.0, 0.0]</td>\n",
       "      <td>[0.0, 0.0, 1.0, 0.0, 0.0, 0.0]</td>\n",
       "    </tr>\n",
       "    <tr>\n",
       "      <th>2</th>\n",
       "      <td>[0.0, 0.0, 1.0, 0.0, 0.0, 0.0]</td>\n",
       "      <td>[0.0, 0.0, 1.0, 0.0, 0.0, 0.0]</td>\n",
       "    </tr>\n",
       "    <tr>\n",
       "      <th>3</th>\n",
       "      <td>[0.01, 0.0, 0.396, 0.023, 0.0, 0.571]</td>\n",
       "      <td>[0.0, 0.0, 0.0, 1.0, 0.0, 0.0]</td>\n",
       "    </tr>\n",
       "    <tr>\n",
       "      <th>4</th>\n",
       "      <td>[0.994, 0.0, 0.0, 0.0, 0.005, 0.0]</td>\n",
       "      <td>[1.0, 0.0, 0.0, 0.0, 0.0, 0.0]</td>\n",
       "    </tr>\n",
       "  </tbody>\n",
       "</table>\n",
       "</div>"
      ],
      "text/plain": [
       "                                   y_hat                               y\n",
       "0         [0.0, 0.0, 1.0, 0.0, 0.0, 0.0]  [0.0, 0.0, 1.0, 0.0, 0.0, 0.0]\n",
       "1     [0.114, 0.0, 0.885, 0.0, 0.0, 0.0]  [0.0, 0.0, 1.0, 0.0, 0.0, 0.0]\n",
       "2         [0.0, 0.0, 1.0, 0.0, 0.0, 0.0]  [0.0, 0.0, 1.0, 0.0, 0.0, 0.0]\n",
       "3  [0.01, 0.0, 0.396, 0.023, 0.0, 0.571]  [0.0, 0.0, 0.0, 1.0, 0.0, 0.0]\n",
       "4     [0.994, 0.0, 0.0, 0.0, 0.005, 0.0]  [1.0, 0.0, 0.0, 0.0, 0.0, 0.0]"
      ]
     },
     "execution_count": 40,
     "metadata": {},
     "output_type": "execute_result"
    }
   ],
   "source": [
    "ydf.head()"
   ]
  },
  {
   "cell_type": "code",
   "execution_count": 41,
   "metadata": {},
   "outputs": [],
   "source": [
    "# convert probability to class\n",
    "y_pred_class = np.argmax(y_hat, axis=1)\n",
    "y_class = np.argmax(y_valid, axis = 1)"
   ]
  },
  {
   "cell_type": "markdown",
   "metadata": {},
   "source": [
    "### plot confusion matrix\n",
    "First use seaborn, then a custom stript."
   ]
  },
  {
   "cell_type": "code",
   "execution_count": 42,
   "metadata": {},
   "outputs": [],
   "source": [
    "# Create confucion matrix:\n",
    "cf_matrix = confusion_matrix(y_class, y_pred_class, labels=range(len(class_list)))\n",
    "\n",
    "\n",
    "# the classes are not in order, for example 'sitting' is not following 'lying'. Sort them:\n",
    "\n",
    "confusion_matrix_df = pd.DataFrame(cf_matrix, index=class_list, columns=class_list)\n",
    "confusion_matrix_df = confusion_matrix_df[['Lying','Sitting', 'Self Pace walk',\\\n",
    "                                           'Running 3 METs','Running 5 METs', 'Running 7 METs']]\n",
    "confusion_matrix_df = confusion_matrix_df.reindex(['Lying', 'Sitting', 'Self Pace walk',\\\n",
    "                                                   'Running 3 METs','Running 5 METs', 'Running 7 METs'])"
   ]
  },
  {
   "cell_type": "code",
   "execution_count": 43,
   "metadata": {},
   "outputs": [
    {
     "data": {
      "text/plain": [
       "<AxesSubplot:>"
      ]
     },
     "execution_count": 43,
     "metadata": {},
     "output_type": "execute_result"
    },
    {
     "data": {
      "image/png": "[encoded data removed]",
      "text/plain": [
       "<Figure size 432x288 with 2 Axes>"
      ]
     },
     "metadata": {
      "needs_background": "light"
     },
     "output_type": "display_data"
    }
   ],
   "source": [
    "sns.heatmap(cf_matrix, annot=True, fmt = '1', xticklabels=class_list, yticklabels=class_list, cmap='ocean')\n",
    "# cf_matrix"
   ]
  },
  {
   "cell_type": "code",
   "execution_count": 44,
   "metadata": {},
   "outputs": [
    {
     "data": {
      "image/png": "[encoded data removed]",
      "text/plain": [
       "<Figure size 936x720 with 2 Axes>"
      ]
     },
     "metadata": {
      "needs_background": "light"
     },
     "output_type": "display_data"
    }
   ],
   "source": [
    "plt.figure(figsize = (13,10))\n",
    "\n",
    "_ = sns.heatmap(confusion_matrix_df, annot=True, fmt = '1', cmap='rocket_r') # try cmap='rocket', 'PuBuGn', 'magma'\n"
   ]
  },
  {
   "cell_type": "code",
   "execution_count": 45,
   "metadata": {},
   "outputs": [
    {
     "data": {
      "image/png": "[encoded data removed]",
      "text/plain": [
       "<Figure size 864x864 with 2 Axes>"
      ]
     },
     "metadata": {
      "needs_background": "light"
     },
     "output_type": "display_data"
    }
   ],
   "source": [
    "import prettyconfusion as pf\n",
    "pf.pretty_plot_confusion_matrix(confusion_matrix_df,cmap='PuBuGn', cbar='oranges'\n",
    "                                ,fz = 13, lw=1, figsize=[12,12])"
   ]
  },
  {
   "cell_type": "markdown",
   "metadata": {},
   "source": [
    "## Visualize performance metrics and the model's structure"
   ]
  },
  {
   "cell_type": "code",
   "execution_count": 28,
   "metadata": {},
   "outputs": [],
   "source": [
    "# Load the TensorBoard notebook extension.\n",
    "%load_ext tensorboard"
   ]
  },
  {
   "cell_type": "code",
   "execution_count": 29,
   "metadata": {},
   "outputs": [],
   "source": [
    "# Clear any logs from previous runs if you don't want to see it in tensorflow"
   ]
  },
  {
   "cell_type": "code",
   "execution_count": 30,
   "metadata": {},
   "outputs": [
    {
     "data": {
      "text/plain": [
       "Reusing TensorBoard on port 6006 (pid 12896), started 1 day, 18:43:33 ago. (Use '!kill 12896' to kill it.)"
      ]
     },
     "metadata": {},
     "output_type": "display_data"
    },
    {
     "data": {
      "text/html": [
       "\n",
       "      <iframe id=\"tensorboard-frame-dcfcecf6b6a2a879\" width=\"100%\" height=\"800\" frameborder=\"0\">\n",
       "      </iframe>\n",
       "      <script>\n",
       "        (function() {\n",
       "          const frame = document.getElementById(\"tensorboard-frame-dcfcecf6b6a2a879\");\n",
       "          const url = new URL(\"/\", window.location);\n",
       "          const port = 6006;\n",
       "          if (port) {\n",
       "            url.port = port;\n",
       "          }\n",
       "          frame.src = url;\n",
       "        })();\n",
       "      </script>\n",
       "    "
      ],
      "text/plain": [
       "<IPython.core.display.HTML object>"
      ]
     },
     "metadata": {},
     "output_type": "display_data"
    }
   ],
   "source": [
    "%tensorboard --logdir logs"
   ]
  },
  {
   "cell_type": "code",
   "execution_count": 31,
   "metadata": {},
   "outputs": [
    {
     "name": "stdout",
     "output_type": "stream",
     "text": [
      "Serving 'output/CNN-Final-test//weights.109.hdf5' at http://localhost:8080\n"
     ]
    }
   ],
   "source": [
    "# All stored weights have the same structure. Load one of them to netron and save the image \n",
    "netron.start(file=output_dir+\"/weights.109.hdf5\")"
   ]
  },
  {
   "cell_type": "code",
   "execution_count": null,
   "metadata": {},
   "outputs": [],
   "source": []
  }
 ],
 "metadata": {
  "colab": {
   "include_colab_link": true,
   "name": "dense_sentiment_classifier.ipynb",
   "provenance": []
  },
  "kernelspec": {
   "display_name": "Python 3",
   "language": "python",
   "name": "python3"
  },
  "language_info": {
   "codemirror_mode": {
    "name": "ipython",
    "version": 3
   },
   "file_extension": ".py",
   "mimetype": "text/x-python",
   "name": "python",
   "nbconvert_exporter": "python",
   "pygments_lexer": "ipython3",
   "version": "3.7.9"
  }
 },
 "nbformat": 4,
 "nbformat_minor": 1
}
