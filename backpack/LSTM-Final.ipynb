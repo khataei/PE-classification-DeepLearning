{
 "cells": [
  {
   "cell_type": "markdown",
   "metadata": {
    "colab_type": "text",
    "id": "ahUZuAfz8Jje"
   },
   "source": [
    "# Best LSTM classifier"
   ]
  },
  {
   "cell_type": "markdown",
   "metadata": {
    "colab_type": "text",
    "id": "Re0ecmVI8Jjk"
   },
   "source": [
    "This model created from the hyper parameters obtained from hyper parameter tuning with SKlearn."
   ]
  },
  {
   "cell_type": "markdown",
   "metadata": {
    "colab_type": "text",
    "id": "ixsGb9tY8Jjm"
   },
   "source": [
    "#### Load dependencies"
   ]
  },
  {
   "cell_type": "code",
   "execution_count": 1,
   "metadata": {
    "colab": {},
    "colab_type": "code",
    "id": "5At1PKQp8Jjp"
   },
   "outputs": [
    {
     "name": "stdout",
     "output_type": "stream",
     "text": [
      "TensorFlow version:  2.3.1\n"
     ]
    },
    {
     "data": {
      "text/plain": [
       "'2.3.0'"
      ]
     },
     "execution_count": 1,
     "metadata": {},
     "output_type": "execute_result"
    }
   ],
   "source": [
    "import os  \n",
    "import pandas as pd\n",
    "import numpy as np\n",
    "import matplotlib.pyplot as plt \n",
    "import seaborn as sns\n",
    "\n",
    "\n",
    "import tensorflow as tf\n",
    "from tensorflow.keras.utils import to_categorical\n",
    "from tensorflow.keras.models import Sequential\n",
    "from tensorflow.keras.layers import Dense, Flatten, Dropout, LSTM\n",
    "from tensorflow.keras.layers import LeakyReLU \n",
    "from tensorflow.keras.callbacks import ModelCheckpoint \n",
    "from tensorflow.keras.wrappers.scikit_learn import KerasClassifier\n",
    "\n",
    "from sklearn.metrics import roc_auc_score, roc_curve \n",
    "from sklearn.model_selection import train_test_split\n",
    "from sklearn.model_selection import RandomizedSearchCV\n",
    "from sklearn.metrics import confusion_matrix\n",
    "from sklearn.metrics import  accuracy_score as score\n",
    "from tensorflow.python.client import device_lib\n",
    "\n",
    "\n",
    "# Visiualization imports, Netron and tensorboard:\n",
    "import netron\n",
    "from datetime import datetime\n",
    "from packaging import version\n",
    "from tensorflow import keras\n",
    "\n",
    "print(\"TensorFlow version: \", tf.__version__)\n",
    "assert version.parse(tf.__version__).release[0] >= 2, \\\n",
    "    \"This notebook requires TensorFlow 2.0 or above.\"\n",
    "\n",
    "import tensorboard\n",
    "tensorboard.__version__\n"
   ]
  },
  {
   "cell_type": "code",
   "execution_count": 2,
   "metadata": {},
   "outputs": [],
   "source": [
    "# Try to get reproducable results\n",
    "from numpy.random import seed\n",
    "seed(85)\n",
    "from tensorflow.random import set_seed\n",
    "set_seed(75)"
   ]
  },
  {
   "cell_type": "markdown",
   "metadata": {
    "colab_type": "text",
    "id": "Hg5wX2Dd8Jjz"
   },
   "source": [
    "#### Set hyperparameters"
   ]
  },
  {
   "cell_type": "code",
   "execution_count": 3,
   "metadata": {
    "colab": {},
    "colab_type": "code",
    "id": "lYLOM99-8Jj2"
   },
   "outputs": [],
   "source": [
    "# output directory name:\n",
    "output_dir = 'output/LSTM-Final/'\n",
    "input_dir =  'Z:/Research/dfuller/Walkabilly/studies/smarphone_accel/data/Ethica_Jaeger_Merged/backpack/'\n",
    "input_file_name = 'backpack-NN-data.npz'\n",
    "\n",
    "# from the data preparation section we have:\n",
    "window_size_second = 3\n",
    "frequency = 30\n",
    "lenght_of_each_seq = window_size_second * frequency\n",
    "\n",
    "n_lstm_4 = 256\n",
    "n_lstm_3 = 256\n",
    "n_lstm_2 = 256\n",
    "n_lstm_1 = 128\n",
    "n_dense_2 = 512\n",
    "n_dense_1 = 512\n",
    "dropout_2 = 0.2\n",
    "dropout_1 = 0.3\n",
    "drop_lstm_4 = 0.02\n",
    "drop_lstm_3 = 0.1\n",
    "drop_lstm_2 = 0.02\n",
    "drop_lstm_1 = 0.02\n",
    "activation_dense = LeakyReLU()\n",
    "activation_conv = 'elu'\n",
    "\n",
    "# training:\n",
    "epochs = 120\n",
    "batch_size = 256\n"
   ]
  },
  {
   "cell_type": "markdown",
   "metadata": {
    "colab_type": "text",
    "id": "DaLx4yZ48Jj9"
   },
   "source": [
    "#### Load data"
   ]
  },
  {
   "cell_type": "markdown",
   "metadata": {
    "colab_type": "text",
    "id": "CD9X0yJg8Jj_"
   },
   "source": [
    "For this notebook we use only the **acceleration** data prepared in the DataPrep-Deep notebook."
   ]
  },
  {
   "cell_type": "code",
   "execution_count": 4,
   "metadata": {},
   "outputs": [],
   "source": [
    "# import the data\n",
    "raw_data = np.load(file=input_dir+input_file_name,allow_pickle=True)\n",
    "accel_array = raw_data['acceleration_data']\n",
    "meta_array = raw_data['metadata']\n",
    "labels_array = raw_data['labels']\n"
   ]
  },
  {
   "cell_type": "markdown",
   "metadata": {
    "colab_type": "text",
    "id": "WWq3ipbu8JlG"
   },
   "source": [
    "#### Preprocess data"
   ]
  },
  {
   "cell_type": "markdown",
   "metadata": {},
   "source": [
    "#### Convert the  labels to integer.\n",
    "In the raw data format of the labels is String and there are 6 classes. 'Lying', 'Sitting', 'Self Pace walk', 'Running 3 METs',\n",
    "       'Running 5 METs', 'Running 7 METs' <br>\n",
    "\n",
    "\n"
   ]
  },
  {
   "cell_type": "code",
   "execution_count": 5,
   "metadata": {
    "colab": {},
    "colab_type": "code",
    "id": "LyReiequ8Jln"
   },
   "outputs": [
    {
     "name": "stdout",
     "output_type": "stream",
     "text": [
      "The are 6 classes: ['Lying' 'Running 3 METs' 'Running 5 METs' 'Running 7 METs'\n",
      " 'Self Pace walk' 'Sitting']\n"
     ]
    }
   ],
   "source": [
    "# change from string to integer so keras.to_categorical can consume it\n",
    "\n",
    "# could do with factorize method as well\n",
    "n_class = len(np.unique(labels_array))\n",
    "class_list, labels_array_int = np.unique(labels_array,return_inverse=True)\n",
    "print(f'The are {len(class_list)} classes: {class_list}')"
   ]
  },
  {
   "cell_type": "markdown",
   "metadata": {},
   "source": [
    "#### Convert to categorical values"
   ]
  },
  {
   "cell_type": "code",
   "execution_count": 6,
   "metadata": {},
   "outputs": [],
   "source": [
    "# labels to categorical\n",
    "\n",
    "y = to_categorical(labels_array_int, num_classes=n_class)\n",
    "input_shape = list(accel_array.shape)"
   ]
  },
  {
   "cell_type": "markdown",
   "metadata": {
    "colab_type": "text",
    "collapsed": true,
    "id": "GscSnCpk8Jlm"
   },
   "source": [
    "\n",
    "#### Design neural network architecture"
   ]
  },
  {
   "cell_type": "code",
   "execution_count": 7,
   "metadata": {},
   "outputs": [],
   "source": [
    "# The best lstm model!\n",
    "\n",
    "model = Sequential()\n",
    "# LSTM layers\n",
    "model.add(LSTM(n_lstm_1, dropout=drop_lstm_1, \n",
    "                         return_sequences=True, input_shape=input_shape[1:])) \n",
    "model.add(LSTM(n_lstm_2, dropout=drop_lstm_2, \n",
    "                         return_sequences=True))\n",
    "model.add(LSTM(n_lstm_3, dropout=drop_lstm_3, \n",
    "                         return_sequences=True)) \n",
    "model.add(LSTM(n_lstm_4, dropout=drop_lstm_4, \n",
    "                         return_sequences=True))\n",
    "\n",
    "# Dense layers\n",
    "model.add(Flatten())\n",
    "model.add(Dense(n_dense_1, activation=activation_dense))\n",
    "model.add(Dropout(dropout_1))\n",
    "model.add(Dense(n_dense_2, activation=activation_dense))\n",
    "model.add(Dropout(dropout_2))\n",
    "model.add(Dense(n_class, activation='softmax'))\n",
    "\n",
    "model.compile(loss='categorical_crossentropy', optimizer='adam', metrics=['accuracy'])"
   ]
  },
  {
   "cell_type": "code",
   "execution_count": 8,
   "metadata": {
    "colab": {},
    "colab_type": "code",
    "id": "3nx7eGkg8Jlr",
    "outputId": "76af5145-5c7d-45c1-f292-e9f68a0907a9"
   },
   "outputs": [
    {
     "name": "stdout",
     "output_type": "stream",
     "text": [
      "Model: \"sequential\"\n",
      "_________________________________________________________________\n",
      "Layer (type)                 Output Shape              Param #   \n",
      "=================================================================\n",
      "lstm (LSTM)                  (None, 90, 128)           67584     \n",
      "_________________________________________________________________\n",
      "lstm_1 (LSTM)                (None, 90, 256)           394240    \n",
      "_________________________________________________________________\n",
      "lstm_2 (LSTM)                (None, 90, 256)           525312    \n",
      "_________________________________________________________________\n",
      "lstm_3 (LSTM)                (None, 90, 256)           525312    \n",
      "_________________________________________________________________\n",
      "flatten (Flatten)            (None, 23040)             0         \n",
      "_________________________________________________________________\n",
      "dense (Dense)                (None, 512)               11796992  \n",
      "_________________________________________________________________\n",
      "dropout (Dropout)            (None, 512)               0         \n",
      "_________________________________________________________________\n",
      "dense_1 (Dense)              (None, 512)               262656    \n",
      "_________________________________________________________________\n",
      "dropout_1 (Dropout)          (None, 512)               0         \n",
      "_________________________________________________________________\n",
      "dense_2 (Dense)              (None, 6)                 3078      \n",
      "=================================================================\n",
      "Total params: 13,575,174\n",
      "Trainable params: 13,575,174\n",
      "Non-trainable params: 0\n",
      "_________________________________________________________________\n"
     ]
    }
   ],
   "source": [
    "model.summary()"
   ]
  },
  {
   "cell_type": "markdown",
   "metadata": {
    "colab": {},
    "colab_type": "code",
    "id": "40x3s0KY8Jlv",
    "outputId": "d3ac3e31-3c47-4b01-c2f9-ada0684b31b7"
   },
   "source": [
    "### Splitting and shuffeling the data"
   ]
  },
  {
   "cell_type": "code",
   "execution_count": 9,
   "metadata": {
    "colab": {},
    "colab_type": "code",
    "id": "f5grc2H78Jlz",
    "outputId": "3f7eeb55-f851-4796-de4e-0c68eb9df88d"
   },
   "outputs": [],
   "source": [
    "# split and shuffle\n",
    "x_train, x_valid, y_train, y_valid = train_test_split(\n",
    "     accel_array, y, test_size=0.1, random_state=65)"
   ]
  },
  {
   "cell_type": "markdown",
   "metadata": {
    "colab_type": "text",
    "id": "JkbhJMox8Jl9"
   },
   "source": [
    "#### Prepare to save each epoch\n",
    "The weights and a log for tensorboard are saved. Later we load back the best model"
   ]
  },
  {
   "cell_type": "code",
   "execution_count": 10,
   "metadata": {
    "colab": {},
    "colab_type": "code",
    "id": "zHjvYe288JmE"
   },
   "outputs": [],
   "source": [
    "modelcheckpoint = ModelCheckpoint(filepath=output_dir+\n",
    "                                  \"/weights.{epoch:02d}.hdf5\")\n",
    "\n",
    "# Define the Keras TensorBoard callback.\n",
    "logdir=  \"logs/fit/\" + datetime.now().strftime(\"%Y%m%d-%H%M%S\")\n",
    "tensorboard_callback = keras.callbacks.TensorBoard(log_dir=logdir)\n"
   ]
  },
  {
   "cell_type": "markdown",
   "metadata": {},
   "source": [
    "#### Create a folder to save each epoch of training"
   ]
  },
  {
   "cell_type": "code",
   "execution_count": 11,
   "metadata": {
    "colab": {},
    "colab_type": "code",
    "id": "esUwodZA8JmI"
   },
   "outputs": [],
   "source": [
    "if not os.path.exists(output_dir):\n",
    "    os.makedirs(output_dir)"
   ]
  },
  {
   "cell_type": "code",
   "execution_count": 12,
   "metadata": {},
   "outputs": [
    {
     "data": {
      "text/plain": [
       "((58290, 90, 3), (58290, 6), (6477, 90, 3), (6477, 6))"
      ]
     },
     "execution_count": 12,
     "metadata": {},
     "output_type": "execute_result"
    }
   ],
   "source": [
    "x_train.shape, y_train.shape, x_valid.shape, y_valid.shape"
   ]
  },
  {
   "cell_type": "markdown",
   "metadata": {
    "colab_type": "text",
    "id": "TEYpX7968JmL"
   },
   "source": [
    "#### Train!"
   ]
  },
  {
   "cell_type": "code",
   "execution_count": 13,
   "metadata": {
    "colab": {},
    "colab_type": "code",
    "id": "QaD1W7Ka8JmM",
    "outputId": "f0c30141-0962-48f6-a000-d136af50af79",
    "scrolled": true
   },
   "outputs": [
    {
     "name": "stdout",
     "output_type": "stream",
     "text": [
      "Epoch 1/120\n",
      "  1/228 [..............................] - ETA: 3s - loss: 1.7896 - accuracy: 0.2461WARNING:tensorflow:From C:\\Users\\dfuller\\AppData\\Local\\Continuum\\anaconda3\\envs\\tf-gpu\\lib\\site-packages\\tensorflow\\python\\ops\\summary_ops_v2.py:1277: stop (from tensorflow.python.eager.profiler) is deprecated and will be removed after 2020-07-01.\n",
      "Instructions for updating:\n",
      "use `tf.profiler.experimental.stop` instead.\n",
      "  2/228 [..............................] - ETA: 24s - loss: 1.7673 - accuracy: 0.2363WARNING:tensorflow:Callbacks method `on_train_batch_end` is slow compared to the batch time (batch time: 0.0659s vs `on_train_batch_end` time: 0.1390s). Check your callbacks.\n",
      "228/228 [==============================] - 36s 158ms/step - loss: 1.0900 - accuracy: 0.5876 - val_loss: 0.6474 - val_accuracy: 0.7757\n",
      "Epoch 2/120\n",
      "228/228 [==============================] - 35s 155ms/step - loss: 0.6021 - accuracy: 0.7949 - val_loss: 0.5263 - val_accuracy: 0.8262\n",
      "Epoch 3/120\n",
      "228/228 [==============================] - 36s 156ms/step - loss: 0.5008 - accuracy: 0.8353 - val_loss: 0.4636 - val_accuracy: 0.8535\n",
      "Epoch 4/120\n",
      "228/228 [==============================] - 36s 157ms/step - loss: 0.4511 - accuracy: 0.8546 - val_loss: 0.4500 - val_accuracy: 0.8558\n",
      "Epoch 5/120\n",
      "228/228 [==============================] - 36s 158ms/step - loss: 0.4175 - accuracy: 0.8668 - val_loss: 0.4247 - val_accuracy: 0.8680\n",
      "Epoch 6/120\n",
      "228/228 [==============================] - 36s 158ms/step - loss: 0.3914 - accuracy: 0.8755 - val_loss: 0.4041 - val_accuracy: 0.8777\n",
      "Epoch 7/120\n",
      "228/228 [==============================] - 36s 158ms/step - loss: 0.3767 - accuracy: 0.8804 - val_loss: 0.3981 - val_accuracy: 0.8830\n",
      "Epoch 8/120\n",
      "228/228 [==============================] - 36s 159ms/step - loss: 0.3637 - accuracy: 0.8838 - val_loss: 0.3819 - val_accuracy: 0.8839\n",
      "Epoch 9/120\n",
      "228/228 [==============================] - 36s 159ms/step - loss: 0.3411 - accuracy: 0.8919 - val_loss: 0.3629 - val_accuracy: 0.8848\n",
      "Epoch 10/120\n",
      "228/228 [==============================] - 36s 159ms/step - loss: 0.3286 - accuracy: 0.8976 - val_loss: 0.3656 - val_accuracy: 0.8814\n",
      "Epoch 11/120\n",
      "228/228 [==============================] - 36s 159ms/step - loss: 0.3218 - accuracy: 0.8985 - val_loss: 0.3664 - val_accuracy: 0.8871\n",
      "Epoch 12/120\n",
      "228/228 [==============================] - 36s 159ms/step - loss: 0.3154 - accuracy: 0.8997 - val_loss: 0.3392 - val_accuracy: 0.8907\n",
      "Epoch 13/120\n",
      "228/228 [==============================] - 36s 159ms/step - loss: 0.3067 - accuracy: 0.9034 - val_loss: 0.3395 - val_accuracy: 0.8936\n",
      "Epoch 14/120\n",
      "228/228 [==============================] - 36s 159ms/step - loss: 0.3002 - accuracy: 0.9048 - val_loss: 0.3310 - val_accuracy: 0.8973\n",
      "Epoch 15/120\n",
      "228/228 [==============================] - 37s 161ms/step - loss: 0.2931 - accuracy: 0.9062 - val_loss: 0.3464 - val_accuracy: 0.8966\n",
      "Epoch 16/120\n",
      "228/228 [==============================] - 37s 162ms/step - loss: 0.2874 - accuracy: 0.9097 - val_loss: 0.3349 - val_accuracy: 0.8945\n",
      "Epoch 17/120\n",
      "228/228 [==============================] - 36s 160ms/step - loss: 0.2789 - accuracy: 0.9112 - val_loss: 0.3193 - val_accuracy: 0.9049\n",
      "Epoch 18/120\n",
      "228/228 [==============================] - 37s 160ms/step - loss: 0.2718 - accuracy: 0.9141 - val_loss: 0.3182 - val_accuracy: 0.9024\n",
      "Epoch 19/120\n",
      "228/228 [==============================] - 36s 159ms/step - loss: 0.2621 - accuracy: 0.9161 - val_loss: 0.3362 - val_accuracy: 0.9023\n",
      "Epoch 20/120\n",
      "228/228 [==============================] - 36s 159ms/step - loss: 0.2580 - accuracy: 0.9177 - val_loss: 0.3205 - val_accuracy: 0.9046\n",
      "Epoch 21/120\n",
      "228/228 [==============================] - 36s 159ms/step - loss: 0.2532 - accuracy: 0.9180 - val_loss: 0.3110 - val_accuracy: 0.9030\n",
      "Epoch 22/120\n",
      "228/228 [==============================] - 36s 159ms/step - loss: 0.2394 - accuracy: 0.9234 - val_loss: 0.3356 - val_accuracy: 0.8983\n",
      "Epoch 23/120\n",
      "228/228 [==============================] - 36s 159ms/step - loss: 0.2349 - accuracy: 0.9239 - val_loss: 0.3315 - val_accuracy: 0.9027\n",
      "Epoch 24/120\n",
      "228/228 [==============================] - 36s 159ms/step - loss: 0.2320 - accuracy: 0.9257 - val_loss: 0.3342 - val_accuracy: 0.8998\n",
      "Epoch 25/120\n",
      "228/228 [==============================] - 36s 159ms/step - loss: 0.2239 - accuracy: 0.9276 - val_loss: 0.3414 - val_accuracy: 0.9041\n",
      "Epoch 26/120\n",
      "228/228 [==============================] - 36s 159ms/step - loss: 0.2191 - accuracy: 0.9287 - val_loss: 0.3318 - val_accuracy: 0.9066\n",
      "Epoch 27/120\n",
      "228/228 [==============================] - 36s 159ms/step - loss: 0.2123 - accuracy: 0.9302 - val_loss: 0.3067 - val_accuracy: 0.9109\n",
      "Epoch 28/120\n",
      "228/228 [==============================] - 36s 159ms/step - loss: 0.2038 - accuracy: 0.9327 - val_loss: 0.3166 - val_accuracy: 0.9038\n",
      "Epoch 29/120\n",
      "228/228 [==============================] - 36s 159ms/step - loss: 0.1973 - accuracy: 0.9349 - val_loss: 0.3623 - val_accuracy: 0.8990\n",
      "Epoch 30/120\n",
      "228/228 [==============================] - 36s 159ms/step - loss: 0.1918 - accuracy: 0.9354 - val_loss: 0.3254 - val_accuracy: 0.9098\n",
      "Epoch 31/120\n",
      "228/228 [==============================] - 36s 159ms/step - loss: 0.1861 - accuracy: 0.9376 - val_loss: 0.3336 - val_accuracy: 0.9095\n",
      "Epoch 32/120\n",
      "228/228 [==============================] - 36s 159ms/step - loss: 0.1826 - accuracy: 0.9381 - val_loss: 0.3396 - val_accuracy: 0.9063\n",
      "Epoch 33/120\n",
      "228/228 [==============================] - 36s 159ms/step - loss: 0.1737 - accuracy: 0.9408 - val_loss: 0.3235 - val_accuracy: 0.9075\n",
      "Epoch 34/120\n",
      "228/228 [==============================] - 36s 159ms/step - loss: 0.1724 - accuracy: 0.9417 - val_loss: 0.3946 - val_accuracy: 0.8938\n",
      "Epoch 35/120\n",
      "228/228 [==============================] - 36s 159ms/step - loss: 0.1683 - accuracy: 0.9433 - val_loss: 0.3382 - val_accuracy: 0.9135\n",
      "Epoch 36/120\n",
      "228/228 [==============================] - 36s 159ms/step - loss: 0.1594 - accuracy: 0.9459 - val_loss: 0.3594 - val_accuracy: 0.9080\n",
      "Epoch 37/120\n",
      "228/228 [==============================] - 36s 159ms/step - loss: 0.1578 - accuracy: 0.9468 - val_loss: 0.3390 - val_accuracy: 0.9013\n",
      "Epoch 38/120\n",
      "228/228 [==============================] - 36s 159ms/step - loss: 0.1506 - accuracy: 0.9485 - val_loss: 0.3643 - val_accuracy: 0.9074\n",
      "Epoch 39/120\n",
      "228/228 [==============================] - 36s 159ms/step - loss: 0.1484 - accuracy: 0.9504 - val_loss: 0.3782 - val_accuracy: 0.9055\n",
      "Epoch 40/120\n",
      "228/228 [==============================] - 36s 159ms/step - loss: 0.1465 - accuracy: 0.9499 - val_loss: 0.3796 - val_accuracy: 0.9080\n",
      "Epoch 41/120\n",
      "228/228 [==============================] - 36s 159ms/step - loss: 0.1389 - accuracy: 0.9532 - val_loss: 0.3816 - val_accuracy: 0.9111\n",
      "Epoch 42/120\n",
      "228/228 [==============================] - 36s 159ms/step - loss: 0.1371 - accuracy: 0.9539 - val_loss: 0.3814 - val_accuracy: 0.9083\n",
      "Epoch 43/120\n",
      "228/228 [==============================] - 36s 159ms/step - loss: 0.1359 - accuracy: 0.9546 - val_loss: 0.3640 - val_accuracy: 0.9089\n",
      "Epoch 44/120\n",
      "228/228 [==============================] - 36s 159ms/step - loss: 0.1331 - accuracy: 0.9551 - val_loss: 0.3529 - val_accuracy: 0.9135\n",
      "Epoch 45/120\n",
      "228/228 [==============================] - 36s 159ms/step - loss: 0.1230 - accuracy: 0.9587 - val_loss: 0.3725 - val_accuracy: 0.9151\n",
      "Epoch 46/120\n",
      "228/228 [==============================] - 36s 159ms/step - loss: 0.1207 - accuracy: 0.9598 - val_loss: 0.3945 - val_accuracy: 0.9081\n",
      "Epoch 47/120\n",
      "228/228 [==============================] - 36s 159ms/step - loss: 0.1232 - accuracy: 0.9583 - val_loss: 0.4132 - val_accuracy: 0.9135\n",
      "Epoch 48/120\n",
      "228/228 [==============================] - 36s 159ms/step - loss: 0.1198 - accuracy: 0.9595 - val_loss: 0.4001 - val_accuracy: 0.9077\n",
      "Epoch 49/120\n",
      "228/228 [==============================] - 36s 160ms/step - loss: 0.1159 - accuracy: 0.9614 - val_loss: 0.4163 - val_accuracy: 0.9044\n",
      "Epoch 50/120\n",
      "228/228 [==============================] - 36s 159ms/step - loss: 0.1122 - accuracy: 0.9627 - val_loss: 0.4110 - val_accuracy: 0.9123\n",
      "Epoch 51/120\n",
      "228/228 [==============================] - 36s 159ms/step - loss: 0.1117 - accuracy: 0.9625 - val_loss: 0.4058 - val_accuracy: 0.9171\n",
      "Epoch 52/120\n"
     ]
    },
    {
     "name": "stdout",
     "output_type": "stream",
     "text": [
      "228/228 [==============================] - 36s 159ms/step - loss: 0.1071 - accuracy: 0.9642 - val_loss: 0.4401 - val_accuracy: 0.9182\n",
      "Epoch 53/120\n",
      "228/228 [==============================] - 36s 159ms/step - loss: 0.1049 - accuracy: 0.9648 - val_loss: 0.4122 - val_accuracy: 0.9177\n",
      "Epoch 54/120\n",
      "228/228 [==============================] - 36s 159ms/step - loss: 0.1029 - accuracy: 0.9653 - val_loss: 0.3765 - val_accuracy: 0.9176\n",
      "Epoch 55/120\n",
      "228/228 [==============================] - 36s 158ms/step - loss: 0.0994 - accuracy: 0.9667 - val_loss: 0.4115 - val_accuracy: 0.9142\n",
      "Epoch 56/120\n",
      "228/228 [==============================] - 36s 158ms/step - loss: 0.1022 - accuracy: 0.9657 - val_loss: 0.4347 - val_accuracy: 0.9137\n",
      "Epoch 57/120\n",
      "228/228 [==============================] - 36s 158ms/step - loss: 0.0958 - accuracy: 0.9675 - val_loss: 0.4606 - val_accuracy: 0.9108\n",
      "Epoch 58/120\n",
      "228/228 [==============================] - 36s 158ms/step - loss: 0.0958 - accuracy: 0.9682 - val_loss: 0.4545 - val_accuracy: 0.9166\n",
      "Epoch 59/120\n",
      "228/228 [==============================] - 36s 158ms/step - loss: 0.0909 - accuracy: 0.9693 - val_loss: 0.4330 - val_accuracy: 0.9149\n",
      "Epoch 60/120\n",
      "228/228 [==============================] - 36s 159ms/step - loss: 0.0916 - accuracy: 0.9691 - val_loss: 0.4282 - val_accuracy: 0.9200\n",
      "Epoch 61/120\n",
      "228/228 [==============================] - 36s 159ms/step - loss: 0.0890 - accuracy: 0.9695 - val_loss: 0.4074 - val_accuracy: 0.9149\n",
      "Epoch 62/120\n",
      "228/228 [==============================] - 36s 158ms/step - loss: 0.0936 - accuracy: 0.9685 - val_loss: 0.4389 - val_accuracy: 0.9154\n",
      "Epoch 63/120\n",
      "228/228 [==============================] - 36s 159ms/step - loss: 0.0891 - accuracy: 0.9706 - val_loss: 0.4077 - val_accuracy: 0.9154\n",
      "Epoch 64/120\n",
      "228/228 [==============================] - 36s 158ms/step - loss: 0.0832 - accuracy: 0.9715 - val_loss: 0.4515 - val_accuracy: 0.9151\n",
      "Epoch 65/120\n",
      "228/228 [==============================] - 36s 158ms/step - loss: 0.0872 - accuracy: 0.9704 - val_loss: 0.4364 - val_accuracy: 0.9177\n",
      "Epoch 66/120\n",
      "228/228 [==============================] - 36s 158ms/step - loss: 0.0870 - accuracy: 0.9710 - val_loss: 0.4394 - val_accuracy: 0.9165\n",
      "Epoch 67/120\n",
      "228/228 [==============================] - 36s 159ms/step - loss: 0.0816 - accuracy: 0.9722 - val_loss: 0.4808 - val_accuracy: 0.9094\n",
      "Epoch 68/120\n",
      "228/228 [==============================] - 36s 159ms/step - loss: 0.0834 - accuracy: 0.9717 - val_loss: 0.4259 - val_accuracy: 0.9172\n",
      "Epoch 69/120\n",
      "228/228 [==============================] - 36s 158ms/step - loss: 0.0806 - accuracy: 0.9732 - val_loss: 0.4503 - val_accuracy: 0.9208\n",
      "Epoch 70/120\n",
      "228/228 [==============================] - 36s 158ms/step - loss: 0.0803 - accuracy: 0.9727 - val_loss: 0.4837 - val_accuracy: 0.9137\n",
      "Epoch 71/120\n",
      "228/228 [==============================] - 36s 158ms/step - loss: 0.0783 - accuracy: 0.9734 - val_loss: 0.4838 - val_accuracy: 0.9210\n",
      "Epoch 72/120\n",
      "228/228 [==============================] - 36s 159ms/step - loss: 0.0809 - accuracy: 0.9727 - val_loss: 0.4152 - val_accuracy: 0.9220\n",
      "Epoch 73/120\n",
      "228/228 [==============================] - 36s 159ms/step - loss: 0.0782 - accuracy: 0.9730 - val_loss: 0.4805 - val_accuracy: 0.9211\n",
      "Epoch 74/120\n",
      "228/228 [==============================] - 36s 159ms/step - loss: 0.0772 - accuracy: 0.9733 - val_loss: 0.5158 - val_accuracy: 0.9125\n",
      "Epoch 75/120\n",
      "228/228 [==============================] - 36s 158ms/step - loss: 0.0772 - accuracy: 0.9740 - val_loss: 0.4603 - val_accuracy: 0.9159\n",
      "Epoch 76/120\n",
      "228/228 [==============================] - 36s 159ms/step - loss: 0.0711 - accuracy: 0.9758 - val_loss: 0.5118 - val_accuracy: 0.9135\n",
      "Epoch 77/120\n",
      "228/228 [==============================] - 36s 159ms/step - loss: 0.0787 - accuracy: 0.9732 - val_loss: 0.4773 - val_accuracy: 0.9160\n",
      "Epoch 78/120\n",
      "228/228 [==============================] - 36s 159ms/step - loss: 0.0714 - accuracy: 0.9749 - val_loss: 0.4821 - val_accuracy: 0.9228\n",
      "Epoch 79/120\n",
      "228/228 [==============================] - 36s 159ms/step - loss: 0.0712 - accuracy: 0.9756 - val_loss: 0.4571 - val_accuracy: 0.9155\n",
      "Epoch 80/120\n",
      "228/228 [==============================] - 36s 159ms/step - loss: 0.0723 - accuracy: 0.9749 - val_loss: 0.4767 - val_accuracy: 0.9157\n",
      "Epoch 81/120\n",
      "228/228 [==============================] - 36s 159ms/step - loss: 0.0687 - accuracy: 0.9762 - val_loss: 0.5105 - val_accuracy: 0.9168\n",
      "Epoch 82/120\n",
      "228/228 [==============================] - 36s 159ms/step - loss: 0.0693 - accuracy: 0.9758 - val_loss: 0.4848 - val_accuracy: 0.9240\n",
      "Epoch 83/120\n",
      "228/228 [==============================] - 36s 158ms/step - loss: 0.0670 - accuracy: 0.9774 - val_loss: 0.5450 - val_accuracy: 0.9208\n",
      "Epoch 84/120\n",
      "228/228 [==============================] - 36s 159ms/step - loss: 0.0718 - accuracy: 0.9758 - val_loss: 0.5234 - val_accuracy: 0.9103\n",
      "Epoch 85/120\n",
      "228/228 [==============================] - 36s 159ms/step - loss: 0.0720 - accuracy: 0.9754 - val_loss: 0.4731 - val_accuracy: 0.9172\n",
      "Epoch 86/120\n",
      "228/228 [==============================] - 36s 159ms/step - loss: 0.0670 - accuracy: 0.9768 - val_loss: 0.5018 - val_accuracy: 0.9208\n",
      "Epoch 87/120\n",
      "228/228 [==============================] - 36s 159ms/step - loss: 0.0686 - accuracy: 0.9766 - val_loss: 0.4991 - val_accuracy: 0.9188\n",
      "Epoch 88/120\n",
      "228/228 [==============================] - 36s 158ms/step - loss: 0.0644 - accuracy: 0.9782 - val_loss: 0.5172 - val_accuracy: 0.9205\n",
      "Epoch 89/120\n",
      "228/228 [==============================] - 36s 159ms/step - loss: 0.0606 - accuracy: 0.9793 - val_loss: 0.5103 - val_accuracy: 0.9200\n",
      "Epoch 90/120\n",
      "228/228 [==============================] - 36s 158ms/step - loss: 0.0648 - accuracy: 0.9777 - val_loss: 0.5396 - val_accuracy: 0.9213\n",
      "Epoch 91/120\n",
      "228/228 [==============================] - 36s 159ms/step - loss: 0.0661 - accuracy: 0.9773 - val_loss: 0.5287 - val_accuracy: 0.9148\n",
      "Epoch 92/120\n",
      "228/228 [==============================] - 36s 159ms/step - loss: 0.0644 - accuracy: 0.9776 - val_loss: 0.5528 - val_accuracy: 0.9010\n",
      "Epoch 93/120\n",
      "228/228 [==============================] - 36s 158ms/step - loss: 0.0631 - accuracy: 0.9781 - val_loss: 0.4444 - val_accuracy: 0.9216\n",
      "Epoch 94/120\n",
      "228/228 [==============================] - 36s 158ms/step - loss: 0.0622 - accuracy: 0.9780 - val_loss: 0.4953 - val_accuracy: 0.9197\n",
      "Epoch 95/120\n",
      "228/228 [==============================] - 36s 159ms/step - loss: 0.0602 - accuracy: 0.9796 - val_loss: 0.5388 - val_accuracy: 0.9151\n",
      "Epoch 96/120\n",
      "228/228 [==============================] - 36s 159ms/step - loss: 0.0602 - accuracy: 0.9793 - val_loss: 0.4845 - val_accuracy: 0.9157\n",
      "Epoch 97/120\n",
      "228/228 [==============================] - 36s 158ms/step - loss: 0.0628 - accuracy: 0.9788 - val_loss: 0.4855 - val_accuracy: 0.9228\n",
      "Epoch 98/120\n",
      "228/228 [==============================] - 36s 159ms/step - loss: 0.0597 - accuracy: 0.9797 - val_loss: 0.4800 - val_accuracy: 0.9185\n",
      "Epoch 99/120\n",
      "228/228 [==============================] - 36s 159ms/step - loss: 0.0623 - accuracy: 0.9788 - val_loss: 0.5186 - val_accuracy: 0.9191\n",
      "Epoch 100/120\n",
      "228/228 [==============================] - 36s 159ms/step - loss: 0.0598 - accuracy: 0.9795 - val_loss: 0.5284 - val_accuracy: 0.9196\n",
      "Epoch 101/120\n",
      "228/228 [==============================] - 36s 159ms/step - loss: 0.0596 - accuracy: 0.9793 - val_loss: 0.5309 - val_accuracy: 0.9217\n",
      "Epoch 102/120\n",
      "228/228 [==============================] - 36s 158ms/step - loss: 0.0579 - accuracy: 0.9801 - val_loss: 0.5003 - val_accuracy: 0.9222\n",
      "Epoch 103/120\n",
      "228/228 [==============================] - 36s 159ms/step - loss: 0.0563 - accuracy: 0.9809 - val_loss: 0.5138 - val_accuracy: 0.9189\n",
      "Epoch 104/120\n",
      "228/228 [==============================] - 36s 159ms/step - loss: 0.0559 - accuracy: 0.9802 - val_loss: 0.5519 - val_accuracy: 0.9149\n",
      "Epoch 105/120\n",
      "228/228 [==============================] - 36s 159ms/step - loss: 0.0578 - accuracy: 0.9806 - val_loss: 0.5590 - val_accuracy: 0.9237\n",
      "Epoch 106/120\n",
      "228/228 [==============================] - 36s 159ms/step - loss: 0.0560 - accuracy: 0.9806 - val_loss: 0.5280 - val_accuracy: 0.9226\n",
      "Epoch 107/120\n",
      "228/228 [==============================] - 36s 159ms/step - loss: 0.0552 - accuracy: 0.9804 - val_loss: 0.5182 - val_accuracy: 0.9219\n"
     ]
    },
    {
     "name": "stdout",
     "output_type": "stream",
     "text": [
      "Epoch 108/120\n",
      "228/228 [==============================] - 36s 158ms/step - loss: 0.0592 - accuracy: 0.9799 - val_loss: 0.5300 - val_accuracy: 0.9219\n",
      "Epoch 109/120\n",
      "228/228 [==============================] - 36s 158ms/step - loss: 0.0592 - accuracy: 0.9801 - val_loss: 0.4990 - val_accuracy: 0.9182\n",
      "Epoch 110/120\n",
      "228/228 [==============================] - 36s 159ms/step - loss: 0.0566 - accuracy: 0.9812 - val_loss: 0.5051 - val_accuracy: 0.9210\n",
      "Epoch 111/120\n",
      "228/228 [==============================] - 36s 159ms/step - loss: 0.0534 - accuracy: 0.9822 - val_loss: 0.5479 - val_accuracy: 0.9256\n",
      "Epoch 112/120\n",
      "228/228 [==============================] - 36s 158ms/step - loss: 0.0552 - accuracy: 0.9802 - val_loss: 0.5432 - val_accuracy: 0.9219\n",
      "Epoch 113/120\n",
      "228/228 [==============================] - 36s 158ms/step - loss: 0.0549 - accuracy: 0.9808 - val_loss: 0.5413 - val_accuracy: 0.9222\n",
      "Epoch 114/120\n",
      "228/228 [==============================] - 36s 158ms/step - loss: 0.0498 - accuracy: 0.9824 - val_loss: 0.5349 - val_accuracy: 0.9245\n",
      "Epoch 115/120\n",
      "228/228 [==============================] - 36s 158ms/step - loss: 0.0524 - accuracy: 0.9820 - val_loss: 0.5794 - val_accuracy: 0.9254\n",
      "Epoch 116/120\n",
      "228/228 [==============================] - 36s 159ms/step - loss: 0.0533 - accuracy: 0.9816 - val_loss: 0.5645 - val_accuracy: 0.9230\n",
      "Epoch 117/120\n",
      "228/228 [==============================] - 36s 158ms/step - loss: 0.0528 - accuracy: 0.9817 - val_loss: 0.5162 - val_accuracy: 0.9171\n",
      "Epoch 118/120\n",
      "228/228 [==============================] - 36s 158ms/step - loss: 0.0503 - accuracy: 0.9824 - val_loss: 0.5934 - val_accuracy: 0.9216\n",
      "Epoch 119/120\n",
      "228/228 [==============================] - 36s 158ms/step - loss: 0.0550 - accuracy: 0.9810 - val_loss: 0.5736 - val_accuracy: 0.9216\n",
      "Epoch 120/120\n",
      "228/228 [==============================] - 36s 159ms/step - loss: 0.0535 - accuracy: 0.9818 - val_loss: 0.5216 - val_accuracy: 0.9166\n"
     ]
    },
    {
     "data": {
      "text/plain": [
       "<tensorflow.python.keras.callbacks.History at 0x28610ec5648>"
      ]
     },
     "execution_count": 13,
     "metadata": {},
     "output_type": "execute_result"
    }
   ],
   "source": [
    "model.fit(x_train, y_train, \n",
    "         batch_size=batch_size, epochs=epochs, verbose=1, \n",
    "         validation_data=(x_valid, y_valid), \n",
    "         callbacks=[modelcheckpoint, tensorboard_callback])"
   ]
  },
  {
   "cell_type": "markdown",
   "metadata": {},
   "source": [
    "#### Load the best epoch's weight"
   ]
  },
  {
   "cell_type": "code",
   "execution_count": 38,
   "metadata": {
    "colab": {},
    "colab_type": "code",
    "id": "z8t0nVCw8JmP"
   },
   "outputs": [],
   "source": [
    "model.load_weights(output_dir+\"/weights.111.hdf5\") #92.56"
   ]
  },
  {
   "cell_type": "markdown",
   "metadata": {
    "colab_type": "text",
    "id": "7PWlH5SJ8JmP"
   },
   "source": [
    "## Evaluate\n",
    "\n",
    "Make predictions and check the results"
   ]
  },
  {
   "cell_type": "code",
   "execution_count": 39,
   "metadata": {
    "colab": {},
    "colab_type": "code",
    "id": "kZwGk5dR8JmS"
   },
   "outputs": [],
   "source": [
    "y_hat = model.predict(x_valid)"
   ]
  },
  {
   "cell_type": "code",
   "execution_count": 40,
   "metadata": {
    "colab": {},
    "colab_type": "code",
    "id": "FTWf6Cf-8Jme",
    "outputId": "1256b170-33dc-4171-f2ff-7a3d7ddd74e3"
   },
   "outputs": [
    {
     "data": {
      "image/png": "[encoded data removed]",
      "text/plain": [
       "<Figure size 432x288 with 1 Axes>"
      ]
     },
     "metadata": {
      "needs_background": "light"
     },
     "output_type": "display_data"
    }
   ],
   "source": [
    "plt.hist(y_hat)\n",
    "_ = plt.axvline(x=0.5, color='orange')"
   ]
  },
  {
   "cell_type": "markdown",
   "metadata": {},
   "source": [
    "#### Histogram of probabilities for each class\n",
    "If most probabilities are around either zero or one, it means the model was confidant in classification"
   ]
  },
  {
   "cell_type": "code",
   "execution_count": 41,
   "metadata": {},
   "outputs": [
    {
     "data": {
      "image/png": "[encoded data removed]",
      "text/plain": [
       "<Figure size 1080x720 with 6 Axes>"
      ]
     },
     "metadata": {
      "needs_background": "light"
     },
     "output_type": "display_data"
    }
   ],
   "source": [
    "df = pd.DataFrame(y_hat, columns=class_list)\n",
    "_ = df.hist(figsize=(15,10), color='brown')"
   ]
  },
  {
   "cell_type": "code",
   "execution_count": 42,
   "metadata": {
    "colab": {},
    "colab_type": "code",
    "id": "RNljSx3v8Jmh"
   },
   "outputs": [],
   "source": [
    "# Calculate ROC and Accuracy\n",
    "pct_auc = roc_auc_score(y_valid, y_hat)*100.0\n",
    "y_pred_classes = y_hat.round()\n",
    "acc = score(y_valid, y_pred_classes) * 100"
   ]
  },
  {
   "cell_type": "code",
   "execution_count": 43,
   "metadata": {
    "colab": {},
    "colab_type": "code",
    "id": "SO_N9lJG8Jmj",
    "outputId": "20968a52-8ca0-44d3-abf6-a1382bba5cde"
   },
   "outputs": [
    {
     "name": "stdout",
     "output_type": "stream",
     "text": [
      "The model accuracy is: 92.19\n",
      "The area under ROC curve is: 98.65\n"
     ]
    }
   ],
   "source": [
    "print(\"The model accuracy is: {:0.2f}\".format(acc))\n",
    "print(\"The area under ROC curve is: {:0.2f}\".format(pct_auc))"
   ]
  },
  {
   "cell_type": "code",
   "execution_count": 44,
   "metadata": {
    "colab": {},
    "colab_type": "code",
    "id": "vU3hnA298Jmo"
   },
   "outputs": [],
   "source": [
    "# Convert the predicted outcomes to categorical variable to compare with validation data, just for checking\n",
    "\n",
    "float_y_hat = []\n",
    "for y in y_hat:\n",
    "    float_y_hat.append(y[0:7].round(3))"
   ]
  },
  {
   "cell_type": "code",
   "execution_count": 45,
   "metadata": {
    "colab": {},
    "colab_type": "code",
    "id": "zrTf-aQl8Jmr"
   },
   "outputs": [],
   "source": [
    "ydf = pd.DataFrame(list(zip(float_y_hat, y_valid)), columns=['y_hat', 'y'])"
   ]
  },
  {
   "cell_type": "code",
   "execution_count": 46,
   "metadata": {
    "colab": {},
    "colab_type": "code",
    "id": "zAyKh_mX8Jmu",
    "outputId": "611224b8-f980-47df-d596-9aa3a5811009"
   },
   "outputs": [
    {
     "data": {
      "text/html": [
       "<div>\n",
       "<style scoped>\n",
       "    .dataframe tbody tr th:only-of-type {\n",
       "        vertical-align: middle;\n",
       "    }\n",
       "\n",
       "    .dataframe tbody tr th {\n",
       "        vertical-align: top;\n",
       "    }\n",
       "\n",
       "    .dataframe thead th {\n",
       "        text-align: right;\n",
       "    }\n",
       "</style>\n",
       "<table border=\"1\" class=\"dataframe\">\n",
       "  <thead>\n",
       "    <tr style=\"text-align: right;\">\n",
       "      <th></th>\n",
       "      <th>y_hat</th>\n",
       "      <th>y</th>\n",
       "    </tr>\n",
       "  </thead>\n",
       "  <tbody>\n",
       "    <tr>\n",
       "      <th>0</th>\n",
       "      <td>[0.0, 0.0, 1.0, 0.0, 0.0, 0.0]</td>\n",
       "      <td>[0.0, 0.0, 1.0, 0.0, 0.0, 0.0]</td>\n",
       "    </tr>\n",
       "    <tr>\n",
       "      <th>1</th>\n",
       "      <td>[0.0, 0.0, 0.998, 0.0, 0.0, 0.002]</td>\n",
       "      <td>[0.0, 0.0, 1.0, 0.0, 0.0, 0.0]</td>\n",
       "    </tr>\n",
       "    <tr>\n",
       "      <th>2</th>\n",
       "      <td>[0.0, 0.0, 1.0, 0.0, 0.0, 0.0]</td>\n",
       "      <td>[0.0, 0.0, 1.0, 0.0, 0.0, 0.0]</td>\n",
       "    </tr>\n",
       "    <tr>\n",
       "      <th>3</th>\n",
       "      <td>[0.0, 0.0, 0.769, 0.231, 0.0, 0.0]</td>\n",
       "      <td>[0.0, 0.0, 0.0, 1.0, 0.0, 0.0]</td>\n",
       "    </tr>\n",
       "    <tr>\n",
       "      <th>4</th>\n",
       "      <td>[0.992, 0.0, 0.0, 0.0, 0.007, 0.001]</td>\n",
       "      <td>[1.0, 0.0, 0.0, 0.0, 0.0, 0.0]</td>\n",
       "    </tr>\n",
       "  </tbody>\n",
       "</table>\n",
       "</div>"
      ],
      "text/plain": [
       "                                  y_hat                               y\n",
       "0        [0.0, 0.0, 1.0, 0.0, 0.0, 0.0]  [0.0, 0.0, 1.0, 0.0, 0.0, 0.0]\n",
       "1    [0.0, 0.0, 0.998, 0.0, 0.0, 0.002]  [0.0, 0.0, 1.0, 0.0, 0.0, 0.0]\n",
       "2        [0.0, 0.0, 1.0, 0.0, 0.0, 0.0]  [0.0, 0.0, 1.0, 0.0, 0.0, 0.0]\n",
       "3    [0.0, 0.0, 0.769, 0.231, 0.0, 0.0]  [0.0, 0.0, 0.0, 1.0, 0.0, 0.0]\n",
       "4  [0.992, 0.0, 0.0, 0.0, 0.007, 0.001]  [1.0, 0.0, 0.0, 0.0, 0.0, 0.0]"
      ]
     },
     "execution_count": 46,
     "metadata": {},
     "output_type": "execute_result"
    }
   ],
   "source": [
    "ydf.head()"
   ]
  },
  {
   "cell_type": "code",
   "execution_count": 47,
   "metadata": {},
   "outputs": [],
   "source": [
    "# convert probability to class\n",
    "y_pred_class = np.argmax(y_hat, axis=1)\n",
    "y_class = np.argmax(y_valid, axis = 1)"
   ]
  },
  {
   "cell_type": "markdown",
   "metadata": {},
   "source": [
    "### plot confusion matrix\n",
    "First use seaborn, then a custom stript."
   ]
  },
  {
   "cell_type": "code",
   "execution_count": 48,
   "metadata": {},
   "outputs": [],
   "source": [
    "# Create confucion matrix:\n",
    "cf_matrix = confusion_matrix(y_class, y_pred_class, labels=range(len(class_list)))\n",
    "\n",
    "\n",
    "# the classes are not in order, for example 'sitting' is not following 'lying'. Sort them:\n",
    "\n",
    "confusion_matrix_df = pd.DataFrame(cf_matrix, index=class_list, columns=class_list)\n",
    "confusion_matrix_df = confusion_matrix_df[['Lying','Sitting', 'Self Pace walk',\\\n",
    "                                           'Running 3 METs','Running 5 METs', 'Running 7 METs']]\n",
    "confusion_matrix_df = confusion_matrix_df.reindex(['Lying', 'Sitting', 'Self Pace walk',\\\n",
    "                                                   'Running 3 METs','Running 5 METs', 'Running 7 METs'])"
   ]
  },
  {
   "cell_type": "code",
   "execution_count": 49,
   "metadata": {},
   "outputs": [
    {
     "data": {
      "text/plain": [
       "<AxesSubplot:>"
      ]
     },
     "execution_count": 49,
     "metadata": {},
     "output_type": "execute_result"
    },
    {
     "data": {
      "image/png": "[encoded data removed]",
      "text/plain": [
       "<Figure size 432x288 with 2 Axes>"
      ]
     },
     "metadata": {
      "needs_background": "light"
     },
     "output_type": "display_data"
    }
   ],
   "source": [
    "sns.heatmap(cf_matrix, annot=True, fmt = '1', xticklabels=class_list, yticklabels=class_list, cmap='ocean')\n",
    "# cf_matrix"
   ]
  },
  {
   "cell_type": "code",
   "execution_count": 50,
   "metadata": {},
   "outputs": [
    {
     "data": {
      "image/png": "[encoded data removed]",
      "text/plain": [
       "<Figure size 936x720 with 2 Axes>"
      ]
     },
     "metadata": {
      "needs_background": "light"
     },
     "output_type": "display_data"
    }
   ],
   "source": [
    "plt.figure(figsize = (13,10))\n",
    "\n",
    "_ = sns.heatmap(confusion_matrix_df, annot=True, fmt = '1', cmap='rocket_r') # try cmap='rocket', 'PuBuGn', 'magma'\n"
   ]
  },
  {
   "cell_type": "code",
   "execution_count": 51,
   "metadata": {},
   "outputs": [
    {
     "data": {
      "image/png": "[encoded data removed]",
      "text/plain": [
       "<Figure size 864x864 with 2 Axes>"
      ]
     },
     "metadata": {
      "needs_background": "light"
     },
     "output_type": "display_data"
    }
   ],
   "source": [
    "import prettyconfusion as pf\n",
    "pf.pretty_plot_confusion_matrix(confusion_matrix_df,cmap='PuBuGn', cbar='oranges'\n",
    "                                ,fz = 13, lw=1, figsize=[12,12])"
   ]
  },
  {
   "cell_type": "markdown",
   "metadata": {},
   "source": [
    "## Visualize performance metrics and the model's structure"
   ]
  },
  {
   "cell_type": "code",
   "execution_count": 28,
   "metadata": {},
   "outputs": [],
   "source": [
    "# Load the TensorBoard notebook extension.\n",
    "%load_ext tensorboard"
   ]
  },
  {
   "cell_type": "code",
   "execution_count": 29,
   "metadata": {},
   "outputs": [],
   "source": [
    "# Clear any logs from previous runs if you don't want to see it in tensorflow"
   ]
  },
  {
   "cell_type": "code",
   "execution_count": 30,
   "metadata": {},
   "outputs": [
    {
     "data": {
      "text/plain": [
       "Reusing TensorBoard on port 6006 (pid 12896), started 16:36:04 ago. (Use '!kill 12896' to kill it.)"
      ]
     },
     "metadata": {},
     "output_type": "display_data"
    },
    {
     "data": {
      "text/html": [
       "\n",
       "      <iframe id=\"tensorboard-frame-9a173b6028267d92\" width=\"100%\" height=\"800\" frameborder=\"0\">\n",
       "      </iframe>\n",
       "      <script>\n",
       "        (function() {\n",
       "          const frame = document.getElementById(\"tensorboard-frame-9a173b6028267d92\");\n",
       "          const url = new URL(\"/\", window.location);\n",
       "          const port = 6006;\n",
       "          if (port) {\n",
       "            url.port = port;\n",
       "          }\n",
       "          frame.src = url;\n",
       "        })();\n",
       "      </script>\n",
       "    "
      ],
      "text/plain": [
       "<IPython.core.display.HTML object>"
      ]
     },
     "metadata": {},
     "output_type": "display_data"
    }
   ],
   "source": [
    "%tensorboard --logdir logs"
   ]
  },
  {
   "cell_type": "code",
   "execution_count": 31,
   "metadata": {},
   "outputs": [
    {
     "name": "stdout",
     "output_type": "stream",
     "text": [
      "Serving 'output/LSTM-Final//weights.117.hdf5' at http://localhost:8080\n"
     ]
    }
   ],
   "source": [
    "# All stored weights have the same structure. Load one of them to netron and save the image \n",
    "netron.start(file=output_dir+\"/weights.111.hdf5\")"
   ]
  },
  {
   "cell_type": "code",
   "execution_count": null,
   "metadata": {},
   "outputs": [],
   "source": []
  }
 ],
 "metadata": {
  "colab": {
   "include_colab_link": true,
   "name": "dense_sentiment_classifier.ipynb",
   "provenance": []
  },
  "kernelspec": {
   "display_name": "Python 3",
   "language": "python",
   "name": "python3"
  },
  "language_info": {
   "codemirror_mode": {
    "name": "ipython",
    "version": 3
   },
   "file_extension": ".py",
   "mimetype": "text/x-python",
   "name": "python",
   "nbconvert_exporter": "python",
   "pygments_lexer": "ipython3",
   "version": "3.7.9"
  }
 },
 "nbformat": 4,
 "nbformat_minor": 1
}
