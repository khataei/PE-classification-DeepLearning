{
 "cells": [
  {
   "cell_type": "markdown",
   "metadata": {
    "colab_type": "text",
    "id": "view-in-github"
   },
   "source": [
    "<a href=\"https://colab.research.google.com/github/jonkrohn/DLTFpT/blob/master/notebooks/dense_sentiment_classifier.ipynb\" target=\"_parent\"><img src=\"https://colab.research.google.com/assets/colab-badge.svg\" alt=\"Open In Colab\"/></a>"
   ]
  },
  {
   "cell_type": "markdown",
   "metadata": {
    "colab_type": "text",
    "id": "ahUZuAfz8Jje"
   },
   "source": [
    "# CNN and LSTM Activity Classifier"
   ]
  },
  {
   "cell_type": "markdown",
   "metadata": {
    "colab_type": "text",
    "id": "Re0ecmVI8Jjk"
   },
   "source": [
    "In this notebook, we modify use CNN and LSTM layers to classify PE activity."
   ]
  },
  {
   "cell_type": "markdown",
   "metadata": {
    "colab_type": "text",
    "id": "ixsGb9tY8Jjm"
   },
   "source": [
    "#### Load dependencies"
   ]
  },
  {
   "cell_type": "code",
   "execution_count": 135,
   "metadata": {
    "colab": {},
    "colab_type": "code",
    "id": "5At1PKQp8Jjp"
   },
   "outputs": [],
   "source": [
    "import tensorflow\n",
    "from tensorflow.keras.utils import to_categorical\n",
    "from tensorflow.keras.models import Sequential\n",
    "from tensorflow.keras.layers import Dense, Dropout, Embedding, SpatialDropout1D, LSTM\n",
    "from tensorflow.keras.layers import Bidirectional, LeakyReLU, Flatten\n",
    "from tensorflow.keras.layers import Conv1D, GlobalMaxPooling1D, MaxPool1D, GlobalAveragePooling1D, AveragePooling1D\n",
    "from tensorflow.keras.callbacks import ModelCheckpoint \n",
    "import os \n",
    "from sklearn.metrics import roc_auc_score, roc_curve \n",
    "from sklearn.model_selection import train_test_split\n",
    "import pandas as pd\n",
    "import numpy as np\n",
    "import matplotlib.pyplot as plt # new!"
   ]
  },
  {
   "cell_type": "markdown",
   "metadata": {
    "colab_type": "text",
    "id": "Hg5wX2Dd8Jjz"
   },
   "source": [
    "#### Set hyperparameters"
   ]
  },
  {
   "cell_type": "code",
   "execution_count": 185,
   "metadata": {
    "colab": {},
    "colab_type": "code",
    "id": "lYLOM99-8Jj2"
   },
   "outputs": [],
   "source": [
    "# output directory name:\n",
    "output_dir = 'model_output/lstm2'\n",
    "input_dir =  'Z:/Research/dfuller/Walkabilly/studies/smarphone_accel/data/Ethica_Jaeger_Merged/pocket/'\n",
    "input_file_name = 'pocket-NN-data.npz'\n",
    "\n",
    "# from the data preparation section we have:\n",
    "window_size_second = 3\n",
    "frequency = 30\n",
    "lenght_of_each_seq = window_size_second * frequency\n",
    "\n",
    "\n",
    "\n",
    "# pooling layer parameters\n",
    "maxpooling_pool_size = 2\n",
    "avepooling_pool_size = 2\n",
    "\n",
    "\n",
    "# convolutional layer architecture:\n",
    "n_conv_1 = 512 # filters, a.k.a. kernels\n",
    "k_conv_1 = 3 # kernel length\n",
    "strides_1 = 1\n",
    "n_conv_2 = 256\n",
    "k_conv_2 = 3 # kernel length\n",
    "n_conv_3 = 256 # filters, a.k.a. kernels\n",
    "k_conv_3 = 2 # kernel length\n",
    "\n",
    "\n",
    "# LSTM layer architecture:\n",
    "n_lstm_1 = 128 \n",
    "n_lstm_2 = 128 \n",
    "n_lstm_3 = 64\n",
    "drop_lstm_1 = 0.0\n",
    "drop_lstm_2 = 0.02\n",
    "drop_lstm_3 = 0.05\n",
    "\n",
    "\n",
    "# dense layer architecture: \n",
    "n_dense_1 = 256\n",
    "dropout_1 = 0.2\n",
    "n_dense_2 = 256\n",
    "dropout_2 = 0.3\n",
    "n_dense_3 = 128\n",
    "dropout_3 = 0.3\n",
    "\n",
    "# training:\n",
    "epochs = 60\n",
    "batch_size = 256\n"
   ]
  },
  {
   "cell_type": "markdown",
   "metadata": {
    "colab_type": "text",
    "id": "DaLx4yZ48Jj9"
   },
   "source": [
    "#### Load data"
   ]
  },
  {
   "cell_type": "markdown",
   "metadata": {
    "colab_type": "text",
    "id": "CD9X0yJg8Jj_"
   },
   "source": [
    "##### For this notebook we use the acceleration data gathered from the pocket location. It was prepared in the DataPrep-Deep notebook"
   ]
  },
  {
   "cell_type": "code",
   "execution_count": 186,
   "metadata": {
    "colab": {},
    "colab_type": "code",
    "id": "6r44JKj-8JkA"
   },
   "outputs": [
    {
     "name": "stdout",
     "output_type": "stream",
     "text": [
      "acceleration_data\n",
      "metadata\n",
      "labels\n"
     ]
    }
   ],
   "source": [
    "# read the raw file and get the keys:\n",
    "raw_data = np.load(file=input_dir+input_file_name,allow_pickle=True)\n",
    "for k in raw_data.keys():\n",
    "    print(k)"
   ]
  },
  {
   "cell_type": "code",
   "execution_count": 187,
   "metadata": {},
   "outputs": [],
   "source": [
    "# import the data\n",
    "\n",
    "accel_array = raw_data['acceleration_data']\n",
    "meta_array = raw_data['metadata']\n",
    "labels_array = raw_data['labels']\n"
   ]
  },
  {
   "cell_type": "markdown",
   "metadata": {
    "colab_type": "text",
    "id": "WWq3ipbu8JlG"
   },
   "source": [
    "#### Preprocess data"
   ]
  },
  {
   "cell_type": "markdown",
   "metadata": {},
   "source": [
    "#### Convert the  labels to integer.\n",
    "In the raw data format of the labels is String and there are 6 classes. 'Lying', 'Sitting', 'Self Pace walk', 'Running 3 METs',\n",
    "       'Running 5 METs', 'Running 7 METs' <br>\n",
    "\n",
    "\n"
   ]
  },
  {
   "cell_type": "code",
   "execution_count": 188,
   "metadata": {
    "colab": {},
    "colab_type": "code",
    "id": "LyReiequ8Jln"
   },
   "outputs": [
    {
     "data": {
      "text/plain": [
       "array([[ True],\n",
       "       [ True],\n",
       "       [ True],\n",
       "       ...,\n",
       "       [ True],\n",
       "       [ True],\n",
       "       [ True]])"
      ]
     },
     "execution_count": 188,
     "metadata": {},
     "output_type": "execute_result"
    }
   ],
   "source": [
    "# change from string to integer so keras.to_categorical can consume it\n",
    "\n",
    "# could do with factorize method as well\n",
    "n_class = len(np.unique(labels_array))\n",
    "class_list, labels_array_int = np.unique(labels_array,return_inverse=True)\n",
    "labels_array_int\n",
    "\n",
    "# check if the result is consistant with the original input\n",
    "class_list[labels_array_int].reshape(len(labels_array_int), 1) == labels_array\n",
    "\n",
    "# Note: to get the reverse, i.e converting integer array to string use class_list[labels_array_int]"
   ]
  },
  {
   "cell_type": "code",
   "execution_count": 189,
   "metadata": {},
   "outputs": [
    {
     "data": {
      "text/plain": [
       "(64754, 6)"
      ]
     },
     "execution_count": 189,
     "metadata": {},
     "output_type": "execute_result"
    }
   ],
   "source": [
    "# labels to categorical\n",
    "\n",
    "y = to_categorical(labels_array_int, num_classes=n_class)\n",
    "y.shape"
   ]
  },
  {
   "cell_type": "code",
   "execution_count": 190,
   "metadata": {},
   "outputs": [
    {
     "data": {
      "text/plain": [
       "[64754, 90, 3]"
      ]
     },
     "execution_count": 190,
     "metadata": {},
     "output_type": "execute_result"
    }
   ],
   "source": [
    "input_shape = list(accel_array.shape)\n",
    "input_shape"
   ]
  },
  {
   "cell_type": "markdown",
   "metadata": {
    "colab_type": "text",
    "collapsed": true,
    "id": "GscSnCpk8Jlm"
   },
   "source": [
    "\n",
    "#### Design neural network architecture"
   ]
  },
  {
   "cell_type": "code",
   "execution_count": 191,
   "metadata": {},
   "outputs": [
    {
     "name": "stdout",
     "output_type": "stream",
     "text": [
      "Model: \"sequential_20\"\n",
      "_________________________________________________________________\n",
      "Layer (type)                 Output Shape              Param #   \n",
      "=================================================================\n",
      "conv1d_52 (Conv1D)           (None, 88, 512)           5120      \n",
      "_________________________________________________________________\n",
      "max_pooling1d_21 (MaxPooling (None, 44, 512)           0         \n",
      "_________________________________________________________________\n",
      "conv1d_53 (Conv1D)           (None, 42, 256)           393472    \n",
      "_________________________________________________________________\n",
      "average_pooling1d_15 (Averag (None, 21, 256)           0         \n",
      "_________________________________________________________________\n",
      "conv1d_54 (Conv1D)           (None, 20, 256)           131328    \n",
      "_________________________________________________________________\n",
      "lstm_52 (LSTM)               (None, 20, 128)           197120    \n",
      "_________________________________________________________________\n",
      "lstm_53 (LSTM)               (None, 20, 128)           131584    \n",
      "_________________________________________________________________\n",
      "lstm_54 (LSTM)               (None, 20, 64)            49408     \n",
      "_________________________________________________________________\n",
      "flatten_17 (Flatten)         (None, 1280)              0         \n",
      "_________________________________________________________________\n",
      "dense_56 (Dense)             (None, 256)               327936    \n",
      "_________________________________________________________________\n",
      "dropout_39 (Dropout)         (None, 256)               0         \n",
      "_________________________________________________________________\n",
      "dense_57 (Dense)             (None, 256)               65792     \n",
      "_________________________________________________________________\n",
      "dropout_40 (Dropout)         (None, 256)               0         \n",
      "_________________________________________________________________\n",
      "dense_58 (Dense)             (None, 6)                 1542      \n",
      "=================================================================\n",
      "Total params: 1,303,302\n",
      "Trainable params: 1,303,302\n",
      "Non-trainable params: 0\n",
      "_________________________________________________________________\n"
     ]
    }
   ],
   "source": [
    "model = Sequential()\n",
    "# model.add(MaxPool1D(pool_size = avepooling_pool_size, input_shape=input_shape[1:]))\n",
    "model.add(Conv1D(n_conv_1, k_conv_1, activation=LeakyReLU(alpha=0.1), strides= strides_1, input_shape=input_shape[1:]))\n",
    "model.add(MaxPool1D(pool_size = maxpooling_pool_size))\n",
    "model.add(Conv1D(n_conv_2, k_conv_2, activation=LeakyReLU(alpha=0.1)))\n",
    "model.add(AveragePooling1D(pool_size = avepooling_pool_size))\n",
    "model.add(Conv1D(n_conv_3, k_conv_3, activation=LeakyReLU(alpha=0.1)))\n",
    "# model.add(GlobalMaxPooling1D())\n",
    "# model.add(GlobalAveragePooling1D())\n",
    "model.add(LSTM(n_lstm_1, dropout=drop_lstm_1, \n",
    "                             return_sequences=True)) \n",
    "model.add(LSTM(n_lstm_2, dropout=drop_lstm_2, \n",
    "                             return_sequences=True))\n",
    "model.add(LSTM(n_lstm_3, dropout=drop_lstm_3, \n",
    "                             return_sequences=True)) \n",
    "# model.add(Bidirectional(LSTM(n_lstm_2, dropout=drop_lstm_2)))\n",
    "# model.add(GlobalMaxPooling1D())\n",
    "# model.add(GlobalAveragePooling1D())\n",
    "model.add(Flatten())\n",
    "model.add(Dense(n_dense_1, activation=LeakyReLU(alpha=0.1)))\n",
    "model.add(Dropout(dropout_1))\n",
    "model.add(Dense(n_dense_2, activation=LeakyReLU(alpha=0.1)))\n",
    "model.add(Dropout(dropout_2))\n",
    "# model.add(Dense(n_dense_3, activation=LeakyReLU(alpha=0.1)))\n",
    "# model.add(Dropout(dropout_3))\n",
    "model.add(Dense(n_class, activation='softmax'))\n",
    "model.summary()"
   ]
  },
  {
   "cell_type": "markdown",
   "metadata": {
    "colab": {},
    "colab_type": "code",
    "id": "40x3s0KY8Jlv",
    "outputId": "d3ac3e31-3c47-4b01-c2f9-ada0684b31b7"
   },
   "source": [
    "### Splitting and shuffeling the data"
   ]
  },
  {
   "cell_type": "code",
   "execution_count": 192,
   "metadata": {
    "colab": {},
    "colab_type": "code",
    "id": "f5grc2H78Jlz",
    "outputId": "3f7eeb55-f851-4796-de4e-0c68eb9df88d"
   },
   "outputs": [],
   "source": [
    "# split and shuffle\n",
    "x_train, x_valid, y_train, y_valid = train_test_split(\n",
    "     accel_array, y, test_size=0.1, random_state=65)"
   ]
  },
  {
   "cell_type": "markdown",
   "metadata": {
    "colab_type": "text",
    "id": "JkbhJMox8Jl9"
   },
   "source": [
    "#### Configure model"
   ]
  },
  {
   "cell_type": "code",
   "execution_count": 193,
   "metadata": {
    "colab": {},
    "colab_type": "code",
    "id": "QodbQvQh8Jl_"
   },
   "outputs": [],
   "source": [
    "model.compile(loss='categorical_crossentropy', optimizer='nadam', metrics=['accuracy'])"
   ]
  },
  {
   "cell_type": "code",
   "execution_count": 194,
   "metadata": {
    "colab": {},
    "colab_type": "code",
    "id": "zHjvYe288JmE"
   },
   "outputs": [],
   "source": [
    "modelcheckpoint = ModelCheckpoint(filepath=output_dir+\n",
    "                                  \"/weights.{epoch:02d}.hdf5\")"
   ]
  },
  {
   "cell_type": "code",
   "execution_count": 195,
   "metadata": {
    "colab": {},
    "colab_type": "code",
    "id": "esUwodZA8JmI"
   },
   "outputs": [],
   "source": [
    "if not os.path.exists(output_dir):\n",
    "    os.makedirs(output_dir)"
   ]
  },
  {
   "cell_type": "markdown",
   "metadata": {
    "colab_type": "text",
    "id": "TEYpX7968JmL"
   },
   "source": [
    "#### Train!"
   ]
  },
  {
   "cell_type": "code",
   "execution_count": 196,
   "metadata": {
    "colab": {},
    "colab_type": "code",
    "id": "QaD1W7Ka8JmM",
    "outputId": "f0c30141-0962-48f6-a000-d136af50af79"
   },
   "outputs": [
    {
     "name": "stdout",
     "output_type": "stream",
     "text": [
      "Epoch 1/60\n",
      "228/228 [==============================] - 12s 51ms/step - loss: 1.1260 - accuracy: 0.5132 - val_loss: 0.9110 - val_accuracy: 0.6157\n",
      "Epoch 2/60\n",
      "228/228 [==============================] - 11s 48ms/step - loss: 0.8074 - accuracy: 0.6593 - val_loss: 0.7168 - val_accuracy: 0.7051\n",
      "Epoch 3/60\n",
      "228/228 [==============================] - 11s 48ms/step - loss: 0.6384 - accuracy: 0.7475 - val_loss: 0.4835 - val_accuracy: 0.8028\n",
      "Epoch 4/60\n",
      "228/228 [==============================] - 11s 48ms/step - loss: 0.4529 - accuracy: 0.8162 - val_loss: 0.5139 - val_accuracy: 0.8044\n",
      "Epoch 5/60\n",
      "228/228 [==============================] - 11s 48ms/step - loss: 0.3966 - accuracy: 0.8413 - val_loss: 0.3521 - val_accuracy: 0.8562\n",
      "Epoch 6/60\n",
      "228/228 [==============================] - 11s 48ms/step - loss: 0.3579 - accuracy: 0.8587 - val_loss: 0.6924 - val_accuracy: 0.7769\n",
      "Epoch 7/60\n",
      "228/228 [==============================] - 11s 48ms/step - loss: 0.3731 - accuracy: 0.8573 - val_loss: 0.3763 - val_accuracy: 0.8542\n",
      "Epoch 8/60\n",
      "228/228 [==============================] - 11s 48ms/step - loss: 0.3200 - accuracy: 0.8749 - val_loss: 0.3088 - val_accuracy: 0.8760\n",
      "Epoch 9/60\n",
      "228/228 [==============================] - 11s 48ms/step - loss: 0.2900 - accuracy: 0.8873 - val_loss: 0.3089 - val_accuracy: 0.8805\n",
      "Epoch 10/60\n",
      "228/228 [==============================] - 11s 49ms/step - loss: 0.2792 - accuracy: 0.8910 - val_loss: 0.2776 - val_accuracy: 0.8916\n",
      "Epoch 11/60\n",
      "228/228 [==============================] - 11s 49ms/step - loss: 0.2883 - accuracy: 0.8889 - val_loss: 0.2930 - val_accuracy: 0.8891\n",
      "Epoch 12/60\n",
      "228/228 [==============================] - 11s 48ms/step - loss: 0.2563 - accuracy: 0.9004 - val_loss: 0.2531 - val_accuracy: 0.9026\n",
      "Epoch 13/60\n",
      "228/228 [==============================] - 11s 49ms/step - loss: 0.2408 - accuracy: 0.9054 - val_loss: 0.2622 - val_accuracy: 0.8930\n",
      "Epoch 14/60\n",
      "228/228 [==============================] - 11s 49ms/step - loss: 0.2663 - accuracy: 0.8993 - val_loss: 0.4612 - val_accuracy: 0.8426\n",
      "Epoch 15/60\n",
      "228/228 [==============================] - 11s 48ms/step - loss: 0.2647 - accuracy: 0.9014 - val_loss: 0.2652 - val_accuracy: 0.8958\n",
      "Epoch 16/60\n",
      "228/228 [==============================] - 11s 49ms/step - loss: 0.2231 - accuracy: 0.9143 - val_loss: 0.2493 - val_accuracy: 0.9075\n",
      "Epoch 17/60\n",
      "228/228 [==============================] - 11s 48ms/step - loss: 0.2053 - accuracy: 0.9213 - val_loss: 0.2389 - val_accuracy: 0.9080\n",
      "Epoch 18/60\n",
      "228/228 [==============================] - 11s 49ms/step - loss: 0.1985 - accuracy: 0.9230 - val_loss: 0.2423 - val_accuracy: 0.9169\n",
      "Epoch 19/60\n",
      "228/228 [==============================] - 11s 49ms/step - loss: 0.1965 - accuracy: 0.9249 - val_loss: 0.2262 - val_accuracy: 0.9189\n",
      "Epoch 20/60\n",
      "228/228 [==============================] - 11s 49ms/step - loss: 0.1988 - accuracy: 0.9251 - val_loss: 0.2627 - val_accuracy: 0.9021\n",
      "Epoch 21/60\n",
      "228/228 [==============================] - 11s 49ms/step - loss: 0.1800 - accuracy: 0.9319 - val_loss: 0.2145 - val_accuracy: 0.9234\n",
      "Epoch 22/60\n",
      "228/228 [==============================] - 11s 48ms/step - loss: 0.1711 - accuracy: 0.9342 - val_loss: 0.2194 - val_accuracy: 0.9189\n",
      "Epoch 23/60\n",
      "228/228 [==============================] - 11s 49ms/step - loss: 0.1642 - accuracy: 0.9367 - val_loss: 0.2415 - val_accuracy: 0.9177\n",
      "Epoch 24/60\n",
      "228/228 [==============================] - 11s 49ms/step - loss: 0.1663 - accuracy: 0.9365 - val_loss: 0.2319 - val_accuracy: 0.9219\n",
      "Epoch 25/60\n",
      "228/228 [==============================] - 11s 49ms/step - loss: 0.1637 - accuracy: 0.9375 - val_loss: 0.2148 - val_accuracy: 0.9267\n",
      "Epoch 26/60\n",
      "228/228 [==============================] - 11s 49ms/step - loss: 0.1504 - accuracy: 0.9432 - val_loss: 0.2228 - val_accuracy: 0.9236\n",
      "Epoch 27/60\n",
      "228/228 [==============================] - 11s 49ms/step - loss: 0.1503 - accuracy: 0.9423 - val_loss: 0.2152 - val_accuracy: 0.9296\n",
      "Epoch 28/60\n",
      "228/228 [==============================] - 11s 49ms/step - loss: 0.1481 - accuracy: 0.9443 - val_loss: 0.2090 - val_accuracy: 0.9293\n",
      "Epoch 29/60\n",
      "228/228 [==============================] - 11s 49ms/step - loss: 0.1362 - accuracy: 0.9480 - val_loss: 0.1915 - val_accuracy: 0.9379\n",
      "Epoch 30/60\n",
      "228/228 [==============================] - 11s 49ms/step - loss: 0.1375 - accuracy: 0.9487 - val_loss: 0.2054 - val_accuracy: 0.9367\n",
      "Epoch 31/60\n",
      "228/228 [==============================] - 11s 49ms/step - loss: 0.1383 - accuracy: 0.9479 - val_loss: 0.2236 - val_accuracy: 0.9262\n",
      "Epoch 32/60\n",
      "228/228 [==============================] - 11s 49ms/step - loss: 0.1282 - accuracy: 0.9519 - val_loss: 0.2225 - val_accuracy: 0.9297\n",
      "Epoch 33/60\n",
      "228/228 [==============================] - 11s 49ms/step - loss: 0.1225 - accuracy: 0.9544 - val_loss: 0.2209 - val_accuracy: 0.9375\n",
      "Epoch 34/60\n",
      "228/228 [==============================] - 11s 49ms/step - loss: 0.1218 - accuracy: 0.9558 - val_loss: 0.2084 - val_accuracy: 0.9385\n",
      "Epoch 35/60\n",
      "228/228 [==============================] - 11s 49ms/step - loss: 0.1142 - accuracy: 0.9574 - val_loss: 0.2129 - val_accuracy: 0.9422\n",
      "Epoch 36/60\n",
      "228/228 [==============================] - 11s 49ms/step - loss: 0.1181 - accuracy: 0.9560 - val_loss: 0.2215 - val_accuracy: 0.9385\n",
      "Epoch 37/60\n",
      "228/228 [==============================] - 11s 50ms/step - loss: 0.1112 - accuracy: 0.9581 - val_loss: 0.2080 - val_accuracy: 0.9402\n",
      "Epoch 38/60\n",
      "228/228 [==============================] - 11s 49ms/step - loss: 0.1059 - accuracy: 0.9593 - val_loss: 0.2171 - val_accuracy: 0.9353\n",
      "Epoch 39/60\n",
      "228/228 [==============================] - 11s 49ms/step - loss: 0.1077 - accuracy: 0.9601 - val_loss: 0.1889 - val_accuracy: 0.9475\n",
      "Epoch 40/60\n",
      "228/228 [==============================] - 11s 49ms/step - loss: 0.1060 - accuracy: 0.9605 - val_loss: 0.2180 - val_accuracy: 0.9387\n",
      "Epoch 41/60\n",
      "228/228 [==============================] - 11s 49ms/step - loss: 0.1030 - accuracy: 0.9613 - val_loss: 0.2110 - val_accuracy: 0.9429\n",
      "Epoch 42/60\n",
      "228/228 [==============================] - 11s 49ms/step - loss: 0.1018 - accuracy: 0.9622 - val_loss: 0.2224 - val_accuracy: 0.9419\n",
      "Epoch 43/60\n",
      "228/228 [==============================] - 11s 49ms/step - loss: 0.0994 - accuracy: 0.9634 - val_loss: 0.2160 - val_accuracy: 0.9424\n",
      "Epoch 44/60\n",
      "228/228 [==============================] - 11s 49ms/step - loss: 0.0958 - accuracy: 0.9645 - val_loss: 0.2166 - val_accuracy: 0.9444\n",
      "Epoch 45/60\n",
      "228/228 [==============================] - 11s 49ms/step - loss: 0.0890 - accuracy: 0.9665 - val_loss: 0.2252 - val_accuracy: 0.9412\n",
      "Epoch 46/60\n",
      "228/228 [==============================] - 11s 49ms/step - loss: 0.0921 - accuracy: 0.9652 - val_loss: 0.2316 - val_accuracy: 0.9364\n",
      "Epoch 47/60\n",
      "228/228 [==============================] - 11s 49ms/step - loss: 0.1007 - accuracy: 0.9627 - val_loss: 0.1962 - val_accuracy: 0.9473\n",
      "Epoch 48/60\n",
      "228/228 [==============================] - 11s 49ms/step - loss: 0.0859 - accuracy: 0.9680 - val_loss: 0.2036 - val_accuracy: 0.9489\n",
      "Epoch 49/60\n",
      "228/228 [==============================] - 11s 49ms/step - loss: 0.0879 - accuracy: 0.9676 - val_loss: 0.2197 - val_accuracy: 0.9455\n",
      "Epoch 50/60\n",
      "228/228 [==============================] - 11s 49ms/step - loss: 0.0849 - accuracy: 0.9692 - val_loss: 0.2057 - val_accuracy: 0.9492\n",
      "Epoch 51/60\n",
      "228/228 [==============================] - 11s 49ms/step - loss: 0.0805 - accuracy: 0.9695 - val_loss: 0.2232 - val_accuracy: 0.9466\n",
      "Epoch 52/60\n",
      "228/228 [==============================] - 11s 49ms/step - loss: 0.0838 - accuracy: 0.9696 - val_loss: 0.2294 - val_accuracy: 0.9452\n",
      "Epoch 53/60\n",
      "228/228 [==============================] - 11s 48ms/step - loss: 0.0808 - accuracy: 0.9698 - val_loss: 0.2088 - val_accuracy: 0.9503\n",
      "Epoch 54/60\n",
      "228/228 [==============================] - 11s 49ms/step - loss: 0.0860 - accuracy: 0.9683 - val_loss: 0.2160 - val_accuracy: 0.9506\n",
      "Epoch 55/60\n",
      "228/228 [==============================] - 11s 48ms/step - loss: 0.0818 - accuracy: 0.9702 - val_loss: 0.2005 - val_accuracy: 0.9544\n",
      "Epoch 56/60\n",
      "228/228 [==============================] - 11s 49ms/step - loss: 0.0780 - accuracy: 0.9718 - val_loss: 0.2169 - val_accuracy: 0.9469\n",
      "Epoch 57/60\n",
      "228/228 [==============================] - 11s 49ms/step - loss: 0.0825 - accuracy: 0.9707 - val_loss: 0.2204 - val_accuracy: 0.9469\n",
      "Epoch 58/60\n",
      "228/228 [==============================] - 11s 49ms/step - loss: 0.0782 - accuracy: 0.9712 - val_loss: 0.2124 - val_accuracy: 0.9495\n",
      "Epoch 59/60\n",
      "228/228 [==============================] - 11s 49ms/step - loss: 0.0757 - accuracy: 0.9728 - val_loss: 0.2055 - val_accuracy: 0.9521\n",
      "Epoch 60/60\n",
      "228/228 [==============================] - 11s 49ms/step - loss: 0.0746 - accuracy: 0.9735 - val_loss: 0.2193 - val_accuracy: 0.9453\n"
     ]
    },
    {
     "data": {
      "text/plain": [
       "<tensorflow.python.keras.callbacks.History at 0x28063671780>"
      ]
     },
     "execution_count": 196,
     "metadata": {},
     "output_type": "execute_result"
    }
   ],
   "source": [
    "model.fit(x_train, y_train, \n",
    "         batch_size=batch_size, epochs=epochs, verbose=1, \n",
    "         validation_data=(x_valid, y_valid), \n",
    "         callbacks=[modelcheckpoint])"
   ]
  },
  {
   "cell_type": "markdown",
   "metadata": {
    "colab_type": "text",
    "id": "7PWlH5SJ8JmP"
   },
   "source": [
    "#### Evaluate"
   ]
  },
  {
   "cell_type": "code",
   "execution_count": 38,
   "metadata": {
    "colab": {},
    "colab_type": "code",
    "id": "z8t0nVCw8JmP"
   },
   "outputs": [],
   "source": [
    "model.load_weights(output_dir+\"/weights.49.hdf5\") # 94.22 val accuracy"
   ]
  },
  {
   "cell_type": "code",
   "execution_count": 75,
   "metadata": {
    "colab": {},
    "colab_type": "code",
    "id": "kZwGk5dR8JmS"
   },
   "outputs": [],
   "source": [
    "y_hat = model.predict(x_valid)"
   ]
  },
  {
   "cell_type": "code",
   "execution_count": 76,
   "metadata": {
    "colab": {},
    "colab_type": "code",
    "id": "EPc5_h6K8JmW",
    "outputId": "cad99da9-9f89-437f-854b-a315616ed50f"
   },
   "outputs": [
    {
     "data": {
      "text/plain": [
       "6476"
      ]
     },
     "execution_count": 76,
     "metadata": {},
     "output_type": "execute_result"
    }
   ],
   "source": [
    "len(y_hat)"
   ]
  },
  {
   "cell_type": "code",
   "execution_count": 77,
   "metadata": {
    "colab": {},
    "colab_type": "code",
    "id": "E_GNq-R_8JmZ",
    "outputId": "0fc16efe-7739-4394-f1a3-46da92e79584"
   },
   "outputs": [
    {
     "data": {
      "text/plain": [
       "array([3.96524119e-04, 1.13680684e-07, 5.38404549e-07, 2.49315212e-06,\n",
       "       1.73458429e-05, 9.99582946e-01], dtype=float32)"
      ]
     },
     "execution_count": 77,
     "metadata": {},
     "output_type": "execute_result"
    }
   ],
   "source": [
    "y_hat[0]"
   ]
  },
  {
   "cell_type": "code",
   "execution_count": 78,
   "metadata": {
    "colab": {},
    "colab_type": "code",
    "id": "SFqRQ5XB8Jmc",
    "outputId": "a957fbed-92f8-4bdd-d24b-5df3361a8bac"
   },
   "outputs": [
    {
     "data": {
      "text/plain": [
       "array([0., 0., 0., 0., 0., 1.], dtype=float32)"
      ]
     },
     "execution_count": 78,
     "metadata": {},
     "output_type": "execute_result"
    }
   ],
   "source": [
    "y_valid[0]"
   ]
  },
  {
   "cell_type": "code",
   "execution_count": 79,
   "metadata": {
    "colab": {},
    "colab_type": "code",
    "id": "FTWf6Cf-8Jme",
    "outputId": "1256b170-33dc-4171-f2ff-7a3d7ddd74e3"
   },
   "outputs": [
    {
     "data": {
      "image/png": "[encoded data removed]",
      "text/plain": [
       "<Figure size 432x288 with 1 Axes>"
      ]
     },
     "metadata": {
      "needs_background": "light"
     },
     "output_type": "display_data"
    }
   ],
   "source": [
    "plt.hist(y_hat)\n",
    "_ = plt.axvline(x=0.5, color='orange')"
   ]
  },
  {
   "cell_type": "code",
   "execution_count": 80,
   "metadata": {
    "colab": {},
    "colab_type": "code",
    "id": "RNljSx3v8Jmh"
   },
   "outputs": [],
   "source": [
    "pct_auc = roc_auc_score(y_valid, y_hat)*100.0"
   ]
  },
  {
   "cell_type": "code",
   "execution_count": 81,
   "metadata": {
    "colab": {},
    "colab_type": "code",
    "id": "SO_N9lJG8Jmj",
    "outputId": "20968a52-8ca0-44d3-abf6-a1382bba5cde"
   },
   "outputs": [
    {
     "data": {
      "text/plain": [
       "'99.70'"
      ]
     },
     "execution_count": 81,
     "metadata": {},
     "output_type": "execute_result"
    }
   ],
   "source": [
    "\"{:0.2f}\".format(pct_auc)"
   ]
  },
  {
   "cell_type": "code",
   "execution_count": 82,
   "metadata": {
    "colab": {},
    "colab_type": "code",
    "id": "vU3hnA298Jmo"
   },
   "outputs": [],
   "source": [
    "float_y_hat = []\n",
    "for y in y_hat:\n",
    "    float_y_hat.append(y[0:6].round(3))"
   ]
  },
  {
   "cell_type": "code",
   "execution_count": 83,
   "metadata": {
    "colab": {},
    "colab_type": "code",
    "id": "zrTf-aQl8Jmr"
   },
   "outputs": [],
   "source": [
    "ydf = pd.DataFrame(list(zip(float_y_hat, y_valid)), columns=['y_hat', 'y'])"
   ]
  },
  {
   "cell_type": "code",
   "execution_count": 84,
   "metadata": {
    "colab": {},
    "colab_type": "code",
    "id": "zAyKh_mX8Jmu",
    "outputId": "611224b8-f980-47df-d596-9aa3a5811009"
   },
   "outputs": [
    {
     "data": {
      "text/html": [
       "<div>\n",
       "<style scoped>\n",
       "    .dataframe tbody tr th:only-of-type {\n",
       "        vertical-align: middle;\n",
       "    }\n",
       "\n",
       "    .dataframe tbody tr th {\n",
       "        vertical-align: top;\n",
       "    }\n",
       "\n",
       "    .dataframe thead th {\n",
       "        text-align: right;\n",
       "    }\n",
       "</style>\n",
       "<table border=\"1\" class=\"dataframe\">\n",
       "  <thead>\n",
       "    <tr style=\"text-align: right;\">\n",
       "      <th></th>\n",
       "      <th>y_hat</th>\n",
       "      <th>y</th>\n",
       "    </tr>\n",
       "  </thead>\n",
       "  <tbody>\n",
       "    <tr>\n",
       "      <th>0</th>\n",
       "      <td>[0.0, 0.0, 0.0, 0.0, 0.0, 1.0]</td>\n",
       "      <td>[0.0, 0.0, 0.0, 0.0, 0.0, 1.0]</td>\n",
       "    </tr>\n",
       "    <tr>\n",
       "      <th>1</th>\n",
       "      <td>[0.0, 0.0, 1.0, 0.0, 0.0, 0.0]</td>\n",
       "      <td>[0.0, 0.0, 1.0, 0.0, 0.0, 0.0]</td>\n",
       "    </tr>\n",
       "    <tr>\n",
       "      <th>2</th>\n",
       "      <td>[0.0, 1.0, 0.0, 0.0, 0.0, 0.0]</td>\n",
       "      <td>[0.0, 1.0, 0.0, 0.0, 0.0, 0.0]</td>\n",
       "    </tr>\n",
       "    <tr>\n",
       "      <th>3</th>\n",
       "      <td>[1.0, 0.0, 0.0, 0.0, 0.0, 0.0]</td>\n",
       "      <td>[1.0, 0.0, 0.0, 0.0, 0.0, 0.0]</td>\n",
       "    </tr>\n",
       "    <tr>\n",
       "      <th>4</th>\n",
       "      <td>[0.0, 1.0, 0.0, 0.0, 0.0, 0.0]</td>\n",
       "      <td>[0.0, 1.0, 0.0, 0.0, 0.0, 0.0]</td>\n",
       "    </tr>\n",
       "    <tr>\n",
       "      <th>5</th>\n",
       "      <td>[0.012, 0.0, 0.0, 0.0, 0.0, 0.988]</td>\n",
       "      <td>[0.0, 0.0, 0.0, 0.0, 0.0, 1.0]</td>\n",
       "    </tr>\n",
       "    <tr>\n",
       "      <th>6</th>\n",
       "      <td>[0.0, 0.0, 0.0, 1.0, 0.0, 0.0]</td>\n",
       "      <td>[0.0, 0.0, 0.0, 1.0, 0.0, 0.0]</td>\n",
       "    </tr>\n",
       "    <tr>\n",
       "      <th>7</th>\n",
       "      <td>[0.0, 1.0, 0.0, 0.0, 0.0, 0.0]</td>\n",
       "      <td>[0.0, 1.0, 0.0, 0.0, 0.0, 0.0]</td>\n",
       "    </tr>\n",
       "    <tr>\n",
       "      <th>8</th>\n",
       "      <td>[1.0, 0.0, 0.0, 0.0, 0.0, 0.0]</td>\n",
       "      <td>[1.0, 0.0, 0.0, 0.0, 0.0, 0.0]</td>\n",
       "    </tr>\n",
       "    <tr>\n",
       "      <th>9</th>\n",
       "      <td>[0.0, 1.0, 0.0, 0.0, 0.0, 0.0]</td>\n",
       "      <td>[0.0, 1.0, 0.0, 0.0, 0.0, 0.0]</td>\n",
       "    </tr>\n",
       "  </tbody>\n",
       "</table>\n",
       "</div>"
      ],
      "text/plain": [
       "                                y_hat                               y\n",
       "0      [0.0, 0.0, 0.0, 0.0, 0.0, 1.0]  [0.0, 0.0, 0.0, 0.0, 0.0, 1.0]\n",
       "1      [0.0, 0.0, 1.0, 0.0, 0.0, 0.0]  [0.0, 0.0, 1.0, 0.0, 0.0, 0.0]\n",
       "2      [0.0, 1.0, 0.0, 0.0, 0.0, 0.0]  [0.0, 1.0, 0.0, 0.0, 0.0, 0.0]\n",
       "3      [1.0, 0.0, 0.0, 0.0, 0.0, 0.0]  [1.0, 0.0, 0.0, 0.0, 0.0, 0.0]\n",
       "4      [0.0, 1.0, 0.0, 0.0, 0.0, 0.0]  [0.0, 1.0, 0.0, 0.0, 0.0, 0.0]\n",
       "5  [0.012, 0.0, 0.0, 0.0, 0.0, 0.988]  [0.0, 0.0, 0.0, 0.0, 0.0, 1.0]\n",
       "6      [0.0, 0.0, 0.0, 1.0, 0.0, 0.0]  [0.0, 0.0, 0.0, 1.0, 0.0, 0.0]\n",
       "7      [0.0, 1.0, 0.0, 0.0, 0.0, 0.0]  [0.0, 1.0, 0.0, 0.0, 0.0, 0.0]\n",
       "8      [1.0, 0.0, 0.0, 0.0, 0.0, 0.0]  [1.0, 0.0, 0.0, 0.0, 0.0, 0.0]\n",
       "9      [0.0, 1.0, 0.0, 0.0, 0.0, 0.0]  [0.0, 1.0, 0.0, 0.0, 0.0, 0.0]"
      ]
     },
     "execution_count": 84,
     "metadata": {},
     "output_type": "execute_result"
    }
   ],
   "source": [
    "ydf.head(10)"
   ]
  },
  {
   "cell_type": "code",
   "execution_count": null,
   "metadata": {},
   "outputs": [],
   "source": []
  }
 ],
 "metadata": {
  "colab": {
   "include_colab_link": true,
   "name": "dense_sentiment_classifier.ipynb",
   "provenance": []
  },
  "kernelspec": {
   "display_name": "Python 3",
   "language": "python",
   "name": "python3"
  },
  "language_info": {
   "codemirror_mode": {
    "name": "ipython",
    "version": 3
   },
   "file_extension": ".py",
   "mimetype": "text/x-python",
   "name": "python",
   "nbconvert_exporter": "python",
   "pygments_lexer": "ipython3",
   "version": "3.7.9"
  }
 },
 "nbformat": 4,
 "nbformat_minor": 1
}
