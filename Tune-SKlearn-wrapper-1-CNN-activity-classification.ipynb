{
 "cells": [
  {
   "cell_type": "markdown",
   "metadata": {
    "colab_type": "text",
    "id": "view-in-github"
   },
   "source": [
    "<a href=\"https://colab.research.google.com/github/khataei/PE-classification-DeepLearning/blob/master/Tunned-Talos-1-CNN-activity-classification.ipynb\" target=\"_parent\"><img src=\"https://colab.research.google.com/assets/colab-badge.svg\" alt=\"Open In Colab\"/></a>"
   ]
  },
  {
   "cell_type": "markdown",
   "metadata": {
    "colab_type": "text",
    "id": "ahUZuAfz8Jje"
   },
   "source": [
    "# Talos Tuner for CNN Activity Classifier"
   ]
  },
  {
   "cell_type": "markdown",
   "metadata": {
    "colab_type": "text",
    "id": "Re0ecmVI8Jjk"
   },
   "source": [
    "In this notebook, we use [Talos](https://github.com/autonomio/talos/blob/master/docs/Optimization_Strategies.md)  to tune a CNN neural net to classify PE activity."
   ]
  },
  {
   "cell_type": "markdown",
   "metadata": {
    "colab_type": "text",
    "id": "ixsGb9tY8Jjm"
   },
   "source": [
    "#### Load dependencies"
   ]
  },
  {
   "cell_type": "code",
   "execution_count": 53,
   "metadata": {
    "colab": {},
    "colab_type": "code",
    "id": "5At1PKQp8Jjp"
   },
   "outputs": [
    {
     "name": "stdout",
     "output_type": "stream",
     "text": [
      "[name: \"/device:CPU:0\"\n",
      "device_type: \"CPU\"\n",
      "memory_limit: 268435456\n",
      "locality {\n",
      "}\n",
      "incarnation: 17617742698806743389\n",
      "]\n",
      "# GPUs Available:  0\n"
     ]
    },
    {
     "data": {
      "text/plain": [
       "'1.14.0'"
      ]
     },
     "execution_count": 53,
     "metadata": {},
     "output_type": "execute_result"
    }
   ],
   "source": [
    "import os  \n",
    "import pandas as pd\n",
    "import numpy as np\n",
    "import matplotlib.pyplot as plt \n",
    "\n",
    "import tensorflow\n",
    "from tensorflow.keras.utils import to_categorical\n",
    "from tensorflow.keras.models import Sequential\n",
    "from tensorflow.keras.layers import Dense, Flatten, Dropout, Conv1D, GlobalMaxPooling1D\n",
    "from tensorflow.keras.layers import AveragePooling1D, LeakyReLU , MaxPool1D, GlobalAveragePooling1D\n",
    "from tensorflow.keras.callbacks import ModelCheckpoint \n",
    "from tensorflow.keras.wrappers.scikit_learn import KerasClassifier\n",
    "\n",
    "from sklearn.metrics import roc_auc_score, roc_curve \n",
    "from sklearn.model_selection import train_test_split\n",
    "from sklearn.model_selection import RandomizedSearchCV\n",
    "from tensorflow.python.client import device_lib\n",
    "\n",
    "print(device_lib.list_local_devices())\n",
    "import tensorflow as tf\n",
    "print(\"# GPUs Available: \", len(tf.config.experimental.list_physical_devices('GPU')))\n",
    "tensorflow.__version__"
   ]
  },
  {
   "cell_type": "markdown",
   "metadata": {
    "colab_type": "text",
    "id": "Hg5wX2Dd8Jjz"
   },
   "source": [
    "#### Set hyperparameters"
   ]
  },
  {
   "cell_type": "code",
   "execution_count": 2,
   "metadata": {
    "colab": {},
    "colab_type": "code",
    "id": "lYLOM99-8Jj2"
   },
   "outputs": [],
   "source": [
    "# output directory name:\n",
    "output_dir = 'model_output/cnn2'\n",
    "input_dir =  'Z:/Research/dfuller/Walkabilly/studies/smarphone_accel/data/Ethica_Jaeger_Merged/pocket/'\n",
    "input_file_name = 'pocket-NN-data.npz'\n",
    "\n",
    "# from the data preparation section we have:\n",
    "window_size_second = 3\n",
    "frequency = 30\n",
    "lenght_of_each_seq = window_size_second * frequency\n"
   ]
  },
  {
   "cell_type": "code",
   "execution_count": 56,
   "metadata": {},
   "outputs": [],
   "source": [
    "# sklearn hyperparams\n",
    "params = {\n",
    "    'n_conv_1':[256, 512, 768], # filters, a.k.a. kernels\n",
    "    'k_conv_1':[3, 5], # kernel length\n",
    "    'n_conv_2':[256, 512, 768], # filters, a.k.a. kernels\n",
    "    'k_conv_2':[3, 5], # kernel length\n",
    "    'n_conv_3':[256, 512, 768], # filters, a.k.a. kernels\n",
    "    'k_conv_3':[3, 5], # kernel length\n",
    "    'maxpooling_pool_size':[2, 4],\n",
    "    'avepooling_pool_size':[2, 4],\n",
    "    'n_dense_1':[256, 512],\n",
    "    'dropout_1':[0.2, 0.4],\n",
    "    'n_dense_2':[256, 512],\n",
    "    'dropout_2':[0.2, 0.4],\n",
    "    'activation':['relu','elu']\n",
    "}\n",
    "\n",
    "# training:\n",
    "epochs = 30\n",
    "batch_size = 256\n"
   ]
  },
  {
   "cell_type": "markdown",
   "metadata": {
    "colab_type": "text",
    "id": "DaLx4yZ48Jj9"
   },
   "source": [
    "#### Load data"
   ]
  },
  {
   "cell_type": "markdown",
   "metadata": {
    "colab_type": "text",
    "id": "CD9X0yJg8Jj_"
   },
   "source": [
    "##### For this notebook we use the acceleration data gathered from the pocket location. It was prepared in the DataPrep-Deep notebook"
   ]
  },
  {
   "cell_type": "code",
   "execution_count": 4,
   "metadata": {
    "colab": {},
    "colab_type": "code",
    "id": "6r44JKj-8JkA"
   },
   "outputs": [
    {
     "name": "stdout",
     "output_type": "stream",
     "text": [
      "acceleration_data\n",
      "metadata\n",
      "labels\n"
     ]
    }
   ],
   "source": [
    "# read the raw file and get the keys:\n",
    "raw_data = np.load(file=input_dir+input_file_name,allow_pickle=True)\n",
    "for k in raw_data.keys():\n",
    "    print(k)"
   ]
  },
  {
   "cell_type": "code",
   "execution_count": 11,
   "metadata": {},
   "outputs": [],
   "source": [
    "# import the data\n",
    "\n",
    "accel_array = raw_data['acceleration_data']\n",
    "meta_array = raw_data['metadata']\n",
    "labels_array = raw_data['labels']\n",
    "input_shape = list(accel_array.shape)\n"
   ]
  },
  {
   "cell_type": "markdown",
   "metadata": {
    "colab_type": "text",
    "id": "WWq3ipbu8JlG"
   },
   "source": [
    "#### Preprocess data"
   ]
  },
  {
   "cell_type": "markdown",
   "metadata": {},
   "source": [
    "#### Convert the  labels to integer.\n",
    "In the raw data format of the labels is String and there are 6 classes. 'Lying', 'Sitting', 'Self Pace walk', 'Running 3 METs',\n",
    "       'Running 5 METs', 'Running 7 METs' <br>\n",
    "\n",
    "\n"
   ]
  },
  {
   "cell_type": "code",
   "execution_count": 6,
   "metadata": {
    "colab": {},
    "colab_type": "code",
    "id": "LyReiequ8Jln"
   },
   "outputs": [],
   "source": [
    "n_class = len(np.unique(labels_array))\n",
    "class_list, labels_array_int = np.unique(labels_array,return_inverse=True)"
   ]
  },
  {
   "cell_type": "code",
   "execution_count": 7,
   "metadata": {},
   "outputs": [],
   "source": [
    "y = to_categorical(labels_array_int, num_classes=n_class)\n"
   ]
  },
  {
   "cell_type": "markdown",
   "metadata": {
    "colab": {},
    "colab_type": "code",
    "id": "40x3s0KY8Jlv",
    "outputId": "d3ac3e31-3c47-4b01-c2f9-ada0684b31b7"
   },
   "source": [
    "### Splitting and shuffeling the data"
   ]
  },
  {
   "cell_type": "code",
   "execution_count": 8,
   "metadata": {
    "colab": {},
    "colab_type": "code",
    "id": "f5grc2H78Jlz",
    "outputId": "3f7eeb55-f851-4796-de4e-0c68eb9df88d"
   },
   "outputs": [],
   "source": [
    "X_train, X_valid, y_train, y_valid = train_test_split(\n",
    "     accel_array, y, test_size=0.1, random_state=65)"
   ]
  },
  {
   "cell_type": "markdown",
   "metadata": {
    "colab_type": "text",
    "collapsed": true,
    "id": "GscSnCpk8Jlm"
   },
   "source": [
    "\n",
    "#### Design neural network architecture"
   ]
  },
  {
   "cell_type": "code",
   "execution_count": 57,
   "metadata": {},
   "outputs": [
    {
     "data": {
      "text/plain": [
       "{'n_conv_1': [256, 512, 768],\n",
       " 'k_conv_1': [3, 5],\n",
       " 'n_conv_2': [256, 512, 768],\n",
       " 'k_conv_2': [3, 5],\n",
       " 'n_conv_3': [256, 512, 768],\n",
       " 'k_conv_3': [3, 5],\n",
       " 'maxpooling_pool_size': [2, 4],\n",
       " 'avepooling_pool_size': [2, 4],\n",
       " 'n_dense_1': [256, 512],\n",
       " 'dropout_1': [0.2, 0.4],\n",
       " 'n_dense_2': [256, 512],\n",
       " 'dropout_2': [0.2, 0.4],\n",
       " 'activation': ['relu', 'elu']}"
      ]
     },
     "execution_count": 57,
     "metadata": {},
     "output_type": "execute_result"
    }
   ],
   "source": [
    "params"
   ]
  },
  {
   "cell_type": "code",
   "execution_count": 49,
   "metadata": {},
   "outputs": [
    {
     "name": "stdout",
     "output_type": "stream",
     "text": [
      "Wall time: 0 ns\n"
     ]
    }
   ],
   "source": [
    "def create_model(n_conv_1=256, k_conv_1=3, n_conv_2=256, k_conv_2=3, n_conv_3=256, k_conv_3=3,\n",
    "                 maxpooling_pool_size = 2, avepooling_pool_size = 2, n_dense_1=256, dropout_1=0.2,\n",
    "                 n_dense_2=256, dropout_2=0.2, activation='elu'\n",
    "                ):\n",
    "    model = Sequential()\n",
    "    model.add(Conv1D(n_conv_1, k_conv_1, activation, input_shape=input_shape[1:]))\n",
    "    model.add(MaxPool1D(pool_size = maxpooling_pool_size))\n",
    "    model.add(Conv1D(n_conv_2, k_conv_2, activation))\n",
    "    model.add(AveragePooling1D(pool_size = avepooling_pool_size))\n",
    "    model.add(Conv1D(n_conv_3, k_conv_3, activation))\n",
    "    # model.add(GlobalMaxPooling1D())\n",
    "    model.add(GlobalAveragePooling1D())\n",
    "    model.add(Dense(n_dense_1, activation))\n",
    "    model.add(Dropout(dropout_1))\n",
    "    model.add(Dense(n_dense_2, activation))\n",
    "    model.add(Dropout(dropout_2))\n",
    "    model.add(Dense(n_class, activation='softmax'))\n",
    "    model.summary()\n",
    "    model.compile(loss='categorical_crossentropy', optimizer='nadam', metrics=['accuracy'])\n",
    "\n",
    "    return model"
   ]
  },
  {
   "cell_type": "code",
   "execution_count": 12,
   "metadata": {},
   "outputs": [
    {
     "name": "stdout",
     "output_type": "stream",
     "text": [
      "WARNING:tensorflow:From C:\\Users\\dfuller\\AppData\\Local\\Continuum\\anaconda3\\envs\\tf-gpu\\lib\\site-packages\\tensorflow\\python\\ops\\init_ops.py:1251: calling VarianceScaling.__init__ (from tensorflow.python.ops.init_ops) with dtype is deprecated and will be removed in a future version.\n",
      "Instructions for updating:\n",
      "Call initializer instance with the dtype argument instead of passing it to the constructor\n",
      "Model: \"sequential_1\"\n",
      "_________________________________________________________________\n",
      "Layer (type)                 Output Shape              Param #   \n",
      "=================================================================\n",
      "conv1d (Conv1D)              (None, 88, 256)           2560      \n",
      "_________________________________________________________________\n",
      "max_pooling1d (MaxPooling1D) (None, 44, 256)           0         \n",
      "_________________________________________________________________\n",
      "conv1d_1 (Conv1D)            (None, 42, 256)           196864    \n",
      "_________________________________________________________________\n",
      "average_pooling1d (AveragePo (None, 21, 256)           0         \n",
      "_________________________________________________________________\n",
      "conv1d_2 (Conv1D)            (None, 20, 256)           131328    \n",
      "_________________________________________________________________\n",
      "global_average_pooling1d (Gl (None, 256)               0         \n",
      "_________________________________________________________________\n",
      "dense (Dense)                (None, 512)               131584    \n",
      "_________________________________________________________________\n",
      "dropout (Dropout)            (None, 512)               0         \n",
      "_________________________________________________________________\n",
      "dense_1 (Dense)              (None, 256)               131328    \n",
      "_________________________________________________________________\n",
      "dropout_1 (Dropout)          (None, 256)               0         \n",
      "_________________________________________________________________\n",
      "dense_2 (Dense)              (None, 6)                 1542      \n",
      "=================================================================\n",
      "Total params: 595,206\n",
      "Trainable params: 595,206\n",
      "Non-trainable params: 0\n",
      "_________________________________________________________________\n"
     ]
    }
   ],
   "source": [
    "model_default = create_model()\n",
    "model_default.summary()"
   ]
  },
  {
   "cell_type": "code",
   "execution_count": 14,
   "metadata": {},
   "outputs": [],
   "source": [
    "model = KerasClassifier(build_fn=create_model, epochs=epochs, batch_size=batch_size)"
   ]
  },
  {
   "cell_type": "code",
   "execution_count": 16,
   "metadata": {},
   "outputs": [
    {
     "name": "stderr",
     "output_type": "stream",
     "text": [
      "C:\\Users\\dfuller\\AppData\\Local\\Continuum\\anaconda3\\envs\\tf-gpu\\lib\\site-packages\\sklearn\\model_selection\\_search.py:282: UserWarning: The total space of parameters 9 is smaller than n_iter=10. Running 9 iterations. For exhaustive searches, use GridSearchCV.\n",
      "  % (grid_size, self.n_iter, grid_size), UserWarning)\n"
     ]
    },
    {
     "name": "stdout",
     "output_type": "stream",
     "text": [
      "Epoch 1/4\n",
      "38852/38852 [==============================] - 17s 436us/sample - loss: 1.1640 - acc: 0.5074\n",
      "Epoch 2/4\n",
      "38852/38852 [==============================] - 17s 436us/sample - loss: 0.8445 - acc: 0.6567\n",
      "Epoch 3/4\n",
      "38852/38852 [==============================] - 17s 430us/sample - loss: 0.6432 - acc: 0.7434\n",
      "Epoch 4/4\n",
      "38852/38852 [==============================] - 17s 430us/sample - loss: 0.4876 - acc: 0.8204\n",
      "19426/19426 [==============================] - 3s 136us/sample - loss: 0.3705 - acc: 0.8680\n",
      "Epoch 1/4\n",
      "38852/38852 [==============================] - 17s 446us/sample - loss: 1.1471 - acc: 0.5119\n",
      "Epoch 2/4\n",
      "38852/38852 [==============================] - 17s 436us/sample - loss: 0.8390 - acc: 0.6531\n",
      "Epoch 3/4\n",
      "38852/38852 [==============================] - 17s 435us/sample - loss: 0.6344 - acc: 0.7470\n",
      "Epoch 4/4\n",
      "38852/38852 [==============================] - 17s 437us/sample - loss: 0.4988 - acc: 0.8133\n",
      "19426/19426 [==============================] - 3s 155us/sample - loss: 0.4221 - acc: 0.8447\n",
      "Epoch 1/4\n",
      "38852/38852 [==============================] - 17s 435us/sample - loss: 1.1444 - acc: 0.5176\n",
      "Epoch 2/4\n",
      "38852/38852 [==============================] - 16s 414us/sample - loss: 0.8495 - acc: 0.6502\n",
      "Epoch 3/4\n",
      "38852/38852 [==============================] - 17s 429us/sample - loss: 0.6402 - acc: 0.7456\n",
      "Epoch 4/4\n",
      "38852/38852 [==============================] - 17s 441us/sample - loss: 0.4833 - acc: 0.8197\n",
      "19426/19426 [==============================] - 3s 137us/sample - loss: 0.3971 - acc: 0.8557\n",
      "Epoch 1/4\n",
      "38852/38852 [==============================] - 28s 730us/sample - loss: 1.1685 - acc: 0.5067 - loss: 1.19\n",
      "Epoch 2/4\n",
      "38852/38852 [==============================] - 29s 750us/sample - loss: 0.8551 - acc: 0.6458\n",
      "Epoch 3/4\n",
      "38852/38852 [==============================] - 29s 744us/sample - loss: 0.6527 - acc: 0.7385\n",
      "Epoch 4/4\n",
      "38852/38852 [==============================] - 28s 732us/sample - loss: 0.4957 - acc: 0.8135\n",
      "19426/19426 [==============================] - 5s 243us/sample - loss: 0.4029 - acc: 0.8477\n",
      "Epoch 1/4\n",
      "38852/38852 [==============================] - 29s 750us/sample - loss: 1.1702 - acc: 0.4992\n",
      "Epoch 2/4\n",
      "38852/38852 [==============================] - 29s 739us/sample - loss: 0.8638 - acc: 0.6411\n",
      "Epoch 3/4\n",
      "38852/38852 [==============================] - 29s 736us/sample - loss: 0.6366 - acc: 0.7476\n",
      "Epoch 4/4\n",
      "38852/38852 [==============================] - 29s 736us/sample - loss: 0.4683 - acc: 0.8249\n",
      "19426/19426 [==============================] - 5s 241us/sample - loss: 0.4051 - acc: 0.8440\n",
      "Epoch 1/4\n",
      "38852/38852 [==============================] - 28s 728us/sample - loss: 1.1561 - acc: 0.5049\n",
      "Epoch 2/4\n",
      "38852/38852 [==============================] - 29s 744us/sample - loss: 0.8362 - acc: 0.6540\n",
      "Epoch 3/4\n",
      "38852/38852 [==============================] - 28s 714us/sample - loss: 0.6249 - acc: 0.7531\n",
      "Epoch 4/4\n",
      "38852/38852 [==============================] - 27s 704us/sample - loss: 0.4724 - acc: 0.8211\n",
      "19426/19426 [==============================] - 5s 236us/sample - loss: 0.4207 - acc: 0.8319\n",
      "Epoch 1/4\n",
      "38852/38852 [==============================] - 65s 2ms/sample - loss: 1.1766 - acc: 0.4972\n",
      "Epoch 2/4\n",
      "38852/38852 [==============================] - 65s 2ms/sample - loss: 0.8502 - acc: 0.6386\n",
      "Epoch 3/4\n",
      "38852/38852 [==============================] - 65s 2ms/sample - loss: 0.6628 - acc: 0.7269\n",
      "Epoch 4/4\n",
      "38852/38852 [==============================] - 66s 2ms/sample - loss: 0.4989 - acc: 0.8086\n",
      "19426/19426 [==============================] - 8s 426us/sample - loss: 0.4532 - acc: 0.8153\n",
      "Epoch 1/4\n",
      "38852/38852 [==============================] - 66s 2ms/sample - loss: 1.1705 - acc: 0.4996\n",
      "Epoch 2/4\n",
      "38852/38852 [==============================] - 65s 2ms/sample - loss: 0.8342 - acc: 0.6463\n",
      "Epoch 3/4\n",
      "38852/38852 [==============================] - 65s 2ms/sample - loss: 0.6319 - acc: 0.7480\n",
      "Epoch 4/4\n",
      "38852/38852 [==============================] - 66s 2ms/sample - loss: 0.4719 - acc: 0.8192\n",
      "19426/19426 [==============================] - 8s 430us/sample - loss: 0.4358 - acc: 0.8333\n",
      "Epoch 1/4\n",
      "38852/38852 [==============================] - 66s 2ms/sample - loss: 1.1734 - acc: 0.4998\n",
      "Epoch 2/4\n",
      "38852/38852 [==============================] - 66s 2ms/sample - loss: 0.8601 - acc: 0.6429\n",
      "Epoch 3/4\n",
      "38852/38852 [==============================] - 66s 2ms/sample - loss: 0.6240 - acc: 0.7517\n",
      "Epoch 4/4\n",
      "38852/38852 [==============================] - 66s 2ms/sample - loss: 0.4754 - acc: 0.8188\n",
      "19426/19426 [==============================] - 9s 439us/sample - loss: 0.4096 - acc: 0.8454\n",
      "Epoch 1/4\n",
      "38852/38852 [==============================] - 17s 450us/sample - loss: 1.1209 - acc: 0.5250\n",
      "Epoch 2/4\n",
      "38852/38852 [==============================] - 17s 432us/sample - loss: 0.8343 - acc: 0.6554\n",
      "Epoch 3/4\n",
      "38852/38852 [==============================] - 17s 429us/sample - loss: 0.6518 - acc: 0.7475\n",
      "Epoch 4/4\n",
      "38852/38852 [==============================] - 16s 423us/sample - loss: 0.5024 - acc: 0.8148\n",
      "19426/19426 [==============================] - 3s 133us/sample - loss: 0.8638 - acc: 0.6635\n",
      "Epoch 1/4\n",
      "38852/38852 [==============================] - 17s 442us/sample - loss: 1.1206 - acc: 0.5262\n",
      "Epoch 2/4\n",
      "38852/38852 [==============================] - 17s 429us/sample - loss: 0.8337 - acc: 0.6553\n",
      "Epoch 3/4\n",
      "38852/38852 [==============================] - 16s 421us/sample - loss: 0.6480 - acc: 0.7491\n",
      "Epoch 4/4\n",
      "38852/38852 [==============================] - 16s 420us/sample - loss: 0.4796 - acc: 0.8224\n",
      "19426/19426 [==============================] - 3s 137us/sample - loss: 0.4225 - acc: 0.8437\n",
      "Epoch 1/4\n",
      "38852/38852 [==============================] - 17s 434us/sample - loss: 1.1268 - acc: 0.5274\n",
      "Epoch 2/4\n",
      "38852/38852 [==============================] - 16s 424us/sample - loss: 0.8446 - acc: 0.6528\n",
      "Epoch 3/4\n",
      "38852/38852 [==============================] - 17s 426us/sample - loss: 0.6618 - acc: 0.7405\n",
      "Epoch 4/4\n",
      "38852/38852 [==============================] - 17s 426us/sample - loss: 0.5138 - acc: 0.8103\n",
      "19426/19426 [==============================] - 3s 137us/sample - loss: 0.4125 - acc: 0.8504\n",
      "Epoch 1/4\n",
      "38852/38852 [==============================] - 28s 722us/sample - loss: 1.1345 - acc: 0.5239\n",
      "Epoch 2/4\n",
      "38852/38852 [==============================] - 28s 710us/sample - loss: 0.8405 - acc: 0.6512\n",
      "Epoch 3/4\n",
      "38852/38852 [==============================] - 27s 707us/sample - loss: 0.6498 - acc: 0.7423\n",
      "Epoch 4/4\n",
      "38852/38852 [==============================] - 28s 730us/sample - loss: 0.4898 - acc: 0.8148\n",
      "19426/19426 [==============================] - 5s 235us/sample - loss: 0.3847 - acc: 0.8577\n",
      "Epoch 1/4\n",
      "38852/38852 [==============================] - 28s 718us/sample - loss: 1.1412 - acc: 0.5210\n",
      "Epoch 2/4\n",
      "38852/38852 [==============================] - 28s 713us/sample - loss: 0.8422 - acc: 0.6501\n",
      "Epoch 3/4\n",
      "38852/38852 [==============================] - 28s 710us/sample - loss: 0.6472 - acc: 0.7491\n",
      "Epoch 4/4\n",
      "38852/38852 [==============================] - 28s 713us/sample - loss: 0.4927 - acc: 0.8189 - loss: 0.4964 - acc\n",
      "19426/19426 [==============================] - 5s 234us/sample - loss: 0.4245 - acc: 0.8461\n",
      "Epoch 1/4\n",
      "38852/38852 [==============================] - 28s 724us/sample - loss: 1.1277 - acc: 0.5222\n",
      "Epoch 2/4\n",
      "38852/38852 [==============================] - 28s 712us/sample - loss: 0.8422 - acc: 0.6551 - l\n",
      "Epoch 3/4\n",
      "38852/38852 [==============================] - 28s 720us/sample - loss: 0.6796 - acc: 0.7301\n",
      "Epoch 4/4\n",
      "38852/38852 [==============================] - 28s 710us/sample - loss: 0.5054 - acc: 0.8093\n",
      "19426/19426 [==============================] - 5s 237us/sample - loss: 0.4825 - acc: 0.8194\n",
      "Epoch 1/4\n",
      "38852/38852 [==============================] - 68s 2ms/sample - loss: 1.1329 - acc: 0.5255\n",
      "Epoch 2/4\n",
      "38852/38852 [==============================] - 66s 2ms/sample - loss: 0.8425 - acc: 0.6479\n",
      "Epoch 3/4\n",
      "38852/38852 [==============================] - 66s 2ms/sample - loss: 0.6736 - acc: 0.7324\n",
      "Epoch 4/4\n",
      "38852/38852 [==============================] - 67s 2ms/sample - loss: 0.5030 - acc: 0.8115\n",
      "19426/19426 [==============================] - 8s 416us/sample - loss: 0.5188 - acc: 0.8024\n",
      "Epoch 1/4\n",
      "38852/38852 [==============================] - 68s 2ms/sample - loss: 1.1369 - acc: 0.5190\n",
      "Epoch 2/4\n"
     ]
    },
    {
     "name": "stdout",
     "output_type": "stream",
     "text": [
      "38852/38852 [==============================] - 67s 2ms/sample - loss: 0.8388 - acc: 0.6520\n",
      "Epoch 3/4\n",
      "38852/38852 [==============================] - 67s 2ms/sample - loss: 0.6443 - acc: 0.7459\n",
      "Epoch 4/4\n",
      "38852/38852 [==============================] - 67s 2ms/sample - loss: 0.4947 - acc: 0.8148\n",
      "19426/19426 [==============================] - 8s 418us/sample - loss: 0.3988 - acc: 0.8481\n",
      "Epoch 1/4\n",
      "38852/38852 [==============================] - 68s 2ms/sample - loss: 1.1273 - acc: 0.5239\n",
      "Epoch 2/4\n",
      "38852/38852 [==============================] - 68s 2ms/sample - loss: 0.8422 - acc: 0.6545\n",
      "Epoch 3/4\n",
      "38852/38852 [==============================] - 67s 2ms/sample - loss: 0.6540 - acc: 0.7418\n",
      "Epoch 4/4\n",
      "38852/38852 [==============================] - 67s 2ms/sample - loss: 0.5108 - acc: 0.8104\n",
      "19426/19426 [==============================] - 8s 420us/sample - loss: 0.4027 - acc: 0.8522\n",
      "Epoch 1/4\n",
      "38852/38852 [==============================] - 17s 438us/sample - loss: 1.1004 - acc: 0.5398\n",
      "Epoch 2/4\n",
      "38852/38852 [==============================] - 17s 429us/sample - loss: 0.8235 - acc: 0.6607\n",
      "Epoch 3/4\n",
      "38852/38852 [==============================] - 17s 431us/sample - loss: 0.6739 - acc: 0.7327\n",
      "Epoch 4/4\n",
      "38852/38852 [==============================] - 17s 429us/sample - loss: 0.5205 - acc: 0.8044\n",
      "19426/19426 [==============================] - 3s 142us/sample - loss: 0.4348 - acc: 0.8392\n",
      "Epoch 1/4\n",
      "38852/38852 [==============================] - 17s 440us/sample - loss: 1.1016 - acc: 0.5415\n",
      "Epoch 2/4\n",
      "38852/38852 [==============================] - 18s 451us/sample - loss: 0.8255 - acc: 0.6631\n",
      "Epoch 3/4\n",
      "38852/38852 [==============================] - 17s 430us/sample - loss: 0.6654 - acc: 0.7408\n",
      "Epoch 4/4\n",
      "38852/38852 [==============================] - 17s 427us/sample - loss: 0.5425 - acc: 0.8002\n",
      "19426/19426 [==============================] - 3s 147us/sample - loss: 0.4768 - acc: 0.8192\n",
      "Epoch 1/4\n",
      "38852/38852 [==============================] - 17s 446us/sample - loss: 1.0953 - acc: 0.5415\n",
      "Epoch 2/4\n",
      "38852/38852 [==============================] - 17s 434us/sample - loss: 0.8341 - acc: 0.6564\n",
      "Epoch 3/4\n",
      "38852/38852 [==============================] - 17s 434us/sample - loss: 0.6815 - acc: 0.7285\n",
      "Epoch 4/4\n",
      "38852/38852 [==============================] - 17s 433us/sample - loss: 0.5420 - acc: 0.7960\n",
      "19426/19426 [==============================] - 3s 144us/sample - loss: 0.4698 - acc: 0.8208\n",
      "Epoch 1/4\n",
      "38852/38852 [==============================] - 28s 731us/sample - loss: 1.1022 - acc: 0.5417\n",
      "Epoch 2/4\n",
      "38852/38852 [==============================] - 28s 716us/sample - loss: 0.8343 - acc: 0.6511\n",
      "Epoch 3/4\n",
      "38852/38852 [==============================] - 28s 726us/sample - loss: 0.6789 - acc: 0.7212\n",
      "Epoch 4/4\n",
      "38852/38852 [==============================] - 28s 717us/sample - loss: 0.5335 - acc: 0.7951\n",
      "19426/19426 [==============================] - 5s 245us/sample - loss: 0.5725 - acc: 0.7828 2s - ETA: 0s - loss: 0.5741 - acc: 0.\n",
      "Epoch 1/4\n",
      "38852/38852 [==============================] - 29s 748us/sample - loss: 1.1011 - acc: 0.5374 - loss: 1.1046 - acc: 0.5\n",
      "Epoch 2/4\n",
      "38852/38852 [==============================] - 29s 736us/sample - loss: 0.8366 - acc: 0.6552\n",
      "Epoch 3/4\n",
      "38852/38852 [==============================] - 29s 751us/sample - loss: 0.6720 - acc: 0.7324\n",
      "Epoch 4/4\n",
      "38852/38852 [==============================] - 29s 735us/sample - loss: 0.5317 - acc: 0.8001\n",
      "19426/19426 [==============================] - 5s 244us/sample - loss: 0.4571 - acc: 0.8279\n",
      "Epoch 1/4\n",
      "38852/38852 [==============================] - 29s 750us/sample - loss: 1.1113 - acc: 0.5373\n",
      "Epoch 2/4\n",
      "38852/38852 [==============================] - 29s 742us/sample - loss: 0.8427 - acc: 0.6529\n",
      "Epoch 3/4\n",
      "38852/38852 [==============================] - 29s 741us/sample - loss: 0.6882 - acc: 0.7296\n",
      "Epoch 4/4\n",
      "38852/38852 [==============================] - 29s 740us/sample - loss: 0.5408 - acc: 0.7998\n",
      "19426/19426 [==============================] - 5s 245us/sample - loss: 0.4805 - acc: 0.8154ETA: 0s - loss: 0.4824 - acc: \n",
      "Epoch 1/4\n",
      "38852/38852 [==============================] - 72s 2ms/sample - loss: 1.1295 - acc: 0.5275\n",
      "Epoch 2/4\n",
      "38852/38852 [==============================] - 72s 2ms/sample - loss: 0.8536 - acc: 0.6465\n",
      "Epoch 3/4\n",
      "38852/38852 [==============================] - 71s 2ms/sample - loss: 0.6949 - acc: 0.7238\n",
      "Epoch 4/4\n",
      "38852/38852 [==============================] - 71s 2ms/sample - loss: 0.5339 - acc: 0.7994\n",
      "19426/19426 [==============================] - 8s 436us/sample - loss: 0.4173 - acc: 0.8533\n",
      "Epoch 1/4\n",
      "38852/38852 [==============================] - 74s 2ms/sample - loss: 1.1232 - acc: 0.5314\n",
      "Epoch 2/4\n",
      "38852/38852 [==============================] - 75s 2ms/sample - loss: 0.8458 - acc: 0.6504\n",
      "Epoch 3/4\n",
      "38852/38852 [==============================] - 74s 2ms/sample - loss: 0.6941 - acc: 0.7257\n",
      "Epoch 4/4\n",
      "38852/38852 [==============================] - 73s 2ms/sample - loss: 0.5239 - acc: 0.8022\n",
      "19426/19426 [==============================] - 9s 449us/sample - loss: 0.4606 - acc: 0.8165\n",
      "Epoch 1/4\n",
      "38852/38852 [==============================] - 75s 2ms/sample - loss: 1.1126 - acc: 0.5365\n",
      "Epoch 2/4\n",
      "38852/38852 [==============================] - 75s 2ms/sample - loss: 0.8596 - acc: 0.6459\n",
      "Epoch 3/4\n",
      "38852/38852 [==============================] - 75s 2ms/sample - loss: 0.6847 - acc: 0.7331\n",
      "Epoch 4/4\n",
      "38852/38852 [==============================] - 74s 2ms/sample - loss: 0.5499 - acc: 0.7950\n",
      "19426/19426 [==============================] - 9s 448us/sample - loss: 0.4514 - acc: 0.8296\n",
      "Epoch 1/4\n",
      "58278/58278 [==============================] - 29s 503us/sample - loss: 1.0899 - acc: 0.5408\n",
      "Epoch 2/4\n",
      "58278/58278 [==============================] - 29s 500us/sample - loss: 0.7070 - acc: 0.7176\n",
      "Epoch 3/4\n",
      "58278/58278 [==============================] - 29s 498us/sample - loss: 0.4859 - acc: 0.8186\n",
      "Epoch 4/4\n",
      "58278/58278 [==============================] - 30s 510us/sample - loss: 0.3713 - acc: 0.8648\n"
     ]
    }
   ],
   "source": [
    "rscv = RandomizedSearchCV(model, param_distributions=params, cv=4, n_iter=20)\n",
    "rscv_results = rscv.fit(X_train,y_train)"
   ]
  },
  {
   "cell_type": "code",
   "execution_count": 17,
   "metadata": {},
   "outputs": [
    {
     "name": "stdout",
     "output_type": "stream",
     "text": [
      "Best score is: 0.8561034997304281 using {'n_conv_1': 256, 'k_conv_1': 3}\n"
     ]
    }
   ],
   "source": [
    "print('Best score is: {} using {}'.format(rscv_results.best_score_,\n",
    "rscv_results.best_params_))"
   ]
  },
  {
   "cell_type": "code",
   "execution_count": 19,
   "metadata": {},
   "outputs": [],
   "source": [
    "best_model = rscv_results.best_estimator_"
   ]
  },
  {
   "cell_type": "markdown",
   "metadata": {
    "colab_type": "text",
    "id": "JkbhJMox8Jl9"
   },
   "source": [
    "### Test the best model based on the validation data"
   ]
  },
  {
   "cell_type": "code",
   "execution_count": 20,
   "metadata": {
    "colab": {},
    "colab_type": "code",
    "id": "kZwGk5dR8JmS"
   },
   "outputs": [],
   "source": [
    "y_hat = best_model.predict(X_valid)"
   ]
  },
  {
   "cell_type": "code",
   "execution_count": 27,
   "metadata": {
    "colab": {},
    "colab_type": "code",
    "id": "E_GNq-R_8JmZ",
    "outputId": "0fc16efe-7739-4394-f1a3-46da92e79584"
   },
   "outputs": [
    {
     "data": {
      "text/plain": [
       "array([0., 0., 0., 0., 0., 1.], dtype=float32)"
      ]
     },
     "execution_count": 27,
     "metadata": {},
     "output_type": "execute_result"
    }
   ],
   "source": [
    "y_hat = to_categorical(y_hat)\n",
    "y_hat[0]"
   ]
  },
  {
   "cell_type": "code",
   "execution_count": 30,
   "metadata": {
    "colab": {},
    "colab_type": "code",
    "id": "SFqRQ5XB8Jmc",
    "outputId": "a957fbed-92f8-4bdd-d24b-5df3361a8bac"
   },
   "outputs": [
    {
     "data": {
      "text/plain": [
       "array([0., 0., 0., 0., 0., 1.], dtype=float32)"
      ]
     },
     "execution_count": 30,
     "metadata": {},
     "output_type": "execute_result"
    }
   ],
   "source": [
    "y_valid[0]"
   ]
  },
  {
   "cell_type": "code",
   "execution_count": 31,
   "metadata": {
    "colab": {},
    "colab_type": "code",
    "id": "FTWf6Cf-8Jme",
    "outputId": "1256b170-33dc-4171-f2ff-7a3d7ddd74e3"
   },
   "outputs": [
    {
     "data": {
      "image/png": "[encoded data removed]",
      "text/plain": [
       "<Figure size 432x288 with 1 Axes>"
      ]
     },
     "metadata": {
      "needs_background": "light"
     },
     "output_type": "display_data"
    }
   ],
   "source": [
    "plt.hist(y_hat)\n",
    "_ = plt.axvline(x=0.5, color='orange')"
   ]
  },
  {
   "cell_type": "code",
   "execution_count": 33,
   "metadata": {},
   "outputs": [
    {
     "name": "stdout",
     "output_type": "stream",
     "text": [
      "[0. 0. 0. 0. 0. 1.] [0. 0. 0. 0. 0. 1.] [0. 0. 0. 0. 0. 1.]\n"
     ]
    },
    {
     "data": {
      "text/plain": [
       "88.40333539221741"
      ]
     },
     "execution_count": 33,
     "metadata": {},
     "output_type": "execute_result"
    }
   ],
   "source": [
    "from sklearn.metrics import  accuracy_score as score\n",
    "y_pred_classes = y_hat.round()\n",
    "print(y_valid[0], y_hat[0], y_pred_classes[0])\n",
    "acc = score(y_valid, y_pred_classes) * 100\n",
    "acc"
   ]
  },
  {
   "cell_type": "code",
   "execution_count": 34,
   "metadata": {
    "colab": {},
    "colab_type": "code",
    "id": "RNljSx3v8Jmh"
   },
   "outputs": [],
   "source": [
    "pct_auc = roc_auc_score(y_valid, y_hat)*100.0"
   ]
  },
  {
   "cell_type": "code",
   "execution_count": 35,
   "metadata": {
    "colab": {},
    "colab_type": "code",
    "id": "SO_N9lJG8Jmj",
    "outputId": "20968a52-8ca0-44d3-abf6-a1382bba5cde"
   },
   "outputs": [
    {
     "data": {
      "text/plain": [
       "'92.76'"
      ]
     },
     "execution_count": 35,
     "metadata": {},
     "output_type": "execute_result"
    }
   ],
   "source": [
    "\"{:0.2f}\".format(pct_auc)"
   ]
  },
  {
   "cell_type": "code",
   "execution_count": 36,
   "metadata": {
    "colab": {},
    "colab_type": "code",
    "id": "vU3hnA298Jmo"
   },
   "outputs": [],
   "source": [
    "float_y_hat = []\n",
    "for y in y_hat:\n",
    "    float_y_hat.append(y[0:6].round(3))"
   ]
  },
  {
   "cell_type": "code",
   "execution_count": 37,
   "metadata": {
    "colab": {},
    "colab_type": "code",
    "id": "zrTf-aQl8Jmr"
   },
   "outputs": [],
   "source": [
    "ydf = pd.DataFrame(list(zip(float_y_hat, y_valid)), columns=['y_hat', 'y'])"
   ]
  },
  {
   "cell_type": "code",
   "execution_count": 38,
   "metadata": {
    "colab": {},
    "colab_type": "code",
    "id": "zAyKh_mX8Jmu",
    "outputId": "611224b8-f980-47df-d596-9aa3a5811009"
   },
   "outputs": [
    {
     "data": {
      "text/html": [
       "<div>\n",
       "<style scoped>\n",
       "    .dataframe tbody tr th:only-of-type {\n",
       "        vertical-align: middle;\n",
       "    }\n",
       "\n",
       "    .dataframe tbody tr th {\n",
       "        vertical-align: top;\n",
       "    }\n",
       "\n",
       "    .dataframe thead th {\n",
       "        text-align: right;\n",
       "    }\n",
       "</style>\n",
       "<table border=\"1\" class=\"dataframe\">\n",
       "  <thead>\n",
       "    <tr style=\"text-align: right;\">\n",
       "      <th></th>\n",
       "      <th>y_hat</th>\n",
       "      <th>y</th>\n",
       "    </tr>\n",
       "  </thead>\n",
       "  <tbody>\n",
       "    <tr>\n",
       "      <th>0</th>\n",
       "      <td>[0.0, 0.0, 0.0, 0.0, 0.0, 1.0]</td>\n",
       "      <td>[0.0, 0.0, 0.0, 0.0, 0.0, 1.0]</td>\n",
       "    </tr>\n",
       "    <tr>\n",
       "      <th>1</th>\n",
       "      <td>[0.0, 0.0, 1.0, 0.0, 0.0, 0.0]</td>\n",
       "      <td>[0.0, 0.0, 1.0, 0.0, 0.0, 0.0]</td>\n",
       "    </tr>\n",
       "    <tr>\n",
       "      <th>2</th>\n",
       "      <td>[0.0, 0.0, 1.0, 0.0, 0.0, 0.0]</td>\n",
       "      <td>[0.0, 1.0, 0.0, 0.0, 0.0, 0.0]</td>\n",
       "    </tr>\n",
       "    <tr>\n",
       "      <th>3</th>\n",
       "      <td>[1.0, 0.0, 0.0, 0.0, 0.0, 0.0]</td>\n",
       "      <td>[1.0, 0.0, 0.0, 0.0, 0.0, 0.0]</td>\n",
       "    </tr>\n",
       "    <tr>\n",
       "      <th>4</th>\n",
       "      <td>[0.0, 1.0, 0.0, 0.0, 0.0, 0.0]</td>\n",
       "      <td>[0.0, 1.0, 0.0, 0.0, 0.0, 0.0]</td>\n",
       "    </tr>\n",
       "    <tr>\n",
       "      <th>5</th>\n",
       "      <td>[1.0, 0.0, 0.0, 0.0, 0.0, 0.0]</td>\n",
       "      <td>[0.0, 0.0, 0.0, 0.0, 0.0, 1.0]</td>\n",
       "    </tr>\n",
       "    <tr>\n",
       "      <th>6</th>\n",
       "      <td>[0.0, 0.0, 0.0, 1.0, 0.0, 0.0]</td>\n",
       "      <td>[0.0, 0.0, 0.0, 1.0, 0.0, 0.0]</td>\n",
       "    </tr>\n",
       "    <tr>\n",
       "      <th>7</th>\n",
       "      <td>[0.0, 1.0, 0.0, 0.0, 0.0, 0.0]</td>\n",
       "      <td>[0.0, 1.0, 0.0, 0.0, 0.0, 0.0]</td>\n",
       "    </tr>\n",
       "    <tr>\n",
       "      <th>8</th>\n",
       "      <td>[1.0, 0.0, 0.0, 0.0, 0.0, 0.0]</td>\n",
       "      <td>[1.0, 0.0, 0.0, 0.0, 0.0, 0.0]</td>\n",
       "    </tr>\n",
       "    <tr>\n",
       "      <th>9</th>\n",
       "      <td>[0.0, 1.0, 0.0, 0.0, 0.0, 0.0]</td>\n",
       "      <td>[0.0, 1.0, 0.0, 0.0, 0.0, 0.0]</td>\n",
       "    </tr>\n",
       "  </tbody>\n",
       "</table>\n",
       "</div>"
      ],
      "text/plain": [
       "                            y_hat                               y\n",
       "0  [0.0, 0.0, 0.0, 0.0, 0.0, 1.0]  [0.0, 0.0, 0.0, 0.0, 0.0, 1.0]\n",
       "1  [0.0, 0.0, 1.0, 0.0, 0.0, 0.0]  [0.0, 0.0, 1.0, 0.0, 0.0, 0.0]\n",
       "2  [0.0, 0.0, 1.0, 0.0, 0.0, 0.0]  [0.0, 1.0, 0.0, 0.0, 0.0, 0.0]\n",
       "3  [1.0, 0.0, 0.0, 0.0, 0.0, 0.0]  [1.0, 0.0, 0.0, 0.0, 0.0, 0.0]\n",
       "4  [0.0, 1.0, 0.0, 0.0, 0.0, 0.0]  [0.0, 1.0, 0.0, 0.0, 0.0, 0.0]\n",
       "5  [1.0, 0.0, 0.0, 0.0, 0.0, 0.0]  [0.0, 0.0, 0.0, 0.0, 0.0, 1.0]\n",
       "6  [0.0, 0.0, 0.0, 1.0, 0.0, 0.0]  [0.0, 0.0, 0.0, 1.0, 0.0, 0.0]\n",
       "7  [0.0, 1.0, 0.0, 0.0, 0.0, 0.0]  [0.0, 1.0, 0.0, 0.0, 0.0, 0.0]\n",
       "8  [1.0, 0.0, 0.0, 0.0, 0.0, 0.0]  [1.0, 0.0, 0.0, 0.0, 0.0, 0.0]\n",
       "9  [0.0, 1.0, 0.0, 0.0, 0.0, 0.0]  [0.0, 1.0, 0.0, 0.0, 0.0, 0.0]"
      ]
     },
     "execution_count": 38,
     "metadata": {},
     "output_type": "execute_result"
    }
   ],
   "source": [
    "ydf.head(10)"
   ]
  },
  {
   "cell_type": "code",
   "execution_count": 48,
   "metadata": {},
   "outputs": [
    {
     "data": {
      "text/html": [
       "<div>\n",
       "<style scoped>\n",
       "    .dataframe tbody tr th:only-of-type {\n",
       "        vertical-align: middle;\n",
       "    }\n",
       "\n",
       "    .dataframe tbody tr th {\n",
       "        vertical-align: top;\n",
       "    }\n",
       "\n",
       "    .dataframe thead th {\n",
       "        text-align: right;\n",
       "    }\n",
       "</style>\n",
       "<table border=\"1\" class=\"dataframe\">\n",
       "  <thead>\n",
       "    <tr style=\"text-align: right;\">\n",
       "      <th></th>\n",
       "      <th>n_conv_1</th>\n",
       "      <th>k_conv_1</th>\n",
       "      <th>mean</th>\n",
       "      <th>std</th>\n",
       "    </tr>\n",
       "  </thead>\n",
       "  <tbody>\n",
       "    <tr>\n",
       "      <th>0</th>\n",
       "      <td>256</td>\n",
       "      <td>3</td>\n",
       "      <td>0.856103</td>\n",
       "      <td>0.009504</td>\n",
       "    </tr>\n",
       "    <tr>\n",
       "      <th>1</th>\n",
       "      <td>512</td>\n",
       "      <td>3</td>\n",
       "      <td>0.841175</td>\n",
       "      <td>0.006748</td>\n",
       "    </tr>\n",
       "    <tr>\n",
       "      <th>4</th>\n",
       "      <td>512</td>\n",
       "      <td>6</td>\n",
       "      <td>0.841038</td>\n",
       "      <td>0.016037</td>\n",
       "    </tr>\n",
       "    <tr>\n",
       "      <th>5</th>\n",
       "      <td>1024</td>\n",
       "      <td>6</td>\n",
       "      <td>0.834208</td>\n",
       "      <td>0.022568</td>\n",
       "    </tr>\n",
       "    <tr>\n",
       "      <th>8</th>\n",
       "      <td>1024</td>\n",
       "      <td>9</td>\n",
       "      <td>0.833145</td>\n",
       "      <td>0.015239</td>\n",
       "    </tr>\n",
       "    <tr>\n",
       "      <th>2</th>\n",
       "      <td>1024</td>\n",
       "      <td>3</td>\n",
       "      <td>0.831326</td>\n",
       "      <td>0.012370</td>\n",
       "    </tr>\n",
       "    <tr>\n",
       "      <th>6</th>\n",
       "      <td>256</td>\n",
       "      <td>9</td>\n",
       "      <td>0.826384</td>\n",
       "      <td>0.009073</td>\n",
       "    </tr>\n",
       "    <tr>\n",
       "      <th>7</th>\n",
       "      <td>512</td>\n",
       "      <td>9</td>\n",
       "      <td>0.808676</td>\n",
       "      <td>0.019014</td>\n",
       "    </tr>\n",
       "    <tr>\n",
       "      <th>3</th>\n",
       "      <td>256</td>\n",
       "      <td>6</td>\n",
       "      <td>0.785854</td>\n",
       "      <td>0.086530</td>\n",
       "    </tr>\n",
       "  </tbody>\n",
       "</table>\n",
       "</div>"
      ],
      "text/plain": [
       "   n_conv_1  k_conv_1      mean       std\n",
       "0       256         3  0.856103  0.009504\n",
       "1       512         3  0.841175  0.006748\n",
       "4       512         6  0.841038  0.016037\n",
       "5      1024         6  0.834208  0.022568\n",
       "8      1024         9  0.833145  0.015239\n",
       "2      1024         3  0.831326  0.012370\n",
       "6       256         9  0.826384  0.009073\n",
       "7       512         9  0.808676  0.019014\n",
       "3       256         6  0.785854  0.086530"
      ]
     },
     "execution_count": 48,
     "metadata": {},
     "output_type": "execute_result"
    }
   ],
   "source": [
    "results_df = pd.DataFrame(rscv_results.cv_results_['params'])\n",
    "results_df['mean'] = rscv_results.cv_results_['mean_test_score']\n",
    "results_df['std'] = rscv_results.cv_results_['std_test_score']\n",
    "results_df.sort_values('mean', ascending=False, ignore_index=False)"
   ]
  },
  {
   "cell_type": "code",
   "execution_count": null,
   "metadata": {},
   "outputs": [],
   "source": []
  }
 ],
 "metadata": {
  "colab": {
   "include_colab_link": true,
   "name": "dense_sentiment_classifier.ipynb",
   "provenance": []
  },
  "kernelspec": {
   "display_name": "Python 3",
   "language": "python",
   "name": "python3"
  },
  "language_info": {
   "codemirror_mode": {
    "name": "ipython",
    "version": 3
   },
   "file_extension": ".py",
   "mimetype": "text/x-python",
   "name": "python",
   "nbconvert_exporter": "python",
   "pygments_lexer": "ipython3",
   "version": "3.7.9"
  }
 },
 "nbformat": 4,
 "nbformat_minor": 1
}
