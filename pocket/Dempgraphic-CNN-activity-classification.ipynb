{
 "cells": [
  {
   "cell_type": "markdown",
   "metadata": {
    "colab_type": "text",
    "id": "view-in-github"
   },
   "source": [
    "<a href=\"\" target=\"_parent\"><img src=\"https://colab.research.google.com/assets/colab-badge.svg\" alt=\"Open In Colab\"/></a>"
   ]
  },
  {
   "cell_type": "markdown",
   "metadata": {
    "colab_type": "text",
    "id": "ahUZuAfz8Jje"
   },
   "source": [
    "# Activity Classifier"
   ]
  },
  {
   "cell_type": "markdown",
   "metadata": {
    "colab_type": "text",
    "id": "Re0ecmVI8Jjk"
   },
   "source": [
    "In this notebook, we build a dense neural net to classify PE activity. We use demographic data as well as the ecceleration data"
   ]
  },
  {
   "cell_type": "markdown",
   "metadata": {
    "colab_type": "text",
    "id": "ixsGb9tY8Jjm"
   },
   "source": [
    "#### Load dependencies"
   ]
  },
  {
   "cell_type": "code",
   "execution_count": 1,
   "metadata": {
    "colab": {},
    "colab_type": "code",
    "id": "5At1PKQp8Jjp"
   },
   "outputs": [],
   "source": [
    "import tensorflow\n",
    "from tensorflow.keras.utils import to_categorical\n",
    "from tensorflow.keras.models import Sequential, Model\n",
    "from tensorflow.keras.layers import Dense, Flatten, Dropout, Conv1D, GlobalMaxPooling1D, Concatenate , Input\n",
    "from tensorflow.keras.callbacks import ModelCheckpoint \n",
    "from sklearn.metrics import confusion_matrix\n",
    "import os \n",
    "from sklearn.metrics import roc_auc_score, roc_curve\n",
    "from sklearn.model_selection import train_test_split\n",
    "from sklearn.preprocessing import LabelBinarizer, StandardScaler\n",
    "import pandas as pd\n",
    "import numpy as np\n",
    "import matplotlib.pyplot as plt "
   ]
  },
  {
   "cell_type": "code",
   "execution_count": 2,
   "metadata": {
    "collapsed": true
   },
   "outputs": [
    {
     "name": "stdout",
     "output_type": "stream",
     "text": [
      "[name: \"/device:CPU:0\"\n",
      "device_type: \"CPU\"\n",
      "memory_limit: 268435456\n",
      "locality {\n",
      "}\n",
      "incarnation: 11646796726518184603\n",
      ", name: \"/device:XLA_CPU:0\"\n",
      "device_type: \"XLA_CPU\"\n",
      "memory_limit: 17179869184\n",
      "locality {\n",
      "}\n",
      "incarnation: 6826252619393838332\n",
      "physical_device_desc: \"device: XLA_CPU device\"\n",
      ", name: \"/device:GPU:0\"\n",
      "device_type: \"GPU\"\n",
      "memory_limit: 4022219571\n",
      "locality {\n",
      "  bus_id: 1\n",
      "  links {\n",
      "  }\n",
      "}\n",
      "incarnation: 3282568478252106823\n",
      "physical_device_desc: \"device: 0, name: Quadro P2000, pci bus id: 0000:01:00.0, compute capability: 6.1\"\n",
      ", name: \"/device:XLA_GPU:0\"\n",
      "device_type: \"XLA_GPU\"\n",
      "memory_limit: 17179869184\n",
      "locality {\n",
      "}\n",
      "incarnation: 11751506977302787113\n",
      "physical_device_desc: \"device: XLA_GPU device\"\n",
      "]\n",
      "# GPUs Available:  1\n"
     ]
    },
    {
     "data": {
      "text/plain": [
       "'2.3.1'"
      ]
     },
     "execution_count": 2,
     "metadata": {},
     "output_type": "execute_result"
    }
   ],
   "source": [
    "from tensorflow.python.client import device_lib\n",
    "\n",
    "print(device_lib.list_local_devices())\n",
    "import tensorflow as tf\n",
    "print(\"# GPUs Available: \", len(tf.config.experimental.list_physical_devices('GPU')))\n",
    "tensorflow.__version__"
   ]
  },
  {
   "cell_type": "markdown",
   "metadata": {
    "colab_type": "text",
    "id": "Hg5wX2Dd8Jjz"
   },
   "source": [
    "#### Set hyperparameters"
   ]
  },
  {
   "cell_type": "code",
   "execution_count": 4,
   "metadata": {
    "colab": {},
    "colab_type": "code",
    "id": "lYLOM99-8Jj2"
   },
   "outputs": [],
   "source": [
    "# output directory name:\n",
    "output_dir = 'model_output/demographic-cnn'\n",
    "input_dir =  'Z:/Research/dfuller/Walkabilly/studies/smarphone_accel/data/Ethica_Jaeger_Merged/pocket/'\n",
    "input_file_name = 'pocket-NN-data.npz'\n",
    "\n",
    "# from the data preparation section we have:\n",
    "window_size_second = 3\n",
    "frequency = 30\n",
    "lenght_of_each_seq = window_size_second * frequency\n",
    "\n",
    "\n",
    "\n",
    "\n",
    "# convolutional layer architecture:\n",
    "n_conv = 64\n",
    "k_conv = 3 \n",
    "\n",
    "# dense layer architecture: \n",
    "n_dense = 256\n",
    "dropout = 0.2\n",
    "\n",
    "# training:\n",
    "epochs = 30\n",
    "batch_size = 128\n"
   ]
  },
  {
   "cell_type": "markdown",
   "metadata": {
    "colab_type": "text",
    "id": "DaLx4yZ48Jj9"
   },
   "source": [
    "#### Load data"
   ]
  },
  {
   "cell_type": "markdown",
   "metadata": {
    "colab_type": "text",
    "id": "CD9X0yJg8Jj_"
   },
   "source": [
    "##### For this notebook we use the acceleration data gathered from the pocket location. It was prepared in the DataPrep-Deep notebook"
   ]
  },
  {
   "cell_type": "code",
   "execution_count": 5,
   "metadata": {
    "colab": {},
    "colab_type": "code",
    "id": "6r44JKj-8JkA"
   },
   "outputs": [
    {
     "name": "stdout",
     "output_type": "stream",
     "text": [
      "acceleration_data\n",
      "metadata\n",
      "labels\n"
     ]
    }
   ],
   "source": [
    "# read the raw file and get the keys:\n",
    "raw_data = np.load(file=input_dir+input_file_name,allow_pickle=True)\n",
    "for k in raw_data.keys():\n",
    "    print(k)"
   ]
  },
  {
   "cell_type": "code",
   "execution_count": 6,
   "metadata": {},
   "outputs": [],
   "source": [
    "# import the data\n",
    "\n",
    "accel_array = raw_data['acceleration_data']\n",
    "meta_array = raw_data['metadata']\n",
    "labels_array = raw_data['labels']\n",
    "accel_input_shape = list(accel_array.shape)\n",
    "meta_input_shape = list(meta_array.shape)\n"
   ]
  },
  {
   "cell_type": "markdown",
   "metadata": {
    "colab_type": "text",
    "id": "WWq3ipbu8JlG"
   },
   "source": [
    "#### Preprocess data"
   ]
  },
  {
   "cell_type": "markdown",
   "metadata": {},
   "source": [
    "### Data preparation \n",
    "1- Convert the  labels to integer.\n",
    "In the raw data format of the labels is String and there are 6 classes. 'Lying', 'Sitting', 'Self Pace walk', 'Running 3 METs',\n",
    "       'Running 5 METs', 'Running 7 METs' <br>\n",
    "\n",
    "2- Standardize the demographic data\n",
    "3- Split and shuffle\n",
    "\n"
   ]
  },
  {
   "cell_type": "code",
   "execution_count": 40,
   "metadata": {},
   "outputs": [],
   "source": [
    "lb = LabelBinarizer()\n",
    "y = lb.fit_transform(labels_array)\n",
    "n_class = len(lb.classes_)\n",
    "class_list = lb.classes_"
   ]
  },
  {
   "cell_type": "code",
   "execution_count": 15,
   "metadata": {},
   "outputs": [],
   "source": [
    "sc = StandardScaler()\n",
    "meta_array = sc.fit_transform(meta_array)"
   ]
  },
  {
   "cell_type": "code",
   "execution_count": 17,
   "metadata": {
    "colab": {},
    "colab_type": "code",
    "id": "f5grc2H78Jlz",
    "outputId": "3f7eeb55-f851-4796-de4e-0c68eb9df88d"
   },
   "outputs": [],
   "source": [
    "X_train_index, X_valid_index, y_train, y_valid = train_test_split(\n",
    "     (np.arange(len(accel_array))), y, test_size=0.1, random_state=65)\n",
    "X_accel_train = accel_array[X_train_index]\n",
    "X_accel_valid = accel_array[X_valid_index]\n",
    "X_meta_train = meta_array[X_train_index]\n",
    "X_meta_valid = meta_array[X_valid_index]\n"
   ]
  },
  {
   "cell_type": "markdown",
   "metadata": {
    "colab_type": "text",
    "collapsed": true,
    "id": "GscSnCpk8Jlm"
   },
   "source": [
    "\n",
    "\n",
    "\n",
    "#### Design neural network architecture using functional API"
   ]
  },
  {
   "cell_type": "code",
   "execution_count": 18,
   "metadata": {},
   "outputs": [
    {
     "name": "stdout",
     "output_type": "stream",
     "text": [
      "Model: \"biInput\"\n",
      "__________________________________________________________________________________________________\n",
      "Layer (type)                    Output Shape         Param #     Connected to                     \n",
      "==================================================================================================\n",
      "input_5 (InputLayer)            [(None, 90, 3)]      0                                            \n",
      "__________________________________________________________________________________________________\n",
      "conv1d_2 (Conv1D)               (None, 88, 64)       640         input_5[0][0]                    \n",
      "__________________________________________________________________________________________________\n",
      "input_6 (InputLayer)            [(None, 4)]          0                                            \n",
      "__________________________________________________________________________________________________\n",
      "global_max_pooling1d_2 (GlobalM (None, 64)           0           conv1d_2[0][0]                   \n",
      "__________________________________________________________________________________________________\n",
      "flatten_2 (Flatten)             (None, 4)            0           input_6[0][0]                    \n",
      "__________________________________________________________________________________________________\n",
      "concatenate_1 (Concatenate)     (None, 68)           0           global_max_pooling1d_2[0][0]     \n",
      "                                                                 flatten_2[0][0]                  \n",
      "__________________________________________________________________________________________________\n",
      "dense_2 (Dense)                 (None, 256)          17664       concatenate_1[0][0]              \n",
      "__________________________________________________________________________________________________\n",
      "dropout_2 (Dropout)             (None, 256)          0           dense_2[0][0]                    \n",
      "__________________________________________________________________________________________________\n",
      "dense_3 (Dense)                 (None, 256)          65792       dropout_2[0][0]                  \n",
      "__________________________________________________________________________________________________\n",
      "dropout_3 (Dropout)             (None, 256)          0           dense_3[0][0]                    \n",
      "__________________________________________________________________________________________________\n",
      "dense_4 (Dense)                 (None, 6)            1542        dropout_3[0][0]                  \n",
      "==================================================================================================\n",
      "Total params: 85,638\n",
      "Trainable params: 85,638\n",
      "Non-trainable params: 0\n",
      "__________________________________________________________________________________________________\n"
     ]
    }
   ],
   "source": [
    "accel_input = Input(shape=accel_input_shape[1:])\n",
    "meta_input = Input(shape=meta_input_shape[1:])\n",
    "x = Conv1D(n_conv, k_conv, activation='relu')(accel_input)\n",
    "x = GlobalMaxPooling1D()(x)\n",
    "meta_input_x = Flatten()(meta_input)\n",
    "x = Concatenate()([x,meta_input_x])\n",
    "x = Dense(n_dense, activation='relu')(x)\n",
    "x = Dropout(dropout)(x)\n",
    "x = Dense(n_dense, activation='relu')(x)\n",
    "x = Dropout(dropout)(x)\n",
    "output = Dense(n_class, activation='softmax')(x)\n",
    "model = Model(inputs=[accel_input, meta_input], outputs=output, name='biInput')\n",
    "model.summary()"
   ]
  },
  {
   "cell_type": "markdown",
   "metadata": {
    "colab_type": "text",
    "id": "JkbhJMox8Jl9"
   },
   "source": [
    "#### Configure model"
   ]
  },
  {
   "cell_type": "code",
   "execution_count": 19,
   "metadata": {
    "colab": {},
    "colab_type": "code",
    "id": "QodbQvQh8Jl_"
   },
   "outputs": [],
   "source": [
    "model.compile(loss='categorical_crossentropy', optimizer='nadam', metrics=['accuracy'])"
   ]
  },
  {
   "cell_type": "code",
   "execution_count": 20,
   "metadata": {
    "colab": {},
    "colab_type": "code",
    "id": "zHjvYe288JmE"
   },
   "outputs": [],
   "source": [
    "modelcheckpoint = ModelCheckpoint(filepath=output_dir+\n",
    "                                  \"/weights.{epoch:02d}.hdf5\")\n",
    "if not os.path.exists(output_dir):\n",
    "    os.makedirs(output_dir)"
   ]
  },
  {
   "cell_type": "markdown",
   "metadata": {
    "colab_type": "text",
    "id": "TEYpX7968JmL"
   },
   "source": [
    "#### Train!"
   ]
  },
  {
   "cell_type": "code",
   "execution_count": 21,
   "metadata": {
    "colab": {},
    "colab_type": "code",
    "id": "QaD1W7Ka8JmM",
    "outputId": "f0c30141-0962-48f6-a000-d136af50af79",
    "scrolled": true
   },
   "outputs": [
    {
     "name": "stdout",
     "output_type": "stream",
     "text": [
      "Epoch 1/30\n",
      "456/456 [==============================] - 2s 5ms/step - loss: 0.9140 - accuracy: 0.6479 - val_loss: 0.7007 - val_accuracy: 0.7386\n",
      "Epoch 2/30\n",
      "456/456 [==============================] - 2s 4ms/step - loss: 0.5622 - accuracy: 0.8097 - val_loss: 0.5382 - val_accuracy: 0.8145\n",
      "Epoch 3/30\n",
      "456/456 [==============================] - 2s 4ms/step - loss: 0.4531 - accuracy: 0.8525 - val_loss: 0.3549 - val_accuracy: 0.8941\n",
      "Epoch 4/30\n",
      "456/456 [==============================] - 2s 4ms/step - loss: 0.3929 - accuracy: 0.8724 - val_loss: 0.3065 - val_accuracy: 0.9060\n",
      "Epoch 5/30\n",
      "456/456 [==============================] - 2s 4ms/step - loss: 0.3533 - accuracy: 0.8876 - val_loss: 0.2750 - val_accuracy: 0.9146\n",
      "Epoch 6/30\n",
      "456/456 [==============================] - 2s 4ms/step - loss: 0.3251 - accuracy: 0.8985 - val_loss: 0.2624 - val_accuracy: 0.9174\n",
      "Epoch 7/30\n",
      "456/456 [==============================] - 2s 4ms/step - loss: 0.3000 - accuracy: 0.9057 - val_loss: 0.2628 - val_accuracy: 0.9154\n",
      "Epoch 8/30\n",
      "456/456 [==============================] - 2s 4ms/step - loss: 0.2866 - accuracy: 0.9101 - val_loss: 0.2424 - val_accuracy: 0.9239\n",
      "Epoch 9/30\n",
      "456/456 [==============================] - 2s 4ms/step - loss: 0.2681 - accuracy: 0.9160 - val_loss: 0.2204 - val_accuracy: 0.9257\n",
      "Epoch 10/30\n",
      "456/456 [==============================] - 2s 4ms/step - loss: 0.2537 - accuracy: 0.9201 - val_loss: 0.2063 - val_accuracy: 0.9379\n",
      "Epoch 11/30\n",
      "456/456 [==============================] - 2s 4ms/step - loss: 0.2451 - accuracy: 0.9232 - val_loss: 0.1939 - val_accuracy: 0.9392\n",
      "Epoch 12/30\n",
      "456/456 [==============================] - 2s 3ms/step - loss: 0.2349 - accuracy: 0.9267 - val_loss: 0.1944 - val_accuracy: 0.9409\n",
      "Epoch 13/30\n",
      "456/456 [==============================] - 2s 4ms/step - loss: 0.2252 - accuracy: 0.9295 - val_loss: 0.1795 - val_accuracy: 0.9438\n",
      "Epoch 14/30\n",
      "456/456 [==============================] - 2s 4ms/step - loss: 0.2181 - accuracy: 0.9316 - val_loss: 0.1806 - val_accuracy: 0.9433\n",
      "Epoch 15/30\n",
      "456/456 [==============================] - 2s 4ms/step - loss: 0.2104 - accuracy: 0.9331 - val_loss: 0.1976 - val_accuracy: 0.9342\n",
      "Epoch 16/30\n",
      "456/456 [==============================] - 2s 4ms/step - loss: 0.2064 - accuracy: 0.9345 - val_loss: 0.1724 - val_accuracy: 0.9453\n",
      "Epoch 17/30\n",
      "456/456 [==============================] - 2s 4ms/step - loss: 0.1991 - accuracy: 0.9364 - val_loss: 0.1686 - val_accuracy: 0.9483\n",
      "Epoch 18/30\n",
      "456/456 [==============================] - 2s 4ms/step - loss: 0.1949 - accuracy: 0.9386 - val_loss: 0.1608 - val_accuracy: 0.9497\n",
      "Epoch 19/30\n",
      "456/456 [==============================] - 2s 4ms/step - loss: 0.1912 - accuracy: 0.9389 - val_loss: 0.1568 - val_accuracy: 0.9495\n",
      "Epoch 20/30\n",
      "456/456 [==============================] - 2s 3ms/step - loss: 0.1849 - accuracy: 0.9414 - val_loss: 0.1591 - val_accuracy: 0.9483\n",
      "Epoch 21/30\n",
      "456/456 [==============================] - 2s 4ms/step - loss: 0.1799 - accuracy: 0.9423 - val_loss: 0.1521 - val_accuracy: 0.9531\n",
      "Epoch 22/30\n",
      "456/456 [==============================] - 2s 4ms/step - loss: 0.1786 - accuracy: 0.9428 - val_loss: 0.1592 - val_accuracy: 0.9490\n",
      "Epoch 23/30\n",
      "456/456 [==============================] - 2s 4ms/step - loss: 0.1743 - accuracy: 0.9441 - val_loss: 0.1605 - val_accuracy: 0.9518\n",
      "Epoch 24/30\n",
      "456/456 [==============================] - 2s 4ms/step - loss: 0.1695 - accuracy: 0.9452 - val_loss: 0.1475 - val_accuracy: 0.9531\n",
      "Epoch 25/30\n",
      "456/456 [==============================] - 2s 4ms/step - loss: 0.1639 - accuracy: 0.9470 - val_loss: 0.1515 - val_accuracy: 0.9523\n",
      "Epoch 26/30\n",
      "456/456 [==============================] - 2s 4ms/step - loss: 0.1654 - accuracy: 0.9464 - val_loss: 0.1471 - val_accuracy: 0.9526\n",
      "Epoch 27/30\n",
      "456/456 [==============================] - 2s 4ms/step - loss: 0.1611 - accuracy: 0.9472 - val_loss: 0.1423 - val_accuracy: 0.9571\n",
      "Epoch 28/30\n",
      "456/456 [==============================] - 2s 4ms/step - loss: 0.1586 - accuracy: 0.9489 - val_loss: 0.1428 - val_accuracy: 0.9557\n",
      "Epoch 29/30\n",
      "456/456 [==============================] - 2s 4ms/step - loss: 0.1528 - accuracy: 0.9499 - val_loss: 0.1424 - val_accuracy: 0.9582\n",
      "Epoch 30/30\n",
      "456/456 [==============================] - 2s 4ms/step - loss: 0.1534 - accuracy: 0.9513 - val_loss: 0.1389 - val_accuracy: 0.9551\n"
     ]
    },
    {
     "data": {
      "text/plain": [
       "<tensorflow.python.keras.callbacks.History at 0x26668f0e608>"
      ]
     },
     "execution_count": 21,
     "metadata": {},
     "output_type": "execute_result"
    }
   ],
   "source": [
    "model.fit(x=[X_accel_train, X_meta_train], y=y_train, \n",
    "         batch_size=batch_size, epochs=epochs, verbose=1, \n",
    "         validation_data=([X_accel_valid, X_meta_valid], y_valid), \n",
    "         )# callbacks=[modelcheckpoint])\n"
   ]
  },
  {
   "cell_type": "code",
   "execution_count": null,
   "metadata": {},
   "outputs": [],
   "source": [
    "# os.environ['TF_FORCE_GPU_ALLOW_GROWTH'] = 'true'\n"
   ]
  },
  {
   "cell_type": "markdown",
   "metadata": {
    "colab_type": "text",
    "id": "7PWlH5SJ8JmP"
   },
   "source": [
    "#### Evaluate"
   ]
  },
  {
   "cell_type": "code",
   "execution_count": 18,
   "metadata": {
    "colab": {},
    "colab_type": "code",
    "id": "z8t0nVCw8JmP"
   },
   "outputs": [],
   "source": [
    "# model.load_weights(output_dir+\"/weights.02.hdf5\") # NOT zero-indexed"
   ]
  },
  {
   "cell_type": "code",
   "execution_count": 23,
   "metadata": {
    "colab": {},
    "colab_type": "code",
    "id": "kZwGk5dR8JmS"
   },
   "outputs": [],
   "source": [
    "y_hat = model.predict([X_accel_valid, X_meta_valid])"
   ]
  },
  {
   "cell_type": "code",
   "execution_count": 24,
   "metadata": {
    "colab": {},
    "colab_type": "code",
    "id": "EPc5_h6K8JmW",
    "outputId": "cad99da9-9f89-437f-854b-a315616ed50f"
   },
   "outputs": [
    {
     "data": {
      "text/plain": [
       "6476"
      ]
     },
     "execution_count": 24,
     "metadata": {},
     "output_type": "execute_result"
    }
   ],
   "source": [
    "len(y_hat)"
   ]
  },
  {
   "cell_type": "code",
   "execution_count": 25,
   "metadata": {
    "colab": {},
    "colab_type": "code",
    "id": "E_GNq-R_8JmZ",
    "outputId": "0fc16efe-7739-4394-f1a3-46da92e79584"
   },
   "outputs": [
    {
     "data": {
      "text/plain": [
       "array([1.08567462e-03, 9.79828087e-07, 5.76863272e-07, 1.10021665e-05,\n",
       "       5.60071328e-07, 9.98901129e-01], dtype=float32)"
      ]
     },
     "execution_count": 25,
     "metadata": {},
     "output_type": "execute_result"
    }
   ],
   "source": [
    "y_hat[0]"
   ]
  },
  {
   "cell_type": "code",
   "execution_count": 26,
   "metadata": {
    "colab": {},
    "colab_type": "code",
    "id": "SFqRQ5XB8Jmc",
    "outputId": "a957fbed-92f8-4bdd-d24b-5df3361a8bac"
   },
   "outputs": [
    {
     "data": {
      "text/plain": [
       "array([0, 0, 0, 0, 0, 1])"
      ]
     },
     "execution_count": 26,
     "metadata": {},
     "output_type": "execute_result"
    }
   ],
   "source": [
    "y_valid[0]"
   ]
  },
  {
   "cell_type": "code",
   "execution_count": 27,
   "metadata": {
    "colab": {},
    "colab_type": "code",
    "id": "FTWf6Cf-8Jme",
    "outputId": "1256b170-33dc-4171-f2ff-7a3d7ddd74e3"
   },
   "outputs": [
    {
     "data": {
      "image/png": "[encoded data removed]",
      "text/plain": [
       "<Figure size 432x288 with 1 Axes>"
      ]
     },
     "metadata": {
      "needs_background": "light"
     },
     "output_type": "display_data"
    }
   ],
   "source": [
    "plt.hist(y_hat)\n",
    "_ = plt.axvline(x=0.5, color='orange')"
   ]
  },
  {
   "cell_type": "code",
   "execution_count": 28,
   "metadata": {
    "colab": {},
    "colab_type": "code",
    "id": "RNljSx3v8Jmh"
   },
   "outputs": [],
   "source": [
    "pct_auc = roc_auc_score(y_valid, y_hat)*100.0"
   ]
  },
  {
   "cell_type": "code",
   "execution_count": 29,
   "metadata": {
    "colab": {},
    "colab_type": "code",
    "id": "SO_N9lJG8Jmj",
    "outputId": "20968a52-8ca0-44d3-abf6-a1382bba5cde"
   },
   "outputs": [
    {
     "data": {
      "text/plain": [
       "'99.75'"
      ]
     },
     "execution_count": 29,
     "metadata": {},
     "output_type": "execute_result"
    }
   ],
   "source": [
    "\"{:0.2f}\".format(pct_auc)"
   ]
  },
  {
   "cell_type": "code",
   "execution_count": 30,
   "metadata": {
    "colab": {},
    "colab_type": "code",
    "id": "vU3hnA298Jmo"
   },
   "outputs": [],
   "source": [
    "float_y_hat = []\n",
    "for y in y_hat:\n",
    "    float_y_hat.append(y[0])"
   ]
  },
  {
   "cell_type": "code",
   "execution_count": 31,
   "metadata": {
    "colab": {},
    "colab_type": "code",
    "id": "zrTf-aQl8Jmr"
   },
   "outputs": [],
   "source": [
    "ydf = pd.DataFrame(list(zip(float_y_hat, y_valid)), columns=['y_hat', 'y'])"
   ]
  },
  {
   "cell_type": "code",
   "execution_count": 32,
   "metadata": {
    "colab": {},
    "colab_type": "code",
    "id": "zAyKh_mX8Jmu",
    "outputId": "611224b8-f980-47df-d596-9aa3a5811009"
   },
   "outputs": [
    {
     "data": {
      "text/html": [
       "<div>\n",
       "<style scoped>\n",
       "    .dataframe tbody tr th:only-of-type {\n",
       "        vertical-align: middle;\n",
       "    }\n",
       "\n",
       "    .dataframe tbody tr th {\n",
       "        vertical-align: top;\n",
       "    }\n",
       "\n",
       "    .dataframe thead th {\n",
       "        text-align: right;\n",
       "    }\n",
       "</style>\n",
       "<table border=\"1\" class=\"dataframe\">\n",
       "  <thead>\n",
       "    <tr style=\"text-align: right;\">\n",
       "      <th></th>\n",
       "      <th>y_hat</th>\n",
       "      <th>y</th>\n",
       "    </tr>\n",
       "  </thead>\n",
       "  <tbody>\n",
       "    <tr>\n",
       "      <th>0</th>\n",
       "      <td>1.085675e-03</td>\n",
       "      <td>[0, 0, 0, 0, 0, 1]</td>\n",
       "    </tr>\n",
       "    <tr>\n",
       "      <th>1</th>\n",
       "      <td>1.014361e-12</td>\n",
       "      <td>[0, 0, 1, 0, 0, 0]</td>\n",
       "    </tr>\n",
       "    <tr>\n",
       "      <th>2</th>\n",
       "      <td>1.571964e-03</td>\n",
       "      <td>[0, 1, 0, 0, 0, 0]</td>\n",
       "    </tr>\n",
       "    <tr>\n",
       "      <th>3</th>\n",
       "      <td>9.999239e-01</td>\n",
       "      <td>[1, 0, 0, 0, 0, 0]</td>\n",
       "    </tr>\n",
       "    <tr>\n",
       "      <th>4</th>\n",
       "      <td>1.908963e-03</td>\n",
       "      <td>[0, 1, 0, 0, 0, 0]</td>\n",
       "    </tr>\n",
       "    <tr>\n",
       "      <th>5</th>\n",
       "      <td>2.195980e-04</td>\n",
       "      <td>[0, 0, 0, 0, 0, 1]</td>\n",
       "    </tr>\n",
       "    <tr>\n",
       "      <th>6</th>\n",
       "      <td>6.065422e-06</td>\n",
       "      <td>[0, 0, 0, 1, 0, 0]</td>\n",
       "    </tr>\n",
       "    <tr>\n",
       "      <th>7</th>\n",
       "      <td>1.012328e-02</td>\n",
       "      <td>[0, 1, 0, 0, 0, 0]</td>\n",
       "    </tr>\n",
       "    <tr>\n",
       "      <th>8</th>\n",
       "      <td>9.998790e-01</td>\n",
       "      <td>[1, 0, 0, 0, 0, 0]</td>\n",
       "    </tr>\n",
       "    <tr>\n",
       "      <th>9</th>\n",
       "      <td>2.789147e-03</td>\n",
       "      <td>[0, 1, 0, 0, 0, 0]</td>\n",
       "    </tr>\n",
       "  </tbody>\n",
       "</table>\n",
       "</div>"
      ],
      "text/plain": [
       "          y_hat                   y\n",
       "0  1.085675e-03  [0, 0, 0, 0, 0, 1]\n",
       "1  1.014361e-12  [0, 0, 1, 0, 0, 0]\n",
       "2  1.571964e-03  [0, 1, 0, 0, 0, 0]\n",
       "3  9.999239e-01  [1, 0, 0, 0, 0, 0]\n",
       "4  1.908963e-03  [0, 1, 0, 0, 0, 0]\n",
       "5  2.195980e-04  [0, 0, 0, 0, 0, 1]\n",
       "6  6.065422e-06  [0, 0, 0, 1, 0, 0]\n",
       "7  1.012328e-02  [0, 1, 0, 0, 0, 0]\n",
       "8  9.998790e-01  [1, 0, 0, 0, 0, 0]\n",
       "9  2.789147e-03  [0, 1, 0, 0, 0, 0]"
      ]
     },
     "execution_count": 32,
     "metadata": {},
     "output_type": "execute_result"
    }
   ],
   "source": [
    "ydf.head(10)\n"
   ]
  },
  {
   "cell_type": "code",
   "execution_count": 33,
   "metadata": {},
   "outputs": [
    {
     "data": {
      "text/plain": [
       "array([[1.08567462e-03, 9.79828087e-07, 5.76863272e-07, 1.10021665e-05,\n",
       "        5.60071328e-07, 9.98901129e-01],\n",
       "       [1.01436123e-12, 2.95527193e-13, 9.99883771e-01, 1.16090232e-04,\n",
       "        1.42721125e-23, 1.00579825e-07],\n",
       "       [1.57196401e-03, 9.45379317e-01, 5.27410172e-02, 2.98061903e-04,\n",
       "        8.99877506e-08, 9.57882730e-06],\n",
       "       ...,\n",
       "       [7.32541608e-04, 7.65393605e-04, 3.37213773e-04, 3.06861009e-04,\n",
       "        4.94983688e-05, 9.97808516e-01],\n",
       "       [9.99810159e-01, 1.80489304e-10, 7.36931369e-08, 1.89810962e-04,\n",
       "        4.84277028e-11, 2.50737663e-13],\n",
       "       [9.99800384e-01, 1.42068940e-10, 7.26918969e-08, 1.99504881e-04,\n",
       "        3.58024548e-11, 2.15082130e-13]], dtype=float32)"
      ]
     },
     "execution_count": 33,
     "metadata": {},
     "output_type": "execute_result"
    }
   ],
   "source": [
    "# cf_matrix = confusion_matrix(y_valid, y_hat)\n",
    "# print(cf_matrix) # doesn't work coz we have probability not class\n",
    "y_hat"
   ]
  },
  {
   "cell_type": "code",
   "execution_count": 34,
   "metadata": {},
   "outputs": [],
   "source": [
    "# convert probability to class\n",
    "y_pred_class = np.argmax(y_hat, axis=1)\n",
    "y_class = np.argmax(y_valid, axis = 1)"
   ]
  },
  {
   "cell_type": "code",
   "execution_count": 41,
   "metadata": {},
   "outputs": [
    {
     "data": {
      "text/plain": [
       "array([[1360,   19,    3,    2,   20,   23],\n",
       "       [   0, 1023,   15,    1,   16,    9],\n",
       "       [   2,   17, 1077,    8,    7,    3],\n",
       "       [   2,    3,   29, 1038,    6,    9],\n",
       "       [   0,   47,    1,    1,  752,    4],\n",
       "       [  18,    6,    9,    2,    9,  935]], dtype=int64)"
      ]
     },
     "execution_count": 41,
     "metadata": {},
     "output_type": "execute_result"
    },
    {
     "data": {
      "image/png": "[encoded data removed]",
      "text/plain": [
       "<Figure size 432x288 with 2 Axes>"
      ]
     },
     "metadata": {
      "needs_background": "light"
     },
     "output_type": "display_data"
    }
   ],
   "source": [
    "cf_matrix = confusion_matrix(y_class, y_pred_class, labels=range(6))\n",
    "import seaborn as sns\n",
    "sns.heatmap(cf_matrix, annot=True, fmt = '1', xticklabels=class_list, yticklabels=class_list, cmap='ocean')\n",
    "cf_matrix"
   ]
  }
 ],
 "metadata": {
  "colab": {
   "include_colab_link": true,
   "name": "dense_sentiment_classifier.ipynb",
   "provenance": []
  },
  "kernelspec": {
   "display_name": "Python 3",
   "language": "python",
   "name": "python3"
  },
  "language_info": {
   "codemirror_mode": {
    "name": "ipython",
    "version": 3
   },
   "file_extension": ".py",
   "mimetype": "text/x-python",
   "name": "python",
   "nbconvert_exporter": "python",
   "pygments_lexer": "ipython3",
   "version": "3.7.9"
  }
 },
 "nbformat": 4,
 "nbformat_minor": 1
}
