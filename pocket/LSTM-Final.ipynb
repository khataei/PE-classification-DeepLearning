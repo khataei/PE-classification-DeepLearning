{
 "cells": [
  {
   "cell_type": "markdown",
   "metadata": {
    "colab_type": "text",
    "id": "ahUZuAfz8Jje"
   },
   "source": [
    "# Best LSTM classifier"
   ]
  },
  {
   "cell_type": "markdown",
   "metadata": {
    "colab_type": "text",
    "id": "Re0ecmVI8Jjk"
   },
   "source": [
    "This model created from the hyper parameters obtained from hyper parameter tuning with SKlearn."
   ]
  },
  {
   "cell_type": "markdown",
   "metadata": {
    "colab_type": "text",
    "id": "ixsGb9tY8Jjm"
   },
   "source": [
    "#### Load dependencies"
   ]
  },
  {
   "cell_type": "code",
   "execution_count": 1,
   "metadata": {
    "colab": {},
    "colab_type": "code",
    "id": "5At1PKQp8Jjp"
   },
   "outputs": [
    {
     "name": "stdout",
     "output_type": "stream",
     "text": [
      "TensorFlow version:  2.3.1\n"
     ]
    },
    {
     "data": {
      "text/plain": [
       "'2.3.0'"
      ]
     },
     "execution_count": 1,
     "metadata": {},
     "output_type": "execute_result"
    }
   ],
   "source": [
    "import os  \n",
    "import pandas as pd\n",
    "import numpy as np\n",
    "import matplotlib.pyplot as plt \n",
    "import seaborn as sns\n",
    "\n",
    "\n",
    "import tensorflow as tf\n",
    "from tensorflow.keras.utils import to_categorical\n",
    "from tensorflow.keras.models import Sequential\n",
    "from tensorflow.keras.layers import Dense, Flatten, Dropout, LSTM\n",
    "from tensorflow.keras.layers import LeakyReLU \n",
    "from tensorflow.keras.callbacks import ModelCheckpoint \n",
    "from tensorflow.keras.wrappers.scikit_learn import KerasClassifier\n",
    "\n",
    "from sklearn.metrics import roc_auc_score, roc_curve \n",
    "from sklearn.model_selection import train_test_split\n",
    "from sklearn.model_selection import RandomizedSearchCV\n",
    "from sklearn.metrics import confusion_matrix\n",
    "from sklearn.metrics import  accuracy_score as score\n",
    "from tensorflow.python.client import device_lib\n",
    "\n",
    "\n",
    "# Visiualization imports, Netron and tensorboard:\n",
    "import netron\n",
    "from datetime import datetime\n",
    "from packaging import version\n",
    "from tensorflow import keras\n",
    "\n",
    "print(\"TensorFlow version: \", tf.__version__)\n",
    "assert version.parse(tf.__version__).release[0] >= 2, \\\n",
    "    \"This notebook requires TensorFlow 2.0 or above.\"\n",
    "\n",
    "import tensorboard\n",
    "tensorboard.__version__\n"
   ]
  },
  {
   "cell_type": "code",
   "execution_count": 2,
   "metadata": {},
   "outputs": [],
   "source": [
    "# Try to get reproducable results\n",
    "from numpy.random import seed\n",
    "seed(85)\n",
    "from tensorflow.random import set_seed\n",
    "set_seed(75)"
   ]
  },
  {
   "cell_type": "markdown",
   "metadata": {
    "colab_type": "text",
    "id": "Hg5wX2Dd8Jjz"
   },
   "source": [
    "#### Set hyperparameters"
   ]
  },
  {
   "cell_type": "code",
   "execution_count": 3,
   "metadata": {
    "colab": {},
    "colab_type": "code",
    "id": "lYLOM99-8Jj2"
   },
   "outputs": [],
   "source": [
    "# output directory name:\n",
    "output_dir = 'output/LSTM-Final/'\n",
    "input_dir =  'Z:/Research/dfuller/Walkabilly/studies/smarphone_accel/data/Ethica_Jaeger_Merged/pocket/'\n",
    "input_file_name = 'pocket-NN-data.npz'\n",
    "\n",
    "# from the data preparation section we have:\n",
    "window_size_second = 3\n",
    "frequency = 30\n",
    "lenght_of_each_seq = window_size_second * frequency\n",
    "\n",
    "n_lstm_4 = 256\n",
    "n_lstm_3 = 256\n",
    "n_lstm_2 = 256\n",
    "n_lstm_1 = 128\n",
    "n_dense_2 = 512\n",
    "n_dense_1 = 512\n",
    "dropout_2 = 0.2\n",
    "dropout_1 = 0.3\n",
    "drop_lstm_4 = 0.02\n",
    "drop_lstm_3 = 0.1\n",
    "drop_lstm_2 = 0.02\n",
    "drop_lstm_1 = 0.02\n",
    "activation_dense = LeakyReLU()\n",
    "activation_conv = 'elu'\n",
    "\n",
    "# training:\n",
    "epochs = 120\n",
    "batch_size = 256\n"
   ]
  },
  {
   "cell_type": "markdown",
   "metadata": {
    "colab_type": "text",
    "id": "DaLx4yZ48Jj9"
   },
   "source": [
    "#### Load data"
   ]
  },
  {
   "cell_type": "markdown",
   "metadata": {
    "colab_type": "text",
    "id": "CD9X0yJg8Jj_"
   },
   "source": [
    "For this notebook we use only the **acceleration** data prepared in the DataPrep-Deep notebook."
   ]
  },
  {
   "cell_type": "code",
   "execution_count": 4,
   "metadata": {},
   "outputs": [],
   "source": [
    "# import the data\n",
    "raw_data = np.load(file=input_dir+input_file_name,allow_pickle=True)\n",
    "accel_array = raw_data['acceleration_data']\n",
    "meta_array = raw_data['metadata']\n",
    "labels_array = raw_data['labels']\n"
   ]
  },
  {
   "cell_type": "markdown",
   "metadata": {
    "colab_type": "text",
    "id": "WWq3ipbu8JlG"
   },
   "source": [
    "#### Preprocess data"
   ]
  },
  {
   "cell_type": "markdown",
   "metadata": {},
   "source": [
    "#### Convert the  labels to integer.\n",
    "In the raw data format of the labels is String and there are 6 classes. 'Lying', 'Sitting', 'Self Pace walk', 'Running 3 METs',\n",
    "       'Running 5 METs', 'Running 7 METs' <br>\n",
    "\n",
    "\n"
   ]
  },
  {
   "cell_type": "code",
   "execution_count": 5,
   "metadata": {
    "colab": {},
    "colab_type": "code",
    "id": "LyReiequ8Jln"
   },
   "outputs": [
    {
     "name": "stdout",
     "output_type": "stream",
     "text": [
      "The are 6 classes: ['Lying' 'Running 3 METs' 'Running 5 METs' 'Running 7 METs'\n",
      " 'Self Pace walk' 'Sitting']\n"
     ]
    }
   ],
   "source": [
    "# change from string to integer so keras.to_categorical can consume it\n",
    "\n",
    "# could do with factorize method as well\n",
    "n_class = len(np.unique(labels_array))\n",
    "class_list, labels_array_int = np.unique(labels_array,return_inverse=True)\n",
    "print(f'The are {len(class_list)} classes: {class_list}')"
   ]
  },
  {
   "cell_type": "markdown",
   "metadata": {},
   "source": [
    "#### Convert to categorical values"
   ]
  },
  {
   "cell_type": "code",
   "execution_count": 6,
   "metadata": {},
   "outputs": [],
   "source": [
    "# labels to categorical\n",
    "\n",
    "y = to_categorical(labels_array_int, num_classes=n_class)\n",
    "input_shape = list(accel_array.shape)"
   ]
  },
  {
   "cell_type": "markdown",
   "metadata": {
    "colab_type": "text",
    "collapsed": true,
    "id": "GscSnCpk8Jlm"
   },
   "source": [
    "\n",
    "#### Design neural network architecture"
   ]
  },
  {
   "cell_type": "code",
   "execution_count": 7,
   "metadata": {},
   "outputs": [],
   "source": [
    "# The best lstm model!\n",
    "\n",
    "model = Sequential()\n",
    "# LSTM layers\n",
    "model.add(LSTM(n_lstm_1, dropout=drop_lstm_1, \n",
    "                         return_sequences=True, input_shape=input_shape[1:])) \n",
    "model.add(LSTM(n_lstm_2, dropout=drop_lstm_2, \n",
    "                         return_sequences=True))\n",
    "model.add(LSTM(n_lstm_3, dropout=drop_lstm_3, \n",
    "                         return_sequences=True)) \n",
    "model.add(LSTM(n_lstm_4, dropout=drop_lstm_4, \n",
    "                         return_sequences=True))\n",
    "\n",
    "# Dense layers\n",
    "model.add(Flatten())\n",
    "model.add(Dense(n_dense_1, activation=activation_dense))\n",
    "model.add(Dropout(dropout_1))\n",
    "model.add(Dense(n_dense_2, activation=activation_dense))\n",
    "model.add(Dropout(dropout_2))\n",
    "model.add(Dense(n_class, activation='softmax'))\n",
    "\n",
    "model.compile(loss='categorical_crossentropy', optimizer='adam', metrics=['accuracy'])"
   ]
  },
  {
   "cell_type": "code",
   "execution_count": 8,
   "metadata": {
    "colab": {},
    "colab_type": "code",
    "id": "3nx7eGkg8Jlr",
    "outputId": "76af5145-5c7d-45c1-f292-e9f68a0907a9"
   },
   "outputs": [
    {
     "name": "stdout",
     "output_type": "stream",
     "text": [
      "Model: \"sequential\"\n",
      "_________________________________________________________________\n",
      "Layer (type)                 Output Shape              Param #   \n",
      "=================================================================\n",
      "lstm (LSTM)                  (None, 90, 128)           67584     \n",
      "_________________________________________________________________\n",
      "lstm_1 (LSTM)                (None, 90, 256)           394240    \n",
      "_________________________________________________________________\n",
      "lstm_2 (LSTM)                (None, 90, 256)           525312    \n",
      "_________________________________________________________________\n",
      "lstm_3 (LSTM)                (None, 90, 256)           525312    \n",
      "_________________________________________________________________\n",
      "flatten (Flatten)            (None, 23040)             0         \n",
      "_________________________________________________________________\n",
      "dense (Dense)                (None, 512)               11796992  \n",
      "_________________________________________________________________\n",
      "dropout (Dropout)            (None, 512)               0         \n",
      "_________________________________________________________________\n",
      "dense_1 (Dense)              (None, 512)               262656    \n",
      "_________________________________________________________________\n",
      "dropout_1 (Dropout)          (None, 512)               0         \n",
      "_________________________________________________________________\n",
      "dense_2 (Dense)              (None, 6)                 3078      \n",
      "=================================================================\n",
      "Total params: 13,575,174\n",
      "Trainable params: 13,575,174\n",
      "Non-trainable params: 0\n",
      "_________________________________________________________________\n"
     ]
    }
   ],
   "source": [
    "model.summary()"
   ]
  },
  {
   "cell_type": "markdown",
   "metadata": {
    "colab": {},
    "colab_type": "code",
    "id": "40x3s0KY8Jlv",
    "outputId": "d3ac3e31-3c47-4b01-c2f9-ada0684b31b7"
   },
   "source": [
    "### Splitting and shuffeling the data"
   ]
  },
  {
   "cell_type": "code",
   "execution_count": 9,
   "metadata": {
    "colab": {},
    "colab_type": "code",
    "id": "f5grc2H78Jlz",
    "outputId": "3f7eeb55-f851-4796-de4e-0c68eb9df88d"
   },
   "outputs": [],
   "source": [
    "# split and shuffle\n",
    "x_train, x_valid, y_train, y_valid = train_test_split(\n",
    "     accel_array, y, test_size=0.1, random_state=65)"
   ]
  },
  {
   "cell_type": "markdown",
   "metadata": {
    "colab_type": "text",
    "id": "JkbhJMox8Jl9"
   },
   "source": [
    "#### Prepare to save each epoch\n",
    "The weights and a log for tensorboard are saved. Later we load back the best model"
   ]
  },
  {
   "cell_type": "code",
   "execution_count": 10,
   "metadata": {
    "colab": {},
    "colab_type": "code",
    "id": "zHjvYe288JmE"
   },
   "outputs": [],
   "source": [
    "modelcheckpoint = ModelCheckpoint(filepath=output_dir+\n",
    "                                  \"/weights.{epoch:02d}.hdf5\")\n",
    "\n",
    "# Define the Keras TensorBoard callback.\n",
    "logdir=  \"logs/fit/\" + datetime.now().strftime(\"%Y%m%d-%H%M%S\")\n",
    "tensorboard_callback = keras.callbacks.TensorBoard(log_dir=logdir)\n"
   ]
  },
  {
   "cell_type": "markdown",
   "metadata": {},
   "source": [
    "#### Create a folder to save each epoch of training"
   ]
  },
  {
   "cell_type": "code",
   "execution_count": 11,
   "metadata": {
    "colab": {},
    "colab_type": "code",
    "id": "esUwodZA8JmI"
   },
   "outputs": [],
   "source": [
    "if not os.path.exists(output_dir):\n",
    "    os.makedirs(output_dir)"
   ]
  },
  {
   "cell_type": "code",
   "execution_count": 12,
   "metadata": {},
   "outputs": [
    {
     "data": {
      "text/plain": [
       "((58278, 90, 3), (58278, 6), (6476, 90, 3), (6476, 6))"
      ]
     },
     "execution_count": 12,
     "metadata": {},
     "output_type": "execute_result"
    }
   ],
   "source": [
    "x_train.shape, y_train.shape, x_valid.shape, y_valid.shape"
   ]
  },
  {
   "cell_type": "markdown",
   "metadata": {
    "colab_type": "text",
    "id": "TEYpX7968JmL"
   },
   "source": [
    "#### Train!"
   ]
  },
  {
   "cell_type": "code",
   "execution_count": 13,
   "metadata": {
    "colab": {},
    "colab_type": "code",
    "id": "QaD1W7Ka8JmM",
    "outputId": "f0c30141-0962-48f6-a000-d136af50af79",
    "scrolled": true
   },
   "outputs": [
    {
     "name": "stdout",
     "output_type": "stream",
     "text": [
      "Epoch 1/120\n",
      "  1/228 [..............................] - ETA: 5s - loss: 1.7909 - accuracy: 0.1367WARNING:tensorflow:From C:\\Users\\dfuller\\AppData\\Local\\Continuum\\anaconda3\\envs\\tf-gpu\\lib\\site-packages\\tensorflow\\python\\ops\\summary_ops_v2.py:1277: stop (from tensorflow.python.eager.profiler) is deprecated and will be removed after 2020-07-01.\n",
      "Instructions for updating:\n",
      "use `tf.profiler.experimental.stop` instead.\n",
      "  2/228 [..............................] - ETA: 29s - loss: 1.8599 - accuracy: 0.1816WARNING:tensorflow:Callbacks method `on_train_batch_end` is slow compared to the batch time (batch time: 0.0768s vs `on_train_batch_end` time: 0.1565s). Check your callbacks.\n",
      "228/228 [==============================] - 36s 160ms/step - loss: 1.1917 - accuracy: 0.4935 - val_loss: 0.9359 - val_accuracy: 0.6099\n",
      "Epoch 2/120\n",
      "228/228 [==============================] - 36s 157ms/step - loss: 0.8317 - accuracy: 0.6512 - val_loss: 0.6811 - val_accuracy: 0.7228\n",
      "Epoch 3/120\n",
      "228/228 [==============================] - 36s 159ms/step - loss: 0.6554 - accuracy: 0.7279 - val_loss: 0.5946 - val_accuracy: 0.7596\n",
      "Epoch 4/120\n",
      "228/228 [==============================] - 36s 156ms/step - loss: 0.5481 - accuracy: 0.7745 - val_loss: 0.4854 - val_accuracy: 0.8074\n",
      "Epoch 5/120\n",
      "228/228 [==============================] - 36s 157ms/step - loss: 0.4898 - accuracy: 0.8051 - val_loss: 0.4334 - val_accuracy: 0.8354\n",
      "Epoch 6/120\n",
      "228/228 [==============================] - 36s 158ms/step - loss: 0.4382 - accuracy: 0.8294 - val_loss: 0.3699 - val_accuracy: 0.8541\n",
      "Epoch 7/120\n",
      "228/228 [==============================] - 36s 158ms/step - loss: 0.4059 - accuracy: 0.8406 - val_loss: 0.3932 - val_accuracy: 0.8457\n",
      "Epoch 8/120\n",
      "228/228 [==============================] - 36s 158ms/step - loss: 0.3726 - accuracy: 0.8553 - val_loss: 0.3660 - val_accuracy: 0.8683\n",
      "Epoch 9/120\n",
      "228/228 [==============================] - 36s 158ms/step - loss: 0.3541 - accuracy: 0.8614 - val_loss: 0.3562 - val_accuracy: 0.8616\n",
      "Epoch 10/120\n",
      "228/228 [==============================] - 36s 159ms/step - loss: 0.3345 - accuracy: 0.8703 - val_loss: 0.3283 - val_accuracy: 0.8672\n",
      "Epoch 11/120\n",
      "228/228 [==============================] - 36s 158ms/step - loss: 0.3178 - accuracy: 0.8777 - val_loss: 0.3013 - val_accuracy: 0.8820\n",
      "Epoch 12/120\n",
      "228/228 [==============================] - 36s 159ms/step - loss: 0.3020 - accuracy: 0.8824 - val_loss: 0.3229 - val_accuracy: 0.8834\n",
      "Epoch 13/120\n",
      "228/228 [==============================] - 36s 159ms/step - loss: 0.2851 - accuracy: 0.8894 - val_loss: 0.2669 - val_accuracy: 0.8985\n",
      "Epoch 14/120\n",
      "228/228 [==============================] - 36s 158ms/step - loss: 0.2854 - accuracy: 0.8908 - val_loss: 0.3046 - val_accuracy: 0.8882\n",
      "Epoch 15/120\n",
      "228/228 [==============================] - 36s 159ms/step - loss: 0.2667 - accuracy: 0.8970 - val_loss: 0.2814 - val_accuracy: 0.8897\n",
      "Epoch 16/120\n",
      "228/228 [==============================] - 36s 159ms/step - loss: 0.2596 - accuracy: 0.9018 - val_loss: 0.2611 - val_accuracy: 0.9026\n",
      "Epoch 17/120\n",
      "228/228 [==============================] - 36s 159ms/step - loss: 0.2454 - accuracy: 0.9058 - val_loss: 0.2471 - val_accuracy: 0.9131\n",
      "Epoch 18/120\n",
      "228/228 [==============================] - 36s 159ms/step - loss: 0.2343 - accuracy: 0.9089 - val_loss: 0.2654 - val_accuracy: 0.9075\n",
      "Epoch 19/120\n",
      "228/228 [==============================] - 36s 159ms/step - loss: 0.2210 - accuracy: 0.9154 - val_loss: 0.2574 - val_accuracy: 0.9094\n",
      "Epoch 20/120\n",
      "228/228 [==============================] - 36s 159ms/step - loss: 0.2164 - accuracy: 0.9172 - val_loss: 0.2580 - val_accuracy: 0.9067\n",
      "Epoch 21/120\n",
      "228/228 [==============================] - 36s 159ms/step - loss: 0.2076 - accuracy: 0.9194 - val_loss: 0.2383 - val_accuracy: 0.9180\n",
      "Epoch 22/120\n",
      "228/228 [==============================] - 36s 159ms/step - loss: 0.1951 - accuracy: 0.9245 - val_loss: 0.2523 - val_accuracy: 0.9121\n",
      "Epoch 23/120\n",
      "228/228 [==============================] - 36s 159ms/step - loss: 0.1984 - accuracy: 0.9236 - val_loss: 0.2458 - val_accuracy: 0.9134\n",
      "Epoch 24/120\n",
      "228/228 [==============================] - 36s 159ms/step - loss: 0.1869 - accuracy: 0.9284 - val_loss: 0.2499 - val_accuracy: 0.9109\n",
      "Epoch 25/120\n",
      "228/228 [==============================] - 36s 159ms/step - loss: 0.1829 - accuracy: 0.9299 - val_loss: 0.2344 - val_accuracy: 0.9158\n",
      "Epoch 26/120\n",
      "228/228 [==============================] - 36s 159ms/step - loss: 0.1746 - accuracy: 0.9321 - val_loss: 0.2459 - val_accuracy: 0.9140\n",
      "Epoch 27/120\n",
      "228/228 [==============================] - 36s 159ms/step - loss: 0.1746 - accuracy: 0.9331 - val_loss: 0.2258 - val_accuracy: 0.9251\n",
      "Epoch 28/120\n",
      "228/228 [==============================] - 36s 159ms/step - loss: 0.1627 - accuracy: 0.9371 - val_loss: 0.2199 - val_accuracy: 0.9260\n",
      "Epoch 29/120\n",
      "228/228 [==============================] - 36s 159ms/step - loss: 0.1579 - accuracy: 0.9380 - val_loss: 0.2156 - val_accuracy: 0.9291\n",
      "Epoch 30/120\n",
      "228/228 [==============================] - 36s 159ms/step - loss: 0.1579 - accuracy: 0.9387 - val_loss: 0.2161 - val_accuracy: 0.9290\n",
      "Epoch 31/120\n",
      "228/228 [==============================] - 36s 159ms/step - loss: 0.1480 - accuracy: 0.9426 - val_loss: 0.2191 - val_accuracy: 0.9333\n",
      "Epoch 32/120\n",
      "228/228 [==============================] - 36s 159ms/step - loss: 0.1486 - accuracy: 0.9422 - val_loss: 0.2177 - val_accuracy: 0.9231\n",
      "Epoch 33/120\n",
      "228/228 [==============================] - 36s 159ms/step - loss: 0.1458 - accuracy: 0.9430 - val_loss: 0.2287 - val_accuracy: 0.9300\n",
      "Epoch 34/120\n",
      "228/228 [==============================] - 36s 159ms/step - loss: 0.1424 - accuracy: 0.9439 - val_loss: 0.2322 - val_accuracy: 0.9265\n",
      "Epoch 35/120\n",
      "228/228 [==============================] - 36s 159ms/step - loss: 0.1394 - accuracy: 0.9462 - val_loss: 0.2261 - val_accuracy: 0.9279\n",
      "Epoch 36/120\n",
      "228/228 [==============================] - 36s 159ms/step - loss: 0.1357 - accuracy: 0.9465 - val_loss: 0.2628 - val_accuracy: 0.9166\n",
      "Epoch 37/120\n",
      "228/228 [==============================] - 36s 159ms/step - loss: 0.1298 - accuracy: 0.9487 - val_loss: 0.2417 - val_accuracy: 0.9330\n",
      "Epoch 38/120\n",
      "228/228 [==============================] - 36s 159ms/step - loss: 0.1296 - accuracy: 0.9486 - val_loss: 0.2310 - val_accuracy: 0.9325\n",
      "Epoch 39/120\n",
      "228/228 [==============================] - 36s 159ms/step - loss: 0.1307 - accuracy: 0.9497 - val_loss: 0.2402 - val_accuracy: 0.9243\n",
      "Epoch 40/120\n",
      "228/228 [==============================] - 36s 159ms/step - loss: 0.1221 - accuracy: 0.9518 - val_loss: 0.2501 - val_accuracy: 0.9325\n",
      "Epoch 41/120\n",
      "228/228 [==============================] - 36s 159ms/step - loss: 0.1203 - accuracy: 0.9535 - val_loss: 0.2427 - val_accuracy: 0.9322\n",
      "Epoch 42/120\n",
      "228/228 [==============================] - 36s 159ms/step - loss: 0.1240 - accuracy: 0.9519 - val_loss: 0.2267 - val_accuracy: 0.9338\n",
      "Epoch 43/120\n",
      "228/228 [==============================] - 36s 159ms/step - loss: 0.1131 - accuracy: 0.9549 - val_loss: 0.2322 - val_accuracy: 0.9290\n",
      "Epoch 44/120\n",
      "228/228 [==============================] - 36s 159ms/step - loss: 0.1162 - accuracy: 0.9538 - val_loss: 0.2358 - val_accuracy: 0.9311\n",
      "Epoch 45/120\n",
      "228/228 [==============================] - 36s 159ms/step - loss: 0.1100 - accuracy: 0.9565 - val_loss: 0.2229 - val_accuracy: 0.9365\n",
      "Epoch 46/120\n",
      "228/228 [==============================] - 36s 159ms/step - loss: 0.1115 - accuracy: 0.9556 - val_loss: 0.2310 - val_accuracy: 0.9362\n",
      "Epoch 47/120\n",
      "228/228 [==============================] - 36s 159ms/step - loss: 0.1021 - accuracy: 0.9595 - val_loss: 0.2359 - val_accuracy: 0.9368\n",
      "Epoch 48/120\n",
      "228/228 [==============================] - 36s 159ms/step - loss: 0.1019 - accuracy: 0.9596 - val_loss: 0.2510 - val_accuracy: 0.9324\n",
      "Epoch 49/120\n",
      "228/228 [==============================] - 36s 159ms/step - loss: 0.1040 - accuracy: 0.9586 - val_loss: 0.2488 - val_accuracy: 0.9353\n",
      "Epoch 50/120\n",
      "228/228 [==============================] - 36s 159ms/step - loss: 0.0991 - accuracy: 0.9617 - val_loss: 0.2414 - val_accuracy: 0.9426\n",
      "Epoch 51/120\n",
      "228/228 [==============================] - 36s 159ms/step - loss: 0.1011 - accuracy: 0.9603 - val_loss: 0.2378 - val_accuracy: 0.9370\n",
      "Epoch 52/120\n"
     ]
    },
    {
     "name": "stdout",
     "output_type": "stream",
     "text": [
      "228/228 [==============================] - 36s 158ms/step - loss: 0.1036 - accuracy: 0.9590 - val_loss: 0.2585 - val_accuracy: 0.9333\n",
      "Epoch 53/120\n",
      "228/228 [==============================] - 36s 158ms/step - loss: 0.1032 - accuracy: 0.9594 - val_loss: 0.2435 - val_accuracy: 0.9345\n",
      "Epoch 54/120\n",
      "228/228 [==============================] - 36s 158ms/step - loss: 0.0957 - accuracy: 0.9623 - val_loss: 0.2435 - val_accuracy: 0.9384\n",
      "Epoch 55/120\n",
      "228/228 [==============================] - 36s 159ms/step - loss: 0.0944 - accuracy: 0.9621 - val_loss: 0.2370 - val_accuracy: 0.9384\n",
      "Epoch 56/120\n",
      "228/228 [==============================] - 36s 159ms/step - loss: 0.0946 - accuracy: 0.9632 - val_loss: 0.2409 - val_accuracy: 0.9446\n",
      "Epoch 57/120\n",
      "228/228 [==============================] - 36s 159ms/step - loss: 0.0934 - accuracy: 0.9634 - val_loss: 0.2349 - val_accuracy: 0.9432\n",
      "Epoch 58/120\n",
      "228/228 [==============================] - 36s 159ms/step - loss: 0.0950 - accuracy: 0.9631 - val_loss: 0.2529 - val_accuracy: 0.9313\n",
      "Epoch 59/120\n",
      "228/228 [==============================] - 36s 159ms/step - loss: 0.0917 - accuracy: 0.9632 - val_loss: 0.2703 - val_accuracy: 0.9339\n",
      "Epoch 60/120\n",
      "228/228 [==============================] - 36s 159ms/step - loss: 0.0856 - accuracy: 0.9658 - val_loss: 0.2333 - val_accuracy: 0.9422\n",
      "Epoch 61/120\n",
      "228/228 [==============================] - 36s 159ms/step - loss: 0.0919 - accuracy: 0.9639 - val_loss: 0.2480 - val_accuracy: 0.9419\n",
      "Epoch 62/120\n",
      "228/228 [==============================] - 36s 159ms/step - loss: 0.0865 - accuracy: 0.9652 - val_loss: 0.2327 - val_accuracy: 0.9446\n",
      "Epoch 63/120\n",
      "228/228 [==============================] - 36s 159ms/step - loss: 0.0866 - accuracy: 0.9659 - val_loss: 0.2537 - val_accuracy: 0.9452\n",
      "Epoch 64/120\n",
      "228/228 [==============================] - 36s 158ms/step - loss: 0.0845 - accuracy: 0.9666 - val_loss: 0.2713 - val_accuracy: 0.9429\n",
      "Epoch 65/120\n",
      "228/228 [==============================] - 36s 158ms/step - loss: 0.0815 - accuracy: 0.9672 - val_loss: 0.2517 - val_accuracy: 0.9452\n",
      "Epoch 66/120\n",
      "228/228 [==============================] - 36s 158ms/step - loss: 0.0899 - accuracy: 0.9656 - val_loss: 0.2633 - val_accuracy: 0.9387\n",
      "Epoch 67/120\n",
      "228/228 [==============================] - 36s 159ms/step - loss: 0.0842 - accuracy: 0.9674 - val_loss: 0.2566 - val_accuracy: 0.9395\n",
      "Epoch 68/120\n",
      "228/228 [==============================] - 36s 159ms/step - loss: 0.0792 - accuracy: 0.9690 - val_loss: 0.2504 - val_accuracy: 0.9446\n",
      "Epoch 69/120\n",
      "228/228 [==============================] - 36s 158ms/step - loss: 0.0821 - accuracy: 0.9675 - val_loss: 0.2629 - val_accuracy: 0.9426\n",
      "Epoch 70/120\n",
      "228/228 [==============================] - 36s 158ms/step - loss: 0.0773 - accuracy: 0.9693 - val_loss: 0.2467 - val_accuracy: 0.9433\n",
      "Epoch 71/120\n",
      "228/228 [==============================] - 36s 158ms/step - loss: 0.0749 - accuracy: 0.9695 - val_loss: 0.2403 - val_accuracy: 0.9405\n",
      "Epoch 72/120\n",
      "228/228 [==============================] - 36s 158ms/step - loss: 0.0798 - accuracy: 0.9685 - val_loss: 0.2694 - val_accuracy: 0.9407\n",
      "Epoch 73/120\n",
      "228/228 [==============================] - 36s 159ms/step - loss: 0.0780 - accuracy: 0.9690 - val_loss: 0.2695 - val_accuracy: 0.9392\n",
      "Epoch 74/120\n",
      "228/228 [==============================] - 36s 158ms/step - loss: 0.0779 - accuracy: 0.9691 - val_loss: 0.2534 - val_accuracy: 0.9447\n",
      "Epoch 75/120\n",
      "228/228 [==============================] - 36s 159ms/step - loss: 0.0791 - accuracy: 0.9682 - val_loss: 0.2541 - val_accuracy: 0.9478\n",
      "Epoch 76/120\n",
      "228/228 [==============================] - 36s 159ms/step - loss: 0.0749 - accuracy: 0.9704 - val_loss: 0.2561 - val_accuracy: 0.9419\n",
      "Epoch 77/120\n",
      "228/228 [==============================] - 36s 159ms/step - loss: 0.0716 - accuracy: 0.9715 - val_loss: 0.2615 - val_accuracy: 0.9427\n",
      "Epoch 78/120\n",
      "228/228 [==============================] - 36s 159ms/step - loss: 0.0704 - accuracy: 0.9729 - val_loss: 0.2461 - val_accuracy: 0.9478\n",
      "Epoch 79/120\n",
      "228/228 [==============================] - 36s 158ms/step - loss: 0.0778 - accuracy: 0.9701 - val_loss: 0.2565 - val_accuracy: 0.9458\n",
      "Epoch 80/120\n",
      "228/228 [==============================] - 36s 158ms/step - loss: 0.0689 - accuracy: 0.9732 - val_loss: 0.2676 - val_accuracy: 0.9446\n",
      "Epoch 81/120\n",
      "228/228 [==============================] - 36s 158ms/step - loss: 0.0700 - accuracy: 0.9719 - val_loss: 0.2500 - val_accuracy: 0.9461\n",
      "Epoch 82/120\n",
      "228/228 [==============================] - 36s 159ms/step - loss: 0.0701 - accuracy: 0.9720 - val_loss: 0.2713 - val_accuracy: 0.9467\n",
      "Epoch 83/120\n",
      "228/228 [==============================] - 36s 159ms/step - loss: 0.0712 - accuracy: 0.9716 - val_loss: 0.2844 - val_accuracy: 0.9390\n",
      "Epoch 84/120\n",
      "228/228 [==============================] - 36s 158ms/step - loss: 0.0697 - accuracy: 0.9729 - val_loss: 0.2516 - val_accuracy: 0.9466\n",
      "Epoch 85/120\n",
      "228/228 [==============================] - 36s 159ms/step - loss: 0.0665 - accuracy: 0.9745 - val_loss: 0.2586 - val_accuracy: 0.9467\n",
      "Epoch 86/120\n",
      "228/228 [==============================] - 36s 159ms/step - loss: 0.0680 - accuracy: 0.9735 - val_loss: 0.2376 - val_accuracy: 0.9446\n",
      "Epoch 87/120\n",
      "228/228 [==============================] - 36s 159ms/step - loss: 0.0659 - accuracy: 0.9740 - val_loss: 0.2603 - val_accuracy: 0.9447\n",
      "Epoch 88/120\n",
      "228/228 [==============================] - 36s 159ms/step - loss: 0.0647 - accuracy: 0.9739 - val_loss: 0.2684 - val_accuracy: 0.9470\n",
      "Epoch 89/120\n",
      "228/228 [==============================] - 36s 159ms/step - loss: 0.0645 - accuracy: 0.9743 - val_loss: 0.2601 - val_accuracy: 0.9478\n",
      "Epoch 90/120\n",
      "228/228 [==============================] - 36s 159ms/step - loss: 0.0672 - accuracy: 0.9748 - val_loss: 0.2649 - val_accuracy: 0.9470\n",
      "Epoch 91/120\n",
      "228/228 [==============================] - 36s 158ms/step - loss: 0.0662 - accuracy: 0.9747 - val_loss: 0.2508 - val_accuracy: 0.9481\n",
      "Epoch 92/120\n",
      "228/228 [==============================] - 36s 159ms/step - loss: 0.0635 - accuracy: 0.9749 - val_loss: 0.2517 - val_accuracy: 0.9452\n",
      "Epoch 93/120\n",
      "228/228 [==============================] - 36s 158ms/step - loss: 0.0662 - accuracy: 0.9735 - val_loss: 0.2861 - val_accuracy: 0.9461\n",
      "Epoch 94/120\n",
      "228/228 [==============================] - 36s 159ms/step - loss: 0.0594 - accuracy: 0.9766 - val_loss: 0.2813 - val_accuracy: 0.9432\n",
      "Epoch 95/120\n",
      "228/228 [==============================] - 36s 159ms/step - loss: 0.0588 - accuracy: 0.9775 - val_loss: 0.2605 - val_accuracy: 0.9477\n",
      "Epoch 96/120\n",
      "228/228 [==============================] - 36s 159ms/step - loss: 0.0632 - accuracy: 0.9756 - val_loss: 0.2688 - val_accuracy: 0.9478\n",
      "Epoch 97/120\n",
      "228/228 [==============================] - 36s 159ms/step - loss: 0.0592 - accuracy: 0.9764 - val_loss: 0.2680 - val_accuracy: 0.9504\n",
      "Epoch 98/120\n",
      "228/228 [==============================] - 36s 159ms/step - loss: 0.0601 - accuracy: 0.9773 - val_loss: 0.2611 - val_accuracy: 0.9478\n",
      "Epoch 99/120\n",
      "228/228 [==============================] - 36s 159ms/step - loss: 0.0642 - accuracy: 0.9752 - val_loss: 0.2726 - val_accuracy: 0.9396\n",
      "Epoch 100/120\n",
      "228/228 [==============================] - 36s 158ms/step - loss: 0.0656 - accuracy: 0.9749 - val_loss: 0.2510 - val_accuracy: 0.9470\n",
      "Epoch 101/120\n",
      "228/228 [==============================] - 36s 159ms/step - loss: 0.0594 - accuracy: 0.9769 - val_loss: 0.2800 - val_accuracy: 0.9463\n",
      "Epoch 102/120\n",
      "228/228 [==============================] - 36s 159ms/step - loss: 0.0626 - accuracy: 0.9757 - val_loss: 0.2798 - val_accuracy: 0.9498\n",
      "Epoch 103/120\n",
      "228/228 [==============================] - 36s 158ms/step - loss: 0.0576 - accuracy: 0.9771 - val_loss: 0.2863 - val_accuracy: 0.9464\n",
      "Epoch 104/120\n",
      "228/228 [==============================] - 36s 159ms/step - loss: 0.0591 - accuracy: 0.9764 - val_loss: 0.2606 - val_accuracy: 0.9498\n",
      "Epoch 105/120\n",
      "228/228 [==============================] - 36s 159ms/step - loss: 0.0563 - accuracy: 0.9774 - val_loss: 0.2595 - val_accuracy: 0.9466\n",
      "Epoch 106/120\n",
      "228/228 [==============================] - 36s 158ms/step - loss: 0.0592 - accuracy: 0.9772 - val_loss: 0.2599 - val_accuracy: 0.9521\n",
      "Epoch 107/120\n",
      "228/228 [==============================] - 36s 158ms/step - loss: 0.0544 - accuracy: 0.9786 - val_loss: 0.2729 - val_accuracy: 0.9537\n"
     ]
    },
    {
     "name": "stdout",
     "output_type": "stream",
     "text": [
      "Epoch 108/120\n",
      "228/228 [==============================] - 36s 158ms/step - loss: 0.0563 - accuracy: 0.9783 - val_loss: 0.2711 - val_accuracy: 0.9486\n",
      "Epoch 109/120\n",
      "228/228 [==============================] - 36s 158ms/step - loss: 0.0605 - accuracy: 0.9772 - val_loss: 0.2733 - val_accuracy: 0.9489\n",
      "Epoch 110/120\n",
      "228/228 [==============================] - 36s 158ms/step - loss: 0.0565 - accuracy: 0.9786 - val_loss: 0.2761 - val_accuracy: 0.9490\n",
      "Epoch 111/120\n",
      "228/228 [==============================] - 36s 158ms/step - loss: 0.0556 - accuracy: 0.9787 - val_loss: 0.2716 - val_accuracy: 0.9472\n",
      "Epoch 112/120\n",
      "228/228 [==============================] - 36s 159ms/step - loss: 0.0551 - accuracy: 0.9790 - val_loss: 0.2570 - val_accuracy: 0.9473\n",
      "Epoch 113/120\n",
      "228/228 [==============================] - 36s 159ms/step - loss: 0.0546 - accuracy: 0.9790 - val_loss: 0.2481 - val_accuracy: 0.9534\n",
      "Epoch 114/120\n",
      "228/228 [==============================] - 36s 159ms/step - loss: 0.0514 - accuracy: 0.9800 - val_loss: 0.2595 - val_accuracy: 0.9486\n",
      "Epoch 115/120\n",
      "228/228 [==============================] - 36s 159ms/step - loss: 0.0521 - accuracy: 0.9795 - val_loss: 0.2844 - val_accuracy: 0.9444\n",
      "Epoch 116/120\n",
      "228/228 [==============================] - 36s 158ms/step - loss: 0.0536 - accuracy: 0.9788 - val_loss: 0.2707 - val_accuracy: 0.9463\n",
      "Epoch 117/120\n",
      "228/228 [==============================] - 36s 159ms/step - loss: 0.0541 - accuracy: 0.9795 - val_loss: 0.2462 - val_accuracy: 0.9535\n",
      "Epoch 118/120\n",
      "228/228 [==============================] - 36s 158ms/step - loss: 0.0547 - accuracy: 0.9786 - val_loss: 0.2595 - val_accuracy: 0.9475\n",
      "Epoch 119/120\n",
      "228/228 [==============================] - 36s 158ms/step - loss: 0.0535 - accuracy: 0.9797 - val_loss: 0.2514 - val_accuracy: 0.9515\n",
      "Epoch 120/120\n",
      "228/228 [==============================] - 36s 158ms/step - loss: 0.0505 - accuracy: 0.9806 - val_loss: 0.2837 - val_accuracy: 0.9501\n"
     ]
    },
    {
     "data": {
      "text/plain": [
       "<tensorflow.python.keras.callbacks.History at 0x2beaae67408>"
      ]
     },
     "execution_count": 13,
     "metadata": {},
     "output_type": "execute_result"
    }
   ],
   "source": [
    "model.fit(x_train, y_train, \n",
    "         batch_size=batch_size, epochs=epochs, verbose=1, \n",
    "         validation_data=(x_valid, y_valid), \n",
    "         callbacks=[modelcheckpoint, tensorboard_callback])"
   ]
  },
  {
   "cell_type": "markdown",
   "metadata": {},
   "source": [
    "#### Load the best epoch's weight"
   ]
  },
  {
   "cell_type": "code",
   "execution_count": 32,
   "metadata": {
    "colab": {},
    "colab_type": "code",
    "id": "z8t0nVCw8JmP"
   },
   "outputs": [],
   "source": [
    "model.load_weights(output_dir+\"/weights.117.hdf5\") #96.32"
   ]
  },
  {
   "cell_type": "markdown",
   "metadata": {
    "colab_type": "text",
    "id": "7PWlH5SJ8JmP"
   },
   "source": [
    "## Evaluate\n",
    "\n",
    "Make predictions and check the results"
   ]
  },
  {
   "cell_type": "code",
   "execution_count": 33,
   "metadata": {
    "colab": {},
    "colab_type": "code",
    "id": "kZwGk5dR8JmS"
   },
   "outputs": [],
   "source": [
    "y_hat = model.predict(x_valid)"
   ]
  },
  {
   "cell_type": "code",
   "execution_count": 34,
   "metadata": {
    "colab": {},
    "colab_type": "code",
    "id": "FTWf6Cf-8Jme",
    "outputId": "1256b170-33dc-4171-f2ff-7a3d7ddd74e3"
   },
   "outputs": [
    {
     "data": {
      "image/png": "[encoded data removed]",
      "text/plain": [
       "<Figure size 432x288 with 1 Axes>"
      ]
     },
     "metadata": {
      "needs_background": "light"
     },
     "output_type": "display_data"
    }
   ],
   "source": [
    "plt.hist(y_hat)\n",
    "_ = plt.axvline(x=0.5, color='orange')"
   ]
  },
  {
   "cell_type": "markdown",
   "metadata": {},
   "source": [
    "#### Histogram of probabilities for each class\n",
    "If most probabilities are around either zero or one, it means the model was confidant in classification"
   ]
  },
  {
   "cell_type": "code",
   "execution_count": 35,
   "metadata": {},
   "outputs": [
    {
     "data": {
      "image/png": "[encoded data removed]",
      "text/plain": [
       "<Figure size 1080x720 with 6 Axes>"
      ]
     },
     "metadata": {
      "needs_background": "light"
     },
     "output_type": "display_data"
    }
   ],
   "source": [
    "df = pd.DataFrame(y_hat, columns=class_list)\n",
    "_ = df.hist(figsize=(15,10), color='brown')"
   ]
  },
  {
   "cell_type": "code",
   "execution_count": 36,
   "metadata": {
    "colab": {},
    "colab_type": "code",
    "id": "RNljSx3v8Jmh"
   },
   "outputs": [],
   "source": [
    "# Calculate ROC and Accuracy\n",
    "pct_auc = roc_auc_score(y_valid, y_hat)*100.0\n",
    "y_pred_classes = y_hat.round()\n",
    "acc = score(y_valid, y_pred_classes) * 100"
   ]
  },
  {
   "cell_type": "code",
   "execution_count": 37,
   "metadata": {
    "colab": {},
    "colab_type": "code",
    "id": "SO_N9lJG8Jmj",
    "outputId": "20968a52-8ca0-44d3-abf6-a1382bba5cde"
   },
   "outputs": [
    {
     "name": "stdout",
     "output_type": "stream",
     "text": [
      "The model accuracy is: 95.20\n",
      "The area under ROC curve is: 99.56\n"
     ]
    }
   ],
   "source": [
    "print(\"The model accuracy is: {:0.2f}\".format(acc))\n",
    "print(\"The area under ROC curve is: {:0.2f}\".format(pct_auc))"
   ]
  },
  {
   "cell_type": "code",
   "execution_count": 38,
   "metadata": {
    "colab": {},
    "colab_type": "code",
    "id": "vU3hnA298Jmo"
   },
   "outputs": [],
   "source": [
    "# Convert the predicted outcomes to categorical variable to compare with validation data, just for checking\n",
    "\n",
    "float_y_hat = []\n",
    "for y in y_hat:\n",
    "    float_y_hat.append(y[0:7].round(3))"
   ]
  },
  {
   "cell_type": "code",
   "execution_count": 39,
   "metadata": {
    "colab": {},
    "colab_type": "code",
    "id": "zrTf-aQl8Jmr"
   },
   "outputs": [],
   "source": [
    "ydf = pd.DataFrame(list(zip(float_y_hat, y_valid)), columns=['y_hat', 'y'])"
   ]
  },
  {
   "cell_type": "code",
   "execution_count": 40,
   "metadata": {
    "colab": {},
    "colab_type": "code",
    "id": "zAyKh_mX8Jmu",
    "outputId": "611224b8-f980-47df-d596-9aa3a5811009"
   },
   "outputs": [
    {
     "data": {
      "text/html": [
       "<div>\n",
       "<style scoped>\n",
       "    .dataframe tbody tr th:only-of-type {\n",
       "        vertical-align: middle;\n",
       "    }\n",
       "\n",
       "    .dataframe tbody tr th {\n",
       "        vertical-align: top;\n",
       "    }\n",
       "\n",
       "    .dataframe thead th {\n",
       "        text-align: right;\n",
       "    }\n",
       "</style>\n",
       "<table border=\"1\" class=\"dataframe\">\n",
       "  <thead>\n",
       "    <tr style=\"text-align: right;\">\n",
       "      <th></th>\n",
       "      <th>y_hat</th>\n",
       "      <th>y</th>\n",
       "    </tr>\n",
       "  </thead>\n",
       "  <tbody>\n",
       "    <tr>\n",
       "      <th>0</th>\n",
       "      <td>[0.001, 0.0, 0.0, 0.0, 0.0, 0.999]</td>\n",
       "      <td>[0.0, 0.0, 0.0, 0.0, 0.0, 1.0]</td>\n",
       "    </tr>\n",
       "    <tr>\n",
       "      <th>1</th>\n",
       "      <td>[0.0, 0.0, 1.0, 0.0, 0.0, 0.0]</td>\n",
       "      <td>[0.0, 0.0, 1.0, 0.0, 0.0, 0.0]</td>\n",
       "    </tr>\n",
       "    <tr>\n",
       "      <th>2</th>\n",
       "      <td>[0.0, 1.0, 0.0, 0.0, 0.0, 0.0]</td>\n",
       "      <td>[0.0, 1.0, 0.0, 0.0, 0.0, 0.0]</td>\n",
       "    </tr>\n",
       "    <tr>\n",
       "      <th>3</th>\n",
       "      <td>[1.0, 0.0, 0.0, 0.0, 0.0, 0.0]</td>\n",
       "      <td>[1.0, 0.0, 0.0, 0.0, 0.0, 0.0]</td>\n",
       "    </tr>\n",
       "    <tr>\n",
       "      <th>4</th>\n",
       "      <td>[0.0, 1.0, 0.0, 0.0, 0.0, 0.0]</td>\n",
       "      <td>[0.0, 1.0, 0.0, 0.0, 0.0, 0.0]</td>\n",
       "    </tr>\n",
       "  </tbody>\n",
       "</table>\n",
       "</div>"
      ],
      "text/plain": [
       "                                y_hat                               y\n",
       "0  [0.001, 0.0, 0.0, 0.0, 0.0, 0.999]  [0.0, 0.0, 0.0, 0.0, 0.0, 1.0]\n",
       "1      [0.0, 0.0, 1.0, 0.0, 0.0, 0.0]  [0.0, 0.0, 1.0, 0.0, 0.0, 0.0]\n",
       "2      [0.0, 1.0, 0.0, 0.0, 0.0, 0.0]  [0.0, 1.0, 0.0, 0.0, 0.0, 0.0]\n",
       "3      [1.0, 0.0, 0.0, 0.0, 0.0, 0.0]  [1.0, 0.0, 0.0, 0.0, 0.0, 0.0]\n",
       "4      [0.0, 1.0, 0.0, 0.0, 0.0, 0.0]  [0.0, 1.0, 0.0, 0.0, 0.0, 0.0]"
      ]
     },
     "execution_count": 40,
     "metadata": {},
     "output_type": "execute_result"
    }
   ],
   "source": [
    "ydf.head()"
   ]
  },
  {
   "cell_type": "code",
   "execution_count": 41,
   "metadata": {},
   "outputs": [],
   "source": [
    "# convert probability to class\n",
    "y_pred_class = np.argmax(y_hat, axis=1)\n",
    "y_class = np.argmax(y_valid, axis = 1)"
   ]
  },
  {
   "cell_type": "markdown",
   "metadata": {},
   "source": [
    "### plot confusion matrix\n",
    "First use seaborn, then a custom stript."
   ]
  },
  {
   "cell_type": "code",
   "execution_count": 42,
   "metadata": {},
   "outputs": [],
   "source": [
    "# Create confucion matrix:\n",
    "cf_matrix = confusion_matrix(y_class, y_pred_class, labels=range(len(class_list)))\n",
    "\n",
    "\n",
    "# the classes are not in order, for example 'sitting' is not following 'lying'. Sort them:\n",
    "\n",
    "confusion_matrix_df = pd.DataFrame(cf_matrix, index=class_list, columns=class_list)\n",
    "confusion_matrix_df = confusion_matrix_df[['Lying','Sitting', 'Self Pace walk',\\\n",
    "                                           'Running 3 METs','Running 5 METs', 'Running 7 METs']]\n",
    "confusion_matrix_df = confusion_matrix_df.reindex(['Lying', 'Sitting', 'Self Pace walk',\\\n",
    "                                                   'Running 3 METs','Running 5 METs', 'Running 7 METs'])"
   ]
  },
  {
   "cell_type": "code",
   "execution_count": 44,
   "metadata": {},
   "outputs": [
    {
     "data": {
      "text/plain": [
       "<AxesSubplot:>"
      ]
     },
     "execution_count": 44,
     "metadata": {},
     "output_type": "execute_result"
    },
    {
     "data": {
      "image/png": "[encoded data removed]",
      "text/plain": [
       "<Figure size 432x288 with 2 Axes>"
      ]
     },
     "metadata": {
      "needs_background": "light"
     },
     "output_type": "display_data"
    }
   ],
   "source": [
    "sns.heatmap(cf_matrix, annot=True, fmt = '1', xticklabels=class_list, yticklabels=class_list, cmap='ocean')\n",
    "# cf_matrix"
   ]
  },
  {
   "cell_type": "code",
   "execution_count": 45,
   "metadata": {},
   "outputs": [
    {
     "data": {
      "image/png": "[encoded data removed]",
      "text/plain": [
       "<Figure size 936x720 with 2 Axes>"
      ]
     },
     "metadata": {
      "needs_background": "light"
     },
     "output_type": "display_data"
    }
   ],
   "source": [
    "plt.figure(figsize = (13,10))\n",
    "\n",
    "_ = sns.heatmap(confusion_matrix_df, annot=True, fmt = '1', cmap='rocket_r') # try cmap='rocket', 'PuBuGn', 'magma'\n"
   ]
  },
  {
   "cell_type": "code",
   "execution_count": 46,
   "metadata": {},
   "outputs": [
    {
     "data": {
      "image/png": "[encoded data removed]",
      "text/plain": [
       "<Figure size 864x864 with 2 Axes>"
      ]
     },
     "metadata": {
      "needs_background": "light"
     },
     "output_type": "display_data"
    }
   ],
   "source": [
    "import prettyconfusion as pf\n",
    "pf.pretty_plot_confusion_matrix(confusion_matrix_df,cmap='PuBuGn', cbar='oranges'\n",
    "                                ,fz = 13, lw=1, figsize=[12,12])"
   ]
  },
  {
   "cell_type": "markdown",
   "metadata": {},
   "source": [
    "## Visualize performance metrics and the model's structure"
   ]
  },
  {
   "cell_type": "code",
   "execution_count": 47,
   "metadata": {},
   "outputs": [
    {
     "name": "stdout",
     "output_type": "stream",
     "text": [
      "The tensorboard extension is already loaded. To reload it, use:\n",
      "  %reload_ext tensorboard\n"
     ]
    }
   ],
   "source": [
    "# Load the TensorBoard notebook extension.\n",
    "%load_ext tensorboard"
   ]
  },
  {
   "cell_type": "code",
   "execution_count": 48,
   "metadata": {},
   "outputs": [],
   "source": [
    "# Clear any logs from previous runs if you don't want to see it in tensorflow"
   ]
  },
  {
   "cell_type": "code",
   "execution_count": 30,
   "metadata": {},
   "outputs": [
    {
     "data": {
      "text/plain": [
       "Reusing TensorBoard on port 6006 (pid 11604), started 4 days, 4:24:53 ago. (Use '!kill 11604' to kill it.)"
      ]
     },
     "metadata": {},
     "output_type": "display_data"
    },
    {
     "data": {
      "text/html": [
       "\n",
       "      <iframe id=\"tensorboard-frame-9111d1289a71af8a\" width=\"100%\" height=\"800\" frameborder=\"0\">\n",
       "      </iframe>\n",
       "      <script>\n",
       "        (function() {\n",
       "          const frame = document.getElementById(\"tensorboard-frame-9111d1289a71af8a\");\n",
       "          const url = new URL(\"/\", window.location);\n",
       "          const port = 6006;\n",
       "          if (port) {\n",
       "            url.port = port;\n",
       "          }\n",
       "          frame.src = url;\n",
       "        })();\n",
       "      </script>\n",
       "    "
      ],
      "text/plain": [
       "<IPython.core.display.HTML object>"
      ]
     },
     "metadata": {},
     "output_type": "display_data"
    }
   ],
   "source": [
    "%tensorboard --logdir logs"
   ]
  },
  {
   "cell_type": "code",
   "execution_count": 31,
   "metadata": {},
   "outputs": [
    {
     "name": "stdout",
     "output_type": "stream",
     "text": [
      "Serving 'output/LSTM-Final//weights.99.hdf5' at http://localhost:8080\n"
     ]
    }
   ],
   "source": [
    "# All stored weights have the same structure. Load one of them to netron and save the image \n",
    "netron.start(file=output_dir+\"/weights.117.hdf5\")"
   ]
  },
  {
   "cell_type": "code",
   "execution_count": null,
   "metadata": {},
   "outputs": [],
   "source": []
  }
 ],
 "metadata": {
  "colab": {
   "include_colab_link": true,
   "name": "dense_sentiment_classifier.ipynb",
   "provenance": []
  },
  "kernelspec": {
   "display_name": "Python 3",
   "language": "python",
   "name": "python3"
  },
  "language_info": {
   "codemirror_mode": {
    "name": "ipython",
    "version": 3
   },
   "file_extension": ".py",
   "mimetype": "text/x-python",
   "name": "python",
   "nbconvert_exporter": "python",
   "pygments_lexer": "ipython3",
   "version": "3.7.9"
  }
 },
 "nbformat": 4,
 "nbformat_minor": 1
}
