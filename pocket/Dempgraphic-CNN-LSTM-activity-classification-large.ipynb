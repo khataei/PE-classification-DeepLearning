{
 "cells": [
  {
   "cell_type": "markdown",
   "metadata": {
    "colab_type": "text",
    "id": "view-in-github"
   },
   "source": [
    "<a href=\"\" target=\"_parent\"><img src=\"https://colab.research.google.com/assets/colab-badge.svg\" alt=\"Open In Colab\"/></a>"
   ]
  },
  {
   "cell_type": "markdown",
   "metadata": {
    "colab_type": "text",
    "id": "ahUZuAfz8Jje"
   },
   "source": [
    "# Activity Classifier"
   ]
  },
  {
   "cell_type": "markdown",
   "metadata": {
    "colab_type": "text",
    "id": "Re0ecmVI8Jjk"
   },
   "source": [
    "In this notebook, we build a dense neural net to classify PE activity. We use demographic data as well as the ecceleration data"
   ]
  },
  {
   "cell_type": "markdown",
   "metadata": {
    "colab_type": "text",
    "id": "ixsGb9tY8Jjm"
   },
   "source": [
    "#### Load dependencies"
   ]
  },
  {
   "cell_type": "code",
   "execution_count": 1,
   "metadata": {
    "colab": {},
    "colab_type": "code",
    "id": "5At1PKQp8Jjp"
   },
   "outputs": [],
   "source": [
    "import tensorflow\n",
    "from tensorflow.keras.utils import to_categorical\n",
    "from tensorflow.keras.models import Sequential, Model\n",
    "from tensorflow.keras.layers import Dense, Flatten, Dropout, Conv1D, Concatenate , Input, LSTM, Bidirectional\n",
    "from tensorflow.keras.layers import GlobalAveragePooling1D, GlobalMaxPooling1D, MaxPool1D,AveragePooling1D\n",
    "from tensorflow.keras.callbacks import ModelCheckpoint \n",
    "from sklearn.metrics import confusion_matrix\n",
    "import os \n",
    "from sklearn.metrics import roc_auc_score, roc_curve\n",
    "from sklearn.model_selection import train_test_split\n",
    "from sklearn.preprocessing import LabelBinarizer, StandardScaler\n",
    "import pandas as pd\n",
    "import numpy as np\n",
    "import matplotlib.pyplot as plt "
   ]
  },
  {
   "cell_type": "code",
   "execution_count": 2,
   "metadata": {},
   "outputs": [
    {
     "name": "stdout",
     "output_type": "stream",
     "text": [
      "[name: \"/device:CPU:0\"\n",
      "device_type: \"CPU\"\n",
      "memory_limit: 268435456\n",
      "locality {\n",
      "}\n",
      "incarnation: 6607283178793862052\n",
      ", name: \"/device:XLA_CPU:0\"\n",
      "device_type: \"XLA_CPU\"\n",
      "memory_limit: 17179869184\n",
      "locality {\n",
      "}\n",
      "incarnation: 4904618761463842601\n",
      "physical_device_desc: \"device: XLA_CPU device\"\n",
      ", name: \"/device:GPU:0\"\n",
      "device_type: \"GPU\"\n",
      "memory_limit: 4022219571\n",
      "locality {\n",
      "  bus_id: 1\n",
      "  links {\n",
      "  }\n",
      "}\n",
      "incarnation: 13021084891290084760\n",
      "physical_device_desc: \"device: 0, name: Quadro P2000, pci bus id: 0000:01:00.0, compute capability: 6.1\"\n",
      ", name: \"/device:XLA_GPU:0\"\n",
      "device_type: \"XLA_GPU\"\n",
      "memory_limit: 17179869184\n",
      "locality {\n",
      "}\n",
      "incarnation: 8881082224106758590\n",
      "physical_device_desc: \"device: XLA_GPU device\"\n",
      "]\n",
      "# GPUs Available:  1\n"
     ]
    },
    {
     "data": {
      "text/plain": [
       "'2.3.1'"
      ]
     },
     "execution_count": 2,
     "metadata": {},
     "output_type": "execute_result"
    }
   ],
   "source": [
    "from tensorflow.python.client import device_lib\n",
    "\n",
    "print(device_lib.list_local_devices())\n",
    "import tensorflow as tf\n",
    "print(\"# GPUs Available: \", len(tf.config.experimental.list_physical_devices('GPU')))\n",
    "tensorflow.__version__"
   ]
  },
  {
   "cell_type": "markdown",
   "metadata": {
    "colab_type": "text",
    "id": "Hg5wX2Dd8Jjz"
   },
   "source": [
    "#### Set hyperparameters"
   ]
  },
  {
   "cell_type": "code",
   "execution_count": 3,
   "metadata": {
    "colab": {},
    "colab_type": "code",
    "id": "lYLOM99-8Jj2"
   },
   "outputs": [],
   "source": [
    "# output directory name:\n",
    "output_dir = 'model_output/demographic-cnn-lstm-large'\n",
    "input_dir =  'Z:/Research/dfuller/Walkabilly/studies/smarphone_accel/data/Ethica_Jaeger_Merged/pocket/'\n",
    "input_file_name = 'pocket-NN-data.npz'\n",
    "\n",
    "# from the data preparation section we have:\n",
    "window_size_second = 3\n",
    "frequency = 30\n",
    "lenght_of_each_seq = window_size_second * frequency\n",
    "\n",
    "\n",
    "\n",
    "n_dense_2= 512\n",
    "n_dense_1= 512\n",
    "n_conv_3= 256\n",
    "n_conv_2= 512\n",
    "n_conv_1= 512\n",
    "maxpooling_pool_size= 2\n",
    "k_conv_3= 2\n",
    "k_conv_2= 2\n",
    "k_conv_1= 2\n",
    "\n",
    "n_lstm_2 = 64\n",
    "n_lstm_1 = 128\n",
    "drop_lstm_2 = 0.05\n",
    "drop_lstm_1 = 0.1\n",
    "                            \n",
    "\n",
    "dropout_2= 0.2\n",
    "dropout_1= 0.2\n",
    "avepooling_pool_size= 2\n",
    "activation_dense = 'relu'\n",
    "activation_conv = 'relu'\n",
    "\n",
    "\n",
    "\n",
    "\n",
    "# training:\n",
    "epochs = 60\n",
    "batch_size = 256\n"
   ]
  },
  {
   "cell_type": "markdown",
   "metadata": {
    "colab_type": "text",
    "id": "DaLx4yZ48Jj9"
   },
   "source": [
    "#### Load data"
   ]
  },
  {
   "cell_type": "markdown",
   "metadata": {
    "colab_type": "text",
    "id": "CD9X0yJg8Jj_"
   },
   "source": [
    "##### For this notebook we use the acceleration data gathered from the pocket location. It was prepared in the DataPrep-Deep notebook"
   ]
  },
  {
   "cell_type": "code",
   "execution_count": 4,
   "metadata": {
    "colab": {},
    "colab_type": "code",
    "id": "6r44JKj-8JkA"
   },
   "outputs": [
    {
     "name": "stdout",
     "output_type": "stream",
     "text": [
      "acceleration_data\n",
      "metadata\n",
      "labels\n"
     ]
    }
   ],
   "source": [
    "# read the raw file and get the keys:\n",
    "raw_data = np.load(file=input_dir+input_file_name,allow_pickle=True)\n",
    "for k in raw_data.keys():\n",
    "    print(k)"
   ]
  },
  {
   "cell_type": "code",
   "execution_count": 5,
   "metadata": {},
   "outputs": [],
   "source": [
    "# import the data\n",
    "\n",
    "accel_array = raw_data['acceleration_data']\n",
    "meta_array = raw_data['metadata']\n",
    "labels_array = raw_data['labels']\n",
    "accel_input_shape = list(accel_array.shape)\n",
    "meta_input_shape = list(meta_array.shape)\n"
   ]
  },
  {
   "cell_type": "markdown",
   "metadata": {
    "colab_type": "text",
    "id": "WWq3ipbu8JlG"
   },
   "source": [
    "#### Preprocess data"
   ]
  },
  {
   "cell_type": "markdown",
   "metadata": {},
   "source": [
    "### Data preparation \n",
    "1- Convert the  labels to integer.\n",
    "In the raw data format of the labels is String and there are 6 classes. 'Lying', 'Sitting', 'Self Pace walk', 'Running 3 METs',\n",
    "       'Running 5 METs', 'Running 7 METs' <br>\n",
    "\n",
    "2- Standardize the demographic data\n",
    "3- Split and shuffle\n",
    "\n"
   ]
  },
  {
   "cell_type": "code",
   "execution_count": 6,
   "metadata": {},
   "outputs": [],
   "source": [
    "lb = LabelBinarizer()\n",
    "y = lb.fit_transform(labels_array)\n",
    "n_class = len(lb.classes_)\n",
    "class_list = lb.classes_"
   ]
  },
  {
   "cell_type": "code",
   "execution_count": 7,
   "metadata": {},
   "outputs": [],
   "source": [
    "sc = StandardScaler()\n",
    "meta_array = sc.fit_transform(meta_array)"
   ]
  },
  {
   "cell_type": "code",
   "execution_count": 8,
   "metadata": {
    "colab": {},
    "colab_type": "code",
    "id": "f5grc2H78Jlz",
    "outputId": "3f7eeb55-f851-4796-de4e-0c68eb9df88d"
   },
   "outputs": [],
   "source": [
    "X_train_index, X_valid_index, y_train, y_valid = train_test_split(\n",
    "     (np.arange(len(accel_array))), y, test_size=0.1, random_state=65)\n",
    "X_accel_train = accel_array[X_train_index]\n",
    "X_accel_valid = accel_array[X_valid_index]\n",
    "X_meta_train = meta_array[X_train_index]\n",
    "X_meta_valid = meta_array[X_valid_index]\n"
   ]
  },
  {
   "cell_type": "markdown",
   "metadata": {
    "colab_type": "text",
    "collapsed": true,
    "id": "GscSnCpk8Jlm"
   },
   "source": [
    "\n",
    "\n",
    "\n",
    "#### Design neural network architecture using functional API"
   ]
  },
  {
   "cell_type": "code",
   "execution_count": 9,
   "metadata": {},
   "outputs": [
    {
     "name": "stdout",
     "output_type": "stream",
     "text": [
      "Model: \"biInput\"\n",
      "__________________________________________________________________________________________________\n",
      "Layer (type)                    Output Shape         Param #     Connected to                     \n",
      "==================================================================================================\n",
      "input_1 (InputLayer)            [(None, 90, 3)]      0                                            \n",
      "__________________________________________________________________________________________________\n",
      "conv1d (Conv1D)                 (None, 89, 512)      3584        input_1[0][0]                    \n",
      "__________________________________________________________________________________________________\n",
      "max_pooling1d (MaxPooling1D)    (None, 44, 512)      0           conv1d[0][0]                     \n",
      "__________________________________________________________________________________________________\n",
      "conv1d_1 (Conv1D)               (None, 43, 512)      524800      max_pooling1d[0][0]              \n",
      "__________________________________________________________________________________________________\n",
      "average_pooling1d (AveragePooli (None, 21, 512)      0           conv1d_1[0][0]                   \n",
      "__________________________________________________________________________________________________\n",
      "conv1d_2 (Conv1D)               (None, 20, 512)      524800      average_pooling1d[0][0]          \n",
      "__________________________________________________________________________________________________\n",
      "input_2 (InputLayer)            [(None, 4)]          0                                            \n",
      "__________________________________________________________________________________________________\n",
      "bidirectional (Bidirectional)   (None, 128)          295424      conv1d_2[0][0]                   \n",
      "__________________________________________________________________________________________________\n",
      "flatten (Flatten)               (None, 4)            0           input_2[0][0]                    \n",
      "__________________________________________________________________________________________________\n",
      "concatenate (Concatenate)       (None, 132)          0           bidirectional[0][0]              \n",
      "                                                                 flatten[0][0]                    \n",
      "__________________________________________________________________________________________________\n",
      "dense (Dense)                   (None, 512)          68096       concatenate[0][0]                \n",
      "__________________________________________________________________________________________________\n",
      "dropout (Dropout)               (None, 512)          0           dense[0][0]                      \n",
      "__________________________________________________________________________________________________\n",
      "dense_1 (Dense)                 (None, 512)          262656      dropout[0][0]                    \n",
      "__________________________________________________________________________________________________\n",
      "dropout_1 (Dropout)             (None, 512)          0           dense_1[0][0]                    \n",
      "__________________________________________________________________________________________________\n",
      "dense_2 (Dense)                 (None, 6)            3078        dropout_1[0][0]                  \n",
      "==================================================================================================\n",
      "Total params: 1,682,438\n",
      "Trainable params: 1,682,438\n",
      "Non-trainable params: 0\n",
      "__________________________________________________________________________________________________\n"
     ]
    }
   ],
   "source": [
    "accel_input = Input(shape=accel_input_shape[1:])\n",
    "meta_input = Input(shape=meta_input_shape[1:])\n",
    "x = Conv1D(n_conv_1, k_conv_1, activation=activation_conv)(accel_input)\n",
    "x = MaxPool1D(pool_size = maxpooling_pool_size)(x)\n",
    "x = Conv1D(n_conv_2, k_conv_2, activation=activation_conv)(x)\n",
    "x = AveragePooling1D(pool_size = avepooling_pool_size)(x)\n",
    "x = Conv1D(n_conv_2, k_conv_2, activation=activation_conv)(x)\n",
    "# x = GlobalAveragePooling1D()(x)\n",
    "\n",
    "# x = LSTM(n_lstm_1, dropout=drop_lstm_1, return_sequences=True)(x)\n",
    "x = Bidirectional(LSTM(n_lstm_2, dropout=drop_lstm_2))(x)\n",
    "\n",
    "meta_input_x = Flatten()(meta_input)\n",
    "x = Concatenate()([x,meta_input_x])\n",
    "\n",
    "x = Dense(n_dense_1, activation=activation_dense)(x)\n",
    "x = Dropout(dropout_1)(x)\n",
    "x = Dense(n_dense_2, activation=activation_dense)(x)\n",
    "x = Dropout(dropout_2)(x)\n",
    "\n",
    "\n",
    "\n",
    "output = Dense(n_class, activation='softmax')(x)\n",
    "     \n",
    "model = Model(inputs=[accel_input, meta_input], outputs=output, name='biInput')\n",
    "model.summary()"
   ]
  },
  {
   "cell_type": "markdown",
   "metadata": {
    "colab_type": "text",
    "id": "JkbhJMox8Jl9"
   },
   "source": [
    "#### Configure model"
   ]
  },
  {
   "cell_type": "code",
   "execution_count": 10,
   "metadata": {
    "colab": {},
    "colab_type": "code",
    "id": "QodbQvQh8Jl_"
   },
   "outputs": [],
   "source": [
    "model.compile(loss='categorical_crossentropy', optimizer='nadam', metrics=['accuracy'])"
   ]
  },
  {
   "cell_type": "code",
   "execution_count": 11,
   "metadata": {
    "colab": {},
    "colab_type": "code",
    "id": "zHjvYe288JmE"
   },
   "outputs": [],
   "source": [
    "modelcheckpoint = ModelCheckpoint(filepath=output_dir+\n",
    "                                  \"/weights.{epoch:02d}.hdf5\")\n",
    "if not os.path.exists(output_dir):\n",
    "    os.makedirs(output_dir)"
   ]
  },
  {
   "cell_type": "markdown",
   "metadata": {
    "colab_type": "text",
    "id": "TEYpX7968JmL"
   },
   "source": [
    "#### Train!"
   ]
  },
  {
   "cell_type": "code",
   "execution_count": 12,
   "metadata": {
    "colab": {},
    "colab_type": "code",
    "id": "QaD1W7Ka8JmM",
    "outputId": "f0c30141-0962-48f6-a000-d136af50af79",
    "scrolled": true
   },
   "outputs": [
    {
     "name": "stdout",
     "output_type": "stream",
     "text": [
      "Epoch 1/60\n",
      "228/228 [==============================] - 14s 64ms/step - loss: 0.9920 - accuracy: 0.5858 - val_loss: 0.6620 - val_accuracy: 0.7406\n",
      "Epoch 2/60\n",
      "228/228 [==============================] - 13s 59ms/step - loss: 0.5647 - accuracy: 0.7783 - val_loss: 0.4281 - val_accuracy: 0.8284\n",
      "Epoch 3/60\n",
      "228/228 [==============================] - 13s 59ms/step - loss: 0.3801 - accuracy: 0.8602 - val_loss: 0.2814 - val_accuracy: 0.9063\n",
      "Epoch 4/60\n",
      "228/228 [==============================] - 14s 59ms/step - loss: 0.2975 - accuracy: 0.8979 - val_loss: 0.2527 - val_accuracy: 0.9212\n",
      "Epoch 5/60\n",
      "228/228 [==============================] - 14s 59ms/step - loss: 0.2172 - accuracy: 0.9281 - val_loss: 0.1968 - val_accuracy: 0.9324\n",
      "Epoch 6/60\n",
      "228/228 [==============================] - 14s 60ms/step - loss: 0.1824 - accuracy: 0.9404 - val_loss: 0.1675 - val_accuracy: 0.9452\n",
      "Epoch 7/60\n",
      "228/228 [==============================] - 14s 60ms/step - loss: 0.1783 - accuracy: 0.9418 - val_loss: 0.1930 - val_accuracy: 0.9399\n",
      "Epoch 8/60\n",
      "228/228 [==============================] - 14s 60ms/step - loss: 0.1600 - accuracy: 0.9480 - val_loss: 0.1516 - val_accuracy: 0.9495\n",
      "Epoch 9/60\n",
      "228/228 [==============================] - 14s 60ms/step - loss: 0.1309 - accuracy: 0.9568 - val_loss: 0.1922 - val_accuracy: 0.9324\n",
      "Epoch 10/60\n",
      "228/228 [==============================] - 14s 60ms/step - loss: 0.1208 - accuracy: 0.9597 - val_loss: 0.1513 - val_accuracy: 0.9486\n",
      "Epoch 11/60\n",
      "228/228 [==============================] - 14s 60ms/step - loss: 0.1157 - accuracy: 0.9616 - val_loss: 0.1338 - val_accuracy: 0.9585\n",
      "Epoch 12/60\n",
      "228/228 [==============================] - 14s 60ms/step - loss: 0.1011 - accuracy: 0.9664 - val_loss: 0.1422 - val_accuracy: 0.9527\n",
      "Epoch 13/60\n",
      "228/228 [==============================] - 14s 60ms/step - loss: 0.0984 - accuracy: 0.9673 - val_loss: 0.1302 - val_accuracy: 0.9571\n",
      "Epoch 14/60\n",
      "228/228 [==============================] - 14s 60ms/step - loss: 0.0930 - accuracy: 0.9689 - val_loss: 0.1409 - val_accuracy: 0.9574\n",
      "Epoch 15/60\n",
      "228/228 [==============================] - 14s 60ms/step - loss: 0.0843 - accuracy: 0.9717 - val_loss: 0.1253 - val_accuracy: 0.9629\n",
      "Epoch 16/60\n",
      "228/228 [==============================] - 14s 60ms/step - loss: 0.0789 - accuracy: 0.9731 - val_loss: 0.1396 - val_accuracy: 0.9577\n",
      "Epoch 17/60\n",
      "228/228 [==============================] - 14s 60ms/step - loss: 0.1171 - accuracy: 0.9635 - val_loss: 0.1409 - val_accuracy: 0.9591\n",
      "Epoch 18/60\n",
      "228/228 [==============================] - 14s 60ms/step - loss: 0.0713 - accuracy: 0.9757 - val_loss: 0.1259 - val_accuracy: 0.9619\n",
      "Epoch 19/60\n",
      "228/228 [==============================] - 14s 60ms/step - loss: 0.0700 - accuracy: 0.9766 - val_loss: 0.1261 - val_accuracy: 0.9611\n",
      "Epoch 20/60\n",
      "228/228 [==============================] - 14s 60ms/step - loss: 0.0635 - accuracy: 0.9779 - val_loss: 0.1831 - val_accuracy: 0.9521\n",
      "Epoch 21/60\n",
      "228/228 [==============================] - 14s 60ms/step - loss: 0.0754 - accuracy: 0.9758 - val_loss: 0.1456 - val_accuracy: 0.9583\n",
      "Epoch 22/60\n",
      "228/228 [==============================] - 14s 60ms/step - loss: 0.0605 - accuracy: 0.9800 - val_loss: 0.1259 - val_accuracy: 0.9628\n",
      "Epoch 23/60\n",
      "228/228 [==============================] - 14s 60ms/step - loss: 0.0575 - accuracy: 0.9808 - val_loss: 0.1231 - val_accuracy: 0.9642\n",
      "Epoch 24/60\n",
      "228/228 [==============================] - 14s 60ms/step - loss: 0.0542 - accuracy: 0.9810 - val_loss: 0.1288 - val_accuracy: 0.9646\n",
      "Epoch 25/60\n",
      "228/228 [==============================] - 14s 60ms/step - loss: 0.0531 - accuracy: 0.9819 - val_loss: 0.1419 - val_accuracy: 0.9616\n",
      "Epoch 26/60\n",
      "228/228 [==============================] - 14s 60ms/step - loss: 0.0572 - accuracy: 0.9809 - val_loss: 0.1216 - val_accuracy: 0.9640\n",
      "Epoch 27/60\n",
      "228/228 [==============================] - 14s 60ms/step - loss: 0.0488 - accuracy: 0.9830 - val_loss: 0.1328 - val_accuracy: 0.9611\n",
      "Epoch 28/60\n",
      "228/228 [==============================] - 14s 60ms/step - loss: 0.0489 - accuracy: 0.9835 - val_loss: 0.1393 - val_accuracy: 0.9634\n",
      "Epoch 29/60\n",
      "228/228 [==============================] - 14s 60ms/step - loss: 0.0468 - accuracy: 0.9840 - val_loss: 0.1324 - val_accuracy: 0.9663\n",
      "Epoch 30/60\n",
      "228/228 [==============================] - 14s 60ms/step - loss: 0.0404 - accuracy: 0.9862 - val_loss: 0.1361 - val_accuracy: 0.9659\n",
      "Epoch 31/60\n",
      "228/228 [==============================] - 14s 60ms/step - loss: 0.0419 - accuracy: 0.9862 - val_loss: 0.1344 - val_accuracy: 0.9646\n",
      "Epoch 32/60\n",
      "228/228 [==============================] - 14s 60ms/step - loss: 0.0410 - accuracy: 0.9858 - val_loss: 0.1352 - val_accuracy: 0.9648\n",
      "Epoch 33/60\n",
      "228/228 [==============================] - 14s 60ms/step - loss: 0.0390 - accuracy: 0.9864 - val_loss: 0.1402 - val_accuracy: 0.9665\n",
      "Epoch 34/60\n",
      "228/228 [==============================] - 14s 60ms/step - loss: 0.0448 - accuracy: 0.9851 - val_loss: 0.1463 - val_accuracy: 0.9649\n",
      "Epoch 35/60\n",
      "228/228 [==============================] - 14s 60ms/step - loss: 0.0401 - accuracy: 0.9865 - val_loss: 0.1362 - val_accuracy: 0.9682\n",
      "Epoch 36/60\n",
      "228/228 [==============================] - 14s 60ms/step - loss: 0.0336 - accuracy: 0.9884 - val_loss: 0.1367 - val_accuracy: 0.9646\n",
      "Epoch 37/60\n",
      "228/228 [==============================] - 14s 60ms/step - loss: 0.0317 - accuracy: 0.9886 - val_loss: 0.1490 - val_accuracy: 0.9666\n",
      "Epoch 38/60\n",
      "228/228 [==============================] - 14s 60ms/step - loss: 0.0386 - accuracy: 0.9865 - val_loss: 0.1686 - val_accuracy: 0.9606\n",
      "Epoch 39/60\n",
      "228/228 [==============================] - 14s 60ms/step - loss: 0.0419 - accuracy: 0.9860 - val_loss: 0.1505 - val_accuracy: 0.9654\n",
      "Epoch 40/60\n",
      "228/228 [==============================] - 14s 60ms/step - loss: 0.0327 - accuracy: 0.9884 - val_loss: 0.1436 - val_accuracy: 0.9663\n",
      "Epoch 41/60\n",
      "228/228 [==============================] - 14s 60ms/step - loss: 0.0340 - accuracy: 0.9883 - val_loss: 0.1487 - val_accuracy: 0.9654\n",
      "Epoch 42/60\n",
      "228/228 [==============================] - 14s 60ms/step - loss: 0.0331 - accuracy: 0.9883 - val_loss: 0.1587 - val_accuracy: 0.9649\n",
      "Epoch 43/60\n",
      "228/228 [==============================] - 14s 60ms/step - loss: 0.0359 - accuracy: 0.9874 - val_loss: 0.1776 - val_accuracy: 0.9575\n",
      "Epoch 44/60\n",
      "228/228 [==============================] - 14s 60ms/step - loss: 0.0308 - accuracy: 0.9893 - val_loss: 0.1520 - val_accuracy: 0.9677\n",
      "Epoch 45/60\n",
      "228/228 [==============================] - 14s 60ms/step - loss: 0.0299 - accuracy: 0.9900 - val_loss: 0.1783 - val_accuracy: 0.9626\n",
      "Epoch 46/60\n",
      "228/228 [==============================] - 14s 60ms/step - loss: 0.0341 - accuracy: 0.9884 - val_loss: 0.1520 - val_accuracy: 0.9699\n",
      "Epoch 47/60\n",
      "228/228 [==============================] - 14s 60ms/step - loss: 0.0286 - accuracy: 0.9904 - val_loss: 0.1377 - val_accuracy: 0.9714\n",
      "Epoch 48/60\n",
      "228/228 [==============================] - 14s 60ms/step - loss: 0.0331 - accuracy: 0.9889 - val_loss: 0.1584 - val_accuracy: 0.9637\n",
      "Epoch 49/60\n",
      "228/228 [==============================] - 14s 60ms/step - loss: 0.0298 - accuracy: 0.9900 - val_loss: 0.1562 - val_accuracy: 0.9663\n",
      "Epoch 50/60\n",
      "228/228 [==============================] - 14s 60ms/step - loss: 0.0300 - accuracy: 0.9895 - val_loss: 0.1482 - val_accuracy: 0.9674\n",
      "Epoch 51/60\n",
      "228/228 [==============================] - 14s 60ms/step - loss: 0.0259 - accuracy: 0.9907 - val_loss: 0.1721 - val_accuracy: 0.9657\n",
      "Epoch 52/60\n",
      "228/228 [==============================] - 14s 60ms/step - loss: 0.0294 - accuracy: 0.9897 - val_loss: 0.1656 - val_accuracy: 0.9637\n",
      "Epoch 53/60\n",
      "228/228 [==============================] - 14s 60ms/step - loss: 0.0284 - accuracy: 0.9907 - val_loss: 0.1819 - val_accuracy: 0.9589\n",
      "Epoch 54/60\n",
      "228/228 [==============================] - 14s 60ms/step - loss: 0.0307 - accuracy: 0.9896 - val_loss: 0.1796 - val_accuracy: 0.9628\n",
      "Epoch 55/60\n",
      "228/228 [==============================] - 14s 60ms/step - loss: 0.0286 - accuracy: 0.9909 - val_loss: 0.1741 - val_accuracy: 0.9640\n",
      "Epoch 56/60\n",
      "228/228 [==============================] - 14s 60ms/step - loss: 0.0297 - accuracy: 0.9899 - val_loss: 0.1501 - val_accuracy: 0.9693\n",
      "Epoch 57/60\n"
     ]
    },
    {
     "name": "stdout",
     "output_type": "stream",
     "text": [
      "228/228 [==============================] - 14s 60ms/step - loss: 0.0215 - accuracy: 0.9924 - val_loss: 0.1750 - val_accuracy: 0.9690\n",
      "Epoch 58/60\n",
      "228/228 [==============================] - 14s 60ms/step - loss: 0.0265 - accuracy: 0.9911 - val_loss: 0.1610 - val_accuracy: 0.9648\n",
      "Epoch 59/60\n",
      "228/228 [==============================] - 14s 60ms/step - loss: 0.0277 - accuracy: 0.9909 - val_loss: 0.1685 - val_accuracy: 0.9651\n",
      "Epoch 60/60\n",
      "228/228 [==============================] - 14s 60ms/step - loss: 0.0278 - accuracy: 0.9901 - val_loss: 0.1582 - val_accuracy: 0.9677\n"
     ]
    },
    {
     "data": {
      "text/plain": [
       "<tensorflow.python.keras.callbacks.History at 0x1269b69f4c8>"
      ]
     },
     "execution_count": 12,
     "metadata": {},
     "output_type": "execute_result"
    }
   ],
   "source": [
    "model.fit(x=[X_accel_train, X_meta_train], y=y_train, \n",
    "         batch_size=batch_size, epochs=epochs, verbose=1, \n",
    "         validation_data=([X_accel_valid, X_meta_valid], y_valid), \n",
    "          callbacks=[modelcheckpoint])\n"
   ]
  },
  {
   "cell_type": "code",
   "execution_count": 13,
   "metadata": {},
   "outputs": [],
   "source": [
    "# results log:\n",
    "#lst2 = lst1  = 128, drop 0.1 epoch 50 97.04\n",
    "#lst2(bidirectional) =64  No lstm1, drop 0.05 epoch 47 97.14\n"
   ]
  },
  {
   "cell_type": "markdown",
   "metadata": {
    "colab_type": "text",
    "id": "7PWlH5SJ8JmP"
   },
   "source": [
    "#### Evaluate"
   ]
  },
  {
   "cell_type": "code",
   "execution_count": 31,
   "metadata": {
    "colab": {},
    "colab_type": "code",
    "id": "z8t0nVCw8JmP"
   },
   "outputs": [],
   "source": [
    "model.load_weights(output_dir+\"/weights.47.hdf5\")"
   ]
  },
  {
   "cell_type": "code",
   "execution_count": 32,
   "metadata": {
    "colab": {},
    "colab_type": "code",
    "id": "kZwGk5dR8JmS"
   },
   "outputs": [],
   "source": [
    "y_hat = model.predict([X_accel_valid, X_meta_valid])"
   ]
  },
  {
   "cell_type": "code",
   "execution_count": 33,
   "metadata": {
    "colab": {},
    "colab_type": "code",
    "id": "EPc5_h6K8JmW",
    "outputId": "cad99da9-9f89-437f-854b-a315616ed50f"
   },
   "outputs": [
    {
     "data": {
      "text/plain": [
       "6476"
      ]
     },
     "execution_count": 33,
     "metadata": {},
     "output_type": "execute_result"
    }
   ],
   "source": [
    "len(y_hat)"
   ]
  },
  {
   "cell_type": "code",
   "execution_count": 34,
   "metadata": {
    "colab": {},
    "colab_type": "code",
    "id": "E_GNq-R_8JmZ",
    "outputId": "0fc16efe-7739-4394-f1a3-46da92e79584"
   },
   "outputs": [
    {
     "data": {
      "text/plain": [
       "array([6.1370729e-06, 1.0211506e-06, 1.8552441e-07, 1.8784079e-09,\n",
       "       2.0428386e-05, 9.9997222e-01], dtype=float32)"
      ]
     },
     "execution_count": 34,
     "metadata": {},
     "output_type": "execute_result"
    }
   ],
   "source": [
    "y_hat[0]"
   ]
  },
  {
   "cell_type": "code",
   "execution_count": 35,
   "metadata": {
    "colab": {},
    "colab_type": "code",
    "id": "SFqRQ5XB8Jmc",
    "outputId": "a957fbed-92f8-4bdd-d24b-5df3361a8bac"
   },
   "outputs": [
    {
     "data": {
      "text/plain": [
       "array([0, 0, 0, 0, 0, 1])"
      ]
     },
     "execution_count": 35,
     "metadata": {},
     "output_type": "execute_result"
    }
   ],
   "source": [
    "y_valid[0]"
   ]
  },
  {
   "cell_type": "code",
   "execution_count": 36,
   "metadata": {
    "colab": {},
    "colab_type": "code",
    "id": "FTWf6Cf-8Jme",
    "outputId": "1256b170-33dc-4171-f2ff-7a3d7ddd74e3"
   },
   "outputs": [
    {
     "data": {
      "image/png": "[encoded data removed]",
      "text/plain": [
       "<Figure size 432x288 with 1 Axes>"
      ]
     },
     "metadata": {
      "needs_background": "light"
     },
     "output_type": "display_data"
    }
   ],
   "source": [
    "plt.hist(y_hat)\n",
    "_ = plt.axvline(x=0.5, color='orange')"
   ]
  },
  {
   "cell_type": "code",
   "execution_count": 37,
   "metadata": {
    "colab": {},
    "colab_type": "code",
    "id": "RNljSx3v8Jmh"
   },
   "outputs": [],
   "source": [
    "pct_auc = roc_auc_score(y_valid, y_hat)*100.0"
   ]
  },
  {
   "cell_type": "code",
   "execution_count": 38,
   "metadata": {
    "colab": {},
    "colab_type": "code",
    "id": "SO_N9lJG8Jmj",
    "outputId": "20968a52-8ca0-44d3-abf6-a1382bba5cde"
   },
   "outputs": [
    {
     "data": {
      "text/plain": [
       "'99.84'"
      ]
     },
     "execution_count": 38,
     "metadata": {},
     "output_type": "execute_result"
    }
   ],
   "source": [
    "\"{:0.2f}\".format(pct_auc)"
   ]
  },
  {
   "cell_type": "code",
   "execution_count": 39,
   "metadata": {
    "colab": {},
    "colab_type": "code",
    "id": "vU3hnA298Jmo"
   },
   "outputs": [],
   "source": [
    "float_y_hat = []\n",
    "for y in y_hat:\n",
    "    float_y_hat.append(y[0])"
   ]
  },
  {
   "cell_type": "code",
   "execution_count": 40,
   "metadata": {
    "colab": {},
    "colab_type": "code",
    "id": "zrTf-aQl8Jmr"
   },
   "outputs": [],
   "source": [
    "ydf = pd.DataFrame(list(zip(float_y_hat, y_valid)), columns=['y_hat', 'y'])"
   ]
  },
  {
   "cell_type": "code",
   "execution_count": 41,
   "metadata": {
    "colab": {},
    "colab_type": "code",
    "id": "zAyKh_mX8Jmu",
    "outputId": "611224b8-f980-47df-d596-9aa3a5811009"
   },
   "outputs": [
    {
     "data": {
      "text/html": [
       "<div>\n",
       "<style scoped>\n",
       "    .dataframe tbody tr th:only-of-type {\n",
       "        vertical-align: middle;\n",
       "    }\n",
       "\n",
       "    .dataframe tbody tr th {\n",
       "        vertical-align: top;\n",
       "    }\n",
       "\n",
       "    .dataframe thead th {\n",
       "        text-align: right;\n",
       "    }\n",
       "</style>\n",
       "<table border=\"1\" class=\"dataframe\">\n",
       "  <thead>\n",
       "    <tr style=\"text-align: right;\">\n",
       "      <th></th>\n",
       "      <th>y_hat</th>\n",
       "      <th>y</th>\n",
       "    </tr>\n",
       "  </thead>\n",
       "  <tbody>\n",
       "    <tr>\n",
       "      <th>0</th>\n",
       "      <td>6.137073e-06</td>\n",
       "      <td>[0, 0, 0, 0, 0, 1]</td>\n",
       "    </tr>\n",
       "    <tr>\n",
       "      <th>1</th>\n",
       "      <td>6.092322e-16</td>\n",
       "      <td>[0, 0, 1, 0, 0, 0]</td>\n",
       "    </tr>\n",
       "    <tr>\n",
       "      <th>2</th>\n",
       "      <td>5.026589e-16</td>\n",
       "      <td>[0, 1, 0, 0, 0, 0]</td>\n",
       "    </tr>\n",
       "    <tr>\n",
       "      <th>3</th>\n",
       "      <td>1.000000e+00</td>\n",
       "      <td>[1, 0, 0, 0, 0, 0]</td>\n",
       "    </tr>\n",
       "    <tr>\n",
       "      <th>4</th>\n",
       "      <td>5.489146e-10</td>\n",
       "      <td>[0, 1, 0, 0, 0, 0]</td>\n",
       "    </tr>\n",
       "    <tr>\n",
       "      <th>5</th>\n",
       "      <td>6.877339e-04</td>\n",
       "      <td>[0, 0, 0, 0, 0, 1]</td>\n",
       "    </tr>\n",
       "    <tr>\n",
       "      <th>6</th>\n",
       "      <td>2.487883e-19</td>\n",
       "      <td>[0, 0, 0, 1, 0, 0]</td>\n",
       "    </tr>\n",
       "    <tr>\n",
       "      <th>7</th>\n",
       "      <td>5.126530e-04</td>\n",
       "      <td>[0, 1, 0, 0, 0, 0]</td>\n",
       "    </tr>\n",
       "    <tr>\n",
       "      <th>8</th>\n",
       "      <td>9.999896e-01</td>\n",
       "      <td>[1, 0, 0, 0, 0, 0]</td>\n",
       "    </tr>\n",
       "    <tr>\n",
       "      <th>9</th>\n",
       "      <td>2.025079e-05</td>\n",
       "      <td>[0, 1, 0, 0, 0, 0]</td>\n",
       "    </tr>\n",
       "  </tbody>\n",
       "</table>\n",
       "</div>"
      ],
      "text/plain": [
       "          y_hat                   y\n",
       "0  6.137073e-06  [0, 0, 0, 0, 0, 1]\n",
       "1  6.092322e-16  [0, 0, 1, 0, 0, 0]\n",
       "2  5.026589e-16  [0, 1, 0, 0, 0, 0]\n",
       "3  1.000000e+00  [1, 0, 0, 0, 0, 0]\n",
       "4  5.489146e-10  [0, 1, 0, 0, 0, 0]\n",
       "5  6.877339e-04  [0, 0, 0, 0, 0, 1]\n",
       "6  2.487883e-19  [0, 0, 0, 1, 0, 0]\n",
       "7  5.126530e-04  [0, 1, 0, 0, 0, 0]\n",
       "8  9.999896e-01  [1, 0, 0, 0, 0, 0]\n",
       "9  2.025079e-05  [0, 1, 0, 0, 0, 0]"
      ]
     },
     "execution_count": 41,
     "metadata": {},
     "output_type": "execute_result"
    }
   ],
   "source": [
    "ydf.head(10)\n"
   ]
  },
  {
   "cell_type": "code",
   "execution_count": 42,
   "metadata": {},
   "outputs": [
    {
     "data": {
      "text/plain": [
       "array([[6.13707289e-06, 1.02115064e-06, 1.85524414e-07, 1.87840787e-09,\n",
       "        2.04283861e-05, 9.99972224e-01],\n",
       "       [6.09232153e-16, 6.71116426e-11, 1.00000000e+00, 7.20314031e-09,\n",
       "        6.76456097e-15, 2.28756857e-12],\n",
       "       [5.02658944e-16, 1.00000000e+00, 4.26611741e-12, 1.57904527e-17,\n",
       "        8.64906782e-15, 2.21803522e-14],\n",
       "       ...,\n",
       "       [2.78774479e-07, 2.08926099e-09, 5.18724505e-07, 5.83217627e-07,\n",
       "        1.00317810e-10, 9.99998569e-01],\n",
       "       [9.99997973e-01, 6.04058294e-14, 5.40567851e-12, 1.97348413e-06,\n",
       "        1.53466984e-09, 1.21230972e-08],\n",
       "       [9.99997735e-01, 8.59560429e-14, 7.67367246e-12, 2.21563346e-06,\n",
       "        1.72839021e-09, 1.13657865e-08]], dtype=float32)"
      ]
     },
     "execution_count": 42,
     "metadata": {},
     "output_type": "execute_result"
    }
   ],
   "source": [
    "# cf_matrix = confusion_matrix(y_valid, y_hat)\n",
    "# print(cf_matrix) # doesn't work coz we have probability not class\n",
    "y_hat"
   ]
  },
  {
   "cell_type": "code",
   "execution_count": 43,
   "metadata": {},
   "outputs": [],
   "source": [
    "# convert probability to class\n",
    "y_pred_class = np.argmax(y_hat, axis=1)\n",
    "y_class = np.argmax(y_valid, axis = 1)"
   ]
  },
  {
   "cell_type": "code",
   "execution_count": 44,
   "metadata": {},
   "outputs": [
    {
     "data": {
      "text/plain": [
       "'97.05'"
      ]
     },
     "execution_count": 44,
     "metadata": {},
     "output_type": "execute_result"
    }
   ],
   "source": [
    "from sklearn.metrics import  accuracy_score as score\n",
    "# y_pred_classes = y_hat.round()\n",
    "# print(y_valid[0], y_hat[0], y_pred_classes[0])\n",
    "# acc = score(y_valid, y_pred_classes) * 100\n",
    "# acc\n",
    "\n",
    "y_pred_classes = y_hat.round()\n",
    "acc = score(y_valid, y_pred_classes) * 100\n",
    "\"{:0.2f}\".format(acc)"
   ]
  },
  {
   "cell_type": "code",
   "execution_count": 45,
   "metadata": {},
   "outputs": [
    {
     "data": {
      "text/plain": [
       "array([[1390,    9,    2,    2,   11,   13],\n",
       "       [  10, 1034,    3,    0,   13,    4],\n",
       "       [   3,    7, 1091,    7,    4,    2],\n",
       "       [   4,    9,   21, 1043,    5,    5],\n",
       "       [   2,   15,    2,    2,  779,    5],\n",
       "       [  13,    1,    6,    0,    5,  954]], dtype=int64)"
      ]
     },
     "execution_count": 45,
     "metadata": {},
     "output_type": "execute_result"
    },
    {
     "data": {
      "image/png": "[encoded data removed]",
      "text/plain": [
       "<Figure size 432x288 with 2 Axes>"
      ]
     },
     "metadata": {
      "needs_background": "light"
     },
     "output_type": "display_data"
    }
   ],
   "source": [
    "cf_matrix = confusion_matrix(y_class, y_pred_class, labels=range(6))\n",
    "import seaborn as sns\n",
    "sns.heatmap(cf_matrix, annot=True, fmt = '1', xticklabels=class_list, yticklabels=class_list, cmap='ocean')\n",
    "cf_matrix"
   ]
  },
  {
   "cell_type": "markdown",
   "metadata": {},
   "source": [
    "Reorder columns and rows and plot a pretty confucion matrix, thanks to [Wagner Cipriano\n",
    "](https://github.com/wcipriano/pretty-print-confusion-matrix)"
   ]
  },
  {
   "cell_type": "code",
   "execution_count": 46,
   "metadata": {},
   "outputs": [],
   "source": [
    "confusion_matrix_df = pd.DataFrame(cf_matrix, index=class_list, columns=class_list)\n",
    "confusion_matrix_df = confusion_matrix_df[['Lying','Sitting', 'Self Pace walk', 'Running 3 METs','Running 5 METs', 'Running 7 METs']]\n",
    "confusion_matrix_df = confusion_matrix_df.reindex(['Lying', 'Sitting', 'Self Pace walk', 'Running 3 METs','Running 5 METs', 'Running 7 METs'])"
   ]
  },
  {
   "cell_type": "code",
   "execution_count": 47,
   "metadata": {},
   "outputs": [
    {
     "data": {
      "image/png": "[encoded data removed]",
      "text/plain": [
       "<Figure size 864x864 with 2 Axes>"
      ]
     },
     "metadata": {
      "needs_background": "light"
     },
     "output_type": "display_data"
    }
   ],
   "source": [
    "import prettyconfusion as pf\n",
    "pf.pretty_plot_confusion_matrix(confusion_matrix_df,cmap='PuBuGn', cbar='oranges'\n",
    "                                ,fz = 13, lw=1, figsize=[12,12])"
   ]
  },
  {
   "cell_type": "code",
   "execution_count": null,
   "metadata": {},
   "outputs": [],
   "source": []
  },
  {
   "cell_type": "code",
   "execution_count": null,
   "metadata": {},
   "outputs": [],
   "source": []
  }
 ],
 "metadata": {
  "colab": {
   "include_colab_link": true,
   "name": "dense_sentiment_classifier.ipynb",
   "provenance": []
  },
  "kernelspec": {
   "display_name": "Python 3",
   "language": "python",
   "name": "python3"
  },
  "language_info": {
   "codemirror_mode": {
    "name": "ipython",
    "version": 3
   },
   "file_extension": ".py",
   "mimetype": "text/x-python",
   "name": "python",
   "nbconvert_exporter": "python",
   "pygments_lexer": "ipython3",
   "version": "3.7.9"
  }
 },
 "nbformat": 4,
 "nbformat_minor": 1
}
