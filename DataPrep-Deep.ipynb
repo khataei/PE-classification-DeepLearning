{
 "cells": [
  {
   "cell_type": "markdown",
   "metadata": {},
   "source": [
    "# This notebook prepares the data for NN models.\n",
    "#### Clean the start and the end of each activity session\n",
    "#### Select important columns and one hot encoding\n",
    "#### Break down to shorter time periods\n",
    "#### Encode output and shuffle the data\n"
   ]
  },
  {
   "cell_type": "markdown",
   "metadata": {},
   "source": [
    "Data frame vocabulary:\n",
    "- *df* = the raw csv dataframe\n",
    "- *df_clean* = final cleaned and processed dataframe\n",
    "- *df_level* = df for each activity level\n",
    "- *df_level_clean* = clean version of df_level\n",
    "- *df_temp* = a helper dtaframe to store temporary data for each participant and each level\n",
    "    "
   ]
  },
  {
   "cell_type": "code",
   "execution_count": 1,
   "metadata": {},
   "outputs": [],
   "source": [
    "import pandas as pd"
   ]
  },
  {
   "cell_type": "code",
   "execution_count": 2,
   "metadata": {},
   "outputs": [],
   "source": [
    "input_dir =  'Z:/Research/dfuller/Walkabilly/studies/smarphone_accel/data/Ethica_Jaeger_Merged/pocket/'\n",
    "input_file_name = 'pocket_with_couns_and_vec_meg_30Hz.csv'\n"
   ]
  },
  {
   "cell_type": "code",
   "execution_count": 3,
   "metadata": {},
   "outputs": [],
   "source": [
    "df = pd.read_csv(input_dir + input_file_name)"
   ]
  },
  {
   "cell_type": "markdown",
   "metadata": {},
   "source": [
    "Break it down to several CSV file, Lying, Sitting, Walking, Running3, Running5, Running7\n",
    "Keep Gender, weight and height\n"
   ]
  },
  {
   "cell_type": "code",
   "execution_count": 13,
   "metadata": {},
   "outputs": [],
   "source": [
    "participant_list = df.participant_id.unique()"
   ]
  },
  {
   "cell_type": "code",
   "execution_count": null,
   "metadata": {},
   "outputs": [],
   "source": [
    "# select important columns, x, y, z, height, weight, age, gender, also participant_id for cleaning. remove it later\n",
    "df = df['x_axis','y_axis','z_axis','participant_id','trimmed_activity','height','weight','age','gender']"
   ]
  },
  {
   "cell_type": "code",
   "execution_count": 39,
   "metadata": {},
   "outputs": [
    {
     "name": "stderr",
     "output_type": "stream",
     "text": [
      "C:\\Users\\dfuller\\AppData\\Local\\Continuum\\anaconda3\\lib\\site-packages\\ipykernel_launcher.py:2: SettingWithCopyWarning: \n",
      "A value is trying to be set on a copy of a slice from a DataFrame\n",
      "\n",
      "See the caveats in the documentation: http://pandas.pydata.org/pandas-docs/stable/indexing.html#indexing-view-versus-copy\n",
      "  \n",
      "C:\\Users\\dfuller\\AppData\\Local\\Continuum\\anaconda3\\lib\\site-packages\\ipykernel_launcher.py:3: SettingWithCopyWarning: \n",
      "A value is trying to be set on a copy of a slice from a DataFrame\n",
      "\n",
      "See the caveats in the documentation: http://pandas.pydata.org/pandas-docs/stable/indexing.html#indexing-view-versus-copy\n",
      "  This is separate from the ipykernel package so we can avoid doing imports until\n"
     ]
    }
   ],
   "source": [
    "# change gender to dummy\n",
    "df.gender[df['gender']=='Female'] = 0\n",
    "df.gender[df['gender']=='Male'] = 1"
   ]
  },
  {
   "cell_type": "code",
   "execution_count": 41,
   "metadata": {},
   "outputs": [
    {
     "data": {
      "text/html": [
       "<div>\n",
       "<style scoped>\n",
       "    .dataframe tbody tr th:only-of-type {\n",
       "        vertical-align: middle;\n",
       "    }\n",
       "\n",
       "    .dataframe tbody tr th {\n",
       "        vertical-align: top;\n",
       "    }\n",
       "\n",
       "    .dataframe thead th {\n",
       "        text-align: right;\n",
       "    }\n",
       "</style>\n",
       "<table border=\"1\" class=\"dataframe\">\n",
       "  <thead>\n",
       "    <tr style=\"text-align: right;\">\n",
       "      <th></th>\n",
       "      <th>record_time</th>\n",
       "      <th>x_axis</th>\n",
       "      <th>y_axis</th>\n",
       "      <th>z_axis</th>\n",
       "      <th>participant_id</th>\n",
       "      <th>wear_location</th>\n",
       "      <th>V.O2</th>\n",
       "      <th>VO2.kg</th>\n",
       "      <th>V.CO2</th>\n",
       "      <th>V.E</th>\n",
       "      <th>trimmed_activity</th>\n",
       "      <th>height</th>\n",
       "      <th>weight</th>\n",
       "      <th>age</th>\n",
       "      <th>gender</th>\n",
       "      <th>x</th>\n",
       "      <th>y</th>\n",
       "      <th>z</th>\n",
       "      <th>counts_vec_mag</th>\n",
       "    </tr>\n",
       "  </thead>\n",
       "  <tbody>\n",
       "    <tr>\n",
       "      <th>0</th>\n",
       "      <td>2019-01-07T10:30:01Z</td>\n",
       "      <td>0.266111</td>\n",
       "      <td>-0.069464</td>\n",
       "      <td>0.966880</td>\n",
       "      <td>108</td>\n",
       "      <td>pock</td>\n",
       "      <td>NaN</td>\n",
       "      <td>NaN</td>\n",
       "      <td>NaN</td>\n",
       "      <td>NaN</td>\n",
       "      <td>Lying</td>\n",
       "      <td>164.0</td>\n",
       "      <td>68.0</td>\n",
       "      <td>30</td>\n",
       "      <td>0</td>\n",
       "      <td>13.0</td>\n",
       "      <td>0.0</td>\n",
       "      <td>73.0</td>\n",
       "      <td>74.1485</td>\n",
       "    </tr>\n",
       "    <tr>\n",
       "      <th>1</th>\n",
       "      <td>2019-01-07T10:30:01.033300Z</td>\n",
       "      <td>0.266401</td>\n",
       "      <td>-0.069351</td>\n",
       "      <td>0.963832</td>\n",
       "      <td>108</td>\n",
       "      <td>pock</td>\n",
       "      <td>NaN</td>\n",
       "      <td>NaN</td>\n",
       "      <td>NaN</td>\n",
       "      <td>NaN</td>\n",
       "      <td>Lying</td>\n",
       "      <td>164.0</td>\n",
       "      <td>68.0</td>\n",
       "      <td>30</td>\n",
       "      <td>0</td>\n",
       "      <td>NaN</td>\n",
       "      <td>NaN</td>\n",
       "      <td>NaN</td>\n",
       "      <td>74.1485</td>\n",
       "    </tr>\n",
       "    <tr>\n",
       "      <th>2</th>\n",
       "      <td>2019-01-07T10:30:01.066700Z</td>\n",
       "      <td>0.262441</td>\n",
       "      <td>-0.067394</td>\n",
       "      <td>0.943335</td>\n",
       "      <td>108</td>\n",
       "      <td>pock</td>\n",
       "      <td>NaN</td>\n",
       "      <td>NaN</td>\n",
       "      <td>NaN</td>\n",
       "      <td>NaN</td>\n",
       "      <td>Lying</td>\n",
       "      <td>164.0</td>\n",
       "      <td>68.0</td>\n",
       "      <td>30</td>\n",
       "      <td>0</td>\n",
       "      <td>NaN</td>\n",
       "      <td>NaN</td>\n",
       "      <td>NaN</td>\n",
       "      <td>74.1485</td>\n",
       "    </tr>\n",
       "  </tbody>\n",
       "</table>\n",
       "</div>"
      ],
      "text/plain": [
       "                   record_time    x_axis    y_axis    z_axis  participant_id  \\\n",
       "0         2019-01-07T10:30:01Z  0.266111 -0.069464  0.966880             108   \n",
       "1  2019-01-07T10:30:01.033300Z  0.266401 -0.069351  0.963832             108   \n",
       "2  2019-01-07T10:30:01.066700Z  0.262441 -0.067394  0.943335             108   \n",
       "\n",
       "  wear_location  V.O2  VO2.kg  V.CO2  V.E trimmed_activity  height  weight  \\\n",
       "0          pock   NaN     NaN    NaN  NaN            Lying   164.0    68.0   \n",
       "1          pock   NaN     NaN    NaN  NaN            Lying   164.0    68.0   \n",
       "2          pock   NaN     NaN    NaN  NaN            Lying   164.0    68.0   \n",
       "\n",
       "   age gender     x    y     z  counts_vec_mag  \n",
       "0   30      0  13.0  0.0  73.0         74.1485  \n",
       "1   30      0   NaN  NaN   NaN         74.1485  \n",
       "2   30      0   NaN  NaN   NaN         74.1485  "
      ]
     },
     "execution_count": 41,
     "metadata": {},
     "output_type": "execute_result"
    }
   ],
   "source": [
    "df.head(3)"
   ]
  },
  {
   "cell_type": "code",
   "execution_count": 6,
   "metadata": {},
   "outputs": [],
   "source": [
    "#df_L = df[df['trimmed_activity'] == 'Lying']"
   ]
  },
  {
   "cell_type": "markdown",
   "metadata": {},
   "source": [
    "##### Get rid of the first and last 20 Seconds for avoiding noise"
   ]
  },
  {
   "cell_type": "code",
   "execution_count": null,
   "metadata": {},
   "outputs": [],
   "source": [
    "# n_ignore = 600 # ignores 20 sec with a frequency of 30 Hz\n",
    "\n",
    "# for partip in participant_list:\n",
    "#     df_temp = df_L[df_L['participant_id'] == partip]\n",
    "#     df_temp_nrow = df_temp.shape[0]\n",
    "#     df_temp = df_temp[n_ignore:df_temp_nrow-n_ignore]\n",
    "#     df_sub_clean = pd.concat(df_sub_clean, df_temp)\n",
    "\n",
    "# # the first row of sub is zeros    \n",
    "# df_L = df_sub_clean[1:,]\n",
    "# df_L = df_L.drop('participant_id', axis = 1)\n",
    "\n",
    "    "
   ]
  },
  {
   "cell_type": "code",
   "execution_count": 54,
   "metadata": {},
   "outputs": [],
   "source": [
    "# list(df.columns)"
   ]
  },
  {
   "cell_type": "code",
   "execution_count": 52,
   "metadata": {},
   "outputs": [],
   "source": [
    "# repeat for all PE levels \n",
    "\n",
    "# get levels to loop thru\n",
    "PE_levels = df.trimmed_activity.unique()\n",
    "\n",
    "# see dataframe vocabulary\n",
    "# ceate empty df\n",
    "df_clean = df.iloc[0,].copy()\n",
    "df_clean = x.replace(df_clean,0)\n",
    "\n",
    "for level in PE_levels:\n",
    "    df_level = df[df['trimmed_activity'] == level]\n",
    "    df_level_clean = df.iloc[0,].copy()\n",
    "    df_level_clean = x.replace(df_level_clean,0)\n",
    "\n",
    "    \n",
    "    n_ignore = 600 # ignores 20 sec with a frequency of 30 Hz\n",
    "\n",
    "    for partip in participant_list:\n",
    "        df_temp = df_level[df_level['participant_id'] == partip]\n",
    "        df_temp_nrow = df_temp.shape[0]\n",
    "        df_temp = df_temp[n_ignore:df_temp_nrow-n_ignore]\n",
    "        df_level_clean = pd.concat(df_level_clean, df_temp)\n",
    "\n",
    "    # the first row of this df is zeros    \n",
    "    df_level_clean = df_level_clean[1:,]\n",
    "    df_clean = pd.concat(df_clean, df_level_clean)\n",
    "\n",
    "# the first row of this df is zeros    \n",
    "df_clean = df_clean[1:,]  \n",
    "df_clean = df_clean.drop('participant_id', axis = 1)\n",
    "    "
   ]
  },
  {
   "cell_type": "code",
   "execution_count": 17,
   "metadata": {},
   "outputs": [],
   "source": [
    "# break into 150(use a variable) readings chunks by adding a helper column\n",
    "# spread based on the helper column\n",
    "# bind all the files of different levels\n",
    "# export as the final output"
   ]
  },
  {
   "cell_type": "code",
   "execution_count": 18,
   "metadata": {},
   "outputs": [],
   "source": [
    "# before training\n",
    "# suffle\n",
    "# Seperate to x and y (y is the levels)\n",
    "# one hot encode y"
   ]
  },
  {
   "cell_type": "code",
   "execution_count": null,
   "metadata": {},
   "outputs": [],
   "source": []
  }
 ],
 "metadata": {
  "kernelspec": {
   "display_name": "Python 3",
   "language": "python",
   "name": "python3"
  },
  "language_info": {
   "codemirror_mode": {
    "name": "ipython",
    "version": 3
   },
   "file_extension": ".py",
   "mimetype": "text/x-python",
   "name": "python",
   "nbconvert_exporter": "python",
   "pygments_lexer": "ipython3",
   "version": "3.7.3"
  }
 },
 "nbformat": 4,
 "nbformat_minor": 2
}
